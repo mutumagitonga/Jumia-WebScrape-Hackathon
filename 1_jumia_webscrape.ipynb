{
 "cells": [
  {
   "cell_type": "markdown",
   "source": [
    "# Scraping Jumia Ecommerce Site: DSE HACKATHON"
   ],
   "metadata": {
    "collapsed": false
   },
   "id": "535c85fadfa6dbbb"
  },
  {
   "cell_type": "markdown",
   "source": [
    "## Import libraries"
   ],
   "metadata": {
    "collapsed": false
   },
   "id": "3e3f34666872e52c"
  },
  {
   "cell_type": "code",
   "outputs": [],
   "source": [
    "import requests as req\n",
    "from bs4 import BeautifulSoup\n",
    "import pandas as pd\n",
    "import time"
   ],
   "metadata": {
    "collapsed": false,
    "ExecuteTime": {
     "end_time": "2024-02-19T18:15:53.422663479Z",
     "start_time": "2024-02-19T18:15:53.077187861Z"
    }
   },
   "id": "2322241c28235713",
   "execution_count": 318
  },
  {
   "cell_type": "markdown",
   "source": [
    "## Define function to fetch website html data"
   ],
   "metadata": {
    "collapsed": false
   },
   "id": "8574b51e2782a8f0"
  },
  {
   "cell_type": "code",
   "outputs": [],
   "source": [
    "def fetch_html_data(web_address):\n",
    "    try:\n",
    "        print(f\"\\nFetching data from {web_address}...\")\n",
    "        res = req.get(web_address)\n",
    "        return res\n",
    "    except req.exceptions.RequestException as e:\n",
    "        print('Stopped:', e)\n",
    "    except TypeError as e:\n",
    "        print('Stopped:', e)"
   ],
   "metadata": {
    "collapsed": false,
    "ExecuteTime": {
     "end_time": "2024-02-19T18:15:53.450478010Z",
     "start_time": "2024-02-19T18:15:53.407898966Z"
    }
   },
   "id": "9236e42f049c01e4",
   "execution_count": 319
  },
  {
   "cell_type": "markdown",
   "source": [
    "# Define function to convert html data to BeautifulSoup object "
   ],
   "metadata": {
    "collapsed": false
   },
   "id": "6d30a35557ea82c9"
  },
  {
   "cell_type": "code",
   "outputs": [],
   "source": [
    "def convert_web_data_to_beautiful_soup_obj(web_data):\n",
    "    try:\n",
    "        print(\"Creating BeautifulSoup object...\")\n",
    "        soup_obj = BeautifulSoup(web_data.text, \"html.parser\")\n",
    "        print(\"Success! Object created!\")\n",
    "        return soup_obj\n",
    "    except Exception as e:\n",
    "        print(\"Stopped:\", e)"
   ],
   "metadata": {
    "collapsed": false,
    "ExecuteTime": {
     "end_time": "2024-02-19T18:15:53.529591768Z",
     "start_time": "2024-02-19T18:15:53.451785528Z"
    }
   },
   "id": "5b8744ac0a8d1b34",
   "execution_count": 320
  },
  {
   "cell_type": "markdown",
   "source": [
    "### Create array of products on each page, add each to product dictionary & append to array iteratively"
   ],
   "metadata": {
    "collapsed": false
   },
   "id": "955d2f38bd1f9ba5"
  },
  {
   "cell_type": "code",
   "outputs": [],
   "source": [
    "all_products_list = []\n",
    "\n",
    "def append_one_product_details_dictionary_to_list(page):\n",
    "    print(f\"Appending page {page} products' details to array\")\n",
    "    \n",
    "    page_products_details_soup = soup.find_all(\"article\", class_=\"prd _fb col c-prd\")\n",
    "    \n",
    "    for detail in page_products_details_soup:\n",
    "        details_dict = {\"name\": detail.find(\"h3\", class_=\"name\").text.strip(),\n",
    "                        \"new_price\": detail.find(\"div\", class_=\"prc\").text.strip(),\n",
    "                        \"old_price\": detail.find(\"div\", class_=\"old\").text.strip() if detail.find(\"div\", class_=\"old\") else None,\n",
    "                        \"discount\": detail.find(\"div\", class_=\"bdg _dsct _sm\").text.strip() if detail.find(\"div\", class_=\"bdg _dsct _sm\") else None,\n",
    "                        \"rating\": detail.find(\"div\", class_=\"stars _s\").text.strip() if detail.find(\"div\", class_=\"stars _s\") else None,\n",
    "                        \"votes\": detail.find(\"div\", class_=\"rev\").text.strip() if detail.find(\"div\", class_=\"rev\") else None}\n",
    "        all_products_list.append(details_dict)\n",
    "\n",
    "\n",
    "# len(product_details_clean)"
   ],
   "metadata": {
    "collapsed": false,
    "ExecuteTime": {
     "end_time": "2024-02-19T18:15:53.593294834Z",
     "start_time": "2024-02-19T18:15:53.530011579Z"
    }
   },
   "id": "fd4498e7166a1627",
   "execution_count": 321
  },
  {
   "cell_type": "markdown",
   "source": [
    "### Declare the products' url & the total webpage count"
   ],
   "metadata": {
    "collapsed": false
   },
   "id": "6177d56f182e4274"
  },
  {
   "cell_type": "code",
   "outputs": [],
   "source": [
    "other_pages_url = \"https://www.jumia.co.ke/all-products/?page=\"\n",
    "webpage_num_total = 50"
   ],
   "metadata": {
    "collapsed": false,
    "ExecuteTime": {
     "end_time": "2024-02-19T18:15:53.702307567Z",
     "start_time": "2024-02-19T18:15:53.592866627Z"
    }
   },
   "id": "a60a13ad89d3d873",
   "execution_count": 322
  },
  {
   "cell_type": "markdown",
   "source": [
    "### Fetch webdata, convert to BeautifulSoup Object, add product details dictionary to list"
   ],
   "metadata": {
    "collapsed": false
   },
   "id": "63e09bb6ed3fba7d"
  },
  {
   "cell_type": "code",
   "outputs": [
    {
     "name": "stdout",
     "output_type": "stream",
     "text": [
      "\n",
      "Fetching data from https://www.jumia.co.ke/all-products/?page=1...\n",
      "Creating BeautifulSoup object...\n",
      "Success! Object created!\n",
      "Appending page 1 products' details to array\n",
      "\n",
      "Fetching data from https://www.jumia.co.ke/all-products/?page=2...\n",
      "Creating BeautifulSoup object...\n",
      "Success! Object created!\n",
      "Appending page 2 products' details to array\n",
      "\n",
      "Fetching data from https://www.jumia.co.ke/all-products/?page=3...\n",
      "Creating BeautifulSoup object...\n",
      "Success! Object created!\n",
      "Appending page 3 products' details to array\n",
      "\n",
      "Fetching data from https://www.jumia.co.ke/all-products/?page=4...\n",
      "Creating BeautifulSoup object...\n",
      "Success! Object created!\n",
      "Appending page 4 products' details to array\n",
      "\n",
      "Fetching data from https://www.jumia.co.ke/all-products/?page=5...\n",
      "Creating BeautifulSoup object...\n",
      "Success! Object created!\n",
      "Appending page 5 products' details to array\n",
      "\n",
      "Fetching data from https://www.jumia.co.ke/all-products/?page=6...\n",
      "Creating BeautifulSoup object...\n",
      "Success! Object created!\n",
      "Appending page 6 products' details to array\n",
      "\n",
      "Fetching data from https://www.jumia.co.ke/all-products/?page=7...\n",
      "Creating BeautifulSoup object...\n",
      "Success! Object created!\n",
      "Appending page 7 products' details to array\n",
      "\n",
      "Fetching data from https://www.jumia.co.ke/all-products/?page=8...\n",
      "Creating BeautifulSoup object...\n",
      "Success! Object created!\n",
      "Appending page 8 products' details to array\n",
      "\n",
      "Fetching data from https://www.jumia.co.ke/all-products/?page=9...\n",
      "Creating BeautifulSoup object...\n",
      "Success! Object created!\n",
      "Appending page 9 products' details to array\n",
      "\n",
      "Fetching data from https://www.jumia.co.ke/all-products/?page=10...\n",
      "Creating BeautifulSoup object...\n",
      "Success! Object created!\n",
      "Appending page 10 products' details to array\n",
      "\n",
      "Fetching data from https://www.jumia.co.ke/all-products/?page=11...\n",
      "Creating BeautifulSoup object...\n",
      "Success! Object created!\n",
      "Appending page 11 products' details to array\n",
      "\n",
      "Fetching data from https://www.jumia.co.ke/all-products/?page=12...\n",
      "Creating BeautifulSoup object...\n",
      "Success! Object created!\n",
      "Appending page 12 products' details to array\n",
      "\n",
      "Fetching data from https://www.jumia.co.ke/all-products/?page=13...\n",
      "Creating BeautifulSoup object...\n",
      "Success! Object created!\n",
      "Appending page 13 products' details to array\n",
      "\n",
      "Fetching data from https://www.jumia.co.ke/all-products/?page=14...\n",
      "Creating BeautifulSoup object...\n",
      "Success! Object created!\n",
      "Appending page 14 products' details to array\n",
      "\n",
      "Fetching data from https://www.jumia.co.ke/all-products/?page=15...\n",
      "Creating BeautifulSoup object...\n",
      "Success! Object created!\n",
      "Appending page 15 products' details to array\n",
      "\n",
      "Fetching data from https://www.jumia.co.ke/all-products/?page=16...\n",
      "Creating BeautifulSoup object...\n",
      "Success! Object created!\n",
      "Appending page 16 products' details to array\n",
      "\n",
      "Fetching data from https://www.jumia.co.ke/all-products/?page=17...\n",
      "Creating BeautifulSoup object...\n",
      "Success! Object created!\n",
      "Appending page 17 products' details to array\n",
      "\n",
      "Fetching data from https://www.jumia.co.ke/all-products/?page=18...\n",
      "Creating BeautifulSoup object...\n",
      "Success! Object created!\n",
      "Appending page 18 products' details to array\n",
      "\n",
      "Fetching data from https://www.jumia.co.ke/all-products/?page=19...\n",
      "Creating BeautifulSoup object...\n",
      "Success! Object created!\n",
      "Appending page 19 products' details to array\n",
      "\n",
      "Fetching data from https://www.jumia.co.ke/all-products/?page=20...\n",
      "Creating BeautifulSoup object...\n",
      "Success! Object created!\n",
      "Appending page 20 products' details to array\n",
      "\n",
      "Fetching data from https://www.jumia.co.ke/all-products/?page=21...\n",
      "Creating BeautifulSoup object...\n",
      "Success! Object created!\n",
      "Appending page 21 products' details to array\n",
      "\n",
      "Fetching data from https://www.jumia.co.ke/all-products/?page=22...\n",
      "Creating BeautifulSoup object...\n",
      "Success! Object created!\n",
      "Appending page 22 products' details to array\n",
      "\n",
      "Fetching data from https://www.jumia.co.ke/all-products/?page=23...\n",
      "Creating BeautifulSoup object...\n",
      "Success! Object created!\n",
      "Appending page 23 products' details to array\n",
      "\n",
      "Fetching data from https://www.jumia.co.ke/all-products/?page=24...\n",
      "Creating BeautifulSoup object...\n",
      "Success! Object created!\n",
      "Appending page 24 products' details to array\n",
      "\n",
      "Fetching data from https://www.jumia.co.ke/all-products/?page=25...\n",
      "Creating BeautifulSoup object...\n",
      "Success! Object created!\n",
      "Appending page 25 products' details to array\n",
      "\n",
      "Fetching data from https://www.jumia.co.ke/all-products/?page=26...\n",
      "Creating BeautifulSoup object...\n",
      "Success! Object created!\n",
      "Appending page 26 products' details to array\n",
      "\n",
      "Fetching data from https://www.jumia.co.ke/all-products/?page=27...\n",
      "Creating BeautifulSoup object...\n",
      "Success! Object created!\n",
      "Appending page 27 products' details to array\n",
      "\n",
      "Fetching data from https://www.jumia.co.ke/all-products/?page=28...\n",
      "Creating BeautifulSoup object...\n",
      "Success! Object created!\n",
      "Appending page 28 products' details to array\n",
      "\n",
      "Fetching data from https://www.jumia.co.ke/all-products/?page=29...\n",
      "Creating BeautifulSoup object...\n",
      "Success! Object created!\n",
      "Appending page 29 products' details to array\n",
      "\n",
      "Fetching data from https://www.jumia.co.ke/all-products/?page=30...\n",
      "Creating BeautifulSoup object...\n",
      "Success! Object created!\n",
      "Appending page 30 products' details to array\n",
      "\n",
      "Fetching data from https://www.jumia.co.ke/all-products/?page=31...\n",
      "Creating BeautifulSoup object...\n",
      "Success! Object created!\n",
      "Appending page 31 products' details to array\n",
      "\n",
      "Fetching data from https://www.jumia.co.ke/all-products/?page=32...\n",
      "Creating BeautifulSoup object...\n",
      "Success! Object created!\n",
      "Appending page 32 products' details to array\n",
      "\n",
      "Fetching data from https://www.jumia.co.ke/all-products/?page=33...\n",
      "Creating BeautifulSoup object...\n",
      "Success! Object created!\n",
      "Appending page 33 products' details to array\n",
      "\n",
      "Fetching data from https://www.jumia.co.ke/all-products/?page=34...\n",
      "Creating BeautifulSoup object...\n",
      "Success! Object created!\n",
      "Appending page 34 products' details to array\n",
      "\n",
      "Fetching data from https://www.jumia.co.ke/all-products/?page=35...\n",
      "Creating BeautifulSoup object...\n",
      "Success! Object created!\n",
      "Appending page 35 products' details to array\n",
      "\n",
      "Fetching data from https://www.jumia.co.ke/all-products/?page=36...\n",
      "Creating BeautifulSoup object...\n",
      "Success! Object created!\n",
      "Appending page 36 products' details to array\n",
      "\n",
      "Fetching data from https://www.jumia.co.ke/all-products/?page=37...\n",
      "Creating BeautifulSoup object...\n",
      "Success! Object created!\n",
      "Appending page 37 products' details to array\n",
      "\n",
      "Fetching data from https://www.jumia.co.ke/all-products/?page=38...\n",
      "Creating BeautifulSoup object...\n",
      "Success! Object created!\n",
      "Appending page 38 products' details to array\n",
      "\n",
      "Fetching data from https://www.jumia.co.ke/all-products/?page=39...\n",
      "Creating BeautifulSoup object...\n",
      "Success! Object created!\n",
      "Appending page 39 products' details to array\n",
      "\n",
      "Fetching data from https://www.jumia.co.ke/all-products/?page=40...\n",
      "Creating BeautifulSoup object...\n",
      "Success! Object created!\n",
      "Appending page 40 products' details to array\n",
      "\n",
      "Fetching data from https://www.jumia.co.ke/all-products/?page=41...\n",
      "Creating BeautifulSoup object...\n",
      "Success! Object created!\n",
      "Appending page 41 products' details to array\n",
      "\n",
      "Fetching data from https://www.jumia.co.ke/all-products/?page=42...\n",
      "Creating BeautifulSoup object...\n",
      "Success! Object created!\n",
      "Appending page 42 products' details to array\n",
      "\n",
      "Fetching data from https://www.jumia.co.ke/all-products/?page=43...\n",
      "Creating BeautifulSoup object...\n",
      "Success! Object created!\n",
      "Appending page 43 products' details to array\n",
      "\n",
      "Fetching data from https://www.jumia.co.ke/all-products/?page=44...\n",
      "Creating BeautifulSoup object...\n",
      "Success! Object created!\n",
      "Appending page 44 products' details to array\n",
      "\n",
      "Fetching data from https://www.jumia.co.ke/all-products/?page=45...\n",
      "Creating BeautifulSoup object...\n",
      "Success! Object created!\n",
      "Appending page 45 products' details to array\n",
      "\n",
      "Fetching data from https://www.jumia.co.ke/all-products/?page=46...\n",
      "Creating BeautifulSoup object...\n",
      "Success! Object created!\n",
      "Appending page 46 products' details to array\n",
      "\n",
      "Fetching data from https://www.jumia.co.ke/all-products/?page=47...\n",
      "Creating BeautifulSoup object...\n",
      "Success! Object created!\n",
      "Appending page 47 products' details to array\n",
      "\n",
      "Fetching data from https://www.jumia.co.ke/all-products/?page=48...\n",
      "Creating BeautifulSoup object...\n",
      "Success! Object created!\n",
      "Appending page 48 products' details to array\n",
      "\n",
      "Fetching data from https://www.jumia.co.ke/all-products/?page=49...\n",
      "Creating BeautifulSoup object...\n",
      "Success! Object created!\n",
      "Appending page 49 products' details to array\n",
      "\n",
      "Fetching data from https://www.jumia.co.ke/all-products/?page=50...\n",
      "Creating BeautifulSoup object...\n",
      "Success! Object created!\n",
      "Appending page 50 products' details to array\n"
     ]
    },
    {
     "data": {
      "text/plain": "[{'name': 'NIVEA Perfect & Radiant Even Tone Day And Night Cream For Women - 50ml',\n  'new_price': 'KSh 999',\n  'old_price': 'KSh 1,560',\n  'discount': '36%',\n  'rating': '4.5 out of 5',\n  'votes': '4.5 out of 5(2216)'},\n {'name': 'NIVEA Radiant & Beauty Advanced Care Lotion For Women - 400ml (Pack Of 2)',\n  'new_price': 'KSh 949',\n  'old_price': 'KSh 1,460',\n  'discount': '35%',\n  'rating': '4.7 out of 5',\n  'votes': '4.7 out of 5(607)'},\n {'name': 'NIVEA Nourishing Cocoa Body Lotion With Cocoa Butter 400ml (Pack Of 2)',\n  'new_price': 'KSh 1,174',\n  'old_price': 'KSh 1,302',\n  'discount': '10%',\n  'rating': '4.7 out of 5',\n  'votes': '4.7 out of 5(1113)'},\n {'name': 'NIVEA Pearl & Beauty Anti-Perspirant Rollon, 48h - 50ml (Pack Of 2)',\n  'new_price': 'KSh 728',\n  'old_price': 'KSh 1,040',\n  'discount': '30%',\n  'rating': '4.6 out of 5',\n  'votes': '4.6 out of 5(829)'},\n {'name': 'NIVEA MEN Deep Antibacterial Anti-Perspirant Rollon,48h - 50ml (Pack Of 2)',\n  'new_price': 'KSh 728',\n  'old_price': 'KSh 1,040',\n  'discount': '30%',\n  'rating': '4.6 out of 5',\n  'votes': '4.6 out of 5(619)'},\n {'name': 'NIVEA Pearl & Beauty Black Pearl Fine Fragrance Anti-Perspirant Roll-On, 48h - 50ml (Pack Of 2)',\n  'new_price': 'KSh 728',\n  'old_price': 'KSh 1,040',\n  'discount': '30%',\n  'rating': '4.7 out of 5',\n  'votes': '4.7 out of 5(219)'},\n {'name': 'NIVEA Perfect & Radiant Luminous630 Anti Dark Marks Serum, 30ml & Day Cream, 40ml',\n  'new_price': 'KSh 3,647',\n  'old_price': 'KSh 5,610',\n  'discount': '35%',\n  'rating': '4.4 out of 5',\n  'votes': '4.4 out of 5(350)'},\n {'name': 'NIVEA Perfect & Radiant Even Tone Day Cream SPF 15 For Women-50ml',\n  'new_price': 'KSh 585',\n  'old_price': 'KSh 780',\n  'discount': '25%',\n  'rating': '4.4 out of 5',\n  'votes': '4.4 out of 5(560)'},\n {'name': 'NIVEA Q10 Power Anti-Wrinkle Day Cream 50ml & Night Cream 50ml',\n  'new_price': 'KSh 2,496',\n  'old_price': 'KSh 3,840',\n  'discount': '35%',\n  'rating': '4.6 out of 5',\n  'votes': '4.6 out of 5(413)'},\n {'name': 'Epson EcoTank L3250 A4 WIRELESS Printer (All-in-One)',\n  'new_price': 'KSh 27,999',\n  'old_price': 'KSh 38,000',\n  'discount': '26%',\n  'rating': '4.5 out of 5',\n  'votes': '4.5 out of 5(26)'},\n {'name': 'Pembe Pembe Maize Meal – 5Kg',\n  'new_price': 'KSh 361',\n  'old_price': 'KSh 410',\n  'discount': '12%',\n  'rating': '4.4 out of 5',\n  'votes': '4.4 out of 5(1399)'},\n {'name': 'Garnier Vitamin C Booster Serum 30ml Twin Pack',\n  'new_price': 'KSh 2,625',\n  'old_price': 'KSh 3,500',\n  'discount': '25%',\n  'rating': '4.6 out of 5',\n  'votes': '4.6 out of 5(438)'},\n {'name': \"Fashion 6Pcs Soft Cotton Checked Men's Boxers – Multicolor\",\n  'new_price': 'KSh 618',\n  'old_price': 'KSh 688',\n  'discount': '10%',\n  'rating': '3.7 out of 5',\n  'votes': '3.7 out of 5(1385)'},\n {'name': 'Garnier Anti-Blemish Charcoal Serum With AHA + BHA & Niacinamide For Acne Prone Skin',\n  'new_price': 'KSh 1,400',\n  'old_price': 'KSh 1,750',\n  'discount': '20%',\n  'rating': '4.3 out of 5',\n  'votes': '4.3 out of 5(1426)'},\n {'name': 'Garnier Even & Matte Dark Spot Corrector',\n  'new_price': 'KSh 1,840',\n  'old_price': 'KSh 2,300',\n  'discount': '20%',\n  'rating': '4 out of 5',\n  'votes': '4 out of 5(2716)'},\n {'name': '2IN1 Wired Keyboard And Mouse Set Optical Mouse',\n  'new_price': 'KSh 799',\n  'old_price': 'KSh 1,399',\n  'discount': '43%',\n  'rating': '4.4 out of 5',\n  'votes': '4.4 out of 5(10)'},\n {'name': 'Garnier Even & Matte Vitamin C Protection Cream SPF30 50ml',\n  'new_price': 'KSh 1,020',\n  'old_price': 'KSh 1,200',\n  'discount': '15%',\n  'rating': '4.4 out of 5',\n  'votes': '4.4 out of 5(961)'},\n {'name': 'Garnier Even & Matte  Vitamin C Booster Serum 15ml',\n  'new_price': 'KSh 850',\n  'old_price': None,\n  'discount': None,\n  'rating': '4.2 out of 5',\n  'votes': '4.2 out of 5(718)'},\n {'name': 'AILYONS FK-0301 Stainless Steel 1.8L Electric Kettle-Black',\n  'new_price': 'KSh 729',\n  'old_price': 'KSh 1,399',\n  'discount': '48%',\n  'rating': '4.1 out of 5',\n  'votes': '4.1 out of 5(1613)'},\n {'name': 'Vitron HTC4388FS - 43\" Smart  Android Frameless TV - Black',\n  'new_price': 'KSh 21,359',\n  'old_price': 'KSh 23,999',\n  'discount': '11%',\n  'rating': '4.2 out of 5',\n  'votes': '4.2 out of 5(304)'},\n {'name': 'Garnier Even & Matte  Vitamin C Booster Serum 30ml.',\n  'new_price': 'KSh 1,400',\n  'old_price': 'KSh 1,750',\n  'discount': '20%',\n  'rating': '4.4 out of 5',\n  'votes': '4.4 out of 5(3741)'},\n {'name': 'AILYONS HD-199A Electric Dry Iron Box Silver & Black',\n  'new_price': 'KSh 929',\n  'old_price': 'KSh 1,399',\n  'discount': '34%',\n  'rating': '4 out of 5',\n  'votes': '4 out of 5(599)'},\n {'name': 'Jikokoa Xtra - Black',\n  'new_price': 'KSh 2,999',\n  'old_price': 'KSh 4,000',\n  'discount': '25%',\n  'rating': '4.5 out of 5',\n  'votes': '4.5 out of 5(471)'},\n {'name': 'Garnier Even & Matte Vitamin C Cleansing Foam',\n  'new_price': 'KSh 693',\n  'old_price': 'KSh 815',\n  'discount': '15%',\n  'rating': '4.4 out of 5',\n  'votes': '4.4 out of 5(2012)'},\n {'name': 'Jameson Jameson Irish Whiskey - 1 Litre',\n  'new_price': 'KSh 2,599',\n  'old_price': 'KSh 3,827',\n  'discount': '32%',\n  'rating': '4.6 out of 5',\n  'votes': '4.6 out of 5(240)'},\n {'name': 'AILYONS HD-198A Electric Dry Iron Box White & Blue',\n  'new_price': 'KSh 799',\n  'old_price': 'KSh 1,299',\n  'discount': '38%',\n  'rating': '4 out of 5',\n  'votes': '4 out of 5(878)'},\n {'name': 'Maybelline Lifter Gloss Hydrating Lip Gloss With Hyaluronic Acid, Topaz',\n  'new_price': 'KSh 1,900',\n  'old_price': None,\n  'discount': None,\n  'rating': '4.7 out of 5',\n  'votes': '4.7 out of 5(446)'},\n {'name': 'Fashion 4Pairs Finest Cotton Freesize Unisex Plain Invisible Socks',\n  'new_price': 'KSh 227',\n  'old_price': 'KSh 345',\n  'discount': '34%',\n  'rating': '4 out of 5',\n  'votes': '4 out of 5(2218)'},\n {'name': 'Maybelline Lasting Fix Setting Spray',\n  'new_price': 'KSh 1,575',\n  'old_price': 'KSh 2,100',\n  'discount': '25%',\n  'rating': '4.5 out of 5',\n  'votes': '4.5 out of 5(1527)'},\n {'name': 'AILYONS FK-0306 Stainless Steel 1.8L Electric Kettle-White',\n  'new_price': 'KSh 809',\n  'old_price': 'KSh 1,399',\n  'discount': '42%',\n  'rating': '4.2 out of 5',\n  'votes': '4.2 out of 5(672)'},\n {'name': \"Hikers 32'' Digital Frameless HD LED TV-Black\",\n  'new_price': 'KSh 12,299',\n  'old_price': 'KSh 18,999',\n  'discount': '35%',\n  'rating': '4.2 out of 5',\n  'votes': '4.2 out of 5(208)'},\n {'name': 'Vitron V527 - 2.1 CH Multimedia Speaker, BT/USB/SD/FM - 9000W',\n  'new_price': 'KSh 5,459',\n  'old_price': 'KSh 7,599',\n  'discount': '28%',\n  'rating': '4.2 out of 5',\n  'votes': '4.2 out of 5(633)'},\n {'name': 'AILYONS FK-0308 Stainless Steel 2.2L Electric Kettle',\n  'new_price': 'KSh 1,059',\n  'old_price': 'KSh 1,599',\n  'discount': '34%',\n  'rating': '4.2 out of 5',\n  'votes': '4.2 out of 5(380)'},\n {'name': 'Garnier Skin Active Hydrabomb Chamomile Tissue Face Mask',\n  'new_price': 'KSh 350',\n  'old_price': None,\n  'discount': None,\n  'rating': '4.6 out of 5',\n  'votes': '4.6 out of 5(981)'},\n {'name': 'Garnier Even & Matte  Vitamin C Micellar Cleansing Water - 400ml',\n  'new_price': 'KSh 1,275',\n  'old_price': 'KSh 1,700',\n  'discount': '25%',\n  'rating': '4.5 out of 5',\n  'votes': '4.5 out of 5(1067)'},\n {'name': 'Garnier Micellar Cleansing Jelly Water With Charcoal',\n  'new_price': 'KSh 895',\n  'old_price': None,\n  'discount': None,\n  'rating': '4.6 out of 5',\n  'votes': '4.6 out of 5(133)'},\n {'name': 'Infinix Smart 7 HD, 6.6\", 2GB RAM, 64GB, 5000mAh, 4G(DUAL SIM) - Ink Black.',\n  'new_price': 'KSh 12,799',\n  'old_price': 'KSh 14,999',\n  'discount': '15%',\n  'rating': '4.4 out of 5',\n  'votes': '4.4 out of 5(216)'},\n {'name': 'Garnier Pure Active 3 In1 Charcoal Anti Blackhead Mask Wash Scrub -150ml',\n  'new_price': 'KSh 1,101',\n  'old_price': 'KSh 1,295',\n  'discount': '15%',\n  'rating': '4.4 out of 5',\n  'votes': '4.4 out of 5(4704)'},\n {'name': 'Maybelline Volume Express Colossal 100% Black Mascara',\n  'new_price': 'KSh 875',\n  'old_price': 'KSh 1,250',\n  'discount': '30%',\n  'rating': '4.4 out of 5',\n  'votes': '4.4 out of 5(1215)'},\n {'name': 'Garnier Charcoal Serum With AHA+BHA 30ml Twin Pack',\n  'new_price': 'KSh 2,625',\n  'old_price': 'KSh 3,500',\n  'discount': '25%',\n  'rating': '4.5 out of 5',\n  'votes': '4.5 out of 5(227)'},\n {'name': 'Garnier Mineral Men Extreme Cool Roll-on - 50ml',\n  'new_price': 'KSh 350',\n  'old_price': None,\n  'discount': None,\n  'rating': '4.5 out of 5',\n  'votes': '4.5 out of 5(49)'},\n {'name': 'Garnier Protection 6 In 1 Cotton Fresh Womens Roll-on - 50ml',\n  'new_price': 'KSh 298',\n  'old_price': 'KSh 350',\n  'discount': '15%',\n  'rating': '4.5 out of 5',\n  'votes': '4.5 out of 5(445)'},\n {'name': 'Nunix R5 Hot & Normal Free Standing Water Dispenser - White',\n  'new_price': 'KSh 4,180',\n  'old_price': None,\n  'discount': None,\n  'rating': '4.2 out of 5',\n  'votes': '4.2 out of 5(75)'},\n {'name': 'Jameson Jameson Irish Whiskey - 750 Ml',\n  'new_price': 'KSh 1,999',\n  'old_price': 'KSh 2,871',\n  'discount': '30%',\n  'rating': '4.7 out of 5',\n  'votes': '4.7 out of 5(124)'},\n {'name': 'Fresh Fri Fresh Fri Triple Refined Vegetable Cooking Oil - 5 Litres',\n  'new_price': 'KSh 1,199',\n  'old_price': 'KSh 1,850',\n  'discount': '35%',\n  'rating': '4.6 out of 5',\n  'votes': '4.6 out of 5(99)'},\n {'name': 'Garnier AHA+BHA Charcoal Serum + Pure Active 3-in-1 Charcoal Mask',\n  'new_price': 'KSh 2,284',\n  'old_price': 'KSh 3,045',\n  'discount': '25%',\n  'rating': '4.4 out of 5',\n  'votes': '4.4 out of 5(442)'},\n {'name': \"Hikers 43'' Inch Frameless Android Smart FHD LED TV - Black\",\n  'new_price': 'KSh 20,999',\n  'old_price': 'KSh 31,354',\n  'discount': '33%',\n  'rating': '4.3 out of 5',\n  'votes': '4.3 out of 5(87)'},\n {'name': 'Roch RFR-120S-I Single Door Refrigerator - 90 Litres - Silver',\n  'new_price': 'KSh 17,599',\n  'old_price': None,\n  'discount': None,\n  'rating': '4.5 out of 5',\n  'votes': '4.5 out of 5(135)'},\n {'name': \"Fashion 6Pcs Soft Cotton Brief Men's Boxers – Waist 29-35inc\",\n  'new_price': 'KSh 789',\n  'old_price': 'KSh 899',\n  'discount': '12%',\n  'rating': '3.8 out of 5',\n  'votes': '3.8 out of 5(459)'},\n {'name': 'Fashion 4pcs Ladies Handbags Women Shoulder Tote Bags Set PU Leather-Black',\n  'new_price': 'KSh 969',\n  'old_price': 'KSh 1,670',\n  'discount': '42%',\n  'rating': '3.6 out of 5',\n  'votes': '3.6 out of 5(1427)'},\n {'name': 'AILYONS TYB-205 Blender 2In1 With GrinderMachine 1.5LBlack',\n  'new_price': 'KSh 1,799',\n  'old_price': 'KSh 2,599',\n  'discount': '31%',\n  'rating': '4.3 out of 5',\n  'votes': '4.3 out of 5(213)'},\n {'name': 'Exe Exe All Purpose Flour 2kg',\n  'new_price': 'KSh 199',\n  'old_price': 'KSh 210',\n  'discount': '5%',\n  'rating': '4.5 out of 5',\n  'votes': '4.5 out of 5(774)'},\n {'name': 'Stereo F9 Bluetooth Earphone  Power Headset',\n  'new_price': 'KSh 660',\n  'old_price': 'KSh 1,014',\n  'discount': '35%',\n  'rating': '3.9 out of 5',\n  'votes': '3.9 out of 5(1104)'},\n {'name': 'Garnier Protection 5 Mens Roll-on - 50ml',\n  'new_price': 'KSh 298',\n  'old_price': 'KSh 350',\n  'discount': '15%',\n  'rating': '4.3 out of 5',\n  'votes': '4.3 out of 5(70)'},\n {'name': 'Menengai Menengai Cream Bar Soap - 800g',\n  'new_price': 'KSh 169',\n  'old_price': 'KSh 250',\n  'discount': '32%',\n  'rating': '4.6 out of 5',\n  'votes': '4.6 out of 5(348)'},\n {'name': 'Jogoo Jogoo Maize Meal - 2Kg',\n  'new_price': 'KSh 152',\n  'old_price': 'KSh 180',\n  'discount': '16%',\n  'rating': '4.4 out of 5',\n  'votes': '4.4 out of 5(731)'},\n {'name': \"Fashion 6-Pack Men's Cotton Woven Boxers - Assorted\",\n  'new_price': 'KSh 1,199',\n  'old_price': 'KSh 1,500',\n  'discount': '20%',\n  'rating': '3.9 out of 5',\n  'votes': '3.9 out of 5(1495)'},\n {'name': 'Qasil Naturals Qasil Powder Organic & Multi-purpose Skincare',\n  'new_price': 'KSh 569',\n  'old_price': 'KSh 900',\n  'discount': '37%',\n  'rating': '4.3 out of 5',\n  'votes': '4.3 out of 5(350)'},\n {'name': 'Maybelline Fit Me Mattifying Primer Matte And Poreless',\n  'new_price': 'KSh 1,120',\n  'old_price': 'KSh 1,400',\n  'discount': '20%',\n  'rating': '4.6 out of 5',\n  'votes': '4.6 out of 5(396)'},\n {'name': 'Garnier Even & Matte Oily Skin Face Moisturizer',\n  'new_price': 'KSh 893',\n  'old_price': 'KSh 1,050',\n  'discount': '15%',\n  'rating': '4 out of 5',\n  'votes': '4 out of 5(1119)'},\n {'name': 'Waanzilish Mens Sneakers Shoes Outdoor Hiking Shoes Non-slip Sports Shoes Breathable Blue',\n  'new_price': 'KSh 1,100',\n  'old_price': 'KSh 1,500',\n  'discount': '27%',\n  'rating': '4.2 out of 5',\n  'votes': '4.2 out of 5(320)'},\n {'name': 'Garnier Skin Active Pure Charcoal Black Tissue Face Mask',\n  'new_price': 'KSh 350',\n  'old_price': None,\n  'discount': None,\n  'rating': '4.4 out of 5',\n  'votes': '4.4 out of 5(1888)'},\n {'name': 'Garnier Bye Acne & Dark Spots Kit.',\n  'new_price': 'KSh 3,184',\n  'old_price': 'KSh 4,245',\n  'discount': '25%',\n  'rating': '4.3 out of 5',\n  'votes': '4.3 out of 5(675)'},\n {'name': 'AILYONS ELP2404K 2.1CH SubWoofer Home Theatrer Multi Media Speaker System',\n  'new_price': 'KSh 2,999',\n  'old_price': 'KSh 4,099',\n  'discount': '27%',\n  'rating': '3.9 out of 5',\n  'votes': '3.9 out of 5(85)'},\n {'name': 'AILYONS AFK-112 Water Dispenser Hot Cold And Normal With Storage Cabinet',\n  'new_price': 'KSh 6,499',\n  'old_price': 'KSh 8,499',\n  'discount': '24%',\n  'rating': '4.2 out of 5',\n  'votes': '4.2 out of 5(180)'},\n {'name': 'Qwen Aluminum Alloy Laptop Stand Computer Stand',\n  'new_price': 'KSh 650',\n  'old_price': 'KSh 1,000',\n  'discount': '35%',\n  'rating': '4.6 out of 5',\n  'votes': '4.6 out of 5(652)'},\n {'name': 'Garnier Mineral Women Absolute Dry Roll-on - 50ml',\n  'new_price': 'KSh 350',\n  'old_price': None,\n  'discount': None,\n  'rating': '4.6 out of 5',\n  'votes': '4.6 out of 5(58)'},\n {'name': 'Fashion Slipon Shoes Loafers Shoes Canvas Shoes Casual Shoes Mens Sneaker Black',\n  'new_price': 'KSh 759',\n  'old_price': 'KSh 1,500',\n  'discount': '49%',\n  'rating': '3.7 out of 5',\n  'votes': '3.7 out of 5(273)'},\n {'name': 'Garnier Skin Active Hydrabomb Pomegranate Tissue Face Mask',\n  'new_price': 'KSh 350',\n  'old_price': None,\n  'discount': None,\n  'rating': '4.6 out of 5',\n  'votes': '4.6 out of 5(1502)'},\n {'name': 'Skyworth 43E3A, 43\" Full HD Frameless Smart Android TV – Black',\n  'new_price': 'KSh 27,499',\n  'old_price': 'KSh 44,999',\n  'discount': '39%',\n  'rating': '4.6 out of 5',\n  'votes': '4.6 out of 5(392)'},\n {'name': 'Annov 7-Speed Portable Hand Mixer  With Bowl',\n  'new_price': 'KSh 1,099',\n  'old_price': None,\n  'discount': None,\n  'rating': '4.3 out of 5',\n  'votes': '4.3 out of 5(63)'},\n {'name': 'Hisense 32\" Inch (32A4H) VIDAA OS LED Frameless Smart TV - Black',\n  'new_price': 'KSh 16,799',\n  'old_price': 'KSh 21,500',\n  'discount': '22%',\n  'rating': '4.4 out of 5',\n  'votes': '4.4 out of 5(62)'},\n {'name': 'Fashion 2024 Mens Casual High-Top Shoes Running Sneakers - Beige',\n  'new_price': 'KSh 1,860',\n  'old_price': 'KSh 2,695 - KSh 3,576',\n  'discount': '48%',\n  'rating': '4.4 out of 5',\n  'votes': '4.4 out of 5(170)'},\n {'name': 'Wireless Bluetooth In-Ear Earphone Stereo Headset',\n  'new_price': 'KSh 570',\n  'old_price': 'KSh 1,000',\n  'discount': '43%',\n  'rating': '3.6 out of 5',\n  'votes': '3.6 out of 5(149)'},\n {'name': 'ARHANORY Phone Tripod Stand Mobile Phone Holder Mount Ring Light Set Selfie Stick-Black',\n  'new_price': 'KSh 499',\n  'old_price': 'KSh 920',\n  'discount': '46%',\n  'rating': '4.1 out of 5',\n  'votes': '4.1 out of 5(476)'},\n {'name': 'Fashion 4 In 1 Ladies Handbags Women Shoulder Bags Set PU Leather -Pink',\n  'new_price': 'KSh 969',\n  'old_price': 'KSh 1,638',\n  'discount': '41%',\n  'rating': '3.7 out of 5',\n  'votes': '3.7 out of 5(2011)'},\n {'name': 'Infinix Smart 7 HD, 6.6\", 2GB RAM, 64GB, 5000mAh, 4G(DUAL SIM) - Jade White',\n  'new_price': 'KSh 12,249',\n  'old_price': 'KSh 14,999',\n  'discount': '18%',\n  'rating': '4.3 out of 5',\n  'votes': '4.3 out of 5(153)'},\n {'name': 'Annov 2  Slice Bread Toaster - 700W - White',\n  'new_price': 'KSh 849',\n  'old_price': None,\n  'discount': None,\n  'rating': '3.4 out of 5',\n  'votes': '3.4 out of 5(70)'},\n {'name': 'HOMMY 3 Column Portable Wardrobe-Brown',\n  'new_price': 'KSh 2,599',\n  'old_price': 'KSh 4,500',\n  'discount': '42%',\n  'rating': '3.9 out of 5',\n  'votes': '3.9 out of 5(541)'},\n {'name': 'Dark And Lovely Waterless Cleanser - 250ml',\n  'new_price': 'KSh 595',\n  'old_price': None,\n  'discount': None,\n  'rating': '4.5 out of 5',\n  'votes': '4.5 out of 5(491)'},\n {'name': 'Dark And Lovely Waterless Cleanser - 250ml',\n  'new_price': 'KSh 595',\n  'old_price': None,\n  'discount': None,\n  'rating': '4.5 out of 5',\n  'votes': '4.5 out of 5(491)'},\n {'name': 'Vitron HTC3200S,32\"Inch Frameless Smart Android TV NetflixYoutube+FREE TVGuard+Bracket',\n  'new_price': 'KSh 15,999',\n  'old_price': 'KSh 20,000',\n  'discount': '20%',\n  'rating': '4.3 out of 5',\n  'votes': '4.3 out of 5(840)'},\n {'name': 'AILYONS FK-0318 Stainless Steel 3.5L Electric Kettle-Ultra Plus Kettle.',\n  'new_price': 'KSh 1,599',\n  'old_price': 'KSh 1,999',\n  'discount': '20%',\n  'rating': '4.5 out of 5',\n  'votes': '4.5 out of 5(98)'},\n {'name': 'Amaze Fridge/Freezer Guard-UnderVoltage&Surge Protection',\n  'new_price': 'KSh 599',\n  'old_price': 'KSh 1,000',\n  'discount': '40%',\n  'rating': '4.3 out of 5',\n  'votes': '4.3 out of 5(563)'},\n {'name': 'Power King Extension Cable With 6 AC Power Outlets, 13A, And 2 M Long Cable',\n  'new_price': 'KSh 490',\n  'old_price': 'KSh 800',\n  'discount': '39%',\n  'rating': '4.1 out of 5',\n  'votes': '4.1 out of 5(444)'},\n {'name': 'Fashion 16 Inch Laptop Backpack Bags With USB Waterproof',\n  'new_price': 'KSh 949',\n  'old_price': 'KSh 1,553',\n  'discount': '39%',\n  'rating': '3.4 out of 5',\n  'votes': '3.4 out of 5(1129)'},\n {'name': 'Amaze TV Guard/DVD Guard - 13A.',\n  'new_price': 'KSh 599',\n  'old_price': 'KSh 1,000',\n  'discount': '40%',\n  'rating': '4.3 out of 5',\n  'votes': '4.3 out of 5(462)'},\n {'name': 'Garnier Mineral Women Even Extra Roll-on - 50ml',\n  'new_price': 'KSh 298',\n  'old_price': 'KSh 350',\n  'discount': '15%',\n  'rating': '4.3 out of 5',\n  'votes': '4.3 out of 5(56)'},\n {'name': 'Garnier Even & Matte Normal To Oily Skin Face Moisturizer – 40ml',\n  'new_price': 'KSh 893',\n  'old_price': 'KSh 1,050',\n  'discount': '15%',\n  'rating': '3.8 out of 5',\n  'votes': '3.8 out of 5(1552)'},\n {'name': 'Fashion Shoes For Women Sneakers Ladies Shoes Sneakers',\n  'new_price': 'KSh 599',\n  'old_price': 'KSh 940',\n  'discount': '36%',\n  'rating': '3.9 out of 5',\n  'votes': '3.9 out of 5(170)'},\n {'name': '10kg Digital Kitchen Electronic Cooking Weighing Scale',\n  'new_price': 'KSh 499',\n  'old_price': 'KSh 800',\n  'discount': '38%',\n  'rating': '4.4 out of 5',\n  'votes': '4.4 out of 5(716)'},\n {'name': 'Qwen 64GB Flash Disks USB Flash Drive High Speed',\n  'new_price': 'KSh 659',\n  'old_price': 'KSh 1,000',\n  'discount': '34%',\n  'rating': '4.1 out of 5',\n  'votes': '4.1 out of 5(214)'},\n {'name': 'Dr. Rashel Vitamin C Face Serum -50ml.',\n  'new_price': 'KSh 445',\n  'old_price': 'KSh 599',\n  'discount': '26%',\n  'rating': '4.5 out of 5',\n  'votes': '4.5 out of 5(132)'},\n {'name': '14\"-42\" TV Flat Panel Wall Bracket Holder Black',\n  'new_price': 'KSh 345',\n  'old_price': 'KSh 500',\n  'discount': '31%',\n  'rating': '4.1 out of 5',\n  'votes': '4.1 out of 5(2328)'},\n {'name': 'Roch RMW-20PX9-B (B) Microwave Oven, 700W, 20L - Black',\n  'new_price': 'KSh 7,899',\n  'old_price': 'KSh 12,999',\n  'discount': '39%',\n  'rating': '4.5 out of 5',\n  'votes': '4.5 out of 5(152)'},\n {'name': \"Fashion Men's Trendy Sneakers - White\",\n  'new_price': 'KSh 1,690',\n  'old_price': 'KSh 2,373 - KSh 3,000',\n  'discount': '44%',\n  'rating': '4.1 out of 5',\n  'votes': '4.1 out of 5(51)'},\n {'name': \"Fashion Men's Shoes Fashion Sneakers Casual Outdoor Easywear Trendy Shoes Running Sport Sneakers\",\n  'new_price': 'KSh 1,099',\n  'old_price': 'KSh 1,371 - KSh 1,913',\n  'discount': '43%',\n  'rating': '4 out of 5',\n  'votes': '4 out of 5(162)'},\n {'name': 'Vintage T9 Dragon Rechargeable Metal Hair Clipper Gold',\n  'new_price': 'KSh 690',\n  'old_price': 'KSh 1,310',\n  'discount': '47%',\n  'rating': '4 out of 5',\n  'votes': '4 out of 5(496)'},\n {'name': \"Fashion Sneakers Women Shoes Women's Shoes Ladies\",\n  'new_price': 'KSh 599',\n  'old_price': 'KSh 1,148',\n  'discount': '48%',\n  'rating': '3.8 out of 5',\n  'votes': '3.8 out of 5(262)'},\n {'name': 'Fashion Ladies Sneaker Shoes Causal Shoes Buy A Size Larger Than Usual White',\n  'new_price': 'KSh 1,050',\n  'old_price': 'KSh 1,500',\n  'discount': '30%',\n  'rating': '4.2 out of 5',\n  'votes': '4.2 out of 5(280)'},\n {'name': 'Fashion Men Leather Loafers & Slip-Ons',\n  'new_price': 'KSh 888',\n  'old_price': 'KSh 1,638',\n  'discount': '46%',\n  'rating': '3.3 out of 5',\n  'votes': '3.3 out of 5(236)'},\n {'name': 'Skilltech 15\" To 43\" Tilting Wall Mount Bracket',\n  'new_price': 'KSh 507',\n  'old_price': 'KSh 1,000',\n  'discount': '49%',\n  'rating': '4.3 out of 5',\n  'votes': '4.3 out of 5(540)'},\n {'name': 'AILYONS FK-0310 Stainless Steel 2.2L Electric Water Kettle-Black',\n  'new_price': 'KSh 1,039',\n  'old_price': 'KSh 1,599',\n  'discount': '35%',\n  'rating': '4.2 out of 5',\n  'votes': '4.2 out of 5(360)'},\n {'name': 'Geemy Rechargeable Hair Shaving Machine, Shaver- 3 In 1',\n  'new_price': 'KSh 950',\n  'old_price': 'KSh 1,500',\n  'discount': '37%',\n  'rating': '4.2 out of 5',\n  'votes': '4.2 out of 5(546)'},\n {'name': 'Garnier Micellar Cleansing Water For Sensitive Skin - 400ml',\n  'new_price': 'KSh 522',\n  'old_price': 'KSh 745',\n  'discount': '30%',\n  'rating': '4.5 out of 5',\n  'votes': '4.5 out of 5(1947)'},\n {'name': 'VON VADZ0002K, Portable Water Dispenser - Black',\n  'new_price': 'KSh 959',\n  'old_price': 'KSh 1,295',\n  'discount': '26%',\n  'rating': '4.5 out of 5',\n  'votes': '4.5 out of 5(634)'},\n {'name': 'HUILE Hand Press Pump For Dispenser Suitable Homes,Schools,Offices',\n  'new_price': 'KSh 530',\n  'old_price': 'KSh 850',\n  'discount': '38%',\n  'rating': '4.1 out of 5',\n  'votes': '4.1 out of 5(207)'},\n {'name': 'Qwen Makeup Sponges Beauty Blender Sponge Pink 4pcs /Set',\n  'new_price': 'KSh 359',\n  'old_price': 'KSh 500',\n  'discount': '28%',\n  'rating': '4.6 out of 5',\n  'votes': '4.6 out of 5(146)'},\n {'name': 'Multicolor Duvet Blanket, Sheet, 2 Pillow Cases',\n  'new_price': 'KSh 1,749 - KSh 2,999',\n  'old_price': 'KSh 2,900 - KSh 4,000',\n  'discount': '46%',\n  'rating': '3.9 out of 5',\n  'votes': '3.9 out of 5(241)'},\n {'name': 'VON Von VALS-75BWY Twin Tub Washing Machine - 7.5Kg',\n  'new_price': 'KSh 20,995',\n  'old_price': 'KSh 26,995',\n  'discount': '22%',\n  'rating': '4.4 out of 5',\n  'votes': '4.4 out of 5(105)'},\n {'name': 'TCL 43S5400 S Series, 43\" Full HD Smart TV - Black',\n  'new_price': 'KSh 33,245',\n  'old_price': 'KSh 39,999',\n  'discount': '17%',\n  'rating': '4.6 out of 5',\n  'votes': '4.6 out of 5(43)'},\n {'name': 'VON VART-18DMY, Double Door Fridge, 138L - Silver',\n  'new_price': 'KSh 34,899',\n  'old_price': 'KSh 42,995',\n  'discount': '19%',\n  'rating': '4.5 out of 5',\n  'votes': '4.5 out of 5(174)'},\n {'name': 'Fashion Pendant Necklaces Choker Chain Tiny Bird Jewelry',\n  'new_price': 'KSh 169',\n  'old_price': 'KSh 300',\n  'discount': '44%',\n  'rating': '4 out of 5',\n  'votes': '4 out of 5(470)'},\n {'name': '6\" Ring Light Mirror For Selfie YouTube Video Phone Holder Stand Shooting With 3 Light Modes',\n  'new_price': 'KSh 699',\n  'old_price': 'KSh 1,149',\n  'discount': '39%',\n  'rating': '4.2 out of 5',\n  'votes': '4.2 out of 5(73)'},\n {'name': \"Fashion Women's Shoes Sneakers Women Shoes Ladies\",\n  'new_price': 'KSh 599',\n  'old_price': 'KSh 1,045',\n  'discount': '43%',\n  'rating': '4 out of 5',\n  'votes': '4 out of 5(64)'},\n {'name': 'Samsung Galaxy A14, 6.6\", 128GB + 4GB(Dual SIM), 5000 MAh, +CLASSY  GIFTS',\n  'new_price': 'KSh 26,599',\n  'old_price': 'KSh 41,000',\n  'discount': '35%',\n  'rating': '4.4 out of 5',\n  'votes': '4.4 out of 5(47)'},\n {'name': 'Nunix SC-002 Table Top Double Burner Gas Stove Cooker',\n  'new_price': 'KSh 2,024',\n  'old_price': None,\n  'discount': None,\n  'rating': '4.2 out of 5',\n  'votes': '4.2 out of 5(66)'},\n {'name': 'Annov Dry Iron -  White',\n  'new_price': 'KSh 789',\n  'old_price': 'KSh 919',\n  'discount': '14%',\n  'rating': '4.2 out of 5',\n  'votes': '4.2 out of 5(64)'},\n {'name': 'Fresh Fri Fresh Fri Triple Refined Vegetable Cooking Oil - 3 Litres',\n  'new_price': 'KSh 797',\n  'old_price': 'KSh 1,050',\n  'discount': '24%',\n  'rating': '4.6 out of 5',\n  'votes': '4.6 out of 5(1264)'},\n {'name': \"Fashion 6Pcs Pure Cotton Checked Men's Boxers – Multicolor\",\n  'new_price': 'KSh 799 - KSh 1,199',\n  'old_price': 'KSh 1,250',\n  'discount': '36%',\n  'rating': '3.9 out of 5',\n  'votes': '3.9 out of 5(1757)'},\n {'name': 'Fashion 10pcs Makeup Brushes Set For Foundation -Black',\n  'new_price': 'KSh 499',\n  'old_price': 'KSh 600',\n  'discount': '17%',\n  'rating': '4.2 out of 5',\n  'votes': '4.2 out of 5(435)'},\n {'name': 'HP 64GB Flash Disk With Clip+Free Earphones',\n  'new_price': 'KSh 945',\n  'old_price': 'KSh 1,500',\n  'discount': '37%',\n  'rating': '4.3 out of 5',\n  'votes': '4.3 out of 5(94)'},\n {'name': 'Maybelline Superstay Matte Ink Liquid Lipstick - 20 Pioneer',\n  'new_price': 'KSh 1,840',\n  'old_price': 'KSh 2,300',\n  'discount': '20%',\n  'rating': '4.5 out of 5',\n  'votes': '4.5 out of 5(779)'},\n {'name': 'Wireless Earphones Bluetooth 5.3 Finger Touch Headset HIFI Slide Cover.',\n  'new_price': 'KSh 780',\n  'old_price': 'KSh 1,359',\n  'discount': '43%',\n  'rating': '3.9 out of 5',\n  'votes': '3.9 out of 5(131)'},\n {'name': 'Maybelline Fit Me Hydrating Primer Luminous And Smooth',\n  'new_price': 'KSh 1,120',\n  'old_price': 'KSh 1,400',\n  'discount': '20%',\n  'rating': '4.6 out of 5',\n  'votes': '4.6 out of 5(335)'},\n {'name': 'Fashion Couple Canvas Low Top Lace-up Shoes Classic Casual Sneakers Black',\n  'new_price': 'KSh 999',\n  'old_price': 'KSh 1,500',\n  'discount': '33%',\n  'rating': '4.7 out of 5',\n  'votes': '4.7 out of 5(42)'},\n {'name': 'NIVEA Lemongrass & Oil Shower Gel For Women - 250ml (Pack Of 2)',\n  'new_price': 'KSh 833',\n  'old_price': 'KSh 1,190',\n  'discount': '30%',\n  'rating': '4.7 out of 5',\n  'votes': '4.7 out of 5(651)'},\n {'name': 'Electric Automatic Water Dispenser Pump Rechargeable White',\n  'new_price': 'KSh 590',\n  'old_price': 'KSh 1,000',\n  'discount': '41%',\n  'rating': '3.6 out of 5',\n  'votes': '3.6 out of 5(172)'},\n {'name': 'Maybelline Sky High Lash Sensational Mascara - Black',\n  'new_price': 'KSh 1,725',\n  'old_price': 'KSh 2,300',\n  'discount': '25%',\n  'rating': '4.6 out of 5',\n  'votes': '4.6 out of 5(159)'},\n {'name': 'Nokia C32, 64GB + 4GB (Upto 7GB RAM) 5000MAh, Android 13, Black-Charcoal',\n  'new_price': 'KSh 17,599',\n  'old_price': 'KSh 19,999',\n  'discount': '12%',\n  'rating': '4.2 out of 5',\n  'votes': '4.2 out of 5(87)'},\n {'name': \"Gilbey's Gilbey's Gilbeys Gin - 750 ML\",\n  'new_price': 'KSh 1,364',\n  'old_price': 'KSh 1,488',\n  'discount': '8%',\n  'rating': '4.2 out of 5',\n  'votes': '4.2 out of 5(55)'},\n {'name': 'Sonar C7 Hot And Normal Water Dispenser -blue And White',\n  'new_price': 'KSh 3,609',\n  'old_price': 'KSh 6,199',\n  'discount': '42%',\n  'rating': '4.2 out of 5',\n  'votes': '4.2 out of 5(152)'},\n {'name': 'VON 1.7L CORDLESS KETTLE VSKL17BNK WHITE AND BLACK',\n  'new_price': 'KSh 2,395',\n  'old_price': None,\n  'discount': None,\n  'rating': '4.4 out of 5',\n  'votes': '4.4 out of 5(160)'},\n {'name': 'AILYONS ELP2403K 2.1CH SubWoofer Home Theatrer Multi Media Speaker System',\n  'new_price': 'KSh 2,899',\n  'old_price': 'KSh 3,999',\n  'discount': '28%',\n  'rating': '3.9 out of 5',\n  'votes': '3.9 out of 5(39)'},\n {'name': 'Langman 9 Colors Makeup Eyeshadow Palette Eye Shadow Glitter',\n  'new_price': 'KSh 399',\n  'old_price': 'KSh 600',\n  'discount': '34%',\n  'rating': '4.4 out of 5',\n  'votes': '4.4 out of 5(779)'},\n {'name': 'Oraimo FreePods Lite ENC 40-hour Playtime Havybass True Wireless Earbuds',\n  'new_price': 'KSh 2,100',\n  'old_price': 'KSh 2,508',\n  'discount': '16%',\n  'rating': '4.6 out of 5',\n  'votes': '4.6 out of 5(69)'},\n {'name': 'LED 2.4G Rechargeable Wireless Mouse',\n  'new_price': 'KSh 550',\n  'old_price': 'KSh 1,078',\n  'discount': '49%',\n  'rating': '4.5 out of 5',\n  'votes': '4.5 out of 5(722)'},\n {'name': 'Fashion Men Pants Trousers Overalls Cargo Pants Men Clothes',\n  'new_price': 'KSh 754 - KSh 759',\n  'old_price': 'KSh 1,329',\n  'discount': '43%',\n  'rating': '3.6 out of 5',\n  'votes': '3.6 out of 5(33)'},\n {'name': 'Fashion 17 Pcs Golden Rings Women Bohemian Rings Jewelry',\n  'new_price': 'KSh 339',\n  'old_price': 'KSh 500',\n  'discount': '32%',\n  'rating': '3.9 out of 5',\n  'votes': '3.9 out of 5(881)'},\n {'name': 'Fashion Checked Cotton Boxer Shorts - 3 Pieces - Assorted',\n  'new_price': 'KSh 734 - KSh 799',\n  'old_price': 'KSh 999',\n  'discount': '27%',\n  'rating': '3.9 out of 5',\n  'votes': '3.9 out of 5(1579)'},\n {'name': 'Maybelline Fit Me Matte And Poreless Foundation 30 Ml 356 WARM COCONUT',\n  'new_price': 'KSh 1,275',\n  'old_price': 'KSh 1,700',\n  'discount': '25%',\n  'rating': '4.3 out of 5',\n  'votes': '4.3 out of 5(788)'},\n {'name': 'Fashion Women Shoes Ladies Shoes For Women Shoe',\n  'new_price': 'KSh 629',\n  'old_price': 'KSh 1,180',\n  'discount': '47%',\n  'rating': '3.8 out of 5',\n  'votes': '3.8 out of 5(103)'},\n {'name': 'False Eyelashes Set 5 Pairs Styles 3D Mixed',\n  'new_price': 'KSh 279',\n  'old_price': 'KSh 500',\n  'discount': '44%',\n  'rating': '4.4 out of 5',\n  'votes': '4.4 out of 5(959)'},\n {'name': 'Oraimo Rock Stereo Bass Super Long Playtime IPX5 Waterproof True Wireless Earbuds',\n  'new_price': 'KSh 2,100',\n  'old_price': 'KSh 2,842',\n  'discount': '26%',\n  'rating': '4.4 out of 5',\n  'votes': '4.4 out of 5(166)'},\n {'name': \"Fashion 2 Piece Men's T-Shirt & Shorts Set\",\n  'new_price': 'KSh 1,258',\n  'old_price': 'KSh 2,094',\n  'discount': '40%',\n  'rating': '3.9 out of 5',\n  'votes': '3.9 out of 5(170)'},\n {'name': 'Fashion Women Backpack Bag Shoulder Bags PU Leather Travel Bag-Black',\n  'new_price': 'KSh 1,059',\n  'old_price': 'KSh 1,500',\n  'discount': '29%',\n  'rating': '4 out of 5',\n  'votes': '4 out of 5(143)'},\n {'name': \"Wlisth Men's European Business Waterproof Watch - BLACK\",\n  'new_price': 'KSh 1,190',\n  'old_price': 'KSh 2,047',\n  'discount': '42%',\n  'rating': '4.1 out of 5',\n  'votes': '4.1 out of 5(420)'},\n {'name': 'Fashion 3 PCS Women Bags Ladies Bags Handbags Purse Shoulder Bags Tote Bags Hobo Bags',\n  'new_price': 'KSh 1,299',\n  'old_price': 'KSh 2,468',\n  'discount': '47%',\n  'rating': '3.7 out of 5',\n  'votes': '3.7 out of 5(398)'},\n {'name': \"Fashion 3PACK Pure Cotton Brief Boxers Men's Underwear\",\n  'new_price': 'KSh 599 - KSh 699',\n  'old_price': 'KSh 900',\n  'discount': '33%',\n  'rating': '3.9 out of 5',\n  'votes': '3.9 out of 5(1356)'},\n {'name': 'Fashion 3 Pieces Of Adjustable Baseball Cap - Multicolour+free Gift',\n  'new_price': 'KSh 649',\n  'old_price': 'KSh 893',\n  'discount': '27%',\n  'rating': '4.1 out of 5',\n  'votes': '4.1 out of 5(804)'},\n {'name': 'Rashnik RN-999 2 In 1 Blender & Grinder –1.5L – 400W - Black',\n  'new_price': 'KSh 1,800',\n  'old_price': None,\n  'discount': None,\n  'rating': '4.2 out of 5',\n  'votes': '4.2 out of 5(57)'},\n {'name': 'General Electric DCQ D2 Power Banks 20000 MAh',\n  'new_price': 'KSh 1,800',\n  'old_price': 'KSh 2,521',\n  'discount': '29%',\n  'rating': '4.2 out of 5',\n  'votes': '4.2 out of 5(91)'},\n {'name': 'Ballantine Ballantine Blended Scotch Whiskey - 1 Litre',\n  'new_price': 'KSh 2,599',\n  'old_price': 'KSh 3,009',\n  'discount': '14%',\n  'rating': '4.6 out of 5',\n  'votes': '4.6 out of 5(99)'},\n {'name': 'Maybelline Lifter Gloss Hydrating Lip Gloss With Hyaluronic Acid, Pearl',\n  'new_price': 'KSh 1,900',\n  'old_price': None,\n  'discount': None,\n  'rating': '4.7 out of 5',\n  'votes': '4.7 out of 5(67)'},\n {'name': 'Home Design ROTATING 14\"-55\" TILT MOVING WALL MOUNT BRACKET',\n  'new_price': 'KSh 910',\n  'old_price': 'KSh 1,500',\n  'discount': '39%',\n  'rating': '4.2 out of 5',\n  'votes': '4.2 out of 5(764)'},\n {'name': 'Vitron 4388-FS 43\"inch FHD Frameless Smart/Android TV InbuiltDecoder/+TVGuard+Bracket',\n  'new_price': 'KSh 24,398',\n  'old_price': 'KSh 30,000',\n  'discount': '19%',\n  'rating': '4.3 out of 5',\n  'votes': '4.3 out of 5(132)'},\n {'name': '128GB Metal Usb Flash Drive  3D Embossment',\n  'new_price': 'KSh 740',\n  'old_price': 'KSh 1,095',\n  'discount': '32%',\n  'rating': '3.4 out of 5',\n  'votes': '3.4 out of 5(177)'},\n {'name': 'UWY 128GB Pendrive Flash  Drive Metal High Speed',\n  'new_price': 'KSh 730',\n  'old_price': 'KSh 1,229',\n  'discount': '41%',\n  'rating': '3.6 out of 5',\n  'votes': '3.6 out of 5(91)'},\n {'name': 'Maybelline Lifter Gloss Petal With Hyaluronic Acid',\n  'new_price': 'KSh 1,650',\n  'old_price': None,\n  'discount': None,\n  'rating': '4.4 out of 5',\n  'votes': '4.4 out of 5(232)'},\n {'name': 'Fashion Elastic Belt Corset Tummy Shaper',\n  'new_price': 'KSh 489',\n  'old_price': 'KSh 641',\n  'discount': '24%',\n  'rating': '3.9 out of 5',\n  'votes': '3.9 out of 5(1982)'},\n {'name': \"GORDON'S Gordon'S Dry Gin - 750cl\",\n  'new_price': 'KSh 2,112',\n  'old_price': 'KSh 2,304',\n  'discount': '8%',\n  'rating': '4.6 out of 5',\n  'votes': '4.6 out of 5(17)'},\n {'name': \"Fashion Men's Slim Fit Stretcher And Comfortable  Jeans\",\n  'new_price': 'KSh 1,569',\n  'old_price': 'KSh 3,000',\n  'discount': '48%',\n  'rating': '4.3 out of 5',\n  'votes': '4.3 out of 5(105)'},\n {'name': 'Teeth White Light Tooth White System LED Light',\n  'new_price': 'KSh 350',\n  'old_price': 'KSh 600',\n  'discount': '42%',\n  'rating': '3 out of 5',\n  'votes': '3 out of 5(2)'},\n {'name': '1Pcs Brown Curtain WITHOUT Sheers',\n  'new_price': 'KSh 990 - KSh 2,560',\n  'old_price': 'KSh 1,000 - KSh 2,900',\n  'discount': '12%',\n  'rating': '4.7 out of 5',\n  'votes': '4.7 out of 5(3)'},\n {'name': '24Pcs 3cm Plastic Christmas Tree Balls Baubles Home-21#',\n  'new_price': 'KSh 632',\n  'old_price': 'KSh 1,264',\n  'discount': '50%',\n  'rating': '2 out of 5',\n  'votes': '2 out of 5(1)'},\n {'name': '3 In 1 Sandwich, Waffle Maker & Grill',\n  'new_price': 'KSh 3,232',\n  'old_price': 'KSh 3,500',\n  'discount': '8%',\n  'rating': '4.2 out of 5',\n  'votes': '4.2 out of 5(37)'},\n {'name': 'Basketball Quality Big Basketball Ball',\n  'new_price': 'KSh 995',\n  'old_price': 'KSh 1,600',\n  'discount': '38%',\n  'rating': '4.3 out of 5',\n  'votes': '4.3 out of 5(7)'},\n {'name': 'Fashion 2 In 1 Angled Eye Brow Brush And Spoolie Brush',\n  'new_price': 'KSh 350',\n  'old_price': None,\n  'discount': None,\n  'rating': '4.7 out of 5',\n  'votes': '4.7 out of 5(6)'},\n {'name': 'Fashion 100% Genuine Leather Belt For Mens Pin Buckle Pure Leather Belts For Men Durable',\n  'new_price': 'KSh 1,349',\n  'old_price': 'KSh 2,600',\n  'discount': '48%',\n  'rating': '4.9 out of 5',\n  'votes': '4.9 out of 5(7)'},\n {'name': 'Fashion 7 By 10 Soft Fluffy Patched Carpets Non-slip Rugs Floor Mat',\n  'new_price': 'KSh 6,250',\n  'old_price': None,\n  'discount': None,\n  'rating': '3 out of 5',\n  'votes': '3 out of 5(1)'},\n {'name': 'T&G PORTABLE WIRELESS BLUETOOTH SPEAKER - BLACK',\n  'new_price': 'KSh 1,500',\n  'old_price': 'KSh 2,000',\n  'discount': '25%',\n  'rating': '3 out of 5',\n  'votes': '3 out of 5(1)'},\n {'name': 'Simple Replenishing Rich Moisturizer 12H Moisturization 150ml',\n  'new_price': 'KSh 1,099',\n  'old_price': None,\n  'discount': None,\n  'rating': '4.4 out of 5',\n  'votes': '4.4 out of 5(37)'},\n {'name': 'Fashion 6PCs Disney Cotton Girls Panties+Free Panty Bag',\n  'new_price': 'KSh 645',\n  'old_price': 'KSh 800',\n  'discount': '19%',\n  'rating': '4.1 out of 5',\n  'votes': '4.1 out of 5(89)'},\n {'name': 'The Ordinary Salicylic Acid 2% Face  Serum Solution-30ml',\n  'new_price': 'KSh 930',\n  'old_price': 'KSh 1,500',\n  'discount': '38%',\n  'rating': '4.5 out of 5',\n  'votes': '4.5 out of 5(6)'},\n {'name': 'Amazing 2 Pcs Kitchen Non Slip Mat.',\n  'new_price': 'KSh 1,699',\n  'old_price': 'KSh 2,000',\n  'discount': '15%',\n  'rating': '4.3 out of 5',\n  'votes': '4.3 out of 5(15)'},\n {'name': 'Maybelline Fit Me Matte And Poreless Foundation 30 Ml - 336 WARM OLIVE',\n  'new_price': 'KSh 1,275',\n  'old_price': 'KSh 1,700',\n  'discount': '25%',\n  'rating': '4.2 out of 5',\n  'votes': '4.2 out of 5(28)'},\n {'name': 'Tecno Pop 7 Pro,  6.6\" 3GB RAM + 64GB ROM, 13MP Camera, 5000mAh, Black + Free Gifts',\n  'new_price': 'KSh 13,999',\n  'old_price': 'KSh 19,999',\n  'discount': '30%',\n  'rating': '4.6 out of 5',\n  'votes': '4.6 out of 5(10)'},\n {'name': 'Jsb Power Extension Cables 6 Way 5 Metre / 10 Metre Long /USB Port Surge Protection',\n  'new_price': 'KSh 1,247 - KSh 1,597',\n  'old_price': 'KSh 2,000',\n  'discount': '38%',\n  'rating': '4.4 out of 5',\n  'votes': '4.4 out of 5(18)'},\n {'name': 'HP Notebook 15-Intel Celeron (N Series)-512GB SSD+8GB RAM-15.6\"-Windows 11-Black+Bag+Flash',\n  'new_price': 'KSh 53,999',\n  'old_price': 'KSh 60,000',\n  'discount': '10%',\n  'rating': '4.1 out of 5',\n  'votes': '4.1 out of 5(18)'},\n {'name': 'MK TV Guard  + Fridge Guard For Samsung Double Door Fridge+ A FREE 5 Way Extension',\n  'new_price': 'KSh 1,800',\n  'old_price': 'KSh 2,000',\n  'discount': '10%',\n  'rating': '3.7 out of 5',\n  'votes': '3.7 out of 5(9)'},\n {'name': 'Geisha Moringa Oil Soap 225G',\n  'new_price': 'KSh 151',\n  'old_price': 'KSh 167',\n  'discount': '10%',\n  'rating': '5 out of 5',\n  'votes': '5 out of 5(4)'},\n {'name': 'Glass Jar Oil/Vinegar Dispenser Bottle',\n  'new_price': 'KSh 735',\n  'old_price': None,\n  'discount': None,\n  'rating': '4.6 out of 5',\n  'votes': '4.6 out of 5(26)'},\n {'name': 'Minute Maid Minute Maid Apple Delight Juice - 400ml PET',\n  'new_price': 'KSh 69',\n  'old_price': None,\n  'discount': None,\n  'rating': '4.6 out of 5',\n  'votes': '4.6 out of 5(8)'},\n {'name': 'P47 Bluetooth Wireless Headphone+ Bluetooth Earpods +Selfie Stick',\n  'new_price': 'KSh 1,330',\n  'old_price': 'KSh 1,500',\n  'discount': '11%',\n  'rating': '4.6 out of 5',\n  'votes': '4.6 out of 5(9)'},\n {'name': 'Nunix 2200W Blow Dry Hair Dryer',\n  'new_price': 'KSh 1,790',\n  'old_price': 'KSh 2,000',\n  'discount': '11%',\n  'rating': '3.9 out of 5',\n  'votes': '3.9 out of 5(7)'},\n {'name': 'Sony PS4 Pad Dual Shock 4 - Wireless Controller',\n  'new_price': 'KSh 2,936',\n  'old_price': 'KSh 5,000',\n  'discount': '41%',\n  'rating': '4.1 out of 5',\n  'votes': '4.1 out of 5(12)'},\n {'name': 'Sokany AMAZING HOME POPCORN MAKER MACHINE,.',\n  'new_price': 'KSh 3,587',\n  'old_price': 'KSh 4,500',\n  'discount': '20%',\n  'rating': None,\n  'votes': None},\n {'name': 'Fashion Boobtape Booby Tape Bra Invisible Bra 5x5cm_Black',\n  'new_price': 'KSh 495',\n  'old_price': 'KSh 800',\n  'discount': '38%',\n  'rating': '4.4 out of 5',\n  'votes': '4.4 out of 5(11)'},\n {'name': 'Sacha Buttercup Setting Makeup Powder',\n  'new_price': 'KSh 269 - KSh 290',\n  'old_price': 'KSh 450',\n  'discount': '40%',\n  'rating': '4.3 out of 5',\n  'votes': '4.3 out of 5(26)'},\n {'name': \"Fashion Women\\\\'s Fashion 925 Sterling Silver Heart Round Zircon Ear-\",\n  'new_price': 'KSh 101',\n  'old_price': 'KSh 202',\n  'discount': '50%',\n  'rating': '3.9 out of 5',\n  'votes': '3.9 out of 5(7)'},\n {'name': \"Ediko Black 6 Panel Sports Hat - Mesh Men's Baseball Cap\",\n  'new_price': 'KSh 799',\n  'old_price': 'KSh 1,200',\n  'discount': '33%',\n  'rating': '4.1 out of 5',\n  'votes': '4.1 out of 5(38)'},\n {'name': \"Fashion Boots Women's Flat Shoes-black\",\n  'new_price': 'KSh 1,090',\n  'old_price': 'KSh 1,700',\n  'discount': '36%',\n  'rating': None,\n  'votes': None},\n {'name': 'Fluffy Duvet Gray',\n  'new_price': 'KSh 4,200',\n  'old_price': 'KSh 5,500',\n  'discount': '24%',\n  'rating': '3.7 out of 5',\n  'votes': '3.7 out of 5(12)'},\n {'name': 'Samsung Galaxy A03 Core, 6.5\", (Dual SIM) 32GB + 2GB RAM, 5000mAh_ Black + Smart Watch',\n  'new_price': 'KSh 12,699',\n  'old_price': 'KSh 20,999',\n  'discount': '40%',\n  'rating': '4.4 out of 5',\n  'votes': '4.4 out of 5(11)'},\n {'name': 'Superfoam Morning Glory Heavy Duty Quilted Mattress -Grey',\n  'new_price': 'KSh 8,579 - KSh 30,526',\n  'old_price': None,\n  'discount': None,\n  'rating': '4 out of 5',\n  'votes': '4 out of 5(4)'},\n {'name': \"Fashion Blue  Men's Jeans\",\n  'new_price': 'KSh 1,700',\n  'old_price': 'KSh 1,700 - KSh 2,000',\n  'discount': '15%',\n  'rating': '3.7 out of 5',\n  'votes': '3.7 out of 5(7)'},\n {'name': 'Samsung Galaxy A14, 6.6\", 128GB + 4GB RAM, 50MP, Dual SIM, 5000mAh, Silver',\n  'new_price': 'KSh 26,999',\n  'old_price': 'KSh 35,999',\n  'discount': '25%',\n  'rating': '4.3 out of 5',\n  'votes': '4.3 out of 5(32)'},\n {'name': 'Maybelline Fit Me Matte And Poreless Foundation -312 GOLDEN',\n  'new_price': 'KSh 1,275',\n  'old_price': 'KSh 1,700',\n  'discount': '25%',\n  'rating': '4.1 out of 5',\n  'votes': '4.1 out of 5(64)'},\n {'name': 'Fashion Platinum Plated Zircon Sunflower Pendant',\n  'new_price': 'KSh 260',\n  'old_price': 'KSh 300',\n  'discount': '13%',\n  'rating': '5 out of 5',\n  'votes': '5 out of 5(4)'},\n {'name': 'Conjoined Five Seater Heavy Duty Rubber Car Floor Mats - 3 Piece Set',\n  'new_price': 'KSh 2,750',\n  'old_price': 'KSh 4,500',\n  'discount': '39%',\n  'rating': '4.6 out of 5',\n  'votes': '4.6 out of 5(15)'},\n {'name': 'Mara Ayurvedic Shampoo Bar- 100g',\n  'new_price': 'KSh 400',\n  'old_price': None,\n  'discount': None,\n  'rating': '4.6 out of 5',\n  'votes': '4.6 out of 5(62)'},\n {'name': 'Hsdpa USB 4G/3G Universal Modem',\n  'new_price': 'KSh 1,297',\n  'old_price': 'KSh 2,000',\n  'discount': '35%',\n  'rating': '3.3 out of 5',\n  'votes': '3.3 out of 5(20)'},\n {'name': 'Classic Metallic Bathroom/toilet Rack-white.',\n  'new_price': 'KSh 4,300',\n  'old_price': 'KSh 4,500',\n  'discount': '4%',\n  'rating': None,\n  'votes': None},\n {'name': \"Kericho Gold Kericho Gold Speciality Infusions Ginger & Lemon 20's ETB - 40g\",\n  'new_price': 'KSh 216',\n  'old_price': 'KSh 235',\n  'discount': '8%',\n  'rating': '5 out of 5',\n  'votes': '5 out of 5(3)'},\n {'name': 'Samsung Galaxy A14, 6.6\", 128GB + 4GB, 50MP, Dual SIM, 5000mAh, Green + Smart Watch & Earpods',\n  'new_price': 'KSh 26,899',\n  'old_price': 'KSh 35,999',\n  'discount': '25%',\n  'rating': '3.2 out of 5',\n  'votes': '3.2 out of 5(5)'},\n {'name': 'AILYONS Powerful 2 In 1 Blender With Grinding Machine 1.5 Ltrs',\n  'new_price': 'KSh 2,599',\n  'old_price': 'KSh 4,270',\n  'discount': '39%',\n  'rating': '4.5 out of 5',\n  'votes': '4.5 out of 5(2)'},\n {'name': 'USB/SD Powerful Bluetooth Amplifier With FM Radio......',\n  'new_price': 'KSh 2,495',\n  'old_price': 'KSh 4,300',\n  'discount': '42%',\n  'rating': '4 out of 5',\n  'votes': '4 out of 5(5)'},\n {'name': 'Mosara Deep Treatment Masque - 400G.',\n  'new_price': 'KSh 1,100',\n  'old_price': None,\n  'discount': None,\n  'rating': '4.9 out of 5',\n  'votes': '4.9 out of 5(12)'},\n {'name': 'TWS HQ12 Super Bass Wireless Stereo Earbuds.',\n  'new_price': 'KSh 2,896',\n  'old_price': 'KSh 3,500',\n  'discount': '17%',\n  'rating': None,\n  'votes': None},\n {'name': 'Shirley May Black Car Perfume for men-100ml EDT',\n  'new_price': 'KSh 799',\n  'old_price': 'KSh 1,200',\n  'discount': '33%',\n  'rating': '4.2 out of 5',\n  'votes': '4.2 out of 5(139)'},\n {'name': 'Fashion Black Cotton Kneelength Ribbed Bodycon Dress',\n  'new_price': 'KSh 599',\n  'old_price': 'KSh 900',\n  'discount': '33%',\n  'rating': '4.1 out of 5',\n  'votes': '4.1 out of 5(31)'},\n {'name': 'Maybelline Sensational Liquid Matte 04 As Easy Berry',\n  'new_price': 'KSh 1,550',\n  'old_price': None,\n  'discount': None,\n  'rating': '3.5 out of 5',\n  'votes': '3.5 out of 5(51)'},\n {'name': \"Fashion 6Pcs Best Light Cotton Checked Brief Men's Boxers – SIZE27-34\",\n  'new_price': 'KSh 689',\n  'old_price': 'KSh 699',\n  'discount': '1%',\n  'rating': '3.3 out of 5',\n  'votes': '3.3 out of 5(12)'},\n {'name': \"XIAOMI Redmi Note 12 Pro 6.67'' 8GB 256GB ROM - Glacier Blue\",\n  'new_price': 'KSh 44,999',\n  'old_price': 'KSh 55,999',\n  'discount': '20%',\n  'rating': '4.7 out of 5',\n  'votes': '4.7 out of 5(6)'},\n {'name': 'Nunix 9090A 5.1 DELUXE 5D SURROUND HOME THEATER SYSTEM',\n  'new_price': 'KSh 15,999',\n  'old_price': 'KSh 25,000',\n  'discount': '36%',\n  'rating': '3.3 out of 5',\n  'votes': '3.3 out of 5(3)'},\n {'name': 'Cosrx Advanced Snail Mucin 96 Power Essence',\n  'new_price': 'KSh 3,300',\n  'old_price': 'KSh 4,150',\n  'discount': '20%',\n  'rating': '4.8 out of 5',\n  'votes': '4.8 out of 5(25)'},\n {'name': 'Fashion Tie N Dye Cotton Freesize Maxi Dera Dress',\n  'new_price': 'KSh 599',\n  'old_price': None,\n  'discount': None,\n  'rating': '5 out of 5',\n  'votes': '5 out of 5(7)'},\n {'name': 'Tecno Spark 10, 6.6\",128GB + 8GB, 50MP, Dual SIM, 5000mAh + Smart Watch & Power Bank',\n  'new_price': 'KSh 20,899',\n  'old_price': 'KSh 25,999',\n  'discount': '20%',\n  'rating': '4 out of 5',\n  'votes': '4 out of 5(24)'},\n {'name': '4 Liner Electric Lunchbox Cooker.',\n  'new_price': 'KSh 4,497',\n  'old_price': 'KSh 5,500',\n  'discount': '18%',\n  'rating': None,\n  'votes': None},\n {'name': 'Soft Fluffy Carpet-Grey',\n  'new_price': 'KSh 1,947 - KSh 5,290',\n  'old_price': 'KSh 3,500 - KSh 8,000',\n  'discount': '44%',\n  'rating': '3.3 out of 5',\n  'votes': '3.3 out of 5(3)'},\n {'name': '5kg Dumbbell Weight Set Pair',\n  'new_price': 'KSh 1,739',\n  'old_price': 'KSh 3,000',\n  'discount': '42%',\n  'rating': '4.3 out of 5',\n  'votes': '4.3 out of 5(44)'},\n {'name': 'Mosquito Net With Metallic 4 PCS Stands Cream.',\n  'new_price': 'KSh 1,350',\n  'old_price': 'KSh 2,500',\n  'discount': '46%',\n  'rating': '1 out of 5',\n  'votes': '1 out of 5(1)'},\n {'name': 'Dove Original Beauty Bar Soap.',\n  'new_price': 'KSh 349',\n  'old_price': 'KSh 700',\n  'discount': '50%',\n  'rating': '3.2 out of 5',\n  'votes': '3.2 out of 5(5)'},\n {'name': '1.98\" Full Touch Smart Watch Sport Health BT Call',\n  'new_price': 'KSh 2,140',\n  'old_price': 'KSh 3,387',\n  'discount': '37%',\n  'rating': '4.6 out of 5',\n  'votes': '4.6 out of 5(14)'},\n {'name': 'Power King 6 Way Quality Extension Socket With A 3Meter Cable.',\n  'new_price': 'KSh 452',\n  'old_price': 'KSh 711',\n  'discount': '36%',\n  'rating': '3.9 out of 5',\n  'votes': '3.9 out of 5(24)'},\n {'name': '5By8 Soft Chocolate Fluffy Carpets Non-slip Rugs Floor Mat',\n  'new_price': 'KSh 2,650',\n  'old_price': 'KSh 4,500',\n  'discount': '41%',\n  'rating': '4 out of 5',\n  'votes': '4 out of 5(27)'},\n {'name': 'WNGREAT Professional Double Tank 6L+ 6L Stainless Steel Deep Fryer',\n  'new_price': 'KSh 16,000',\n  'old_price': 'KSh 19,000',\n  'discount': '16%',\n  'rating': None,\n  'votes': None},\n {'name': 'Dessini Multifunctional Electric Pressure Cooker With Timer',\n  'new_price': 'KSh 6,640',\n  'old_price': 'KSh 10,000',\n  'discount': '34%',\n  'rating': '3.8 out of 5',\n  'votes': '3.8 out of 5(8)'},\n {'name': 'Nice & Lovely Aloe Vera Herbal Lotion 600ml',\n  'new_price': 'KSh 385',\n  'old_price': 'KSh 427',\n  'discount': '10%',\n  'rating': None,\n  'votes': None},\n {'name': 'WNGREAT Professional Double Tank 6L+ 6L Stainless Steel Deep Fryer',\n  'new_price': 'KSh 15,500',\n  'old_price': 'KSh 19,000',\n  'discount': '18%',\n  'rating': None,\n  'votes': None},\n {'name': 'Baby Care Baby Grooming Nursery Care Kit Portable',\n  'new_price': 'KSh 870',\n  'old_price': 'KSh 1,210',\n  'discount': '28%',\n  'rating': '4.2 out of 5',\n  'votes': '4.2 out of 5(79)'},\n {'name': 'Multicolour Lights For Christmas Led 100 Bulbs In 10mtrs',\n  'new_price': 'KSh 689',\n  'old_price': 'KSh 1,100',\n  'discount': '37%',\n  'rating': '5 out of 5',\n  'votes': '5 out of 5(4)'},\n {'name': 'Tecno Spark 10C, 6.6\", 128GB + 4GB, 16MP, Dual SIM, 5000mAh + Smart Watch & Earpods',\n  'new_price': 'KSh 17,799',\n  'old_price': 'KSh 25,999',\n  'discount': '32%',\n  'rating': '4.7 out of 5',\n  'votes': '4.7 out of 5(7)'},\n {'name': 'Fashion Official Laced Men Leather Shoes - BLACK',\n  'new_price': 'KSh 1,499 - KSh 1,599',\n  'old_price': 'KSh 2,500',\n  'discount': '40%',\n  'rating': '3.9 out of 5',\n  'votes': '3.9 out of 5(11)'},\n {'name': 'Cerave PM Facial Moisturizing Lotion Ultra Lightweight- Oil Free',\n  'new_price': 'KSh 2,700',\n  'old_price': None,\n  'discount': None,\n  'rating': '4.4 out of 5',\n  'votes': '4.4 out of 5(19)'},\n {'name': 'Advance 64GB Flask Disk + 64 GB Memory Card + Otg Cable + Selfie Stick + Watch',\n  'new_price': 'KSh 1,680',\n  'old_price': 'KSh 3,000',\n  'discount': '44%',\n  'rating': '4 out of 5',\n  'votes': '4 out of 5(2)'},\n {'name': '24Pcs 3cm Plastic Christmas Tree Balls Baubles Home-White',\n  'new_price': 'KSh 525',\n  'old_price': 'KSh 1,050',\n  'discount': '50%',\n  'rating': '1 out of 5',\n  'votes': '1 out of 5(1)'},\n {'name': 'Vitron 32\" Smart Android TV FRAMELESS,NetFlix,USB& HDMI PORTS+WI-FI+ FREE 2 Gifts',\n  'new_price': 'KSh 16,399',\n  'old_price': 'KSh 32,798',\n  'discount': '50%',\n  'rating': '4.3 out of 5',\n  'votes': '4.3 out of 5(13)'},\n {'name': 'Skilltech FIXED/LED/CURVED TV WallMount For 26-65Inch Screen',\n  'new_price': 'KSh 550',\n  'old_price': 'KSh 1,000',\n  'discount': '45%',\n  'rating': '4.2 out of 5',\n  'votes': '4.2 out of 5(17)'},\n {'name': 'Cotton Recieving Blankets',\n  'new_price': 'KSh 1,500',\n  'old_price': None,\n  'discount': None,\n  'rating': '4.1 out of 5',\n  'votes': '4.1 out of 5(9)'},\n {'name': \"XIAOMI Redmi Note 12 Pro 6.67'' 8GB 256GB ROM - Glacier Blue\",\n  'new_price': 'KSh 44,999',\n  'old_price': 'KSh 55,999',\n  'discount': '20%',\n  'rating': '4.7 out of 5',\n  'votes': '4.7 out of 5(6)'},\n {'name': 'Cp Heavy Industrial Gumboots',\n  'new_price': 'KSh 999 - KSh 1,500',\n  'old_price': 'KSh 1,500',\n  'discount': '33%',\n  'rating': '4.1 out of 5',\n  'votes': '4.1 out of 5(10)'},\n {'name': 'Nunix 9090A 5.1 DELUXE 5D SURROUND HOME THEATER SYSTEM',\n  'new_price': 'KSh 15,999',\n  'old_price': 'KSh 25,000',\n  'discount': '36%',\n  'rating': '3.3 out of 5',\n  'votes': '3.3 out of 5(3)'},\n {'name': 'Cosrx Advanced Snail Mucin 96 Power Essence',\n  'new_price': 'KSh 3,300',\n  'old_price': 'KSh 4,150',\n  'discount': '20%',\n  'rating': '4.8 out of 5',\n  'votes': '4.8 out of 5(25)'},\n {'name': 'Fashion Tie N Dye Cotton Freesize Maxi Dera Dress',\n  'new_price': 'KSh 599',\n  'old_price': None,\n  'discount': None,\n  'rating': '5 out of 5',\n  'votes': '5 out of 5(7)'},\n {'name': 'Tecno Spark 10, 6.6\",128GB + 8GB, 50MP, Dual SIM, 5000mAh + Smart Watch & Power Bank',\n  'new_price': 'KSh 20,899',\n  'old_price': 'KSh 25,999',\n  'discount': '20%',\n  'rating': '4 out of 5',\n  'votes': '4 out of 5(24)'},\n {'name': '4 Liner Electric Lunchbox Cooker.',\n  'new_price': 'KSh 4,497',\n  'old_price': 'KSh 5,500',\n  'discount': '18%',\n  'rating': None,\n  'votes': None},\n {'name': '5kg Dumbbell Weight Set Pair',\n  'new_price': 'KSh 1,739',\n  'old_price': 'KSh 3,000',\n  'discount': '42%',\n  'rating': '4.3 out of 5',\n  'votes': '4.3 out of 5(44)'},\n {'name': 'Dove Original Beauty Bar Soap.',\n  'new_price': 'KSh 349',\n  'old_price': 'KSh 700',\n  'discount': '50%',\n  'rating': '3.2 out of 5',\n  'votes': '3.2 out of 5(5)'},\n {'name': '1.98\" Full Touch Smart Watch Sport Health BT Call',\n  'new_price': 'KSh 2,140',\n  'old_price': 'KSh 3,387',\n  'discount': '37%',\n  'rating': '4.6 out of 5',\n  'votes': '4.6 out of 5(14)'},\n {'name': \"Fashion T-shirt 4-in-1 Men's Shirts Short Sleeve 100% High Quality Free 3-in-1 Socks\",\n  'new_price': 'KSh 1,964',\n  'old_price': 'KSh 2,767',\n  'discount': '29%',\n  'rating': '4.6 out of 5',\n  'votes': '4.6 out of 5(14)'},\n {'name': '5By8 Soft Chocolate Fluffy Carpets Non-slip Rugs Floor Mat',\n  'new_price': 'KSh 2,650',\n  'old_price': 'KSh 4,500',\n  'discount': '41%',\n  'rating': '4 out of 5',\n  'votes': '4 out of 5(27)'},\n {'name': 'WNGREAT Professional Double Tank 6L+ 6L Stainless Steel Deep Fryer',\n  'new_price': 'KSh 16,000',\n  'old_price': 'KSh 19,000',\n  'discount': '16%',\n  'rating': None,\n  'votes': None},\n {'name': 'Dessini Multifunctional Electric Pressure Cooker With Timer',\n  'new_price': 'KSh 6,640',\n  'old_price': 'KSh 10,000',\n  'discount': '34%',\n  'rating': '3.8 out of 5',\n  'votes': '3.8 out of 5(8)'},\n {'name': '1 Duvet 1 Bedsheet 2 Pillowcases + 2 Free Pillows',\n  'new_price': 'KSh 2,744',\n  'old_price': 'KSh 5,288',\n  'discount': '48%',\n  'rating': '3.9 out of 5',\n  'votes': '3.9 out of 5(18)'},\n {'name': 'Oraimo Strong Bass Earphones + Extra Airpods , Smart Watch',\n  'new_price': 'KSh 1,900',\n  'old_price': 'KSh 2,190',\n  'discount': '13%',\n  'rating': '2.5 out of 5',\n  'votes': '2.5 out of 5(2)'},\n {'name': 'Nice & Lovely Aloe Vera Herbal Lotion 600ml',\n  'new_price': 'KSh 385',\n  'old_price': 'KSh 427',\n  'discount': '10%',\n  'rating': None,\n  'votes': None},\n {'name': 'WNGREAT Professional Double Tank 6L+ 6L Stainless Steel Deep Fryer',\n  'new_price': 'KSh 15,500',\n  'old_price': 'KSh 19,000',\n  'discount': '18%',\n  'rating': None,\n  'votes': None},\n {'name': 'Baby Care Baby Grooming Nursery Care Kit Portable',\n  'new_price': 'KSh 870',\n  'old_price': 'KSh 1,210',\n  'discount': '28%',\n  'rating': '4.2 out of 5',\n  'votes': '4.2 out of 5(79)'},\n {'name': 'Multicolour Lights For Christmas Led 100 Bulbs In 10mtrs',\n  'new_price': 'KSh 689',\n  'old_price': 'KSh 1,100',\n  'discount': '37%',\n  'rating': '5 out of 5',\n  'votes': '5 out of 5(4)'},\n {'name': 'Tecno Spark 10C, 6.6\", 128GB + 4GB, 16MP, Dual SIM, 5000mAh + Smart Watch & Earpods',\n  'new_price': 'KSh 17,799',\n  'old_price': 'KSh 25,999',\n  'discount': '32%',\n  'rating': '4.7 out of 5',\n  'votes': '4.7 out of 5(7)'},\n {'name': 'Fashion Official Laced Men Leather Shoes - BLACK',\n  'new_price': 'KSh 1,499 - KSh 1,599',\n  'old_price': 'KSh 2,500',\n  'discount': '40%',\n  'rating': '3.9 out of 5',\n  'votes': '3.9 out of 5(11)'},\n {'name': 'Cerave PM Facial Moisturizing Lotion Ultra Lightweight- Oil Free',\n  'new_price': 'KSh 2,700',\n  'old_price': None,\n  'discount': None,\n  'rating': '4.4 out of 5',\n  'votes': '4.4 out of 5(19)'},\n {'name': 'Advance 64GB Flask Disk + 64 GB Memory Card + Otg Cable + Selfie Stick + Watch',\n  'new_price': 'KSh 1,680',\n  'old_price': 'KSh 3,000',\n  'discount': '44%',\n  'rating': '4 out of 5',\n  'votes': '4 out of 5(2)'},\n {'name': '24Pcs 3cm Plastic Christmas Tree Balls Baubles Home-White',\n  'new_price': 'KSh 525',\n  'old_price': 'KSh 1,050',\n  'discount': '50%',\n  'rating': '1 out of 5',\n  'votes': '1 out of 5(1)'},\n {'name': '12-Hole Non-Stick Muffin / Cupcake ,Baking Oven Tray /Pan',\n  'new_price': 'KSh 755',\n  'old_price': 'KSh 1,500',\n  'discount': '50%',\n  'rating': '4.6 out of 5',\n  'votes': '4.6 out of 5(14)'},\n {'name': 'Vitron 32\" Smart Android TV FRAMELESS,NetFlix,USB& HDMI PORTS+WI-FI+ FREE 2 Gifts',\n  'new_price': 'KSh 16,399',\n  'old_price': 'KSh 32,798',\n  'discount': '50%',\n  'rating': '4.3 out of 5',\n  'votes': '4.3 out of 5(13)'},\n {'name': 'Cotton Recieving Blankets',\n  'new_price': 'KSh 1,500',\n  'old_price': None,\n  'discount': None,\n  'rating': '4.1 out of 5',\n  'votes': '4.1 out of 5(9)'},\n {'name': 'Vagina Tightening Stick Madura Stick Vagina Stick Medicate Stick',\n  'new_price': 'KSh 849',\n  'old_price': 'KSh 1,200',\n  'discount': '29%',\n  'rating': '4.1 out of 5',\n  'votes': '4.1 out of 5(36)'},\n {'name': 'Fashion Mens Vintage Graffiti Shirts Patterned Casual Ethnic Casual Beach T-Shirts-Red',\n  'new_price': 'KSh 650',\n  'old_price': 'KSh 720',\n  'discount': '10%',\n  'rating': '3.5 out of 5',\n  'votes': '3.5 out of 5(57)'},\n {'name': 'Maybelline Fit Me Matte And Poreless Foundation 30 Ml - 348 GOLDEN',\n  'new_price': 'KSh 1,275',\n  'old_price': 'KSh 1,700',\n  'discount': '25%',\n  'rating': '4.7 out of 5',\n  'votes': '4.7 out of 5(29)'},\n {'name': 'WNGREAT Professional Double Tank 6L+ 6L Stainless Steel Deep Fryer',\n  'new_price': 'KSh 16,400',\n  'old_price': 'KSh 19,000',\n  'discount': '14%',\n  'rating': None,\n  'votes': None},\n {'name': 'Fashion 6pcs Ladies Silk Seamless Panties',\n  'new_price': 'KSh 1,400',\n  'old_price': 'KSh 1,800',\n  'discount': '22%',\n  'rating': '4.3 out of 5',\n  'votes': '4.3 out of 5(29)'},\n {'name': \"L'Oréal Paris Revitalift Filler Replumping Night Cream\",\n  'new_price': 'KSh 2,513',\n  'old_price': 'KSh 3,350',\n  'discount': '25%',\n  'rating': '4.3 out of 5',\n  'votes': '4.3 out of 5(7)'},\n {'name': 'Two Stand Mosquito Net With Rail - Cream',\n  'new_price': 'KSh 4,600',\n  'old_price': 'KSh 5,000',\n  'discount': '8%',\n  'rating': '3.9 out of 5',\n  'votes': '3.9 out of 5(21)'},\n {'name': 'SIWAR BY Néo Artisanal SIWAR High End Military Boots - Biege',\n  'new_price': 'KSh 2,927',\n  'old_price': 'KSh 6,500',\n  'discount': '55%',\n  'rating': '4.1 out of 5',\n  'votes': '4.1 out of 5(31)'},\n {'name': 'Yazole 1 Pair Couple Wrist Watch Casual PU Leather',\n  'new_price': 'KSh 1,108',\n  'old_price': 'KSh 1,955',\n  'discount': '43%',\n  'rating': '4.2 out of 5',\n  'votes': '4.2 out of 5(106)'},\n {'name': 'Fashion InPods12 Macaron Wireless Bluetooth 5.0 Touch Control Sports Earphones Earbuds-Black',\n  'new_price': 'KSh 729',\n  'old_price': 'KSh 1,400',\n  'discount': '48%',\n  'rating': '4 out of 5',\n  'votes': '4 out of 5(126)'},\n {'name': \"William Lawson's William Lawson's Scotch Whisky - 1.5L\",\n  'new_price': 'KSh 2,848',\n  'old_price': 'KSh 3,107',\n  'discount': '8%',\n  'rating': '4.4 out of 5',\n  'votes': '4.4 out of 5(21)'},\n {'name': 'Fashion Unisex Plain Curved Baseball Cap',\n  'new_price': 'KSh 299',\n  'old_price': None,\n  'discount': None,\n  'rating': '4.2 out of 5',\n  'votes': '4.2 out of 5(33)'},\n {'name': 'Shirley May Black Car Perfume for men-100ml EDT',\n  'new_price': 'KSh 799',\n  'old_price': 'KSh 1,200',\n  'discount': '33%',\n  'rating': '4.2 out of 5',\n  'votes': '4.2 out of 5(139)'},\n {'name': 'Fashion Black Cotton Kneelength Ribbed Bodycon Dress',\n  'new_price': 'KSh 599',\n  'old_price': 'KSh 900',\n  'discount': '33%',\n  'rating': '4.1 out of 5',\n  'votes': '4.1 out of 5(31)'},\n {'name': 'Maybelline Sensational Liquid Matte 04 As Easy Berry',\n  'new_price': 'KSh 1,550',\n  'old_price': None,\n  'discount': None,\n  'rating': '3.5 out of 5',\n  'votes': '3.5 out of 5(51)'},\n {'name': \"Fashion 6Pcs Best Light Cotton Checked Brief Men's Boxers – SIZE27-34\",\n  'new_price': 'KSh 689',\n  'old_price': 'KSh 699',\n  'discount': '1%',\n  'rating': '3.3 out of 5',\n  'votes': '3.3 out of 5(12)'},\n {'name': \"Fashion Men's Loafers Comfortable Pure Leather Ware  - Brown\",\n  'new_price': 'KSh 1,500',\n  'old_price': None,\n  'discount': None,\n  'rating': '4.6 out of 5',\n  'votes': '4.6 out of 5(14)'},\n {'name': \"XIAOMI Redmi Note 12 Pro 6.67'' 8GB 256GB ROM - Glacier Blue\",\n  'new_price': 'KSh 44,999',\n  'old_price': 'KSh 55,999',\n  'discount': '20%',\n  'rating': '4.7 out of 5',\n  'votes': '4.7 out of 5(6)'},\n {'name': 'Cp Heavy Industrial Gumboots',\n  'new_price': 'KSh 999 - KSh 1,500',\n  'old_price': 'KSh 1,500',\n  'discount': '33%',\n  'rating': '4.1 out of 5',\n  'votes': '4.1 out of 5(10)'},\n {'name': 'Nunix 9090A 5.1 DELUXE 5D SURROUND HOME THEATER SYSTEM',\n  'new_price': 'KSh 15,999',\n  'old_price': 'KSh 25,000',\n  'discount': '36%',\n  'rating': '3.3 out of 5',\n  'votes': '3.3 out of 5(3)'},\n {'name': 'Cosrx Advanced Snail Mucin 96 Power Essence',\n  'new_price': 'KSh 3,300',\n  'old_price': 'KSh 4,150',\n  'discount': '20%',\n  'rating': '4.8 out of 5',\n  'votes': '4.8 out of 5(25)'},\n {'name': 'Fashion Tie N Dye Cotton Freesize Maxi Dera Dress',\n  'new_price': 'KSh 599',\n  'old_price': None,\n  'discount': None,\n  'rating': '5 out of 5',\n  'votes': '5 out of 5(7)'},\n {'name': 'Tecno Spark 10, 6.6\",128GB + 8GB, 50MP, Dual SIM, 5000mAh + Smart Watch & Power Bank',\n  'new_price': 'KSh 20,899',\n  'old_price': 'KSh 25,999',\n  'discount': '20%',\n  'rating': '4 out of 5',\n  'votes': '4 out of 5(24)'},\n {'name': '4 Liner Electric Lunchbox Cooker.',\n  'new_price': 'KSh 4,497',\n  'old_price': 'KSh 5,500',\n  'discount': '18%',\n  'rating': None,\n  'votes': None},\n {'name': 'Soft Fluffy Carpet-Grey',\n  'new_price': 'KSh 1,947 - KSh 5,290',\n  'old_price': 'KSh 3,500 - KSh 8,000',\n  'discount': '44%',\n  'rating': '3.3 out of 5',\n  'votes': '3.3 out of 5(3)'},\n {'name': '5kg Dumbbell Weight Set Pair',\n  'new_price': 'KSh 1,739',\n  'old_price': 'KSh 3,000',\n  'discount': '42%',\n  'rating': '4.3 out of 5',\n  'votes': '4.3 out of 5(44)'},\n {'name': 'Fashion Necklace Exquisite Adjustable Single Faux Pearl-Golden',\n  'new_price': 'KSh 92',\n  'old_price': 'KSh 184',\n  'discount': '50%',\n  'rating': '3.9 out of 5',\n  'votes': '3.9 out of 5(12)'},\n {'name': 'Dove Original Beauty Bar Soap.',\n  'new_price': 'KSh 349',\n  'old_price': 'KSh 700',\n  'discount': '50%',\n  'rating': '3.2 out of 5',\n  'votes': '3.2 out of 5(5)'},\n {'name': '1.98\" Full Touch Smart Watch Sport Health BT Call',\n  'new_price': 'KSh 2,140',\n  'old_price': 'KSh 3,387',\n  'discount': '37%',\n  'rating': '4.6 out of 5',\n  'votes': '4.6 out of 5(14)'},\n {'name': \"Fashion T-shirt 4-in-1 Men's Shirts Short Sleeve 100% High Quality Free 3-in-1 Socks\",\n  'new_price': 'KSh 1,964',\n  'old_price': 'KSh 2,767',\n  'discount': '29%',\n  'rating': '4.6 out of 5',\n  'votes': '4.6 out of 5(14)'},\n {'name': \"Fashion Men's Shoes High Top Martin Boots-brown\",\n  'new_price': 'KSh 1,999',\n  'old_price': 'KSh 2,700',\n  'discount': '26%',\n  'rating': '1 out of 5',\n  'votes': '1 out of 5(1)'},\n {'name': 'Power King 6 Way Quality Extension Socket With A 3Meter Cable.',\n  'new_price': 'KSh 452',\n  'old_price': 'KSh 711',\n  'discount': '36%',\n  'rating': '3.9 out of 5',\n  'votes': '3.9 out of 5(24)'},\n {'name': '5By8 Soft Chocolate Fluffy Carpets Non-slip Rugs Floor Mat',\n  'new_price': 'KSh 2,650',\n  'old_price': 'KSh 4,500',\n  'discount': '41%',\n  'rating': '4 out of 5',\n  'votes': '4 out of 5(27)'},\n {'name': 'WNGREAT Professional Double Tank 6L+ 6L Stainless Steel Deep Fryer',\n  'new_price': 'KSh 16,000',\n  'old_price': 'KSh 19,000',\n  'discount': '16%',\n  'rating': None,\n  'votes': None},\n {'name': 'Dessini Multifunctional Electric Pressure Cooker With Timer',\n  'new_price': 'KSh 6,640',\n  'old_price': 'KSh 10,000',\n  'discount': '34%',\n  'rating': '3.8 out of 5',\n  'votes': '3.8 out of 5(8)'},\n {'name': '1 Duvet 1 Bedsheet 2 Pillowcases + 2 Free Pillows',\n  'new_price': 'KSh 2,744',\n  'old_price': 'KSh 5,288',\n  'discount': '48%',\n  'rating': '3.9 out of 5',\n  'votes': '3.9 out of 5(18)'},\n {'name': 'Oraimo Strong Bass Earphones + Extra Airpods , Smart Watch',\n  'new_price': 'KSh 1,900',\n  'old_price': 'KSh 2,190',\n  'discount': '13%',\n  'rating': '2.5 out of 5',\n  'votes': '2.5 out of 5(2)'},\n {'name': 'Nice & Lovely Aloe Vera Herbal Lotion 600ml',\n  'new_price': 'KSh 385',\n  'old_price': 'KSh 427',\n  'discount': '10%',\n  'rating': None,\n  'votes': None},\n {'name': 'WNGREAT Professional Double Tank 6L+ 6L Stainless Steel Deep Fryer',\n  'new_price': 'KSh 15,500',\n  'old_price': 'KSh 19,000',\n  'discount': '18%',\n  'rating': None,\n  'votes': None},\n {'name': 'Baby Care Baby Grooming Nursery Care Kit Portable',\n  'new_price': 'KSh 870',\n  'old_price': 'KSh 1,210',\n  'discount': '28%',\n  'rating': '4.2 out of 5',\n  'votes': '4.2 out of 5(79)'},\n {'name': 'Multicolour Lights For Christmas Led 100 Bulbs In 10mtrs',\n  'new_price': 'KSh 689',\n  'old_price': 'KSh 1,100',\n  'discount': '37%',\n  'rating': '5 out of 5',\n  'votes': '5 out of 5(4)'},\n {'name': 'Tecno Spark 10C, 6.6\", 128GB + 4GB, 16MP, Dual SIM, 5000mAh + Smart Watch & Earpods',\n  'new_price': 'KSh 17,799',\n  'old_price': 'KSh 25,999',\n  'discount': '32%',\n  'rating': '4.7 out of 5',\n  'votes': '4.7 out of 5(7)'},\n {'name': 'Fashion Official Laced Men Leather Shoes - BLACK',\n  'new_price': 'KSh 1,499 - KSh 1,599',\n  'old_price': 'KSh 2,500',\n  'discount': '40%',\n  'rating': '3.9 out of 5',\n  'votes': '3.9 out of 5(11)'},\n {'name': 'Cerave PM Facial Moisturizing Lotion Ultra Lightweight- Oil Free',\n  'new_price': 'KSh 2,700',\n  'old_price': None,\n  'discount': None,\n  'rating': '4.4 out of 5',\n  'votes': '4.4 out of 5(19)'},\n {'name': 'Advance 64GB Flask Disk + 64 GB Memory Card + Otg Cable + Selfie Stick + Watch',\n  'new_price': 'KSh 1,680',\n  'old_price': 'KSh 3,000',\n  'discount': '44%',\n  'rating': '4 out of 5',\n  'votes': '4 out of 5(2)'},\n {'name': '24Pcs 3cm Plastic Christmas Tree Balls Baubles Home-White',\n  'new_price': 'KSh 525',\n  'old_price': 'KSh 1,050',\n  'discount': '50%',\n  'rating': '1 out of 5',\n  'votes': '1 out of 5(1)'},\n {'name': '12-Hole Non-Stick Muffin / Cupcake ,Baking Oven Tray /Pan',\n  'new_price': 'KSh 755',\n  'old_price': 'KSh 1,500',\n  'discount': '50%',\n  'rating': '4.6 out of 5',\n  'votes': '4.6 out of 5(14)'},\n {'name': 'Vitron 32\" Smart Android TV FRAMELESS,NetFlix,USB& HDMI PORTS+WI-FI+ FREE 2 Gifts',\n  'new_price': 'KSh 16,399',\n  'old_price': 'KSh 32,798',\n  'discount': '50%',\n  'rating': '4.3 out of 5',\n  'votes': '4.3 out of 5(13)'},\n {'name': 'Cotton Recieving Blankets',\n  'new_price': 'KSh 1,500',\n  'old_price': None,\n  'discount': None,\n  'rating': '4.1 out of 5',\n  'votes': '4.1 out of 5(9)'},\n {'name': 'Vagina Tightening Stick Madura Stick Vagina Stick Medicate Stick',\n  'new_price': 'KSh 849',\n  'old_price': 'KSh 1,200',\n  'discount': '29%',\n  'rating': '4.1 out of 5',\n  'votes': '4.1 out of 5(36)'},\n {'name': 'Fashion Mens Vintage Graffiti Shirts Patterned Casual Ethnic Casual Beach T-Shirts-Red',\n  'new_price': 'KSh 650',\n  'old_price': 'KSh 720',\n  'discount': '10%',\n  'rating': '3.5 out of 5',\n  'votes': '3.5 out of 5(57)'},\n {'name': 'Maybelline Fit Me Matte And Poreless Foundation 30 Ml - 348 GOLDEN',\n  'new_price': 'KSh 1,275',\n  'old_price': 'KSh 1,700',\n  'discount': '25%',\n  'rating': '4.7 out of 5',\n  'votes': '4.7 out of 5(29)'},\n {'name': 'Fashion Mens Long Sleeve Dress Shirts-Navy',\n  'new_price': 'KSh 930',\n  'old_price': 'KSh 1,799',\n  'discount': '48%',\n  'rating': '4.1 out of 5',\n  'votes': '4.1 out of 5(375)'},\n {'name': 'Vitron VDR128DS Double Door Refrigerator-Silver',\n  'new_price': 'KSh 34,799',\n  'old_price': 'KSh 60,000',\n  'discount': '42%',\n  'rating': '4 out of 5',\n  'votes': '4 out of 5(1)'},\n {'name': '4-Layer Storage Cart Utility Rolling Cart With Wheels',\n  'new_price': 'KSh 1,999',\n  'old_price': None,\n  'discount': None,\n  'rating': '5 out of 5',\n  'votes': '5 out of 5(5)'},\n {'name': 'Qwen Wireless Earbuds Touch Control In-ear Bluetooth Earphones',\n  'new_price': 'KSh 650',\n  'old_price': 'KSh 1,000',\n  'discount': '35%',\n  'rating': '4.3 out of 5',\n  'votes': '4.3 out of 5(20)'},\n {'name': \"Fashion 3 In 1 Men's T-Shirt Short Hello Africa Sleeve Shorts Set With Chain White\",\n  'new_price': 'KSh 899 - KSh 930',\n  'old_price': 'KSh 1,300 - KSh 1,359',\n  'discount': '34%',\n  'rating': '3.8 out of 5',\n  'votes': '3.8 out of 5(4)'},\n {'name': 'Bontel 2720 1.77”SIZE DISP, Flip Phone, 1000mAh,WATCH',\n  'new_price': 'KSh 2,250',\n  'old_price': 'KSh 2,500',\n  'discount': '10%',\n  'rating': '3.7 out of 5',\n  'votes': '3.7 out of 5(3)'},\n {'name': 'HIGH QUALITY STONE PAN',\n  'new_price': 'KSh 1,269',\n  'old_price': 'KSh 1,990',\n  'discount': '36%',\n  'rating': '5 out of 5',\n  'votes': '5 out of 5(11)'},\n {'name': 'The Ordinary Glycolic Acid 7% Toning Solution',\n  'new_price': 'KSh 1,030',\n  'old_price': None,\n  'discount': None,\n  'rating': '4.5 out of 5',\n  'votes': '4.5 out of 5(2)'},\n {'name': 'Chronos Women Rhinestone Watch Silver Bracelet Quartzwatch',\n  'new_price': 'KSh 1,141',\n  'old_price': 'KSh 1,957',\n  'discount': '42%',\n  'rating': '4.6 out of 5',\n  'votes': '4.6 out of 5(35)'},\n {'name': 'Nunix  Table Top Cooker 3 Gas + 1 Electric Burner Stove',\n  'new_price': 'KSh 5,897',\n  'old_price': 'KSh 9,000',\n  'discount': '34%',\n  'rating': '5 out of 5',\n  'votes': '5 out of 5(1)'},\n {'name': 'Set Of 6 Beautiful Dinner Serving Ceramic Plates',\n  'new_price': 'KSh 1,600',\n  'old_price': 'KSh 2,000',\n  'discount': '20%',\n  'rating': '3.7 out of 5',\n  'votes': '3.7 out of 5(15)'},\n {'name': 'Lenovo HE05 BLUETOOTH 5.0 WIRELESS EARPHONE HEADSET IPX5',\n  'new_price': 'KSh 1,650',\n  'old_price': 'KSh 3,200',\n  'discount': '48%',\n  'rating': '3.3 out of 5',\n  'votes': '3.3 out of 5(7)'},\n {'name': 'Video Making Kit Vlogging  Kit For Live Streaming.',\n  'new_price': 'KSh 2,890',\n  'old_price': 'KSh 3,600',\n  'discount': '20%',\n  'rating': None,\n  'votes': None},\n {'name': 'Vision Plus VP2120SB - Sound Pro Wireless - 160W RMS - Black',\n  'new_price': 'KSh 18,499',\n  'old_price': 'KSh 20,995',\n  'discount': '12%',\n  'rating': '4.4 out of 5',\n  'votes': '4.4 out of 5(16)'},\n {'name': 'Samsung 10000 MAh 15W Fast Charging Power Bank 10000MAH',\n  'new_price': 'KSh 3,299',\n  'old_price': 'KSh 5,500',\n  'discount': '40%',\n  'rating': '4.2 out of 5',\n  'votes': '4.2 out of 5(18)'},\n {'name': 'Badili - Samsung Galaxy S9 (Renewed), 5.8\", 64GB+4GB RAM, Black',\n  'new_price': 'KSh 21,000',\n  'old_price': 'KSh 24,875',\n  'discount': '16%',\n  'rating': '4 out of 5',\n  'votes': '4 out of 5(2)'},\n {'name': 'Rectangle Non-stick Bread Cake/Baking Mold Loaf Tin Black',\n  'new_price': 'KSh 695',\n  'old_price': 'KSh 1,200',\n  'discount': '42%',\n  'rating': '4.2 out of 5',\n  'votes': '4.2 out of 5(11)'},\n {'name': 'Tecno 301, 4MB+4MB, Dual Sim, Expandable Up To 32GB, Memory Card Slot- Black',\n  'new_price': 'KSh 3,600',\n  'old_price': None,\n  'discount': None,\n  'rating': '4.3 out of 5',\n  'votes': '4.3 out of 5(3)'},\n {'name': 'MK Electronics TV Guard Surge Protector + Free 5 Way High Quality Power Extension',\n  'new_price': 'KSh 1,099',\n  'old_price': 'KSh 1,500',\n  'discount': '27%',\n  'rating': '2.5 out of 5',\n  'votes': '2.5 out of 5(2)'},\n {'name': 'Fashion Heavy Duty Plain T Shirt-Maroon,White, Navy Blue And Black',\n  'new_price': 'KSh 1,998 - KSh 2,249',\n  'old_price': 'KSh 1,999 - KSh 2,849',\n  'discount': '21%',\n  'rating': '3.9 out of 5',\n  'votes': '3.9 out of 5(59)'},\n {'name': 'Vitron 3.1 HOME THEATER BUILT IN POWERFUL  SOUND AND BASS',\n  'new_price': 'KSh 8,389',\n  'old_price': 'KSh 9,999',\n  'discount': '16%',\n  'rating': '5 out of 5',\n  'votes': '5 out of 5(2)'},\n {'name': 'Velvex Dishwashing Liquid Orange 500ml',\n  'new_price': 'KSh 105',\n  'old_price': None,\n  'discount': None,\n  'rating': '4.8 out of 5',\n  'votes': '4.8 out of 5(20)'},\n {'name': 'SCRABBLE & MONOPOLY  2 in 1 Board Game',\n  'new_price': 'KSh 1,490',\n  'old_price': 'KSh 2,500',\n  'discount': '40%',\n  'rating': '4 out of 5',\n  'votes': '4 out of 5(4)'},\n {'name': '25pcs Agility Disc Cone Set Multi Sport Training Space',\n  'new_price': 'KSh 2,129',\n  'old_price': 'KSh 3,939',\n  'discount': '46%',\n  'rating': '4.3 out of 5',\n  'votes': '4.3 out of 5(19)'},\n {'name': \"Delta Men's Boots.\",\n  'new_price': 'KSh 3,500 - KSh 3,599',\n  'old_price': 'KSh 5,000',\n  'discount': '30%',\n  'rating': '4.5 out of 5',\n  'votes': '4.5 out of 5(35)'},\n {'name': 'ADJUSTABLE DUMBELL WEIGHT SET',\n  'new_price': 'KSh 7,285 - KSh 10,445',\n  'old_price': 'KSh 14,000 - KSh 19,500',\n  'discount': '48%',\n  'rating': '4.1 out of 5',\n  'votes': '4.1 out of 5(15)'},\n {'name': 'Power King Extension Plus &Fridge &Tv Guard White///SUPERFLY',\n  'new_price': 'KSh 1,380',\n  'old_price': 'KSh 2,000',\n  'discount': '31%',\n  'rating': '3.8 out of 5',\n  'votes': '3.8 out of 5(28)'},\n {'name': '4pc Set TC Cotton Stripped Bedsheets (2 Bed Sheets, 2 Pillow Cases)',\n  'new_price': 'KSh 1,699',\n  'old_price': None,\n  'discount': None,\n  'rating': '5 out of 5',\n  'votes': '5 out of 5(1)'},\n {'name': 'Foldable/Portable Clothes Drying And Hanging Rack',\n  'new_price': 'KSh 3,198',\n  'old_price': 'KSh 4,800',\n  'discount': '33%',\n  'rating': '2.3 out of 5',\n  'votes': '2.3 out of 5(4)'},\n {'name': 'Fashion High Waist Jeans - Bell Jeans - Elastic Slim Fit Ladies Pants-Blue',\n  'new_price': 'KSh 1,700 - KSh 1,800',\n  'old_price': 'KSh 3,000',\n  'discount': '43%',\n  'rating': '4 out of 5',\n  'votes': '4 out of 5(2)'},\n {'name': 'Qwen Magnetic Eyeliner & Eyelashes False Eye Lashes Reusable',\n  'new_price': 'KSh 659',\n  'old_price': 'KSh 1,200',\n  'discount': '45%',\n  'rating': '4.3 out of 5',\n  'votes': '4.3 out of 5(31)'},\n {'name': 'Tapestry  Mat Mesh Base For Making Handmade Shaggy Mats- COLOR PURPLE',\n  'new_price': 'KSh 825 - KSh 1,925',\n  'old_price': 'KSh 925 - KSh 2,255',\n  'discount': '15%',\n  'rating': '4.4 out of 5',\n  'votes': '4.4 out of 5(11)'},\n {'name': 'Fashion Tie N Dye Cotton Freesize Maxi Dera Dress',\n  'new_price': 'KSh 599',\n  'old_price': None,\n  'discount': None,\n  'rating': '3.8 out of 5',\n  'votes': '3.8 out of 5(17)'},\n {'name': 'Kids Fleece Blankets/Throw Blankets',\n  'new_price': 'KSh 699',\n  'old_price': 'KSh 1,500',\n  'discount': '53%',\n  'rating': '4 out of 5',\n  'votes': '4 out of 5(3)'},\n {'name': 'Tecno POP 7 Pro, 6.56 Display 4GB + 64GB, (Dual SIM), 5000mAh, 4G - ..ck',\n  'new_price': 'KSh 14,100',\n  'old_price': 'KSh 17,000',\n  'discount': '17%',\n  'rating': None,\n  'votes': None},\n {'name': 'Bluetooth Adapter USB 5.0 Bluetooth Dongle Bluetooth Receiver Adapter',\n  'new_price': 'KSh 499',\n  'old_price': 'KSh 950',\n  'discount': '47%',\n  'rating': '4.4 out of 5',\n  'votes': '4.4 out of 5(8)'},\n {'name': 'Rashnik Modern Double Spiral Electric Hotplate -Cooker/burner',\n  'new_price': 'KSh 1,990',\n  'old_price': 'KSh 3,500',\n  'discount': '43%',\n  'rating': '3.4 out of 5',\n  'votes': '3.4 out of 5(14)'},\n {'name': 'Velvex Conforta Panty Liners Normal Pocket (Indv. Wrapped) 22s',\n  'new_price': 'KSh 190',\n  'old_price': None,\n  'discount': None,\n  'rating': '4.6 out of 5',\n  'votes': '4.6 out of 5(21)'},\n {'name': 'T&G TG117 PORTABLE WIRELESS BLUETOOTH SPEAKER - BLACK',\n  'new_price': 'KSh 2,000',\n  'old_price': None,\n  'discount': None,\n  'rating': '4 out of 5',\n  'votes': '4 out of 5(3)'},\n {'name': 'Fashion Handbag Women Bag Ladies Purse Tote Hobo Bag Female Crossbody Bag Messenger Shoulder Bag Sling Wallet Satchel',\n  'new_price': 'KSh 399',\n  'old_price': 'KSh 499',\n  'discount': '20%',\n  'rating': '3.8 out of 5',\n  'votes': '3.8 out of 5(13)'},\n {'name': 'Always Home Always 3l Vacuum Thermos Flask - Stainless Steel.',\n  'new_price': 'KSh 2,498',\n  'old_price': 'KSh 3,500',\n  'discount': '29%',\n  'rating': None,\n  'votes': None},\n {'name': 'tenda 300Mbps Wireless WiFi Router',\n  'new_price': 'KSh 2,249',\n  'old_price': 'KSh 2,800',\n  'discount': '20%',\n  'rating': '5 out of 5',\n  'votes': '5 out of 5(2)'},\n {'name': 'All Seasons Home/ Industrial Safety Boots',\n  'new_price': 'KSh 2,150',\n  'old_price': 'KSh 4,100',\n  'discount': '48%',\n  'rating': '2.5 out of 5',\n  'votes': '2.5 out of 5(2)'},\n {'name': 'Fashion Leather Band Watch Quartz Business Watch',\n  'new_price': 'KSh 670',\n  'old_price': 'KSh 1,264',\n  'discount': '47%',\n  'rating': '3.9 out of 5',\n  'votes': '3.9 out of 5(34)'},\n {'name': 'Power King >6 Outlet Power Extension  Cable > 6 Way + 6kg Gas Burner',\n  'new_price': 'KSh 999',\n  'old_price': 'KSh 1,400',\n  'discount': '29%',\n  'rating': '5 out of 5',\n  'votes': '5 out of 5(1)'},\n {'name': 'Sathiya 1500W 2L Electric Water Kettle Heater Jug,360⁰ + FREE Towel',\n  'new_price': 'KSh 1,239',\n  'old_price': 'KSh 2,000',\n  'discount': '38%',\n  'rating': '4.5 out of 5',\n  'votes': '4.5 out of 5(28)'},\n {'name': 'Vision Plus VP8843KV - 43″ 4K Frameless V+ OS Smart TV',\n  'new_price': 'KSh 30,999',\n  'old_price': 'KSh 34,995',\n  'discount': '11%',\n  'rating': '4.2 out of 5',\n  'votes': '4.2 out of 5(26)'},\n {'name': 'Bebe kids study tablets 32GB/2GB',\n  'new_price': 'KSh 9,850',\n  'old_price': 'KSh 15,000',\n  'discount': '34%',\n  'rating': None,\n  'votes': None},\n {'name': 'Vaseline Lip Therapy (Aloe Vera) -20g Moisturizing',\n  'new_price': 'KSh 435',\n  'old_price': 'KSh 600',\n  'discount': '28%',\n  'rating': '4.3 out of 5',\n  'votes': '4.3 out of 5(7)'},\n {'name': 'Samsung Fast Charger Type C To C.',\n  'new_price': 'KSh 1,349',\n  'old_price': 'KSh 1,699',\n  'discount': '21%',\n  'rating': '4.2 out of 5',\n  'votes': '4.2 out of 5(32)'},\n {'name': 'Fashion Hip Hop Bling Exclusive Ice Cuban GOLD Hand Chain',\n  'new_price': 'KSh 413',\n  'old_price': 'KSh 625',\n  'discount': '34%',\n  'rating': '3.9 out of 5',\n  'votes': '3.9 out of 5(34)'},\n {'name': 'Zoe Body Milk Dry Lotion – 400ml.',\n  'new_price': 'KSh 260',\n  'old_price': None,\n  'discount': None,\n  'rating': '4 out of 5',\n  'votes': '4 out of 5(5)'},\n {'name': 'Amtec 24 Inch Digital LED TV AC/DC Clear Images',\n  'new_price': 'KSh 9,297',\n  'old_price': 'KSh 9,407',\n  'discount': '1%',\n  'rating': '1 out of 5',\n  'votes': '1 out of 5(1)'},\n {'name': 'Nunix Home Theater System With Remote/ FM/ Bluetooth',\n  'new_price': 'KSh 9,495',\n  'old_price': 'KSh 18,000',\n  'discount': '47%',\n  'rating': '3.6 out of 5',\n  'votes': '3.6 out of 5(5)'},\n {'name': 'Michaels Bouquet Michaels  Black #1 10ml PERFUME',\n  'new_price': 'KSh 500',\n  'old_price': None,\n  'discount': None,\n  'rating': '4.9 out of 5',\n  'votes': '4.9 out of 5(8)'},\n {'name': 'BVOT Universal 4G/5G Portable Pocket Wifi',\n  'new_price': 'KSh 3,899',\n  'old_price': 'KSh 5,500',\n  'discount': '29%',\n  'rating': '2.5 out of 5',\n  'votes': '2.5 out of 5(2)'},\n {'name': 'Hemani Black Seed Oil - 125ml',\n  'new_price': 'KSh 847',\n  'old_price': 'KSh 1,400',\n  'discount': '40%',\n  'rating': '4 out of 5',\n  'votes': '4 out of 5(6)'},\n {'name': 'Cerave Blemish Control Gel With AHA&BHA-improves The Look Of Pores,Reduces Blemishes&imperfection,40ml',\n  'new_price': 'KSh 1,170',\n  'old_price': 'KSh 2,000',\n  'discount': '42%',\n  'rating': '2.5 out of 5',\n  'votes': '2.5 out of 5(2)'},\n {'name': 'Decor 10M Fairy LED Lights Christmas Tree Wedding Decoration',\n  'new_price': 'KSh 850',\n  'old_price': 'KSh 1,400',\n  'discount': '39%',\n  'rating': '4.7 out of 5',\n  'votes': '4.7 out of 5(13)'},\n {'name': 'Oppo VOOC USB Type C (Super Fast Charge)',\n  'new_price': 'KSh 459',\n  'old_price': 'KSh 499',\n  'discount': '8%',\n  'rating': '4.1 out of 5',\n  'votes': '4.1 out of 5(11)'},\n {'name': 'Nice & Soft White Cocktail Serviettes 100 Sheets',\n  'new_price': 'KSh 80',\n  'old_price': None,\n  'discount': None,\n  'rating': '3.9 out of 5',\n  'votes': '3.9 out of 5(301)'},\n {'name': 'Maybelline Volume Express Colossal 36hr Waterproof Mascara',\n  'new_price': 'KSh 1,450',\n  'old_price': None,\n  'discount': None,\n  'rating': '4.4 out of 5',\n  'votes': '4.4 out of 5(98)'},\n {'name': 'Fashion Anti-slip Boy Shoes Kids Beach Sandal - Blue& Red',\n  'new_price': 'KSh 690',\n  'old_price': 'KSh 1,200',\n  'discount': '43%',\n  'rating': '5 out of 5',\n  'votes': '5 out of 5(2)'},\n {'name': 'Beauty Hair Bun',\n  'new_price': 'KSh 390',\n  'old_price': None,\n  'discount': None,\n  'rating': '3.8 out of 5',\n  'votes': '3.8 out of 5(24)'},\n {'name': 'USN Phedra-Cut Burn XT (30 Capsules)',\n  'new_price': 'KSh 1,000',\n  'old_price': None,\n  'discount': None,\n  'rating': '3.4 out of 5',\n  'votes': '3.4 out of 5(210)'},\n {'name': 'Marado Rice- Cooker Multi-function.',\n  'new_price': 'KSh 7,012',\n  'old_price': 'KSh 8,900',\n  'discount': '21%',\n  'rating': None,\n  'votes': None},\n {'name': 'Solarmax 150AH HEAVY DUTY SOLAR BATTERY',\n  'new_price': 'KSh 9,500',\n  'old_price': 'KSh 18,000',\n  'discount': '47%',\n  'rating': '4.3 out of 5',\n  'votes': '4.3 out of 5(3)'},\n {'name': 'Ors Olive Wrap Set Mousse + Heat Protection Serum(Coconut',\n  'new_price': 'KSh 970',\n  'old_price': 'KSh 1,600',\n  'discount': '39%',\n  'rating': '1 out of 5',\n  'votes': '1 out of 5(1)'},\n {'name': 'Vitron 43\" Inch,SMART Android FHD TV,DECODER,NETFLIX,YOUTUBE-4388FS+ GIFTS',\n  'new_price': 'KSh 24,450',\n  'old_price': 'KSh 46,000',\n  'discount': '47%',\n  'rating': '4.4 out of 5',\n  'votes': '4.4 out of 5(7)'},\n {'name': 'JIBAO 3 Column Wardrobe Assemble Portable Home Storage',\n  'new_price': 'KSh 2,699',\n  'old_price': 'KSh 4,500',\n  'discount': '40%',\n  'rating': '3.6 out of 5',\n  'votes': '3.6 out of 5(23)'},\n {'name': 'Oraimo Hand Held Cordless Vacuum Cleaner-SilverAMZN',\n  'new_price': 'KSh 4,199',\n  'old_price': 'KSh 6,000',\n  'discount': '30%',\n  'rating': '4 out of 5',\n  'votes': '4 out of 5(11)'},\n {'name': 'Waterproof Matress Protector And Cover',\n  'new_price': 'KSh 1,999 - KSh 2,749',\n  'old_price': 'KSh 2,000 - KSh 4,000',\n  'discount': '34%',\n  'rating': '4.2 out of 5',\n  'votes': '4.2 out of 5(47)'},\n {'name': 'Power King 6 Way Power Extension Cable - White +FREE Watch',\n  'new_price': 'KSh 850 - KSh 1,520',\n  'old_price': 'KSh 1,200 - KSh 1,900',\n  'discount': '31%',\n  'rating': '4.8 out of 5',\n  'votes': '4.8 out of 5(13)'},\n {'name': 'Wired Extra Bass Headphones Headsets',\n  'new_price': 'KSh 600',\n  'old_price': 'KSh 1,000',\n  'discount': '40%',\n  'rating': '1.7 out of 5',\n  'votes': '1.7 out of 5(3)'},\n {'name': 'For Xiaomi Mi Band 5/6/7 Nylon Loop Integrated  Woven Strap(Black )',\n  'new_price': 'KSh 399',\n  'old_price': 'KSh 678',\n  'discount': '41%',\n  'rating': '5 out of 5',\n  'votes': '5 out of 5(4)'},\n {'name': 'Wireless Bluetooth Earbuds HIFI Stereo Sensor Control T3',\n  'new_price': 'KSh 2,987',\n  'old_price': 'KSh 3,900',\n  'discount': '23%',\n  'rating': None,\n  'votes': None},\n {'name': 'Samsung UA32T5300AU,32 Inch Smart HD TV Series 5 Inbuilt WIFI + FREE Wall Bracket',\n  'new_price': 'KSh 27,999',\n  'old_price': 'KSh 30,000',\n  'discount': '7%',\n  'rating': '4.4 out of 5',\n  'votes': '4.4 out of 5(5)'},\n {'name': '12V-24V 8A Automatic Car Battery Charger Power Pulse Repair Chargers',\n  'new_price': 'KSh 3,343',\n  'old_price': 'KSh 5,213',\n  'discount': '36%',\n  'rating': '4.9 out of 5',\n  'votes': '4.9 out of 5(14)'},\n {'name': 'Set Of 6 Beautiful Dinner Serving Ceramic Plates',\n  'new_price': 'KSh 1,600',\n  'old_price': 'KSh 2,000',\n  'discount': '20%',\n  'rating': '4.5 out of 5',\n  'votes': '4.5 out of 5(4)'},\n {'name': 'Fashion 7Pairs/Set Women Rhinestone Inlaid Sun Star Moon Stud-',\n  'new_price': 'KSh 229',\n  'old_price': 'KSh 458',\n  'discount': '50%',\n  'rating': '4 out of 5',\n  'votes': '4 out of 5(2)'},\n {'name': 'Vitron HTC6588USWO, 65\" 4K Smart Frameless TV, Wi-Fi/Netflix',\n  'new_price': 'KSh 61,999',\n  'old_price': 'KSh 99,999',\n  'discount': '38%',\n  'rating': '5 out of 5',\n  'votes': '5 out of 5(2)'},\n {'name': 'Fashion Comfy Classy Unisex  Trendy Laced  Rubber Shoes Black',\n  'new_price': 'KSh 799',\n  'old_price': 'KSh 900',\n  'discount': '11%',\n  'rating': '4 out of 5',\n  'votes': '4 out of 5(1)'},\n {'name': 'Toothpaste Dispenser + Toothbrush Holder Set- Assorted',\n  'new_price': 'KSh 570',\n  'old_price': 'KSh 1,000',\n  'discount': '43%',\n  'rating': '3.8 out of 5',\n  'votes': '3.8 out of 5(4)'},\n {'name': 'Fashion 4 pack turkey official shirts',\n  'new_price': 'KSh 4,199',\n  'old_price': 'KSh 4,199 - KSh 6,000',\n  'discount': '30%',\n  'rating': '4.2 out of 5',\n  'votes': '4.2 out of 5(53)'},\n {'name': 'Pac 6kg Gas Regulator Plus FREE Gas Delivery Hose Pipe',\n  'new_price': 'KSh 650',\n  'old_price': 'KSh 800',\n  'discount': '19%',\n  'rating': '3.9 out of 5',\n  'votes': '3.9 out of 5(23)'},\n {'name': 'Baofeng BF-888s 3-5KM Long Range Walkie Talkie Radio Calls -2 Pieces (1 Pair)',\n  'new_price': 'KSh 3,365',\n  'old_price': 'KSh 3,921',\n  'discount': '14%',\n  'rating': '4.7 out of 5',\n  'votes': '4.7 out of 5(7)'},\n {'name': 'Samsung  TYPE C TO TYPE C USB  CABLE',\n  'new_price': 'KSh 499',\n  'old_price': 'KSh 600',\n  'discount': '17%',\n  'rating': '4 out of 5',\n  'votes': '4 out of 5(1)'},\n {'name': 'Dinner Plates -Set Of 6',\n  'new_price': 'KSh 1,600',\n  'old_price': 'KSh 1,899',\n  'discount': '16%',\n  'rating': '4.9 out of 5',\n  'votes': '4.9 out of 5(9)'},\n {'name': 'Fashion Slimming Belt Shapewear Flat Tummy Belt Slimming Belt Postpartum Tummy Trimmer Body Shaper',\n  'new_price': 'KSh 750',\n  'old_price': 'KSh 1,500',\n  'discount': '50%',\n  'rating': '3.5 out of 5',\n  'votes': '3.5 out of 5(2)'},\n {'name': 'Jack Selfie Stick For Smart Phone, Black',\n  'new_price': 'KSh 280',\n  'old_price': 'KSh 329',\n  'discount': '15%',\n  'rating': '4.8 out of 5',\n  'votes': '4.8 out of 5(4)'},\n {'name': 'ADULT SEX TOY WOMENS G SPOT CLITORIS VIBRATOR',\n  'new_price': 'KSh 850',\n  'old_price': 'KSh 1,700',\n  'discount': '50%',\n  'rating': '4 out of 5',\n  'votes': '4 out of 5(11)'},\n {'name': 'Always Home Always 3l Vacuum Thermos Flask - Stainless Steel.',\n  'new_price': 'KSh 2,498',\n  'old_price': 'KSh 3,500',\n  'discount': '29%',\n  'rating': None,\n  'votes': None},\n {'name': 'tenda 300Mbps Wireless WiFi Router',\n  'new_price': 'KSh 2,249',\n  'old_price': 'KSh 2,800',\n  'discount': '20%',\n  'rating': '5 out of 5',\n  'votes': '5 out of 5(2)'},\n {'name': 'All Seasons Home/ Industrial Safety Boots',\n  'new_price': 'KSh 2,150',\n  'old_price': 'KSh 4,100',\n  'discount': '48%',\n  'rating': '2.5 out of 5',\n  'votes': '2.5 out of 5(2)'},\n {'name': 'Fashion Leather Band Watch Quartz Business Watch',\n  'new_price': 'KSh 670',\n  'old_price': 'KSh 1,264',\n  'discount': '47%',\n  'rating': '3.9 out of 5',\n  'votes': '3.9 out of 5(34)'},\n {'name': 'Power King >6 Outlet Power Extension  Cable > 6 Way + 6kg Gas Burner',\n  'new_price': 'KSh 999',\n  'old_price': 'KSh 1,400',\n  'discount': '29%',\n  'rating': '5 out of 5',\n  'votes': '5 out of 5(1)'},\n {'name': 'Sathiya 1500W 2L Electric Water Kettle Heater Jug,360⁰ + FREE Towel',\n  'new_price': 'KSh 1,239',\n  'old_price': 'KSh 2,000',\n  'discount': '38%',\n  'rating': '4.5 out of 5',\n  'votes': '4.5 out of 5(28)'},\n {'name': 'Vision Plus VP8843KV - 43″ 4K Frameless V+ OS Smart TV',\n  'new_price': 'KSh 30,999',\n  'old_price': 'KSh 34,995',\n  'discount': '11%',\n  'rating': '4.2 out of 5',\n  'votes': '4.2 out of 5(26)'},\n {'name': 'Bebe kids study tablets 32GB/2GB',\n  'new_price': 'KSh 9,850',\n  'old_price': 'KSh 15,000',\n  'discount': '34%',\n  'rating': None,\n  'votes': None},\n {'name': 'Vaseline Lip Therapy (Aloe Vera) -20g Moisturizing',\n  'new_price': 'KSh 435',\n  'old_price': 'KSh 600',\n  'discount': '28%',\n  'rating': '4.3 out of 5',\n  'votes': '4.3 out of 5(7)'},\n {'name': 'Samsung Fast Charger Type C To C.',\n  'new_price': 'KSh 1,349',\n  'old_price': 'KSh 1,699',\n  'discount': '21%',\n  'rating': '4.2 out of 5',\n  'votes': '4.2 out of 5(32)'},\n {'name': 'Fashion Hip Hop Bling Exclusive Ice Cuban GOLD Hand Chain',\n  'new_price': 'KSh 413',\n  'old_price': 'KSh 625',\n  'discount': '34%',\n  'rating': '3.9 out of 5',\n  'votes': '3.9 out of 5(34)'},\n {'name': 'Zoe Body Milk Dry Lotion – 400ml.',\n  'new_price': 'KSh 260',\n  'old_price': None,\n  'discount': None,\n  'rating': '4 out of 5',\n  'votes': '4 out of 5(5)'},\n {'name': 'Amtec 24 Inch Digital LED TV AC/DC Clear Images',\n  'new_price': 'KSh 9,297',\n  'old_price': 'KSh 9,407',\n  'discount': '1%',\n  'rating': '1 out of 5',\n  'votes': '1 out of 5(1)'},\n {'name': 'Nunix Home Theater System With Remote/ FM/ Bluetooth',\n  'new_price': 'KSh 9,495',\n  'old_price': 'KSh 18,000',\n  'discount': '47%',\n  'rating': '3.6 out of 5',\n  'votes': '3.6 out of 5(5)'},\n {'name': \"Fashion T-shirt 4-in-1 Men's Shirts Short Sleeve 100% High Quality Free 3-in-1 Socks\",\n  'new_price': 'KSh 1,766',\n  'old_price': 'KSh 2,508',\n  'discount': '30%',\n  'rating': '4.1 out of 5',\n  'votes': '4.1 out of 5(9)'},\n {'name': 'Michaels Bouquet Michaels  Black #1 10ml PERFUME',\n  'new_price': 'KSh 500',\n  'old_price': None,\n  'discount': None,\n  'rating': '4.9 out of 5',\n  'votes': '4.9 out of 5(8)'},\n {'name': 'Defacto Man Casual Slipper-Flipflop - Black',\n  'new_price': 'KSh 1,589',\n  'old_price': 'KSh 3,117',\n  'discount': '49%',\n  'rating': '3 out of 5',\n  'votes': '3 out of 5(3)'},\n {'name': 'BVOT Universal 4G/5G Portable Pocket Wifi',\n  'new_price': 'KSh 3,899',\n  'old_price': 'KSh 5,500',\n  'discount': '29%',\n  'rating': '2.5 out of 5',\n  'votes': '2.5 out of 5(2)'},\n {'name': 'Hemani Black Seed Oil - 125ml',\n  'new_price': 'KSh 847',\n  'old_price': 'KSh 1,400',\n  'discount': '40%',\n  'rating': '4 out of 5',\n  'votes': '4 out of 5(6)'},\n {'name': 'Cerave Blemish Control Gel With AHA&BHA-improves The Look Of Pores,Reduces Blemishes&imperfection,40ml',\n  'new_price': 'KSh 1,170',\n  'old_price': 'KSh 2,000',\n  'discount': '42%',\n  'rating': '2.5 out of 5',\n  'votes': '2.5 out of 5(2)'},\n {'name': 'Decor 10M Fairy LED Lights Christmas Tree Wedding Decoration',\n  'new_price': 'KSh 850',\n  'old_price': 'KSh 1,400',\n  'discount': '39%',\n  'rating': '4.7 out of 5',\n  'votes': '4.7 out of 5(13)'},\n {'name': 'Oppo VOOC USB Type C (Super Fast Charge)',\n  'new_price': 'KSh 459',\n  'old_price': 'KSh 499',\n  'discount': '8%',\n  'rating': '4.1 out of 5',\n  'votes': '4.1 out of 5(11)'},\n {'name': 'Nice & Soft White Cocktail Serviettes 100 Sheets',\n  'new_price': 'KSh 80',\n  'old_price': None,\n  'discount': None,\n  'rating': '3.9 out of 5',\n  'votes': '3.9 out of 5(301)'},\n {'name': 'Solar Lamps LED 2heads Motion Sensor Waterproof For Outdoors',\n  'new_price': 'KSh 1,899',\n  'old_price': 'KSh 3,000',\n  'discount': '37%',\n  'rating': '3.5 out of 5',\n  'votes': '3.5 out of 5(11)'},\n {'name': 'Maybelline Volume Express Colossal 36hr Waterproof Mascara',\n  'new_price': 'KSh 1,450',\n  'old_price': None,\n  'discount': None,\n  'rating': '4.4 out of 5',\n  'votes': '4.4 out of 5(98)'},\n {'name': 'Fashion Anti-slip Boy Shoes Kids Beach Sandal - Blue& Red',\n  'new_price': 'KSh 690',\n  'old_price': 'KSh 1,200',\n  'discount': '43%',\n  'rating': '5 out of 5',\n  'votes': '5 out of 5(2)'},\n {'name': 'Beauty Hair Bun',\n  'new_price': 'KSh 390',\n  'old_price': None,\n  'discount': None,\n  'rating': '3.8 out of 5',\n  'votes': '3.8 out of 5(24)'},\n {'name': 'USN Phedra-Cut Burn XT (30 Capsules)',\n  'new_price': 'KSh 1,000',\n  'old_price': None,\n  'discount': None,\n  'rating': '3.4 out of 5',\n  'votes': '3.4 out of 5(210)'},\n {'name': 'Marado Rice- Cooker Multi-function.',\n  'new_price': 'KSh 7,012',\n  'old_price': 'KSh 8,900',\n  'discount': '21%',\n  'rating': None,\n  'votes': None},\n {'name': \"Vivo Y17s - 6.56'' Display, 6GB RAM + 128GB ROM - (Dual SIM) - 50MP - 5000mAh - Purple + Free Gifts\",\n  'new_price': 'KSh 20,699',\n  'old_price': 'KSh 29,999',\n  'discount': '31%',\n  'rating': '5 out of 5',\n  'votes': '5 out of 5(4)'},\n {'name': 'Fashion Women Luxury Iced Watch Quartz Ladies',\n  'new_price': 'KSh 1,000',\n  'old_price': 'KSh 1,800',\n  'discount': '44%',\n  'rating': '5 out of 5',\n  'votes': '5 out of 5(2)'},\n {'name': 'Fashion Kids Boy Casual Velcro Strap Sandals Outdoor - White',\n  'new_price': 'KSh 850',\n  'old_price': 'KSh 1,700',\n  'discount': '50%',\n  'rating': '4.3 out of 5',\n  'votes': '4.3 out of 5(4)'},\n {'name': 'Sydney Modern Wooden TV Stand 4FT',\n  'new_price': 'KSh 7,499',\n  'old_price': 'KSh 9,499',\n  'discount': '21%',\n  'rating': '3.8 out of 5',\n  'votes': '3.8 out of 5(8)'},\n {'name': 'Curren 9015 Rose Gold Blue Watch.',\n  'new_price': 'KSh 3,299',\n  'old_price': 'KSh 3,500',\n  'discount': '6%',\n  'rating': '5 out of 5',\n  'votes': '5 out of 5(1)'},\n {'name': 'HP Laptop Charger BIG PIN',\n  'new_price': 'KSh 949',\n  'old_price': 'KSh 1,500',\n  'discount': '37%',\n  'rating': '4.4 out of 5',\n  'votes': '4.4 out of 5(30)'},\n {'name': 'Gotv Decoder + Antenna + 1 Month Subscription + A Free Extension',\n  'new_price': 'KSh 4,000',\n  'old_price': None,\n  'discount': None,\n  'rating': '3.7 out of 5',\n  'votes': '3.7 out of 5(11)'},\n {'name': \"Naviforce Wrist Watch Golden 9117 Men's Watches\",\n  'new_price': 'KSh 4,598',\n  'old_price': 'KSh 4,599',\n  'discount': '1%',\n  'rating': '5 out of 5',\n  'votes': '5 out of 5(1)'},\n {'name': \"Fuerdanni Men's Leather Wallet Slim Short Men Leather Wallet Card Holder-Brown\",\n  'new_price': 'KSh 849',\n  'old_price': 'KSh 1,200',\n  'discount': '29%',\n  'rating': '4.4 out of 5',\n  'votes': '4.4 out of 5(17)'},\n {'name': 'Fashion Sexy Wireless Small Cap Padded Invisible Push Up Bra CupA/B',\n  'new_price': 'KSh 489',\n  'old_price': 'KSh 599 - KSh 629',\n  'discount': '22%',\n  'rating': '4.7 out of 5',\n  'votes': '4.7 out of 5(3)'},\n {'name': 'Mekis 100% Pure Aloe Vera Gel - Fights Skin-ageing,Blemishes,Unscented',\n  'new_price': 'KSh 490 - KSh 1,280',\n  'old_price': 'KSh 599 - KSh 1,300',\n  'discount': '18%',\n  'rating': '4.4 out of 5',\n  'votes': '4.4 out of 5(31)'},\n {'name': 'Makita COMPLETE 117 TOOLSETS WITH APOWERFUL DRILL',\n  'new_price': 'KSh 7,399',\n  'old_price': 'KSh 12,000',\n  'discount': '38%',\n  'rating': '4.6 out of 5',\n  'votes': '4.6 out of 5(18)'},\n {'name': 'Roch RECK-531BL - 50x55CM 3 Gas Burners + 1 Hotplate Cooker - Black',\n  'new_price': 'KSh 27,699',\n  'old_price': 'KSh 35,500',\n  'discount': '22%',\n  'rating': '5 out of 5',\n  'votes': '5 out of 5(3)'},\n {'name': 'MK Electronics TV Guard - White',\n  'new_price': 'KSh 675',\n  'old_price': 'KSh 990',\n  'discount': '32%',\n  'rating': '4.2 out of 5',\n  'votes': '4.2 out of 5(108)'},\n {'name': 'Redmi A2 Plus Silicone Classy Fashion Cover Case+Screen Protector+BT Headset.',\n  'new_price': 'KSh 749',\n  'old_price': 'KSh 1,000',\n  'discount': '25%',\n  'rating': '3.3 out of 5',\n  'votes': '3.3 out of 5(3)'},\n {'name': 'Tecno Spark 10 Pro Silicone Classy Cover Case + Earpods + Watch.',\n  'new_price': 'KSh 990',\n  'old_price': 'KSh 1,500',\n  'discount': '34%',\n  'rating': '3.7 out of 5',\n  'votes': '3.7 out of 5(3)'},\n {'name': 'Mekis Rosemary Clove Hair Oil - Encourage new hair follicle growth, Strengthens strands, Reducing thinning and promoting volume.',\n  'new_price': 'KSh 560',\n  'old_price': 'KSh 699',\n  'discount': '20%',\n  'rating': '4.3 out of 5',\n  'votes': '4.3 out of 5(4)'},\n {'name': 'Mosara Rich Conditioner - 250ml',\n  'new_price': 'KSh 900',\n  'old_price': None,\n  'discount': None,\n  'rating': '4.4 out of 5',\n  'votes': '4.4 out of 5(445)'},\n {'name': 'Stick On Wall Clock DIY Large Modern Design Decal 3D',\n  'new_price': 'KSh 720',\n  'old_price': 'KSh 1,008',\n  'discount': '29%',\n  'rating': '3.7 out of 5',\n  'votes': '3.7 out of 5(15)'},\n {'name': 'Nunix Bottom Load Water Dispenser,Hot &Nornal,Energy Efficient',\n  'new_price': 'KSh 9,800',\n  'old_price': 'KSh 15,000',\n  'discount': '35%',\n  'rating': '3 out of 5',\n  'votes': '3 out of 5(3)'},\n {'name': 'Playstation DualShock 4 Wireless Controller (PS4) - Grey Camo',\n  'new_price': 'KSh 3,399',\n  'old_price': 'KSh 6,500',\n  'discount': '48%',\n  'rating': '5 out of 5',\n  'votes': '5 out of 5(2)'},\n {'name': 'XIAOMI Redmi 12C, DISPLAY SIZE 6.71-inch ,4GB RAM, 128GB ROM ,5000mMAH',\n  'new_price': 'KSh 17,200',\n  'old_price': 'KSh 25,000',\n  'discount': '31%',\n  'rating': None,\n  'votes': None},\n {'name': 'Maybelline Sensational Liquid Matte 02 AS Soft Wine',\n  'new_price': 'KSh 1,550',\n  'old_price': None,\n  'discount': None,\n  'rating': '4.2 out of 5',\n  'votes': '4.2 out of 5(132)'},\n {'name': 'Bebe  KIDS STUDY TABLET 64GB/4GB FROG EDITION B44',\n  'new_price': 'KSh 9,850 - KSh 9,900',\n  'old_price': 'KSh 15,000',\n  'discount': '34%',\n  'rating': None,\n  'votes': None},\n {'name': 'Intex Inflatable Mattress Air Bed PLUS FREE PUMP...',\n  'new_price': 'KSh 5,000 - KSh 8,999',\n  'old_price': 'KSh 5,000 - KSh 10,000',\n  'discount': '10%',\n  'rating': '5 out of 5',\n  'votes': '5 out of 5(2)'},\n {'name': 'L.A. Girl High definition concealer pro conceal - Dark cocoa',\n  'new_price': 'KSh 219',\n  'old_price': 'KSh 400',\n  'discount': '45%',\n  'rating': '4.2 out of 5',\n  'votes': '4.2 out of 5(94)'},\n {'name': 'calabaza Maca Root Powder[Red Maca]',\n  'new_price': 'KSh 650',\n  'old_price': 'KSh 1,200',\n  'discount': '46%',\n  'rating': '5 out of 5',\n  'votes': '5 out of 5(3)'},\n {'name': 'TCL Smart Tv Remote Control For TCL Tv',\n  'new_price': 'KSh 1,099',\n  'old_price': 'KSh 2,000',\n  'discount': '45%',\n  'rating': '3.7 out of 5',\n  'votes': '3.7 out of 5(20)'},\n {'name': '2M 3.5mm Male To Male Jack Aux Cable',\n  'new_price': 'KSh 198',\n  'old_price': None,\n  'discount': None,\n  'rating': '4.7 out of 5',\n  'votes': '4.7 out of 5(36)'},\n {'name': 'Fashion 3 PCS Women Bags Ladies Bags Handbags Purse Shoulder Bags Tote Bags Hobo Bags',\n  'new_price': 'KSh 1,299',\n  'old_price': 'KSh 2,059',\n  'discount': '37%',\n  'rating': '3.7 out of 5',\n  'votes': '3.7 out of 5(35)'},\n {'name': 'NIVEA Orange & Avocado Oil Shower Cream For Women - 500 ml',\n  'new_price': 'KSh 955',\n  'old_price': None,\n  'discount': None,\n  'rating': '4.6 out of 5',\n  'votes': '4.6 out of 5(39)'},\n {'name': 'Sandisk Ultra Fit USB 3.1 Flash Drive  - 128GB - Black',\n  'new_price': 'KSh 1,990',\n  'old_price': 'KSh 3,892',\n  'discount': '49%',\n  'rating': '4.9 out of 5',\n  'votes': '4.9 out of 5(7)'},\n {'name': 'Fashion Style PU Leather Unisex Back To School Shoes/ Toughees Shoes - Black',\n  'new_price': 'KSh 1,500 - KSh 1,700',\n  'old_price': 'KSh 2,000',\n  'discount': '25%',\n  'rating': '4.2 out of 5',\n  'votes': '4.2 out of 5(6)'},\n {'name': 'Fashion Stylish Mens Leather Sandals - Black. (Maasai)',\n  'new_price': 'KSh 699 - KSh 850',\n  'old_price': 'KSh 1,500',\n  'discount': '53%',\n  'rating': '4.3 out of 5',\n  'votes': '4.3 out of 5(33)'},\n {'name': 'Curren 9015 Rose Gold Blue Watch.',\n  'new_price': 'KSh 3,299',\n  'old_price': 'KSh 3,500',\n  'discount': '6%',\n  'rating': '5 out of 5',\n  'votes': '5 out of 5(1)'},\n {'name': \"Itel P40 4G Lite, Disp 6.6'' //64GB ROM+4GB RAM //13MP //Dual SIM //6000mAh /Ksly\",\n  'new_price': 'KSh 11,199',\n  'old_price': 'KSh 19,999',\n  'discount': '44%',\n  'rating': '4.7 out of 5',\n  'votes': '4.7 out of 5(11)'},\n {'name': 'Disaar Probiotic Mouth Spray Fresh Breath Grape Flavor -20ml',\n  'new_price': 'KSh 349',\n  'old_price': 'KSh 650',\n  'discount': '46%',\n  'rating': '4.6 out of 5',\n  'votes': '4.6 out of 5(5)'},\n {'name': 'Car Anti-fog Anti-glare Waterproof Film Rain Shield Sticker Film Car Anti-fog Waterproof Stciker .',\n  'new_price': 'KSh 599',\n  'old_price': 'KSh 1,099',\n  'discount': '45%',\n  'rating': '4.5 out of 5',\n  'votes': '4.5 out of 5(29)'},\n {'name': 'Bebe KIDS STUDY TABLETS 128GB/4GB With Simcard Slot 10inch.',\n  'new_price': 'KSh 17,880',\n  'old_price': 'KSh 20,000',\n  'discount': '11%',\n  'rating': None,\n  'votes': None},\n {'name': 'Tecno Phantom V Flip 5G, 256GB + 8GB RAM (Single SIM), 4000mAh, Mystic Dawn',\n  'new_price': 'KSh 97,999',\n  'old_price': 'KSh 99,999',\n  'discount': '2%',\n  'rating': None,\n  'votes': None},\n {'name': 'Genetic True Wireless Bluetooth Earphones Headphones Stereo Earbuds',\n  'new_price': 'KSh 539',\n  'old_price': 'KSh 990',\n  'discount': '46%',\n  'rating': '4 out of 5',\n  'votes': '4 out of 5(49)'},\n {'name': \"Fashion Men's Jackets Coats Denim Lightweight Slim Casual Bomber Blazers-Brown\",\n  'new_price': 'KSh 1,820',\n  'old_price': 'KSh 3,381',\n  'discount': '46%',\n  'rating': '3.9 out of 5',\n  'votes': '3.9 out of 5(22)'},\n {'name': 'Big White Round Mosquito Net For Single Bed-FREE SIZE.',\n  'new_price': 'KSh 879',\n  'old_price': 'KSh 1,500',\n  'discount': '41%',\n  'rating': '4.3 out of 5',\n  'votes': '4.3 out of 5(75)'},\n {'name': \"Fashion Men's 2 In 1 Short Sleeve T-Shirt & Shorts Set- White\",\n  'new_price': 'KSh 784 - KSh 888',\n  'old_price': 'KSh 1,537 - KSh 1,568',\n  'discount': '50%',\n  'rating': '4.2 out of 5',\n  'votes': '4.2 out of 5(13)'},\n {'name': \"Fashion Men's Casual Windbreak Lightweight Blazer Zipper Jacket & Coats - Dark Gray\",\n  'new_price': 'KSh 920',\n  'old_price': 'KSh 1,568',\n  'discount': '41%',\n  'rating': '3.7 out of 5',\n  'votes': '3.7 out of 5(233)'},\n {'name': 'Moroccan Argan Oil 100% Pure Oil Correct Moisturize Brightening Serum',\n  'new_price': 'KSh 435',\n  'old_price': 'KSh 800',\n  'discount': '46%',\n  'rating': '4.2 out of 5',\n  'votes': '4.2 out of 5(75)'},\n {'name': \"Fashion Women's Sexy Star Moon Double-Layer Vertical Drop Bar-Silver\",\n  'new_price': 'KSh 204',\n  'old_price': 'KSh 206',\n  'discount': '1%',\n  'rating': '4.1 out of 5',\n  'votes': '4.1 out of 5(15)'},\n {'name': 'Amtec AM-731 3.1CH Sub Woofer Bluetooth System-FM,USB,SD-20000W',\n  'new_price': 'KSh 6,799',\n  'old_price': 'KSh 7,800',\n  'discount': '13%',\n  'rating': '4.2 out of 5',\n  'votes': '4.2 out of 5(68)'},\n {'name': 'Fashion 3 In 1 Men T-shirts Men Tops Tees Men Wear Clothes Polos',\n  'new_price': 'KSh 1,099',\n  'old_price': 'KSh 1,965',\n  'discount': '44%',\n  'rating': '3.5 out of 5',\n  'votes': '3.5 out of 5(94)'},\n {'name': 'Fashion Mens Casual Trousers Jean Official Jogger Sports - Black',\n  'new_price': 'KSh 963',\n  'old_price': 'KSh 1,254',\n  'discount': '23%',\n  'rating': '4.2 out of 5',\n  'votes': '4.2 out of 5(52)'},\n {'name': 'Fashion Adjustable Canvas Belt No Metal Anti-allergy Belt',\n  'new_price': 'KSh 279 - KSh 299',\n  'old_price': 'KSh 400',\n  'discount': '30%',\n  'rating': '4.5 out of 5',\n  'votes': '4.5 out of 5(13)'},\n {'name': 'Electric Toothbrushes Whitening With 4 Brush Heads-BLACK',\n  'new_price': 'KSh 909',\n  'old_price': 'KSh 1,445',\n  'discount': '37%',\n  'rating': '4.1 out of 5',\n  'votes': '4.1 out of 5(42)'},\n {'name': 'Bontel 2720 1.77\" DISP// Flip Phone. MP3,MP4,FM , Flash Torch 1000mAh,',\n  'new_price': 'KSh 1,990',\n  'old_price': 'KSh 3,200',\n  'discount': '38%',\n  'rating': '4.2 out of 5',\n  'votes': '4.2 out of 5(66)'},\n {'name': \"Palmer's Cocoa Butter Body Lotion+oil+cream\",\n  'new_price': 'KSh 990',\n  'old_price': 'KSh 1,800',\n  'discount': '45%',\n  'rating': '4.8 out of 5',\n  'votes': '4.8 out of 5(4)'},\n {'name': 'Itel 2160// Dual SIM//Black//\"C.E\"',\n  'new_price': 'KSh 1,548',\n  'old_price': 'KSh 1,800',\n  'discount': '14%',\n  'rating': '4.6 out of 5',\n  'votes': '4.6 out of 5(72)'},\n {'name': \"Fashion Women's Shoes Sneakers Air Cushion Running Shoes Breathable Non-Slip Fitness Leisure Running Sneakers\",\n  'new_price': 'KSh 999 - KSh 1,059',\n  'old_price': 'KSh 1,871',\n  'discount': '47%',\n  'rating': '4.4 out of 5',\n  'votes': '4.4 out of 5(116)'},\n {'name': \"Fashion 2024 Women's New Classic Fashion Sports Casual Shoes - Pink\",\n  'new_price': 'KSh 839',\n  'old_price': 'KSh 1,422 - KSh 1,613',\n  'discount': '48%',\n  'rating': '4.5 out of 5',\n  'votes': '4.5 out of 5(34)'},\n {'name': 'MK Electronics TV Guard Surge Protector With High Quality Power Extension',\n  'new_price': 'KSh 899',\n  'old_price': 'KSh 1,350',\n  'discount': '33%',\n  'rating': '4.2 out of 5',\n  'votes': '4.2 out of 5(152)'},\n {'name': 'Absolut Absolut Vodka Blue - 750ml',\n  'new_price': 'KSh 1,649',\n  'old_price': 'KSh 2,082',\n  'discount': '21%',\n  'rating': '4.5 out of 5',\n  'votes': '4.5 out of 5(37)'},\n {'name': 'Fashion Official Trouser Pant -Black-Slim Fit Office Wear Men',\n  'new_price': 'KSh 899 - KSh 1,099',\n  'old_price': 'KSh 1,500',\n  'discount': '40%',\n  'rating': '3.5 out of 5',\n  'votes': '3.5 out of 5(13)'},\n {'name': 'Istanbul 2 Modern TV Stand With LED Lights',\n  'new_price': 'KSh 8,499',\n  'old_price': 'KSh 14,000',\n  'discount': '39%',\n  'rating': '3.8 out of 5',\n  'votes': '3.8 out of 5(24)'},\n {'name': 'Istanbul 2 Modern TV Stand With LED Lights',\n  'new_price': 'KSh 8,499',\n  'old_price': 'KSh 14,000',\n  'discount': '39%',\n  'rating': '3.9 out of 5',\n  'votes': '3.9 out of 5(116)'},\n {'name': 'Deliya Hair Blow Dryer 2200W Hair Dryer+6 Gifts',\n  'new_price': 'KSh 1,790',\n  'old_price': 'KSh 3,452',\n  'discount': '48%',\n  'rating': '3.7 out of 5',\n  'votes': '3.7 out of 5(1555)'},\n {'name': 'Fashion Simple Tiny Diamond Female Silver Necklace',\n  'new_price': 'KSh 188',\n  'old_price': 'KSh 300',\n  'discount': '37%',\n  'rating': '4.1 out of 5',\n  'votes': '4.1 out of 5(99)'},\n {'name': \"Fashion 3PCs Pure Cotton Multicolor Men's Boxers – Multicolor\",\n  'new_price': 'KSh 559 - KSh 799',\n  'old_price': 'KSh 999',\n  'discount': '44%',\n  'rating': '3.8 out of 5',\n  'votes': '3.8 out of 5(353)'},\n {'name': 'Fashion Warm Hooded Coat and Pants Woolen Tracksuits For Girls',\n  'new_price': 'KSh 1,599',\n  'old_price': None,\n  'discount': None,\n  'rating': '4.2 out of 5',\n  'votes': '4.2 out of 5(12)'},\n {'name': \"Nokia C12 Pro,6.3', 64GB + 4GB (2+2GB) ,8MP,(Dual SIM), 4000mAh,Charcoal\",\n  'new_price': 'KSh 14,499',\n  'old_price': 'KSh 15,999',\n  'discount': '9%',\n  'rating': '4.2 out of 5',\n  'votes': '4.2 out of 5(15)'},\n {'name': '22PcsSet Finger Rings Hollow Love Heart Finger Opening Rings Golden',\n  'new_price': 'KSh 510',\n  'old_price': 'KSh 551',\n  'discount': '7%',\n  'rating': '4 out of 5',\n  'votes': '4 out of 5(31)'},\n {'name': 'Electronic Scale Digital Portable 50Kg Weighing Scale Mini Hand Hook Scale',\n  'new_price': 'KSh 499',\n  'old_price': 'KSh 800',\n  'discount': '38%',\n  'rating': '4 out of 5',\n  'votes': '4 out of 5(28)'},\n {'name': 'AILYONS Quality Dry Iron Box With Titanium Teflon Nonstick Soleplate',\n  'new_price': 'KSh 1,079',\n  'old_price': 'KSh 1,500',\n  'discount': '28%',\n  'rating': '4.2 out of 5',\n  'votes': '4.2 out of 5(159)'},\n {'name': 'Dawn Pekee Poa Toilet Paper 10 X 4 Wrapped',\n  'new_price': 'KSh 780',\n  'old_price': None,\n  'discount': None,\n  'rating': '4.3 out of 5',\n  'votes': '4.3 out of 5(55)'},\n {'name': 'T&G TG117 Portable Bluetooth Wireless Speaker',\n  'new_price': 'KSh 1,150',\n  'old_price': 'KSh 1,580',\n  'discount': '27%',\n  'rating': '3.9 out of 5',\n  'votes': '3.9 out of 5(57)'},\n {'name': 'Velvex Shower Gel 5 Litres Ocean Breeze',\n  'new_price': 'KSh 750',\n  'old_price': None,\n  'discount': None,\n  'rating': '4.3 out of 5',\n  'votes': '4.3 out of 5(163)'},\n {'name': \"Fashion Women's Shoes Boots Chunky Mid Heel Frosted Classic Solid Color Martin Boots\",\n  'new_price': 'KSh 1,099',\n  'old_price': 'KSh 1,934',\n  'discount': '43%',\n  'rating': '4.6 out of 5',\n  'votes': '4.6 out of 5(67)'},\n {'name': \"Fashion Women's Floral Sleeve Office Long Grown Dresses Casual Clothing- Red\",\n  'new_price': 'KSh 950',\n  'old_price': 'KSh 1,500 - KSh 1,568',\n  'discount': '39%',\n  'rating': '4.2 out of 5',\n  'votes': '4.2 out of 5(70)'},\n {'name': 'Fashion Mens Vintage Graffiti Floral Pattern Shirts Hawaii Beach Shirt Casual-Red',\n  'new_price': 'KSh 773',\n  'old_price': 'KSh 1,292',\n  'discount': '40%',\n  'rating': '3.7 out of 5',\n  'votes': '3.7 out of 5(20)'},\n {'name': 'Hiqh Quality Pure White Duvet Set (1 Duvet 1 Bedsheet 2 Pillowcases)',\n  'new_price': 'KSh 2,199 - KSh 2,600',\n  'old_price': 'KSh 2,500 - KSh 2,600',\n  'discount': '12%',\n  'rating': '4.3 out of 5',\n  'votes': '4.3 out of 5(23)'},\n {'name': 'Dp Light LED Rechargeable Lamp Bulb With USB - 20 W',\n  'new_price': 'KSh 495',\n  'old_price': None,\n  'discount': None,\n  'rating': '4.1 out of 5',\n  'votes': '4.1 out of 5(64)'},\n {'name': 'Vitron BASS Sub Woofer System-FM-USB,Bluetooth-9000watts',\n  'new_price': 'KSh 6,647',\n  'old_price': 'KSh 6,677',\n  'discount': '1%',\n  'rating': '4.2 out of 5',\n  'votes': '4.2 out of 5(68)'},\n {'name': 'Christmas Light LED Warm White',\n  'new_price': 'KSh 699',\n  'old_price': 'KSh 1,200',\n  'discount': '42%',\n  'rating': '4.7 out of 5',\n  'votes': '4.7 out of 5(17)'},\n {'name': 'Black Opal E.D.A 3 IN 1 MAKE UP + LOOSE POWDER (MEDIUM)',\n  'new_price': 'KSh 550',\n  'old_price': 'KSh 1,000',\n  'discount': '45%',\n  'rating': '4.4 out of 5',\n  'votes': '4.4 out of 5(11)'},\n {'name': 'Rosy Apple & Cinnamon Air Freshener 300ml',\n  'new_price': 'KSh 255',\n  'old_price': None,\n  'discount': None,\n  'rating': '4.3 out of 5',\n  'votes': '4.3 out of 5(24)'},\n {'name': 'Best Digital Smartwatch For Men Women Kids',\n  'new_price': 'KSh 1,200',\n  'old_price': 'KSh 1,500',\n  'discount': '20%',\n  'rating': '2.3 out of 5',\n  'votes': '2.3 out of 5(3)'},\n {'name': \"Vivo Y17s - 6.56'' Display, 6GB RAM + 128GB ROM - (Dual SIM) - 50MP - 5000mAh - Purple + Free Gifts\",\n  'new_price': 'KSh 20,699',\n  'old_price': 'KSh 29,999',\n  'discount': '31%',\n  'rating': '5 out of 5',\n  'votes': '5 out of 5(4)'},\n {'name': 'Fashion Women Luxury Iced Watch Quartz Ladies',\n  'new_price': 'KSh 1,000',\n  'old_price': 'KSh 1,800',\n  'discount': '44%',\n  'rating': '5 out of 5',\n  'votes': '5 out of 5(2)'},\n {'name': 'Fashion Kids Boy Casual Velcro Strap Sandals Outdoor - White',\n  'new_price': 'KSh 850',\n  'old_price': 'KSh 1,700',\n  'discount': '50%',\n  'rating': '4.3 out of 5',\n  'votes': '4.3 out of 5(4)'},\n {'name': 'Sydney Modern Wooden TV Stand 4FT',\n  'new_price': 'KSh 7,499',\n  'old_price': 'KSh 9,499',\n  'discount': '21%',\n  'rating': '3.8 out of 5',\n  'votes': '3.8 out of 5(8)'},\n {'name': 'Curren 9015 Rose Gold Blue Watch.',\n  'new_price': 'KSh 3,299',\n  'old_price': 'KSh 3,500',\n  'discount': '6%',\n  'rating': '5 out of 5',\n  'votes': '5 out of 5(1)'},\n {'name': 'HP Laptop Charger BIG PIN',\n  'new_price': 'KSh 949',\n  'old_price': 'KSh 1,500',\n  'discount': '37%',\n  'rating': '4.4 out of 5',\n  'votes': '4.4 out of 5(30)'},\n {'name': 'Gotv Decoder + Antenna + 1 Month Subscription + A Free Extension',\n  'new_price': 'KSh 4,000',\n  'old_price': None,\n  'discount': None,\n  'rating': '3.7 out of 5',\n  'votes': '3.7 out of 5(11)'},\n {'name': \"Naviforce Wrist Watch Golden 9117 Men's Watches\",\n  'new_price': 'KSh 4,598',\n  'old_price': 'KSh 4,599',\n  'discount': '1%',\n  'rating': '5 out of 5',\n  'votes': '5 out of 5(1)'},\n {'name': \"Fuerdanni Men's Leather Wallet Slim Short Men Leather Wallet Card Holder-Brown\",\n  'new_price': 'KSh 849',\n  'old_price': 'KSh 1,200',\n  'discount': '29%',\n  'rating': '4.4 out of 5',\n  'votes': '4.4 out of 5(17)'},\n {'name': 'Nunix Pressure Cooker - Explosion Proof - 5Litres - Silver',\n  'new_price': 'KSh 3,090',\n  'old_price': 'KSh 4,500',\n  'discount': '31%',\n  'rating': '5 out of 5',\n  'votes': '5 out of 5(2)'},\n {'name': 'Fashion Sexy Wireless Small Cap Padded Invisible Push Up Bra CupA/B',\n  'new_price': 'KSh 489',\n  'old_price': 'KSh 599 - KSh 629',\n  'discount': '22%',\n  'rating': '4.7 out of 5',\n  'votes': '4.7 out of 5(3)'},\n {'name': 'Mekis 100% Pure Aloe Vera Gel - Fights Skin-ageing,Blemishes,Unscented',\n  'new_price': 'KSh 490 - KSh 1,280',\n  'old_price': 'KSh 599 - KSh 1,300',\n  'discount': '18%',\n  'rating': '4.4 out of 5',\n  'votes': '4.4 out of 5(31)'},\n {'name': 'Makita COMPLETE 117 TOOLSETS WITH APOWERFUL DRILL',\n  'new_price': 'KSh 7,399',\n  'old_price': 'KSh 12,000',\n  'discount': '38%',\n  'rating': '4.6 out of 5',\n  'votes': '4.6 out of 5(18)'},\n {'name': 'Roch RECK-531BL - 50x55CM 3 Gas Burners + 1 Hotplate Cooker - Black',\n  'new_price': 'KSh 27,699',\n  'old_price': 'KSh 35,500',\n  'discount': '22%',\n  'rating': '5 out of 5',\n  'votes': '5 out of 5(3)'},\n {'name': 'MK Electronics TV Guard - White',\n  'new_price': 'KSh 675',\n  'old_price': 'KSh 990',\n  'discount': '32%',\n  'rating': '4.2 out of 5',\n  'votes': '4.2 out of 5(108)'},\n {'name': 'Redmi A2 Plus Silicone Classy Fashion Cover Case+Screen Protector+BT Headset.',\n  'new_price': 'KSh 749',\n  'old_price': 'KSh 1,000',\n  'discount': '25%',\n  'rating': '3.3 out of 5',\n  'votes': '3.3 out of 5(3)'},\n {'name': 'Tecno Spark 10 Pro Silicone Classy Cover Case + Earpods + Watch.',\n  'new_price': 'KSh 990',\n  'old_price': 'KSh 1,500',\n  'discount': '34%',\n  'rating': '3.7 out of 5',\n  'votes': '3.7 out of 5(3)'},\n {'name': 'Mekis Rosemary Clove Hair Oil - Encourage new hair follicle growth, Strengthens strands, Reducing thinning and promoting volume.',\n  'new_price': 'KSh 560',\n  'old_price': 'KSh 699',\n  'discount': '20%',\n  'rating': '4.3 out of 5',\n  'votes': '4.3 out of 5(4)'},\n {'name': 'Mosara Rich Conditioner - 250ml',\n  'new_price': 'KSh 900',\n  'old_price': None,\n  'discount': None,\n  'rating': '4.4 out of 5',\n  'votes': '4.4 out of 5(445)'},\n {'name': 'Fashion Non-Piercing Fake Nose Ring Reusable Stainless Steel-Silver',\n  'new_price': 'KSh 107',\n  'old_price': 'KSh 214',\n  'discount': '50%',\n  'rating': '3.9 out of 5',\n  'votes': '3.9 out of 5(7)'},\n {'name': 'Stick On Wall Clock DIY Large Modern Design Decal 3D',\n  'new_price': 'KSh 720',\n  'old_price': 'KSh 1,008',\n  'discount': '29%',\n  'rating': '3.7 out of 5',\n  'votes': '3.7 out of 5(15)'},\n {'name': 'Nunix Bottom Load Water Dispenser,Hot &Nornal,Energy Efficient',\n  'new_price': 'KSh 9,800',\n  'old_price': 'KSh 15,000',\n  'discount': '35%',\n  'rating': '3 out of 5',\n  'votes': '3 out of 5(3)'},\n {'name': 'Playstation DualShock 4 Wireless Controller (PS4) - Grey Camo',\n  'new_price': 'KSh 3,399',\n  'old_price': 'KSh 6,500',\n  'discount': '48%',\n  'rating': '5 out of 5',\n  'votes': '5 out of 5(2)'},\n {'name': 'XIAOMI Redmi 12C, DISPLAY SIZE 6.71-inch ,4GB RAM, 128GB ROM ,5000mMAH',\n  'new_price': 'KSh 17,200',\n  'old_price': 'KSh 25,000',\n  'discount': '31%',\n  'rating': None,\n  'votes': None},\n {'name': 'Maybelline Sensational Liquid Matte 02 AS Soft Wine',\n  'new_price': 'KSh 1,550',\n  'old_price': None,\n  'discount': None,\n  'rating': '4.2 out of 5',\n  'votes': '4.2 out of 5(132)'},\n {'name': 'Bebe  KIDS STUDY TABLET 64GB/4GB FROG EDITION B44',\n  'new_price': 'KSh 9,850 - KSh 9,900',\n  'old_price': 'KSh 15,000',\n  'discount': '34%',\n  'rating': None,\n  'votes': None},\n {'name': 'Intex Inflatable Mattress Air Bed PLUS FREE PUMP...',\n  'new_price': 'KSh 5,000 - KSh 8,999',\n  'old_price': 'KSh 5,000 - KSh 10,000',\n  'discount': '10%',\n  'rating': '5 out of 5',\n  'votes': '5 out of 5(2)'},\n {'name': 'L.A. Girl High definition concealer pro conceal - Dark cocoa',\n  'new_price': 'KSh 219',\n  'old_price': 'KSh 400',\n  'discount': '45%',\n  'rating': '4.2 out of 5',\n  'votes': '4.2 out of 5(94)'},\n {'name': 'calabaza Maca Root Powder[Red Maca]',\n  'new_price': 'KSh 650',\n  'old_price': 'KSh 1,200',\n  'discount': '46%',\n  'rating': '5 out of 5',\n  'votes': '5 out of 5(3)'},\n {'name': 'TCL Smart Tv Remote Control For TCL Tv',\n  'new_price': 'KSh 1,099',\n  'old_price': 'KSh 2,000',\n  'discount': '45%',\n  'rating': '3.7 out of 5',\n  'votes': '3.7 out of 5(20)'},\n {'name': '2M 3.5mm Male To Male Jack Aux Cable',\n  'new_price': 'KSh 198',\n  'old_price': None,\n  'discount': None,\n  'rating': '4.7 out of 5',\n  'votes': '4.7 out of 5(36)'},\n {'name': 'Fashion 3 PCS Women Bags Ladies Bags Handbags Purse Shoulder Bags Tote Bags Hobo Bags',\n  'new_price': 'KSh 1,299',\n  'old_price': 'KSh 2,059',\n  'discount': '37%',\n  'rating': '3.7 out of 5',\n  'votes': '3.7 out of 5(35)'},\n {'name': 'NIVEA Orange & Avocado Oil Shower Cream For Women - 500 ml',\n  'new_price': 'KSh 955',\n  'old_price': None,\n  'discount': None,\n  'rating': '4.6 out of 5',\n  'votes': '4.6 out of 5(39)'},\n {'name': 'Sandisk Ultra Fit USB 3.1 Flash Drive  - 128GB - Black',\n  'new_price': 'KSh 1,990',\n  'old_price': 'KSh 3,892',\n  'discount': '49%',\n  'rating': '4.9 out of 5',\n  'votes': '4.9 out of 5(7)'},\n {'name': 'Fashion Style PU Leather Unisex Back To School Shoes/ Toughees Shoes - Black',\n  'new_price': 'KSh 1,500 - KSh 1,700',\n  'old_price': 'KSh 2,000',\n  'discount': '25%',\n  'rating': '4.2 out of 5',\n  'votes': '4.2 out of 5(6)'},\n {'name': 'Fashion Stylish Mens Leather Sandals - Black. (Maasai)',\n  'new_price': 'KSh 699 - KSh 850',\n  'old_price': 'KSh 1,500',\n  'discount': '53%',\n  'rating': '4.3 out of 5',\n  'votes': '4.3 out of 5(33)'},\n {'name': 'Curren 9015 Rose Gold Blue Watch.',\n  'new_price': 'KSh 3,299',\n  'old_price': 'KSh 3,500',\n  'discount': '6%',\n  'rating': '5 out of 5',\n  'votes': '5 out of 5(1)'},\n {'name': 'HDMI TO HDMI CABLE 1.5M, 3M, 5M, 10M, 20M, 30M',\n  'new_price': 'KSh 260 - KSh 2,998',\n  'old_price': None,\n  'discount': None,\n  'rating': '4.2 out of 5',\n  'votes': '4.2 out of 5(84)'},\n {'name': 'General Electric DCQ Bluetooth Speaker - Subwoofer - Rhythm Light',\n  'new_price': 'KSh 750',\n  'old_price': 'KSh 1,000',\n  'discount': '25%',\n  'rating': '3.6 out of 5',\n  'votes': '3.6 out of 5(13)'},\n {'name': 'Miss Look 6Pcs Squeezing N Shine Lip Gloss Fruit Lip Balm',\n  'new_price': 'KSh 340',\n  'old_price': 'KSh 500',\n  'discount': '32%',\n  'rating': '4.5 out of 5',\n  'votes': '4.5 out of 5(31)'},\n {'name': 'Fashion 2024 Mens Casual Board Shoes Running Sneakers - Black',\n  'new_price': 'KSh 998',\n  'old_price': 'KSh 1,425',\n  'discount': '30%',\n  'rating': '4.2 out of 5',\n  'votes': '4.2 out of 5(86)'},\n {'name': 'Blk Opl 2 In 1 Black Opal Face Primer + Setting Spray Fixer',\n  'new_price': 'KSh 329',\n  'old_price': 'KSh 500',\n  'discount': '34%',\n  'rating': '4.1 out of 5',\n  'votes': '4.1 out of 5(30)'},\n {'name': 'Velvex Shower Gel 5 Litres - Lavender',\n  'new_price': 'KSh 750',\n  'old_price': None,\n  'discount': None,\n  'rating': '4.2 out of 5',\n  'votes': '4.2 out of 5(79)'},\n {'name': 'Efero Teeth Whitening Essence Stain Remover Cool',\n  'new_price': 'KSh 299',\n  'old_price': None,\n  'discount': None,\n  'rating': '3.3 out of 5',\n  'votes': '3.3 out of 5(88)'},\n {'name': 'Nunix Cooker, 3 Gas Burners,Hot Plate, Electric Oven',\n  'new_price': 'KSh 25,499',\n  'old_price': 'KSh 29,000',\n  'discount': '12%',\n  'rating': '4.3 out of 5',\n  'votes': '4.3 out of 5(35)'},\n {'name': \"Fashion Men's Casual Windbreak Lightweight Blazer Zipper Jacket & Coats - Dark Gray\",\n  'new_price': 'KSh 811',\n  'old_price': 'KSh 1,045',\n  'discount': '22%',\n  'rating': '4.1 out of 5',\n  'votes': '4.1 out of 5(76)'},\n {'name': 'Power King >Extension Power Cable > Four Way With A Fuse + P47 5.0 Headphone',\n  'new_price': 'KSh 1,100',\n  'old_price': 'KSh 1,500',\n  'discount': '27%',\n  'rating': '4 out of 5',\n  'votes': '4 out of 5(59)'},\n {'name': 'Glow In The Dark Luminous Snow Flakes Wall Stickers',\n  'new_price': 'KSh 350',\n  'old_price': None,\n  'discount': None,\n  'rating': '4.1 out of 5',\n  'votes': '4.1 out of 5(17)'},\n {'name': 'Fashion Women Shoes Sandals Ladies Shoes High Heels Outer Wear Slippers',\n  'new_price': 'KSh 1,029 - KSh 1,079',\n  'old_price': 'KSh 1,898',\n  'discount': '46%',\n  'rating': '4 out of 5',\n  'votes': '4 out of 5(41)'},\n {'name': 'Fashion Blue Light Block Glasses Women Men Anti Eye Strain Headache Computer Glasses_Pink',\n  'new_price': 'KSh 425',\n  'old_price': 'KSh 850',\n  'discount': '50%',\n  'rating': '3.8 out of 5',\n  'votes': '3.8 out of 5(33)'},\n {'name': \"Kericho Gold Kericho Gold S&T 100's\",\n  'new_price': 'KSh 244',\n  'old_price': 'KSh 266',\n  'discount': '8%',\n  'rating': '4.5 out of 5',\n  'votes': '4.5 out of 5(8)'},\n {'name': '116 Plus Intelligent Sports Color Screen Bracelet',\n  'new_price': 'KSh 820',\n  'old_price': 'KSh 1,608',\n  'discount': '49%',\n  'rating': '3.5 out of 5',\n  'votes': '3.5 out of 5(12)'},\n {'name': 'Itel A04, 6.3\", Display Size2GB RAM + 32GB ROM, (Dual SIM), 4000mAh,sply\"',\n  'new_price': 'KSh 8,680',\n  'old_price': 'KSh 12,000',\n  'discount': '28%',\n  'rating': '3.9 out of 5',\n  'votes': '3.9 out of 5(26)'},\n {'name': 'Itel A04 4G, 6.3\", 32GB + 2GB RAM (Dual SIM), 4000mAh - Blue',\n  'new_price': 'KSh 8,680',\n  'old_price': 'KSh 10,000',\n  'discount': '13%',\n  'rating': '4.1 out of 5',\n  'votes': '4.1 out of 5(17)'},\n {'name': 'Vitron V635 3.1CH Multimedia Speaker System - Black',\n  'new_price': 'KSh 4,950',\n  'old_price': 'KSh 5,699',\n  'discount': '13%',\n  'rating': '4.1 out of 5',\n  'votes': '4.1 out of 5(315)'},\n {'name': \"Fashion 2024 New Men's Fashion Sneakers - Black\",\n  'new_price': 'KSh 1,699',\n  'old_price': 'KSh 2,427 - KSh 3,146',\n  'discount': '46%',\n  'rating': '4 out of 5',\n  'votes': '4 out of 5(12)'},\n {'name': 'Fashion Sexiest White Mock Neck Stretchy Bodycon Dress (Hips 34-42\" Fit)',\n  'new_price': 'KSh 499',\n  'old_price': 'KSh 695',\n  'discount': '28%',\n  'rating': '3.3 out of 5',\n  'votes': '3.3 out of 5(18)'},\n {'name': '12Pcs Make Up Brushes Set With Storage Bag',\n  'new_price': 'KSh 659',\n  'old_price': 'KSh 1,000',\n  'discount': '34%',\n  'rating': '4.2 out of 5',\n  'votes': '4.2 out of 5(575)'},\n {'name': 'Fashion Mens Polos Casual Trendy T-shirt Joggers Short Sleeve Shirts Official - Navy',\n  'new_price': 'KSh 795',\n  'old_price': 'KSh 1,363 - KSh 1,414',\n  'discount': '44%',\n  'rating': '3.6 out of 5',\n  'votes': '3.6 out of 5(54)'},\n {'name': 'Fashion Back To School Shoes Genuine Pure Leather',\n  'new_price': 'KSh 950 - KSh 1,191',\n  'old_price': 'KSh 1,099 - KSh 3,080',\n  'discount': '64%',\n  'rating': '3.7 out of 5',\n  'votes': '3.7 out of 5(196)'},\n {'name': 'Nunix K7 Hot And Normal Water Dispenser',\n  'new_price': 'KSh 4,499',\n  'old_price': 'KSh 8,000',\n  'discount': '44%',\n  'rating': '3.8 out of 5',\n  'votes': '3.8 out of 5(11)'},\n {'name': \"L'Oréal Paris Revitalift Anti-Wrinkle Serum + Laser Retinol Serum\",\n  'new_price': 'KSh 4,130',\n  'old_price': 'KSh 5,900',\n  'discount': '30%',\n  'rating': '4.8 out of 5',\n  'votes': '4.8 out of 5(21)'},\n {'name': 'Wireless Bluetooth Headsets Earphone Earpods Stereo Hifi 5.0',\n  'new_price': 'KSh 585',\n  'old_price': 'KSh 1,034',\n  'discount': '43%',\n  'rating': '4.1 out of 5',\n  'votes': '4.1 out of 5(7)'},\n {'name': 'Short-Length Natural Full Hair Wigs For Ladies',\n  'new_price': 'KSh 1,450',\n  'old_price': 'KSh 2,299',\n  'discount': '37%',\n  'rating': '1 out of 5',\n  'votes': '1 out of 5(1)'},\n {'name': 'Fashion Men Hip Hop Trucker Cap Streetwear Cap',\n  'new_price': 'KSh 399 - KSh 449',\n  'old_price': 'KSh 500 - KSh 550',\n  'discount': '27%',\n  'rating': '3.8 out of 5',\n  'votes': '3.8 out of 5(328)'},\n {'name': 'Fashion 4PCs Very Sexy Seamless Soft Lace Panties',\n  'new_price': 'KSh 945 - KSh 965',\n  'old_price': 'KSh 1,300',\n  'discount': '27%',\n  'rating': '4.4 out of 5',\n  'votes': '4.4 out of 5(181)'},\n {'name': 'Fashion 4 PCS Backpacks Women Bags Handbags School Bags Satchels Ladies Bags',\n  'new_price': 'KSh 899',\n  'old_price': 'KSh 1,567',\n  'discount': '43%',\n  'rating': '3 out of 5',\n  'votes': '3 out of 5(61)'},\n {'name': 'Tisa Nyota Ladies Handbags PU Leather Bucket Bags 3 In 1-Black',\n  'new_price': 'KSh 1,290',\n  'old_price': 'KSh 2,000',\n  'discount': '36%',\n  'rating': '3.6 out of 5',\n  'votes': '3.6 out of 5(108)'},\n {'name': '4you 2L Electric Automatic Kettle',\n  'new_price': 'KSh 934',\n  'old_price': 'KSh 1,500',\n  'discount': '38%',\n  'rating': '4.1 out of 5',\n  'votes': '4.1 out of 5(75)'},\n {'name': \"L'Oreal Glycolic Bright Glowing Cream Night 50ml\",\n  'new_price': 'KSh 1,440',\n  'old_price': 'KSh 1,800',\n  'discount': '20%',\n  'rating': '4 out of 5',\n  'votes': '4 out of 5(6)'},\n {'name': 'Fashion 4PCs Sexy Floral Soft Silk Seamless Thong Panties(Hips 36-44inc)',\n  'new_price': 'KSh 699',\n  'old_price': 'KSh 1,000',\n  'discount': '30%',\n  'rating': '4.2 out of 5',\n  'votes': '4.2 out of 5(215)'},\n {'name': 'Fashion Mens Long Sleeve Casual Pattern Floral Polo Business Printed Shirts Official Vintage',\n  'new_price': 'KSh 1,162',\n  'old_price': 'KSh 2,000',\n  'discount': '42%',\n  'rating': '3.7 out of 5',\n  'votes': '3.7 out of 5(28)'},\n {'name': 'Garnier Even & Matte Scrub - 100ml',\n  'new_price': 'KSh 995',\n  'old_price': None,\n  'discount': None,\n  'rating': '4.7 out of 5',\n  'votes': '4.7 out of 5(24)'},\n {'name': 'Fashion 10 Pack Soft Khaki For Men-Multicolour+Free 5 Pairs Of Socks',\n  'new_price': 'KSh 10,400 - KSh 10,999',\n  'old_price': 'KSh 10,499 - KSh 12,999',\n  'discount': '20%',\n  'rating': '4.5 out of 5',\n  'votes': '4.5 out of 5(6)'},\n {'name': 'Smartwatch Business Bluetooth Waterproof Sport',\n  'new_price': 'KSh 780',\n  'old_price': 'KSh 1,481',\n  'discount': '47%',\n  'rating': '3.3 out of 5',\n  'votes': '3.3 out of 5(56)'},\n {'name': 'Fashion Mens Zipper Turtleneck Long Sleeve Varsity Jackets Lightweight Sport Coats - Black',\n  'new_price': 'KSh 1,050',\n  'old_price': 'KSh 1,672',\n  'discount': '37%',\n  'rating': '3.8 out of 5',\n  'votes': '3.8 out of 5(41)'},\n {'name': 'Infinix Smart 7 Plus 6.6\" HD+, 64GB ROM + 3GB RAM, 6000mAh +  Free Gifts',\n  'new_price': 'KSh 13,990',\n  'old_price': 'KSh 18,999',\n  'discount': '26%',\n  'rating': '4 out of 5',\n  'votes': '4 out of 5(66)'},\n {'name': 'Fashion Vintage Breathable High Top Casual Canvas Sneakers',\n  'new_price': 'KSh 1,249 - KSh 1,299',\n  'old_price': 'KSh 1,299 - KSh 1,799',\n  'discount': '31%',\n  'rating': '3.9 out of 5',\n  'votes': '3.9 out of 5(395)'},\n {'name': 'Bontel L200 ,,,Big Speaker,Power Bank Option//  Dual Sim- Black..C.E',\n  'new_price': 'KSh 1,230',\n  'old_price': 'KSh 2,000',\n  'discount': '39%',\n  'rating': '3.9 out of 5',\n  'votes': '3.9 out of 5(14)'},\n {'name': 'Sandisk 16gb 32gb 64gb 128gb Otg Usb Flash Disk',\n  'new_price': 'KSh 899 - KSh 2,498',\n  'old_price': None,\n  'discount': None,\n  'rating': '4.4 out of 5',\n  'votes': '4.4 out of 5(41)'},\n {'name': 'Maybelline Lifter Gloss Hydrating Lip Gloss With Hyaluronic Acid, Rust',\n  'new_price': 'KSh 1,900',\n  'old_price': None,\n  'discount': None,\n  'rating': '4.6 out of 5',\n  'votes': '4.6 out of 5(44)'},\n {'name': 'UNCOVER PIMPLE PATCH - I AM SPOTLESS 18 PATCHES',\n  'new_price': 'KSh 999',\n  'old_price': None,\n  'discount': None,\n  'rating': '4.3 out of 5',\n  'votes': '4.3 out of 5(146)'},\n {'name': 'Kericho Gold Kericho Gold Loose Tea - 250g',\n  'new_price': 'KSh 214',\n  'old_price': 'KSh 220',\n  'discount': '3%',\n  'rating': '4.9 out of 5',\n  'votes': '4.9 out of 5(9)'},\n {'name': 'Amtec AM-006 Amtec 15000W MULTIMEDIA SYSTEM 2.1CH FM/SD/BT/USB',\n  'new_price': 'KSh 8,039',\n  'old_price': 'KSh 9,500',\n  'discount': '15%',\n  'rating': '4.3 out of 5',\n  'votes': '4.3 out of 5(64)'},\n {'name': 'Automatic Water Dispenser-Smart Wireless Pump.',\n  'new_price': 'KSh 770',\n  'old_price': 'KSh 1,100',\n  'discount': '30%',\n  'rating': '4.5 out of 5',\n  'votes': '4.5 out of 5(82)'},\n {'name': \"Fashion 3 In 1 Men's T-Shirt Short Hello Africa Sleeve Shorts Set With Chain Black\",\n  'new_price': 'KSh 899',\n  'old_price': 'KSh 1,359',\n  'discount': '34%',\n  'rating': '3.3 out of 5',\n  'votes': '3.3 out of 5(13)'},\n {'name': 'Portable Laptop Riser Stand Foldable Desktop Laptop Holder With 8 Levels Height',\n  'new_price': 'KSh 859',\n  'old_price': 'KSh 1,503',\n  'discount': '43%',\n  'rating': '4 out of 5',\n  'votes': '4 out of 5(31)'},\n {'name': 'Bluetooth Keyboard Portable Mini Wireless Keyboard Rechargeable For IPad Tablet',\n  'new_price': 'KSh 620',\n  'old_price': 'KSh 1,127',\n  'discount': '45%',\n  'rating': '4.2 out of 5',\n  'votes': '4.2 out of 5(27)'},\n {'name': 'Fashion Soft Khaki Trouser Stretch Slim Fit  Casual- off white',\n  'new_price': 'KSh 1,145 - KSh 1,598',\n  'old_price': 'KSh 1,149 - KSh 1,598',\n  'discount': '10%',\n  'rating': '4.2 out of 5',\n  'votes': '4.2 out of 5(353)'},\n {'name': 'Samsung 15W Galaxy S10+ S8 A10s A20s A30s TYPE C FAST Charger',\n  'new_price': 'KSh 799',\n  'old_price': 'KSh 900',\n  'discount': '11%',\n  'rating': '3.8 out of 5',\n  'votes': '3.8 out of 5(9)'},\n {'name': 'Skyworth 50G3A, 50″ 4K UHD Frameless Smart Android TV – Black',\n  'new_price': 'KSh 43,999',\n  'old_price': 'KSh 55,999',\n  'discount': '21%',\n  'rating': '4.3 out of 5',\n  'votes': '4.3 out of 5(14)'},\n {'name': 'Oraimo Fast Charging Type C USB Cable',\n  'new_price': 'KSh 298',\n  'old_price': None,\n  'discount': None,\n  'rating': '4.7 out of 5',\n  'votes': '4.7 out of 5(47)'},\n {'name': 'Top Side Cover Waterproof Mackintosh Mattress Protector (Non-Quilted)',\n  'new_price': 'KSh 1,399 - KSh 1,499',\n  'old_price': 'KSh 1,859 - KSh 2,000',\n  'discount': '25%',\n  'rating': '4.6 out of 5',\n  'votes': '4.6 out of 5(16)'},\n {'name': \"Fashion 2024 Women's Casual Shoes High Heels Boots - Black\",\n  'new_price': 'KSh 980',\n  'old_price': 'KSh 1,606 - KSh 1,884',\n  'discount': '48%',\n  'rating': '4.4 out of 5',\n  'votes': '4.4 out of 5(91)'},\n {'name': 'Zesta Zesta Hot & Sweet Sauce - 720g',\n  'new_price': 'KSh 135',\n  'old_price': 'KSh 147',\n  'discount': '8%',\n  'rating': '4.5 out of 5',\n  'votes': '4.5 out of 5(33)'},\n {'name': \"Fashion Men's Sleeveless Vest - Black/White/Grey\",\n  'new_price': 'KSh 699',\n  'old_price': None,\n  'discount': None,\n  'rating': '4 out of 5',\n  'votes': '4 out of 5(123)'},\n {'name': '11 Pcs Set Latex Resistance Band Exercise Band Toning Tube',\n  'new_price': 'KSh 1,599',\n  'old_price': 'KSh 1,879',\n  'discount': '15%',\n  'rating': '3.8 out of 5',\n  'votes': '3.8 out of 5(19)'},\n {'name': 'Nokia C1 2nd Edition, 5.45\", 1GB +16GB - (DUAL SIM),Android 11, Blue',\n  'new_price': 'KSh 7,950',\n  'old_price': 'KSh 7,960',\n  'discount': '1%',\n  'rating': '4.1 out of 5',\n  'votes': '4.1 out of 5(149)'},\n {'name': 'Bacardi Bacardi Carta De Oro 750ml',\n  'new_price': 'KSh 1,782',\n  'old_price': 'KSh 1,944',\n  'discount': '8%',\n  'rating': '4.8 out of 5',\n  'votes': '4.8 out of 5(10)'},\n {'name': \"Fashion Men's Leather Loafer Shoes/BLACK\",\n  'new_price': 'KSh 4,369 - KSh 4,399',\n  'old_price': 'KSh 4,599',\n  'discount': '5%',\n  'rating': '4.2 out of 5',\n  'votes': '4.2 out of 5(32)'},\n {'name': 'YOIVY Teeth Whitening Essence Tooth Whitener Remove Stains',\n  'new_price': 'KSh 238',\n  'old_price': 'KSh 300',\n  'discount': '21%',\n  'rating': '3.6 out of 5',\n  'votes': '3.6 out of 5(11)'},\n {'name': 'Oppo A83 4GB RAM+64GB Refurbished -4G LTE Dual SIM-5.7-inch- Face Unlock -Blue',\n  'new_price': 'KSh 8,999',\n  'old_price': 'KSh 16,099',\n  'discount': '44%',\n  'rating': '3.6 out of 5',\n  'votes': '3.6 out of 5(29)'},\n {'name': 'Wired Headphone // Bluetooth Headphone Wireless +  AUX Cable',\n  'new_price': 'KSh 700',\n  'old_price': 'KSh 1,000',\n  'discount': '30%',\n  'rating': '3.8 out of 5',\n  'votes': '3.8 out of 5(16)'},\n {'name': 'Fashion 15 Pcs Naked Professional Makeup Brush Set Tools Kit Spray Holder',\n  'new_price': 'KSh 1,250',\n  'old_price': 'KSh 1,899',\n  'discount': '34%',\n  'rating': '4.4 out of 5',\n  'votes': '4.4 out of 5(46)'},\n {'name': 'Electric Cooker / Single Spiral Coil Hotplate',\n  'new_price': 'KSh 990',\n  'old_price': 'KSh 1,800',\n  'discount': '45%',\n  'rating': '3.9 out of 5',\n  'votes': '3.9 out of 5(40)'},\n {'name': '14 - 43 Inch TV Wall Mounting Bracket',\n  'new_price': 'KSh 350',\n  'old_price': 'KSh 600',\n  'discount': '42%',\n  'rating': '4.5 out of 5',\n  'votes': '4.5 out of 5(20)'},\n {'name': \"Fashion 2 Piece Set Men's T-Shirt & Shorts - Black\",\n  'new_price': 'KSh 1,150',\n  'old_price': 'KSh 1,690 - KSh 1,766',\n  'discount': '35%',\n  'rating': '3.6 out of 5',\n  'votes': '3.6 out of 5(17)'},\n {'name': \"Fashion 12 Pairs Men's Cotton Dress Socks - Assorted\",\n  'new_price': 'KSh 749',\n  'old_price': 'KSh 1,000',\n  'discount': '25%',\n  'rating': '3.7 out of 5',\n  'votes': '3.7 out of 5(62)'},\n {'name': 'Gotv + 1 Month Free (Max) Subscription.',\n  'new_price': 'KSh 1,349',\n  'old_price': 'KSh 2,499',\n  'discount': '46%',\n  'rating': '4.2 out of 5',\n  'votes': '4.2 out of 5(911)'},\n {'name': 'Amtec AM-011 Home Theatre Sub Woofer AC/DC-MF/BT-USB-Amtec',\n  'new_price': 'KSh 2,845',\n  'old_price': 'KSh 3,699',\n  'discount': '23%',\n  'rating': '4 out of 5',\n  'votes': '4 out of 5(34)'},\n {'name': 'Geemy Rechargeable  Cordless Shaving Machine With Indicator',\n  'new_price': 'KSh 1,950',\n  'old_price': 'KSh 3,000',\n  'discount': '35%',\n  'rating': '4.5 out of 5',\n  'votes': '4.5 out of 5(186)'},\n {'name': 'Sathiya 1850W 1.8L Energy Efficient Electric Water Kettle Heater Jug',\n  'new_price': 'KSh 1,159',\n  'old_price': 'KSh 1,500',\n  'discount': '23%',\n  'rating': '4.2 out of 5',\n  'votes': '4.2 out of 5(61)'},\n {'name': 'Adidas Adilette Aqua Slides Unisex',\n  'new_price': 'KSh 2,760',\n  'old_price': 'KSh 4,600',\n  'discount': '40%',\n  'rating': '4.3 out of 5',\n  'votes': '4.3 out of 5(28)'},\n {'name': \"Fashion 3Pack Finest Men's Long Sleeve Checked Shirt Slim Fit\",\n  'new_price': 'KSh 2,499',\n  'old_price': 'KSh 3,000',\n  'discount': '17%',\n  'rating': '3.9 out of 5',\n  'votes': '3.9 out of 5(10)'},\n {'name': \"Samsung Galaxy A04e 32GB ROM 3GB RAM 6.5'' 5000mAh Battery - Black\",\n  'new_price': 'KSh 14,399',\n  'old_price': 'KSh 19,999',\n  'discount': '28%',\n  'rating': '4.4 out of 5',\n  'votes': '4.4 out of 5(39)'},\n {'name': \"Fashion Women's Shoes Sneakers Dad Shoes Walking Shoes\",\n  'new_price': 'KSh 1,299',\n  'old_price': 'KSh 1,782',\n  'discount': '27%',\n  'rating': '4.1 out of 5',\n  'votes': '4.1 out of 5(49)'},\n {'name': 'Fashion Quality Casual Stretch Mens Slim Fit Jeans',\n  'new_price': 'KSh 1,299 - KSh 1,399',\n  'old_price': 'KSh 1,500',\n  'discount': '13%',\n  'rating': '4.7 out of 5',\n  'votes': '4.7 out of 5(6)'},\n {'name': 'Dr. Davey Papaya Whitening & Lightening Lotion-480ml',\n  'new_price': 'KSh 580',\n  'old_price': 'KSh 1,000',\n  'discount': '42%',\n  'rating': '3.4 out of 5',\n  'votes': '3.4 out of 5(12)'},\n {'name': 'Fashion Cute Newborn Unisex Warm Turtleneck Baby Sweater(0-9M)',\n  'new_price': 'KSh 479',\n  'old_price': 'KSh 800',\n  'discount': '40%',\n  'rating': '4.4 out of 5',\n  'votes': '4.4 out of 5(27)'},\n {'name': 'Power King TV Guard Surge Protector: Safeguard Electronics With Premium Power Extension',\n  'new_price': 'KSh 1,150',\n  'old_price': 'KSh 1,500',\n  'discount': '23%',\n  'rating': '4 out of 5',\n  'votes': '4 out of 5(5)'},\n {'name': 'Fashion Ladies Rugged Jeans Trousers- Classy Trendy',\n  'new_price': 'KSh 1,370 - KSh 1,470',\n  'old_price': 'KSh 2,000',\n  'discount': '32%',\n  'rating': '3.9 out of 5',\n  'votes': '3.9 out of 5(8)'},\n {'name': 'Velvex Premium Kitchen Towel White Twin Pack',\n  'new_price': 'KSh 385',\n  'old_price': None,\n  'discount': None,\n  'rating': '4.5 out of 5',\n  'votes': '4.5 out of 5(92)'},\n {'name': 'White Gold Anti-Marks Cream Extra Whitening 30g',\n  'new_price': 'KSh 530',\n  'old_price': 'KSh 800',\n  'discount': '34%',\n  'rating': '3.4 out of 5',\n  'votes': '3.4 out of 5(12)'},\n {'name': '3D Vibrating Vaginal Male Cup Soft Sucking Cup',\n  'new_price': 'KSh 1,280',\n  'old_price': 'KSh 1,999',\n  'discount': '36%',\n  'rating': '3.7 out of 5',\n  'votes': '3.7 out of 5(3)'},\n {'name': 'Redberry 4pcs Stainless Steel High Quality Insulated Hot Pots',\n  'new_price': 'KSh 3,996',\n  'old_price': 'KSh 6,000',\n  'discount': '33%',\n  'rating': '4.3 out of 5',\n  'votes': '4.3 out of 5(3)'},\n {'name': 'Motivational Water Bottle Large With Time Marker- Blue',\n  'new_price': 'KSh 785',\n  'old_price': 'KSh 1,500',\n  'discount': '48%',\n  'rating': '3.4 out of 5',\n  'votes': '3.4 out of 5(8)'},\n {'name': 'Type C To HDMI 4K HDTV Digital Adapter',\n  'new_price': 'KSh 1,397',\n  'old_price': 'KSh 2,500',\n  'discount': '44%',\n  'rating': '5 out of 5',\n  'votes': '5 out of 5(1)'},\n {'name': 'USB Bluetooth BT 5.1 Dongle Adapter Receiver Driver-Free',\n  'new_price': 'KSh 389',\n  'old_price': 'KSh 600',\n  'discount': '35%',\n  'rating': '4.4 out of 5',\n  'votes': '4.4 out of 5(5)'},\n {'name': 'Sun King Home120 Solar Light With Radio',\n  'new_price': 'KSh 15,950',\n  'old_price': None,\n  'discount': None,\n  'rating': '4.4 out of 5',\n  'votes': '4.4 out of 5(31)'},\n {'name': 'ST180 Digital Multimeter, AC/DC Clamp',\n  'new_price': 'KSh 1,850',\n  'old_price': 'KSh 3,385',\n  'discount': '45%',\n  'rating': '4 out of 5',\n  'votes': '4 out of 5(10)'},\n {'name': '5ft Christmas Tree + FREE Christmas Balloons Christmas Tree Decor Decorations Decorative Accessories',\n  'new_price': 'KSh 3,999',\n  'old_price': 'KSh 4,500',\n  'discount': '11%',\n  'rating': None,\n  'votes': None},\n {'name': 'Mara Neem Powder 100g',\n  'new_price': 'KSh 450',\n  'old_price': 'KSh 600',\n  'discount': '25%',\n  'rating': '4.6 out of 5',\n  'votes': '4.6 out of 5(47)'},\n {'name': '3 Layer Tier Stainless Steel Dish Drainer',\n  'new_price': 'KSh 3,499',\n  'old_price': 'KSh 3,500',\n  'discount': '1%',\n  'rating': '3 out of 5',\n  'votes': '3 out of 5(1)'},\n {'name': 'Dexe Black Hair Shampoo (Natural Black) One Box = 25Mlx10Pouch.',\n  'new_price': 'KSh 429',\n  'old_price': None,\n  'discount': None,\n  'rating': '4.2 out of 5',\n  'votes': '4.2 out of 5(19)'},\n {'name': 'Fashion Non-fading Jeans',\n  'new_price': 'KSh 1,690',\n  'old_price': 'KSh 1,800',\n  'discount': '6%',\n  'rating': '3.9 out of 5',\n  'votes': '3.9 out of 5(7)'},\n {'name': 'Bluetooth Headsets Wireless Earphones',\n  'new_price': 'KSh 584',\n  'old_price': 'KSh 1,051',\n  'discount': '44%',\n  'rating': '4 out of 5',\n  'votes': '4 out of 5(2)'},\n {'name': 'Amtec 24 Inch Digital LED-TV Ac-Dc -in Built Decorder.',\n  'new_price': 'KSh 9,297',\n  'old_price': 'KSh 9,999',\n  'discount': '7%',\n  'rating': '1.3 out of 5',\n  'votes': '1.3 out of 5(3)'},\n {'name': 'GARBAGE BAGS 50pcs-BIN LINERS',\n  'new_price': 'KSh 670',\n  'old_price': 'KSh 700',\n  'discount': '4%',\n  'rating': '2 out of 5',\n  'votes': '2 out of 5(4)'},\n {'name': 'Tecno Pop 7 Silicone Fashion Cover Case + Sports Bluetooth Headset + Screen Protector.',\n  'new_price': 'KSh 699',\n  'old_price': 'KSh 999',\n  'discount': '30%',\n  'rating': None,\n  'votes': None},\n {'name': '3PCS Non Stick CAKE Tray Mould ...',\n  'new_price': 'KSh 1,599',\n  'old_price': 'KSh 2,800',\n  'discount': '43%',\n  'rating': '1 out of 5',\n  'votes': '1 out of 5(1)'},\n {'name': 'Biaowang Great Quality Laptop Shoulder Bag/Side Bag',\n  'new_price': 'KSh 2,786',\n  'old_price': None,\n  'discount': None,\n  'rating': '4.6 out of 5',\n  'votes': '4.6 out of 5(22)'},\n {'name': 'Solar Africa 500W Super Powerful Solar Inverter',\n  'new_price': 'KSh 1,499 - KSh 2,399',\n  'old_price': 'KSh 2,900 - KSh 4,700',\n  'discount': '49%',\n  'rating': '4.5 out of 5',\n  'votes': '4.5 out of 5(2)'},\n {'name': 'Fashion Bath Towel Sheet-70x140 Cotton Kids Towel.',\n  'new_price': 'KSh 900',\n  'old_price': 'KSh 1,200',\n  'discount': '25%',\n  'rating': '4 out of 5',\n  'votes': '4 out of 5(9)'},\n {'name': 'Celine Serviettes - Value Pack 200 Sheets',\n  'new_price': 'KSh 266',\n  'old_price': 'KSh 290',\n  'discount': '8%',\n  'rating': '4.8 out of 5',\n  'votes': '4.8 out of 5(6)'},\n {'name': 'Kitchen Timer 60 Minutes Count',\n  'new_price': 'KSh 975',\n  'old_price': 'KSh 1,602',\n  'discount': '39%',\n  'rating': '5 out of 5',\n  'votes': '5 out of 5(2)'},\n {'name': 'Lenovo HE05 Wireless Bluetooth 5.0 In-Ear Neckband Earphones With Mic (Black',\n  'new_price': 'KSh 690',\n  'old_price': 'KSh 900',\n  'discount': '23%',\n  'rating': None,\n  'votes': None},\n {'name': 'Fashion 6PCs Pure Cotton Disney Printed Girls Panties+Free Panty Bag',\n  'new_price': 'KSh 585 - KSh 1,800',\n  'old_price': 'KSh 585 - KSh 1,800',\n  'discount': '27%',\n  'rating': '4.7 out of 5',\n  'votes': '4.7 out of 5(6)'},\n {'name': 'High Accuracy TDS Meter Digital Water Tester Digital 0-14 PH Meter Tester Purity Aquarium Filter',\n  'new_price': 'KSh 790',\n  'old_price': 'KSh 1,190',\n  'discount': '34%',\n  'rating': None,\n  'votes': None},\n {'name': 'Fashion Ankle Polka Dot Happy Socks Dotted 6 Pairs Set 100% Cotton Assorted',\n  'new_price': 'KSh 699',\n  'old_price': 'KSh 700',\n  'discount': '1%',\n  'rating': '5 out of 5',\n  'votes': '5 out of 5(1)'},\n {'name': 'Toyota,Subaru,Honda,Nissan,Mazda Insurance Pocket Holder',\n  'new_price': 'KSh 720',\n  'old_price': 'KSh 1,000',\n  'discount': '28%',\n  'rating': '4 out of 5',\n  'votes': '4 out of 5(1)'},\n {'name': 'Electronic Scale Digital Portable 50Kg Weighing Scale- Hook',\n  'new_price': 'KSh 799',\n  'old_price': 'KSh 950',\n  'discount': '16%',\n  'rating': '4 out of 5',\n  'votes': '4 out of 5(6)'},\n {'name': 'Sokany Single Portable Electric Stove Cooker Hot Plate,',\n  'new_price': 'KSh 1,800',\n  'old_price': 'KSh 3,000',\n  'discount': '40%',\n  'rating': '2.8 out of 5',\n  'votes': '2.8 out of 5(4)'},\n {'name': 'Fashion Kids Writing Pencil Pen Assistance Two Fingers Grip',\n  'new_price': 'KSh 329 - KSh 499',\n  'old_price': None,\n  'discount': None,\n  'rating': '4.6 out of 5',\n  'votes': '4.6 out of 5(10)'},\n {'name': 'Bisutang Organic Seaweed Purifying Facial Sheet Mask',\n  'new_price': 'KSh 135 - KSh 849',\n  'old_price': 'KSh 250 - KSh 1,050',\n  'discount': '46%',\n  'rating': '4.9 out of 5',\n  'votes': '4.9 out of 5(12)'},\n {'name': 'Fashion Wind Resistant Umbrella Curved Wooden Handle',\n  'new_price': 'KSh 1,100',\n  'old_price': 'KSh 1,980',\n  'discount': '44%',\n  'rating': '4.3 out of 5',\n  'votes': '4.3 out of 5(3)'},\n {'name': 'Big Adjustable Washing Machine / Fridge Mover Stand/Trolley',\n  'new_price': 'KSh 2,145',\n  'old_price': 'KSh 3,890',\n  'discount': '45%',\n  'rating': '4.3 out of 5',\n  'votes': '4.3 out of 5(3)'},\n {'name': 'AB Double Wheel Fitness Roller Abdominal & Core Workout FREE Thick Knee Mat',\n  'new_price': 'KSh 899',\n  'old_price': 'KSh 1,499',\n  'discount': '40%',\n  'rating': '4.9 out of 5',\n  'votes': '4.9 out of 5(8)'},\n {'name': 'Fashion Ladies Shoes Athletic Shoes Thick-soled  Casual Shoes Fashion Sneakers',\n  'new_price': 'KSh 899',\n  'old_price': 'KSh 1,599',\n  'discount': '44%',\n  'rating': '4.8 out of 5',\n  'votes': '4.8 out of 5(4)'},\n {'name': 'Rina Rina Vegetable Oil – 3 Litres',\n  'new_price': 'KSh 845',\n  'old_price': 'KSh 922',\n  'discount': '8%',\n  'rating': '4.5 out of 5',\n  'votes': '4.5 out of 5(3383)'},\n {'name': 'Adult Travelling Neck Pillow- Black',\n  'new_price': 'KSh 699',\n  'old_price': 'KSh 900',\n  'discount': '22%',\n  'rating': '4.2 out of 5',\n  'votes': '4.2 out of 5(74)'},\n {'name': 'Genetic Wireless Bluetooth Earphone Headphones Stereo Earbuds HIFI',\n  'new_price': 'KSh 409',\n  'old_price': 'KSh 799',\n  'discount': '49%',\n  'rating': '3.6 out of 5',\n  'votes': '3.6 out of 5(35)'},\n {'name': 'NIVEA Refreshing Face Wash For Women - 150ml (Pack Of 2)',\n  'new_price': 'KSh 1,133',\n  'old_price': 'KSh 1,510',\n  'discount': '25%',\n  'rating': '4.6 out of 5',\n  'votes': '4.6 out of 5(290)'},\n {'name': '14-43\" Wall Bracket +Free 4 Way Extension',\n  'new_price': 'KSh 690',\n  'old_price': 'KSh 1,000',\n  'discount': '31%',\n  'rating': '4.2 out of 5',\n  'votes': '4.2 out of 5(45)'},\n {'name': '10-piece Stackable Stainless Steel Handle Precision Spoon Measuring Spoon Set',\n  'new_price': 'KSh 666',\n  'old_price': 'KSh 900',\n  'discount': '26%',\n  'rating': '4.9 out of 5',\n  'votes': '4.9 out of 5(20)'},\n {'name': 'Fashion 6 Pack Round Neck Plain T-shirts',\n  'new_price': 'KSh 3,500',\n  'old_price': None,\n  'discount': None,\n  'rating': '4.1 out of 5',\n  'votes': '4.1 out of 5(122)'},\n {'name': 'Fashion Men Comfortable Gentle Casual Running Lace-up Sneakers Outdoor Sport Shoes Black',\n  'new_price': 'KSh 1,760',\n  'old_price': 'KSh 4,199',\n  'discount': '58%',\n  'rating': '4.1 out of 5',\n  'votes': '4.1 out of 5(28)'},\n {'name': 'NIVEA Watermelon Shine Lip Balm For Women - 4.8g (Pack Of 2)',\n  'new_price': 'KSh 725',\n  'old_price': 'KSh 804',\n  'discount': '10%',\n  'rating': '4.4 out of 5',\n  'votes': '4.4 out of 5(65)'},\n {'name': 'Tecno Pop 7 Pro 6.6\" 3GB RAM + 64GB ROM  13MP , 5000mAh, Blue + Free Gifts',\n  'new_price': 'KSh 13,999',\n  'old_price': 'KSh 19,999',\n  'discount': '30%',\n  'rating': '4.1 out of 5',\n  'votes': '4.1 out of 5(30)'},\n {'name': 'Fashion Chic Moon Star Tassel Charm Double Layer Chain Choker-Golden',\n  'new_price': 'KSh 116',\n  'old_price': 'KSh 232',\n  'discount': '50%',\n  'rating': '4.1 out of 5',\n  'votes': '4.1 out of 5(20)'},\n {'name': 'TC Portable Wardrobe 3 Column - Purple',\n  'new_price': 'KSh 2,597',\n  'old_price': 'KSh 5,000',\n  'discount': '48%',\n  'rating': '4.2 out of 5',\n  'votes': '4.2 out of 5(11)'},\n {'name': 'Maybelline Lifter Gloss Hydrating Lip Gloss With Hyaluronic Acid, Silk',\n  'new_price': 'KSh 1,900',\n  'old_price': None,\n  'discount': None,\n  'rating': '4.3 out of 5',\n  'votes': '4.3 out of 5(30)'},\n {'name': 'Wireless BT5.0 In-Ear Earphone White',\n  'new_price': 'KSh 599',\n  'old_price': 'KSh 1,150',\n  'discount': '48%',\n  'rating': '3.6 out of 5',\n  'votes': '3.6 out of 5(39)'},\n {'name': 'Fashion 4 Pcs Women Bag High Capacity Handbag Female Tote Shoulder Bag Crossbody Bag Purse',\n  'new_price': 'KSh 1,099',\n  'old_price': 'KSh 1,802',\n  'discount': '39%',\n  'rating': '4 out of 5',\n  'votes': '4 out of 5(28)'},\n {'name': 'Vitron V635 3.1 SUB-WOOFER SYSTEM 10000W+Free 8gb Flash+4 Way.',\n  'new_price': 'KSh 7,499',\n  'old_price': 'KSh 13,998',\n  'discount': '46%',\n  'rating': '4.3 out of 5',\n  'votes': '4.3 out of 5(66)'},\n {'name': \"Fashion Men's Belt Leather Automatic Buckle Belts - Black\",\n  'new_price': 'KSh 630',\n  'old_price': 'KSh 883',\n  'discount': '29%',\n  'rating': '4.4 out of 5',\n  'votes': '4.4 out of 5(43)'},\n {'name': 'Amaze TV Guard With Free Fridge/ Freezer Guard Surge Protector',\n  'new_price': 'KSh 1,075',\n  'old_price': 'KSh 2,000',\n  'discount': '46%',\n  'rating': '4.2 out of 5',\n  'votes': '4.2 out of 5(13)'},\n {'name': '3-in-1 Rechargeable Self-Defense Electric Shock Laser Pointer Torch',\n  'new_price': 'KSh 900',\n  'old_price': 'KSh 1,500',\n  'discount': '40%',\n  'rating': '4.1 out of 5',\n  'votes': '4.1 out of 5(10)'},\n {'name': 'Multiple Power AA 1.2V 3000mAh Rechargeable Batteries',\n  'new_price': 'KSh 550',\n  'old_price': None,\n  'discount': None,\n  'rating': '4.2 out of 5',\n  'votes': '4.2 out of 5(76)'},\n {'name': 'AILYONS 1000W Electric Dry Iron Box Plus Free 4-Way Extension',\n  'new_price': 'KSh 1,274',\n  'old_price': 'KSh 1,500',\n  'discount': '15%',\n  'rating': '4.2 out of 5',\n  'votes': '4.2 out of 5(107)'},\n {'name': 'Weight Scale Weighing Scales Digital Body Scales With LCD Display',\n  'new_price': 'KSh 899',\n  'old_price': 'KSh 1,629',\n  'discount': '45%',\n  'rating': '4.3 out of 5',\n  'votes': '4.3 out of 5(20)'},\n {'name': 'Fashion Mens Vintage Graffiti Beach Shirts  Casual Official T-Shirts',\n  'new_price': 'KSh 720',\n  'old_price': 'KSh 1,254',\n  'discount': '43%',\n  'rating': '3.4 out of 5',\n  'votes': '3.4 out of 5(138)'},\n {'name': '1 Din Car Stereo Radio AM/FM Bluetooth Stereo Mp3 Player Voice Control 2 Usb',\n  'new_price': 'KSh 2,599',\n  'old_price': 'KSh 3,760',\n  'discount': '31%',\n  'rating': '3.8 out of 5',\n  'votes': '3.8 out of 5(18)'},\n {'name': 'Fashion Anti Blue Light Glasses Fashionable Anti Blue Light Sunglasses',\n  'new_price': 'KSh 415',\n  'old_price': 'KSh 500',\n  'discount': '17%',\n  'rating': '3.7 out of 5',\n  'votes': '3.7 out of 5(40)'},\n {'name': 'Himalayan Ashwagandha/ Ashvagandha',\n  'new_price': 'KSh 925',\n  'old_price': 'KSh 1,400',\n  'discount': '34%',\n  'rating': '4.7 out of 5',\n  'votes': '4.7 out of 5(48)'},\n {'name': \"Fashion 6PACK Finest Quality Cotton Long Lasting Men's Checked Boxers\",\n  'new_price': 'KSh 799 - KSh 1,299',\n  'old_price': 'KSh 1,299 - KSh 1,599',\n  'discount': '47%',\n  'rating': '3.9 out of 5',\n  'votes': '3.9 out of 5(84)'},\n {'name': 'Fashion Geniune Back To School Shoes',\n  'new_price': 'KSh 709 - KSh 1,099',\n  'old_price': 'KSh 1,400 - KSh 2,198',\n  'discount': '50%',\n  'rating': '4.1 out of 5',\n  'votes': '4.1 out of 5(57)'},\n {'name': 'Non Stick Deep Frying Pan/Pancake Pan',\n  'new_price': 'KSh 999 - KSh 1,050',\n  'old_price': 'KSh 1,200 - KSh 1,500',\n  'discount': '30%',\n  'rating': '4.5 out of 5',\n  'votes': '4.5 out of 5(114)'},\n {'name': 'Geemy Electric Hair Trimmer Barbering Machine - Kinyozi',\n  'new_price': 'KSh 1,250',\n  'old_price': 'KSh 1,800',\n  'discount': '31%',\n  'rating': '4 out of 5',\n  'votes': '4 out of 5(85)'},\n {'name': \"Jacob's Creek Jacob's Creek Classic Chardonnay - 750ml\",\n  'new_price': 'KSh 999',\n  'old_price': 'KSh 1,282',\n  'discount': '22%',\n  'rating': '4.4 out of 5',\n  'votes': '4.4 out of 5(21)'},\n {'name': 'Bike Headlight Taillight Night Riding Safety Set',\n  'new_price': 'KSh 534',\n  'old_price': 'KSh 979',\n  'discount': '45%',\n  'rating': '4.1 out of 5',\n  'votes': '4.1 out of 5(64)'},\n {'name': 'Fashion 6pcs Lace Ladies Seamless Panties- Booty Transformation',\n  'new_price': 'KSh 1,199',\n  'old_price': 'KSh 2,000',\n  'discount': '40%',\n  'rating': '4.3 out of 5',\n  'votes': '4.3 out of 5(50)'},\n {'name': '5 PCS Kitchenware Utensils Cookware Baking Set Cooking Whisk',\n  'new_price': 'KSh 859',\n  'old_price': 'KSh 1,599',\n  'discount': '46%',\n  'rating': '4.3 out of 5',\n  'votes': '4.3 out of 5(26)'},\n {'name': 'AILYONS 2.2 LITRES LUXURY ELECTRIC KETTLE HEATER JUG',\n  'new_price': 'KSh 1,228',\n  'old_price': 'KSh 1,499',\n  'discount': '18%',\n  'rating': '4 out of 5',\n  'votes': '4 out of 5(101)'},\n {'name': 'Fashion Stylish And Unique Casual Outdoor Men Sandles/slippers',\n  'new_price': 'KSh 1,099',\n  'old_price': None,\n  'discount': None,\n  'rating': '4.1 out of 5',\n  'votes': '4.1 out of 5(89)'},\n {'name': 'Roch RHB-313-D Hand Blender - 800W - Black',\n  'new_price': 'KSh 1,699',\n  'old_price': 'KSh 1,899',\n  'discount': '11%',\n  'rating': '4 out of 5',\n  'votes': '4 out of 5(11)'},\n {'name': 'Qwen Selfie Stick Tripod With LED Light  Remote Controller For Mobile Phone',\n  'new_price': 'KSh 599',\n  'old_price': 'KSh 800',\n  'discount': '25%',\n  'rating': '4 out of 5',\n  'votes': '4 out of 5(58)'},\n {'name': 'Wlisth Luminous Tungsten Steel  Waterproof Fashion Couple Watch Calendar Quartz Watch',\n  'new_price': 'KSh 996',\n  'old_price': 'KSh 1,368',\n  'discount': '27%',\n  'rating': '4.3 out of 5',\n  'votes': '4.3 out of 5(84)'},\n {'name': \"Fashion African Men's Shirt / Long Sleeved Casual Men's Shirt /  Ankara Style Shirt\",\n  'new_price': 'KSh 2,600 - KSh 2,800',\n  'old_price': 'KSh 2,800 - KSh 3,800',\n  'discount': '26%',\n  'rating': '2.3 out of 5',\n  'votes': '2.3 out of 5(3)'},\n {'name': 'Full Body Sculptor Massager - Relax & Spin - Tone Slimmer',\n  'new_price': 'KSh 1,545',\n  'old_price': 'KSh 2,500',\n  'discount': '38%',\n  'rating': None,\n  'votes': None},\n {'name': '4Pcs Door Handle Stickers, Carbon Fiber Cup Guards,',\n  'new_price': 'KSh 279',\n  'old_price': 'KSh 502',\n  'discount': '44%',\n  'rating': '4.3 out of 5',\n  'votes': '4.3 out of 5(3)'},\n {'name': 'Mxq 4K Pro Android TV Box Smart Box',\n  'new_price': 'KSh 2,799',\n  'old_price': 'KSh 4,000',\n  'discount': '30%',\n  'rating': '4.1 out of 5',\n  'votes': '4.1 out of 5(10)'},\n {'name': 'Lenovo Tab M9,9 Inch,3+32GB,Dolby Atmos, Octa-Core Processor, Arctic Grey',\n  'new_price': 'KSh 20,899',\n  'old_price': 'KSh 25,999',\n  'discount': '20%',\n  'rating': '4.2 out of 5',\n  'votes': '4.2 out of 5(42)'},\n {'name': 'Fashion Women Party Star Pendant Chain Necklace-Silver',\n  'new_price': 'KSh 70',\n  'old_price': 'KSh 140',\n  'discount': '50%',\n  'rating': '3.8 out of 5',\n  'votes': '3.8 out of 5(6)'},\n {'name': 'Power King Best Heavy Duty Power Extension For Fridge, Freezer, Regrigerator +Fridge Guard',\n  'new_price': 'KSh 1,280',\n  'old_price': 'KSh 1,980',\n  'discount': '35%',\n  'rating': '5 out of 5',\n  'votes': '5 out of 5(2)'},\n {'name': 'Vaseline Cocoa Radiant Body Oil With Pure Cocoa Butter',\n  'new_price': 'KSh 1,540',\n  'old_price': 'KSh 1,545',\n  'discount': '1%',\n  'rating': '4.7 out of 5',\n  'votes': '4.7 out of 5(17)'},\n {'name': 'P47 Wireless  Bluetooth  Stereo Headset - White',\n  'new_price': 'KSh 799',\n  'old_price': 'KSh 1,598',\n  'discount': '50%',\n  'rating': '3 out of 5',\n  'votes': '3 out of 5(1)'},\n {'name': 'Egyptian Magic Whitening&Lightening Milk Serum-Nature Secret Pure Argan Oil50ml',\n  'new_price': 'KSh 549',\n  'old_price': 'KSh 1,000',\n  'discount': '45%',\n  'rating': '3.8 out of 5',\n  'votes': '3.8 out of 5(8)'},\n {'name': 'Advance 32 GB Flash DIsk + OTG + Wallet + Cap + Belt',\n  'new_price': 'KSh 1,250',\n  'old_price': 'KSh 1,800',\n  'discount': '31%',\n  'rating': '3.8 out of 5',\n  'votes': '3.8 out of 5(5)'},\n {'name': '300Pcs Christmas Fake Snowflake DIY Wedding New Year-Silver',\n  'new_price': 'KSh 183',\n  'old_price': 'KSh 366',\n  'discount': '50%',\n  'rating': None,\n  'votes': None},\n {'name': \"SIWAR BY Néo Artisanal High-top MILITARY Desert COMBAT Leather Men's Boots Brown\",\n  'new_price': 'KSh 2,850 - KSh 2,899',\n  'old_price': 'KSh 2,850 - KSh 4,500',\n  'discount': '36%',\n  'rating': '4.1 out of 5',\n  'votes': '4.1 out of 5(32)'},\n {'name': 'Gotv Digital Antenna + 10m Coaxial Cable',\n  'new_price': 'KSh 2,000',\n  'old_price': 'KSh 2,100',\n  'discount': '5%',\n  'rating': '4.3 out of 5',\n  'votes': '4.3 out of 5(4)'},\n {'name': \"Fashion LED Digital Quartz Fashion Watch Sport Men's\",\n  'new_price': 'KSh 690',\n  'old_price': 'KSh 985',\n  'discount': '30%',\n  'rating': '3.7 out of 5',\n  'votes': '3.7 out of 5(22)'},\n {'name': 'Fashion Short Bobo Style Yellow Short Straight Hair Wig For Ladies',\n  'new_price': 'KSh 1,365',\n  'old_price': 'KSh 2,488',\n  'discount': '45%',\n  'rating': '2 out of 5',\n  'votes': '2 out of 5(2)'},\n {'name': 'Door Hinge Brass 4\" Per Pair',\n  'new_price': 'KSh 400',\n  'old_price': 'KSh 450',\n  'discount': '11%',\n  'rating': None,\n  'votes': None},\n {'name': 'Nunix 2 Layer Stainless Dish Drainer',\n  'new_price': 'KSh 1,800',\n  'old_price': 'KSh 2,400',\n  'discount': '25%',\n  'rating': '4 out of 5',\n  'votes': '4 out of 5(7)'},\n {'name': 'HP V250W 32GB Flash Disk Drive - Silver',\n  'new_price': 'KSh 670',\n  'old_price': 'KSh 1,100',\n  'discount': '39%',\n  'rating': '3.7 out of 5',\n  'votes': '3.7 out of 5(25)'},\n {'name': 'Stainless Steel Serviette Roll Holder-Golden',\n  'new_price': 'KSh 468',\n  'old_price': 'KSh 581',\n  'discount': '19%',\n  'rating': '4.5 out of 5',\n  'votes': '4.5 out of 5(18)'},\n {'name': 'Oraimo Powerbank- PB 10,000Mah,,,,,,WHITE/BLACK...',\n  'new_price': 'KSh 1,890',\n  'old_price': 'KSh 3,000',\n  'discount': '37%',\n  'rating': '3.6 out of 5',\n  'votes': '3.6 out of 5(8)'},\n {'name': 'Gotv Decorder Only + 1 Month Free Subscription',\n  'new_price': 'KSh 3,499',\n  'old_price': 'KSh 3,999',\n  'discount': '13%',\n  'rating': None,\n  'votes': None},\n {'name': 'Beauty Glazed Gorgeous Me Eye Shadow Palette',\n  'new_price': 'KSh 1,290',\n  'old_price': 'KSh 1,500',\n  'discount': '14%',\n  'rating': '5 out of 5',\n  'votes': '5 out of 5(1)'},\n {'name': 'Casserole Hot Pots Best Quality 4 Set Casserole White',\n  'new_price': 'KSh 3,279',\n  'old_price': 'KSh 6,558',\n  'discount': '50%',\n  'rating': '5 out of 5',\n  'votes': '5 out of 5(1)'},\n {'name': 'Pro5 TWS Bluetooth Earphone Wireless Headphones Earbuds',\n  'new_price': 'KSh 690',\n  'old_price': 'KSh 1,300',\n  'discount': '47%',\n  'rating': '2 out of 5',\n  'votes': '2 out of 5(2)'},\n {'name': 'Rashnik Automatic STAINLESS STEEL  Electric Kettle 5.7LTS',\n  'new_price': 'KSh 3,599',\n  'old_price': 'KSh 5,500',\n  'discount': '35%',\n  'rating': '4.5 out of 5',\n  'votes': '4.5 out of 5(2)'},\n {'name': 'Ultrasonic Aroma Humidifier Air Purifier Essential Oil',\n  'new_price': 'KSh 1,590',\n  'old_price': 'KSh 2,800',\n  'discount': '43%',\n  'rating': '5 out of 5',\n  'votes': '5 out of 5(5)'},\n {'name': 'Cerave Cerave Foaming cleanser 236ml',\n  'new_price': 'KSh 1,200',\n  'old_price': 'KSh 2,000',\n  'discount': '40%',\n  'rating': '4 out of 5',\n  'votes': '4 out of 5(1)'},\n {'name': \"GORDON'S Gordon's Rtd London Dry Gin And Tonic 330ml - Pack Of 6\",\n  'new_price': 'KSh 1,201',\n  'old_price': 'KSh 1,310',\n  'discount': '8%',\n  'rating': '4.5 out of 5',\n  'votes': '4.5 out of 5(25)'},\n {'name': '1.2M Computer Office Desk Workstation With Metal Frame (Unassembled)',\n  'new_price': 'KSh 6,499',\n  'old_price': 'KSh 10,000',\n  'discount': '35%',\n  'rating': '4.2 out of 5',\n  'votes': '4.2 out of 5(5)'},\n {'name': 'GARBAGE BAGS 50pcs-BIN LINERS',\n  'new_price': 'KSh 800',\n  'old_price': None,\n  'discount': None,\n  'rating': '2.3 out of 5',\n  'votes': '2.3 out of 5(3)'},\n {'name': 'Astonish Astonish Window And Glass Cleaner Trigger 750ml',\n  'new_price': 'KSh 625',\n  'old_price': None,\n  'discount': None,\n  'rating': '4.7 out of 5',\n  'votes': '4.7 out of 5(6)'},\n {'name': 'Vision Plus Sound Bar 110W RMS-BLACK',\n  'new_price': 'KSh 11,200',\n  'old_price': 'KSh 15,000',\n  'discount': '25%',\n  'rating': '3 out of 5',\n  'votes': '3 out of 5(2)'},\n {'name': 'Bike Portable Lock Antitheft',\n  'new_price': 'KSh 598',\n  'old_price': 'KSh 1,000',\n  'discount': '40%',\n  'rating': '5 out of 5',\n  'votes': '5 out of 5(5)'},\n {'name': \"Fashion Men's Retro Volcanic Stone Yoga Bracelet\",\n  'new_price': 'KSh 219',\n  'old_price': 'KSh 300',\n  'discount': '27%',\n  'rating': '4.3 out of 5',\n  'votes': '4.3 out of 5(7)'},\n {'name': 'NIVEA Aloe & Hydration Body Lotion For Women - 200ml (Pack Of 2)',\n  'new_price': 'KSh 720',\n  'old_price': None,\n  'discount': None,\n  'rating': '4.4 out of 5',\n  'votes': '4.4 out of 5(21)'},\n {'name': 'Bandana 3-Pack Bandana Square Scarf Face Mask Handkerchief',\n  'new_price': 'KSh 293',\n  'old_price': 'KSh 350',\n  'discount': '16%',\n  'rating': '4.1 out of 5',\n  'votes': '4.1 out of 5(22)'},\n {'name': 'Memory Card 8GB- Boost Micro SD',\n  'new_price': 'KSh 480',\n  'old_price': None,\n  'discount': None,\n  'rating': '4.1 out of 5',\n  'votes': '4.1 out of 5(11)'},\n {'name': 'Himalaya Himalayas Purifying Aloe Vera Face Wash 50ml -',\n  'new_price': 'KSh 445',\n  'old_price': 'KSh 800',\n  'discount': '44%',\n  'rating': '5 out of 5',\n  'votes': '5 out of 5(1)'},\n {'name': 'Glittering Baubles Balls Christmas Tree Ornament Xmas-Red',\n  'new_price': 'KSh 632',\n  'old_price': 'KSh 1,264',\n  'discount': '50%',\n  'rating': '4 out of 5',\n  'votes': '4 out of 5(3)'},\n {'name': \"Fashion Men's Basketball Shoes PU Sports Shoes Running Shoes.\",\n  'new_price': 'KSh 1,599',\n  'old_price': 'KSh 2,999',\n  'discount': '47%',\n  'rating': None,\n  'votes': None},\n {'name': 'M Luck Solar Powered Portable FM,Tf Card,Audio Out, Aux, Flashdisk DC/AC Radio',\n  'new_price': 'KSh 2,500',\n  'old_price': None,\n  'discount': None,\n  'rating': '4.4 out of 5',\n  'votes': '4.4 out of 5(8)'},\n {'name': 'Artificial Foliage Plant Pot Home Desktop Office Decor',\n  'new_price': 'KSh 466',\n  'old_price': 'KSh 932',\n  'discount': '50%',\n  'rating': '4.6 out of 5',\n  'votes': '4.6 out of 5(10)'},\n {'name': 'Quality Waterproof Mattress Protector',\n  'new_price': 'KSh 1,900 - KSh 3,300',\n  'old_price': None,\n  'discount': None,\n  'rating': '4.1 out of 5',\n  'votes': '4.1 out of 5(22)'},\n {'name': 'Sony Ps3 Controller Pad',\n  'new_price': 'KSh 1,250',\n  'old_price': 'KSh 1,276',\n  'discount': '2%',\n  'rating': '3.7 out of 5',\n  'votes': '3.7 out of 5(6)'},\n {'name': 'Garnier Pure Active 3in1 Clay Mask-Wash-Scrub 150ml,',\n  'new_price': 'KSh 1,680',\n  'old_price': 'KSh 2,180',\n  'discount': '23%',\n  'rating': None,\n  'votes': None},\n {'name': 'Toshiba Canvio® Basics 1TB USB 3.0 External Hard Disk',\n  'new_price': 'KSh 6,900',\n  'old_price': 'KSh 7,200',\n  'discount': '4%',\n  'rating': '4.8 out of 5',\n  'votes': '4.8 out of 5(25)'},\n {'name': 'Fashion General Casual Diamond Stud Quartz Watch-Gold',\n  'new_price': 'KSh 1,790',\n  'old_price': 'KSh 2,506',\n  'discount': '29%',\n  'rating': '5 out of 5',\n  'votes': '5 out of 5(1)'},\n {'name': 'Armor Matte Case for Samsung Galaxy A03 Core Side Mickey Clear Silicone Bumper Hard PC Cover Phone Casing-Black',\n  'new_price': 'KSh 280',\n  'old_price': 'KSh 383',\n  'discount': '27%',\n  'rating': '4.1 out of 5',\n  'votes': '4.1 out of 5(7)'},\n {'name': 'Neelux Highly Effective Mosquito Killer Lamp 20 Watt -Energy Saving',\n  'new_price': 'KSh 499',\n  'old_price': 'KSh 900',\n  'discount': '45%',\n  'rating': '3.1 out of 5',\n  'votes': '3.1 out of 5(12)'},\n {'name': 'Cl 77LED MOTION SENSOR SOLAR OUTDOOR LIGHT DUMMY CAMERA',\n  'new_price': 'KSh 1,082',\n  'old_price': 'KSh 2,000',\n  'discount': '46%',\n  'rating': '4.4 out of 5',\n  'votes': '4.4 out of 5(28)'},\n {'name': 'S20 Wireless Bluetooth Earphone Touch LED Stereo Audi',\n  'new_price': 'KSh 1,162',\n  'old_price': 'KSh 1,944',\n  'discount': '40%',\n  'rating': '4 out of 5',\n  'votes': '4 out of 5(3)'},\n {'name': 'Tecno Phantom V Flip 5G, 256GB + 8GB RAM (Single SIM) 4000mAh, Iconic Black',\n  'new_price': 'KSh 97,999',\n  'old_price': 'KSh 99,999',\n  'discount': '2%',\n  'rating': None,\n  'votes': None},\n {'name': 'Memory Card 64gb High Speed + 64 GB FLASH + OTG',\n  'new_price': 'KSh 1,800',\n  'old_price': 'KSh 2,400',\n  'discount': '25%',\n  'rating': '4.5 out of 5',\n  'votes': '4.5 out of 5(8)'},\n {'name': 'CNP Heavy Industrial Gumboots And A Free Work Glove',\n  'new_price': 'KSh 1,500',\n  'old_price': None,\n  'discount': None,\n  'rating': '4.2 out of 5',\n  'votes': '4.2 out of 5(29)'},\n {'name': 'DELL Optiplex 7010 MT Intel Core I5 3.40GHz 4GB 500GB HDD Win 10- Certified Refurbished',\n  'new_price': 'KSh 15,499',\n  'old_price': 'KSh 24,999',\n  'discount': '38%',\n  'rating': '3 out of 5',\n  'votes': '3 out of 5(2)'},\n {'name': 'HP Refurbished EliteBook 840,  Core I5, 8GB RAM , 500HDD, Win10 TRIAL, 14\"  Black',\n  'new_price': 'KSh 21,995',\n  'old_price': 'KSh 29,999',\n  'discount': '27%',\n  'rating': '4 out of 5',\n  'votes': '4 out of 5(1)'},\n {'name': 'Infinix Hot 11 Play, (6.82\"-64GB/4GB)-6000mAh-13MP-DUALSIM GREEN + QUALITY GIFTS',\n  'new_price': 'KSh 15,588',\n  'old_price': 'KSh 25,000',\n  'discount': '38%',\n  'rating': None,\n  'votes': None},\n {'name': 'Fashion Boys African Suit',\n  'new_price': 'KSh 2,449 - KSh 2,749',\n  'old_price': 'KSh 3,800 - KSh 4,000',\n  'discount': '36%',\n  'rating': '5 out of 5',\n  'votes': '5 out of 5(1)'},\n {'name': 'Mika MH101 - Fan Heater, 1000/2000W - White.',\n  'new_price': 'KSh 3,695',\n  'old_price': None,\n  'discount': None,\n  'rating': '4.1 out of 5',\n  'votes': '4.1 out of 5(166)'},\n {'name': 'Fashion Digital Touch Screen  Bluetooth Waterproof Watch',\n  'new_price': 'KSh 1,675',\n  'old_price': 'KSh 2,712',\n  'discount': '38%',\n  'rating': '3 out of 5',\n  'votes': '3 out of 5(1)'},\n {'name': 'Sayona SHT-1130BT Home Theatre System-3.1 Channel Super Bass Surround 15000 Watts PMPO',\n  'new_price': 'KSh 13,299',\n  'old_price': 'KSh 26,598',\n  'discount': '50%',\n  'rating': '5 out of 5',\n  'votes': '5 out of 5(3)'},\n {'name': 'Fashion Bow Panties Hot Sexy Thongs Underwear Low Waist Sexy Panties(Hips 36-40inches)',\n  'new_price': 'KSh 429',\n  'old_price': 'KSh 600',\n  'discount': '29%',\n  'rating': '5 out of 5',\n  'votes': '5 out of 5(1)'},\n {'name': 'Efficient Meko  6kg Gas Burner For High Heat Output',\n  'new_price': 'KSh 550',\n  'old_price': 'KSh 900',\n  'discount': '39%',\n  'rating': '4.2 out of 5',\n  'votes': '4.2 out of 5(5)'},\n {'name': '2pcs Wall Metal Shelf Bracket Standards Decorative Iron White Wall Mounted Hanging Support  Corner Angle',\n  'new_price': 'KSh 499',\n  'old_price': 'KSh 800',\n  'discount': '38%',\n  'rating': '5 out of 5',\n  'votes': '5 out of 5(2)'},\n {'name': 'Nunix 6 Ltrs Deep Fryer Plus Free Chips Cutter..',\n  'new_price': 'KSh 5,729',\n  'old_price': 'KSh 7,643',\n  'discount': '25%',\n  'rating': '4.2 out of 5',\n  'votes': '4.2 out of 5(93)'},\n {'name': 'Adult Hoody Travelling Neck Pillow-Black',\n  'new_price': 'KSh 899',\n  'old_price': 'KSh 1,400',\n  'discount': '36%',\n  'rating': '4.5 out of 5',\n  'votes': '4.5 out of 5(31)'},\n {'name': 'Aloe Vera Soothing Gel-120ML',\n  'new_price': 'KSh 499',\n  'old_price': 'KSh 600',\n  'discount': '17%',\n  'rating': '5 out of 5',\n  'votes': '5 out of 5(5)'},\n {'name': 'Foldable Professional Push Up Board',\n  'new_price': 'KSh 4,000',\n  'old_price': 'KSh 8,000',\n  'discount': '50%',\n  'rating': '5 out of 5',\n  'votes': '5 out of 5(4)'},\n {'name': 'Fashion Standing Coat/ Handbag/Hat Rack Organizer',\n  'new_price': 'KSh 1,899',\n  'old_price': 'KSh 3,000',\n  'discount': '37%',\n  'rating': '2.5 out of 5',\n  'votes': '2.5 out of 5(2)'},\n {'name': 'Vitron HTC3218,32 Inch FRAMELESS Digital LED TV USB,HDMI,Decoder+14MONTHS WARRANTY',\n  'new_price': 'KSh 13,599',\n  'old_price': 'KSh 22,000',\n  'discount': '38%',\n  'rating': None,\n  'votes': None},\n {'name': 'Fashion Baby Girls Suspender Skirt',\n  'new_price': 'KSh 999',\n  'old_price': 'KSh 1,800',\n  'discount': '45%',\n  'rating': '2 out of 5',\n  'votes': '2 out of 5(4)'},\n {'name': 'Fashion Men Jacket Coat Lightweight Jacket With Hood Yellow',\n  'new_price': 'KSh 1,690 - KSh 1,790',\n  'old_price': 'KSh 3,060 - KSh 3,460',\n  'discount': '48%',\n  'rating': '5 out of 5',\n  'votes': '5 out of 5(3)'},\n {'name': '6Pcs Christmas Butterfly Bow Iron Bell Hanging Ornament-1#',\n  'new_price': 'KSh 538',\n  'old_price': 'KSh 1,076',\n  'discount': '50%',\n  'rating': None,\n  'votes': None},\n {'name': 'Fashion Beach Comfortable And Leisurely Cotton And Linen Floral Ethnic Shorts 4 In 1',\n  'new_price': 'KSh 2,435',\n  'old_price': 'KSh 3,800',\n  'discount': '36%',\n  'rating': '3.4 out of 5',\n  'votes': '3.4 out of 5(7)'},\n {'name': 'Silicon Collapsible Dish Rack Drainer',\n  'new_price': 'KSh 887',\n  'old_price': 'KSh 1,200',\n  'discount': '26%',\n  'rating': '4.1 out of 5',\n  'votes': '4.1 out of 5(15)'},\n {'name': 'Dr. Rashel Tummy Slimming Slim Line Chilli Hot Cream- 150ml.',\n  'new_price': 'KSh 570',\n  'old_price': 'KSh 700',\n  'discount': '19%',\n  'rating': '5 out of 5',\n  'votes': '5 out of 5(1)'},\n {'name': 'Nunix Table Top Double Burner Gas Stove Cooker + Pipe & Regulator',\n  'new_price': 'KSh 2,799',\n  'old_price': 'KSh 5,398',\n  'discount': '48%',\n  'rating': '4 out of 5',\n  'votes': '4 out of 5(6)'},\n {'name': 'Mi XIOMI Redmi AirDot 2 Bluetooth V5.0 True Wireless Earbuds',\n  'new_price': 'KSh 1,800',\n  'old_price': 'KSh 3,200',\n  'discount': '44%',\n  'rating': '3.3 out of 5',\n  'votes': '3.3 out of 5(4)'},\n {'name': 'Headphones With Clear Voice Microphone For Gaming',\n  'new_price': 'KSh 900',\n  'old_price': 'KSh 1,400',\n  'discount': '36%',\n  'rating': '3 out of 5',\n  'votes': '3 out of 5(1)'},\n {'name': 'Fashion Satin Sleep Bonnet Sleep Cap',\n  'new_price': 'KSh 450 - KSh 550',\n  'old_price': 'KSh 600',\n  'discount': '25%',\n  'rating': '3.3 out of 5',\n  'votes': '3.3 out of 5(7)'},\n {'name': 'Fashion 2PAIRs Clear Silicon Adjustable Bra Strap Metal(1slim+1wide)',\n  'new_price': 'KSh 319',\n  'old_price': None,\n  'discount': None,\n  'rating': '4 out of 5',\n  'votes': '4 out of 5(3)'},\n {'name': 'Tecno QUALITY Tecno Adaptive Fast Charger',\n  'new_price': 'KSh 430',\n  'old_price': None,\n  'discount': None,\n  'rating': '3.7 out of 5',\n  'votes': '3.7 out of 5(13)'},\n {'name': 'Waterproof Front Load Washing Machine Cover/Dust Proof',\n  'new_price': 'KSh 1,239',\n  'old_price': 'KSh 1,900',\n  'discount': '35%',\n  'rating': '5 out of 5',\n  'votes': '5 out of 5(3)'},\n {'name': 'Vitron ERGONOMIC DESIGN Tallboy Sub Woofer Home Theatre 2.1 Ch',\n  'new_price': 'KSh 6,947',\n  'old_price': 'KSh 7,000',\n  'discount': '1%',\n  'rating': None,\n  'votes': None},\n {'name': \"Fashion Men's Long Sleeve Hooded Sweater Set, Sportswear,The Lion King 3D Print\",\n  'new_price': 'KSh 2,253',\n  'old_price': 'KSh 4,418',\n  'discount': '49%',\n  'rating': '4 out of 5',\n  'votes': '4 out of 5(1)'},\n {'name': 'Jumia Books 12 Rules For Life',\n  'new_price': 'KSh 800',\n  'old_price': 'KSh 1,300',\n  'discount': '38%',\n  'rating': '5 out of 5',\n  'votes': '5 out of 5(3)'},\n {'name': 'Duo Duo Duo Eyelash Adhesive Glue - Clear',\n  'new_price': 'KSh 265',\n  'old_price': 'KSh 350',\n  'discount': '24%',\n  'rating': '4 out of 5',\n  'votes': '4 out of 5(2)'},\n {'name': 'Joy Book Shelf And Décor Stand',\n  'new_price': 'KSh 4,999',\n  'old_price': 'KSh 7,000',\n  'discount': '29%',\n  'rating': None,\n  'votes': None},\n {'name': 'Fashion Black Soft Khaki Trouser Stretch Slim Fit Casual - Black',\n  'new_price': 'KSh 1,195 - KSh 1,295',\n  'old_price': 'KSh 1,500',\n  'discount': '20%',\n  'rating': None,\n  'votes': None},\n {'name': 'TNTORCH SOLAR 100W FLOODLIGHT',\n  'new_price': 'KSh 6,200',\n  'old_price': None,\n  'discount': None,\n  'rating': '4.7 out of 5',\n  'votes': '4.7 out of 5(3)'},\n {'name': 'Cream Curtains 2Pc 1.5M Each + FREE SHEER',\n  'new_price': 'KSh 3,499 - KSh 6,999',\n  'old_price': 'KSh 4,000 - KSh 7,000',\n  'discount': '13%',\n  'rating': '4.8 out of 5',\n  'votes': '4.8 out of 5(23)'},\n {'name': 'Fashion 2pcs Stainless Steel Gold Ball Nose Stud Ring Jewelry Piercing',\n  'new_price': 'KSh 499',\n  'old_price': 'KSh 680',\n  'discount': '27%',\n  'rating': '5 out of 5',\n  'votes': '5 out of 5(2)'},\n {'name': 'Fashion 2-Piece Suit/Short Sleeved Shirt',\n  'new_price': 'KSh 5,000 - KSh 5,200',\n  'old_price': 'KSh 6,000',\n  'discount': '17%',\n  'rating': '4 out of 5',\n  'votes': '4 out of 5(2)'},\n {'name': 'Snail Collagen Soothing Gel - 300ml',\n  'new_price': 'KSh 745 - KSh 1,800',\n  'old_price': 'KSh 950 - KSh 2,000',\n  'discount': '22%',\n  'rating': None,\n  'votes': None},\n {'name': 'Zesta Zesta Strawberry Jam - 500g',\n  'new_price': 'KSh 229',\n  'old_price': 'KSh 250',\n  'discount': '8%',\n  'rating': '5 out of 5',\n  'votes': '5 out of 5(5)'},\n {'name': 'UNCOVER Sheet Mask: I Am Cool – Aloe Vera',\n  'new_price': 'KSh 315',\n  'old_price': 'KSh 350',\n  'discount': '10%',\n  'rating': '4.6 out of 5',\n  'votes': '4.6 out of 5(448)'},\n {'name': 'Wired Extra Bass Headphones Headsets',\n  'new_price': 'KSh 950',\n  'old_price': 'KSh 1,200',\n  'discount': '21%',\n  'rating': '4.7 out of 5',\n  'votes': '4.7 out of 5(3)'},\n {'name': 'Fashion 1 PC Soft Velvet Woolen Duvet-Nice Feel Durable Duvet Blanket 6 By 6',\n  'new_price': 'KSh 2,995',\n  'old_price': 'KSh 4,850',\n  'discount': '38%',\n  'rating': '5 out of 5',\n  'votes': '5 out of 5(2)'},\n {'name': 'TP-Link WiFi Repeater Booster And Extender - 300Mbps',\n  'new_price': 'KSh 4,300',\n  'old_price': 'KSh 6,500',\n  'discount': '34%',\n  'rating': None,\n  'votes': None},\n {'name': 'Rosy Liquid Hand Wash Soap Fresh Flowers 500ml With Flip Top',\n  'new_price': 'KSh 95',\n  'old_price': None,\n  'discount': None,\n  'rating': '4.4 out of 5',\n  'votes': '4.4 out of 5(86)'},\n {'name': 'Dark Grey Stripped Bedsheet Set 4 Pcs (2 Bedsheets & 2 Pillowcases)',\n  'new_price': 'KSh 2,999 - KSh 3,199',\n  'old_price': 'KSh 3,300 - KSh 3,500',\n  'discount': '9%',\n  'rating': '5 out of 5',\n  'votes': '5 out of 5(2)'},\n {'name': 'Almar Designs Sydney Modern Wooden TV Stand - White',\n  'new_price': 'KSh 9,499',\n  'old_price': None,\n  'discount': None,\n  'rating': '1 out of 5',\n  'votes': '1 out of 5(1)'},\n {'name': 'Velvex Apple & Cinnamon Air Freshener 300ml',\n  'new_price': 'KSh 305',\n  'old_price': None,\n  'discount': None,\n  'rating': '4.5 out of 5',\n  'votes': '4.5 out of 5(13)'},\n {'name': 'Eye Lash Adhesive Glue Dark Tone Eye Lashes Glue',\n  'new_price': 'KSh 180',\n  'old_price': 'KSh 250',\n  'discount': '28%',\n  'rating': '4.3 out of 5',\n  'votes': '4.3 out of 5(6)'},\n {'name': 'Good Partner Pvc Travelling Suitcase',\n  'new_price': 'KSh 5,988',\n  'old_price': None,\n  'discount': None,\n  'rating': None,\n  'votes': None},\n {'name': 'L.A. Girl High Definition Concealer Pro Conceal - Medium Bisque',\n  'new_price': 'KSh 209',\n  'old_price': 'KSh 450',\n  'discount': '54%',\n  'rating': '3.5 out of 5',\n  'votes': '3.5 out of 5(2)'},\n {'name': 'Stickie Art Not Canvas Printed Wall Art- Decorated,7 PIECE Home Décor',\n  'new_price': 'KSh 1,899',\n  'old_price': 'KSh 3,500',\n  'discount': '46%',\n  'rating': '4.2 out of 5',\n  'votes': '4.2 out of 5(9)'},\n {'name': 'MK Electronics TV Guard,, Surge Protector,,,White,,\"C.E\"',\n  'new_price': 'KSh 650',\n  'old_price': 'KSh 999',\n  'discount': '35%',\n  'rating': '4.4 out of 5',\n  'votes': '4.4 out of 5(57)'},\n {'name': 'Fashion Bracelet Iced Out Bracelet Classy Bracelet Quality Bracelet',\n  'new_price': 'KSh 649',\n  'old_price': 'KSh 1,200',\n  'discount': '46%',\n  'rating': '3 out of 5',\n  'votes': '3 out of 5(2)'},\n {'name': 'Hikvision Turbo HD Night Vision Dome CCTV (720P) +BNC FOC',\n  'new_price': 'KSh 1,999',\n  'old_price': 'KSh 2,500',\n  'discount': '20%',\n  'rating': '4.7 out of 5',\n  'votes': '4.7 out of 5(3)'},\n {'name': 'Fashion Elegant Body Shaper Jeans For Ladies - Navy Blue',\n  'new_price': 'KSh 999',\n  'old_price': 'KSh 1,500',\n  'discount': '33%',\n  'rating': '2.7 out of 5',\n  'votes': '2.7 out of 5(3)'},\n {'name': '14Pcs/Sheet Waterproof Nail Sticker 3D Full Cover Wrap-23#',\n  'new_price': 'KSh 125',\n  'old_price': 'KSh 250',\n  'discount': '50%',\n  'rating': '4 out of 5',\n  'votes': '4 out of 5(2)'},\n {'name': 'S Color GT10 PRO PC 10.1inch 5000mAh Tablet SIM 5G/WIFI/BT  8GB RAM + 512GB ROM',\n  'new_price': 'KSh 19,997',\n  'old_price': 'KSh 24,999',\n  'discount': '20%',\n  'rating': '5 out of 5',\n  'votes': '5 out of 5(1)'},\n {'name': 'Bathroom/Kitchen/Toilet Corner Shelf Organizer',\n  'new_price': 'KSh 860 - KSh 1,050',\n  'old_price': 'KSh 1,450',\n  'discount': '41%',\n  'rating': '3.7 out of 5',\n  'votes': '3.7 out of 5(15)'},\n {'name': 'Tanqueray Tanqueray Blackcurrant Royale - 700ml',\n  'new_price': 'KSh 2,640',\n  'old_price': 'KSh 2,880',\n  'discount': '8%',\n  'rating': '4 out of 5',\n  'votes': '4 out of 5(4)'},\n {'name': 'Phelistar High Gain Outdoor TV Antenna Aerial For DVBT2 HDTV',\n  'new_price': 'KSh 885',\n  'old_price': 'KSh 1,150',\n  'discount': '23%',\n  'rating': '4.4 out of 5',\n  'votes': '4.4 out of 5(60)'},\n {'name': 'Hemani FENUGREEK ESSENTIAL OIL',\n  'new_price': 'KSh 799',\n  'old_price': 'KSh 1,100',\n  'discount': '27%',\n  'rating': '4.2 out of 5',\n  'votes': '4.2 out of 5(29)'},\n {'name': 'Dudu-Osun African Black Soap - For Eczema, Acne, Freckles, Dark Spots.',\n  'new_price': 'KSh 398',\n  'old_price': 'KSh 500',\n  'discount': '20%',\n  'rating': '4 out of 5',\n  'votes': '4 out of 5(4)'},\n {'name': 'Samsung Galaxy A04e, 6.5\", 32GB + 3GB RAM (Dual SIM), 5000mAh, Copper',\n  'new_price': 'KSh 15,799',\n  'old_price': None,\n  'discount': None,\n  'rating': '4.5 out of 5',\n  'votes': '4.5 out of 5(2)'},\n {'name': 'Silicon Collapsible Dish Rack Drainer',\n  'new_price': 'KSh 887',\n  'old_price': 'KSh 1,200',\n  'discount': '26%',\n  'rating': '4.1 out of 5',\n  'votes': '4.1 out of 5(15)'},\n {'name': 'Dr. Rashel Tummy Slimming Slim Line Chilli Hot Cream- 150ml.',\n  'new_price': 'KSh 570',\n  'old_price': 'KSh 700',\n  'discount': '19%',\n  'rating': '5 out of 5',\n  'votes': '5 out of 5(1)'},\n {'name': 'Nunix Table Top Double Burner Gas Stove Cooker + Pipe & Regulator',\n  'new_price': 'KSh 2,799',\n  'old_price': 'KSh 5,398',\n  'discount': '48%',\n  'rating': '4 out of 5',\n  'votes': '4 out of 5(6)'},\n {'name': 'Mi XIOMI Redmi AirDot 2 Bluetooth V5.0 True Wireless Earbuds',\n  'new_price': 'KSh 1,800',\n  'old_price': 'KSh 3,200',\n  'discount': '44%',\n  'rating': '3.3 out of 5',\n  'votes': '3.3 out of 5(4)'},\n {'name': 'Makita Accessories ANGLE GRINDER',\n  'new_price': 'KSh 3,985',\n  'old_price': 'KSh 6,500',\n  'discount': '39%',\n  'rating': '4.8 out of 5',\n  'votes': '4.8 out of 5(5)'},\n {'name': 'Health Red Raspberry Leaf/Leaves Antioxidant Powder Tea',\n  'new_price': 'KSh 1,399',\n  'old_price': None,\n  'discount': None,\n  'rating': '5 out of 5',\n  'votes': '5 out of 5(1)'},\n {'name': 'Black Bird Natural Sweet White Wine - 750ml',\n  'new_price': 'KSh 1,090',\n  'old_price': 'KSh 1,350',\n  'discount': '19%',\n  'rating': '3.7 out of 5',\n  'votes': '3.7 out of 5(3)'},\n {'name': 'Jbl Wireless Bluetooth TWS-4 Earbuds',\n  'new_price': 'KSh 1,199',\n  'old_price': 'KSh 1,499',\n  'discount': '20%',\n  'rating': '4 out of 5',\n  'votes': '4 out of 5(5)'},\n {'name': 'Fashion Cutest Waterproof Bigsize Baby Makintosh Urine Mat',\n  'new_price': 'KSh 399',\n  'old_price': 'KSh 699',\n  'discount': '43%',\n  'rating': '5 out of 5',\n  'votes': '5 out of 5(1)'},\n {'name': 'Tecno Pop 7 Pro,  6.6\" 3GB + 64GB, Camera, 5000mAh, Black + Smart Watch & Power Bank',\n  'new_price': 'KSh 14,299',\n  'old_price': 'KSh 18,999',\n  'discount': '25%',\n  'rating': None,\n  'votes': None},\n {'name': 'Tisa Nyota 3 In 1 Ladies Handbags Women Bags Sling Bag-Black',\n  'new_price': 'KSh 1,350',\n  'old_price': 'KSh 2,000',\n  'discount': '33%',\n  'rating': '3.5 out of 5',\n  'votes': '3.5 out of 5(39)'},\n {'name': '100 LED String Lights  Hanging Christmas Tree Decor',\n  'new_price': 'KSh 649',\n  'old_price': 'KSh 800',\n  'discount': '19%',\n  'rating': '4.5 out of 5',\n  'votes': '4.5 out of 5(6)'},\n {'name': '4 Stacks / Layers Plastic Kitchen Organizer Dish Rack',\n  'new_price': 'KSh 1,399',\n  'old_price': 'KSh 2,500',\n  'discount': '44%',\n  'rating': '4 out of 5',\n  'votes': '4 out of 5(8)'},\n {'name': 'Power King 4way Extension + Tv Guard + 32 Inch Tv Wall Mount',\n  'new_price': 'KSh 1,390',\n  'old_price': 'KSh 1,800',\n  'discount': '23%',\n  'rating': '4.5 out of 5',\n  'votes': '4.5 out of 5(2)'},\n {'name': 'Fashion Punk Sunglasses Women',\n  'new_price': 'KSh 908',\n  'old_price': 'KSh 1,610',\n  'discount': '44%',\n  'rating': None,\n  'votes': None},\n {'name': 'Power King >Office & Home Power Extension  > 6 Way + GIFTS',\n  'new_price': 'KSh 1,200',\n  'old_price': 'KSh 1,900',\n  'discount': '37%',\n  'rating': '4.3 out of 5',\n  'votes': '4.3 out of 5(7)'},\n {'name': 'Rashnik 2Tier Dish Rack Stainless Steel With Drain Board',\n  'new_price': 'KSh 1,799',\n  'old_price': 'KSh 1,950',\n  'discount': '8%',\n  'rating': '3 out of 5',\n  'votes': '3 out of 5(1)'},\n {'name': 'Nunix Table Top Double Burner Gas Stove Cooker + Pipe & Regulator',\n  'new_price': 'KSh 5,598',\n  'old_price': None,\n  'discount': None,\n  'rating': '5 out of 5',\n  'votes': '5 out of 5(1)'},\n {'name': 'DIGITAL WEIGHING SCALE MACHINE 30 Kg',\n  'new_price': 'KSh 4,199',\n  'old_price': 'KSh 6,000',\n  'discount': '30%',\n  'rating': '4.7 out of 5',\n  'votes': '4.7 out of 5(3)'},\n {'name': 'Fashion Non-fading Jeans',\n  'new_price': 'KSh 1,590 - KSh 1,790',\n  'old_price': 'KSh 1,800',\n  'discount': '12%',\n  'rating': '1 out of 5',\n  'votes': '1 out of 5(2)'},\n {'name': '1.5mm MATSTAR Twin Cable + Earth Flat Power Electrical Cable Wire',\n  'new_price': 'KSh 3,550',\n  'old_price': 'KSh 5,000',\n  'discount': '29%',\n  'rating': '4 out of 5',\n  'votes': '4 out of 5(1)'},\n {'name': 'Pure Mountain Chilli Infused Pure Cold Pressed Canola Oil - 1L New',\n  'new_price': 'KSh 366',\n  'old_price': None,\n  'discount': None,\n  'rating': '4.9 out of 5',\n  'votes': '4.9 out of 5(7)'},\n {'name': 'Skilltech Tilting Wall Mount Bracket 26-65 Inch + TV/ DVD Guard Power Surge Suppressor',\n  'new_price': 'KSh 1,590',\n  'old_price': 'KSh 2,000',\n  'discount': '21%',\n  'rating': '4.2 out of 5',\n  'votes': '4.2 out of 5(5)'},\n {'name': 'Zipper Seal 20 Bags Lock Tight, Ziplock Fridge Bags',\n  'new_price': 'KSh 679',\n  'old_price': 'KSh 948',\n  'discount': '28%',\n  'rating': '3.9 out of 5',\n  'votes': '3.9 out of 5(16)'},\n {'name': 'Kenpoly Pedal Bin-(6litres)',\n  'new_price': 'KSh 900',\n  'old_price': None,\n  'discount': None,\n  'rating': '5 out of 5',\n  'votes': '5 out of 5(1)'},\n {'name': 'Amtec AM-731 3.1CH HOME THEATRE SYSTEM-BLUETOOTH/FM, USB 20000W PMPO',\n  'new_price': 'KSh 7,647',\n  'old_price': 'KSh 9,999',\n  'discount': '24%',\n  'rating': '5 out of 5',\n  'votes': '5 out of 5(1)'},\n {'name': 'Portable Business Card Holder Mobile Phone Holder Lazy Mobile Phone Holder-red',\n  'new_price': 'KSh 121',\n  'old_price': 'KSh 194',\n  'discount': '38%',\n  'rating': '3 out of 5',\n  'votes': '3 out of 5(2)'},\n {'name': 'Wster WS-1838 Portable Wireless Bluetooth Speaker',\n  'new_price': 'KSh 1,599',\n  'old_price': 'KSh 2,000',\n  'discount': '20%',\n  'rating': '4 out of 5',\n  'votes': '4 out of 5(16)'},\n {'name': 'Fashion 2Pcs Set Of Adjustable Suspenders Elastic Y-Shape Braces+Matching Bowtie.',\n  'new_price': 'KSh 699 - KSh 739',\n  'old_price': 'KSh 749 - KSh 849',\n  'discount': '13%',\n  'rating': '4.3 out of 5',\n  'votes': '4.3 out of 5(4)'},\n {'name': 'I12TWS Earbuds , Bluetooth 5.0 Earbuds In-Ear+ Free Neckband Wireless',\n  'new_price': 'KSh 740',\n  'old_price': 'KSh 1,400',\n  'discount': '47%',\n  'rating': '4 out of 5',\n  'votes': '4 out of 5(2)'},\n {'name': 'Christmas Fairy String Curtain Lights Xmas 3m LED Warm White',\n  'new_price': 'KSh 1,699',\n  'old_price': 'KSh 1,850',\n  'discount': '8%',\n  'rating': '5 out of 5',\n  'votes': '5 out of 5(3)'},\n {'name': 'Fashion 3PCs Comfy Boobtop NON Padded Stretchy Adolescent Girls Bra Top Bralletes',\n  'new_price': 'KSh 579',\n  'old_price': 'KSh 580',\n  'discount': '1%',\n  'rating': '3.9 out of 5',\n  'votes': '3.9 out of 5(8)'},\n {'name': 'Fashion 3PCs Romantic Plus Size Cut-out Strappy Panty(Hips 42-48inches)',\n  'new_price': 'KSh 785',\n  'old_price': None,\n  'discount': None,\n  'rating': '4.1 out of 5',\n  'votes': '4.1 out of 5(8)'},\n {'name': 'Nunix Extra Large Capacity Healthier Oil Free Airfryer,Fries Maker',\n  'new_price': 'KSh 6,280',\n  'old_price': 'KSh 10,000',\n  'discount': '37%',\n  'rating': '4.4 out of 5',\n  'votes': '4.4 out of 5(14)'},\n {'name': 'Kensplastic Knapsack Sprayer/Backpack Sprayer 16lt',\n  'new_price': 'KSh 2,200 - KSh 2,800',\n  'old_price': 'KSh 2,800',\n  'discount': '21%',\n  'rating': '4.2 out of 5',\n  'votes': '4.2 out of 5(20)'},\n {'name': 'Samsung M14 5G, 6.6\", 128GB + 6GB RAM (Dual SIM), 6000mAh, Icy\\xa0Silver',\n  'new_price': 'KSh 28,990',\n  'old_price': 'KSh 50,000',\n  'discount': '42%',\n  'rating': '4.1 out of 5',\n  'votes': '4.1 out of 5(7)'},\n {'name': 'Vitron SOUNDBAR/TALLBOYS SPEWAKER SYSTEM',\n  'new_price': 'KSh 6,699',\n  'old_price': 'KSh 8,999',\n  'discount': '26%',\n  'rating': '5 out of 5',\n  'votes': '5 out of 5(2)'},\n {'name': 'Lights Waterproof LED Christmas String',\n  'new_price': 'KSh 679',\n  'old_price': 'KSh 1,300',\n  'discount': '48%',\n  'rating': '3 out of 5',\n  'votes': '3 out of 5(2)'},\n {'name': '2 Pcs Kitchen Non Slip Mat.',\n  'new_price': 'KSh 1,596',\n  'old_price': 'KSh 2,000',\n  'discount': '20%',\n  'rating': None,\n  'votes': None},\n {'name': 'Nunix High Quality Single Burner GAS COOKER Stove',\n  'new_price': 'KSh 1,900',\n  'old_price': 'KSh 3,200',\n  'discount': '41%',\n  'rating': None,\n  'votes': None},\n {'name': 'MK Fridge Guard -white+ Gifts 4way Extension Cable, Watch,Tripod Stand',\n  'new_price': 'KSh 1,445',\n  'old_price': 'KSh 2,580',\n  'discount': '44%',\n  'rating': '4.2 out of 5',\n  'votes': '4.2 out of 5(5)'},\n {'name': 'Barksdale SATA To USB 3.0 Adapter Cable For 2.5 Inch HDD/SSD Hard Drive Adapter Converter',\n  'new_price': 'KSh 1,599',\n  'old_price': 'KSh 2,000',\n  'discount': '20%',\n  'rating': '4.9 out of 5',\n  'votes': '4.9 out of 5(7)'},\n {'name': 'Fashion Patchwork Irregular Oblique Button Dress Shirts',\n  'new_price': 'KSh 2,600 - KSh 2,700',\n  'old_price': 'KSh 4,000 - KSh 4,200',\n  'discount': '36%',\n  'rating': '5 out of 5',\n  'votes': '5 out of 5(1)'},\n {'name': 'Oraimo OPB-P204D Traveler 4 20000mAh Power Bank',\n  'new_price': 'KSh 2,850',\n  'old_price': 'KSh 3,699',\n  'discount': '23%',\n  'rating': '3.4 out of 5',\n  'votes': '3.4 out of 5(5)'},\n {'name': 'Velvex Premium Blue Pocket Tissues 10 Pack',\n  'new_price': 'KSh 200',\n  'old_price': None,\n  'discount': None,\n  'rating': '4.6 out of 5',\n  'votes': '4.6 out of 5(57)'},\n {'name': 'Fashion Waterproof Rider Suit',\n  'new_price': 'KSh 2,600',\n  'old_price': 'KSh 2,850',\n  'discount': '9%',\n  'rating': '4 out of 5',\n  'votes': '4 out of 5(2)'},\n {'name': 'Fashion 3PCS Soft Hanging Wipe /Kitchen Towel',\n  'new_price': 'KSh 599 - KSh 999',\n  'old_price': 'KSh 700 - KSh 1,200',\n  'discount': '17%',\n  'rating': '4.6 out of 5',\n  'votes': '4.6 out of 5(5)'},\n {'name': 'Fashion Sport Canvas Men Sneakers',\n  'new_price': 'KSh 1,900',\n  'old_price': 'KSh 2,500',\n  'discount': '24%',\n  'rating': '4.2 out of 5',\n  'votes': '4.2 out of 5(5)'},\n {'name': 'Samsung A14 Butterfly PU Leather Silicone Back Case Cover',\n  'new_price': 'KSh 340',\n  'old_price': 'KSh 518',\n  'discount': '34%',\n  'rating': '5 out of 5',\n  'votes': '5 out of 5(1)'},\n {'name': 'Fashion Reflector Visibility Safety Vest With Pockets And Zipper Unisex  (4 Pieces)',\n  'new_price': 'KSh 2,600',\n  'old_price': 'KSh 3,000',\n  'discount': '13%',\n  'rating': '5 out of 5',\n  'votes': '5 out of 5(1)'},\n {'name': 'Cosmos PETDOG ASCATEN P DEWORMER FOR DOGS AND CATS (6 TABLETS)',\n  'new_price': 'KSh 250',\n  'old_price': 'KSh 300',\n  'discount': '17%',\n  'rating': '4.6 out of 5',\n  'votes': '4.6 out of 5(18)'},\n {'name': 'Nunix 5L Multi-Functional Electric Pressure Cooker Rice Cooker',\n  'new_price': 'KSh 6,985',\n  'old_price': 'KSh 10,090',\n  'discount': '31%',\n  'rating': '4 out of 5',\n  'votes': '4 out of 5(1)'},\n {'name': 'Samsung 35W USB Type C - Type C PD Adapter Head',\n  'new_price': 'KSh 1,449',\n  'old_price': 'KSh 1,699',\n  'discount': '15%',\n  'rating': '5 out of 5',\n  'votes': '5 out of 5(3)'},\n {'name': '207ML Spice Glass Jars With Golden Lids',\n  'new_price': 'KSh 1,100',\n  'old_price': 'KSh 1,200',\n  'discount': '8%',\n  'rating': '4.7 out of 5',\n  'votes': '4.7 out of 5(6)'},\n {'name': 'Dr. Rashel Niacinamide Whitening Face Wash Fade Dark Spots Fairness',\n  'new_price': 'KSh 499',\n  'old_price': 'KSh 800',\n  'discount': '38%',\n  'rating': None,\n  'votes': None},\n {'name': 'Fashion Double Colour Bomber Jacket',\n  'new_price': 'KSh 2,500 - KSh 2,800',\n  'old_price': 'KSh 4,000',\n  'discount': '38%',\n  'rating': None,\n  'votes': None},\n {'name': \"Naviforce Men's Fashion Calendar Gold Steel Wrist Watch\",\n  'new_price': 'KSh 3,200',\n  'old_price': 'KSh 4,000',\n  'discount': '20%',\n  'rating': '4.7 out of 5',\n  'votes': '4.7 out of 5(16)'},\n {'name': 'Fashion Rectangular Metal Frame Anti-blue Light Computer Glasses',\n  'new_price': 'KSh 1,218',\n  'old_price': 'KSh 1,740',\n  'discount': '30%',\n  'rating': '4.3 out of 5',\n  'votes': '4.3 out of 5(40)'},\n {'name': 'Uno Card Game For Family Fun',\n  'new_price': 'KSh 375',\n  'old_price': None,\n  'discount': None,\n  'rating': '5 out of 5',\n  'votes': '5 out of 5(10)'},\n {'name': 'Fashion 50pcs Adjustable Hair Braid Beads Rings Cuff Metal',\n  'new_price': 'KSh 200',\n  'old_price': None,\n  'discount': None,\n  'rating': '4.8 out of 5',\n  'votes': '4.8 out of 5(16)'},\n {'name': 'Samsung Galaxy A33 5G, 6.4\", 128GB + 6GB RAM (Dual SIM), 5000mAh, Awesome Black',\n  'new_price': 'KSh 43,390',\n  'old_price': 'KSh 60,000',\n  'discount': '28%',\n  'rating': '4.8 out of 5',\n  'votes': '4.8 out of 5(6)'},\n {'name': 'UCOM PC USB Dualshock Game Controller',\n  'new_price': 'KSh 587',\n  'old_price': 'KSh 980',\n  'discount': '40%',\n  'rating': '4.1 out of 5',\n  'votes': '4.1 out of 5(25)'},\n {'name': 'HOMMY 3D CARPETS',\n  'new_price': 'KSh 6,500',\n  'old_price': 'KSh 7,000',\n  'discount': '7%',\n  'rating': '2.3 out of 5',\n  'votes': '2.3 out of 5(3)'},\n {'name': 'Pyary Ayurvedic Turmeric Soap',\n  'new_price': 'KSh 239',\n  'old_price': 'KSh 400',\n  'discount': '40%',\n  'rating': '5 out of 5',\n  'votes': '5 out of 5(1)'},\n {'name': 'Bebe Kids Study Tablets 64GB/4GB',\n  'new_price': 'KSh 9,870 - KSh 9,900',\n  'old_price': 'KSh 15,000',\n  'discount': '34%',\n  'rating': None,\n  'votes': None},\n {'name': '12 Inch Mobile Phone Screen Magnifier HD - Black',\n  'new_price': 'KSh 799',\n  'old_price': 'KSh 999',\n  'discount': '20%',\n  'rating': None,\n  'votes': None},\n {'name': 'Oraimo FreePod 4 ANC Earbuds With APP Control',\n  'new_price': 'KSh 4,499',\n  'old_price': None,\n  'discount': None,\n  'rating': '5 out of 5',\n  'votes': '5 out of 5(11)'},\n {'name': 'AILYONS Electric Kettle Plus Free Iron Box',\n  'new_price': 'KSh 1,912',\n  'old_price': 'KSh 3,824',\n  'discount': '50%',\n  'rating': None,\n  'votes': None},\n {'name': '50 pieces - Pregnancy test kit HCG Rapid urine test kit',\n  'new_price': 'KSh 759',\n  'old_price': 'KSh 1,200',\n  'discount': '37%',\n  'rating': '5 out of 5',\n  'votes': '5 out of 5(1)'},\n {'name': 'Santa Christmas Hats & New Year Hats- Adults & Children',\n  'new_price': 'KSh 402 - KSh 1,350',\n  'old_price': 'KSh 550 - KSh 1,750',\n  'discount': '27%',\n  'rating': '5 out of 5',\n  'votes': '5 out of 5(1)'},\n {'name': 'Ecoflow 220Watt Bifacial Foldable Solar Panel, Complete with Adjustable Kickstand, Waterproof IP68 & Durable for Off The Grid Living',\n  'new_price': 'KSh 74,999',\n  'old_price': None,\n  'discount': None,\n  'rating': '5 out of 5',\n  'votes': '5 out of 5(1)'},\n {'name': '100 Pieces Brass Curtain Hooks Metal Drapery Header Tape',\n  'new_price': 'KSh 379',\n  'old_price': 'KSh 600',\n  'discount': '37%',\n  'rating': '4.4 out of 5',\n  'votes': '4.4 out of 5(5)'},\n {'name': 'Under The Shelf Kitchen Hooks Utensils Hooks Holder Organizer',\n  'new_price': 'KSh 415 - KSh 629',\n  'old_price': 'KSh 500 - KSh 900',\n  'discount': '30%',\n  'rating': '4.5 out of 5',\n  'votes': '4.5 out of 5(8)'},\n {'name': 'UKA Remote Control',\n  'new_price': 'KSh 990',\n  'old_price': 'KSh 1,800',\n  'discount': '45%',\n  'rating': '4.5 out of 5',\n  'votes': '4.5 out of 5(4)'},\n {'name': 'Skmei Millitary Grade Digital Watch, Waterproof With 5 Years Battery Life',\n  'new_price': 'KSh 1,999',\n  'old_price': 'KSh 2,000',\n  'discount': '1%',\n  'rating': '4.6 out of 5',\n  'votes': '4.6 out of 5(5)'},\n {'name': 'KF94 MASKS 3D BLACK Face Masks- 20pcs IMPORTED N95 Masks PREMIUM',\n  'new_price': 'KSh 1,199',\n  'old_price': 'KSh 2,000',\n  'discount': '40%',\n  'rating': '4.1 out of 5',\n  'votes': '4.1 out of 5(7)'},\n {'name': 'Battery Charger For AA , AAA  Batteries',\n  'new_price': 'KSh 598',\n  'old_price': None,\n  'discount': None,\n  'rating': '4.3 out of 5',\n  'votes': '4.3 out of 5(3)'},\n {'name': 'Sumifun Skin Tag Remover Cream Wart Remover Moles Tag Remover Cream',\n  'new_price': 'KSh 549',\n  'old_price': 'KSh 899',\n  'discount': '39%',\n  'rating': '3.8 out of 5',\n  'votes': '3.8 out of 5(4)'},\n {'name': 'Fashion Rugged Denim Jeans Trousers For Men',\n  'new_price': 'KSh 1,699',\n  'old_price': 'KSh 2,000',\n  'discount': '15%',\n  'rating': '3.3 out of 5',\n  'votes': '3.3 out of 5(6)'},\n {'name': 'F9 TWS F9-Tws Bluetooth Earphones 2200mAh Charging Box Wireless Headphone Sports Waterproof Earbuds Headset - Black',\n  'new_price': 'KSh 880',\n  'old_price': 'KSh 1,500',\n  'discount': '41%',\n  'rating': None,\n  'votes': None},\n {'name': 'Soarin SR-1172 Dry Iron Box 1000 Watts - Silver',\n  'new_price': 'KSh 1,130',\n  'old_price': 'KSh 1,300',\n  'discount': '13%',\n  'rating': '3.5 out of 5',\n  'votes': '3.5 out of 5(80)'},\n {'name': 'Fashion Mens Long Sleeve Shirts Casual Trendy Sweatshirts Sport-Multicolour',\n  'new_price': 'KSh 759',\n  'old_price': 'KSh 1,359',\n  'discount': '44%',\n  'rating': '4 out of 5',\n  'votes': '4 out of 5(149)'},\n {'name': 'Nobel 22000W 5.1CH BASS Home Theatre Sounds/BT/USB/FM',\n  'new_price': 'KSh 14,497',\n  'old_price': 'KSh 14,947',\n  'discount': '3%',\n  'rating': '4.5 out of 5',\n  'votes': '4.5 out of 5(15)'},\n {'name': 'Fashion 24 Pcs Naked Professional Makeup Brush Set Tools Kit Spray Holder',\n  'new_price': 'KSh 1,000',\n  'old_price': 'KSh 1,500',\n  'discount': '33%',\n  'rating': '3.5 out of 5',\n  'votes': '3.5 out of 5(26)'},\n {'name': 'Fashion Slim Fit Official Long  White Sleeved Shirt',\n  'new_price': 'KSh 990 - KSh 1,199',\n  'old_price': 'KSh 1,800',\n  'discount': '45%',\n  'rating': '4.4 out of 5',\n  'votes': '4.4 out of 5(144)'},\n {'name': \"Itel 5081//Triple SIM CARD //SIZE DISPLAY2.40'' - Blue\",\n  'new_price': 'KSh 2,200',\n  'old_price': 'KSh 2,500',\n  'discount': '12%',\n  'rating': '4.3 out of 5',\n  'votes': '4.3 out of 5(37)'},\n {'name': 'Vitron 4388FS/43\"Inch Frameless Smart Android TVYoutubeNetflix/1GBAM/8GB ROM',\n  'new_price': 'KSh 23,495',\n  'old_price': 'KSh 29,999',\n  'discount': '22%',\n  'rating': '4.3 out of 5',\n  'votes': '4.3 out of 5(189)'},\n {'name': 'Laptop Bag Backpack For Men With USB Cable-Gray',\n  'new_price': 'KSh 1,149',\n  'old_price': 'KSh 2,006',\n  'discount': '43%',\n  'rating': '4.1 out of 5',\n  'votes': '4.1 out of 5(94)'},\n {'name': 'SADOER Hair Growth Serum Ginger Essence Hair Care Oil',\n  'new_price': 'KSh 330',\n  'old_price': 'KSh 500',\n  'discount': '34%',\n  'rating': '3.9 out of 5',\n  'votes': '3.9 out of 5(29)'},\n {'name': 'VON HA2031B/VES0202ES 2.1 Subwoofer - 20W',\n  'new_price': 'KSh 4,269',\n  'old_price': 'KSh 5,195',\n  'discount': '18%',\n  'rating': '4.2 out of 5',\n  'votes': '4.2 out of 5(350)'},\n {'name': 'Titan Gel Natural Oil Essential For Penis Enlargement,',\n  'new_price': 'KSh 1,399',\n  'old_price': 'KSh 2,600',\n  'discount': '46%',\n  'rating': '3.5 out of 5',\n  'votes': '3.5 out of 5(13)'},\n {'name': 'Rashnik Quartz Heater Qh-80c',\n  'new_price': 'KSh 1,308',\n  'old_price': None,\n  'discount': None,\n  'rating': '3.8 out of 5',\n  'votes': '3.8 out of 5(6)'},\n {'name': \"Lenovo Refurbished Thinkpad Intel Core I5 8 GB RAM 500 GB HDD 12.5'' Black\",\n  'new_price': 'KSh 20,643',\n  'old_price': 'KSh 37,500',\n  'discount': '45%',\n  'rating': '3.7 out of 5',\n  'votes': '3.7 out of 5(7)'},\n {'name': 'Vision Plus VP2110SB - 2.1CH Soundbar With Bluetooth - Black',\n  'new_price': 'KSh 9,599',\n  'old_price': 'KSh 9,995',\n  'discount': '4%',\n  'rating': '4.4 out of 5',\n  'votes': '4.4 out of 5(25)'},\n {'name': 'Ceriotti Original Hair Dryer Blow Dry GEK 3800 Straightener',\n  'new_price': 'KSh 2,200',\n  'old_price': 'KSh 3,900',\n  'discount': '44%',\n  'rating': '5 out of 5',\n  'votes': '5 out of 5(6)'},\n {'name': \"Fashion Men's Official  Pure Leather Slip On Shoes - Brown\",\n  'new_price': 'KSh 1,500',\n  'old_price': None,\n  'discount': None,\n  'rating': '4.2 out of 5',\n  'votes': '4.2 out of 5(22)'},\n {'name': '10inch  ringlight with2.1m stand',\n  'new_price': 'KSh 1,600',\n  'old_price': 'KSh 2,950',\n  'discount': '46%',\n  'rating': '3.9 out of 5',\n  'votes': '3.9 out of 5(8)'},\n {'name': '5metres LED Flexible Strip Light Remote Controlled Dimmable',\n  'new_price': 'KSh 699',\n  'old_price': 'KSh 1,299',\n  'discount': '46%',\n  'rating': '4 out of 5',\n  'votes': '4 out of 5(9)'},\n {'name': 'Wall Stickers Home Décor Accents Wall Stickers & Murals Not Canvas',\n  'new_price': 'KSh 999',\n  'old_price': 'KSh 1,899',\n  'discount': '47%',\n  'rating': '3.6 out of 5',\n  'votes': '3.6 out of 5(14)'},\n {'name': \"Fashion Men's Belt Leather Automatic Buckle Belts\",\n  'new_price': 'KSh 650',\n  'old_price': 'KSh 1,088',\n  'discount': '40%',\n  'rating': '4.3 out of 5',\n  'votes': '4.3 out of 5(35)'},\n {'name': 'Rashnik 9.0L Pressure Cooker',\n  'new_price': 'KSh 3,120',\n  'old_price': None,\n  'discount': None,\n  'rating': '3.6 out of 5',\n  'votes': '3.6 out of 5(5)'},\n {'name': 'Maybelline Superstay Vinyl Ink 30 Unrivalled',\n  'new_price': 'KSh 1,988',\n  'old_price': 'KSh 2,650',\n  'discount': '25%',\n  'rating': '4.8 out of 5',\n  'votes': '4.8 out of 5(24)'},\n {'name': 'Infinix Smart 7 HD, 6.6\", 2GB RAM, 64GB, 5000mAh, 4G(DUAL SIM) -  Ink Black (Night)',\n  'new_price': 'KSh 12,249',\n  'old_price': 'KSh 14,999',\n  'discount': '18%',\n  'rating': '4 out of 5',\n  'votes': '4 out of 5(4)'},\n {'name': 'Power King Best 4 Way Power Extension With Long Cable - White',\n  'new_price': 'KSh 420',\n  'old_price': 'KSh 650',\n  'discount': '35%',\n  'rating': '4.1 out of 5',\n  'votes': '4.1 out of 5(464)'},\n {'name': \"Fashion 3Pcs/Set Men's Underwear Ice Silk Boxer Panties\",\n  'new_price': 'KSh 1,080',\n  'old_price': 'KSh 2,118',\n  'discount': '49%',\n  'rating': '4.4 out of 5',\n  'votes': '4.4 out of 5(67)'},\n {'name': 'Fashion Necklace Simple Anti-rust Women Five Point Star Shape Clavicle Chain For Dating-Golden',\n  'new_price': 'KSh 85',\n  'old_price': 'KSh 170',\n  'discount': '50%',\n  'rating': '3.3 out of 5',\n  'votes': '3.3 out of 5(50)'},\n {'name': 'Fashion Eyebrow Shaper Stencil Reusable Kit 3 PCS & Eyebrush 1PCS',\n  'new_price': 'KSh 179',\n  'old_price': 'KSh 300',\n  'discount': '40%',\n  'rating': '3.5 out of 5',\n  'votes': '3.5 out of 5(4)'},\n {'name': 'Fashion 3 SET Fashion Heavy Duty Cotton Plain T Shirt- MAROON,GRAY,JUNGLE GREEN',\n  'new_price': 'KSh 2,850',\n  'old_price': 'KSh 3,600',\n  'discount': '21%',\n  'rating': '1 out of 5',\n  'votes': '1 out of 5(1)'},\n {'name': 'Fashion Unisex Black Warm Jacket Casual Coat',\n  'new_price': 'KSh 1,395 - KSh 1,499',\n  'old_price': 'KSh 1,399 - KSh 1,999',\n  'discount': '30%',\n  'rating': '4.3 out of 5',\n  'votes': '4.3 out of 5(46)'},\n {'name': 'Infinix Smart 7 Plus 6.6\" HD+, 64GB ROM + 3GB RAM 6000mAh//CELLINY//',\n  'new_price': 'KSh 14,299',\n  'old_price': 'KSh 20,000',\n  'discount': '29%',\n  'rating': '4.4 out of 5',\n  'votes': '4.4 out of 5(14)'},\n {'name': 'SiYi Sex Lubricant Water Based Lubricant Sex Lube Oil',\n  'new_price': 'KSh 550',\n  'old_price': 'KSh 849',\n  'discount': '35%',\n  'rating': '4.3 out of 5',\n  'votes': '4.3 out of 5(34)'},\n {'name': 'Regulator FOR 6KG GAS Plus FREE Pipe+ 2 Free Hose Clamps.',\n  'new_price': 'KSh 640',\n  'old_price': 'KSh 900',\n  'discount': '29%',\n  'rating': '3.9 out of 5',\n  'votes': '3.9 out of 5(46)'},\n {'name': '5Pc Different Level Fitness Yoga Resistance Bands',\n  'new_price': 'KSh 577',\n  'old_price': None,\n  'discount': None,\n  'rating': '3.9 out of 5',\n  'votes': '3.9 out of 5(14)'},\n {'name': 'Fashion 2Pcs/Set Best Friends Tai Chi Yin Yang Hollow Pendant Split Matching Necklace',\n  'new_price': 'KSh 161',\n  'old_price': 'KSh 314',\n  'discount': '49%',\n  'rating': '4.6 out of 5',\n  'votes': '4.6 out of 5(32)'},\n {'name': 'Fashion Mens Vintage Graffiti Short Patterned Sleeve Button-Down Hawaii Beach Shirt-Red',\n  'new_price': 'KSh 754',\n  'old_price': 'KSh 1,455',\n  'discount': '48%',\n  'rating': '3.1 out of 5',\n  'votes': '3.1 out of 5(32)'},\n {'name': 'Tecno Spark 10 Pro, 6.8\" , 128GB + 8GB, 50MP, Dual SIM, 5000mAh - Pearl White + Free Gifts',\n  'new_price': 'KSh 22,699',\n  'old_price': 'KSh 39,999',\n  'discount': '43%',\n  'rating': '4.3 out of 5',\n  'votes': '4.3 out of 5(15)'},\n {'name': 'Maybelline Superstay Vinyl Ink Nude Shock 135 Fearless',\n  'new_price': 'KSh 1,988',\n  'old_price': 'KSh 2,650',\n  'discount': '25%',\n  'rating': '4.2 out of 5',\n  'votes': '4.2 out of 5(6)'},\n {'name': '5 Pairs False Eyelashes Synthetic Fiber Material',\n  'new_price': 'KSh 279',\n  'old_price': 'KSh 500',\n  'discount': '44%',\n  'rating': '4.4 out of 5',\n  'votes': '4.4 out of 5(187)'},\n {'name': '128G Mini High Speed U Disk 128GB GUN Color High Speed Compact USB Flash Disk',\n  'new_price': 'KSh 710',\n  'old_price': 'KSh 1,000',\n  'discount': '29%',\n  'rating': '3.9 out of 5',\n  'votes': '3.9 out of 5(38)'},\n {'name': 'Fashion Booby Tape Bra Self Adhesive Tape Bra 5cm X 5M_Brown,Dark',\n  'new_price': 'KSh 495',\n  'old_price': 'KSh 800',\n  'discount': '38%',\n  'rating': '3.5 out of 5',\n  'votes': '3.5 out of 5(32)'},\n {'name': 'Dhavernas 【 15ml 】 Nail Polish Safe Burst Magic Gel Remover',\n  'new_price': 'KSh 659',\n  'old_price': 'KSh 1,200',\n  'discount': '45%',\n  'rating': '4.6 out of 5',\n  'votes': '4.6 out of 5(10)'},\n {'name': 'Vitamin C Serum, Niacinamide 5%, Hyaluronic Acid 10%, Anti Aging Super Serum_30ML',\n  'new_price': 'KSh 395',\n  'old_price': 'KSh 550',\n  'discount': '28%',\n  'rating': None,\n  'votes': None},\n {'name': 'Fashion Mens Solid Long Sleeve Dress Shirts',\n  'new_price': 'KSh 870',\n  'old_price': 'KSh 1,686',\n  'discount': '48%',\n  'rating': '4 out of 5',\n  'votes': '4 out of 5(137)'},\n {'name': 'Outdoor Arm Sleeves UV Sun Protective Gloved Cooling',\n  'new_price': 'KSh 302',\n  'old_price': 'KSh 433',\n  'discount': '30%',\n  'rating': '4.8 out of 5',\n  'votes': '4.8 out of 5(4)'},\n {'name': 'SM Bondage Kit S-ex Toys- 17 Pieces - Black',\n  'new_price': 'KSh 2,199',\n  'old_price': 'KSh 3,050',\n  'discount': '28%',\n  'rating': '4 out of 5',\n  'votes': '4 out of 5(2)'},\n {'name': 'Maybelline Fit Me Matte And Poreless Foundation 30 Ml -  340 CAPPUCCINO',\n  'new_price': 'KSh 1,275',\n  'old_price': 'KSh 1,700',\n  'discount': '25%',\n  'rating': '4.4 out of 5',\n  'votes': '4.4 out of 5(65)'},\n {'name': 'Nunix 2 In 1 Sandwitch Maker/Toaster',\n  'new_price': 'KSh 2,839',\n  'old_price': 'KSh 2,879',\n  'discount': '1%',\n  'rating': '5 out of 5',\n  'votes': '5 out of 5(1)'},\n {'name': 'Metal Curtain Rings For Curtain hooks (a bunch of 100pcs)',\n  'new_price': 'KSh 1,699',\n  'old_price': 'KSh 2,099',\n  'discount': '19%',\n  'rating': None,\n  'votes': None},\n {'name': 'Wireless Rechargeable Mouse Portable RGB Silent 2.4 G Bluetooth Mouse',\n  'new_price': 'KSh 590',\n  'old_price': 'KSh 961',\n  'discount': '39%',\n  'rating': '4.2 out of 5',\n  'votes': '4.2 out of 5(6)'},\n {'name': 'NICE PHOENIX  SIZE 16 BLUE BIKE',\n  'new_price': 'KSh 7,299',\n  'old_price': 'KSh 13,998',\n  'discount': '48%',\n  'rating': '4 out of 5',\n  'votes': '4 out of 5(2)'},\n {'name': 'Itel A04, 6.3\", 2GB RAM + 32GB ROM, (Dual SIM), 4000mAh+SMARTNETS 20',\n  'new_price': 'KSh 9,699',\n  'old_price': 'KSh 15,000',\n  'discount': '35%',\n  'rating': '5 out of 5',\n  'votes': '5 out of 5(2)'},\n {'name': 'Samsung Galaxy A12 Full Glue 9D SCREEN PROTECTOR',\n  'new_price': 'KSh 699',\n  'old_price': 'KSh 1,200',\n  'discount': '42%',\n  'rating': '4 out of 5',\n  'votes': '4 out of 5(21)'},\n {'name': 'Healthy Manual Breast Pump With Free Baby Bottle Cap',\n  'new_price': 'KSh 998',\n  'old_price': 'KSh 1,500',\n  'discount': '33%',\n  'rating': '4.4 out of 5',\n  'votes': '4.4 out of 5(285)'},\n {'name': 'Dp 30 LED Rechargeable Emergency Lamp-3Pcs',\n  'new_price': 'KSh 2,099',\n  'old_price': 'KSh 2,750',\n  'discount': '24%',\n  'rating': '4.7 out of 5',\n  'votes': '4.7 out of 5(3)'},\n {'name': 'Kids Toothbrush 2 Pieces, Manual Soft Kids Toothbrush_2-6 Years',\n  'new_price': 'KSh 299',\n  'old_price': 'KSh 500',\n  'discount': '40%',\n  'rating': '4 out of 5',\n  'votes': '4 out of 5(12)'},\n {'name': 'Coke Coke Zero 330ml Can - Pack of 6',\n  'new_price': 'KSh 427',\n  'old_price': 'KSh 466',\n  'discount': '8%',\n  'rating': None,\n  'votes': None},\n {'name': 'Heavy Duty Universal Weather Car Floor Mat 3pc Conjoined',\n  'new_price': 'KSh 3,220',\n  'old_price': 'KSh 5,000',\n  'discount': '36%',\n  'rating': None,\n  'votes': None},\n {'name': 'Manual Meat Mincer / Grinder - Aluminum Alloy',\n  'new_price': 'KSh 1,758',\n  'old_price': None,\n  'discount': None,\n  'rating': '4.2 out of 5',\n  'votes': '4.2 out of 5(13)'},\n {'name': 'Power King 5 Way Quality Extension Socket With A 3Meter Cable',\n  'new_price': 'KSh 431',\n  'old_price': 'KSh 810',\n  'discount': '47%',\n  'rating': '1 out of 5',\n  'votes': '1 out of 5(1)'},\n {'name': 'SEXY ADULT TOYS DOLPHIN CLITORAL G SPOT VIBRATOR',\n  'new_price': 'KSh 900',\n  'old_price': 'KSh 1,800',\n  'discount': '50%',\n  'rating': '3.2 out of 5',\n  'votes': '3.2 out of 5(22)'},\n {'name': 'Fashion Comfortable Slim Fit Jeans For Men - 3 Pack',\n  'new_price': 'KSh 4,699',\n  'old_price': 'KSh 5,600',\n  'discount': '16%',\n  'rating': '3.3 out of 5',\n  'votes': '3.3 out of 5(3)'},\n {'name': 'Tripod Stand For SLR/Phones,Up To 1.7M',\n  'new_price': 'KSh 2,800',\n  'old_price': 'KSh 5,600',\n  'discount': '50%',\n  'rating': '4.2 out of 5',\n  'votes': '4.2 out of 5(10)'},\n {'name': 'Fashion International Best Selling Cute Black Wrist Watch + Free Neckband Earphone & Cap',\n  'new_price': 'KSh 800',\n  'old_price': 'KSh 1,500',\n  'discount': '47%',\n  'rating': '3.8 out of 5',\n  'votes': '3.8 out of 5(5)'},\n {'name': 'Velvex Furniture Polish Lemon Scented 300ml',\n  'new_price': 'KSh 299',\n  'old_price': None,\n  'discount': None,\n  'rating': '4.4 out of 5',\n  'votes': '4.4 out of 5(8)'},\n {'name': 'PRO3 Portable Mini Bluetooth Headset Wireless Invisible Earbuds Sports Headphones',\n  'new_price': 'KSh 774',\n  'old_price': 'KSh 1,318',\n  'discount': '41%',\n  'rating': '3.8 out of 5',\n  'votes': '3.8 out of 5(4)'},\n {'name': 'Miniso Korean Style 0.55cm Rubber Band 10pcs',\n  'new_price': 'KSh 167',\n  'old_price': None,\n  'discount': None,\n  'rating': '4 out of 5',\n  'votes': '4 out of 5(2)'},\n {'name': '300ml Salon Bottle Plastic Hairdressing Watering Can Water Spray For Barber Hair Tool Haircut Mist Sprayer',\n  'new_price': 'KSh 262',\n  'old_price': None,\n  'discount': None,\n  'rating': '5 out of 5',\n  'votes': '5 out of 5(1)'},\n {'name': '2 Layer Over The Sink Dish Rack',\n  'new_price': 'KSh 8,998',\n  'old_price': None,\n  'discount': None,\n  'rating': None,\n  'votes': None},\n {'name': 'Fay Kitchen towel Eco twin pack',\n  'new_price': 'KSh 217',\n  'old_price': 'KSh 237',\n  'discount': '8%',\n  'rating': '4 out of 5',\n  'votes': '4 out of 5(2)'},\n {'name': 'Nobel Wooden Round Coffee Table',\n  'new_price': 'KSh 4,999',\n  'old_price': 'KSh 7,000',\n  'discount': '29%',\n  'rating': '4.5 out of 5',\n  'votes': '4.5 out of 5(10)'},\n {'name': '14 Piece Heavy Duty Sufurias With Lids',\n  'new_price': 'KSh 6,894',\n  'old_price': 'KSh 10,000',\n  'discount': '31%',\n  'rating': '4 out of 5',\n  'votes': '4 out of 5(12)'},\n {'name': 'Luodais Classic Human Hair Wig/ Weave Repair Serum+1pc Pc ORS Wrap Oconut Oil Setting Mousse',\n  'new_price': 'KSh 570 - KSh 770',\n  'old_price': 'KSh 1,000 - KSh 1,300',\n  'discount': '43%',\n  'rating': '5 out of 5',\n  'votes': '5 out of 5(1)'},\n {'name': 'Fashion Raincoat Waterproof Poncho For Men And Women Hiking,fishing,camping, Rides.',\n  'new_price': 'KSh 1,500',\n  'old_price': 'KSh 2,500',\n  'discount': '40%',\n  'rating': '3.4 out of 5',\n  'votes': '3.4 out of 5(5)'},\n {'name': 'Fashion 6 Pcs Pure Cotton Seamless Ladies Pants',\n  'new_price': 'KSh 2,068',\n  'old_price': 'KSh 2,368',\n  'discount': '13%',\n  'rating': '4.5 out of 5',\n  'votes': '4.5 out of 5(10)'},\n {'name': 'Pedrollo WATER PUMP 0.5 HP ITALY PKM60',\n  'new_price': 'KSh 7,500',\n  'old_price': 'KSh 15,000',\n  'discount': '50%',\n  'rating': '4 out of 5',\n  'votes': '4 out of 5(3)'},\n {'name': 'Nunix Table Top 2Burner Auto ignition Gas Stove Cooker',\n  'new_price': 'KSh 2,377',\n  'old_price': 'KSh 3,499',\n  'discount': '32%',\n  'rating': None,\n  'votes': None},\n {'name': '4 Piece Cotton Duvet (blue Star) - Luxury Duvet',\n  'new_price': 'KSh 2,030 - KSh 2,100',\n  'old_price': 'KSh 2,500',\n  'discount': '19%',\n  'rating': '3.7 out of 5',\n  'votes': '3.7 out of 5(28)'},\n {'name': 'Fruit Of The Wokali Snail Repairing & Skin Regeneration Cream.',\n  'new_price': 'KSh 320',\n  'old_price': 'KSh 500',\n  'discount': '36%',\n  'rating': '4.7 out of 5',\n  'votes': '4.7 out of 5(6)'},\n {'name': \"XIAOMI Redmi Note 12, 6.67'', 4GB+128GB, 50MP, Dual Sim - Gray + Free Gifts\",\n  'new_price': 'KSh 26,499',\n  'old_price': 'KSh 35,999',\n  'discount': '26%',\n  'rating': '4.7 out of 5',\n  'votes': '4.7 out of 5(7)'},\n {'name': 'Phelistar Outdoor Digital TV Aerial Antenna + 3 Mobi GIFTS',\n  'new_price': 'KSh 698',\n  'old_price': 'KSh 1,200',\n  'discount': '42%',\n  'rating': '3.9 out of 5',\n  'votes': '3.9 out of 5(86)'},\n ...]"
     },
     "execution_count": 323,
     "metadata": {},
     "output_type": "execute_result"
    }
   ],
   "source": [
    "for page in range(1, webpage_num_total+1, 1):\n",
    "    other_pages_url = \"https://www.jumia.co.ke/all-products/?page=\"\n",
    "    page = str(page)\n",
    "    other_pages_url = other_pages_url + page\n",
    "    response = fetch_html_data(other_pages_url)\n",
    "    # time.sleep(2.5)\n",
    "    soup = convert_web_data_to_beautiful_soup_obj(response)\n",
    "    append_one_product_details_dictionary_to_list(page)\n",
    "all_products_list"
   ],
   "metadata": {
    "collapsed": false,
    "ExecuteTime": {
     "end_time": "2024-02-19T18:17:11.235852908Z",
     "start_time": "2024-02-19T18:15:53.677295625Z"
    }
   },
   "id": "e0f2cd3991c5d999",
   "execution_count": 323
  },
  {
   "cell_type": "markdown",
   "source": [
    "### Check product count"
   ],
   "metadata": {
    "collapsed": false
   },
   "id": "eb6acd584fb57e86"
  },
  {
   "cell_type": "code",
   "outputs": [
    {
     "data": {
      "text/plain": "2000"
     },
     "execution_count": 324,
     "metadata": {},
     "output_type": "execute_result"
    }
   ],
   "source": [
    "len(all_products_list)"
   ],
   "metadata": {
    "collapsed": false,
    "ExecuteTime": {
     "end_time": "2024-02-19T18:17:11.238371483Z",
     "start_time": "2024-02-19T18:17:11.225289999Z"
    }
   },
   "id": "828e8f982bcae649",
   "execution_count": 324
  },
  {
   "cell_type": "markdown",
   "source": [
    "### Convert products list to pandas dataframe"
   ],
   "metadata": {
    "collapsed": false
   },
   "id": "ab74acb2c9f1127a"
  },
  {
   "cell_type": "code",
   "outputs": [
    {
     "data": {
      "text/plain": "                                                name  new_price  old_price  \\\n0  NIVEA Perfect & Radiant Even Tone Day And Nigh...    KSh 999  KSh 1,560   \n1  NIVEA Radiant & Beauty Advanced Care Lotion Fo...    KSh 949  KSh 1,460   \n2  NIVEA Nourishing Cocoa Body Lotion With Cocoa ...  KSh 1,174  KSh 1,302   \n3  NIVEA Pearl & Beauty Anti-Perspirant Rollon, 4...    KSh 728  KSh 1,040   \n4  NIVEA MEN Deep Antibacterial Anti-Perspirant R...    KSh 728  KSh 1,040   \n\n  discount        rating               votes  \n0      36%  4.5 out of 5  4.5 out of 5(2216)  \n1      35%  4.7 out of 5   4.7 out of 5(607)  \n2      10%  4.7 out of 5  4.7 out of 5(1113)  \n3      30%  4.6 out of 5   4.6 out of 5(829)  \n4      30%  4.6 out of 5   4.6 out of 5(619)  ",
      "text/html": "<div>\n<style scoped>\n    .dataframe tbody tr th:only-of-type {\n        vertical-align: middle;\n    }\n\n    .dataframe tbody tr th {\n        vertical-align: top;\n    }\n\n    .dataframe thead th {\n        text-align: right;\n    }\n</style>\n<table border=\"1\" class=\"dataframe\">\n  <thead>\n    <tr style=\"text-align: right;\">\n      <th></th>\n      <th>name</th>\n      <th>new_price</th>\n      <th>old_price</th>\n      <th>discount</th>\n      <th>rating</th>\n      <th>votes</th>\n    </tr>\n  </thead>\n  <tbody>\n    <tr>\n      <th>0</th>\n      <td>NIVEA Perfect &amp; Radiant Even Tone Day And Nigh...</td>\n      <td>KSh 999</td>\n      <td>KSh 1,560</td>\n      <td>36%</td>\n      <td>4.5 out of 5</td>\n      <td>4.5 out of 5(2216)</td>\n    </tr>\n    <tr>\n      <th>1</th>\n      <td>NIVEA Radiant &amp; Beauty Advanced Care Lotion Fo...</td>\n      <td>KSh 949</td>\n      <td>KSh 1,460</td>\n      <td>35%</td>\n      <td>4.7 out of 5</td>\n      <td>4.7 out of 5(607)</td>\n    </tr>\n    <tr>\n      <th>2</th>\n      <td>NIVEA Nourishing Cocoa Body Lotion With Cocoa ...</td>\n      <td>KSh 1,174</td>\n      <td>KSh 1,302</td>\n      <td>10%</td>\n      <td>4.7 out of 5</td>\n      <td>4.7 out of 5(1113)</td>\n    </tr>\n    <tr>\n      <th>3</th>\n      <td>NIVEA Pearl &amp; Beauty Anti-Perspirant Rollon, 4...</td>\n      <td>KSh 728</td>\n      <td>KSh 1,040</td>\n      <td>30%</td>\n      <td>4.6 out of 5</td>\n      <td>4.6 out of 5(829)</td>\n    </tr>\n    <tr>\n      <th>4</th>\n      <td>NIVEA MEN Deep Antibacterial Anti-Perspirant R...</td>\n      <td>KSh 728</td>\n      <td>KSh 1,040</td>\n      <td>30%</td>\n      <td>4.6 out of 5</td>\n      <td>4.6 out of 5(619)</td>\n    </tr>\n  </tbody>\n</table>\n</div>"
     },
     "execution_count": 325,
     "metadata": {},
     "output_type": "execute_result"
    }
   ],
   "source": [
    "products_df = pd.DataFrame(all_products_list)\n",
    "products_df.head()"
   ],
   "metadata": {
    "collapsed": false,
    "ExecuteTime": {
     "end_time": "2024-02-19T18:17:11.292219386Z",
     "start_time": "2024-02-19T18:17:11.227336463Z"
    }
   },
   "id": "9bc1541c84ba9cf4",
   "execution_count": 325
  },
  {
   "cell_type": "code",
   "outputs": [
    {
     "data": {
      "text/plain": "(2000, 6)"
     },
     "execution_count": 326,
     "metadata": {},
     "output_type": "execute_result"
    }
   ],
   "source": [
    "products_df.shape"
   ],
   "metadata": {
    "collapsed": false,
    "ExecuteTime": {
     "end_time": "2024-02-19T18:17:11.453760692Z",
     "start_time": "2024-02-19T18:17:11.285871832Z"
    }
   },
   "id": "3933ee31fae6c09",
   "execution_count": 326
  },
  {
   "cell_type": "markdown",
   "source": [
    "# Data Cleaning Section"
   ],
   "metadata": {
    "collapsed": false
   },
   "id": "b652b6b589590347"
  },
  {
   "cell_type": "markdown",
   "source": [
    "### Clean new_price column"
   ],
   "metadata": {
    "collapsed": false
   },
   "id": "61e39b08c31c7a9a"
  },
  {
   "cell_type": "code",
   "outputs": [],
   "source": [
    "# Remove currency name 'Ksh' & convert values to float\n",
    "def remove_currency_name_in_new_price(val):\n",
    "    val = val.split(' ')[1]\n",
    "    return val\n",
    "products_df['new_price'] = products_df['new_price'].apply(remove_currency_name_in_new_price)"
   ],
   "metadata": {
    "collapsed": false,
    "ExecuteTime": {
     "end_time": "2024-02-19T18:17:11.509441045Z",
     "start_time": "2024-02-19T18:17:11.346085074Z"
    }
   },
   "id": "43feba7ebc504822",
   "execution_count": 327
  },
  {
   "cell_type": "code",
   "outputs": [
    {
     "name": "stdout",
     "output_type": "stream",
     "text": [
      "<class 'str'>\n",
      "0      999\n",
      "1      949\n",
      "2    1,174\n",
      "3      728\n",
      "4      728\n",
      "Name: new_price, dtype: object\n"
     ]
    }
   ],
   "source": [
    "print(type(products_df['new_price'][1]))\n",
    "print(products_df['new_price'].head())"
   ],
   "metadata": {
    "collapsed": false,
    "ExecuteTime": {
     "end_time": "2024-02-19T18:17:11.513646907Z",
     "start_time": "2024-02-19T18:17:11.443546952Z"
    }
   },
   "id": "3dc1f9774481f6d5",
   "execution_count": 328
  },
  {
   "cell_type": "code",
   "outputs": [
    {
     "data": {
      "text/plain": "0     999\n1     949\n2    1174\n3     728\n4     728\nName: new_price, dtype: object"
     },
     "execution_count": 329,
     "metadata": {},
     "output_type": "execute_result"
    }
   ],
   "source": [
    "# Remove comma from thousands price values\n",
    "products_df['new_price'] = products_df['new_price'].apply(lambda x: x.replace(',','') if ',' in x else x)\n",
    "products_df['new_price'].head()"
   ],
   "metadata": {
    "collapsed": false,
    "ExecuteTime": {
     "end_time": "2024-02-19T18:17:11.641371209Z",
     "start_time": "2024-02-19T18:17:11.498638793Z"
    }
   },
   "id": "207f62ef8b56ec5",
   "execution_count": 329
  },
  {
   "cell_type": "code",
   "outputs": [
    {
     "name": "stdout",
     "output_type": "stream",
     "text": [
      "<class 'str'>\n"
     ]
    }
   ],
   "source": [
    "print(type(products_df['new_price'][1]))"
   ],
   "metadata": {
    "collapsed": false,
    "ExecuteTime": {
     "end_time": "2024-02-19T18:17:11.657593892Z",
     "start_time": "2024-02-19T18:17:11.581169939Z"
    }
   },
   "id": "f52e790439b1338e",
   "execution_count": 330
  },
  {
   "cell_type": "code",
   "outputs": [],
   "source": [
    "# Convert new_price column to float\n",
    "products_df['new_price'] = products_df['new_price'].apply(lambda x: float(x))"
   ],
   "metadata": {
    "collapsed": false,
    "ExecuteTime": {
     "end_time": "2024-02-19T18:17:11.710807474Z",
     "start_time": "2024-02-19T18:17:11.654100840Z"
    }
   },
   "id": "d3db69ac88e2d60e",
   "execution_count": 331
  },
  {
   "cell_type": "code",
   "outputs": [
    {
     "name": "stdout",
     "output_type": "stream",
     "text": [
      "<class 'numpy.float64'>\n"
     ]
    }
   ],
   "source": [
    "print(type(products_df['new_price'][1]))"
   ],
   "metadata": {
    "collapsed": false,
    "ExecuteTime": {
     "end_time": "2024-02-19T18:17:11.760991696Z",
     "start_time": "2024-02-19T18:17:11.711905569Z"
    }
   },
   "id": "ed24a3912631e4aa",
   "execution_count": 332
  },
  {
   "cell_type": "code",
   "outputs": [
    {
     "data": {
      "text/plain": "                                                name  new_price  old_price  \\\n0  NIVEA Perfect & Radiant Even Tone Day And Nigh...      999.0  KSh 1,560   \n1  NIVEA Radiant & Beauty Advanced Care Lotion Fo...      949.0  KSh 1,460   \n2  NIVEA Nourishing Cocoa Body Lotion With Cocoa ...     1174.0  KSh 1,302   \n3  NIVEA Pearl & Beauty Anti-Perspirant Rollon, 4...      728.0  KSh 1,040   \n4  NIVEA MEN Deep Antibacterial Anti-Perspirant R...      728.0  KSh 1,040   \n\n  discount        rating               votes  \n0      36%  4.5 out of 5  4.5 out of 5(2216)  \n1      35%  4.7 out of 5   4.7 out of 5(607)  \n2      10%  4.7 out of 5  4.7 out of 5(1113)  \n3      30%  4.6 out of 5   4.6 out of 5(829)  \n4      30%  4.6 out of 5   4.6 out of 5(619)  ",
      "text/html": "<div>\n<style scoped>\n    .dataframe tbody tr th:only-of-type {\n        vertical-align: middle;\n    }\n\n    .dataframe tbody tr th {\n        vertical-align: top;\n    }\n\n    .dataframe thead th {\n        text-align: right;\n    }\n</style>\n<table border=\"1\" class=\"dataframe\">\n  <thead>\n    <tr style=\"text-align: right;\">\n      <th></th>\n      <th>name</th>\n      <th>new_price</th>\n      <th>old_price</th>\n      <th>discount</th>\n      <th>rating</th>\n      <th>votes</th>\n    </tr>\n  </thead>\n  <tbody>\n    <tr>\n      <th>0</th>\n      <td>NIVEA Perfect &amp; Radiant Even Tone Day And Nigh...</td>\n      <td>999.0</td>\n      <td>KSh 1,560</td>\n      <td>36%</td>\n      <td>4.5 out of 5</td>\n      <td>4.5 out of 5(2216)</td>\n    </tr>\n    <tr>\n      <th>1</th>\n      <td>NIVEA Radiant &amp; Beauty Advanced Care Lotion Fo...</td>\n      <td>949.0</td>\n      <td>KSh 1,460</td>\n      <td>35%</td>\n      <td>4.7 out of 5</td>\n      <td>4.7 out of 5(607)</td>\n    </tr>\n    <tr>\n      <th>2</th>\n      <td>NIVEA Nourishing Cocoa Body Lotion With Cocoa ...</td>\n      <td>1174.0</td>\n      <td>KSh 1,302</td>\n      <td>10%</td>\n      <td>4.7 out of 5</td>\n      <td>4.7 out of 5(1113)</td>\n    </tr>\n    <tr>\n      <th>3</th>\n      <td>NIVEA Pearl &amp; Beauty Anti-Perspirant Rollon, 4...</td>\n      <td>728.0</td>\n      <td>KSh 1,040</td>\n      <td>30%</td>\n      <td>4.6 out of 5</td>\n      <td>4.6 out of 5(829)</td>\n    </tr>\n    <tr>\n      <th>4</th>\n      <td>NIVEA MEN Deep Antibacterial Anti-Perspirant R...</td>\n      <td>728.0</td>\n      <td>KSh 1,040</td>\n      <td>30%</td>\n      <td>4.6 out of 5</td>\n      <td>4.6 out of 5(619)</td>\n    </tr>\n  </tbody>\n</table>\n</div>"
     },
     "execution_count": 333,
     "metadata": {},
     "output_type": "execute_result"
    }
   ],
   "source": [
    "products_df.head()"
   ],
   "metadata": {
    "collapsed": false,
    "ExecuteTime": {
     "end_time": "2024-02-19T18:17:11.816249624Z",
     "start_time": "2024-02-19T18:17:11.761271940Z"
    }
   },
   "id": "2267be4bad50e9ad",
   "execution_count": 333
  },
  {
   "cell_type": "markdown",
   "source": [
    "### Clean old_price column"
   ],
   "metadata": {
    "collapsed": false
   },
   "id": "ba17d9026f584101"
  },
  {
   "cell_type": "code",
   "outputs": [
    {
     "data": {
      "text/plain": "array(['KSh 1,560', 'KSh 1,460', 'KSh 1,302', 'KSh 1,040', 'KSh 5,610',\n       'KSh 780', 'KSh 3,840', 'KSh 38,000', 'KSh 410', 'KSh 3,500',\n       'KSh 688', 'KSh 1,750', 'KSh 2,300', 'KSh 1,399', 'KSh 1,200',\n       None, 'KSh 23,999', 'KSh 4,000', 'KSh 815', 'KSh 3,827',\n       'KSh 1,299', 'KSh 345', 'KSh 2,100', 'KSh 18,999', 'KSh 7,599',\n       'KSh 1,599', 'KSh 1,700', 'KSh 14,999', 'KSh 1,295', 'KSh 1,250',\n       'KSh 350', 'KSh 2,871', 'KSh 1,850', 'KSh 3,045', 'KSh 31,354',\n       'KSh 899', 'KSh 1,670', 'KSh 2,599', 'KSh 210', 'KSh 1,014',\n       'KSh 250', 'KSh 180', 'KSh 1,500', 'KSh 900', 'KSh 1,400',\n       'KSh 1,050', 'KSh 4,245', 'KSh 4,099', 'KSh 8,499', 'KSh 1,000',\n       'KSh 44,999', 'KSh 21,500', 'KSh 2,695 - KSh 3,576', 'KSh 920',\n       'KSh 1,638', 'KSh 4,500', 'KSh 20,000', 'KSh 1,999', 'KSh 800',\n       'KSh 1,553', 'KSh 940', 'KSh 599', 'KSh 500', 'KSh 12,999',\n       'KSh 2,373 - KSh 3,000', 'KSh 1,371 - KSh 1,913', 'KSh 1,310',\n       'KSh 1,148', 'KSh 745', 'KSh 850', 'KSh 2,900 - KSh 4,000',\n       'KSh 26,995', 'KSh 39,999', 'KSh 42,995', 'KSh 300', 'KSh 1,149',\n       'KSh 1,045', 'KSh 41,000', 'KSh 919', 'KSh 600', 'KSh 1,359',\n       'KSh 1,190', 'KSh 19,999', 'KSh 1,488', 'KSh 6,199', 'KSh 3,999',\n       'KSh 2,508', 'KSh 1,078', 'KSh 1,329', 'KSh 999', 'KSh 1,180',\n       'KSh 2,842', 'KSh 2,094', 'KSh 2,047', 'KSh 2,468', 'KSh 893',\n       'KSh 2,521', 'KSh 3,009', 'KSh 30,000', 'KSh 1,095', 'KSh 1,229',\n       'KSh 641', 'KSh 2,304', 'KSh 3,000', 'KSh 1,000 - KSh 2,900',\n       'KSh 1,264', 'KSh 1,600', 'KSh 2,600', 'KSh 2,000', 'KSh 60,000',\n       'KSh 167', 'KSh 5,000', 'KSh 450', 'KSh 202', 'KSh 5,500',\n       'KSh 20,999', 'KSh 1,700 - KSh 2,000', 'KSh 35,999', 'KSh 235',\n       'KSh 4,270', 'KSh 4,300', 'KSh 699', 'KSh 55,999', 'KSh 25,000',\n       'KSh 4,150', 'KSh 25,999', 'KSh 3,500 - KSh 8,000', 'KSh 2,500',\n       'KSh 700', 'KSh 3,387', 'KSh 711', 'KSh 19,000', 'KSh 10,000',\n       'KSh 427', 'KSh 1,210', 'KSh 1,100', 'KSh 32,798', 'KSh 2,767',\n       'KSh 5,288', 'KSh 2,190', 'KSh 720', 'KSh 1,800', 'KSh 3,350',\n       'KSh 6,500', 'KSh 1,955', 'KSh 3,107', 'KSh 184', 'KSh 2,700',\n       'KSh 1,799', 'KSh 1,300 - KSh 1,359', 'KSh 1,990', 'KSh 1,957',\n       'KSh 9,000', 'KSh 3,200', 'KSh 3,600', 'KSh 20,995', 'KSh 24,875',\n       'KSh 1,999 - KSh 2,849', 'KSh 9,999', 'KSh 3,939',\n       'KSh 14,000 - KSh 19,500', 'KSh 4,800', 'KSh 925 - KSh 2,255',\n       'KSh 17,000', 'KSh 950', 'KSh 499', 'KSh 2,800', 'KSh 4,100',\n       'KSh 34,995', 'KSh 15,000', 'KSh 1,699', 'KSh 625', 'KSh 9,407',\n       'KSh 18,000', 'KSh 8,900', 'KSh 46,000', 'KSh 6,000',\n       'KSh 2,000 - KSh 4,000', 'KSh 1,200 - KSh 1,900', 'KSh 678',\n       'KSh 3,900', 'KSh 5,213', 'KSh 458', 'KSh 99,999',\n       'KSh 4,199 - KSh 6,000', 'KSh 3,921', 'KSh 1,899', 'KSh 329',\n       'KSh 3,117', 'KSh 29,999', 'KSh 9,499', 'KSh 4,599',\n       'KSh 599 - KSh 629', 'KSh 599 - KSh 1,300', 'KSh 12,000',\n       'KSh 35,500', 'KSh 990', 'KSh 1,008', 'KSh 5,000 - KSh 10,000',\n       'KSh 400', 'KSh 2,059', 'KSh 3,892', 'KSh 650', 'KSh 1,099',\n       'KSh 3,381', 'KSh 1,537 - KSh 1,568', 'KSh 1,568', 'KSh 206',\n       'KSh 7,800', 'KSh 1,965', 'KSh 1,254', 'KSh 1,445', 'KSh 1,871',\n       'KSh 1,422 - KSh 1,613', 'KSh 1,350', 'KSh 2,082', 'KSh 14,000',\n       'KSh 3,452', 'KSh 15,999', 'KSh 551', 'KSh 1,580', 'KSh 1,934',\n       'KSh 1,500 - KSh 1,568', 'KSh 1,292', 'KSh 2,500 - KSh 2,600',\n       'KSh 6,677', 'KSh 214', 'KSh 1,425', 'KSh 29,000', 'KSh 1,898',\n       'KSh 266', 'KSh 1,608', 'KSh 5,699', 'KSh 2,427 - KSh 3,146',\n       'KSh 695', 'KSh 1,363 - KSh 1,414', 'KSh 1,099 - KSh 3,080',\n       'KSh 8,000', 'KSh 5,900', 'KSh 1,034', 'KSh 2,299',\n       'KSh 500 - KSh 550', 'KSh 1,300', 'KSh 1,567',\n       'KSh 10,499 - KSh 12,999', 'KSh 1,481', 'KSh 1,672',\n       'KSh 1,299 - KSh 1,799', 'KSh 220', 'KSh 9,500', 'KSh 1,503',\n       'KSh 1,127', 'KSh 1,149 - KSh 1,598', 'KSh 1,859 - KSh 2,000',\n       'KSh 1,606 - KSh 1,884', 'KSh 147', 'KSh 1,879', 'KSh 7,960',\n       'KSh 1,944', 'KSh 16,099', 'KSh 1,690 - KSh 1,766', 'KSh 2,499',\n       'KSh 3,699', 'KSh 4,600', 'KSh 1,782', 'KSh 3,385', 'KSh 1,051',\n       'KSh 2,900 - KSh 4,700', 'KSh 290', 'KSh 1,602',\n       'KSh 585 - KSh 1,800', 'KSh 250 - KSh 1,050', 'KSh 1,980',\n       'KSh 3,890', 'KSh 1,499', 'KSh 922', 'KSh 799', 'KSh 1,510',\n       'KSh 4,199', 'KSh 804', 'KSh 232', 'KSh 1,150', 'KSh 1,802',\n       'KSh 13,998', 'KSh 883', 'KSh 1,629', 'KSh 3,760',\n       'KSh 1,299 - KSh 1,599', 'KSh 1,400 - KSh 2,198',\n       'KSh 1,200 - KSh 1,500', 'KSh 1,282', 'KSh 979', 'KSh 1,368',\n       'KSh 2,800 - KSh 3,800', 'KSh 502', 'KSh 140', 'KSh 1,545',\n       'KSh 1,598', 'KSh 366', 'KSh 2,850 - KSh 4,500', 'KSh 985',\n       'KSh 2,488', 'KSh 2,400', 'KSh 581', 'KSh 6,558', 'KSh 2,999',\n       'KSh 932', 'KSh 1,276', 'KSh 2,180', 'KSh 7,200', 'KSh 2,506',\n       'KSh 383', 'KSh 24,999', 'KSh 3,800 - KSh 4,000', 'KSh 2,712',\n       'KSh 26,598', 'KSh 7,643', 'KSh 22,000', 'KSh 3,060 - KSh 3,460',\n       'KSh 1,076', 'KSh 3,800', 'KSh 5,398', 'KSh 1,900', 'KSh 7,000',\n       'KSh 4,418', 'KSh 4,000 - KSh 7,000', 'KSh 680',\n       'KSh 950 - KSh 2,000', 'KSh 4,850', 'KSh 3,300 - KSh 3,500',\n       'KSh 1,450', 'KSh 2,880', 'KSh 1,610', 'KSh 1,950', 'KSh 948',\n       'KSh 194', 'KSh 749 - KSh 849', 'KSh 580', 'KSh 50,000',\n       'KSh 8,999', 'KSh 2,580', 'KSh 4,000 - KSh 4,200', 'KSh 2,850',\n       'KSh 700 - KSh 1,200', 'KSh 518', 'KSh 10,090', 'KSh 1,740',\n       'KSh 980', 'KSh 3,824', 'KSh 550 - KSh 1,750', 'KSh 500 - KSh 900',\n       'KSh 14,947', 'KSh 2,006', 'KSh 5,195', 'KSh 37,500', 'KSh 9,995',\n       'KSh 2,950', 'KSh 1,088', 'KSh 2,650', 'KSh 2,118', 'KSh 170',\n       'KSh 1,399 - KSh 1,999', 'KSh 849', 'KSh 314', 'KSh 1,455',\n       'KSh 550', 'KSh 1,686', 'KSh 433', 'KSh 3,050', 'KSh 2,879',\n       'KSh 2,099', 'KSh 961', 'KSh 2,750', 'KSh 466', 'KSh 810',\n       'KSh 5,600', 'KSh 1,318', 'KSh 237', 'KSh 1,000 - KSh 1,300',\n       'KSh 2,368', 'KSh 3,499', 'KSh 2,380', 'KSh 1,765',\n       'KSh 520 - KSh 1,350', 'KSh 933', 'KSh 42,000', 'KSh 2,200',\n       'KSh 280', 'KSh 520 - KSh 750', 'KSh 501', 'KSh 612',\n       'KSh 1,500 - KSh 3,000', 'KSh 560', 'KSh 1,200 - KSh 1,800',\n       'KSh 138', 'KSh 1,299 - KSh 1,499', 'KSh 320', 'KSh 319',\n       'KSh 3,863', 'KSh 5,799', 'KSh 21,599', 'KSh 7,590', 'KSh 26,999',\n       'KSh 1,624 - KSh 1,626', 'KSh 960', 'KSh 790',\n       'KSh 999 - KSh 1,999', 'KSh 164', 'KSh 2,802', 'KSh 1,083',\n       'KSh 730', 'KSh 156', 'KSh 1,399 - KSh 1,500', 'KSh 2,199',\n       'KSh 38,999', 'KSh 1,178', 'KSh 9,980', 'KSh 18,995', 'KSh 43,000',\n       'KSh 375', 'KSh 16,000', 'KSh 96', 'KSh 1,200 - KSh 2,499',\n       'KSh 995', 'KSh 49,999', 'KSh 6,900', 'KSh 2,926', 'KSh 2,298',\n       'KSh 28,888', 'KSh 2,500 - KSh 5,000', 'KSh 11,990', 'KSh 22,999',\n       'KSh 45,999', 'KSh 577', 'KSh 19,998', 'KSh 3,090', 'KSh 1,152',\n       'KSh 1,200 - KSh 1,600', 'KSh 2,900', 'KSh 4,200',\n       'KSh 5,000 - KSh 6,000', 'KSh 4,900', 'KSh 10,999', 'KSh 57,999',\n       'KSh 7,499', 'KSh 36,999', 'KSh 2,126', 'KSh 1,290', 'KSh 1,589',\n       'KSh 541', 'KSh 1,463', 'KSh 420', 'KSh 1,699 - KSh 1,899',\n       'KSh 409', 'KSh 890', 'KSh 1,400 - KSh 1,998', 'KSh 750',\n       'KSh 740', 'KSh 977', 'KSh 449', 'KSh 3,800 - KSh 4,500',\n       'KSh 1,231', 'KSh 1,324', 'KSh 196', 'KSh 1,166', 'KSh 398',\n       'KSh 2,300 - KSh 3,000', 'KSh 3,500 - KSh 5,000', 'KSh 3,492',\n       'KSh 2,078', 'KSh 704', 'KSh 4,999', 'KSh 162', 'KSh 880',\n       'KSh 468', 'KSh 714 - KSh 3,361', 'KSh 1,474', 'KSh 3,560',\n       'KSh 1,119', 'KSh 2,400 - KSh 2,700', 'KSh 2,550 - KSh 3,350',\n       'KSh 574', 'KSh 5,800', 'KSh 5,990', 'KSh 7,999', 'KSh 802',\n       'KSh 14,996', 'KSh 2,038', 'KSh 14,498', 'KSh 313', 'KSh 918',\n       'KSh 130', 'KSh 2,399 - KSh 2,999', 'KSh 1,784', 'KSh 482',\n       'KSh 517', 'KSh 1,597', 'KSh 498', 'KSh 989', 'KSh 304',\n       'KSh 1,592', 'KSh 3,048', 'KSh 4,195', 'KSh 9,589', 'KSh 6,635',\n       'KSh 4,592', 'KSh 3,899', 'KSh 3,240', 'KSh 1,985',\n       'KSh 3,725 - KSh 4,500', 'KSh 1,962', 'KSh 21,800', 'KSh 418',\n       'KSh 2,075', 'KSh 639', 'KSh 2,886', 'KSh 1,358', 'KSh 1,199',\n       'KSh 435', 'KSh 3,670', 'KSh 500 - KSh 1,400', 'KSh 1,552',\n       'KSh 5,874', 'KSh 2,577', 'KSh 789', 'KSh 1,000 - KSh 1,899',\n       'KSh 1,200 - KSh 2,400', 'KSh 952', 'KSh 3,300', 'KSh 40,000',\n       'KSh 521', 'KSh 14,995', 'KSh 23,500', 'KSh 1,496', 'KSh 7,500',\n       'KSh 1,161', 'KSh 599 - KSh 1,550', 'KSh 629 - KSh 689',\n       'KSh 1,157', 'KSh 1,363', 'KSh 1,333', 'KSh 949',\n       'KSh 1,646 - KSh 1,981', 'KSh 3,002', 'KSh 300 - KSh 399',\n       'KSh 1,380', 'KSh 774', 'KSh 6,936', 'KSh 1,300 - KSh 1,500',\n       'KSh 792', 'KSh 4,000 - KSh 4,300', 'KSh 32,000', 'KSh 1,520',\n       'KSh 5,000 - KSh 7,999', 'KSh 230', 'KSh 536', 'KSh 486',\n       'KSh 35,000', 'KSh 718', 'KSh 528', 'KSh 28,000', 'KSh 222',\n       'KSh 622', 'KSh 1,470', 'KSh 45,000', 'KSh 3,422', 'KSh 5,499',\n       'KSh 2,500 - KSh 2,990', 'KSh 260', 'KSh 552',\n       'KSh 550 - KSh 1,300', 'KSh 298', 'KSh 1,200 - KSh 1,799',\n       'KSh 1,000 - KSh 2,000', 'KSh 1,300 - KSh 1,499', 'KSh 3,997',\n       'KSh 4,899', 'KSh 8,500', 'KSh 579', 'KSh 428',\n       'KSh 2,500 - KSh 3,800', 'KSh 698', 'KSh 2,300 - KSh 4,000',\n       'KSh 2,016', 'KSh 1,541', 'KSh 246', 'KSh 1,500 - KSh 1,699',\n       'KSh 638', 'KSh 10,521', 'KSh 2,760', 'KSh 1,884', 'KSh 336',\n       'KSh 350 - KSh 1,500', 'KSh 479', 'KSh 2,500 - KSh 4,000',\n       'KSh 3,798', 'KSh 1,199 - KSh 1,999', 'KSh 664', 'KSh 1,383',\n       'KSh 1,630', 'KSh 3,758', 'KSh 3,998', 'KSh 17,999',\n       'KSh 3,680 - KSh 4,100', 'KSh 1,412', 'KSh 2,239', 'KSh 192',\n       'KSh 3,070', 'KSh 1,408', 'KSh 1,776', 'KSh 1,690', 'KSh 2,710',\n       'KSh 1,700 - KSh 1,799', 'KSh 500 - KSh 549',\n       'KSh 2,000 - KSh 14,000', 'KSh 23,340', 'KSh 3,950', 'KSh 494',\n       'KSh 721', 'KSh 650 - KSh 680', 'KSh 1,588', 'KSh 550 - KSh 3,200',\n       'KSh 2,398', 'KSh 648', 'KSh 63,999', 'KSh 9,600', 'KSh 481',\n       'KSh 600 - KSh 1,200', 'KSh 478', 'KSh 190', 'KSh 3,878',\n       'KSh 2,268', 'KSh 20,197', 'KSh 1,165', 'KSh 540',\n       'KSh 600 - KSh 6,500', 'KSh 330', 'KSh 317', 'KSh 2,114',\n       'KSh 904', 'KSh 530', 'KSh 45,599', 'KSh 1,650', 'KSh 306',\n       'KSh 284'], dtype=object)"
     },
     "execution_count": 334,
     "metadata": {},
     "output_type": "execute_result"
    }
   ],
   "source": [
    "products_df['old_price'].unique()"
   ],
   "metadata": {
    "collapsed": false,
    "ExecuteTime": {
     "end_time": "2024-02-19T18:17:11.931430110Z",
     "start_time": "2024-02-19T18:17:11.816111746Z"
    }
   },
   "id": "a53355520c2f30ae",
   "execution_count": 334
  },
  {
   "cell_type": "code",
   "outputs": [
    {
     "data": {
      "text/plain": "0    1,560\n1    1,460\n2    1,302\n3    1,040\n4    1,040\nName: old_price, dtype: object"
     },
     "execution_count": 335,
     "metadata": {},
     "output_type": "execute_result"
    }
   ],
   "source": [
    "# Remove currency name 'Ksh'\n",
    "products_df['old_price'] = products_df['old_price'].apply(lambda x: x.split(' ')[1] if x is not None else x)\n",
    "products_df['old_price'].head()"
   ],
   "metadata": {
    "collapsed": false,
    "ExecuteTime": {
     "end_time": "2024-02-19T18:17:11.969393633Z",
     "start_time": "2024-02-19T18:17:11.870948593Z"
    }
   },
   "id": "5a0109a5d43e344e",
   "execution_count": 335
  },
  {
   "cell_type": "code",
   "outputs": [
    {
     "data": {
      "text/plain": "0     1560\n1     1460\n2     1302\n3     1040\n4     1040\n5     1040\n6     5610\n7      780\n8     3840\n9    38000\nName: old_price, dtype: object"
     },
     "execution_count": 336,
     "metadata": {},
     "output_type": "execute_result"
    }
   ],
   "source": [
    "# Remove commas from values\n",
    "products_df['old_price'] = products_df['old_price'].apply(lambda x: x.replace(',','') if x is not None else x)\n",
    "products_df['old_price'].head(10)"
   ],
   "metadata": {
    "collapsed": false,
    "ExecuteTime": {
     "end_time": "2024-02-19T18:17:12.021861182Z",
     "start_time": "2024-02-19T18:17:11.963835233Z"
    }
   },
   "id": "1ff042daaa234273",
   "execution_count": 336
  },
  {
   "cell_type": "code",
   "outputs": [
    {
     "data": {
      "text/plain": "0     1560.0\n1     1460.0\n2     1302.0\n3     1040.0\n4     1040.0\n5     1040.0\n6     5610.0\n7      780.0\n8     3840.0\n9    38000.0\nName: old_price, dtype: float64"
     },
     "execution_count": 337,
     "metadata": {},
     "output_type": "execute_result"
    }
   ],
   "source": [
    "# Convert the string values into floats\n",
    "products_df['old_price'] = products_df['old_price'].apply(lambda x: float(x) if x is not None else x)\n",
    "products_df['old_price'].head(10)"
   ],
   "metadata": {
    "collapsed": false,
    "ExecuteTime": {
     "end_time": "2024-02-19T18:17:12.080516160Z",
     "start_time": "2024-02-19T18:17:12.023102403Z"
    }
   },
   "id": "c8d06329519bd37",
   "execution_count": 337
  },
  {
   "cell_type": "code",
   "outputs": [
    {
     "data": {
      "text/plain": "0        1560.0\n1        1460.0\n2        1302.0\n3        1040.0\n4        1040.0\n         ...   \n1995     1200.0\n1996      850.0\n1997     1520.0\n1998     2000.0\n1999    16000.0\nName: old_price, Length: 2000, dtype: float64"
     },
     "execution_count": 338,
     "metadata": {},
     "output_type": "execute_result"
    }
   ],
   "source": [
    "products_df['old_price']"
   ],
   "metadata": {
    "collapsed": false,
    "ExecuteTime": {
     "end_time": "2024-02-19T18:17:12.145795599Z",
     "start_time": "2024-02-19T18:17:12.081381249Z"
    }
   },
   "id": "5a42602924adc716",
   "execution_count": 338
  },
  {
   "cell_type": "code",
   "outputs": [
    {
     "data": {
      "text/plain": "numpy.float64"
     },
     "execution_count": 339,
     "metadata": {},
     "output_type": "execute_result"
    }
   ],
   "source": [
    "# Index 18 from above was null. So checking its type: \n",
    "type(products_df['old_price'][18])"
   ],
   "metadata": {
    "collapsed": false,
    "ExecuteTime": {
     "end_time": "2024-02-19T18:17:12.202757365Z",
     "start_time": "2024-02-19T18:17:12.146471488Z"
    }
   },
   "id": "c087a27309772dfc",
   "execution_count": 339
  },
  {
   "cell_type": "code",
   "outputs": [
    {
     "data": {
      "text/plain": "                                                 name  new_price  old_price  \\\n0   NIVEA Perfect & Radiant Even Tone Day And Nigh...      999.0     1560.0   \n1   NIVEA Radiant & Beauty Advanced Care Lotion Fo...      949.0     1460.0   \n2   NIVEA Nourishing Cocoa Body Lotion With Cocoa ...     1174.0     1302.0   \n3   NIVEA Pearl & Beauty Anti-Perspirant Rollon, 4...      728.0     1040.0   \n4   NIVEA MEN Deep Antibacterial Anti-Perspirant R...      728.0     1040.0   \n5   NIVEA Pearl & Beauty Black Pearl Fine Fragranc...      728.0     1040.0   \n6   NIVEA Perfect & Radiant Luminous630 Anti Dark ...     3647.0     5610.0   \n7   NIVEA Perfect & Radiant Even Tone Day Cream SP...      585.0      780.0   \n8   NIVEA Q10 Power Anti-Wrinkle Day Cream 50ml & ...     2496.0     3840.0   \n9   Epson EcoTank L3250 A4 WIRELESS Printer (All-i...    27999.0    38000.0   \n10                       Pembe Pembe Maize Meal – 5Kg      361.0      410.0   \n11     Garnier Vitamin C Booster Serum 30ml Twin Pack     2625.0     3500.0   \n12  Fashion 6Pcs Soft Cotton Checked Men's Boxers ...      618.0      688.0   \n13  Garnier Anti-Blemish Charcoal Serum With AHA +...     1400.0     1750.0   \n14           Garnier Even & Matte Dark Spot Corrector     1840.0     2300.0   \n15    2IN1 Wired Keyboard And Mouse Set Optical Mouse      799.0     1399.0   \n16  Garnier Even & Matte Vitamin C Protection Crea...     1020.0     1200.0   \n17  Garnier Even & Matte  Vitamin C Booster Serum ...      850.0        NaN   \n18  AILYONS FK-0301 Stainless Steel 1.8L Electric ...      729.0     1399.0   \n19  Vitron HTC4388FS - 43\" Smart  Android Frameles...    21359.0    23999.0   \n\n   discount        rating               votes  \n0       36%  4.5 out of 5  4.5 out of 5(2216)  \n1       35%  4.7 out of 5   4.7 out of 5(607)  \n2       10%  4.7 out of 5  4.7 out of 5(1113)  \n3       30%  4.6 out of 5   4.6 out of 5(829)  \n4       30%  4.6 out of 5   4.6 out of 5(619)  \n5       30%  4.7 out of 5   4.7 out of 5(219)  \n6       35%  4.4 out of 5   4.4 out of 5(350)  \n7       25%  4.4 out of 5   4.4 out of 5(560)  \n8       35%  4.6 out of 5   4.6 out of 5(413)  \n9       26%  4.5 out of 5    4.5 out of 5(26)  \n10      12%  4.4 out of 5  4.4 out of 5(1399)  \n11      25%  4.6 out of 5   4.6 out of 5(438)  \n12      10%  3.7 out of 5  3.7 out of 5(1385)  \n13      20%  4.3 out of 5  4.3 out of 5(1426)  \n14      20%    4 out of 5    4 out of 5(2716)  \n15      43%  4.4 out of 5    4.4 out of 5(10)  \n16      15%  4.4 out of 5   4.4 out of 5(961)  \n17     None  4.2 out of 5   4.2 out of 5(718)  \n18      48%  4.1 out of 5  4.1 out of 5(1613)  \n19      11%  4.2 out of 5   4.2 out of 5(304)  ",
      "text/html": "<div>\n<style scoped>\n    .dataframe tbody tr th:only-of-type {\n        vertical-align: middle;\n    }\n\n    .dataframe tbody tr th {\n        vertical-align: top;\n    }\n\n    .dataframe thead th {\n        text-align: right;\n    }\n</style>\n<table border=\"1\" class=\"dataframe\">\n  <thead>\n    <tr style=\"text-align: right;\">\n      <th></th>\n      <th>name</th>\n      <th>new_price</th>\n      <th>old_price</th>\n      <th>discount</th>\n      <th>rating</th>\n      <th>votes</th>\n    </tr>\n  </thead>\n  <tbody>\n    <tr>\n      <th>0</th>\n      <td>NIVEA Perfect &amp; Radiant Even Tone Day And Nigh...</td>\n      <td>999.0</td>\n      <td>1560.0</td>\n      <td>36%</td>\n      <td>4.5 out of 5</td>\n      <td>4.5 out of 5(2216)</td>\n    </tr>\n    <tr>\n      <th>1</th>\n      <td>NIVEA Radiant &amp; Beauty Advanced Care Lotion Fo...</td>\n      <td>949.0</td>\n      <td>1460.0</td>\n      <td>35%</td>\n      <td>4.7 out of 5</td>\n      <td>4.7 out of 5(607)</td>\n    </tr>\n    <tr>\n      <th>2</th>\n      <td>NIVEA Nourishing Cocoa Body Lotion With Cocoa ...</td>\n      <td>1174.0</td>\n      <td>1302.0</td>\n      <td>10%</td>\n      <td>4.7 out of 5</td>\n      <td>4.7 out of 5(1113)</td>\n    </tr>\n    <tr>\n      <th>3</th>\n      <td>NIVEA Pearl &amp; Beauty Anti-Perspirant Rollon, 4...</td>\n      <td>728.0</td>\n      <td>1040.0</td>\n      <td>30%</td>\n      <td>4.6 out of 5</td>\n      <td>4.6 out of 5(829)</td>\n    </tr>\n    <tr>\n      <th>4</th>\n      <td>NIVEA MEN Deep Antibacterial Anti-Perspirant R...</td>\n      <td>728.0</td>\n      <td>1040.0</td>\n      <td>30%</td>\n      <td>4.6 out of 5</td>\n      <td>4.6 out of 5(619)</td>\n    </tr>\n    <tr>\n      <th>5</th>\n      <td>NIVEA Pearl &amp; Beauty Black Pearl Fine Fragranc...</td>\n      <td>728.0</td>\n      <td>1040.0</td>\n      <td>30%</td>\n      <td>4.7 out of 5</td>\n      <td>4.7 out of 5(219)</td>\n    </tr>\n    <tr>\n      <th>6</th>\n      <td>NIVEA Perfect &amp; Radiant Luminous630 Anti Dark ...</td>\n      <td>3647.0</td>\n      <td>5610.0</td>\n      <td>35%</td>\n      <td>4.4 out of 5</td>\n      <td>4.4 out of 5(350)</td>\n    </tr>\n    <tr>\n      <th>7</th>\n      <td>NIVEA Perfect &amp; Radiant Even Tone Day Cream SP...</td>\n      <td>585.0</td>\n      <td>780.0</td>\n      <td>25%</td>\n      <td>4.4 out of 5</td>\n      <td>4.4 out of 5(560)</td>\n    </tr>\n    <tr>\n      <th>8</th>\n      <td>NIVEA Q10 Power Anti-Wrinkle Day Cream 50ml &amp; ...</td>\n      <td>2496.0</td>\n      <td>3840.0</td>\n      <td>35%</td>\n      <td>4.6 out of 5</td>\n      <td>4.6 out of 5(413)</td>\n    </tr>\n    <tr>\n      <th>9</th>\n      <td>Epson EcoTank L3250 A4 WIRELESS Printer (All-i...</td>\n      <td>27999.0</td>\n      <td>38000.0</td>\n      <td>26%</td>\n      <td>4.5 out of 5</td>\n      <td>4.5 out of 5(26)</td>\n    </tr>\n    <tr>\n      <th>10</th>\n      <td>Pembe Pembe Maize Meal – 5Kg</td>\n      <td>361.0</td>\n      <td>410.0</td>\n      <td>12%</td>\n      <td>4.4 out of 5</td>\n      <td>4.4 out of 5(1399)</td>\n    </tr>\n    <tr>\n      <th>11</th>\n      <td>Garnier Vitamin C Booster Serum 30ml Twin Pack</td>\n      <td>2625.0</td>\n      <td>3500.0</td>\n      <td>25%</td>\n      <td>4.6 out of 5</td>\n      <td>4.6 out of 5(438)</td>\n    </tr>\n    <tr>\n      <th>12</th>\n      <td>Fashion 6Pcs Soft Cotton Checked Men's Boxers ...</td>\n      <td>618.0</td>\n      <td>688.0</td>\n      <td>10%</td>\n      <td>3.7 out of 5</td>\n      <td>3.7 out of 5(1385)</td>\n    </tr>\n    <tr>\n      <th>13</th>\n      <td>Garnier Anti-Blemish Charcoal Serum With AHA +...</td>\n      <td>1400.0</td>\n      <td>1750.0</td>\n      <td>20%</td>\n      <td>4.3 out of 5</td>\n      <td>4.3 out of 5(1426)</td>\n    </tr>\n    <tr>\n      <th>14</th>\n      <td>Garnier Even &amp; Matte Dark Spot Corrector</td>\n      <td>1840.0</td>\n      <td>2300.0</td>\n      <td>20%</td>\n      <td>4 out of 5</td>\n      <td>4 out of 5(2716)</td>\n    </tr>\n    <tr>\n      <th>15</th>\n      <td>2IN1 Wired Keyboard And Mouse Set Optical Mouse</td>\n      <td>799.0</td>\n      <td>1399.0</td>\n      <td>43%</td>\n      <td>4.4 out of 5</td>\n      <td>4.4 out of 5(10)</td>\n    </tr>\n    <tr>\n      <th>16</th>\n      <td>Garnier Even &amp; Matte Vitamin C Protection Crea...</td>\n      <td>1020.0</td>\n      <td>1200.0</td>\n      <td>15%</td>\n      <td>4.4 out of 5</td>\n      <td>4.4 out of 5(961)</td>\n    </tr>\n    <tr>\n      <th>17</th>\n      <td>Garnier Even &amp; Matte  Vitamin C Booster Serum ...</td>\n      <td>850.0</td>\n      <td>NaN</td>\n      <td>None</td>\n      <td>4.2 out of 5</td>\n      <td>4.2 out of 5(718)</td>\n    </tr>\n    <tr>\n      <th>18</th>\n      <td>AILYONS FK-0301 Stainless Steel 1.8L Electric ...</td>\n      <td>729.0</td>\n      <td>1399.0</td>\n      <td>48%</td>\n      <td>4.1 out of 5</td>\n      <td>4.1 out of 5(1613)</td>\n    </tr>\n    <tr>\n      <th>19</th>\n      <td>Vitron HTC4388FS - 43\" Smart  Android Frameles...</td>\n      <td>21359.0</td>\n      <td>23999.0</td>\n      <td>11%</td>\n      <td>4.2 out of 5</td>\n      <td>4.2 out of 5(304)</td>\n    </tr>\n  </tbody>\n</table>\n</div>"
     },
     "execution_count": 340,
     "metadata": {},
     "output_type": "execute_result"
    }
   ],
   "source": [
    "products_df.head(20)"
   ],
   "metadata": {
    "collapsed": false,
    "ExecuteTime": {
     "end_time": "2024-02-19T18:17:12.273345688Z",
     "start_time": "2024-02-19T18:17:12.203738661Z"
    }
   },
   "id": "716461a82bff9ecc",
   "execution_count": 340
  },
  {
   "cell_type": "markdown",
   "source": [
    "### Cleaning 'discount' column"
   ],
   "metadata": {
    "collapsed": false
   },
   "id": "c63cd53e0523a410"
  },
  {
   "cell_type": "code",
   "outputs": [
    {
     "data": {
      "text/plain": "array(['36%', '35%', '10%', '30%', '25%', '26%', '12%', '20%', '43%',\n       '15%', None, '48%', '11%', '34%', '32%', '38%', '42%', '28%',\n       '33%', '31%', '5%', '16%', '37%', '27%', '24%', '49%', '39%',\n       '22%', '46%', '41%', '18%', '40%', '44%', '47%', '17%', '19%',\n       '14%', '8%', '29%', '50%', '13%', '4%', '1%', '45%', '55%', '21%',\n       '53%', '23%', '7%', '6%', '2%', '9%', '64%', '3%', '58%', '54%',\n       '51%', '67%', '80%', '52%'], dtype=object)"
     },
     "execution_count": 341,
     "metadata": {},
     "output_type": "execute_result"
    }
   ],
   "source": [
    "# Check unique values if any\n",
    "products_df['discount'].unique()"
   ],
   "metadata": {
    "collapsed": false,
    "ExecuteTime": {
     "end_time": "2024-02-19T18:17:12.334178284Z",
     "start_time": "2024-02-19T18:17:12.268116925Z"
    }
   },
   "id": "ec13b5b9215cdc2",
   "execution_count": 341
  },
  {
   "cell_type": "code",
   "outputs": [
    {
     "data": {
      "text/plain": "array(['36', '35', '10', '30', '25', '26', '12', '20', '43', '15', None,\n       '48', '11', '34', '32', '38', '42', '28', '33', '31', '5', '16',\n       '37', '27', '24', '49', '39', '22', '46', '41', '18', '40', '44',\n       '47', '17', '19', '14', '8', '29', '50', '13', '4', '1', '45',\n       '55', '21', '53', '23', '7', '6', '2', '9', '64', '3', '58', '54',\n       '51', '67', '80', '52'], dtype=object)"
     },
     "execution_count": 342,
     "metadata": {},
     "output_type": "execute_result"
    }
   ],
   "source": [
    "# Remove the percent sign\n",
    "products_df['discount'] = products_df['discount'].apply(lambda x: x.replace('%','') if x is not None else x)\n",
    "products_df['discount'].unique()"
   ],
   "metadata": {
    "collapsed": false,
    "ExecuteTime": {
     "end_time": "2024-02-19T18:17:12.464649501Z",
     "start_time": "2024-02-19T18:17:12.321948635Z"
    }
   },
   "id": "50d15c0d3acb2d34",
   "execution_count": 342
  },
  {
   "cell_type": "code",
   "outputs": [
    {
     "data": {
      "text/plain": "array([0.36, 0.35, 0.1 , 0.3 , 0.25, 0.26, 0.12, 0.2 , 0.43, 0.15,  nan,\n       0.48, 0.11, 0.34, 0.32, 0.38, 0.42, 0.28, 0.33, 0.31, 0.05, 0.16,\n       0.37, 0.27, 0.24, 0.49, 0.39, 0.22, 0.46, 0.41, 0.18, 0.4 , 0.44,\n       0.47, 0.17, 0.19, 0.14, 0.08, 0.29, 0.5 , 0.13, 0.04, 0.01, 0.45,\n       0.55, 0.21, 0.53, 0.23, 0.07, 0.06, 0.02, 0.09, 0.64, 0.03, 0.58,\n       0.54, 0.51, 0.67, 0.8 , 0.52])"
     },
     "execution_count": 343,
     "metadata": {},
     "output_type": "execute_result"
    }
   ],
   "source": [
    "# Convert values into float & divide by 100 to represent the percentages as decimal values\n",
    "products_df['discount'] = products_df['discount'].apply(lambda x: float(x)/100 if x is not None else x)\n",
    "products_df['discount'].unique()  # A numbers now floats and None replaced with NaN"
   ],
   "metadata": {
    "collapsed": false,
    "ExecuteTime": {
     "end_time": "2024-02-19T18:17:12.513415929Z",
     "start_time": "2024-02-19T18:17:12.431663518Z"
    }
   },
   "id": "2acf30f22baf5ded",
   "execution_count": 343
  },
  {
   "cell_type": "code",
   "outputs": [
    {
     "data": {
      "text/plain": "                                                name  new_price  old_price  \\\n0  NIVEA Perfect & Radiant Even Tone Day And Nigh...      999.0     1560.0   \n1  NIVEA Radiant & Beauty Advanced Care Lotion Fo...      949.0     1460.0   \n2  NIVEA Nourishing Cocoa Body Lotion With Cocoa ...     1174.0     1302.0   \n3  NIVEA Pearl & Beauty Anti-Perspirant Rollon, 4...      728.0     1040.0   \n4  NIVEA MEN Deep Antibacterial Anti-Perspirant R...      728.0     1040.0   \n\n   discount        rating               votes  \n0      0.36  4.5 out of 5  4.5 out of 5(2216)  \n1      0.35  4.7 out of 5   4.7 out of 5(607)  \n2      0.10  4.7 out of 5  4.7 out of 5(1113)  \n3      0.30  4.6 out of 5   4.6 out of 5(829)  \n4      0.30  4.6 out of 5   4.6 out of 5(619)  ",
      "text/html": "<div>\n<style scoped>\n    .dataframe tbody tr th:only-of-type {\n        vertical-align: middle;\n    }\n\n    .dataframe tbody tr th {\n        vertical-align: top;\n    }\n\n    .dataframe thead th {\n        text-align: right;\n    }\n</style>\n<table border=\"1\" class=\"dataframe\">\n  <thead>\n    <tr style=\"text-align: right;\">\n      <th></th>\n      <th>name</th>\n      <th>new_price</th>\n      <th>old_price</th>\n      <th>discount</th>\n      <th>rating</th>\n      <th>votes</th>\n    </tr>\n  </thead>\n  <tbody>\n    <tr>\n      <th>0</th>\n      <td>NIVEA Perfect &amp; Radiant Even Tone Day And Nigh...</td>\n      <td>999.0</td>\n      <td>1560.0</td>\n      <td>0.36</td>\n      <td>4.5 out of 5</td>\n      <td>4.5 out of 5(2216)</td>\n    </tr>\n    <tr>\n      <th>1</th>\n      <td>NIVEA Radiant &amp; Beauty Advanced Care Lotion Fo...</td>\n      <td>949.0</td>\n      <td>1460.0</td>\n      <td>0.35</td>\n      <td>4.7 out of 5</td>\n      <td>4.7 out of 5(607)</td>\n    </tr>\n    <tr>\n      <th>2</th>\n      <td>NIVEA Nourishing Cocoa Body Lotion With Cocoa ...</td>\n      <td>1174.0</td>\n      <td>1302.0</td>\n      <td>0.10</td>\n      <td>4.7 out of 5</td>\n      <td>4.7 out of 5(1113)</td>\n    </tr>\n    <tr>\n      <th>3</th>\n      <td>NIVEA Pearl &amp; Beauty Anti-Perspirant Rollon, 4...</td>\n      <td>728.0</td>\n      <td>1040.0</td>\n      <td>0.30</td>\n      <td>4.6 out of 5</td>\n      <td>4.6 out of 5(829)</td>\n    </tr>\n    <tr>\n      <th>4</th>\n      <td>NIVEA MEN Deep Antibacterial Anti-Perspirant R...</td>\n      <td>728.0</td>\n      <td>1040.0</td>\n      <td>0.30</td>\n      <td>4.6 out of 5</td>\n      <td>4.6 out of 5(619)</td>\n    </tr>\n  </tbody>\n</table>\n</div>"
     },
     "execution_count": 344,
     "metadata": {},
     "output_type": "execute_result"
    }
   ],
   "source": [
    "# Check head once more\n",
    "products_df.head()"
   ],
   "metadata": {
    "collapsed": false,
    "ExecuteTime": {
     "end_time": "2024-02-19T18:17:12.563705015Z",
     "start_time": "2024-02-19T18:17:12.492583151Z"
    }
   },
   "id": "4e83eb5e61f09d0d",
   "execution_count": 344
  },
  {
   "cell_type": "markdown",
   "source": [
    "### Cleaning the rating column"
   ],
   "metadata": {
    "collapsed": false
   },
   "id": "6535be48b259ac7f"
  },
  {
   "cell_type": "code",
   "outputs": [
    {
     "data": {
      "text/plain": "array(['4.5 out of 5', '4.7 out of 5', '4.6 out of 5', '4.4 out of 5',\n       '3.7 out of 5', '4.3 out of 5', '4 out of 5', '4.2 out of 5',\n       '4.1 out of 5', '3.8 out of 5', '3.6 out of 5', '3.9 out of 5',\n       '3.4 out of 5', '3.3 out of 5', '3 out of 5', '2 out of 5',\n       '4.9 out of 5', '5 out of 5', None, '3.2 out of 5', '3.5 out of 5',\n       '4.8 out of 5', '1 out of 5', '2.5 out of 5', '2.3 out of 5',\n       '1.7 out of 5', '1.3 out of 5', '2.8 out of 5', '3.1 out of 5',\n       '2.7 out of 5', '1.5 out of 5'], dtype=object)"
     },
     "execution_count": 345,
     "metadata": {},
     "output_type": "execute_result"
    }
   ],
   "source": [
    "# Check for unique values first\n",
    "products_df['rating'].unique()"
   ],
   "metadata": {
    "collapsed": false,
    "ExecuteTime": {
     "end_time": "2024-02-19T18:17:12.607769772Z",
     "start_time": "2024-02-19T18:17:12.545023265Z"
    }
   },
   "id": "d64b3fc3696c1017",
   "execution_count": 345
  },
  {
   "cell_type": "code",
   "outputs": [
    {
     "data": {
      "text/plain": "array(['4.5', '4.7', '4.6', '4.4', '3.7', '4.3', '4', '4.2', '4.1', '3.8',\n       '3.6', '3.9', '3.4', '3.3', '3', '2', '4.9', '5', None, '3.2',\n       '3.5', '4.8', '1', '2.5', '2.3', '1.7', '1.3', '2.8', '3.1', '2.7',\n       '1.5'], dtype=object)"
     },
     "execution_count": 346,
     "metadata": {},
     "output_type": "execute_result"
    }
   ],
   "source": [
    "# Split rating string values into 4 elements and select the first element unless its None(left as is)\n",
    "products_df['rating'] = products_df['rating'].apply(lambda x: x.split(' ')[0] if x is not None else x)\n",
    "products_df['rating'].unique()"
   ],
   "metadata": {
    "collapsed": false,
    "ExecuteTime": {
     "end_time": "2024-02-19T18:17:12.788441344Z",
     "start_time": "2024-02-19T18:17:12.598391043Z"
    }
   },
   "id": "eca5fc6ac9c05c5b",
   "execution_count": 346
  },
  {
   "cell_type": "code",
   "outputs": [
    {
     "data": {
      "text/plain": "numpy.float64"
     },
     "execution_count": 347,
     "metadata": {},
     "output_type": "execute_result"
    }
   ],
   "source": [
    "# Convert the values into float\n",
    "products_df['rating'] = products_df['rating'].apply(lambda x: float(x) if x is not None else x)\n",
    "type(products_df['rating'][1])"
   ],
   "metadata": {
    "collapsed": false,
    "ExecuteTime": {
     "end_time": "2024-02-19T18:17:12.803479797Z",
     "start_time": "2024-02-19T18:17:12.668946858Z"
    }
   },
   "id": "d1f3fd6eefd62dcf",
   "execution_count": 347
  },
  {
   "cell_type": "code",
   "outputs": [
    {
     "data": {
      "text/plain": "                                                 name  new_price  old_price  \\\n0   NIVEA Perfect & Radiant Even Tone Day And Nigh...      999.0     1560.0   \n1   NIVEA Radiant & Beauty Advanced Care Lotion Fo...      949.0     1460.0   \n2   NIVEA Nourishing Cocoa Body Lotion With Cocoa ...     1174.0     1302.0   \n3   NIVEA Pearl & Beauty Anti-Perspirant Rollon, 4...      728.0     1040.0   \n4   NIVEA MEN Deep Antibacterial Anti-Perspirant R...      728.0     1040.0   \n5   NIVEA Pearl & Beauty Black Pearl Fine Fragranc...      728.0     1040.0   \n6   NIVEA Perfect & Radiant Luminous630 Anti Dark ...     3647.0     5610.0   \n7   NIVEA Perfect & Radiant Even Tone Day Cream SP...      585.0      780.0   \n8   NIVEA Q10 Power Anti-Wrinkle Day Cream 50ml & ...     2496.0     3840.0   \n9   Epson EcoTank L3250 A4 WIRELESS Printer (All-i...    27999.0    38000.0   \n10                       Pembe Pembe Maize Meal – 5Kg      361.0      410.0   \n11     Garnier Vitamin C Booster Serum 30ml Twin Pack     2625.0     3500.0   \n12  Fashion 6Pcs Soft Cotton Checked Men's Boxers ...      618.0      688.0   \n13  Garnier Anti-Blemish Charcoal Serum With AHA +...     1400.0     1750.0   \n14           Garnier Even & Matte Dark Spot Corrector     1840.0     2300.0   \n15    2IN1 Wired Keyboard And Mouse Set Optical Mouse      799.0     1399.0   \n16  Garnier Even & Matte Vitamin C Protection Crea...     1020.0     1200.0   \n17  Garnier Even & Matte  Vitamin C Booster Serum ...      850.0        NaN   \n18  AILYONS FK-0301 Stainless Steel 1.8L Electric ...      729.0     1399.0   \n19  Vitron HTC4388FS - 43\" Smart  Android Frameles...    21359.0    23999.0   \n\n    discount  rating               votes  \n0       0.36     4.5  4.5 out of 5(2216)  \n1       0.35     4.7   4.7 out of 5(607)  \n2       0.10     4.7  4.7 out of 5(1113)  \n3       0.30     4.6   4.6 out of 5(829)  \n4       0.30     4.6   4.6 out of 5(619)  \n5       0.30     4.7   4.7 out of 5(219)  \n6       0.35     4.4   4.4 out of 5(350)  \n7       0.25     4.4   4.4 out of 5(560)  \n8       0.35     4.6   4.6 out of 5(413)  \n9       0.26     4.5    4.5 out of 5(26)  \n10      0.12     4.4  4.4 out of 5(1399)  \n11      0.25     4.6   4.6 out of 5(438)  \n12      0.10     3.7  3.7 out of 5(1385)  \n13      0.20     4.3  4.3 out of 5(1426)  \n14      0.20     4.0    4 out of 5(2716)  \n15      0.43     4.4    4.4 out of 5(10)  \n16      0.15     4.4   4.4 out of 5(961)  \n17       NaN     4.2   4.2 out of 5(718)  \n18      0.48     4.1  4.1 out of 5(1613)  \n19      0.11     4.2   4.2 out of 5(304)  ",
      "text/html": "<div>\n<style scoped>\n    .dataframe tbody tr th:only-of-type {\n        vertical-align: middle;\n    }\n\n    .dataframe tbody tr th {\n        vertical-align: top;\n    }\n\n    .dataframe thead th {\n        text-align: right;\n    }\n</style>\n<table border=\"1\" class=\"dataframe\">\n  <thead>\n    <tr style=\"text-align: right;\">\n      <th></th>\n      <th>name</th>\n      <th>new_price</th>\n      <th>old_price</th>\n      <th>discount</th>\n      <th>rating</th>\n      <th>votes</th>\n    </tr>\n  </thead>\n  <tbody>\n    <tr>\n      <th>0</th>\n      <td>NIVEA Perfect &amp; Radiant Even Tone Day And Nigh...</td>\n      <td>999.0</td>\n      <td>1560.0</td>\n      <td>0.36</td>\n      <td>4.5</td>\n      <td>4.5 out of 5(2216)</td>\n    </tr>\n    <tr>\n      <th>1</th>\n      <td>NIVEA Radiant &amp; Beauty Advanced Care Lotion Fo...</td>\n      <td>949.0</td>\n      <td>1460.0</td>\n      <td>0.35</td>\n      <td>4.7</td>\n      <td>4.7 out of 5(607)</td>\n    </tr>\n    <tr>\n      <th>2</th>\n      <td>NIVEA Nourishing Cocoa Body Lotion With Cocoa ...</td>\n      <td>1174.0</td>\n      <td>1302.0</td>\n      <td>0.10</td>\n      <td>4.7</td>\n      <td>4.7 out of 5(1113)</td>\n    </tr>\n    <tr>\n      <th>3</th>\n      <td>NIVEA Pearl &amp; Beauty Anti-Perspirant Rollon, 4...</td>\n      <td>728.0</td>\n      <td>1040.0</td>\n      <td>0.30</td>\n      <td>4.6</td>\n      <td>4.6 out of 5(829)</td>\n    </tr>\n    <tr>\n      <th>4</th>\n      <td>NIVEA MEN Deep Antibacterial Anti-Perspirant R...</td>\n      <td>728.0</td>\n      <td>1040.0</td>\n      <td>0.30</td>\n      <td>4.6</td>\n      <td>4.6 out of 5(619)</td>\n    </tr>\n    <tr>\n      <th>5</th>\n      <td>NIVEA Pearl &amp; Beauty Black Pearl Fine Fragranc...</td>\n      <td>728.0</td>\n      <td>1040.0</td>\n      <td>0.30</td>\n      <td>4.7</td>\n      <td>4.7 out of 5(219)</td>\n    </tr>\n    <tr>\n      <th>6</th>\n      <td>NIVEA Perfect &amp; Radiant Luminous630 Anti Dark ...</td>\n      <td>3647.0</td>\n      <td>5610.0</td>\n      <td>0.35</td>\n      <td>4.4</td>\n      <td>4.4 out of 5(350)</td>\n    </tr>\n    <tr>\n      <th>7</th>\n      <td>NIVEA Perfect &amp; Radiant Even Tone Day Cream SP...</td>\n      <td>585.0</td>\n      <td>780.0</td>\n      <td>0.25</td>\n      <td>4.4</td>\n      <td>4.4 out of 5(560)</td>\n    </tr>\n    <tr>\n      <th>8</th>\n      <td>NIVEA Q10 Power Anti-Wrinkle Day Cream 50ml &amp; ...</td>\n      <td>2496.0</td>\n      <td>3840.0</td>\n      <td>0.35</td>\n      <td>4.6</td>\n      <td>4.6 out of 5(413)</td>\n    </tr>\n    <tr>\n      <th>9</th>\n      <td>Epson EcoTank L3250 A4 WIRELESS Printer (All-i...</td>\n      <td>27999.0</td>\n      <td>38000.0</td>\n      <td>0.26</td>\n      <td>4.5</td>\n      <td>4.5 out of 5(26)</td>\n    </tr>\n    <tr>\n      <th>10</th>\n      <td>Pembe Pembe Maize Meal – 5Kg</td>\n      <td>361.0</td>\n      <td>410.0</td>\n      <td>0.12</td>\n      <td>4.4</td>\n      <td>4.4 out of 5(1399)</td>\n    </tr>\n    <tr>\n      <th>11</th>\n      <td>Garnier Vitamin C Booster Serum 30ml Twin Pack</td>\n      <td>2625.0</td>\n      <td>3500.0</td>\n      <td>0.25</td>\n      <td>4.6</td>\n      <td>4.6 out of 5(438)</td>\n    </tr>\n    <tr>\n      <th>12</th>\n      <td>Fashion 6Pcs Soft Cotton Checked Men's Boxers ...</td>\n      <td>618.0</td>\n      <td>688.0</td>\n      <td>0.10</td>\n      <td>3.7</td>\n      <td>3.7 out of 5(1385)</td>\n    </tr>\n    <tr>\n      <th>13</th>\n      <td>Garnier Anti-Blemish Charcoal Serum With AHA +...</td>\n      <td>1400.0</td>\n      <td>1750.0</td>\n      <td>0.20</td>\n      <td>4.3</td>\n      <td>4.3 out of 5(1426)</td>\n    </tr>\n    <tr>\n      <th>14</th>\n      <td>Garnier Even &amp; Matte Dark Spot Corrector</td>\n      <td>1840.0</td>\n      <td>2300.0</td>\n      <td>0.20</td>\n      <td>4.0</td>\n      <td>4 out of 5(2716)</td>\n    </tr>\n    <tr>\n      <th>15</th>\n      <td>2IN1 Wired Keyboard And Mouse Set Optical Mouse</td>\n      <td>799.0</td>\n      <td>1399.0</td>\n      <td>0.43</td>\n      <td>4.4</td>\n      <td>4.4 out of 5(10)</td>\n    </tr>\n    <tr>\n      <th>16</th>\n      <td>Garnier Even &amp; Matte Vitamin C Protection Crea...</td>\n      <td>1020.0</td>\n      <td>1200.0</td>\n      <td>0.15</td>\n      <td>4.4</td>\n      <td>4.4 out of 5(961)</td>\n    </tr>\n    <tr>\n      <th>17</th>\n      <td>Garnier Even &amp; Matte  Vitamin C Booster Serum ...</td>\n      <td>850.0</td>\n      <td>NaN</td>\n      <td>NaN</td>\n      <td>4.2</td>\n      <td>4.2 out of 5(718)</td>\n    </tr>\n    <tr>\n      <th>18</th>\n      <td>AILYONS FK-0301 Stainless Steel 1.8L Electric ...</td>\n      <td>729.0</td>\n      <td>1399.0</td>\n      <td>0.48</td>\n      <td>4.1</td>\n      <td>4.1 out of 5(1613)</td>\n    </tr>\n    <tr>\n      <th>19</th>\n      <td>Vitron HTC4388FS - 43\" Smart  Android Frameles...</td>\n      <td>21359.0</td>\n      <td>23999.0</td>\n      <td>0.11</td>\n      <td>4.2</td>\n      <td>4.2 out of 5(304)</td>\n    </tr>\n  </tbody>\n</table>\n</div>"
     },
     "execution_count": 348,
     "metadata": {},
     "output_type": "execute_result"
    }
   ],
   "source": [
    "products_df.head(20)"
   ],
   "metadata": {
    "collapsed": false,
    "ExecuteTime": {
     "end_time": "2024-02-19T18:17:12.861933840Z",
     "start_time": "2024-02-19T18:17:12.789314340Z"
    }
   },
   "id": "6f35b7c6bec53f92",
   "execution_count": 348
  },
  {
   "cell_type": "markdown",
   "source": [
    "### Cleaning the 'votes' column"
   ],
   "metadata": {
    "collapsed": false
   },
   "id": "a4d6415ea873b0d1"
  },
  {
   "cell_type": "code",
   "outputs": [
    {
     "data": {
      "text/plain": "array(['4.5 out of 5(2216)', '4.7 out of 5(607)', '4.7 out of 5(1113)',\n       '4.6 out of 5(829)', '4.6 out of 5(619)', '4.7 out of 5(219)',\n       '4.4 out of 5(350)', '4.4 out of 5(560)', '4.6 out of 5(413)',\n       '4.5 out of 5(26)', '4.4 out of 5(1399)', '4.6 out of 5(438)',\n       '3.7 out of 5(1385)', '4.3 out of 5(1426)', '4 out of 5(2716)',\n       '4.4 out of 5(10)', '4.4 out of 5(961)', '4.2 out of 5(718)',\n       '4.1 out of 5(1613)', '4.2 out of 5(304)', '4.4 out of 5(3741)',\n       '4 out of 5(599)', '4.5 out of 5(471)', '4.4 out of 5(2012)',\n       '4.6 out of 5(240)', '4 out of 5(878)', '4.7 out of 5(446)',\n       '4 out of 5(2218)', '4.5 out of 5(1527)', '4.2 out of 5(672)',\n       '4.2 out of 5(208)', '4.2 out of 5(633)', '4.2 out of 5(380)',\n       '4.6 out of 5(981)', '4.5 out of 5(1067)', '4.6 out of 5(133)',\n       '4.4 out of 5(216)', '4.4 out of 5(4704)', '4.4 out of 5(1215)',\n       '4.5 out of 5(227)', '4.5 out of 5(49)', '4.5 out of 5(445)',\n       '4.2 out of 5(75)', '4.7 out of 5(124)', '4.6 out of 5(99)',\n       '4.4 out of 5(442)', '4.3 out of 5(87)', '4.5 out of 5(135)',\n       '3.8 out of 5(459)', '3.6 out of 5(1427)', '4.3 out of 5(213)',\n       '4.5 out of 5(774)', '3.9 out of 5(1104)', '4.3 out of 5(70)',\n       '4.6 out of 5(348)', '4.4 out of 5(731)', '3.9 out of 5(1495)',\n       '4.3 out of 5(350)', '4.6 out of 5(396)', '4 out of 5(1119)',\n       '4.2 out of 5(320)', '4.4 out of 5(1888)', '4.3 out of 5(675)',\n       '3.9 out of 5(85)', '4.2 out of 5(180)', '4.6 out of 5(652)',\n       '4.6 out of 5(58)', '3.7 out of 5(273)', '4.6 out of 5(1502)',\n       '4.6 out of 5(392)', '4.3 out of 5(63)', '4.4 out of 5(62)',\n       '4.4 out of 5(170)', '3.6 out of 5(149)', '4.1 out of 5(476)',\n       '3.7 out of 5(2011)', '4.3 out of 5(153)', '3.4 out of 5(70)',\n       '3.9 out of 5(541)', '4.5 out of 5(491)', '4.3 out of 5(840)',\n       '4.5 out of 5(98)', '4.3 out of 5(563)', '4.1 out of 5(444)',\n       '3.4 out of 5(1129)', '4.3 out of 5(462)', '4.3 out of 5(56)',\n       '3.8 out of 5(1552)', '3.9 out of 5(170)', '4.4 out of 5(716)',\n       '4.1 out of 5(214)', '4.5 out of 5(132)', '4.1 out of 5(2328)',\n       '4.5 out of 5(152)', '4.1 out of 5(51)', '4 out of 5(162)',\n       '4 out of 5(496)', '3.8 out of 5(262)', '4.2 out of 5(280)',\n       '3.3 out of 5(236)', '4.3 out of 5(540)', '4.2 out of 5(360)',\n       '4.2 out of 5(546)', '4.5 out of 5(1947)', '4.5 out of 5(634)',\n       '4.1 out of 5(207)', '4.6 out of 5(146)', '3.9 out of 5(241)',\n       '4.4 out of 5(105)', '4.6 out of 5(43)', '4.5 out of 5(174)',\n       '4 out of 5(470)', '4.2 out of 5(73)', '4 out of 5(64)',\n       '4.4 out of 5(47)', '4.2 out of 5(66)', '4.2 out of 5(64)',\n       '4.6 out of 5(1264)', '3.9 out of 5(1757)', '4.2 out of 5(435)',\n       '4.3 out of 5(94)', '4.5 out of 5(779)', '3.9 out of 5(131)',\n       '4.6 out of 5(335)', '4.7 out of 5(42)', '4.7 out of 5(651)',\n       '3.6 out of 5(172)', '4.6 out of 5(159)', '4.2 out of 5(87)',\n       '4.2 out of 5(55)', '4.2 out of 5(152)', '4.4 out of 5(160)',\n       '3.9 out of 5(39)', '4.4 out of 5(779)', '4.6 out of 5(69)',\n       '4.5 out of 5(722)', '3.6 out of 5(33)', '3.9 out of 5(881)',\n       '3.9 out of 5(1579)', '4.3 out of 5(788)', '3.8 out of 5(103)',\n       '4.4 out of 5(959)', '4.4 out of 5(166)', '4 out of 5(143)',\n       '4.1 out of 5(420)', '3.7 out of 5(398)', '3.9 out of 5(1356)',\n       '4.1 out of 5(804)', '4.2 out of 5(57)', '4.2 out of 5(91)',\n       '4.7 out of 5(67)', '4.2 out of 5(764)', '4.3 out of 5(132)',\n       '3.4 out of 5(177)', '3.6 out of 5(91)', '4.4 out of 5(232)',\n       '3.9 out of 5(1982)', '4.6 out of 5(17)', '4.3 out of 5(105)',\n       '3 out of 5(2)', '4.7 out of 5(3)', '2 out of 5(1)',\n       '4.2 out of 5(37)', '4.3 out of 5(7)', '4.7 out of 5(6)',\n       '4.9 out of 5(7)', '3 out of 5(1)', '4.4 out of 5(37)',\n       '4.1 out of 5(89)', '4.5 out of 5(6)', '4.3 out of 5(15)',\n       '4.2 out of 5(28)', '4.6 out of 5(10)', '4.4 out of 5(18)',\n       '4.1 out of 5(18)', '3.7 out of 5(9)', '5 out of 5(4)',\n       '4.6 out of 5(26)', '4.6 out of 5(8)', '4.6 out of 5(9)',\n       '3.9 out of 5(7)', '4.1 out of 5(12)', None, '4.4 out of 5(11)',\n       '4.3 out of 5(26)', '4.1 out of 5(38)', '3.7 out of 5(12)',\n       '4 out of 5(4)', '3.7 out of 5(7)', '4.3 out of 5(32)',\n       '4.1 out of 5(64)', '4.6 out of 5(15)', '4.6 out of 5(62)',\n       '3.3 out of 5(20)', '5 out of 5(3)', '3.2 out of 5(5)',\n       '4.5 out of 5(2)', '4 out of 5(5)', '4.9 out of 5(12)',\n       '4.2 out of 5(139)', '4.1 out of 5(31)', '3.5 out of 5(51)',\n       '3.3 out of 5(12)', '3.3 out of 5(3)', '4.8 out of 5(25)',\n       '5 out of 5(7)', '4 out of 5(24)', '4.3 out of 5(44)',\n       '1 out of 5(1)', '4.6 out of 5(14)', '3.9 out of 5(24)',\n       '4 out of 5(27)', '3.8 out of 5(8)', '4.2 out of 5(79)',\n       '4.7 out of 5(7)', '3.9 out of 5(11)', '4.4 out of 5(19)',\n       '4 out of 5(2)', '4.3 out of 5(13)', '4.2 out of 5(17)',\n       '4.1 out of 5(9)', '4.1 out of 5(10)', '3.9 out of 5(18)',\n       '2.5 out of 5(2)', '4.1 out of 5(36)', '3.5 out of 5(57)',\n       '4.7 out of 5(29)', '4.3 out of 5(29)', '3.9 out of 5(21)',\n       '4.2 out of 5(106)', '4 out of 5(126)', '4.4 out of 5(21)',\n       '4.2 out of 5(33)', '3.9 out of 5(12)', '4.1 out of 5(375)',\n       '4 out of 5(1)', '5 out of 5(5)', '4.3 out of 5(20)',\n       '3.8 out of 5(4)', '3.7 out of 5(3)', '5 out of 5(11)',\n       '4.6 out of 5(35)', '5 out of 5(1)', '3.7 out of 5(15)',\n       '3.3 out of 5(7)', '4.4 out of 5(16)', '4.2 out of 5(18)',\n       '4.2 out of 5(11)', '4.3 out of 5(3)', '3.9 out of 5(59)',\n       '5 out of 5(2)', '4.8 out of 5(20)', '4.3 out of 5(19)',\n       '4.5 out of 5(35)', '4.1 out of 5(15)', '3.8 out of 5(28)',\n       '2.3 out of 5(4)', '4.3 out of 5(31)', '3.8 out of 5(17)',\n       '4 out of 5(3)', '4.4 out of 5(8)', '3.4 out of 5(14)',\n       '4.6 out of 5(21)', '3.8 out of 5(13)', '3.9 out of 5(34)',\n       '4.5 out of 5(28)', '4.2 out of 5(26)', '4.2 out of 5(32)',\n       '3.6 out of 5(5)', '4.9 out of 5(8)', '4 out of 5(6)',\n       '4.7 out of 5(13)', '4.1 out of 5(11)', '3.9 out of 5(301)',\n       '4.4 out of 5(98)', '3.8 out of 5(24)', '3.4 out of 5(210)',\n       '4.4 out of 5(7)', '3.6 out of 5(23)', '4 out of 5(11)',\n       '4.2 out of 5(47)', '4.8 out of 5(13)', '1.7 out of 5(3)',\n       '4.4 out of 5(5)', '4.9 out of 5(14)', '4.5 out of 5(4)',\n       '4.2 out of 5(53)', '3.9 out of 5(23)', '4.9 out of 5(9)',\n       '3.5 out of 5(2)', '4.8 out of 5(4)', '3 out of 5(3)',\n       '3.5 out of 5(11)', '4.3 out of 5(4)', '4.4 out of 5(30)',\n       '3.7 out of 5(11)', '4.4 out of 5(17)', '4.4 out of 5(31)',\n       '4.6 out of 5(18)', '4.2 out of 5(108)', '4.4 out of 5(445)',\n       '4.2 out of 5(132)', '4.2 out of 5(94)', '3.7 out of 5(20)',\n       '4.7 out of 5(36)', '3.7 out of 5(35)', '4.6 out of 5(39)',\n       '4.2 out of 5(6)', '4.3 out of 5(33)', '4.7 out of 5(11)',\n       '4.6 out of 5(5)', '4.5 out of 5(29)', '4 out of 5(49)',\n       '3.9 out of 5(22)', '4.3 out of 5(75)', '4.2 out of 5(13)',\n       '3.7 out of 5(233)', '4.2 out of 5(68)', '3.5 out of 5(94)',\n       '4.2 out of 5(52)', '4.5 out of 5(13)', '4.1 out of 5(42)',\n       '4.6 out of 5(72)', '4.4 out of 5(116)', '4.5 out of 5(34)',\n       '4.5 out of 5(37)', '3.5 out of 5(13)', '3.9 out of 5(116)',\n       '3.7 out of 5(1555)', '4.1 out of 5(99)', '3.8 out of 5(353)',\n       '4.2 out of 5(12)', '4.2 out of 5(15)', '4 out of 5(31)',\n       '4 out of 5(28)', '4.2 out of 5(159)', '4.3 out of 5(55)',\n       '3.9 out of 5(57)', '4.3 out of 5(163)', '4.6 out of 5(67)',\n       '4.2 out of 5(70)', '4.3 out of 5(23)', '4.7 out of 5(17)',\n       '4.3 out of 5(24)', '2.3 out of 5(3)', '4.2 out of 5(84)',\n       '3.6 out of 5(13)', '4.5 out of 5(31)', '4.2 out of 5(86)',\n       '4.1 out of 5(30)', '3.3 out of 5(88)', '4.3 out of 5(35)',\n       '4.1 out of 5(76)', '4 out of 5(59)', '4.1 out of 5(17)',\n       '4 out of 5(41)', '3.8 out of 5(33)', '4.5 out of 5(8)',\n       '3.5 out of 5(12)', '3.9 out of 5(26)', '4.1 out of 5(315)',\n       '4 out of 5(12)', '3.3 out of 5(18)', '4.2 out of 5(575)',\n       '3.6 out of 5(54)', '3.7 out of 5(196)', '3.8 out of 5(11)',\n       '4.8 out of 5(21)', '4.1 out of 5(7)', '3.8 out of 5(328)',\n       '4.4 out of 5(181)', '3 out of 5(61)', '3.6 out of 5(108)',\n       '4.1 out of 5(75)', '4.2 out of 5(215)', '3.7 out of 5(28)',\n       '4.7 out of 5(24)', '3.3 out of 5(56)', '3.8 out of 5(41)',\n       '4 out of 5(66)', '3.9 out of 5(395)', '3.9 out of 5(14)',\n       '4.4 out of 5(41)', '4.6 out of 5(44)', '4.3 out of 5(146)',\n       '4.3 out of 5(64)', '4.5 out of 5(82)', '3.3 out of 5(13)',\n       '4.2 out of 5(27)', '4.2 out of 5(353)', '3.8 out of 5(9)',\n       '4.3 out of 5(14)', '4.7 out of 5(47)', '4.6 out of 5(16)',\n       '4.4 out of 5(91)', '4.5 out of 5(33)', '4 out of 5(123)',\n       '3.8 out of 5(19)', '4.1 out of 5(149)', '4.8 out of 5(10)',\n       '3.6 out of 5(11)', '3.6 out of 5(29)', '3.8 out of 5(16)',\n       '4.4 out of 5(46)', '3.9 out of 5(40)', '4.5 out of 5(20)',\n       '3.6 out of 5(17)', '3.7 out of 5(62)', '4.2 out of 5(911)',\n       '4 out of 5(34)', '4.5 out of 5(186)', '4.2 out of 5(61)',\n       '4.3 out of 5(28)', '3.9 out of 5(10)', '4.4 out of 5(39)',\n       '4.1 out of 5(49)', '3.4 out of 5(12)', '4.4 out of 5(27)',\n       '3.9 out of 5(8)', '4.5 out of 5(92)', '3.4 out of 5(8)',\n       '4 out of 5(10)', '4.6 out of 5(47)', '4.2 out of 5(19)',\n       '1.3 out of 5(3)', '2 out of 5(4)', '4.6 out of 5(22)',\n       '4 out of 5(9)', '4.8 out of 5(6)', '2.8 out of 5(4)',\n       '4.5 out of 5(3383)', '4.2 out of 5(74)', '3.6 out of 5(35)',\n       '4.6 out of 5(290)', '4.2 out of 5(45)', '4.9 out of 5(20)',\n       '4.1 out of 5(122)', '4.1 out of 5(28)', '4.4 out of 5(65)',\n       '4.1 out of 5(20)', '4.3 out of 5(30)', '3.6 out of 5(39)',\n       '4.3 out of 5(66)', '4.4 out of 5(43)', '4.2 out of 5(76)',\n       '4.2 out of 5(107)', '3.4 out of 5(138)', '3.8 out of 5(18)',\n       '3.7 out of 5(40)', '4.7 out of 5(48)', '3.9 out of 5(84)',\n       '4.1 out of 5(57)', '4.5 out of 5(114)', '4 out of 5(85)',\n       '4.3 out of 5(50)', '4 out of 5(101)', '4 out of 5(58)',\n       '4.3 out of 5(84)', '4.2 out of 5(42)', '3.8 out of 5(6)',\n       '3.8 out of 5(5)', '4.1 out of 5(32)', '3.7 out of 5(22)',\n       '2 out of 5(2)', '4 out of 5(7)', '3.7 out of 5(25)',\n       '4.5 out of 5(18)', '3.6 out of 5(8)', '4.5 out of 5(25)',\n       '4.2 out of 5(5)', '4.1 out of 5(22)', '3.7 out of 5(6)',\n       '3.1 out of 5(12)', '4.4 out of 5(28)', '4.2 out of 5(29)',\n       '4.1 out of 5(166)', '4.2 out of 5(93)', '3.4 out of 5(7)',\n       '3.3 out of 5(4)', '3.7 out of 5(13)', '4.8 out of 5(23)',\n       '4.6 out of 5(448)', '4.4 out of 5(86)', '4.3 out of 5(6)',\n       '4.2 out of 5(9)', '4.4 out of 5(57)', '2.7 out of 5(3)',\n       '4.4 out of 5(60)', '4.8 out of 5(5)', '3.5 out of 5(39)',\n       '4 out of 5(8)', '1 out of 5(2)', '3.9 out of 5(16)',\n       '4 out of 5(16)', '4.1 out of 5(8)', '4.4 out of 5(14)',\n       '4.2 out of 5(20)', '3.4 out of 5(5)', '4.6 out of 5(57)',\n       '4.7 out of 5(16)', '4.3 out of 5(40)', '5 out of 5(10)',\n       '4.8 out of 5(16)', '4.1 out of 5(25)', '3.3 out of 5(6)',\n       '3.5 out of 5(80)', '4 out of 5(149)', '4.5 out of 5(15)',\n       '3.5 out of 5(26)', '4.4 out of 5(144)', '4.3 out of 5(37)',\n       '4.3 out of 5(189)', '4.1 out of 5(94)', '3.9 out of 5(29)',\n       '4.2 out of 5(350)', '4.4 out of 5(25)', '5 out of 5(6)',\n       '4.2 out of 5(22)', '3.6 out of 5(14)', '4.8 out of 5(24)',\n       '4.1 out of 5(464)', '4.4 out of 5(67)', '3.3 out of 5(50)',\n       '3.5 out of 5(4)', '4.3 out of 5(46)', '4.3 out of 5(34)',\n       '3.9 out of 5(46)', '4.6 out of 5(32)', '3.1 out of 5(32)',\n       '4.4 out of 5(187)', '3.9 out of 5(38)', '3.5 out of 5(32)',\n       '4 out of 5(137)', '4 out of 5(21)', '4.4 out of 5(285)',\n       '3.2 out of 5(22)', '4.2 out of 5(10)', '4.5 out of 5(10)',\n       '3.9 out of 5(86)', '4.8 out of 5(26)', '4.6 out of 5(7)',\n       '4.1 out of 5(13)', '4.8 out of 5(9)', '3.5 out of 5(8)',\n       '3.1 out of 5(11)', '3.1 out of 5(8)', '4.3 out of 5(10)',\n       '4.1 out of 5(150)', '3.4 out of 5(17)', '4.4 out of 5(9)',\n       '4.9 out of 5(17)', '3.7 out of 5(32)', '4.8 out of 5(8)',\n       '3.7 out of 5(56)', '4.2 out of 5(14)', '3.1 out of 5(7)',\n       '4.1 out of 5(37)', '4.5 out of 5(19)', '3.5 out of 5(6)',\n       '4.5 out of 5(57)', '4.3 out of 5(191)', '4.7 out of 5(20)',\n       '4.9 out of 5(16)', '4.6 out of 5(11)', '4.8 out of 5(75)',\n       '3.5 out of 5(24)', '4.4 out of 5(24)', '4.1 out of 5(16)',\n       '4.8 out of 5(35)', '4.5 out of 5(303)', '3.3 out of 5(15)',\n       '4.3 out of 5(16)', '3.3 out of 5(8)', '4.1 out of 5(48)',\n       '3.6 out of 5(15)', '4.6 out of 5(28)', '4.5 out of 5(63)',\n       '4.4 out of 5(73)', '4 out of 5(68)', '3.9 out of 5(30)',\n       '4.1 out of 5(82)', '4.7 out of 5(10)', '4 out of 5(14)',\n       '4.4 out of 5(36)', '4.4 out of 5(52)', '4.2 out of 5(16)',\n       '3.8 out of 5(14)', '4.7 out of 5(15)', '3.6 out of 5(9)',\n       '4.8 out of 5(14)', '4.5 out of 5(16)', '4.3 out of 5(12)',\n       '3.6 out of 5(12)', '3.5 out of 5(234)', '4.8 out of 5(33)',\n       '4 out of 5(26)', '3.8 out of 5(25)', '4.5 out of 5(11)',\n       '4.5 out of 5(59)', '4.5 out of 5(216)', '4.1 out of 5(21)',\n       '4.5 out of 5(22)', '4.4 out of 5(13)', '4.6 out of 5(23)',\n       '3.4 out of 5(9)', '3.8 out of 5(22)', '4.5 out of 5(75)',\n       '4.5 out of 5(79)', '4.4 out of 5(186)', '4.8 out of 5(17)',\n       '4.1 out of 5(78)', '3.2 out of 5(6)', '4.5 out of 5(24)',\n       '4.3 out of 5(36)', '4.4 out of 5(20)', '4.4 out of 5(79)',\n       '3.9 out of 5(17)', '5 out of 5(8)', '4.5 out of 5(69)',\n       '4.3 out of 5(92)', '4.5 out of 5(90)', '4.1 out of 5(52)',\n       '4.1 out of 5(153)', '1.5 out of 5(4)', '4.1 out of 5(71)',\n       '3.4 out of 5(16)', '4.4 out of 5(96)', '3.8 out of 5(10)',\n       '4.2 out of 5(161)', '4.2 out of 5(153)', '4.6 out of 5(400)',\n       '3.8 out of 5(23)', '4.6 out of 5(25)', '3.3 out of 5(10)',\n       '3.9 out of 5(62)', '3.5 out of 5(15)', '4.6 out of 5(107)',\n       '4.5 out of 5(62)', '4.1 out of 5(61)', '3.8 out of 5(15)',\n       '4.2 out of 5(144)', '3.4 out of 5(18)', '4.7 out of 5(108)',\n       '3.5 out of 5(16)', '4.3 out of 5(49)', '4.5 out of 5(226)',\n       '4.4 out of 5(58)', '4.5 out of 5(195)', '4.6 out of 5(38)',\n       '4.5 out of 5(14)', '4.4 out of 5(242)', '4.3 out of 5(62)',\n       '4.4 out of 5(292)', '3.9 out of 5(536)', '4.3 out of 5(129)',\n       '4.7 out of 5(26)', '3.4 out of 5(221)', '4.5 out of 5(65)',\n       '4.2 out of 5(50)', '4.1 out of 5(24)', '3.3 out of 5(53)',\n       '4.3 out of 5(88)', '3.8 out of 5(12)', '4.6 out of 5(20)',\n       '4.1 out of 5(128)', '4.5 out of 5(93)', '3.1 out of 5(10)',\n       '4.4 out of 5(533)', '4.1 out of 5(35)', '3.9 out of 5(58)',\n       '4.9 out of 5(34)', '3.9 out of 5(406)', '3.8 out of 5(37)',\n       '4.2 out of 5(44)', '4.4 out of 5(38)', '4.4 out of 5(45)',\n       '4.1 out of 5(23)', '4.5 out of 5(107)', '4 out of 5(32)',\n       '4.1 out of 5(109)', '3.7 out of 5(23)', '3 out of 5(4)',\n       '4.8 out of 5(32)', '3.7 out of 5(21)', '3.3 out of 5(31)',\n       '3.5 out of 5(35)', '4.2 out of 5(24)', '3.5 out of 5(10)',\n       '4.3 out of 5(8)', '4 out of 5(40)', '4.1 out of 5(43)',\n       '4.6 out of 5(101)', '4.2 out of 5(25)', '4.2 out of 5(21)',\n       '3.2 out of 5(9)', '3.8 out of 5(21)', '4.3 out of 5(104)',\n       '3.9 out of 5(51)', '4.4 out of 5(32)', '3.3 out of 5(180)',\n       '3.9 out of 5(189)', '4.7 out of 5(30)', '3.4 out of 5(30)',\n       '4.8 out of 5(18)', '4.4 out of 5(135)', '3.8 out of 5(877)',\n       '4.1 out of 5(33)', '3.4 out of 5(27)', '3.7 out of 5(118)',\n       '4.3 out of 5(137)', '4.5 out of 5(61)', '4.2 out of 5(228)',\n       '4.1 out of 5(473)', '4.1 out of 5(54)', '2.5 out of 5(4)',\n       '3.7 out of 5(19)', '3.9 out of 5(9)', '4.2 out of 5(248)',\n       '4 out of 5(15)'], dtype=object)"
     },
     "execution_count": 349,
     "metadata": {},
     "output_type": "execute_result"
    }
   ],
   "source": [
    "# Explore unique values\n",
    "products_df['votes'].unique()"
   ],
   "metadata": {
    "collapsed": false,
    "ExecuteTime": {
     "end_time": "2024-02-19T18:17:12.991221911Z",
     "start_time": "2024-02-19T18:17:12.859813910Z"
    }
   },
   "id": "a961defaeec97dd7",
   "execution_count": 349
  },
  {
   "cell_type": "code",
   "outputs": [
    {
     "data": {
      "text/plain": "array([2.216e+03, 6.070e+02, 1.113e+03, 8.290e+02, 6.190e+02, 2.190e+02,\n       3.500e+02, 5.600e+02, 4.130e+02, 2.600e+01, 1.399e+03, 4.380e+02,\n       1.385e+03, 1.426e+03, 2.716e+03, 1.000e+01, 9.610e+02, 7.180e+02,\n       1.613e+03, 3.040e+02, 3.741e+03, 5.990e+02, 4.710e+02, 2.012e+03,\n       2.400e+02, 8.780e+02, 4.460e+02, 2.218e+03, 1.527e+03, 6.720e+02,\n       2.080e+02, 6.330e+02, 3.800e+02, 9.810e+02, 1.067e+03, 1.330e+02,\n       2.160e+02, 4.704e+03, 1.215e+03, 2.270e+02, 4.900e+01, 4.450e+02,\n       7.500e+01, 1.240e+02, 9.900e+01, 4.420e+02, 8.700e+01, 1.350e+02,\n       4.590e+02, 1.427e+03, 2.130e+02, 7.740e+02, 1.104e+03, 7.000e+01,\n       3.480e+02, 7.310e+02, 1.495e+03, 3.960e+02, 1.119e+03, 3.200e+02,\n       1.888e+03, 6.750e+02, 8.500e+01, 1.800e+02, 6.520e+02, 5.800e+01,\n       2.730e+02, 1.502e+03, 3.920e+02, 6.300e+01, 6.200e+01, 1.700e+02,\n       1.490e+02, 4.760e+02, 2.011e+03, 1.530e+02, 5.410e+02, 4.910e+02,\n       8.400e+02, 9.800e+01, 5.630e+02, 4.440e+02, 1.129e+03, 4.620e+02,\n       5.600e+01, 1.552e+03, 7.160e+02, 2.140e+02, 1.320e+02, 2.328e+03,\n       1.520e+02, 5.100e+01, 1.620e+02, 4.960e+02, 2.620e+02, 2.800e+02,\n       2.360e+02, 5.400e+02, 3.600e+02, 5.460e+02, 1.947e+03, 6.340e+02,\n       2.070e+02, 1.460e+02, 2.410e+02, 1.050e+02, 4.300e+01, 1.740e+02,\n       4.700e+02, 7.300e+01, 6.400e+01, 4.700e+01, 6.600e+01, 1.264e+03,\n       1.757e+03, 4.350e+02, 9.400e+01, 7.790e+02, 1.310e+02, 3.350e+02,\n       4.200e+01, 6.510e+02, 1.720e+02, 1.590e+02, 5.500e+01, 1.600e+02,\n       3.900e+01, 6.900e+01, 7.220e+02, 3.300e+01, 8.810e+02, 1.579e+03,\n       7.880e+02, 1.030e+02, 9.590e+02, 1.660e+02, 1.430e+02, 4.200e+02,\n       3.980e+02, 1.356e+03, 8.040e+02, 5.700e+01, 9.100e+01, 6.700e+01,\n       7.640e+02, 1.770e+02, 2.320e+02, 1.982e+03, 1.700e+01, 2.000e+00,\n       3.000e+00, 1.000e+00, 3.700e+01, 7.000e+00, 6.000e+00, 8.900e+01,\n       1.500e+01, 2.800e+01, 1.800e+01, 9.000e+00, 4.000e+00, 8.000e+00,\n       1.200e+01,       nan, 1.100e+01, 3.800e+01, 3.200e+01, 2.000e+01,\n       5.000e+00, 1.390e+02, 3.100e+01, 2.500e+01, 2.400e+01, 4.400e+01,\n       1.400e+01, 2.700e+01, 7.900e+01, 1.900e+01, 1.300e+01, 3.600e+01,\n       2.900e+01, 2.100e+01, 1.060e+02, 1.260e+02, 3.750e+02, 3.500e+01,\n       1.600e+01, 5.900e+01, 3.400e+01, 3.010e+02, 2.100e+02, 2.300e+01,\n       5.300e+01, 3.000e+01, 1.080e+02, 2.200e+01, 2.330e+02, 6.800e+01,\n       5.200e+01, 7.200e+01, 1.160e+02, 1.555e+03, 3.530e+02, 1.630e+02,\n       8.400e+01, 8.600e+01, 8.800e+01, 7.600e+01, 4.100e+01, 3.150e+02,\n       5.750e+02, 5.400e+01, 1.960e+02, 3.280e+02, 1.810e+02, 6.100e+01,\n       2.150e+02, 3.950e+02, 8.200e+01, 1.230e+02, 4.600e+01, 4.000e+01,\n       9.110e+02, 1.860e+02, 9.200e+01, 3.383e+03, 7.400e+01, 2.900e+02,\n       4.500e+01, 1.220e+02, 6.500e+01, 1.070e+02, 1.380e+02, 4.800e+01,\n       1.140e+02, 5.000e+01, 1.010e+02, 9.300e+01, 4.480e+02, 6.000e+01,\n       8.000e+01, 1.440e+02, 1.890e+02, 4.640e+02, 1.870e+02, 1.370e+02,\n       2.850e+02, 1.500e+02, 1.910e+02, 3.030e+02, 2.340e+02, 7.800e+01,\n       9.000e+01, 7.100e+01, 9.600e+01, 1.610e+02, 4.000e+02, 2.260e+02,\n       1.950e+02, 2.420e+02, 2.920e+02, 5.360e+02, 1.290e+02, 2.210e+02,\n       1.280e+02, 5.330e+02, 4.060e+02, 1.090e+02, 1.040e+02, 8.770e+02,\n       1.180e+02, 2.280e+02, 4.730e+02, 2.480e+02])"
     },
     "execution_count": 350,
     "metadata": {},
     "output_type": "execute_result"
    }
   ],
   "source": [
    "# Extract the votes count with string manipulation methods & convert values to integer values\n",
    "products_df['votes'] = products_df['votes'].apply(lambda x: float(x.split('(')[1].split(')')[0]) if x is not None else x)\n",
    "products_df['votes'].unique()"
   ],
   "metadata": {
    "collapsed": false,
    "ExecuteTime": {
     "end_time": "2024-02-19T18:17:13.038734579Z",
     "start_time": "2024-02-19T18:17:12.922174106Z"
    }
   },
   "id": "a5ffc888a7d31fec",
   "execution_count": 350
  },
  {
   "cell_type": "code",
   "outputs": [
    {
     "data": {
      "text/plain": "                                                 name  new_price  old_price  \\\n0   NIVEA Perfect & Radiant Even Tone Day And Nigh...      999.0     1560.0   \n1   NIVEA Radiant & Beauty Advanced Care Lotion Fo...      949.0     1460.0   \n2   NIVEA Nourishing Cocoa Body Lotion With Cocoa ...     1174.0     1302.0   \n3   NIVEA Pearl & Beauty Anti-Perspirant Rollon, 4...      728.0     1040.0   \n4   NIVEA MEN Deep Antibacterial Anti-Perspirant R...      728.0     1040.0   \n5   NIVEA Pearl & Beauty Black Pearl Fine Fragranc...      728.0     1040.0   \n6   NIVEA Perfect & Radiant Luminous630 Anti Dark ...     3647.0     5610.0   \n7   NIVEA Perfect & Radiant Even Tone Day Cream SP...      585.0      780.0   \n8   NIVEA Q10 Power Anti-Wrinkle Day Cream 50ml & ...     2496.0     3840.0   \n9   Epson EcoTank L3250 A4 WIRELESS Printer (All-i...    27999.0    38000.0   \n10                       Pembe Pembe Maize Meal – 5Kg      361.0      410.0   \n11     Garnier Vitamin C Booster Serum 30ml Twin Pack     2625.0     3500.0   \n12  Fashion 6Pcs Soft Cotton Checked Men's Boxers ...      618.0      688.0   \n13  Garnier Anti-Blemish Charcoal Serum With AHA +...     1400.0     1750.0   \n14           Garnier Even & Matte Dark Spot Corrector     1840.0     2300.0   \n15    2IN1 Wired Keyboard And Mouse Set Optical Mouse      799.0     1399.0   \n16  Garnier Even & Matte Vitamin C Protection Crea...     1020.0     1200.0   \n17  Garnier Even & Matte  Vitamin C Booster Serum ...      850.0        NaN   \n18  AILYONS FK-0301 Stainless Steel 1.8L Electric ...      729.0     1399.0   \n19  Vitron HTC4388FS - 43\" Smart  Android Frameles...    21359.0    23999.0   \n\n    discount  rating   votes  \n0       0.36     4.5  2216.0  \n1       0.35     4.7   607.0  \n2       0.10     4.7  1113.0  \n3       0.30     4.6   829.0  \n4       0.30     4.6   619.0  \n5       0.30     4.7   219.0  \n6       0.35     4.4   350.0  \n7       0.25     4.4   560.0  \n8       0.35     4.6   413.0  \n9       0.26     4.5    26.0  \n10      0.12     4.4  1399.0  \n11      0.25     4.6   438.0  \n12      0.10     3.7  1385.0  \n13      0.20     4.3  1426.0  \n14      0.20     4.0  2716.0  \n15      0.43     4.4    10.0  \n16      0.15     4.4   961.0  \n17       NaN     4.2   718.0  \n18      0.48     4.1  1613.0  \n19      0.11     4.2   304.0  ",
      "text/html": "<div>\n<style scoped>\n    .dataframe tbody tr th:only-of-type {\n        vertical-align: middle;\n    }\n\n    .dataframe tbody tr th {\n        vertical-align: top;\n    }\n\n    .dataframe thead th {\n        text-align: right;\n    }\n</style>\n<table border=\"1\" class=\"dataframe\">\n  <thead>\n    <tr style=\"text-align: right;\">\n      <th></th>\n      <th>name</th>\n      <th>new_price</th>\n      <th>old_price</th>\n      <th>discount</th>\n      <th>rating</th>\n      <th>votes</th>\n    </tr>\n  </thead>\n  <tbody>\n    <tr>\n      <th>0</th>\n      <td>NIVEA Perfect &amp; Radiant Even Tone Day And Nigh...</td>\n      <td>999.0</td>\n      <td>1560.0</td>\n      <td>0.36</td>\n      <td>4.5</td>\n      <td>2216.0</td>\n    </tr>\n    <tr>\n      <th>1</th>\n      <td>NIVEA Radiant &amp; Beauty Advanced Care Lotion Fo...</td>\n      <td>949.0</td>\n      <td>1460.0</td>\n      <td>0.35</td>\n      <td>4.7</td>\n      <td>607.0</td>\n    </tr>\n    <tr>\n      <th>2</th>\n      <td>NIVEA Nourishing Cocoa Body Lotion With Cocoa ...</td>\n      <td>1174.0</td>\n      <td>1302.0</td>\n      <td>0.10</td>\n      <td>4.7</td>\n      <td>1113.0</td>\n    </tr>\n    <tr>\n      <th>3</th>\n      <td>NIVEA Pearl &amp; Beauty Anti-Perspirant Rollon, 4...</td>\n      <td>728.0</td>\n      <td>1040.0</td>\n      <td>0.30</td>\n      <td>4.6</td>\n      <td>829.0</td>\n    </tr>\n    <tr>\n      <th>4</th>\n      <td>NIVEA MEN Deep Antibacterial Anti-Perspirant R...</td>\n      <td>728.0</td>\n      <td>1040.0</td>\n      <td>0.30</td>\n      <td>4.6</td>\n      <td>619.0</td>\n    </tr>\n    <tr>\n      <th>5</th>\n      <td>NIVEA Pearl &amp; Beauty Black Pearl Fine Fragranc...</td>\n      <td>728.0</td>\n      <td>1040.0</td>\n      <td>0.30</td>\n      <td>4.7</td>\n      <td>219.0</td>\n    </tr>\n    <tr>\n      <th>6</th>\n      <td>NIVEA Perfect &amp; Radiant Luminous630 Anti Dark ...</td>\n      <td>3647.0</td>\n      <td>5610.0</td>\n      <td>0.35</td>\n      <td>4.4</td>\n      <td>350.0</td>\n    </tr>\n    <tr>\n      <th>7</th>\n      <td>NIVEA Perfect &amp; Radiant Even Tone Day Cream SP...</td>\n      <td>585.0</td>\n      <td>780.0</td>\n      <td>0.25</td>\n      <td>4.4</td>\n      <td>560.0</td>\n    </tr>\n    <tr>\n      <th>8</th>\n      <td>NIVEA Q10 Power Anti-Wrinkle Day Cream 50ml &amp; ...</td>\n      <td>2496.0</td>\n      <td>3840.0</td>\n      <td>0.35</td>\n      <td>4.6</td>\n      <td>413.0</td>\n    </tr>\n    <tr>\n      <th>9</th>\n      <td>Epson EcoTank L3250 A4 WIRELESS Printer (All-i...</td>\n      <td>27999.0</td>\n      <td>38000.0</td>\n      <td>0.26</td>\n      <td>4.5</td>\n      <td>26.0</td>\n    </tr>\n    <tr>\n      <th>10</th>\n      <td>Pembe Pembe Maize Meal – 5Kg</td>\n      <td>361.0</td>\n      <td>410.0</td>\n      <td>0.12</td>\n      <td>4.4</td>\n      <td>1399.0</td>\n    </tr>\n    <tr>\n      <th>11</th>\n      <td>Garnier Vitamin C Booster Serum 30ml Twin Pack</td>\n      <td>2625.0</td>\n      <td>3500.0</td>\n      <td>0.25</td>\n      <td>4.6</td>\n      <td>438.0</td>\n    </tr>\n    <tr>\n      <th>12</th>\n      <td>Fashion 6Pcs Soft Cotton Checked Men's Boxers ...</td>\n      <td>618.0</td>\n      <td>688.0</td>\n      <td>0.10</td>\n      <td>3.7</td>\n      <td>1385.0</td>\n    </tr>\n    <tr>\n      <th>13</th>\n      <td>Garnier Anti-Blemish Charcoal Serum With AHA +...</td>\n      <td>1400.0</td>\n      <td>1750.0</td>\n      <td>0.20</td>\n      <td>4.3</td>\n      <td>1426.0</td>\n    </tr>\n    <tr>\n      <th>14</th>\n      <td>Garnier Even &amp; Matte Dark Spot Corrector</td>\n      <td>1840.0</td>\n      <td>2300.0</td>\n      <td>0.20</td>\n      <td>4.0</td>\n      <td>2716.0</td>\n    </tr>\n    <tr>\n      <th>15</th>\n      <td>2IN1 Wired Keyboard And Mouse Set Optical Mouse</td>\n      <td>799.0</td>\n      <td>1399.0</td>\n      <td>0.43</td>\n      <td>4.4</td>\n      <td>10.0</td>\n    </tr>\n    <tr>\n      <th>16</th>\n      <td>Garnier Even &amp; Matte Vitamin C Protection Crea...</td>\n      <td>1020.0</td>\n      <td>1200.0</td>\n      <td>0.15</td>\n      <td>4.4</td>\n      <td>961.0</td>\n    </tr>\n    <tr>\n      <th>17</th>\n      <td>Garnier Even &amp; Matte  Vitamin C Booster Serum ...</td>\n      <td>850.0</td>\n      <td>NaN</td>\n      <td>NaN</td>\n      <td>4.2</td>\n      <td>718.0</td>\n    </tr>\n    <tr>\n      <th>18</th>\n      <td>AILYONS FK-0301 Stainless Steel 1.8L Electric ...</td>\n      <td>729.0</td>\n      <td>1399.0</td>\n      <td>0.48</td>\n      <td>4.1</td>\n      <td>1613.0</td>\n    </tr>\n    <tr>\n      <th>19</th>\n      <td>Vitron HTC4388FS - 43\" Smart  Android Frameles...</td>\n      <td>21359.0</td>\n      <td>23999.0</td>\n      <td>0.11</td>\n      <td>4.2</td>\n      <td>304.0</td>\n    </tr>\n  </tbody>\n</table>\n</div>"
     },
     "execution_count": 351,
     "metadata": {},
     "output_type": "execute_result"
    }
   ],
   "source": [
    "products_df.head(20)"
   ],
   "metadata": {
    "collapsed": false,
    "ExecuteTime": {
     "end_time": "2024-02-19T18:17:13.108382135Z",
     "start_time": "2024-02-19T18:17:13.034161806Z"
    }
   },
   "id": "66caa8a96b465dda",
   "execution_count": 351
  },
  {
   "cell_type": "markdown",
   "source": [
    "## Dealing with null values"
   ],
   "metadata": {
    "collapsed": false
   },
   "id": "8360f1fa230100d6"
  },
  {
   "cell_type": "code",
   "outputs": [
    {
     "data": {
      "text/plain": "'old_price'"
     },
     "execution_count": 352,
     "metadata": {},
     "output_type": "execute_result"
    }
   ],
   "source": [
    "products_df.isnull().sum().idxmax()"
   ],
   "metadata": {
    "collapsed": false,
    "ExecuteTime": {
     "end_time": "2024-02-19T18:17:13.253108256Z",
     "start_time": "2024-02-19T18:17:13.104455759Z"
    }
   },
   "id": "d1c27fb48422c189",
   "execution_count": 352
  },
  {
   "cell_type": "code",
   "outputs": [
    {
     "name": "stdout",
     "output_type": "stream",
     "text": [
      "new_price nulls: 0\n",
      "old_price nulls: 307\n",
      "discount nulls: 307\n",
      "rating nulls: 198\n",
      "votes nulls: 198\n"
     ]
    }
   ],
   "source": [
    "print(f\"new_price nulls: {products_df.new_price.isnull().sum()}\")\n",
    "print(f\"old_price nulls: {products_df.old_price.isnull().sum()}\")\n",
    "print(f\"discount nulls: {products_df.discount.isnull().sum()}\")\n",
    "print(f\"rating nulls: {products_df.rating.isnull().sum()}\")\n",
    "print(f\"votes nulls: {products_df.votes.isnull().sum()}\")"
   ],
   "metadata": {
    "collapsed": false,
    "ExecuteTime": {
     "end_time": "2024-02-19T18:17:13.292456183Z",
     "start_time": "2024-02-19T18:17:13.161543579Z"
    }
   },
   "id": "2d9bc0842829d800",
   "execution_count": 353
  },
  {
   "cell_type": "markdown",
   "source": [
    "### Fill null values in discount column "
   ],
   "metadata": {
    "collapsed": false
   },
   "id": "efa6eb2106b26f19"
  },
  {
   "cell_type": "code",
   "outputs": [
    {
     "data": {
      "text/plain": "0"
     },
     "execution_count": 354,
     "metadata": {},
     "output_type": "execute_result"
    }
   ],
   "source": [
    "# Use discount column average to fill nulls\n",
    "products_df['discount'] = products_df['discount'].fillna(round(products_df['discount'].mean(), 2))\n",
    "products_df.discount.isnull().sum()"
   ],
   "metadata": {
    "collapsed": false,
    "ExecuteTime": {
     "end_time": "2024-02-19T18:17:13.327597377Z",
     "start_time": "2024-02-19T18:17:13.246082857Z"
    }
   },
   "id": "ee9f7bc26a3bc3fa",
   "execution_count": 354
  },
  {
   "cell_type": "markdown",
   "source": [
    "### Fill null values in old_price based on the discount column average"
   ],
   "metadata": {
    "collapsed": false
   },
   "id": "b58cfdfd7e23339d"
  },
  {
   "cell_type": "code",
   "outputs": [
    {
     "data": {
      "text/plain": "0"
     },
     "execution_count": 355,
     "metadata": {},
     "output_type": "execute_result"
    }
   ],
   "source": [
    "def multiply_fill_old_price_column_nulls(row):\n",
    "    new_price = row['new_price']\n",
    "    discount_column_mean = round(products_df['discount'].mean(), 2)\n",
    "    discount_multiplier = 1 - discount_column_mean\n",
    "    \n",
    "    if not pd.isna(row['old_price']):\n",
    "        return row['old_price']\n",
    "    return new_price * discount_column_mean\n",
    "        \n",
    "products_df['old_price'] = products_df.apply(multiply_fill_old_price_column_nulls, axis=1)\n",
    "products_df.old_price.isnull().sum()"
   ],
   "metadata": {
    "collapsed": false,
    "ExecuteTime": {
     "end_time": "2024-02-19T18:17:13.481832469Z",
     "start_time": "2024-02-19T18:17:13.322556476Z"
    }
   },
   "id": "3fc0bcf69968daa6",
   "execution_count": 355
  },
  {
   "cell_type": "markdown",
   "source": [
    "### Fill rating nulls with column mean"
   ],
   "metadata": {
    "collapsed": false
   },
   "id": "cf70e7e1f9911927"
  },
  {
   "cell_type": "code",
   "outputs": [
    {
     "data": {
      "text/plain": "0"
     },
     "execution_count": 356,
     "metadata": {},
     "output_type": "execute_result"
    }
   ],
   "source": [
    "products_df['rating'] = products_df['rating'].fillna(round(products_df['rating'].mean(), 2))\n",
    "products_df.rating.isnull().sum()"
   ],
   "metadata": {
    "collapsed": false,
    "ExecuteTime": {
     "end_time": "2024-02-19T18:20:57.691190809Z",
     "start_time": "2024-02-19T18:20:57.599320539Z"
    }
   },
   "id": "dc565092d5410a93",
   "execution_count": 356
  },
  {
   "cell_type": "markdown",
   "source": [
    "### Fill votes nulls with column mean"
   ],
   "metadata": {
    "collapsed": false
   },
   "id": "f1d51583019ecf17"
  },
  {
   "cell_type": "code",
   "outputs": [
    {
     "data": {
      "text/plain": "0"
     },
     "execution_count": 357,
     "metadata": {},
     "output_type": "execute_result"
    }
   ],
   "source": [
    "products_df['votes'] = products_df['votes'].fillna(round(products_df['votes'].mean(), 2))\n",
    "products_df.votes.isnull().sum()"
   ],
   "metadata": {
    "collapsed": false,
    "ExecuteTime": {
     "end_time": "2024-02-19T18:21:51.192511298Z",
     "start_time": "2024-02-19T18:21:50.993827139Z"
    }
   },
   "id": "26d9317308bb6eff",
   "execution_count": 357
  },
  {
   "cell_type": "markdown",
   "source": [
    "## Rechecking nulls for all columns again"
   ],
   "metadata": {
    "collapsed": false
   },
   "id": "29425339dd1d081c"
  },
  {
   "cell_type": "code",
   "outputs": [
    {
     "name": "stdout",
     "output_type": "stream",
     "text": [
      "new_price nulls: 0\n",
      "old_price nulls: 0\n",
      "discount nulls: 0\n",
      "rating nulls: 0\n",
      "votes nulls: 0\n"
     ]
    }
   ],
   "source": [
    "print(f\"new_price nulls: {products_df.new_price.isnull().sum()}\")\n",
    "print(f\"old_price nulls: {products_df.old_price.isnull().sum()}\")\n",
    "print(f\"discount nulls: {products_df.discount.isnull().sum()}\")\n",
    "print(f\"rating nulls: {products_df.rating.isnull().sum()}\")\n",
    "print(f\"votes nulls: {products_df.votes.isnull().sum()}\")"
   ],
   "metadata": {
    "collapsed": false,
    "ExecuteTime": {
     "end_time": "2024-02-19T18:22:25.408708207Z",
     "start_time": "2024-02-19T18:22:25.274410439Z"
    }
   },
   "id": "55b62f1efa8d3649",
   "execution_count": 358
  },
  {
   "cell_type": "code",
   "outputs": [
    {
     "data": {
      "text/plain": "                                                name  new_price  old_price  \\\n0  NIVEA Perfect & Radiant Even Tone Day And Nigh...      999.0     1560.0   \n1  NIVEA Radiant & Beauty Advanced Care Lotion Fo...      949.0     1460.0   \n2  NIVEA Nourishing Cocoa Body Lotion With Cocoa ...     1174.0     1302.0   \n3  NIVEA Pearl & Beauty Anti-Perspirant Rollon, 4...      728.0     1040.0   \n4  NIVEA MEN Deep Antibacterial Anti-Perspirant R...      728.0     1040.0   \n\n   discount  rating   votes  \n0      0.36     4.5  2216.0  \n1      0.35     4.7   607.0  \n2      0.10     4.7  1113.0  \n3      0.30     4.6   829.0  \n4      0.30     4.6   619.0  ",
      "text/html": "<div>\n<style scoped>\n    .dataframe tbody tr th:only-of-type {\n        vertical-align: middle;\n    }\n\n    .dataframe tbody tr th {\n        vertical-align: top;\n    }\n\n    .dataframe thead th {\n        text-align: right;\n    }\n</style>\n<table border=\"1\" class=\"dataframe\">\n  <thead>\n    <tr style=\"text-align: right;\">\n      <th></th>\n      <th>name</th>\n      <th>new_price</th>\n      <th>old_price</th>\n      <th>discount</th>\n      <th>rating</th>\n      <th>votes</th>\n    </tr>\n  </thead>\n  <tbody>\n    <tr>\n      <th>0</th>\n      <td>NIVEA Perfect &amp; Radiant Even Tone Day And Nigh...</td>\n      <td>999.0</td>\n      <td>1560.0</td>\n      <td>0.36</td>\n      <td>4.5</td>\n      <td>2216.0</td>\n    </tr>\n    <tr>\n      <th>1</th>\n      <td>NIVEA Radiant &amp; Beauty Advanced Care Lotion Fo...</td>\n      <td>949.0</td>\n      <td>1460.0</td>\n      <td>0.35</td>\n      <td>4.7</td>\n      <td>607.0</td>\n    </tr>\n    <tr>\n      <th>2</th>\n      <td>NIVEA Nourishing Cocoa Body Lotion With Cocoa ...</td>\n      <td>1174.0</td>\n      <td>1302.0</td>\n      <td>0.10</td>\n      <td>4.7</td>\n      <td>1113.0</td>\n    </tr>\n    <tr>\n      <th>3</th>\n      <td>NIVEA Pearl &amp; Beauty Anti-Perspirant Rollon, 4...</td>\n      <td>728.0</td>\n      <td>1040.0</td>\n      <td>0.30</td>\n      <td>4.6</td>\n      <td>829.0</td>\n    </tr>\n    <tr>\n      <th>4</th>\n      <td>NIVEA MEN Deep Antibacterial Anti-Perspirant R...</td>\n      <td>728.0</td>\n      <td>1040.0</td>\n      <td>0.30</td>\n      <td>4.6</td>\n      <td>619.0</td>\n    </tr>\n  </tbody>\n</table>\n</div>"
     },
     "execution_count": 359,
     "metadata": {},
     "output_type": "execute_result"
    }
   ],
   "source": [
    "products_df.head()"
   ],
   "metadata": {
    "collapsed": false,
    "ExecuteTime": {
     "end_time": "2024-02-19T18:25:53.300532156Z",
     "start_time": "2024-02-19T18:25:53.214187021Z"
    }
   },
   "id": "588d350a15fc6da7",
   "execution_count": 359
  },
  {
   "cell_type": "code",
   "outputs": [
    {
     "name": "stdout",
     "output_type": "stream",
     "text": [
      "<class 'pandas.core.frame.DataFrame'>\n",
      "RangeIndex: 2000 entries, 0 to 1999\n",
      "Data columns (total 6 columns):\n",
      " #   Column     Non-Null Count  Dtype  \n",
      "---  ------     --------------  -----  \n",
      " 0   name       2000 non-null   object \n",
      " 1   new_price  2000 non-null   float64\n",
      " 2   old_price  2000 non-null   float64\n",
      " 3   discount   2000 non-null   float64\n",
      " 4   rating     2000 non-null   float64\n",
      " 5   votes      2000 non-null   float64\n",
      "dtypes: float64(5), object(1)\n",
      "memory usage: 93.9+ KB\n"
     ]
    }
   ],
   "source": [
    "products_df.info()"
   ],
   "metadata": {
    "collapsed": false,
    "ExecuteTime": {
     "end_time": "2024-02-19T18:27:35.690115857Z",
     "start_time": "2024-02-19T18:27:35.554533024Z"
    }
   },
   "id": "19ec052175ee6565",
   "execution_count": 364
  },
  {
   "cell_type": "markdown",
   "source": [
    "### Assign cleaned dataframe to a new name"
   ],
   "metadata": {
    "collapsed": false
   },
   "id": "eef6f6ab8c27f9e6"
  },
  {
   "cell_type": "code",
   "outputs": [
    {
     "data": {
      "text/plain": "                                                   name  new_price  old_price  \\\n0     NIVEA Perfect & Radiant Even Tone Day And Nigh...      999.0     1560.0   \n1     NIVEA Radiant & Beauty Advanced Care Lotion Fo...      949.0     1460.0   \n2     NIVEA Nourishing Cocoa Body Lotion With Cocoa ...     1174.0     1302.0   \n3     NIVEA Pearl & Beauty Anti-Perspirant Rollon, 4...      728.0     1040.0   \n4     NIVEA MEN Deep Antibacterial Anti-Perspirant R...      728.0     1040.0   \n...                                                 ...        ...        ...   \n1995  630ml Glass Oil Jar Bottle Vinegar Dispenser B...      920.0     1200.0   \n1996                      Plastic Suction Tissue Holder      550.0      850.0   \n1997  Pendant Lamp Shade Chandelier Cover For Kitche...     1267.0     1520.0   \n1998                         Water Proof Shower Curtain     1190.0     2000.0   \n1999  Bebe KIDS STUDY TABLETS 5G 256GB/6GB 8inch Wit...    13998.0    16000.0   \n\n      discount  rating    votes  \n0         0.36     4.5  2216.00  \n1         0.35     4.7   607.00  \n2         0.10     4.7  1113.00  \n3         0.30     4.6   829.00  \n4         0.30     4.6   619.00  \n...        ...     ...      ...  \n1995      0.23     4.0     1.00  \n1996      0.35     2.3     3.00  \n1997      0.17     4.1    80.83  \n1998      0.41     5.0     1.00  \n1999      0.13     4.1    80.83  \n\n[2000 rows x 6 columns]",
      "text/html": "<div>\n<style scoped>\n    .dataframe tbody tr th:only-of-type {\n        vertical-align: middle;\n    }\n\n    .dataframe tbody tr th {\n        vertical-align: top;\n    }\n\n    .dataframe thead th {\n        text-align: right;\n    }\n</style>\n<table border=\"1\" class=\"dataframe\">\n  <thead>\n    <tr style=\"text-align: right;\">\n      <th></th>\n      <th>name</th>\n      <th>new_price</th>\n      <th>old_price</th>\n      <th>discount</th>\n      <th>rating</th>\n      <th>votes</th>\n    </tr>\n  </thead>\n  <tbody>\n    <tr>\n      <th>0</th>\n      <td>NIVEA Perfect &amp; Radiant Even Tone Day And Nigh...</td>\n      <td>999.0</td>\n      <td>1560.0</td>\n      <td>0.36</td>\n      <td>4.5</td>\n      <td>2216.00</td>\n    </tr>\n    <tr>\n      <th>1</th>\n      <td>NIVEA Radiant &amp; Beauty Advanced Care Lotion Fo...</td>\n      <td>949.0</td>\n      <td>1460.0</td>\n      <td>0.35</td>\n      <td>4.7</td>\n      <td>607.00</td>\n    </tr>\n    <tr>\n      <th>2</th>\n      <td>NIVEA Nourishing Cocoa Body Lotion With Cocoa ...</td>\n      <td>1174.0</td>\n      <td>1302.0</td>\n      <td>0.10</td>\n      <td>4.7</td>\n      <td>1113.00</td>\n    </tr>\n    <tr>\n      <th>3</th>\n      <td>NIVEA Pearl &amp; Beauty Anti-Perspirant Rollon, 4...</td>\n      <td>728.0</td>\n      <td>1040.0</td>\n      <td>0.30</td>\n      <td>4.6</td>\n      <td>829.00</td>\n    </tr>\n    <tr>\n      <th>4</th>\n      <td>NIVEA MEN Deep Antibacterial Anti-Perspirant R...</td>\n      <td>728.0</td>\n      <td>1040.0</td>\n      <td>0.30</td>\n      <td>4.6</td>\n      <td>619.00</td>\n    </tr>\n    <tr>\n      <th>...</th>\n      <td>...</td>\n      <td>...</td>\n      <td>...</td>\n      <td>...</td>\n      <td>...</td>\n      <td>...</td>\n    </tr>\n    <tr>\n      <th>1995</th>\n      <td>630ml Glass Oil Jar Bottle Vinegar Dispenser B...</td>\n      <td>920.0</td>\n      <td>1200.0</td>\n      <td>0.23</td>\n      <td>4.0</td>\n      <td>1.00</td>\n    </tr>\n    <tr>\n      <th>1996</th>\n      <td>Plastic Suction Tissue Holder</td>\n      <td>550.0</td>\n      <td>850.0</td>\n      <td>0.35</td>\n      <td>2.3</td>\n      <td>3.00</td>\n    </tr>\n    <tr>\n      <th>1997</th>\n      <td>Pendant Lamp Shade Chandelier Cover For Kitche...</td>\n      <td>1267.0</td>\n      <td>1520.0</td>\n      <td>0.17</td>\n      <td>4.1</td>\n      <td>80.83</td>\n    </tr>\n    <tr>\n      <th>1998</th>\n      <td>Water Proof Shower Curtain</td>\n      <td>1190.0</td>\n      <td>2000.0</td>\n      <td>0.41</td>\n      <td>5.0</td>\n      <td>1.00</td>\n    </tr>\n    <tr>\n      <th>1999</th>\n      <td>Bebe KIDS STUDY TABLETS 5G 256GB/6GB 8inch Wit...</td>\n      <td>13998.0</td>\n      <td>16000.0</td>\n      <td>0.13</td>\n      <td>4.1</td>\n      <td>80.83</td>\n    </tr>\n  </tbody>\n</table>\n<p>2000 rows × 6 columns</p>\n</div>"
     },
     "execution_count": 366,
     "metadata": {},
     "output_type": "execute_result"
    }
   ],
   "source": [
    "products_clean_df = products_df\n",
    "products_clean_df"
   ],
   "metadata": {
    "collapsed": false,
    "ExecuteTime": {
     "end_time": "2024-02-19T18:28:43.670531250Z",
     "start_time": "2024-02-19T18:28:43.604112685Z"
    }
   },
   "id": "b885c742d61fe619",
   "execution_count": 366
  },
  {
   "cell_type": "code",
   "outputs": [],
   "source": [],
   "metadata": {
    "collapsed": false
   },
   "id": "4932a97c115abdd"
  }
 ],
 "metadata": {
  "kernelspec": {
   "display_name": "Python 3",
   "language": "python",
   "name": "python3"
  },
  "language_info": {
   "codemirror_mode": {
    "name": "ipython",
    "version": 2
   },
   "file_extension": ".py",
   "mimetype": "text/x-python",
   "name": "python",
   "nbconvert_exporter": "python",
   "pygments_lexer": "ipython2",
   "version": "2.7.6"
  }
 },
 "nbformat": 4,
 "nbformat_minor": 5
}
