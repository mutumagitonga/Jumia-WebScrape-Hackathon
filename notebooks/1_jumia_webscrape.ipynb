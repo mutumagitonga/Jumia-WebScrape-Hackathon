{
 "cells": [
  {
   "cell_type": "markdown",
   "source": [
    "# Scraping Jumia Ecommerce Site: DSE HACKATHON"
   ],
   "metadata": {
    "collapsed": false
   },
   "id": "535c85fadfa6dbbb"
  },
  {
   "cell_type": "markdown",
   "source": [
    "## Import libraries"
   ],
   "metadata": {
    "collapsed": false
   },
   "id": "3e3f34666872e52c"
  },
  {
   "cell_type": "code",
   "outputs": [],
   "source": [
    "import pandas as pd\n",
    "import numpy as np\n",
    "import matplotlib.pyplot as plt\n",
    "import seaborn as sns\n",
    "\n",
    "from collections import Counter\n",
    "import os\n",
    "import time\n",
    "import copy\n",
    "\n",
    "import scripts.gemini_api_call as gemini_call\n",
    "from scripts import scraper\n",
    "from scripts import most_satisfying_product as most_satisfying_algorithm\n",
    "import importlib"
   ],
   "metadata": {
    "collapsed": false,
    "ExecuteTime": {
     "end_time": "2024-03-21T08:53:49.148845Z",
     "start_time": "2024-03-21T08:53:47.806564Z"
    }
   },
   "id": "2322241c28235713",
   "execution_count": 1
  },
  {
   "cell_type": "markdown",
   "source": [
    "### Create array of products on each page, add each to product dictionary & append to array iteratively"
   ],
   "metadata": {
    "collapsed": false
   },
   "id": "955d2f38bd1f9ba5"
  },
  {
   "cell_type": "code",
   "outputs": [],
   "source": [
    "all_products_list = []\n",
    "\n",
    "def append_one_product_details_dictionary_to_list(pg):\n",
    "    # print(f\"Appending page {pg} products' details to array\")\n",
    "    \n",
    "    page_products_details_soup = soup.find_all(\"article\", class_=\"prd _fb col c-prd\")\n",
    "    \n",
    "    for detail in page_products_details_soup:\n",
    "        details_dict = {\"name\": detail.find(\"h3\", class_=\"name\").text.strip(),\n",
    "                        \"new_price\": detail.find(\"div\", class_=\"prc\").text.strip(),\n",
    "                        \"old_price\": detail.find(\"div\", class_=\"old\").text.strip() if detail.find(\"div\", class_=\"old\") else None,\n",
    "                        \"discount\": detail.find(\"div\", class_=\"bdg _dsct _sm\").text.strip() if detail.find(\"div\", class_=\"bdg _dsct _sm\") else None,\n",
    "                        \"rating\": detail.find(\"div\", class_=\"stars _s\").text.strip() if detail.find(\"div\", class_=\"stars _s\") else None,\n",
    "                        \"votes\": detail.find(\"div\", class_=\"rev\").text.strip() if detail.find(\"div\", class_=\"rev\") else None}\n",
    "        all_products_list.append(details_dict)\n",
    "\n",
    "\n",
    "# len(product_details_clean)"
   ],
   "metadata": {
    "collapsed": false,
    "ExecuteTime": {
     "end_time": "2024-03-21T08:53:49.157524Z",
     "start_time": "2024-03-21T08:53:49.151239Z"
    }
   },
   "id": "fd4498e7166a1627",
   "execution_count": 2
  },
  {
   "cell_type": "markdown",
   "source": [
    "### Fetch webdata, convert to BeautifulSoup Object, add product details dictionary to list"
   ],
   "metadata": {
    "collapsed": false
   },
   "id": "63e09bb6ed3fba7d"
  },
  {
   "cell_type": "code",
   "outputs": [],
   "source": [
    "# Declare the products’ url & the total webpage count\n",
    "other_pages_url = \"https://www.jumia.co.ke/all-products/?page=\"\n",
    "webpage_num_total = 50\n",
    "\n",
    "# If scraped products csv doesn't exist, run the scraper function below & save products to csv ELSE continue & read csv\n",
    "if not os.path.exists('../data/raw/all_products_list_raw.csv'):\n",
    "    for page in range(1, webpage_num_total+1, 1):\n",
    "        other_pages_url = \"https://www.jumia.co.ke/all-products/?page=\"\n",
    "        page = str(page)\n",
    "        other_pages_url = other_pages_url + page\n",
    "        response = scraper.fetch_html_data(other_pages_url)\n",
    "        # time.sleep(2.5)\n",
    "        soup = scraper.convert_web_data_to_beautiful_soup_obj(response)\n",
    "        append_one_product_details_dictionary_to_list(page)\n",
    "    \n",
    "    # Convert scraped list to dataframe\n",
    "    df = pd.DataFrame(all_products_list)\n",
    "    # Save scraped dataframe to csv to prevent scraping each time I run the notebook\n",
    "    df.to_csv('../data/raw/all_products_list_raw.csv')"
   ],
   "metadata": {
    "collapsed": false,
    "ExecuteTime": {
     "end_time": "2024-03-21T08:53:49.289814Z",
     "start_time": "2024-03-21T08:53:49.159049Z"
    }
   },
   "id": "e0f2cd3991c5d999",
   "execution_count": 3
  },
  {
   "cell_type": "markdown",
   "source": [
    "### Check product count"
   ],
   "metadata": {
    "collapsed": false
   },
   "id": "eb6acd584fb57e86"
  },
  {
   "cell_type": "code",
   "outputs": [],
   "source": [
    "# Read csv and specify index column to prevent creation of another redundant index\n",
    "products_df = pd.read_csv('../data/raw/all_products_list_raw.csv', index_col=0)  # Read products list from csv"
   ],
   "metadata": {
    "collapsed": false,
    "ExecuteTime": {
     "end_time": "2024-03-21T08:53:49.570344Z",
     "start_time": "2024-03-21T08:53:49.291331Z"
    }
   },
   "id": "828e8f982bcae649",
   "execution_count": 4
  },
  {
   "cell_type": "markdown",
   "source": [
    "### Inspect products list dataframe"
   ],
   "metadata": {
    "collapsed": false
   },
   "id": "ab74acb2c9f1127a"
  },
  {
   "cell_type": "code",
   "outputs": [
    {
     "data": {
      "text/plain": "                                                name  new_price  old_price  \\\n0  NIVEA Radiant & Beauty Advanced Care Lotion Fo...    KSh 912  KSh 1,460   \n1  AILYONS FK-0301 Stainless Steel 1.8L Electric ...    KSh 628        NaN   \n2  Garnier Anti-Blemish Charcoal Serum With AHA +...  KSh 1,400  KSh 1,750   \n3  NIVEA Perfect & Radiant Even Tone Day And Nigh...    KSh 887  KSh 1,560   \n4  NIVEA MEN Deep Antibacterial Anti-Perspirant R...    KSh 651  KSh 1,040   \n\n  discount        rating               votes  \n0      38%  4.7 out of 5   4.7 out of 5(721)  \n1      NaN  4.3 out of 5    4.3 out of 5(43)  \n2      20%  4.3 out of 5  4.3 out of 5(1546)  \n3      43%  4.5 out of 5  4.5 out of 5(2293)  \n4      37%  4.6 out of 5   4.6 out of 5(680)  ",
      "text/html": "<div>\n<style scoped>\n    .dataframe tbody tr th:only-of-type {\n        vertical-align: middle;\n    }\n\n    .dataframe tbody tr th {\n        vertical-align: top;\n    }\n\n    .dataframe thead th {\n        text-align: right;\n    }\n</style>\n<table border=\"1\" class=\"dataframe\">\n  <thead>\n    <tr style=\"text-align: right;\">\n      <th></th>\n      <th>name</th>\n      <th>new_price</th>\n      <th>old_price</th>\n      <th>discount</th>\n      <th>rating</th>\n      <th>votes</th>\n    </tr>\n  </thead>\n  <tbody>\n    <tr>\n      <th>0</th>\n      <td>NIVEA Radiant &amp; Beauty Advanced Care Lotion Fo...</td>\n      <td>KSh 912</td>\n      <td>KSh 1,460</td>\n      <td>38%</td>\n      <td>4.7 out of 5</td>\n      <td>4.7 out of 5(721)</td>\n    </tr>\n    <tr>\n      <th>1</th>\n      <td>AILYONS FK-0301 Stainless Steel 1.8L Electric ...</td>\n      <td>KSh 628</td>\n      <td>NaN</td>\n      <td>NaN</td>\n      <td>4.3 out of 5</td>\n      <td>4.3 out of 5(43)</td>\n    </tr>\n    <tr>\n      <th>2</th>\n      <td>Garnier Anti-Blemish Charcoal Serum With AHA +...</td>\n      <td>KSh 1,400</td>\n      <td>KSh 1,750</td>\n      <td>20%</td>\n      <td>4.3 out of 5</td>\n      <td>4.3 out of 5(1546)</td>\n    </tr>\n    <tr>\n      <th>3</th>\n      <td>NIVEA Perfect &amp; Radiant Even Tone Day And Nigh...</td>\n      <td>KSh 887</td>\n      <td>KSh 1,560</td>\n      <td>43%</td>\n      <td>4.5 out of 5</td>\n      <td>4.5 out of 5(2293)</td>\n    </tr>\n    <tr>\n      <th>4</th>\n      <td>NIVEA MEN Deep Antibacterial Anti-Perspirant R...</td>\n      <td>KSh 651</td>\n      <td>KSh 1,040</td>\n      <td>37%</td>\n      <td>4.6 out of 5</td>\n      <td>4.6 out of 5(680)</td>\n    </tr>\n  </tbody>\n</table>\n</div>"
     },
     "execution_count": 5,
     "metadata": {},
     "output_type": "execute_result"
    }
   ],
   "source": [
    "products_df.head()"
   ],
   "metadata": {
    "collapsed": false,
    "ExecuteTime": {
     "end_time": "2024-03-21T08:53:49.633273Z",
     "start_time": "2024-03-21T08:53:49.574008Z"
    }
   },
   "id": "9bc1541c84ba9cf4",
   "execution_count": 5
  },
  {
   "cell_type": "code",
   "outputs": [
    {
     "name": "stdout",
     "output_type": "stream",
     "text": [
      "<class 'pandas.core.frame.DataFrame'>\n",
      "Index: 2000 entries, 0 to 1999\n",
      "Data columns (total 6 columns):\n",
      " #   Column     Non-Null Count  Dtype \n",
      "---  ------     --------------  ----- \n",
      " 0   name       2000 non-null   object\n",
      " 1   new_price  2000 non-null   object\n",
      " 2   old_price  1847 non-null   object\n",
      " 3   discount   1847 non-null   object\n",
      " 4   rating     134 non-null    object\n",
      " 5   votes      134 non-null    object\n",
      "dtypes: object(6)\n",
      "memory usage: 109.4+ KB\n"
     ]
    }
   ],
   "source": [
    "products_df.info()"
   ],
   "metadata": {
    "collapsed": false,
    "ExecuteTime": {
     "end_time": "2024-03-21T08:53:49.806983Z",
     "start_time": "2024-03-21T08:53:49.634196Z"
    }
   },
   "id": "976ec4e23bad702d",
   "execution_count": 6
  },
  {
   "cell_type": "code",
   "outputs": [
    {
     "data": {
      "text/plain": "(2000, 6)"
     },
     "execution_count": 7,
     "metadata": {},
     "output_type": "execute_result"
    }
   ],
   "source": [
    "products_df.shape"
   ],
   "metadata": {
    "collapsed": false,
    "ExecuteTime": {
     "end_time": "2024-03-21T08:53:49.823272Z",
     "start_time": "2024-03-21T08:53:49.809770Z"
    }
   },
   "id": "3933ee31fae6c09",
   "execution_count": 7
  },
  {
   "cell_type": "markdown",
   "source": [
    "# Data Cleaning Section"
   ],
   "metadata": {
    "collapsed": false
   },
   "id": "b652b6b589590347"
  },
  {
   "cell_type": "markdown",
   "source": [
    "### Clean new_price column"
   ],
   "metadata": {
    "collapsed": false
   },
   "id": "61e39b08c31c7a9a"
  },
  {
   "cell_type": "code",
   "outputs": [
    {
     "data": {
      "text/plain": "'KSh 628'"
     },
     "execution_count": 8,
     "metadata": {},
     "output_type": "execute_result"
    }
   ],
   "source": [
    "products_df['new_price'][1]"
   ],
   "metadata": {
    "collapsed": false,
    "ExecuteTime": {
     "end_time": "2024-03-21T08:53:49.931832Z",
     "start_time": "2024-03-21T08:53:49.824237Z"
    }
   },
   "id": "60cb73b6d6ff6d66",
   "execution_count": 8
  },
  {
   "cell_type": "code",
   "outputs": [],
   "source": [
    "# Remove currency name 'Ksh' \n",
    "products_df['new_price'] = products_df['new_price'].apply(lambda x: x.split(' ')[1] if x is not None and isinstance(x,str) else x) "
   ],
   "metadata": {
    "collapsed": false,
    "ExecuteTime": {
     "end_time": "2024-03-21T08:53:49.983790Z",
     "start_time": "2024-03-21T08:53:49.933064Z"
    }
   },
   "id": "43feba7ebc504822",
   "execution_count": 9
  },
  {
   "cell_type": "code",
   "outputs": [
    {
     "name": "stdout",
     "output_type": "stream",
     "text": [
      "<class 'str'>\n",
      "0      912\n",
      "1      628\n",
      "2    1,400\n",
      "3      887\n",
      "4      651\n",
      "Name: new_price, dtype: object\n"
     ]
    }
   ],
   "source": [
    "print(type(products_df['new_price'][1]))\n",
    "print(products_df['new_price'].head())"
   ],
   "metadata": {
    "collapsed": false,
    "ExecuteTime": {
     "end_time": "2024-03-21T08:53:50.040081Z",
     "start_time": "2024-03-21T08:53:49.984788Z"
    }
   },
   "id": "3dc1f9774481f6d5",
   "execution_count": 10
  },
  {
   "cell_type": "code",
   "outputs": [
    {
     "data": {
      "text/plain": "0     912\n1     628\n2    1400\n3     887\n4     651\nName: new_price, dtype: object"
     },
     "execution_count": 11,
     "metadata": {},
     "output_type": "execute_result"
    }
   ],
   "source": [
    "# Remove comma from thousands price values\n",
    "products_df['new_price'] = products_df['new_price'].apply(lambda x: x.replace(',','') if ',' in x and isinstance(x,str) else x)\n",
    "products_df['new_price'].head()"
   ],
   "metadata": {
    "collapsed": false,
    "ExecuteTime": {
     "end_time": "2024-03-21T08:53:50.100527Z",
     "start_time": "2024-03-21T08:53:50.041027Z"
    }
   },
   "id": "207f62ef8b56ec5",
   "execution_count": 11
  },
  {
   "cell_type": "code",
   "outputs": [
    {
     "name": "stdout",
     "output_type": "stream",
     "text": [
      "<class 'str'>\n"
     ]
    }
   ],
   "source": [
    "print(type(products_df['new_price'][1]))"
   ],
   "metadata": {
    "collapsed": false,
    "ExecuteTime": {
     "end_time": "2024-03-21T08:53:50.156332Z",
     "start_time": "2024-03-21T08:53:50.101500Z"
    }
   },
   "id": "f52e790439b1338e",
   "execution_count": 12
  },
  {
   "cell_type": "code",
   "outputs": [],
   "source": [
    "# Convert new_price column to float\n",
    "products_df['new_price'] = products_df['new_price'].apply(lambda x: float(x) if x is not None else x)"
   ],
   "metadata": {
    "collapsed": false,
    "ExecuteTime": {
     "end_time": "2024-03-21T08:53:50.215014Z",
     "start_time": "2024-03-21T08:53:50.157640Z"
    }
   },
   "id": "d3db69ac88e2d60e",
   "execution_count": 13
  },
  {
   "cell_type": "code",
   "outputs": [
    {
     "name": "stdout",
     "output_type": "stream",
     "text": [
      "<class 'numpy.float64'>\n",
      "float64\n"
     ]
    }
   ],
   "source": [
    "print(type(products_df['new_price'][1]))\n",
    "print(products_df['new_price'].dtype)"
   ],
   "metadata": {
    "collapsed": false,
    "ExecuteTime": {
     "end_time": "2024-03-21T08:53:50.306232Z",
     "start_time": "2024-03-21T08:53:50.216264Z"
    }
   },
   "id": "ed24a3912631e4aa",
   "execution_count": 14
  },
  {
   "cell_type": "code",
   "outputs": [
    {
     "data": {
      "text/plain": "                                                name  new_price  old_price  \\\n0  NIVEA Radiant & Beauty Advanced Care Lotion Fo...      912.0  KSh 1,460   \n1  AILYONS FK-0301 Stainless Steel 1.8L Electric ...      628.0        NaN   \n2  Garnier Anti-Blemish Charcoal Serum With AHA +...     1400.0  KSh 1,750   \n3  NIVEA Perfect & Radiant Even Tone Day And Nigh...      887.0  KSh 1,560   \n4  NIVEA MEN Deep Antibacterial Anti-Perspirant R...      651.0  KSh 1,040   \n\n  discount        rating               votes  \n0      38%  4.7 out of 5   4.7 out of 5(721)  \n1      NaN  4.3 out of 5    4.3 out of 5(43)  \n2      20%  4.3 out of 5  4.3 out of 5(1546)  \n3      43%  4.5 out of 5  4.5 out of 5(2293)  \n4      37%  4.6 out of 5   4.6 out of 5(680)  ",
      "text/html": "<div>\n<style scoped>\n    .dataframe tbody tr th:only-of-type {\n        vertical-align: middle;\n    }\n\n    .dataframe tbody tr th {\n        vertical-align: top;\n    }\n\n    .dataframe thead th {\n        text-align: right;\n    }\n</style>\n<table border=\"1\" class=\"dataframe\">\n  <thead>\n    <tr style=\"text-align: right;\">\n      <th></th>\n      <th>name</th>\n      <th>new_price</th>\n      <th>old_price</th>\n      <th>discount</th>\n      <th>rating</th>\n      <th>votes</th>\n    </tr>\n  </thead>\n  <tbody>\n    <tr>\n      <th>0</th>\n      <td>NIVEA Radiant &amp; Beauty Advanced Care Lotion Fo...</td>\n      <td>912.0</td>\n      <td>KSh 1,460</td>\n      <td>38%</td>\n      <td>4.7 out of 5</td>\n      <td>4.7 out of 5(721)</td>\n    </tr>\n    <tr>\n      <th>1</th>\n      <td>AILYONS FK-0301 Stainless Steel 1.8L Electric ...</td>\n      <td>628.0</td>\n      <td>NaN</td>\n      <td>NaN</td>\n      <td>4.3 out of 5</td>\n      <td>4.3 out of 5(43)</td>\n    </tr>\n    <tr>\n      <th>2</th>\n      <td>Garnier Anti-Blemish Charcoal Serum With AHA +...</td>\n      <td>1400.0</td>\n      <td>KSh 1,750</td>\n      <td>20%</td>\n      <td>4.3 out of 5</td>\n      <td>4.3 out of 5(1546)</td>\n    </tr>\n    <tr>\n      <th>3</th>\n      <td>NIVEA Perfect &amp; Radiant Even Tone Day And Nigh...</td>\n      <td>887.0</td>\n      <td>KSh 1,560</td>\n      <td>43%</td>\n      <td>4.5 out of 5</td>\n      <td>4.5 out of 5(2293)</td>\n    </tr>\n    <tr>\n      <th>4</th>\n      <td>NIVEA MEN Deep Antibacterial Anti-Perspirant R...</td>\n      <td>651.0</td>\n      <td>KSh 1,040</td>\n      <td>37%</td>\n      <td>4.6 out of 5</td>\n      <td>4.6 out of 5(680)</td>\n    </tr>\n  </tbody>\n</table>\n</div>"
     },
     "execution_count": 15,
     "metadata": {},
     "output_type": "execute_result"
    }
   ],
   "source": [
    "products_df.head()"
   ],
   "metadata": {
    "collapsed": false,
    "ExecuteTime": {
     "end_time": "2024-03-21T08:53:50.420751Z",
     "start_time": "2024-03-21T08:53:50.307032Z"
    }
   },
   "id": "2267be4bad50e9ad",
   "execution_count": 15
  },
  {
   "cell_type": "code",
   "outputs": [],
   "source": [
    "# Saving stage one (new_price) data cleaning file to csv\n",
    "products_df.to_csv(\"../data/processed/1_all_products_new_price_cleaned.csv\")"
   ],
   "metadata": {
    "collapsed": false,
    "ExecuteTime": {
     "end_time": "2024-03-21T08:53:50.499599Z",
     "start_time": "2024-03-21T08:53:50.421898Z"
    }
   },
   "id": "57e983c5bd96c79",
   "execution_count": 16
  },
  {
   "cell_type": "markdown",
   "source": [
    "### Clean old_price column"
   ],
   "metadata": {
    "collapsed": false
   },
   "id": "ba17d9026f584101"
  },
  {
   "cell_type": "code",
   "outputs": [
    {
     "data": {
      "text/plain": "array(['KSh 1,460', nan, 'KSh 1,750', 'KSh 1,560', 'KSh 1,040',\n       'KSh 1,200', 'KSh 1,302', 'KSh 1,295', 'KSh 3,827', 'KSh 815'],\n      dtype=object)"
     },
     "execution_count": 17,
     "metadata": {},
     "output_type": "execute_result"
    }
   ],
   "source": [
    "# Read csv file cleaned in the previous stage (new_price column) & convert to dataframe\n",
    "products_df = pd.read_csv(\"../data/processed/1_all_products_new_price_cleaned.csv\", index_col=0)\n",
    "\n",
    "# Use [:10] notation to print the first 10 values\n",
    "products_df['old_price'].unique()[:10]"
   ],
   "metadata": {
    "collapsed": false,
    "ExecuteTime": {
     "end_time": "2024-03-21T08:53:50.579075Z",
     "start_time": "2024-03-21T08:53:50.500550Z"
    }
   },
   "id": "a53355520c2f30ae",
   "execution_count": 17
  },
  {
   "cell_type": "code",
   "outputs": [
    {
     "data": {
      "text/plain": "0    1,460\n1      NaN\n2    1,750\n3    1,560\n4    1,040\nName: old_price, dtype: object"
     },
     "execution_count": 18,
     "metadata": {},
     "output_type": "execute_result"
    }
   ],
   "source": [
    "# Remove currency name 'Ksh'\n",
    "# type(products_df['old_price'][1])\n",
    "products_df['old_price'] = products_df['old_price'].apply(lambda x: x.split(' ')[1] if x is not None and isinstance(x,str) else x)\n",
    "products_df['old_price'].head()"
   ],
   "metadata": {
    "collapsed": false,
    "ExecuteTime": {
     "end_time": "2024-03-21T08:53:50.641686Z",
     "start_time": "2024-03-21T08:53:50.580666Z"
    }
   },
   "id": "5a0109a5d43e344e",
   "execution_count": 18
  },
  {
   "cell_type": "code",
   "outputs": [
    {
     "data": {
      "text/plain": "0    1460\n1     NaN\n2    1750\n3    1560\n4    1040\n5    1200\n6    1750\n7     NaN\n8    1040\n9    1302\nName: old_price, dtype: object"
     },
     "execution_count": 19,
     "metadata": {},
     "output_type": "execute_result"
    }
   ],
   "source": [
    "# Remove commas from values\n",
    "products_df['old_price'] = products_df['old_price'].apply(lambda x: x.replace(',','') if x is not None and isinstance(x,str) else x)\n",
    "products_df['old_price'].head(10)"
   ],
   "metadata": {
    "collapsed": false,
    "ExecuteTime": {
     "end_time": "2024-03-21T08:53:50.700230Z",
     "start_time": "2024-03-21T08:53:50.643039Z"
    }
   },
   "id": "1ff042daaa234273",
   "execution_count": 19
  },
  {
   "cell_type": "code",
   "outputs": [
    {
     "data": {
      "text/plain": "0    1460.0\n1       NaN\n2    1750.0\n3    1560.0\n4    1040.0\n5    1200.0\n6    1750.0\n7       NaN\n8    1040.0\n9    1302.0\nName: old_price, dtype: float64"
     },
     "execution_count": 20,
     "metadata": {},
     "output_type": "execute_result"
    }
   ],
   "source": [
    "# Convert the string values into floats\n",
    "products_df['old_price'] = products_df['old_price'].apply(lambda x: float(x) if x is not None else x)\n",
    "products_df['old_price'].head(10)"
   ],
   "metadata": {
    "collapsed": false,
    "ExecuteTime": {
     "end_time": "2024-03-21T08:53:50.759878Z",
     "start_time": "2024-03-21T08:53:50.701289Z"
    }
   },
   "id": "c8d06329519bd37",
   "execution_count": 20
  },
  {
   "cell_type": "code",
   "outputs": [
    {
     "data": {
      "text/plain": "0        1460.0\n1           NaN\n2        1750.0\n3        1560.0\n4        1040.0\n         ...   \n1995      731.0\n1996     2778.0\n1997    15405.0\n1998     1197.0\n1999    21475.0\nName: old_price, Length: 2000, dtype: float64"
     },
     "execution_count": 21,
     "metadata": {},
     "output_type": "execute_result"
    }
   ],
   "source": [
    "products_df['old_price']"
   ],
   "metadata": {
    "collapsed": false,
    "ExecuteTime": {
     "end_time": "2024-03-21T08:53:50.849620Z",
     "start_time": "2024-03-21T08:53:50.760926Z"
    }
   },
   "id": "5a42602924adc716",
   "execution_count": 21
  },
  {
   "cell_type": "code",
   "outputs": [
    {
     "name": "stdout",
     "output_type": "stream",
     "text": [
      "<class 'numpy.float64'>\n",
      "float64\n"
     ]
    }
   ],
   "source": [
    "# Index 18 from above was null. So checking its type: \n",
    "print(type(products_df['old_price'][18]))\n",
    "print(products_df['old_price'].dtype)"
   ],
   "metadata": {
    "collapsed": false,
    "ExecuteTime": {
     "end_time": "2024-03-21T08:53:50.906287Z",
     "start_time": "2024-03-21T08:53:50.854028Z"
    }
   },
   "id": "c087a27309772dfc",
   "execution_count": 22
  },
  {
   "cell_type": "code",
   "outputs": [
    {
     "data": {
      "text/plain": "                                                name  new_price  old_price  \\\n0  NIVEA Radiant & Beauty Advanced Care Lotion Fo...      912.0     1460.0   \n1  AILYONS FK-0301 Stainless Steel 1.8L Electric ...      628.0        NaN   \n2  Garnier Anti-Blemish Charcoal Serum With AHA +...     1400.0     1750.0   \n3  NIVEA Perfect & Radiant Even Tone Day And Nigh...      887.0     1560.0   \n4  NIVEA MEN Deep Antibacterial Anti-Perspirant R...      651.0     1040.0   \n\n  discount        rating               votes  \n0      38%  4.7 out of 5   4.7 out of 5(721)  \n1      NaN  4.3 out of 5    4.3 out of 5(43)  \n2      20%  4.3 out of 5  4.3 out of 5(1546)  \n3      43%  4.5 out of 5  4.5 out of 5(2293)  \n4      37%  4.6 out of 5   4.6 out of 5(680)  ",
      "text/html": "<div>\n<style scoped>\n    .dataframe tbody tr th:only-of-type {\n        vertical-align: middle;\n    }\n\n    .dataframe tbody tr th {\n        vertical-align: top;\n    }\n\n    .dataframe thead th {\n        text-align: right;\n    }\n</style>\n<table border=\"1\" class=\"dataframe\">\n  <thead>\n    <tr style=\"text-align: right;\">\n      <th></th>\n      <th>name</th>\n      <th>new_price</th>\n      <th>old_price</th>\n      <th>discount</th>\n      <th>rating</th>\n      <th>votes</th>\n    </tr>\n  </thead>\n  <tbody>\n    <tr>\n      <th>0</th>\n      <td>NIVEA Radiant &amp; Beauty Advanced Care Lotion Fo...</td>\n      <td>912.0</td>\n      <td>1460.0</td>\n      <td>38%</td>\n      <td>4.7 out of 5</td>\n      <td>4.7 out of 5(721)</td>\n    </tr>\n    <tr>\n      <th>1</th>\n      <td>AILYONS FK-0301 Stainless Steel 1.8L Electric ...</td>\n      <td>628.0</td>\n      <td>NaN</td>\n      <td>NaN</td>\n      <td>4.3 out of 5</td>\n      <td>4.3 out of 5(43)</td>\n    </tr>\n    <tr>\n      <th>2</th>\n      <td>Garnier Anti-Blemish Charcoal Serum With AHA +...</td>\n      <td>1400.0</td>\n      <td>1750.0</td>\n      <td>20%</td>\n      <td>4.3 out of 5</td>\n      <td>4.3 out of 5(1546)</td>\n    </tr>\n    <tr>\n      <th>3</th>\n      <td>NIVEA Perfect &amp; Radiant Even Tone Day And Nigh...</td>\n      <td>887.0</td>\n      <td>1560.0</td>\n      <td>43%</td>\n      <td>4.5 out of 5</td>\n      <td>4.5 out of 5(2293)</td>\n    </tr>\n    <tr>\n      <th>4</th>\n      <td>NIVEA MEN Deep Antibacterial Anti-Perspirant R...</td>\n      <td>651.0</td>\n      <td>1040.0</td>\n      <td>37%</td>\n      <td>4.6 out of 5</td>\n      <td>4.6 out of 5(680)</td>\n    </tr>\n  </tbody>\n</table>\n</div>"
     },
     "execution_count": 23,
     "metadata": {},
     "output_type": "execute_result"
    }
   ],
   "source": [
    "products_df.head()"
   ],
   "metadata": {
    "collapsed": false,
    "ExecuteTime": {
     "end_time": "2024-03-21T08:53:50.968598Z",
     "start_time": "2024-03-21T08:53:50.907320Z"
    }
   },
   "id": "716461a82bff9ecc",
   "execution_count": 23
  },
  {
   "cell_type": "code",
   "outputs": [],
   "source": [
    "# Saving stage two data (old_price column) cleaning dataframe to csv\n",
    "products_df.to_csv(\"../data/processed/2_all_products_old_price_cleaned.csv\")"
   ],
   "metadata": {
    "collapsed": false,
    "ExecuteTime": {
     "end_time": "2024-03-21T08:53:51.028765Z",
     "start_time": "2024-03-21T08:53:50.969562Z"
    }
   },
   "id": "a3db5d486f4261e0",
   "execution_count": 24
  },
  {
   "cell_type": "markdown",
   "source": [
    "### Cleaning 'discount' column"
   ],
   "metadata": {
    "collapsed": false
   },
   "id": "c63cd53e0523a410"
  },
  {
   "cell_type": "code",
   "outputs": [
    {
     "data": {
      "text/plain": "array(['38%', nan, '20%', '43%', '37%', '39%', '29%', '15%', '35%', '1%'],\n      dtype=object)"
     },
     "execution_count": 25,
     "metadata": {},
     "output_type": "execute_result"
    }
   ],
   "source": [
    "# Read csv file from stage 2 (old_price column cleanup) to get dataframe\n",
    "products_df = pd.read_csv(\"../data/processed/2_all_products_old_price_cleaned.csv\", index_col=0)\n",
    "\n",
    "# Use [:10] notation to print the first 10 values\n",
    "products_df['discount'].unique()[:10]"
   ],
   "metadata": {
    "collapsed": false,
    "ExecuteTime": {
     "end_time": "2024-03-21T08:53:51.119658Z",
     "start_time": "2024-03-21T08:53:51.029935Z"
    }
   },
   "id": "ec13b5b9215cdc2",
   "execution_count": 25
  },
  {
   "cell_type": "code",
   "outputs": [
    {
     "data": {
      "text/plain": "array(['38', nan, '20', '43', '37', '39', '29', '15', '35', '1', '30',\n       '8', '5', '7', '9', '17', '4', '87', '42', '28', '21', '23', '36',\n       '24', '45', '44', '50', '47', '46', '49', '48', '40', '33', '53',\n       '25', '16', '19', '18', '41', '13', '34', '22', '31', '32', '27',\n       '10'], dtype=object)"
     },
     "execution_count": 26,
     "metadata": {},
     "output_type": "execute_result"
    }
   ],
   "source": [
    "# Remove the percent sign\n",
    "products_df['discount'] = products_df['discount'].apply(lambda x: x.replace('%','') if x is not None and isinstance(x,str) else x)\n",
    "products_df['discount'].unique()"
   ],
   "metadata": {
    "collapsed": false,
    "ExecuteTime": {
     "end_time": "2024-03-21T08:53:51.183245Z",
     "start_time": "2024-03-21T08:53:51.120606Z"
    }
   },
   "id": "50d15c0d3acb2d34",
   "execution_count": 26
  },
  {
   "cell_type": "code",
   "outputs": [
    {
     "data": {
      "text/plain": "array([0.38,  nan, 0.2 , 0.43, 0.37, 0.39, 0.29, 0.15, 0.35, 0.01, 0.3 ,\n       0.08, 0.05, 0.07, 0.09, 0.17, 0.04, 0.87, 0.42, 0.28, 0.21, 0.23,\n       0.36, 0.24, 0.45, 0.44, 0.5 , 0.47, 0.46, 0.49, 0.48, 0.4 , 0.33,\n       0.53, 0.25, 0.16, 0.19, 0.18, 0.41, 0.13, 0.34, 0.22, 0.31, 0.32,\n       0.27, 0.1 ])"
     },
     "execution_count": 27,
     "metadata": {},
     "output_type": "execute_result"
    }
   ],
   "source": [
    "# Convert values into float & divide by 100 to represent the percentages as decimal values\n",
    "products_df['discount'] = products_df['discount'].apply(lambda x: float(x)/100 if x is not None else x)\n",
    "products_df['discount'].unique()  # A numbers now floats and None replaced with NaN"
   ],
   "metadata": {
    "collapsed": false,
    "ExecuteTime": {
     "end_time": "2024-03-21T08:53:51.275425Z",
     "start_time": "2024-03-21T08:53:51.184331Z"
    }
   },
   "id": "2acf30f22baf5ded",
   "execution_count": 27
  },
  {
   "cell_type": "code",
   "outputs": [
    {
     "data": {
      "text/plain": "                                                name  new_price  old_price  \\\n0  NIVEA Radiant & Beauty Advanced Care Lotion Fo...      912.0     1460.0   \n1  AILYONS FK-0301 Stainless Steel 1.8L Electric ...      628.0        NaN   \n2  Garnier Anti-Blemish Charcoal Serum With AHA +...     1400.0     1750.0   \n3  NIVEA Perfect & Radiant Even Tone Day And Nigh...      887.0     1560.0   \n4  NIVEA MEN Deep Antibacterial Anti-Perspirant R...      651.0     1040.0   \n\n   discount        rating               votes  \n0      0.38  4.7 out of 5   4.7 out of 5(721)  \n1       NaN  4.3 out of 5    4.3 out of 5(43)  \n2      0.20  4.3 out of 5  4.3 out of 5(1546)  \n3      0.43  4.5 out of 5  4.5 out of 5(2293)  \n4      0.37  4.6 out of 5   4.6 out of 5(680)  ",
      "text/html": "<div>\n<style scoped>\n    .dataframe tbody tr th:only-of-type {\n        vertical-align: middle;\n    }\n\n    .dataframe tbody tr th {\n        vertical-align: top;\n    }\n\n    .dataframe thead th {\n        text-align: right;\n    }\n</style>\n<table border=\"1\" class=\"dataframe\">\n  <thead>\n    <tr style=\"text-align: right;\">\n      <th></th>\n      <th>name</th>\n      <th>new_price</th>\n      <th>old_price</th>\n      <th>discount</th>\n      <th>rating</th>\n      <th>votes</th>\n    </tr>\n  </thead>\n  <tbody>\n    <tr>\n      <th>0</th>\n      <td>NIVEA Radiant &amp; Beauty Advanced Care Lotion Fo...</td>\n      <td>912.0</td>\n      <td>1460.0</td>\n      <td>0.38</td>\n      <td>4.7 out of 5</td>\n      <td>4.7 out of 5(721)</td>\n    </tr>\n    <tr>\n      <th>1</th>\n      <td>AILYONS FK-0301 Stainless Steel 1.8L Electric ...</td>\n      <td>628.0</td>\n      <td>NaN</td>\n      <td>NaN</td>\n      <td>4.3 out of 5</td>\n      <td>4.3 out of 5(43)</td>\n    </tr>\n    <tr>\n      <th>2</th>\n      <td>Garnier Anti-Blemish Charcoal Serum With AHA +...</td>\n      <td>1400.0</td>\n      <td>1750.0</td>\n      <td>0.20</td>\n      <td>4.3 out of 5</td>\n      <td>4.3 out of 5(1546)</td>\n    </tr>\n    <tr>\n      <th>3</th>\n      <td>NIVEA Perfect &amp; Radiant Even Tone Day And Nigh...</td>\n      <td>887.0</td>\n      <td>1560.0</td>\n      <td>0.43</td>\n      <td>4.5 out of 5</td>\n      <td>4.5 out of 5(2293)</td>\n    </tr>\n    <tr>\n      <th>4</th>\n      <td>NIVEA MEN Deep Antibacterial Anti-Perspirant R...</td>\n      <td>651.0</td>\n      <td>1040.0</td>\n      <td>0.37</td>\n      <td>4.6 out of 5</td>\n      <td>4.6 out of 5(680)</td>\n    </tr>\n  </tbody>\n</table>\n</div>"
     },
     "execution_count": 28,
     "metadata": {},
     "output_type": "execute_result"
    }
   ],
   "source": [
    "# Check head once more\n",
    "products_df.head()"
   ],
   "metadata": {
    "collapsed": false,
    "ExecuteTime": {
     "end_time": "2024-03-21T08:53:51.404309Z",
     "start_time": "2024-03-21T08:53:51.276501Z"
    }
   },
   "id": "4e83eb5e61f09d0d",
   "execution_count": 28
  },
  {
   "cell_type": "code",
   "outputs": [],
   "source": [
    "# Saving stage three data cleaning file to csv\n",
    "products_df.to_csv(\"../data/processed/3_all_products_discount_cleaned.csv\")"
   ],
   "metadata": {
    "collapsed": false,
    "ExecuteTime": {
     "end_time": "2024-03-21T08:53:51.472244Z",
     "start_time": "2024-03-21T08:53:51.405448Z"
    }
   },
   "id": "c40aa159ab2a96e2",
   "execution_count": 29
  },
  {
   "cell_type": "markdown",
   "source": [
    "### Cleaning the rating column"
   ],
   "metadata": {
    "collapsed": false
   },
   "id": "6535be48b259ac7f"
  },
  {
   "cell_type": "code",
   "outputs": [
    {
     "data": {
      "text/plain": "array(['4.7 out of 5', '4.3 out of 5', '4.5 out of 5', '4.6 out of 5',\n       '4.4 out of 5', '4.2 out of 5', '4.8 out of 5', '4 out of 5',\n       '3 out of 5', '3.4 out of 5'], dtype=object)"
     },
     "execution_count": 30,
     "metadata": {},
     "output_type": "execute_result"
    }
   ],
   "source": [
    "# Read file cleaned in prior stage (discount column) to get dataframe\n",
    "products_df = pd.read_csv(\"../data/processed/3_all_products_discount_cleaned.csv\", index_col=0)\n",
    "\n",
    "# Check for unique values first\n",
    "products_df['rating'].unique()[:10]"
   ],
   "metadata": {
    "collapsed": false,
    "ExecuteTime": {
     "end_time": "2024-03-21T08:53:51.563087Z",
     "start_time": "2024-03-21T08:53:51.473270Z"
    }
   },
   "id": "d64b3fc3696c1017",
   "execution_count": 30
  },
  {
   "cell_type": "code",
   "outputs": [
    {
     "data": {
      "text/plain": "array(['4.7', '4.3', '4.5', '4.6', '4.4', '4.2', '4.8', '4', '3', '3.4',\n       '4.9', '3.8', '5', nan, '2.7', '3.7', '4.1', '1', '3.5', '3.9'],\n      dtype=object)"
     },
     "execution_count": 31,
     "metadata": {},
     "output_type": "execute_result"
    }
   ],
   "source": [
    "# Split rating string values into 4 elements and select the first element unless its None(left as is)\n",
    "products_df['rating'] = products_df['rating'].apply(lambda x: x.split(' ')[0] if x is not None and isinstance(x,str) else x)\n",
    "products_df['rating'].unique()"
   ],
   "metadata": {
    "collapsed": false,
    "ExecuteTime": {
     "end_time": "2024-03-21T08:53:51.650209Z",
     "start_time": "2024-03-21T08:53:51.564179Z"
    }
   },
   "id": "eca5fc6ac9c05c5b",
   "execution_count": 31
  },
  {
   "cell_type": "code",
   "outputs": [
    {
     "name": "stdout",
     "output_type": "stream",
     "text": [
      "float64\n"
     ]
    }
   ],
   "source": [
    "# Convert the values into float\n",
    "products_df['rating'] = products_df['rating'].apply(lambda x: float(x) if x is not None else x)\n",
    "print(products_df['rating'].dtype)"
   ],
   "metadata": {
    "collapsed": false,
    "ExecuteTime": {
     "end_time": "2024-03-21T08:53:51.707351Z",
     "start_time": "2024-03-21T08:53:51.651328Z"
    }
   },
   "id": "d1f3fd6eefd62dcf",
   "execution_count": 32
  },
  {
   "cell_type": "code",
   "outputs": [
    {
     "data": {
      "text/plain": "                                                 name  new_price  old_price  \\\n0   NIVEA Radiant & Beauty Advanced Care Lotion Fo...      912.0     1460.0   \n1   AILYONS FK-0301 Stainless Steel 1.8L Electric ...      628.0        NaN   \n2   Garnier Anti-Blemish Charcoal Serum With AHA +...     1400.0     1750.0   \n3   NIVEA Perfect & Radiant Even Tone Day And Nigh...      887.0     1560.0   \n4   NIVEA MEN Deep Antibacterial Anti-Perspirant R...      651.0     1040.0   \n5   Garnier Even & Matte Vitamin C Protection Crea...      960.0     1200.0   \n6   Garnier Even & Matte  Vitamin C Booster Serum ...     1400.0     1750.0   \n7   Nunix R5 Hot & Normal Free Standing Water Disp...     4180.0        NaN   \n8   NIVEA Pearl & Beauty Anti-Perspirant Rollon, 4...      651.0     1040.0   \n9   NIVEA Nourishing Cocoa Body Lotion With Cocoa ...      800.0     1302.0   \n10  Garnier Even & Matte  Vitamin C Booster Serum ...      850.0        NaN   \n11  Garnier Pure Active 3 In1 Charcoal Anti Blackh...     1036.0     1295.0   \n12            Jameson Jameson Irish Whiskey - 1 Litre     2699.0     3827.0   \n13      Garnier Even & Matte Vitamin C Cleansing Foam      652.0      815.0   \n14  NIVEA Lemongrass & Oil Shower Gel For Women - ...      675.0     1190.0   \n15                 Nunix Free standing Hot and Normal     3685.0        NaN   \n16   L'Oreal GLYCOLIC BRIGHT FACE CLEANSER FOAM 100ML      680.0      850.0   \n17                 Garnier Bye Acne & Dark Spots Kit.     3608.0     4245.0   \n18  NIVEA Q10 Power Anti-Wrinkle Day Cream 50ml & ...     2182.0     3840.0   \n19           Garnier Even & Matte Dark Spot Corrector     1050.0        NaN   \n\n    discount  rating               votes  \n0       0.38     4.7   4.7 out of 5(721)  \n1        NaN     4.3    4.3 out of 5(43)  \n2       0.20     4.3  4.3 out of 5(1546)  \n3       0.43     4.5  4.5 out of 5(2293)  \n4       0.37     4.6   4.6 out of 5(680)  \n5       0.20     4.3  4.3 out of 5(1078)  \n6       0.20     4.4  4.4 out of 5(3845)  \n7        NaN     4.2   4.2 out of 5(101)  \n8       0.37     4.6   4.6 out of 5(853)  \n9       0.39     4.7  4.7 out of 5(1162)  \n10       NaN     4.2   4.2 out of 5(786)  \n11      0.20     4.4  4.4 out of 5(4808)  \n12      0.29     4.6   4.6 out of 5(250)  \n13      0.20     4.4  4.4 out of 5(2073)  \n14      0.43     4.6   4.6 out of 5(663)  \n15       NaN     4.8     4.8 out of 5(4)  \n16      0.20     4.7    4.7 out of 5(51)  \n17      0.15     4.3   4.3 out of 5(703)  \n18      0.43     4.6   4.6 out of 5(426)  \n19       NaN     4.0    4 out of 5(2762)  ",
      "text/html": "<div>\n<style scoped>\n    .dataframe tbody tr th:only-of-type {\n        vertical-align: middle;\n    }\n\n    .dataframe tbody tr th {\n        vertical-align: top;\n    }\n\n    .dataframe thead th {\n        text-align: right;\n    }\n</style>\n<table border=\"1\" class=\"dataframe\">\n  <thead>\n    <tr style=\"text-align: right;\">\n      <th></th>\n      <th>name</th>\n      <th>new_price</th>\n      <th>old_price</th>\n      <th>discount</th>\n      <th>rating</th>\n      <th>votes</th>\n    </tr>\n  </thead>\n  <tbody>\n    <tr>\n      <th>0</th>\n      <td>NIVEA Radiant &amp; Beauty Advanced Care Lotion Fo...</td>\n      <td>912.0</td>\n      <td>1460.0</td>\n      <td>0.38</td>\n      <td>4.7</td>\n      <td>4.7 out of 5(721)</td>\n    </tr>\n    <tr>\n      <th>1</th>\n      <td>AILYONS FK-0301 Stainless Steel 1.8L Electric ...</td>\n      <td>628.0</td>\n      <td>NaN</td>\n      <td>NaN</td>\n      <td>4.3</td>\n      <td>4.3 out of 5(43)</td>\n    </tr>\n    <tr>\n      <th>2</th>\n      <td>Garnier Anti-Blemish Charcoal Serum With AHA +...</td>\n      <td>1400.0</td>\n      <td>1750.0</td>\n      <td>0.20</td>\n      <td>4.3</td>\n      <td>4.3 out of 5(1546)</td>\n    </tr>\n    <tr>\n      <th>3</th>\n      <td>NIVEA Perfect &amp; Radiant Even Tone Day And Nigh...</td>\n      <td>887.0</td>\n      <td>1560.0</td>\n      <td>0.43</td>\n      <td>4.5</td>\n      <td>4.5 out of 5(2293)</td>\n    </tr>\n    <tr>\n      <th>4</th>\n      <td>NIVEA MEN Deep Antibacterial Anti-Perspirant R...</td>\n      <td>651.0</td>\n      <td>1040.0</td>\n      <td>0.37</td>\n      <td>4.6</td>\n      <td>4.6 out of 5(680)</td>\n    </tr>\n    <tr>\n      <th>5</th>\n      <td>Garnier Even &amp; Matte Vitamin C Protection Crea...</td>\n      <td>960.0</td>\n      <td>1200.0</td>\n      <td>0.20</td>\n      <td>4.3</td>\n      <td>4.3 out of 5(1078)</td>\n    </tr>\n    <tr>\n      <th>6</th>\n      <td>Garnier Even &amp; Matte  Vitamin C Booster Serum ...</td>\n      <td>1400.0</td>\n      <td>1750.0</td>\n      <td>0.20</td>\n      <td>4.4</td>\n      <td>4.4 out of 5(3845)</td>\n    </tr>\n    <tr>\n      <th>7</th>\n      <td>Nunix R5 Hot &amp; Normal Free Standing Water Disp...</td>\n      <td>4180.0</td>\n      <td>NaN</td>\n      <td>NaN</td>\n      <td>4.2</td>\n      <td>4.2 out of 5(101)</td>\n    </tr>\n    <tr>\n      <th>8</th>\n      <td>NIVEA Pearl &amp; Beauty Anti-Perspirant Rollon, 4...</td>\n      <td>651.0</td>\n      <td>1040.0</td>\n      <td>0.37</td>\n      <td>4.6</td>\n      <td>4.6 out of 5(853)</td>\n    </tr>\n    <tr>\n      <th>9</th>\n      <td>NIVEA Nourishing Cocoa Body Lotion With Cocoa ...</td>\n      <td>800.0</td>\n      <td>1302.0</td>\n      <td>0.39</td>\n      <td>4.7</td>\n      <td>4.7 out of 5(1162)</td>\n    </tr>\n    <tr>\n      <th>10</th>\n      <td>Garnier Even &amp; Matte  Vitamin C Booster Serum ...</td>\n      <td>850.0</td>\n      <td>NaN</td>\n      <td>NaN</td>\n      <td>4.2</td>\n      <td>4.2 out of 5(786)</td>\n    </tr>\n    <tr>\n      <th>11</th>\n      <td>Garnier Pure Active 3 In1 Charcoal Anti Blackh...</td>\n      <td>1036.0</td>\n      <td>1295.0</td>\n      <td>0.20</td>\n      <td>4.4</td>\n      <td>4.4 out of 5(4808)</td>\n    </tr>\n    <tr>\n      <th>12</th>\n      <td>Jameson Jameson Irish Whiskey - 1 Litre</td>\n      <td>2699.0</td>\n      <td>3827.0</td>\n      <td>0.29</td>\n      <td>4.6</td>\n      <td>4.6 out of 5(250)</td>\n    </tr>\n    <tr>\n      <th>13</th>\n      <td>Garnier Even &amp; Matte Vitamin C Cleansing Foam</td>\n      <td>652.0</td>\n      <td>815.0</td>\n      <td>0.20</td>\n      <td>4.4</td>\n      <td>4.4 out of 5(2073)</td>\n    </tr>\n    <tr>\n      <th>14</th>\n      <td>NIVEA Lemongrass &amp; Oil Shower Gel For Women - ...</td>\n      <td>675.0</td>\n      <td>1190.0</td>\n      <td>0.43</td>\n      <td>4.6</td>\n      <td>4.6 out of 5(663)</td>\n    </tr>\n    <tr>\n      <th>15</th>\n      <td>Nunix Free standing Hot and Normal</td>\n      <td>3685.0</td>\n      <td>NaN</td>\n      <td>NaN</td>\n      <td>4.8</td>\n      <td>4.8 out of 5(4)</td>\n    </tr>\n    <tr>\n      <th>16</th>\n      <td>L'Oreal GLYCOLIC BRIGHT FACE CLEANSER FOAM 100ML</td>\n      <td>680.0</td>\n      <td>850.0</td>\n      <td>0.20</td>\n      <td>4.7</td>\n      <td>4.7 out of 5(51)</td>\n    </tr>\n    <tr>\n      <th>17</th>\n      <td>Garnier Bye Acne &amp; Dark Spots Kit.</td>\n      <td>3608.0</td>\n      <td>4245.0</td>\n      <td>0.15</td>\n      <td>4.3</td>\n      <td>4.3 out of 5(703)</td>\n    </tr>\n    <tr>\n      <th>18</th>\n      <td>NIVEA Q10 Power Anti-Wrinkle Day Cream 50ml &amp; ...</td>\n      <td>2182.0</td>\n      <td>3840.0</td>\n      <td>0.43</td>\n      <td>4.6</td>\n      <td>4.6 out of 5(426)</td>\n    </tr>\n    <tr>\n      <th>19</th>\n      <td>Garnier Even &amp; Matte Dark Spot Corrector</td>\n      <td>1050.0</td>\n      <td>NaN</td>\n      <td>NaN</td>\n      <td>4.0</td>\n      <td>4 out of 5(2762)</td>\n    </tr>\n  </tbody>\n</table>\n</div>"
     },
     "execution_count": 33,
     "metadata": {},
     "output_type": "execute_result"
    }
   ],
   "source": [
    "products_df.head(20)"
   ],
   "metadata": {
    "collapsed": false,
    "ExecuteTime": {
     "end_time": "2024-03-21T08:53:51.797175Z",
     "start_time": "2024-03-21T08:53:51.708402Z"
    }
   },
   "id": "6f35b7c6bec53f92",
   "execution_count": 33
  },
  {
   "cell_type": "code",
   "outputs": [],
   "source": [
    "# Saving stage four data cleaning file to csv\n",
    "products_df.to_csv(\"../data/processed/4_all_products_rating_cleaned.csv\")"
   ],
   "metadata": {
    "collapsed": false,
    "ExecuteTime": {
     "end_time": "2024-03-21T08:53:51.863530Z",
     "start_time": "2024-03-21T08:53:51.798319Z"
    }
   },
   "id": "277a8145e3ba6fba",
   "execution_count": 34
  },
  {
   "cell_type": "markdown",
   "source": [
    "### Cleaning the 'votes' column"
   ],
   "metadata": {
    "collapsed": false
   },
   "id": "a4d6415ea873b0d1"
  },
  {
   "cell_type": "code",
   "outputs": [
    {
     "data": {
      "text/plain": "array(['4.7 out of 5(721)', '4.3 out of 5(43)', '4.3 out of 5(1546)',\n       '4.5 out of 5(2293)', '4.6 out of 5(680)', '4.3 out of 5(1078)',\n       '4.4 out of 5(3845)', '4.2 out of 5(101)', '4.6 out of 5(853)',\n       '4.7 out of 5(1162)'], dtype=object)"
     },
     "execution_count": 35,
     "metadata": {},
     "output_type": "execute_result"
    }
   ],
   "source": [
    "# Read csv file saved in prior cleaning stage (rating column) to obtain dataframe\n",
    "products_df = pd.read_csv(\"../data/processed/4_all_products_rating_cleaned.csv\", index_col=0)\n",
    "\n",
    "# Explore unique values\n",
    "products_df['votes'].unique()[:10]"
   ],
   "metadata": {
    "collapsed": false,
    "ExecuteTime": {
     "end_time": "2024-03-21T08:53:51.952961Z",
     "start_time": "2024-03-21T08:53:51.864688Z"
    }
   },
   "id": "a961defaeec97dd7",
   "execution_count": 35
  },
  {
   "cell_type": "code",
   "outputs": [
    {
     "data": {
      "text/plain": "array([ 721.,   43., 1546., 2293.,  680., 1078., 3845.,  101.,  853.,\n       1162.,  786., 4808.,  250., 2073.,  663.])"
     },
     "execution_count": 36,
     "metadata": {},
     "output_type": "execute_result"
    }
   ],
   "source": [
    "# Extract the votes count with string manipulation methods & convert values to floats\n",
    "products_df['votes'] = products_df['votes'].apply(lambda x: float(x.split('(')[1].split(')')[0]) if x is not None and isinstance(x,str) else x)\n",
    "products_df['votes'].unique()[:15]"
   ],
   "metadata": {
    "collapsed": false,
    "ExecuteTime": {
     "end_time": "2024-03-21T08:53:52.024507Z",
     "start_time": "2024-03-21T08:53:51.953853Z"
    }
   },
   "id": "a5ffc888a7d31fec",
   "execution_count": 36
  },
  {
   "cell_type": "code",
   "outputs": [
    {
     "data": {
      "text/plain": "                                                name  new_price  old_price  \\\n0  NIVEA Radiant & Beauty Advanced Care Lotion Fo...      912.0     1460.0   \n1  AILYONS FK-0301 Stainless Steel 1.8L Electric ...      628.0        NaN   \n2  Garnier Anti-Blemish Charcoal Serum With AHA +...     1400.0     1750.0   \n3  NIVEA Perfect & Radiant Even Tone Day And Nigh...      887.0     1560.0   \n4  NIVEA MEN Deep Antibacterial Anti-Perspirant R...      651.0     1040.0   \n5  Garnier Even & Matte Vitamin C Protection Crea...      960.0     1200.0   \n6  Garnier Even & Matte  Vitamin C Booster Serum ...     1400.0     1750.0   \n7  Nunix R5 Hot & Normal Free Standing Water Disp...     4180.0        NaN   \n8  NIVEA Pearl & Beauty Anti-Perspirant Rollon, 4...      651.0     1040.0   \n9  NIVEA Nourishing Cocoa Body Lotion With Cocoa ...      800.0     1302.0   \n\n   discount  rating   votes  \n0      0.38     4.7   721.0  \n1       NaN     4.3    43.0  \n2      0.20     4.3  1546.0  \n3      0.43     4.5  2293.0  \n4      0.37     4.6   680.0  \n5      0.20     4.3  1078.0  \n6      0.20     4.4  3845.0  \n7       NaN     4.2   101.0  \n8      0.37     4.6   853.0  \n9      0.39     4.7  1162.0  ",
      "text/html": "<div>\n<style scoped>\n    .dataframe tbody tr th:only-of-type {\n        vertical-align: middle;\n    }\n\n    .dataframe tbody tr th {\n        vertical-align: top;\n    }\n\n    .dataframe thead th {\n        text-align: right;\n    }\n</style>\n<table border=\"1\" class=\"dataframe\">\n  <thead>\n    <tr style=\"text-align: right;\">\n      <th></th>\n      <th>name</th>\n      <th>new_price</th>\n      <th>old_price</th>\n      <th>discount</th>\n      <th>rating</th>\n      <th>votes</th>\n    </tr>\n  </thead>\n  <tbody>\n    <tr>\n      <th>0</th>\n      <td>NIVEA Radiant &amp; Beauty Advanced Care Lotion Fo...</td>\n      <td>912.0</td>\n      <td>1460.0</td>\n      <td>0.38</td>\n      <td>4.7</td>\n      <td>721.0</td>\n    </tr>\n    <tr>\n      <th>1</th>\n      <td>AILYONS FK-0301 Stainless Steel 1.8L Electric ...</td>\n      <td>628.0</td>\n      <td>NaN</td>\n      <td>NaN</td>\n      <td>4.3</td>\n      <td>43.0</td>\n    </tr>\n    <tr>\n      <th>2</th>\n      <td>Garnier Anti-Blemish Charcoal Serum With AHA +...</td>\n      <td>1400.0</td>\n      <td>1750.0</td>\n      <td>0.20</td>\n      <td>4.3</td>\n      <td>1546.0</td>\n    </tr>\n    <tr>\n      <th>3</th>\n      <td>NIVEA Perfect &amp; Radiant Even Tone Day And Nigh...</td>\n      <td>887.0</td>\n      <td>1560.0</td>\n      <td>0.43</td>\n      <td>4.5</td>\n      <td>2293.0</td>\n    </tr>\n    <tr>\n      <th>4</th>\n      <td>NIVEA MEN Deep Antibacterial Anti-Perspirant R...</td>\n      <td>651.0</td>\n      <td>1040.0</td>\n      <td>0.37</td>\n      <td>4.6</td>\n      <td>680.0</td>\n    </tr>\n    <tr>\n      <th>5</th>\n      <td>Garnier Even &amp; Matte Vitamin C Protection Crea...</td>\n      <td>960.0</td>\n      <td>1200.0</td>\n      <td>0.20</td>\n      <td>4.3</td>\n      <td>1078.0</td>\n    </tr>\n    <tr>\n      <th>6</th>\n      <td>Garnier Even &amp; Matte  Vitamin C Booster Serum ...</td>\n      <td>1400.0</td>\n      <td>1750.0</td>\n      <td>0.20</td>\n      <td>4.4</td>\n      <td>3845.0</td>\n    </tr>\n    <tr>\n      <th>7</th>\n      <td>Nunix R5 Hot &amp; Normal Free Standing Water Disp...</td>\n      <td>4180.0</td>\n      <td>NaN</td>\n      <td>NaN</td>\n      <td>4.2</td>\n      <td>101.0</td>\n    </tr>\n    <tr>\n      <th>8</th>\n      <td>NIVEA Pearl &amp; Beauty Anti-Perspirant Rollon, 4...</td>\n      <td>651.0</td>\n      <td>1040.0</td>\n      <td>0.37</td>\n      <td>4.6</td>\n      <td>853.0</td>\n    </tr>\n    <tr>\n      <th>9</th>\n      <td>NIVEA Nourishing Cocoa Body Lotion With Cocoa ...</td>\n      <td>800.0</td>\n      <td>1302.0</td>\n      <td>0.39</td>\n      <td>4.7</td>\n      <td>1162.0</td>\n    </tr>\n  </tbody>\n</table>\n</div>"
     },
     "execution_count": 37,
     "metadata": {},
     "output_type": "execute_result"
    }
   ],
   "source": [
    "products_df.head(10)"
   ],
   "metadata": {
    "collapsed": false,
    "ExecuteTime": {
     "end_time": "2024-03-21T08:53:52.111620Z",
     "start_time": "2024-03-21T08:53:52.025526Z"
    }
   },
   "id": "66caa8a96b465dda",
   "execution_count": 37
  },
  {
   "cell_type": "code",
   "outputs": [
    {
     "data": {
      "text/plain": "                                                   name  new_price  old_price  \\\n0     NIVEA Radiant & Beauty Advanced Care Lotion Fo...      912.0     1460.0   \n1     AILYONS FK-0301 Stainless Steel 1.8L Electric ...      628.0        NaN   \n2     Garnier Anti-Blemish Charcoal Serum With AHA +...     1400.0     1750.0   \n3     NIVEA Perfect & Radiant Even Tone Day And Nigh...      887.0     1560.0   \n4     NIVEA MEN Deep Antibacterial Anti-Perspirant R...      651.0     1040.0   \n...                                                 ...        ...        ...   \n1731      Motorola Moto G6 Bumper Phone Case Back Cover      679.0     1358.0   \n1755  Toss and Catch Game Set Paddle Catch Ball Game...      913.0        NaN   \n1834               Football Soccer Ball - PURE Leather-     1499.0     1899.0   \n1880  Samsung Galaxy S21 Ultra 5G Case, Slim PU Leat...     1548.0     2748.0   \n1882  Galaxy S21 Ultra Case, Premium Retro Leather M...     1548.0     2508.0   \n\n      discount  rating   votes  \n0         0.38     4.7   721.0  \n1          NaN     4.3    43.0  \n2         0.20     4.3  1546.0  \n3         0.43     4.5  2293.0  \n4         0.37     4.6   680.0  \n...        ...     ...     ...  \n1731      0.50     5.0     1.0  \n1755       NaN     4.0     1.0  \n1834      0.21     4.5     2.0  \n1880      0.44     4.5     2.0  \n1882      0.38     5.0     1.0  \n\n[134 rows x 6 columns]",
      "text/html": "<div>\n<style scoped>\n    .dataframe tbody tr th:only-of-type {\n        vertical-align: middle;\n    }\n\n    .dataframe tbody tr th {\n        vertical-align: top;\n    }\n\n    .dataframe thead th {\n        text-align: right;\n    }\n</style>\n<table border=\"1\" class=\"dataframe\">\n  <thead>\n    <tr style=\"text-align: right;\">\n      <th></th>\n      <th>name</th>\n      <th>new_price</th>\n      <th>old_price</th>\n      <th>discount</th>\n      <th>rating</th>\n      <th>votes</th>\n    </tr>\n  </thead>\n  <tbody>\n    <tr>\n      <th>0</th>\n      <td>NIVEA Radiant &amp; Beauty Advanced Care Lotion Fo...</td>\n      <td>912.0</td>\n      <td>1460.0</td>\n      <td>0.38</td>\n      <td>4.7</td>\n      <td>721.0</td>\n    </tr>\n    <tr>\n      <th>1</th>\n      <td>AILYONS FK-0301 Stainless Steel 1.8L Electric ...</td>\n      <td>628.0</td>\n      <td>NaN</td>\n      <td>NaN</td>\n      <td>4.3</td>\n      <td>43.0</td>\n    </tr>\n    <tr>\n      <th>2</th>\n      <td>Garnier Anti-Blemish Charcoal Serum With AHA +...</td>\n      <td>1400.0</td>\n      <td>1750.0</td>\n      <td>0.20</td>\n      <td>4.3</td>\n      <td>1546.0</td>\n    </tr>\n    <tr>\n      <th>3</th>\n      <td>NIVEA Perfect &amp; Radiant Even Tone Day And Nigh...</td>\n      <td>887.0</td>\n      <td>1560.0</td>\n      <td>0.43</td>\n      <td>4.5</td>\n      <td>2293.0</td>\n    </tr>\n    <tr>\n      <th>4</th>\n      <td>NIVEA MEN Deep Antibacterial Anti-Perspirant R...</td>\n      <td>651.0</td>\n      <td>1040.0</td>\n      <td>0.37</td>\n      <td>4.6</td>\n      <td>680.0</td>\n    </tr>\n    <tr>\n      <th>...</th>\n      <td>...</td>\n      <td>...</td>\n      <td>...</td>\n      <td>...</td>\n      <td>...</td>\n      <td>...</td>\n    </tr>\n    <tr>\n      <th>1731</th>\n      <td>Motorola Moto G6 Bumper Phone Case Back Cover</td>\n      <td>679.0</td>\n      <td>1358.0</td>\n      <td>0.50</td>\n      <td>5.0</td>\n      <td>1.0</td>\n    </tr>\n    <tr>\n      <th>1755</th>\n      <td>Toss and Catch Game Set Paddle Catch Ball Game...</td>\n      <td>913.0</td>\n      <td>NaN</td>\n      <td>NaN</td>\n      <td>4.0</td>\n      <td>1.0</td>\n    </tr>\n    <tr>\n      <th>1834</th>\n      <td>Football Soccer Ball - PURE Leather-</td>\n      <td>1499.0</td>\n      <td>1899.0</td>\n      <td>0.21</td>\n      <td>4.5</td>\n      <td>2.0</td>\n    </tr>\n    <tr>\n      <th>1880</th>\n      <td>Samsung Galaxy S21 Ultra 5G Case, Slim PU Leat...</td>\n      <td>1548.0</td>\n      <td>2748.0</td>\n      <td>0.44</td>\n      <td>4.5</td>\n      <td>2.0</td>\n    </tr>\n    <tr>\n      <th>1882</th>\n      <td>Galaxy S21 Ultra Case, Premium Retro Leather M...</td>\n      <td>1548.0</td>\n      <td>2508.0</td>\n      <td>0.38</td>\n      <td>5.0</td>\n      <td>1.0</td>\n    </tr>\n  </tbody>\n</table>\n<p>134 rows × 6 columns</p>\n</div>"
     },
     "execution_count": 38,
     "metadata": {},
     "output_type": "execute_result"
    }
   ],
   "source": [
    "products_df[~pd.isna(products_df['rating'])]"
   ],
   "metadata": {
    "collapsed": false,
    "ExecuteTime": {
     "end_time": "2024-03-21T08:53:52.227744Z",
     "start_time": "2024-03-21T08:53:52.112545Z"
    }
   },
   "id": "d568e58e1dd40379",
   "execution_count": 38
  },
  {
   "cell_type": "code",
   "outputs": [],
   "source": [
    "# Saving stage five data cleaning file to csv\n",
    "products_df.to_csv(\"../data/processed/5_all_products_votes_cleaned.csv\")"
   ],
   "metadata": {
    "collapsed": false,
    "ExecuteTime": {
     "end_time": "2024-03-21T08:53:52.296513Z",
     "start_time": "2024-03-21T08:53:52.228870Z"
    }
   },
   "id": "290751887549d0ac",
   "execution_count": 39
  },
  {
   "cell_type": "code",
   "outputs": [
    {
     "name": "stdout",
     "output_type": "stream",
     "text": [
      "<class 'pandas.core.frame.DataFrame'>\n",
      "Index: 2000 entries, 0 to 1999\n",
      "Data columns (total 6 columns):\n",
      " #   Column     Non-Null Count  Dtype  \n",
      "---  ------     --------------  -----  \n",
      " 0   name       2000 non-null   object \n",
      " 1   new_price  2000 non-null   float64\n",
      " 2   old_price  1847 non-null   float64\n",
      " 3   discount   1847 non-null   float64\n",
      " 4   rating     134 non-null    float64\n",
      " 5   votes      134 non-null    float64\n",
      "dtypes: float64(5), object(1)\n",
      "memory usage: 109.4+ KB\n"
     ]
    }
   ],
   "source": [
    "products_df.info()"
   ],
   "metadata": {
    "collapsed": false,
    "ExecuteTime": {
     "end_time": "2024-03-21T08:53:52.377582Z",
     "start_time": "2024-03-21T08:53:52.297561Z"
    }
   },
   "id": "88b81c72cee413d7",
   "execution_count": 40
  },
  {
   "cell_type": "markdown",
   "source": [
    "## Dealing with null values"
   ],
   "metadata": {
    "collapsed": false
   },
   "id": "8360f1fa230100d6"
  },
  {
   "cell_type": "code",
   "outputs": [],
   "source": [
    "# Read csv file from prior cleaning (votes column) to get dataframe\n",
    "products_df = pd.read_csv(\"../data/processed/5_all_products_votes_cleaned.csv\", index_col=0)"
   ],
   "metadata": {
    "collapsed": false,
    "ExecuteTime": {
     "end_time": "2024-03-21T08:53:52.435300Z",
     "start_time": "2024-03-21T08:53:52.379010Z"
    }
   },
   "id": "452c48f38f354b5c",
   "execution_count": 41
  },
  {
   "cell_type": "code",
   "outputs": [
    {
     "data": {
      "text/plain": "'rating'"
     },
     "execution_count": 42,
     "metadata": {},
     "output_type": "execute_result"
    }
   ],
   "source": [
    "products_df.isnull().sum().idxmax()"
   ],
   "metadata": {
    "collapsed": false,
    "ExecuteTime": {
     "end_time": "2024-03-21T08:53:52.516615Z",
     "start_time": "2024-03-21T08:53:52.436255Z"
    }
   },
   "id": "d1c27fb48422c189",
   "execution_count": 42
  },
  {
   "cell_type": "code",
   "outputs": [
    {
     "name": "stdout",
     "output_type": "stream",
     "text": [
      "new_price nulls: 0\n",
      "old_price nulls: 153\n",
      "discount nulls: 153\n",
      "rating nulls: 1866\n",
      "votes nulls: 1866\n"
     ]
    }
   ],
   "source": [
    "print(f\"new_price nulls: {products_df.new_price.isnull().sum()}\")\n",
    "print(f\"old_price nulls: {products_df.old_price.isnull().sum()}\")\n",
    "print(f\"discount nulls: {products_df.discount.isnull().sum()}\")\n",
    "print(f\"rating nulls: {products_df.rating.isnull().sum()}\")\n",
    "print(f\"votes nulls: {products_df.votes.isnull().sum()}\")"
   ],
   "metadata": {
    "collapsed": false,
    "ExecuteTime": {
     "end_time": "2024-03-21T08:53:52.610943Z",
     "start_time": "2024-03-21T08:53:52.517848Z"
    }
   },
   "id": "2d9bc0842829d800",
   "execution_count": 43
  },
  {
   "cell_type": "markdown",
   "source": [
    "### Fill null values in discount column "
   ],
   "metadata": {
    "collapsed": false
   },
   "id": "efa6eb2106b26f19"
  },
  {
   "cell_type": "code",
   "outputs": [
    {
     "data": {
      "text/plain": "0"
     },
     "execution_count": 44,
     "metadata": {},
     "output_type": "execute_result"
    }
   ],
   "source": [
    "# Use discount column average to fill nulls\n",
    "products_df['discount'] = products_df['discount'].fillna(round(products_df['discount'].mean(), 2))\n",
    "products_df.discount.isnull().sum()"
   ],
   "metadata": {
    "collapsed": false,
    "ExecuteTime": {
     "end_time": "2024-03-21T08:53:52.674339Z",
     "start_time": "2024-03-21T08:53:52.613351Z"
    }
   },
   "id": "ee9f7bc26a3bc3fa",
   "execution_count": 44
  },
  {
   "cell_type": "markdown",
   "source": [
    "### Fill null values in old_price based on the discount column average"
   ],
   "metadata": {
    "collapsed": false
   },
   "id": "b58cfdfd7e23339d"
  },
  {
   "cell_type": "code",
   "outputs": [
    {
     "data": {
      "text/plain": "0"
     },
     "execution_count": 45,
     "metadata": {},
     "output_type": "execute_result"
    }
   ],
   "source": [
    "def multiply_fill_old_price_column_nulls(row):\n",
    "    new_price = row['new_price']\n",
    "    discount_column_mean = round(products_df['discount'].mean(), 2)\n",
    "    \n",
    "    if not pd.isna(row['old_price']):\n",
    "        return row['old_price']\n",
    "    return new_price * discount_column_mean\n",
    "        \n",
    "products_df['old_price'] = products_df.apply(multiply_fill_old_price_column_nulls, axis=1)\n",
    "products_df.old_price.isnull().sum()"
   ],
   "metadata": {
    "collapsed": false,
    "ExecuteTime": {
     "end_time": "2024-03-21T08:53:52.870546Z",
     "start_time": "2024-03-21T08:53:52.675701Z"
    }
   },
   "id": "3fc0bcf69968daa6",
   "execution_count": 45
  },
  {
   "cell_type": "markdown",
   "source": [
    "### Fill rating column nulls with value 0"
   ],
   "metadata": {
    "collapsed": false
   },
   "id": "cf70e7e1f9911927"
  },
  {
   "cell_type": "code",
   "outputs": [
    {
     "data": {
      "text/plain": "0"
     },
     "execution_count": 46,
     "metadata": {},
     "output_type": "execute_result"
    }
   ],
   "source": [
    "products_df['rating'] = products_df['rating'].fillna(0)\n",
    "products_df.rating.isnull().sum()"
   ],
   "metadata": {
    "collapsed": false,
    "ExecuteTime": {
     "end_time": "2024-03-21T08:53:52.875865Z",
     "start_time": "2024-03-21T08:53:52.871413Z"
    }
   },
   "id": "dc565092d5410a93",
   "execution_count": 46
  },
  {
   "cell_type": "markdown",
   "source": [
    "### Fill votes column nulls with value 0"
   ],
   "metadata": {
    "collapsed": false
   },
   "id": "f1d51583019ecf17"
  },
  {
   "cell_type": "code",
   "outputs": [
    {
     "data": {
      "text/plain": "0"
     },
     "execution_count": 47,
     "metadata": {},
     "output_type": "execute_result"
    }
   ],
   "source": [
    "products_df['votes'] = products_df['votes'].fillna(0)\n",
    "products_df.votes.isnull().sum()"
   ],
   "metadata": {
    "collapsed": false,
    "ExecuteTime": {
     "end_time": "2024-03-21T08:53:52.925354Z",
     "start_time": "2024-03-21T08:53:52.876884Z"
    }
   },
   "id": "26d9317308bb6eff",
   "execution_count": 47
  },
  {
   "cell_type": "code",
   "outputs": [
    {
     "data": {
      "text/plain": "name         Rashnik RN-2452 Hot And Cold Stand Alone Dispe...\nnew_price                                               4400.0\nold_price                                               1848.0\ndiscount                                                  0.42\nrating                                                     0.0\nvotes                                                      0.0\nName: 42, dtype: object"
     },
     "execution_count": 48,
     "metadata": {},
     "output_type": "execute_result"
    }
   ],
   "source": [
    "# filled = products_df[products_df['rating'] == 0]\n",
    "# filled\n",
    "products_df.iloc[42]"
   ],
   "metadata": {
    "collapsed": false,
    "ExecuteTime": {
     "end_time": "2024-03-21T08:53:52.999151Z",
     "start_time": "2024-03-21T08:53:52.926294Z"
    }
   },
   "id": "cdac560c185ffcef",
   "execution_count": 48
  },
  {
   "cell_type": "markdown",
   "source": [
    "## Rechecking nulls for all columns again"
   ],
   "metadata": {
    "collapsed": false
   },
   "id": "29425339dd1d081c"
  },
  {
   "cell_type": "code",
   "outputs": [
    {
     "name": "stdout",
     "output_type": "stream",
     "text": [
      "new_price nulls: 0\n",
      "old_price nulls: 0\n",
      "discount nulls: 0\n",
      "rating nulls: 0\n",
      "votes nulls: 0\n"
     ]
    }
   ],
   "source": [
    "print(f\"new_price nulls: {products_df.new_price.isnull().sum()}\")\n",
    "print(f\"old_price nulls: {products_df.old_price.isnull().sum()}\")\n",
    "print(f\"discount nulls: {products_df.discount.isnull().sum()}\")\n",
    "print(f\"rating nulls: {products_df.rating.isnull().sum()}\")\n",
    "print(f\"votes nulls: {products_df.votes.isnull().sum()}\")"
   ],
   "metadata": {
    "collapsed": false,
    "ExecuteTime": {
     "end_time": "2024-03-21T08:53:53.075455Z",
     "start_time": "2024-03-21T08:53:53.000503Z"
    }
   },
   "id": "55b62f1efa8d3649",
   "execution_count": 49
  },
  {
   "cell_type": "code",
   "outputs": [
    {
     "data": {
      "text/plain": "                                                name  new_price  old_price  \\\n0  NIVEA Radiant & Beauty Advanced Care Lotion Fo...      912.0    1460.00   \n1  AILYONS FK-0301 Stainless Steel 1.8L Electric ...      628.0     263.76   \n2  Garnier Anti-Blemish Charcoal Serum With AHA +...     1400.0    1750.00   \n3  NIVEA Perfect & Radiant Even Tone Day And Nigh...      887.0    1560.00   \n4  NIVEA MEN Deep Antibacterial Anti-Perspirant R...      651.0    1040.00   \n5  Garnier Even & Matte Vitamin C Protection Crea...      960.0    1200.00   \n6  Garnier Even & Matte  Vitamin C Booster Serum ...     1400.0    1750.00   \n7  Nunix R5 Hot & Normal Free Standing Water Disp...     4180.0    1755.60   \n8  NIVEA Pearl & Beauty Anti-Perspirant Rollon, 4...      651.0    1040.00   \n9  NIVEA Nourishing Cocoa Body Lotion With Cocoa ...      800.0    1302.00   \n\n   discount  rating   votes  \n0      0.38     4.7   721.0  \n1      0.42     4.3    43.0  \n2      0.20     4.3  1546.0  \n3      0.43     4.5  2293.0  \n4      0.37     4.6   680.0  \n5      0.20     4.3  1078.0  \n6      0.20     4.4  3845.0  \n7      0.42     4.2   101.0  \n8      0.37     4.6   853.0  \n9      0.39     4.7  1162.0  ",
      "text/html": "<div>\n<style scoped>\n    .dataframe tbody tr th:only-of-type {\n        vertical-align: middle;\n    }\n\n    .dataframe tbody tr th {\n        vertical-align: top;\n    }\n\n    .dataframe thead th {\n        text-align: right;\n    }\n</style>\n<table border=\"1\" class=\"dataframe\">\n  <thead>\n    <tr style=\"text-align: right;\">\n      <th></th>\n      <th>name</th>\n      <th>new_price</th>\n      <th>old_price</th>\n      <th>discount</th>\n      <th>rating</th>\n      <th>votes</th>\n    </tr>\n  </thead>\n  <tbody>\n    <tr>\n      <th>0</th>\n      <td>NIVEA Radiant &amp; Beauty Advanced Care Lotion Fo...</td>\n      <td>912.0</td>\n      <td>1460.00</td>\n      <td>0.38</td>\n      <td>4.7</td>\n      <td>721.0</td>\n    </tr>\n    <tr>\n      <th>1</th>\n      <td>AILYONS FK-0301 Stainless Steel 1.8L Electric ...</td>\n      <td>628.0</td>\n      <td>263.76</td>\n      <td>0.42</td>\n      <td>4.3</td>\n      <td>43.0</td>\n    </tr>\n    <tr>\n      <th>2</th>\n      <td>Garnier Anti-Blemish Charcoal Serum With AHA +...</td>\n      <td>1400.0</td>\n      <td>1750.00</td>\n      <td>0.20</td>\n      <td>4.3</td>\n      <td>1546.0</td>\n    </tr>\n    <tr>\n      <th>3</th>\n      <td>NIVEA Perfect &amp; Radiant Even Tone Day And Nigh...</td>\n      <td>887.0</td>\n      <td>1560.00</td>\n      <td>0.43</td>\n      <td>4.5</td>\n      <td>2293.0</td>\n    </tr>\n    <tr>\n      <th>4</th>\n      <td>NIVEA MEN Deep Antibacterial Anti-Perspirant R...</td>\n      <td>651.0</td>\n      <td>1040.00</td>\n      <td>0.37</td>\n      <td>4.6</td>\n      <td>680.0</td>\n    </tr>\n    <tr>\n      <th>5</th>\n      <td>Garnier Even &amp; Matte Vitamin C Protection Crea...</td>\n      <td>960.0</td>\n      <td>1200.00</td>\n      <td>0.20</td>\n      <td>4.3</td>\n      <td>1078.0</td>\n    </tr>\n    <tr>\n      <th>6</th>\n      <td>Garnier Even &amp; Matte  Vitamin C Booster Serum ...</td>\n      <td>1400.0</td>\n      <td>1750.00</td>\n      <td>0.20</td>\n      <td>4.4</td>\n      <td>3845.0</td>\n    </tr>\n    <tr>\n      <th>7</th>\n      <td>Nunix R5 Hot &amp; Normal Free Standing Water Disp...</td>\n      <td>4180.0</td>\n      <td>1755.60</td>\n      <td>0.42</td>\n      <td>4.2</td>\n      <td>101.0</td>\n    </tr>\n    <tr>\n      <th>8</th>\n      <td>NIVEA Pearl &amp; Beauty Anti-Perspirant Rollon, 4...</td>\n      <td>651.0</td>\n      <td>1040.00</td>\n      <td>0.37</td>\n      <td>4.6</td>\n      <td>853.0</td>\n    </tr>\n    <tr>\n      <th>9</th>\n      <td>NIVEA Nourishing Cocoa Body Lotion With Cocoa ...</td>\n      <td>800.0</td>\n      <td>1302.00</td>\n      <td>0.39</td>\n      <td>4.7</td>\n      <td>1162.0</td>\n    </tr>\n  </tbody>\n</table>\n</div>"
     },
     "execution_count": 50,
     "metadata": {},
     "output_type": "execute_result"
    }
   ],
   "source": [
    "products_df.head(10)"
   ],
   "metadata": {
    "collapsed": false,
    "ExecuteTime": {
     "end_time": "2024-03-21T08:53:53.137004Z",
     "start_time": "2024-03-21T08:53:53.076890Z"
    }
   },
   "id": "588d350a15fc6da7",
   "execution_count": 50
  },
  {
   "cell_type": "code",
   "outputs": [
    {
     "name": "stdout",
     "output_type": "stream",
     "text": [
      "<class 'pandas.core.frame.DataFrame'>\n",
      "Index: 2000 entries, 0 to 1999\n",
      "Data columns (total 6 columns):\n",
      " #   Column     Non-Null Count  Dtype  \n",
      "---  ------     --------------  -----  \n",
      " 0   name       2000 non-null   object \n",
      " 1   new_price  2000 non-null   float64\n",
      " 2   old_price  2000 non-null   float64\n",
      " 3   discount   2000 non-null   float64\n",
      " 4   rating     2000 non-null   float64\n",
      " 5   votes      2000 non-null   float64\n",
      "dtypes: float64(5), object(1)\n",
      "memory usage: 109.4+ KB\n"
     ]
    }
   ],
   "source": [
    "products_df.info()"
   ],
   "metadata": {
    "collapsed": false,
    "ExecuteTime": {
     "end_time": "2024-03-21T08:53:53.192998Z",
     "start_time": "2024-03-21T08:53:53.137929Z"
    }
   },
   "id": "19ec052175ee6565",
   "execution_count": 51
  },
  {
   "cell_type": "code",
   "outputs": [],
   "source": [
    "# Saving stage 6 data cleaning file to csv\n",
    "products_df.to_csv(\"../data/processed/6_all_products_all_columns_cleaned.csv\")"
   ],
   "metadata": {
    "collapsed": false,
    "ExecuteTime": {
     "end_time": "2024-03-21T08:53:53.254860Z",
     "start_time": "2024-03-21T08:53:53.194242Z"
    }
   },
   "id": "46bd4a1d5e8a650e",
   "execution_count": 52
  },
  {
   "cell_type": "markdown",
   "source": [
    "### Slice original dataframe to create an experimental dataframe \n",
    "#### (to test insertion of predicted product categories before predicting & inserting into larger product dataframe)"
   ],
   "metadata": {
    "collapsed": false
   },
   "id": "31a3ecdbbad81b13"
  },
  {
   "cell_type": "code",
   "outputs": [
    {
     "data": {
      "text/plain": "                                                 name  new_price  old_price  \\\n0   NIVEA Radiant & Beauty Advanced Care Lotion Fo...      912.0    1460.00   \n1   AILYONS FK-0301 Stainless Steel 1.8L Electric ...      628.0     263.76   \n2   Garnier Anti-Blemish Charcoal Serum With AHA +...     1400.0    1750.00   \n3   NIVEA Perfect & Radiant Even Tone Day And Nigh...      887.0    1560.00   \n4   NIVEA MEN Deep Antibacterial Anti-Perspirant R...      651.0    1040.00   \n5   Garnier Even & Matte Vitamin C Protection Crea...      960.0    1200.00   \n6   Garnier Even & Matte  Vitamin C Booster Serum ...     1400.0    1750.00   \n7   Nunix R5 Hot & Normal Free Standing Water Disp...     4180.0    1755.60   \n8   NIVEA Pearl & Beauty Anti-Perspirant Rollon, 4...      651.0    1040.00   \n9   NIVEA Nourishing Cocoa Body Lotion With Cocoa ...      800.0    1302.00   \n10  Garnier Even & Matte  Vitamin C Booster Serum ...      850.0     357.00   \n11  Garnier Pure Active 3 In1 Charcoal Anti Blackh...     1036.0    1295.00   \n12            Jameson Jameson Irish Whiskey - 1 Litre     2699.0    3827.00   \n13      Garnier Even & Matte Vitamin C Cleansing Foam      652.0     815.00   \n14  NIVEA Lemongrass & Oil Shower Gel For Women - ...      675.0    1190.00   \n15                 Nunix Free standing Hot and Normal     3685.0    1547.70   \n16   L'Oreal GLYCOLIC BRIGHT FACE CLEANSER FOAM 100ML      680.0     850.00   \n17                 Garnier Bye Acne & Dark Spots Kit.     3608.0    4245.00   \n18  NIVEA Q10 Power Anti-Wrinkle Day Cream 50ml & ...     2182.0    3840.00   \n19           Garnier Even & Matte Dark Spot Corrector     1050.0     441.00   \n\n    discount  rating   votes  \n0       0.38     4.7   721.0  \n1       0.42     4.3    43.0  \n2       0.20     4.3  1546.0  \n3       0.43     4.5  2293.0  \n4       0.37     4.6   680.0  \n5       0.20     4.3  1078.0  \n6       0.20     4.4  3845.0  \n7       0.42     4.2   101.0  \n8       0.37     4.6   853.0  \n9       0.39     4.7  1162.0  \n10      0.42     4.2   786.0  \n11      0.20     4.4  4808.0  \n12      0.29     4.6   250.0  \n13      0.20     4.4  2073.0  \n14      0.43     4.6   663.0  \n15      0.42     4.8     4.0  \n16      0.20     4.7    51.0  \n17      0.15     4.3   703.0  \n18      0.43     4.6   426.0  \n19      0.42     4.0  2762.0  ",
      "text/html": "<div>\n<style scoped>\n    .dataframe tbody tr th:only-of-type {\n        vertical-align: middle;\n    }\n\n    .dataframe tbody tr th {\n        vertical-align: top;\n    }\n\n    .dataframe thead th {\n        text-align: right;\n    }\n</style>\n<table border=\"1\" class=\"dataframe\">\n  <thead>\n    <tr style=\"text-align: right;\">\n      <th></th>\n      <th>name</th>\n      <th>new_price</th>\n      <th>old_price</th>\n      <th>discount</th>\n      <th>rating</th>\n      <th>votes</th>\n    </tr>\n  </thead>\n  <tbody>\n    <tr>\n      <th>0</th>\n      <td>NIVEA Radiant &amp; Beauty Advanced Care Lotion Fo...</td>\n      <td>912.0</td>\n      <td>1460.00</td>\n      <td>0.38</td>\n      <td>4.7</td>\n      <td>721.0</td>\n    </tr>\n    <tr>\n      <th>1</th>\n      <td>AILYONS FK-0301 Stainless Steel 1.8L Electric ...</td>\n      <td>628.0</td>\n      <td>263.76</td>\n      <td>0.42</td>\n      <td>4.3</td>\n      <td>43.0</td>\n    </tr>\n    <tr>\n      <th>2</th>\n      <td>Garnier Anti-Blemish Charcoal Serum With AHA +...</td>\n      <td>1400.0</td>\n      <td>1750.00</td>\n      <td>0.20</td>\n      <td>4.3</td>\n      <td>1546.0</td>\n    </tr>\n    <tr>\n      <th>3</th>\n      <td>NIVEA Perfect &amp; Radiant Even Tone Day And Nigh...</td>\n      <td>887.0</td>\n      <td>1560.00</td>\n      <td>0.43</td>\n      <td>4.5</td>\n      <td>2293.0</td>\n    </tr>\n    <tr>\n      <th>4</th>\n      <td>NIVEA MEN Deep Antibacterial Anti-Perspirant R...</td>\n      <td>651.0</td>\n      <td>1040.00</td>\n      <td>0.37</td>\n      <td>4.6</td>\n      <td>680.0</td>\n    </tr>\n    <tr>\n      <th>5</th>\n      <td>Garnier Even &amp; Matte Vitamin C Protection Crea...</td>\n      <td>960.0</td>\n      <td>1200.00</td>\n      <td>0.20</td>\n      <td>4.3</td>\n      <td>1078.0</td>\n    </tr>\n    <tr>\n      <th>6</th>\n      <td>Garnier Even &amp; Matte  Vitamin C Booster Serum ...</td>\n      <td>1400.0</td>\n      <td>1750.00</td>\n      <td>0.20</td>\n      <td>4.4</td>\n      <td>3845.0</td>\n    </tr>\n    <tr>\n      <th>7</th>\n      <td>Nunix R5 Hot &amp; Normal Free Standing Water Disp...</td>\n      <td>4180.0</td>\n      <td>1755.60</td>\n      <td>0.42</td>\n      <td>4.2</td>\n      <td>101.0</td>\n    </tr>\n    <tr>\n      <th>8</th>\n      <td>NIVEA Pearl &amp; Beauty Anti-Perspirant Rollon, 4...</td>\n      <td>651.0</td>\n      <td>1040.00</td>\n      <td>0.37</td>\n      <td>4.6</td>\n      <td>853.0</td>\n    </tr>\n    <tr>\n      <th>9</th>\n      <td>NIVEA Nourishing Cocoa Body Lotion With Cocoa ...</td>\n      <td>800.0</td>\n      <td>1302.00</td>\n      <td>0.39</td>\n      <td>4.7</td>\n      <td>1162.0</td>\n    </tr>\n    <tr>\n      <th>10</th>\n      <td>Garnier Even &amp; Matte  Vitamin C Booster Serum ...</td>\n      <td>850.0</td>\n      <td>357.00</td>\n      <td>0.42</td>\n      <td>4.2</td>\n      <td>786.0</td>\n    </tr>\n    <tr>\n      <th>11</th>\n      <td>Garnier Pure Active 3 In1 Charcoal Anti Blackh...</td>\n      <td>1036.0</td>\n      <td>1295.00</td>\n      <td>0.20</td>\n      <td>4.4</td>\n      <td>4808.0</td>\n    </tr>\n    <tr>\n      <th>12</th>\n      <td>Jameson Jameson Irish Whiskey - 1 Litre</td>\n      <td>2699.0</td>\n      <td>3827.00</td>\n      <td>0.29</td>\n      <td>4.6</td>\n      <td>250.0</td>\n    </tr>\n    <tr>\n      <th>13</th>\n      <td>Garnier Even &amp; Matte Vitamin C Cleansing Foam</td>\n      <td>652.0</td>\n      <td>815.00</td>\n      <td>0.20</td>\n      <td>4.4</td>\n      <td>2073.0</td>\n    </tr>\n    <tr>\n      <th>14</th>\n      <td>NIVEA Lemongrass &amp; Oil Shower Gel For Women - ...</td>\n      <td>675.0</td>\n      <td>1190.00</td>\n      <td>0.43</td>\n      <td>4.6</td>\n      <td>663.0</td>\n    </tr>\n    <tr>\n      <th>15</th>\n      <td>Nunix Free standing Hot and Normal</td>\n      <td>3685.0</td>\n      <td>1547.70</td>\n      <td>0.42</td>\n      <td>4.8</td>\n      <td>4.0</td>\n    </tr>\n    <tr>\n      <th>16</th>\n      <td>L'Oreal GLYCOLIC BRIGHT FACE CLEANSER FOAM 100ML</td>\n      <td>680.0</td>\n      <td>850.00</td>\n      <td>0.20</td>\n      <td>4.7</td>\n      <td>51.0</td>\n    </tr>\n    <tr>\n      <th>17</th>\n      <td>Garnier Bye Acne &amp; Dark Spots Kit.</td>\n      <td>3608.0</td>\n      <td>4245.00</td>\n      <td>0.15</td>\n      <td>4.3</td>\n      <td>703.0</td>\n    </tr>\n    <tr>\n      <th>18</th>\n      <td>NIVEA Q10 Power Anti-Wrinkle Day Cream 50ml &amp; ...</td>\n      <td>2182.0</td>\n      <td>3840.00</td>\n      <td>0.43</td>\n      <td>4.6</td>\n      <td>426.0</td>\n    </tr>\n    <tr>\n      <th>19</th>\n      <td>Garnier Even &amp; Matte Dark Spot Corrector</td>\n      <td>1050.0</td>\n      <td>441.00</td>\n      <td>0.42</td>\n      <td>4.0</td>\n      <td>2762.0</td>\n    </tr>\n  </tbody>\n</table>\n</div>"
     },
     "execution_count": 53,
     "metadata": {},
     "output_type": "execute_result"
    }
   ],
   "source": [
    "experiment_df = pd.read_csv(\"../data/processed/6_all_products_all_columns_cleaned.csv\", index_col=0)\n",
    "new_experiment_df = experiment_df.iloc[0:20]\n",
    "new_experiment_df"
   ],
   "metadata": {
    "collapsed": false,
    "ExecuteTime": {
     "end_time": "2024-03-21T08:53:53.334503Z",
     "start_time": "2024-03-21T08:53:53.256122Z"
    }
   },
   "id": "21b1a4b1d8dd7b71",
   "execution_count": 53
  },
  {
   "cell_type": "code",
   "outputs": [
    {
     "name": "stdout",
     "output_type": "stream",
     "text": [
      "                                                 name product_category  \\\n",
      "0   NIVEA Radiant & Beauty Advanced Care Lotion Fo...  Health & Beauty   \n",
      "1   AILYONS FK-0301 Stainless Steel 1.8L Electric ...    Home & Office   \n",
      "2   Garnier Anti-Blemish Charcoal Serum With AHA +...  Health & Beauty   \n",
      "3   NIVEA Perfect & Radiant Even Tone Day And Nigh...  Health & Beauty   \n",
      "4   NIVEA MEN Deep Antibacterial Anti-Perspirant R...  Health & Beauty   \n",
      "5   Garnier Even & Matte Vitamin C Protection Crea...  Health & Beauty   \n",
      "6   Garnier Even & Matte  Vitamin C Booster Serum ...  Health & Beauty   \n",
      "7   Nunix R5 Hot & Normal Free Standing Water Disp...    Home & Office   \n",
      "8   NIVEA Pearl & Beauty Anti-Perspirant Rollon, 4...  Health & Beauty   \n",
      "9   NIVEA Nourishing Cocoa Body Lotion With Cocoa ...  Health & Beauty   \n",
      "10  Garnier Even & Matte  Vitamin C Booster Serum ...  Health & Beauty   \n",
      "11  Garnier Pure Active 3 In1 Charcoal Anti Blackh...  Health & Beauty   \n",
      "12            Jameson Jameson Irish Whiskey - 1 Litre  Health & Beauty   \n",
      "13      Garnier Even & Matte Vitamin C Cleansing Foam  Health & Beauty   \n",
      "14  NIVEA Lemongrass & Oil Shower Gel For Women - ...  Health & Beauty   \n",
      "15                 Nunix Free standing Hot and Normal    Home & Office   \n",
      "16   L'Oreal GLYCOLIC BRIGHT FACE CLEANSER FOAM 100ML  Health & Beauty   \n",
      "17                 Garnier Bye Acne & Dark Spots Kit.  Health & Beauty   \n",
      "18  NIVEA Q10 Power Anti-Wrinkle Day Cream 50ml & ...  Health & Beauty   \n",
      "19           Garnier Even & Matte Dark Spot Corrector  Health & Beauty   \n",
      "\n",
      "    new_price  old_price  discount  rating   votes  \n",
      "0       912.0    1460.00      0.38     4.7   721.0  \n",
      "1       628.0     263.76      0.42     4.3    43.0  \n",
      "2      1400.0    1750.00      0.20     4.3  1546.0  \n",
      "3       887.0    1560.00      0.43     4.5  2293.0  \n",
      "4       651.0    1040.00      0.37     4.6   680.0  \n",
      "5       960.0    1200.00      0.20     4.3  1078.0  \n",
      "6      1400.0    1750.00      0.20     4.4  3845.0  \n",
      "7      4180.0    1755.60      0.42     4.2   101.0  \n",
      "8       651.0    1040.00      0.37     4.6   853.0  \n",
      "9       800.0    1302.00      0.39     4.7  1162.0  \n",
      "10      850.0     357.00      0.42     4.2   786.0  \n",
      "11     1036.0    1295.00      0.20     4.4  4808.0  \n",
      "12     2699.0    3827.00      0.29     4.6   250.0  \n",
      "13      652.0     815.00      0.20     4.4  2073.0  \n",
      "14      675.0    1190.00      0.43     4.6   663.0  \n",
      "15     3685.0    1547.70      0.42     4.8     4.0  \n",
      "16      680.0     850.00      0.20     4.7    51.0  \n",
      "17     3608.0    4245.00      0.15     4.3   703.0  \n",
      "18     2182.0    3840.00      0.43     4.6   426.0  \n",
      "19     1050.0     441.00      0.42     4.0  2762.0  \n"
     ]
    }
   ],
   "source": [
    "# Reload the gemini api call module, 'gemini_call', to refresh/reload it before use to prevent any unusual errors\n",
    "importlib.reload(gemini_call)\n",
    "\n",
    "# Function to call the LLM API script and get the predicted product category\n",
    "def fetch_product_category(product_name):\n",
    "    # Timed the API roundtrip during testing to find the average time...\n",
    "    # ... to check if it's possible to surpass the set rate limit of 60 requests per min (RPM)...\n",
    "    # ... besides, while doing the average time testing, I put a 1.2 sec sleep timer...\n",
    "    # ... as the last line function as initial guard to ensure 50RPM aren't exceeded (60 secs/1.2 secs)\n",
    "    start_time = time.time()  # Roundtrip timer start\n",
    "    predicted_product_category = gemini_call.predict_product_category(product_name)\n",
    "    end_time = time.time()  # Roundtrip timer stop\n",
    "    durations_list.append(end_time - start_time)  # Append roundtrip time value to list\n",
    "\n",
    "    # Commented out the sleep timer below after calculating the average roundtrip api call time is: 1.5-3.0 seconds, hence 60 RPM shall not be exceeded \n",
    "    # time.sleep(1.2)\n",
    "    return predicted_product_category\n",
    "\n",
    "# Only run the API call to create product_category column & fill it if it's not yet created...\n",
    "# ... this means that it makes the 20 API calls once and saves the dataframe with predicted product categories for subsequent retrievals\n",
    "if not os.path.exists('../data/processed/7_new_experiment_df_with_product_category.csv'):\n",
    "    durations_list = []  # Store api roundtrip times to be used in calculating average time during test\n",
    "    # for loop to run through all the dataframe rows\n",
    "    for idx, row in new_experiment_df.iterrows():\n",
    "        name_of_product = row[\"name\"]  # Get current row's product name\n",
    "        \n",
    "        predicted_category = fetch_product_category(name_of_product)\n",
    "        \n",
    "        # If the 'product_category' column hasn't been inserted, insert it at index_col 1 after 'name' column\n",
    "        if 'product_category' not in new_experiment_df.columns:\n",
    "            print(f\"{name_of_product} = {predicted_category}\")\n",
    "            new_experiment_df.insert(1, \"product_category\", predicted_category)  # Insert new column 'product_category' at index_col 1 & insert 1st value\n",
    "        else:\n",
    "            print(f\"{name_of_product} = {predicted_category}\")\n",
    "            new_experiment_df.at[idx, \"product_category\"] = predicted_category  # Assign subsequent predicted categories to their corresponding idx positions\n",
    "    \n",
    "    # Print average duration of API call\n",
    "    average_api_call_roundtrip_time = sum(durations_list)/len(durations_list)\n",
    "    print(f\"The AVERAGE API call roundtrip TIME is: {average_api_call_roundtrip_time}\")\n",
    "    \n",
    "    # Save the dataframe with product categories into csv to avoid making expensive api call\n",
    "    new_experiment_df.to_csv(\"../data/processed/7_new_experiment_df_with_product_category.csv\")\n",
    "    print(new_experiment_df)\n",
    "else:\n",
    "    # If experimental dataframe with predicted product category already exists, retrieve it and print it\n",
    "    new_experiment_df = pd.read_csv(\"../data/processed/7_new_experiment_df_with_product_category.csv\", index_col=0)\n",
    "    print(new_experiment_df)"
   ],
   "metadata": {
    "collapsed": false,
    "ExecuteTime": {
     "end_time": "2024-03-21T08:53:53.412630Z",
     "start_time": "2024-03-21T08:53:53.335635Z"
    }
   },
   "id": "26b9b739bdfaef53",
   "execution_count": 54
  },
  {
   "cell_type": "markdown",
   "source": [
    "#### Read csv with all cleaned columns (2000 row dataframe)"
   ],
   "metadata": {
    "collapsed": false
   },
   "id": "12cd1d418265d31c"
  },
  {
   "cell_type": "code",
   "outputs": [],
   "source": [
    "# Read csv where all columns are cleaned before fetching product categories for all 2000 product names\n",
    "products_df = pd.read_csv(\"../data/processed/6_all_products_all_columns_cleaned.csv\", index_col=0)"
   ],
   "metadata": {
    "collapsed": false,
    "ExecuteTime": {
     "end_time": "2024-03-21T08:53:53.513052Z",
     "start_time": "2024-03-21T08:53:53.413520Z"
    }
   },
   "id": "9f70434c229c497",
   "execution_count": 55
  },
  {
   "cell_type": "markdown",
   "source": [
    "### Generate product categories for all 2000 product names using GEMINI API generative AI "
   ],
   "metadata": {
    "collapsed": false
   },
   "id": "1502e11bc3cd95a1"
  },
  {
   "cell_type": "code",
   "outputs": [
    {
     "data": {
      "text/plain": "                                                 name product_category  \\\n0   NIVEA Radiant & Beauty Advanced Care Lotion Fo...  Health & Beauty   \n1   AILYONS FK-0301 Stainless Steel 1.8L Electric ...    Home & Office   \n2   Garnier Anti-Blemish Charcoal Serum With AHA +...  Health & Beauty   \n3   NIVEA Perfect & Radiant Even Tone Day And Nigh...  Health & Beauty   \n4   NIVEA MEN Deep Antibacterial Anti-Perspirant R...  Health & Beauty   \n5   Garnier Even & Matte Vitamin C Protection Crea...  Health & Beauty   \n6   Garnier Even & Matte  Vitamin C Booster Serum ...  Health & Beauty   \n7   Nunix R5 Hot & Normal Free Standing Water Disp...    Home & Office   \n8   NIVEA Pearl & Beauty Anti-Perspirant Rollon, 4...  Health & Beauty   \n9   NIVEA Nourishing Cocoa Body Lotion With Cocoa ...  Health & Beauty   \n10  Garnier Even & Matte  Vitamin C Booster Serum ...  Health & Beauty   \n11  Garnier Pure Active 3 In1 Charcoal Anti Blackh...  Health & Beauty   \n12            Jameson Jameson Irish Whiskey - 1 Litre  Health & Beauty   \n13      Garnier Even & Matte Vitamin C Cleansing Foam  Health & Beauty   \n14  NIVEA Lemongrass & Oil Shower Gel For Women - ...  Health & Beauty   \n15                 Nunix Free standing Hot and Normal    Home & Office   \n16   L'Oreal GLYCOLIC BRIGHT FACE CLEANSER FOAM 100ML  Health & Beauty   \n17                 Garnier Bye Acne & Dark Spots Kit.  Health & Beauty   \n18  NIVEA Q10 Power Anti-Wrinkle Day Cream 50ml & ...  Health & Beauty   \n19           Garnier Even & Matte Dark Spot Corrector  Health & Beauty   \n\n    new_price  old_price  discount  rating   votes  \n0       912.0    1460.00      0.38     4.7   721.0  \n1       628.0     263.76      0.42     4.3    43.0  \n2      1400.0    1750.00      0.20     4.3  1546.0  \n3       887.0    1560.00      0.43     4.5  2293.0  \n4       651.0    1040.00      0.37     4.6   680.0  \n5       960.0    1200.00      0.20     4.3  1078.0  \n6      1400.0    1750.00      0.20     4.4  3845.0  \n7      4180.0    1755.60      0.42     4.2   101.0  \n8       651.0    1040.00      0.37     4.6   853.0  \n9       800.0    1302.00      0.39     4.7  1162.0  \n10      850.0     357.00      0.42     4.2   786.0  \n11     1036.0    1295.00      0.20     4.4  4808.0  \n12     2699.0    3827.00      0.29     4.6   250.0  \n13      652.0     815.00      0.20     4.4  2073.0  \n14      675.0    1190.00      0.43     4.6   663.0  \n15     3685.0    1547.70      0.42     4.8     4.0  \n16      680.0     850.00      0.20     4.7    51.0  \n17     3608.0    4245.00      0.15     4.3   703.0  \n18     2182.0    3840.00      0.43     4.6   426.0  \n19     1050.0     441.00      0.42     4.0  2762.0  ",
      "text/html": "<div>\n<style scoped>\n    .dataframe tbody tr th:only-of-type {\n        vertical-align: middle;\n    }\n\n    .dataframe tbody tr th {\n        vertical-align: top;\n    }\n\n    .dataframe thead th {\n        text-align: right;\n    }\n</style>\n<table border=\"1\" class=\"dataframe\">\n  <thead>\n    <tr style=\"text-align: right;\">\n      <th></th>\n      <th>name</th>\n      <th>product_category</th>\n      <th>new_price</th>\n      <th>old_price</th>\n      <th>discount</th>\n      <th>rating</th>\n      <th>votes</th>\n    </tr>\n  </thead>\n  <tbody>\n    <tr>\n      <th>0</th>\n      <td>NIVEA Radiant &amp; Beauty Advanced Care Lotion Fo...</td>\n      <td>Health &amp; Beauty</td>\n      <td>912.0</td>\n      <td>1460.00</td>\n      <td>0.38</td>\n      <td>4.7</td>\n      <td>721.0</td>\n    </tr>\n    <tr>\n      <th>1</th>\n      <td>AILYONS FK-0301 Stainless Steel 1.8L Electric ...</td>\n      <td>Home &amp; Office</td>\n      <td>628.0</td>\n      <td>263.76</td>\n      <td>0.42</td>\n      <td>4.3</td>\n      <td>43.0</td>\n    </tr>\n    <tr>\n      <th>2</th>\n      <td>Garnier Anti-Blemish Charcoal Serum With AHA +...</td>\n      <td>Health &amp; Beauty</td>\n      <td>1400.0</td>\n      <td>1750.00</td>\n      <td>0.20</td>\n      <td>4.3</td>\n      <td>1546.0</td>\n    </tr>\n    <tr>\n      <th>3</th>\n      <td>NIVEA Perfect &amp; Radiant Even Tone Day And Nigh...</td>\n      <td>Health &amp; Beauty</td>\n      <td>887.0</td>\n      <td>1560.00</td>\n      <td>0.43</td>\n      <td>4.5</td>\n      <td>2293.0</td>\n    </tr>\n    <tr>\n      <th>4</th>\n      <td>NIVEA MEN Deep Antibacterial Anti-Perspirant R...</td>\n      <td>Health &amp; Beauty</td>\n      <td>651.0</td>\n      <td>1040.00</td>\n      <td>0.37</td>\n      <td>4.6</td>\n      <td>680.0</td>\n    </tr>\n    <tr>\n      <th>5</th>\n      <td>Garnier Even &amp; Matte Vitamin C Protection Crea...</td>\n      <td>Health &amp; Beauty</td>\n      <td>960.0</td>\n      <td>1200.00</td>\n      <td>0.20</td>\n      <td>4.3</td>\n      <td>1078.0</td>\n    </tr>\n    <tr>\n      <th>6</th>\n      <td>Garnier Even &amp; Matte  Vitamin C Booster Serum ...</td>\n      <td>Health &amp; Beauty</td>\n      <td>1400.0</td>\n      <td>1750.00</td>\n      <td>0.20</td>\n      <td>4.4</td>\n      <td>3845.0</td>\n    </tr>\n    <tr>\n      <th>7</th>\n      <td>Nunix R5 Hot &amp; Normal Free Standing Water Disp...</td>\n      <td>Home &amp; Office</td>\n      <td>4180.0</td>\n      <td>1755.60</td>\n      <td>0.42</td>\n      <td>4.2</td>\n      <td>101.0</td>\n    </tr>\n    <tr>\n      <th>8</th>\n      <td>NIVEA Pearl &amp; Beauty Anti-Perspirant Rollon, 4...</td>\n      <td>Health &amp; Beauty</td>\n      <td>651.0</td>\n      <td>1040.00</td>\n      <td>0.37</td>\n      <td>4.6</td>\n      <td>853.0</td>\n    </tr>\n    <tr>\n      <th>9</th>\n      <td>NIVEA Nourishing Cocoa Body Lotion With Cocoa ...</td>\n      <td>Health &amp; Beauty</td>\n      <td>800.0</td>\n      <td>1302.00</td>\n      <td>0.39</td>\n      <td>4.7</td>\n      <td>1162.0</td>\n    </tr>\n    <tr>\n      <th>10</th>\n      <td>Garnier Even &amp; Matte  Vitamin C Booster Serum ...</td>\n      <td>Health &amp; Beauty</td>\n      <td>850.0</td>\n      <td>357.00</td>\n      <td>0.42</td>\n      <td>4.2</td>\n      <td>786.0</td>\n    </tr>\n    <tr>\n      <th>11</th>\n      <td>Garnier Pure Active 3 In1 Charcoal Anti Blackh...</td>\n      <td>Health &amp; Beauty</td>\n      <td>1036.0</td>\n      <td>1295.00</td>\n      <td>0.20</td>\n      <td>4.4</td>\n      <td>4808.0</td>\n    </tr>\n    <tr>\n      <th>12</th>\n      <td>Jameson Jameson Irish Whiskey - 1 Litre</td>\n      <td>Health &amp; Beauty</td>\n      <td>2699.0</td>\n      <td>3827.00</td>\n      <td>0.29</td>\n      <td>4.6</td>\n      <td>250.0</td>\n    </tr>\n    <tr>\n      <th>13</th>\n      <td>Garnier Even &amp; Matte Vitamin C Cleansing Foam</td>\n      <td>Health &amp; Beauty</td>\n      <td>652.0</td>\n      <td>815.00</td>\n      <td>0.20</td>\n      <td>4.4</td>\n      <td>2073.0</td>\n    </tr>\n    <tr>\n      <th>14</th>\n      <td>NIVEA Lemongrass &amp; Oil Shower Gel For Women - ...</td>\n      <td>Health &amp; Beauty</td>\n      <td>675.0</td>\n      <td>1190.00</td>\n      <td>0.43</td>\n      <td>4.6</td>\n      <td>663.0</td>\n    </tr>\n    <tr>\n      <th>15</th>\n      <td>Nunix Free standing Hot and Normal</td>\n      <td>Home &amp; Office</td>\n      <td>3685.0</td>\n      <td>1547.70</td>\n      <td>0.42</td>\n      <td>4.8</td>\n      <td>4.0</td>\n    </tr>\n    <tr>\n      <th>16</th>\n      <td>L'Oreal GLYCOLIC BRIGHT FACE CLEANSER FOAM 100ML</td>\n      <td>Health &amp; Beauty</td>\n      <td>680.0</td>\n      <td>850.00</td>\n      <td>0.20</td>\n      <td>4.7</td>\n      <td>51.0</td>\n    </tr>\n    <tr>\n      <th>17</th>\n      <td>Garnier Bye Acne &amp; Dark Spots Kit.</td>\n      <td>Health &amp; Beauty</td>\n      <td>3608.0</td>\n      <td>4245.00</td>\n      <td>0.15</td>\n      <td>4.3</td>\n      <td>703.0</td>\n    </tr>\n    <tr>\n      <th>18</th>\n      <td>NIVEA Q10 Power Anti-Wrinkle Day Cream 50ml &amp; ...</td>\n      <td>Health &amp; Beauty</td>\n      <td>2182.0</td>\n      <td>3840.00</td>\n      <td>0.43</td>\n      <td>4.6</td>\n      <td>426.0</td>\n    </tr>\n    <tr>\n      <th>19</th>\n      <td>Garnier Even &amp; Matte Dark Spot Corrector</td>\n      <td>Health &amp; Beauty</td>\n      <td>1050.0</td>\n      <td>441.00</td>\n      <td>0.42</td>\n      <td>4.0</td>\n      <td>2762.0</td>\n    </tr>\n  </tbody>\n</table>\n</div>"
     },
     "execution_count": 56,
     "metadata": {},
     "output_type": "execute_result"
    }
   ],
   "source": [
    "# Reload the gemini api call module, 'gemini_call', to refresh/reload it before use to prevent any unusual errors\n",
    "importlib.reload(gemini_call)\n",
    "\n",
    "# Function to call the LLM API script and get the predicted product category\n",
    "def fetch_product_category(product_name):\n",
    "    # Timed the API roundtrip during testing to find the average time...\n",
    "    # ... to check if it's possible to surpass the set rate limit of 60 requests per min (RPM)...\n",
    "    # ... besides, while doing the average time testing, I put a 1.2 sec sleep timer...\n",
    "    # ... as the last line function as initial guard to ensure 50RPM aren't exceeded (60 secs/1.2 secs)\n",
    "    start_time = time.time()  # Roundtrip timer start\n",
    "    predicted_product_category = gemini_call.predict_product_category(product_name)\n",
    "    end_time = time.time()  # Roundtrip timer stop\n",
    "    durations_list.append(end_time - start_time)  # Append roundtrip time value to list\n",
    "\n",
    "    return predicted_product_category\n",
    "\n",
    "# Only run the API call to create product_category column & fill it if it's not yet created...\n",
    "# ... this means that it makes the 2000 API calls once and saves the dataframe with predicted product categories for subsequent retrievals\n",
    "if not os.path.exists('../data/processed/8_products_df_with_product_category.csv'):\n",
    "    durations_list = []  # Store api roundtrip times to be used in calculating average time during test\n",
    "    # for loop to run through all the dataframe rows\n",
    "    for idx, row in products_df.iterrows():\n",
    "        name_of_product = row[\"name\"]  # Get current row's product name\n",
    "        \n",
    "        predicted_category = fetch_product_category(name_of_product)\n",
    "        \n",
    "        # If the 'product_category' column hasn't been inserted, insert it at index_col 1 after 'name' column\n",
    "        if 'product_category' not in products_df.columns:\n",
    "            print(f\"{name_of_product} = {predicted_category}\")\n",
    "            products_df.insert(1, \"product_category\", predicted_category)  # Insert new column 'product_category' at index_col 1 & insert 1st value\n",
    "        else:\n",
    "            print(f\"{name_of_product} = {predicted_category}\")\n",
    "            products_df.at[idx, \"product_category\"] = predicted_category  # Assign subsequent predicted categories to their corresponding idx positions\n",
    "    \n",
    "    # Save the dataframe with product categories into csv to avoid making expensive api call\n",
    "    products_df.to_csv(\"../data/processed/8_products_df_with_product_category.csv\")\n",
    "    # print(products_df)\n",
    "    print(f\"\\nNumber of API calls made: {len(durations_list)}\")\n",
    "    \n",
    "    # Print average duration of API call\n",
    "    average_api_call_roundtrip_time = sum(durations_list)/len(durations_list)\n",
    "    print(f\"The AVERAGE API call roundtrip TIME is: {average_api_call_roundtrip_time}\")\n",
    "\n",
    "products_df = pd.read_csv(\"../data/processed/8_products_df_with_product_category.csv\", index_col=0)\n",
    "products_df.head(20)"
   ],
   "metadata": {
    "collapsed": false,
    "ExecuteTime": {
     "end_time": "2024-03-21T08:53:53.596449Z",
     "start_time": "2024-03-21T08:53:53.514504Z"
    }
   },
   "id": "557e9d1d185ba286",
   "execution_count": 56
  },
  {
   "cell_type": "markdown",
   "source": [
    "#### Check the info() of the dataframe with product_category column"
   ],
   "metadata": {
    "collapsed": false
   },
   "id": "bf66ed688f5cb65f"
  },
  {
   "cell_type": "code",
   "outputs": [
    {
     "name": "stdout",
     "output_type": "stream",
     "text": [
      "<class 'pandas.core.frame.DataFrame'>\n",
      "Index: 2000 entries, 0 to 1999\n",
      "Data columns (total 7 columns):\n",
      " #   Column            Non-Null Count  Dtype  \n",
      "---  ------            --------------  -----  \n",
      " 0   name              2000 non-null   object \n",
      " 1   product_category  2000 non-null   object \n",
      " 2   new_price         2000 non-null   float64\n",
      " 3   old_price         2000 non-null   float64\n",
      " 4   discount          2000 non-null   float64\n",
      " 5   rating            2000 non-null   float64\n",
      " 6   votes             2000 non-null   float64\n",
      "dtypes: float64(5), object(2)\n",
      "memory usage: 125.0+ KB\n"
     ]
    }
   ],
   "source": [
    "products_df.info()"
   ],
   "metadata": {
    "collapsed": false,
    "ExecuteTime": {
     "end_time": "2024-03-21T08:53:53.635344Z",
     "start_time": "2024-03-21T08:53:53.597713Z"
    }
   },
   "id": "8017c3ef13a0d5c0",
   "execution_count": 57
  },
  {
   "cell_type": "markdown",
   "source": [
    "#### Checking rows with nulls in the product_category column "
   ],
   "metadata": {
    "collapsed": false
   },
   "id": "12a1ebc8440e9b76"
  },
  {
   "cell_type": "code",
   "outputs": [],
   "source": [
    "# # The nulls are found to be sex toys as shown in the sliced dataframe below\n",
    "# product_cat_empty_df = products_df[pd.isna(products_df['product_category'])]\n",
    "# product_cat_empty_df"
   ],
   "metadata": {
    "collapsed": false,
    "ExecuteTime": {
     "end_time": "2024-03-21T08:53:53.688844Z",
     "start_time": "2024-03-21T08:53:53.636313Z"
    }
   },
   "id": "f72bda89bc830235",
   "execution_count": 58
  },
  {
   "cell_type": "markdown",
   "source": [
    "#### Filling product_category nulls with GEMINI api call with safety set to minimum (Ensure response not blocked)"
   ],
   "metadata": {
    "collapsed": false
   },
   "id": "17780fb29168a7e4"
  },
  {
   "cell_type": "code",
   "outputs": [],
   "source": [
    "# # Refresh gemini_call library\n",
    "# importlib.reload(gemini_call)\n",
    "# \n",
    "# # Slice dataframe from the main one having the empty product category\n",
    "# product_category_empty_rows_df = products_df[pd.isna(products_df['product_category'])]\n",
    "# \n",
    "# # Get indexes with the nulls in the sliced dataframe\n",
    "# product_category_empty_rows_indexes = product_category_empty_rows_df.index\n",
    "# \n",
    "# # Add IF-condition to only allow for loop to fill dataframe if nulls exist\n",
    "# if products_df['product_category'].isnull().any():\n",
    "#     for idx, row in product_category_empty_rows_df.iterrows():\n",
    "#         name_of_product = row[\"name\"]  # Get rows with missing product category names\n",
    "#     \n",
    "#         predicted_category = gemini_call.predict_product_category(name_of_product)  # Make API call to fetch the product category\n",
    "#     \n",
    "#         products_df.at[idx, \"product_category\"] = predicted_category  # Assign subsequent predicted categories to their corresponding idx positions\n",
    "# \n"
   ],
   "metadata": {
    "collapsed": false,
    "ExecuteTime": {
     "end_time": "2024-03-21T08:53:53.739093Z",
     "start_time": "2024-03-21T08:53:53.689927Z"
    }
   },
   "id": "938481fb6ad057a5",
   "execution_count": 59
  },
  {
   "cell_type": "markdown",
   "source": [
    "#### Confirm rows with missing product categories have been filled"
   ],
   "metadata": {
    "collapsed": false
   },
   "id": "e49d7e2ff493ad63"
  },
  {
   "cell_type": "code",
   "outputs": [],
   "source": [
    "# # # Slice main dataframe to access the indexes where product categories were empty to view if the product category filling is successful\n",
    "# empty_product_category_rows_filled_df = products_df.iloc[product_category_empty_rows_indexes]\n",
    "# empty_product_category_rows_filled_df"
   ],
   "metadata": {
    "collapsed": false,
    "ExecuteTime": {
     "end_time": "2024-03-21T08:53:53.806947Z",
     "start_time": "2024-03-21T08:53:53.740050Z"
    }
   },
   "id": "a1b1a8c0d7ca79e1",
   "execution_count": 60
  },
  {
   "cell_type": "markdown",
   "source": [
    "### Assign cleaned dataframe with product_category into a final csv"
   ],
   "metadata": {
    "collapsed": false
   },
   "id": "eef6f6ab8c27f9e6"
  },
  {
   "cell_type": "code",
   "outputs": [],
   "source": [
    "# Read csv of the final processed data folder into dataframe\n",
    "products_df = pd.read_csv(\"../data/processed/8_products_df_with_product_category.csv\", index_col=0)\n",
    "products_df.head()\n",
    "\n",
    "# Save the cleaned dataframe as a CSV in the final data folder\n",
    "products_df.to_csv(\"../data/final/products_df_all_cleaned.csv\")"
   ],
   "metadata": {
    "collapsed": false,
    "ExecuteTime": {
     "end_time": "2024-03-21T08:53:53.896106Z",
     "start_time": "2024-03-21T08:53:53.808008Z"
    }
   },
   "id": "b885c742d61fe619",
   "execution_count": 61
  },
  {
   "cell_type": "code",
   "outputs": [
    {
     "data": {
      "text/plain": "                                                name product_category  \\\n0  NIVEA Radiant & Beauty Advanced Care Lotion Fo...  Health & Beauty   \n1  AILYONS FK-0301 Stainless Steel 1.8L Electric ...    Home & Office   \n2  Garnier Anti-Blemish Charcoal Serum With AHA +...  Health & Beauty   \n3  NIVEA Perfect & Radiant Even Tone Day And Nigh...  Health & Beauty   \n4  NIVEA MEN Deep Antibacterial Anti-Perspirant R...  Health & Beauty   \n\n   new_price  old_price  discount  rating   votes  \n0      912.0    1460.00      0.38     4.7   721.0  \n1      628.0     263.76      0.42     4.3    43.0  \n2     1400.0    1750.00      0.20     4.3  1546.0  \n3      887.0    1560.00      0.43     4.5  2293.0  \n4      651.0    1040.00      0.37     4.6   680.0  ",
      "text/html": "<div>\n<style scoped>\n    .dataframe tbody tr th:only-of-type {\n        vertical-align: middle;\n    }\n\n    .dataframe tbody tr th {\n        vertical-align: top;\n    }\n\n    .dataframe thead th {\n        text-align: right;\n    }\n</style>\n<table border=\"1\" class=\"dataframe\">\n  <thead>\n    <tr style=\"text-align: right;\">\n      <th></th>\n      <th>name</th>\n      <th>product_category</th>\n      <th>new_price</th>\n      <th>old_price</th>\n      <th>discount</th>\n      <th>rating</th>\n      <th>votes</th>\n    </tr>\n  </thead>\n  <tbody>\n    <tr>\n      <th>0</th>\n      <td>NIVEA Radiant &amp; Beauty Advanced Care Lotion Fo...</td>\n      <td>Health &amp; Beauty</td>\n      <td>912.0</td>\n      <td>1460.00</td>\n      <td>0.38</td>\n      <td>4.7</td>\n      <td>721.0</td>\n    </tr>\n    <tr>\n      <th>1</th>\n      <td>AILYONS FK-0301 Stainless Steel 1.8L Electric ...</td>\n      <td>Home &amp; Office</td>\n      <td>628.0</td>\n      <td>263.76</td>\n      <td>0.42</td>\n      <td>4.3</td>\n      <td>43.0</td>\n    </tr>\n    <tr>\n      <th>2</th>\n      <td>Garnier Anti-Blemish Charcoal Serum With AHA +...</td>\n      <td>Health &amp; Beauty</td>\n      <td>1400.0</td>\n      <td>1750.00</td>\n      <td>0.20</td>\n      <td>4.3</td>\n      <td>1546.0</td>\n    </tr>\n    <tr>\n      <th>3</th>\n      <td>NIVEA Perfect &amp; Radiant Even Tone Day And Nigh...</td>\n      <td>Health &amp; Beauty</td>\n      <td>887.0</td>\n      <td>1560.00</td>\n      <td>0.43</td>\n      <td>4.5</td>\n      <td>2293.0</td>\n    </tr>\n    <tr>\n      <th>4</th>\n      <td>NIVEA MEN Deep Antibacterial Anti-Perspirant R...</td>\n      <td>Health &amp; Beauty</td>\n      <td>651.0</td>\n      <td>1040.00</td>\n      <td>0.37</td>\n      <td>4.6</td>\n      <td>680.0</td>\n    </tr>\n  </tbody>\n</table>\n</div>"
     },
     "execution_count": 62,
     "metadata": {},
     "output_type": "execute_result"
    }
   ],
   "source": [
    "# Rename the products_df to products_clean_df before the data analysis section\n",
    "products_clean_df = pd.read_csv(\"../data/final/products_df_all_cleaned.csv\", index_col=0)\n",
    "products_clean_df.head()"
   ],
   "metadata": {
    "collapsed": false,
    "ExecuteTime": {
     "end_time": "2024-03-21T08:53:53.984992Z",
     "start_time": "2024-03-21T08:53:53.897152Z"
    }
   },
   "id": "2fed158fb30d80cb",
   "execution_count": 62
  },
  {
   "cell_type": "markdown",
   "source": [
    "# DATA VISUALIZATION SECTION"
   ],
   "metadata": {
    "collapsed": false
   },
   "id": "fd11059b4f1ca555"
  },
  {
   "cell_type": "markdown",
   "source": [
    "### 1a) Most popular brands per category dataframe (Top 3 vote-wise and at least 1 vote)"
   ],
   "metadata": {
    "collapsed": false
   },
   "id": "7f91615e550e1df6"
  },
  {
   "cell_type": "code",
   "outputs": [],
   "source": [
    "# Group product name vote counts by their category \n",
    "grouped_product_name = products_clean_df.groupby('product_category')\n",
    "\n",
    "# Function to filter top 3 products in each category\n",
    "def top_3_products_each_category(group):\n",
    "    return group.nlargest(3, 'votes')\n",
    "\n",
    "# Apply the filter function to DataFrameGroupBy object\n",
    "# include_groups=False flag prevents apply() from being effected on the grouping column 'product category'\n",
    "if not os.path.exists(\"../results/datafiles/1_popular_brands.csv\"):\n",
    "    top_3_products_per_category = grouped_product_name.apply(top_3_products_each_category).reset_index(drop=True)\n",
    "    top_3_products_per_category.to_csv(\"../results/datafiles/1_popular_brands.csv\")  # Save df to csv\n"
   ],
   "metadata": {
    "collapsed": false,
    "ExecuteTime": {
     "end_time": "2024-03-21T08:53:54.031174Z",
     "start_time": "2024-03-21T08:53:53.986485Z"
    }
   },
   "id": "ca969cae5f55e2b1",
   "execution_count": 63
  },
  {
   "cell_type": "markdown",
   "source": [
    "#### 1b) Most popular brands per category visualization (Top 3 vote-wise and at least 1 vote)"
   ],
   "metadata": {
    "collapsed": false
   },
   "id": "1ef9d3b19453fdac"
  },
  {
   "cell_type": "code",
   "outputs": [
    {
     "data": {
      "text/plain": "<Figure size 5000x2500 with 1 Axes>",
      "image/png": "[encoded data removed]"
     },
     "metadata": {},
     "output_type": "display_data"
    }
   ],
   "source": [
    "popular_brands_df = pd.read_csv(\"../results/datafiles/1_popular_brands.csv\")\n",
    "\n",
    "# Set the product category as the index\n",
    "popular_brands_df.set_index('product_category', inplace=True)\n",
    "# Remove product names with 0 votes\n",
    "popular_brands_filtered_df = popular_brands_df[popular_brands_df['votes'] > 0]\n",
    "\n",
    "# Define a large plot area before plotting\n",
    "plt.figure(figsize=(50, 25))\n",
    "# Iteratively plot the category-grouped product names (level=0 reps the product_category index set)\n",
    "for category, data in popular_brands_filtered_df.groupby(level=0):\n",
    "    plt.barh(data['name'], data['votes'], label=category)\n",
    "\n",
    "plt.xscale('log')  # Define x-axis as logarithmic to minimize visual gap between the biggest & smallest values  \n",
    "# Define x & y labels\n",
    "plt.xlabel('Number of Votes (Log Scale)', fontsize='x-large')\n",
    "plt.ylabel('Product Name', fontsize='x-large')\n",
    "\n",
    "plt.title('Number of Votes for Each Product', fontsize='x-large')  # Title the plot\n",
    "# Define legend, bbox_to_anchor() = x & y anchor points, loc=location\n",
    "plt.legend(title='Product Category', bbox_to_anchor=(1.05, 1), loc='upper left', fontsize='x-large')\n",
    "plt.tight_layout(pad=1.5)  # pag flag spaces the title & the plot\n",
    "\n",
    "# Save plot as png to appropriate folder\n",
    "plt.savefig('../results/plots/1_popular_brands.png',bbox_inches=\"tight\",pad_inches=2, transparent=False)"
   ],
   "metadata": {
    "collapsed": false,
    "ExecuteTime": {
     "end_time": "2024-03-21T08:53:57.171577Z",
     "start_time": "2024-03-21T08:53:54.032315Z"
    }
   },
   "id": "d5016eb6d083916f",
   "execution_count": 64
  },
  {
   "cell_type": "markdown",
   "source": [
    "#### 2a) Most loved/Most satisfying products (highest rating + 80th percentile of category's votes)"
   ],
   "metadata": {
    "collapsed": false
   },
   "id": "d71b363b30af69d1"
  },
  {
   "cell_type": "code",
   "outputs": [
    {
     "data": {
      "text/plain": "           product_category    votes\n0                Automobile      4.0\n1             Baby Products      3.0\n2               Electronics    147.0\n3                   Fashion     50.0\n4         Garden & Outdoors     22.0\n5           Health & Beauty  30003.0\n6             Home & Office    389.0\n7   Industrial & Scientific      2.0\n8          Phones & Tablets     86.0\n9            Sporting Goods     12.0\n10             Toys & Games      2.0",
      "text/html": "<div>\n<style scoped>\n    .dataframe tbody tr th:only-of-type {\n        vertical-align: middle;\n    }\n\n    .dataframe tbody tr th {\n        vertical-align: top;\n    }\n\n    .dataframe thead th {\n        text-align: right;\n    }\n</style>\n<table border=\"1\" class=\"dataframe\">\n  <thead>\n    <tr style=\"text-align: right;\">\n      <th></th>\n      <th>product_category</th>\n      <th>votes</th>\n    </tr>\n  </thead>\n  <tbody>\n    <tr>\n      <th>0</th>\n      <td>Automobile</td>\n      <td>4.0</td>\n    </tr>\n    <tr>\n      <th>1</th>\n      <td>Baby Products</td>\n      <td>3.0</td>\n    </tr>\n    <tr>\n      <th>2</th>\n      <td>Electronics</td>\n      <td>147.0</td>\n    </tr>\n    <tr>\n      <th>3</th>\n      <td>Fashion</td>\n      <td>50.0</td>\n    </tr>\n    <tr>\n      <th>4</th>\n      <td>Garden &amp; Outdoors</td>\n      <td>22.0</td>\n    </tr>\n    <tr>\n      <th>5</th>\n      <td>Health &amp; Beauty</td>\n      <td>30003.0</td>\n    </tr>\n    <tr>\n      <th>6</th>\n      <td>Home &amp; Office</td>\n      <td>389.0</td>\n    </tr>\n    <tr>\n      <th>7</th>\n      <td>Industrial &amp; Scientific</td>\n      <td>2.0</td>\n    </tr>\n    <tr>\n      <th>8</th>\n      <td>Phones &amp; Tablets</td>\n      <td>86.0</td>\n    </tr>\n    <tr>\n      <th>9</th>\n      <td>Sporting Goods</td>\n      <td>12.0</td>\n    </tr>\n    <tr>\n      <th>10</th>\n      <td>Toys &amp; Games</td>\n      <td>2.0</td>\n    </tr>\n  </tbody>\n</table>\n</div>"
     },
     "execution_count": 65,
     "metadata": {},
     "output_type": "execute_result"
    }
   ],
   "source": [
    "# Get the list of all the categories in the product_category column\n",
    "categories_list = list(products_clean_df.product_category.unique())\n",
    "\n",
    "# Sum the votes per category & load into a new dataframe\n",
    "votes_sum_per_category_df = products_clean_df.groupby('product_category')['votes'].sum().reset_index()\n",
    "\n",
    "# Filter to remove the product categories with 0 aggregate votes\n",
    "votes_sum_per_category_df = votes_sum_per_category_df[votes_sum_per_category_df['votes'] > 0].reset_index(drop=True)\n",
    "votes_sum_per_category_df"
   ],
   "metadata": {
    "collapsed": false,
    "ExecuteTime": {
     "end_time": "2024-03-21T08:53:57.219339Z",
     "start_time": "2024-03-21T08:53:57.172927Z"
    }
   },
   "id": "992cbc5d9601e706",
   "execution_count": 65
  },
  {
   "cell_type": "markdown",
   "source": [
    "#### 2b) Create a dictionary with above product_categories (with non-zero votes) as keys & empty lists as values"
   ],
   "metadata": {
    "collapsed": false
   },
   "id": "9fc38d70aeeca470"
  },
  {
   "cell_type": "code",
   "outputs": [
    {
     "data": {
      "text/plain": "{'Automobile': [],\n 'Baby Products': [],\n 'Electronics': [],\n 'Fashion': [],\n 'Garden & Outdoors': [],\n 'Health & Beauty': [],\n 'Home & Office': [],\n 'Industrial & Scientific': [],\n 'Phones & Tablets': [],\n 'Sporting Goods': [],\n 'Toys & Games': []}"
     },
     "execution_count": 66,
     "metadata": {},
     "output_type": "execute_result"
    }
   ],
   "source": [
    "# Add the categories as keys to the dictionary & empty list as values (to later hold the votes)\n",
    "votes_per_category_dict = {}\n",
    "\n",
    "for product_cat in votes_sum_per_category_df['product_category']:\n",
    "    votes_per_category_dict[product_cat] = []\n",
    "votes_per_category_dict"
   ],
   "metadata": {
    "collapsed": false,
    "ExecuteTime": {
     "end_time": "2024-03-21T08:53:57.258234Z",
     "start_time": "2024-03-21T08:53:57.220604Z"
    }
   },
   "id": "f1d937337a0e8427",
   "execution_count": 66
  },
  {
   "cell_type": "markdown",
   "source": [
    "#### 2c) For each category above, get votes (where not zero), get indexes with votes, get ratings at votes indexes"
   ],
   "metadata": {
    "collapsed": false
   },
   "id": "39e28f1600044d08"
  },
  {
   "cell_type": "code",
   "outputs": [
    {
     "name": "stdout",
     "output_type": "stream",
     "text": [
      "The individual votes in each category consecutively is: \n",
      "{'Automobile': [2.0, 1.0, 1.0], 'Baby Products': [2.0, 1.0], 'Electronics': [35.0, 2.0, 35.0, 1.0, 72.0, 1.0, 1.0], 'Fashion': [1.0, 2.0, 20.0, 9.0, 1.0, 1.0, 5.0, 1.0, 10.0], 'Garden & Outdoors': [2.0, 1.0, 1.0, 18.0], 'Health & Beauty': [721.0, 1546.0, 2293.0, 680.0, 1078.0, 3845.0, 853.0, 1162.0, 786.0, 4808.0, 250.0, 2073.0, 663.0, 51.0, 703.0, 426.0, 2762.0, 365.0, 489.0, 498.0, 1564.0, 13.0, 311.0, 2.0, 410.0, 35.0, 1135.0, 4.0, 240.0, 109.0, 17.0, 14.0, 7.0, 31.0, 1.0, 2.0, 2.0, 3.0, 4.0, 16.0, 27.0, 1.0, 2.0, 1.0], 'Home & Office': [43.0, 101.0, 4.0, 2.0, 129.0, 13.0, 5.0, 5.0, 2.0, 2.0, 3.0, 4.0, 3.0, 8.0, 1.0, 3.0, 1.0, 1.0, 1.0, 9.0, 6.0, 3.0, 1.0, 1.0, 1.0, 1.0, 3.0, 27.0, 1.0, 1.0, 1.0, 1.0, 1.0, 1.0], 'Industrial & Scientific': [1.0, 1.0], 'Phones & Tablets': [1.0, 2.0, 33.0, 33.0, 1.0, 1.0, 1.0, 1.0, 1.0, 1.0, 1.0, 1.0, 1.0, 1.0, 2.0, 1.0, 1.0, 2.0, 1.0], 'Sporting Goods': [1.0, 1.0, 1.0, 1.0, 2.0, 2.0, 2.0, 2.0], 'Toys & Games': [1.0, 1.0]}\n",
      "\n",
      "The individual ratings in each category consecutively is: \n",
      "{'Automobile': [4.5, 4.0, 5.0], 'Baby Products': [5.0, 4.0], 'Electronics': [4.0, 4.0, 4.0, 5.0, 4.1, 5.0, 5.0], 'Fashion': [5.0, 5.0, 4.3, 3.9, 5.0, 5.0, 4.2, 5.0, 4.2], 'Garden & Outdoors': [3.5, 1.0, 1.0, 3.7], 'Health & Beauty': [4.7, 4.3, 4.5, 4.6, 4.3, 4.4, 4.6, 4.7, 4.2, 4.4, 4.6, 4.4, 4.6, 4.7, 4.3, 4.6, 4.0, 4.5, 4.4, 4.6, 4.5, 4.9, 4.8, 4.0, 4.6, 4.8, 4.0, 4.5, 4.5, 4.6, 4.6, 4.9, 4.9, 4.7, 5.0, 5.0, 5.0, 4.7, 4.8, 4.8, 4.7, 4.0, 5.0, 3.0], 'Home & Office': [4.3, 4.2, 4.8, 3.0, 4.6, 4.5, 3.4, 3.8, 5.0, 4.5, 4.7, 4.8, 2.7, 3.8, 5.0, 4.7, 5.0, 5.0, 5.0, 4.7, 4.8, 3.7, 4.0, 5.0, 5.0, 5.0, 4.7, 4.1, 3.0, 5.0, 3.0, 5.0, 5.0, 5.0], 'Industrial & Scientific': [5.0, 4.0], 'Phones & Tablets': [3.0, 3.5, 3.9, 3.9, 1.0, 1.0, 5.0, 5.0, 5.0, 5.0, 5.0, 5.0, 3.0, 5.0, 4.5, 5.0, 5.0, 4.5, 5.0], 'Sporting Goods': [5.0, 4.0, 1.0, 5.0, 4.5, 4.5, 4.5, 4.5], 'Toys & Games': [5.0, 4.0]}\n",
      "\n",
      "The indexes with votes in each category consecutively is: \n",
      "{'Automobile': [264, 530, 788], 'Baby Products': [33, 153], 'Electronics': [109, 148, 150, 399, 1028, 1427, 1588], 'Fashion': [188, 313, 316, 357, 372, 439, 663, 670, 702], 'Garden & Outdoors': [346, 413, 542, 994], 'Health & Beauty': [0, 2, 3, 4, 5, 6, 8, 9, 10, 11, 12, 13, 14, 16, 17, 18, 19, 20, 21, 24, 25, 28, 30, 32, 35, 36, 37, 38, 39, 41, 49, 53, 56, 57, 59, 60, 62, 65, 70, 71, 75, 78, 288, 324], 'Home & Office': [1, 7, 15, 22, 23, 26, 27, 29, 31, 34, 40, 43, 45, 46, 48, 50, 51, 52, 55, 61, 64, 74, 80, 96, 121, 136, 190, 208, 221, 408, 476, 538, 741, 746], 'Industrial & Scientific': [133, 1448], 'Phones & Tablets': [129, 371, 415, 544, 610, 681, 832, 965, 1117, 1245, 1335, 1376, 1394, 1478, 1702, 1704, 1731, 1880, 1882], 'Sporting Goods': [44, 93, 248, 330, 1441, 1636, 1665, 1834], 'Toys & Games': [228, 1755]}\n"
     ]
    }
   ],
   "source": [
    "# Confirm that the 1st 3 values (save on runtime) in the votes_per_category_dict dictionary are empty before running the for-loop block to fill it\n",
    "if any(not votes_per_category_dict[cat] for cat in list(votes_per_category_dict.keys())[:3]):\n",
    "    indexes_of_rows_with_votes_dict = {}  # Create empty dictionary to store the indexes of votes location\n",
    "    ratings_of_products_at_votes_indexes = {}\n",
    "    for cat in list(votes_per_category_dict.keys()):\n",
    "        filtered_df = products_clean_df[products_clean_df['product_category'] == cat]  # Create a dataframe with only rows of current category\n",
    "        filtered_df_2 = filtered_df[filtered_df['votes'] > 0]  # Remove rows of current category which have 0 votes\n",
    "        indexes_of_rows_with_votes_dict[cat] = list(filtered_df_2.index)  # Get indexes of rows containing votes\n",
    "        for vote in filtered_df_2['votes']:\n",
    "            votes_per_category_dict[cat].append(vote)\n",
    "\n",
    "# Create an empty dictionary to store product ratings (by copying keys of existing dictionary & leaving the keys empty)\n",
    "ratings_of_products_at_votes_indexes = {key: [] for key in indexes_of_rows_with_votes_dict}  \n",
    "# Obtain the ratings at the shortlisted indexes i.e.: indexes_of_rows_with_votes_dict\n",
    "for key, value in indexes_of_rows_with_votes_dict.items():\n",
    "    for idx in value:\n",
    "        ratings_of_products_at_votes_indexes[key].append(products_clean_df.iloc[idx]['rating'])\n",
    "\n",
    "print(f\"The individual votes in each category consecutively is: \\n{votes_per_category_dict}\")\n",
    "\n",
    "print(f\"\\nThe individual ratings in each category consecutively is: \\n{ratings_of_products_at_votes_indexes}\")\n",
    "\n",
    "print(f\"\\nThe indexes with votes in each category consecutively is: \\n{indexes_of_rows_with_votes_dict}\")\n"
   ],
   "metadata": {
    "collapsed": false,
    "ExecuteTime": {
     "end_time": "2024-03-21T08:53:57.344731Z",
     "start_time": "2024-03-21T08:53:57.263310Z"
    }
   },
   "id": "3bada91189d5c421",
   "execution_count": 67
  },
  {
   "cell_type": "markdown",
   "source": [
    "#### 2d) Create a sorted dictionary of product ratings (to calculate rating percentiles in most satisfying product algorithm below)"
   ],
   "metadata": {
    "collapsed": false
   },
   "id": "14fe33dfbe59b23e"
  },
  {
   "cell_type": "code",
   "outputs": [
    {
     "name": "stdout",
     "output_type": "stream",
     "text": [
      "\n",
      "The SORTED individual ratings in each category consecutively is: \n",
      "{'Automobile': [4.0, 4.5, 5.0], 'Baby Products': [4.0, 5.0], 'Electronics': [4.0, 4.0, 4.0, 4.1, 5.0, 5.0, 5.0], 'Fashion': [3.9, 4.2, 4.2, 4.3, 5.0, 5.0, 5.0, 5.0, 5.0], 'Garden & Outdoors': [1.0, 1.0, 3.5, 3.7], 'Health & Beauty': [3.0, 4.0, 4.0, 4.0, 4.0, 4.2, 4.3, 4.3, 4.3, 4.4, 4.4, 4.4, 4.4, 4.5, 4.5, 4.5, 4.5, 4.5, 4.6, 4.6, 4.6, 4.6, 4.6, 4.6, 4.6, 4.6, 4.6, 4.7, 4.7, 4.7, 4.7, 4.7, 4.7, 4.8, 4.8, 4.8, 4.8, 4.9, 4.9, 4.9, 5.0, 5.0, 5.0, 5.0], 'Home & Office': [2.7, 3.0, 3.0, 3.0, 3.4, 3.7, 3.8, 3.8, 4.0, 4.1, 4.2, 4.3, 4.5, 4.5, 4.6, 4.7, 4.7, 4.7, 4.7, 4.8, 4.8, 4.8, 5.0, 5.0, 5.0, 5.0, 5.0, 5.0, 5.0, 5.0, 5.0, 5.0, 5.0, 5.0], 'Industrial & Scientific': [4.0, 5.0], 'Phones & Tablets': [1.0, 1.0, 3.0, 3.0, 3.5, 3.9, 3.9, 4.5, 4.5, 5.0, 5.0, 5.0, 5.0, 5.0, 5.0, 5.0, 5.0, 5.0, 5.0], 'Sporting Goods': [1.0, 4.0, 4.5, 4.5, 4.5, 4.5, 5.0, 5.0], 'Toys & Games': [4.0, 5.0]}\n"
     ]
    }
   ],
   "source": [
    "ratings_of_products_at_votes_indexes_sorted = {key: sorted(copy.deepcopy(value)) for key,value in ratings_of_products_at_votes_indexes.items()}\n",
    "\n",
    "print(f\"\\nThe SORTED individual ratings in each category consecutively is: \\n{ratings_of_products_at_votes_indexes_sorted}\")"
   ],
   "metadata": {
    "collapsed": false,
    "ExecuteTime": {
     "end_time": "2024-03-21T08:53:57.382589Z",
     "start_time": "2024-03-21T08:53:57.345773Z"
    }
   },
   "id": "74692eeb8a84b0f0",
   "execution_count": 68
  },
  {
   "cell_type": "markdown",
   "source": [
    "#### 2e) Most satisfying product algorithm"
   ],
   "metadata": {
    "collapsed": false
   },
   "id": "fbcb4264c2d4b180"
  },
  {
   "cell_type": "code",
   "outputs": [
    {
     "name": "stdout",
     "output_type": "stream",
     "text": [
      "Automobile: [2.0, 1.0, 1.0]\n",
      "Max value: 2.0\n",
      "max_votes_val_indices in get_max_votes_value_idx: [0]\n",
      "idx_arr length: 1\n",
      "Category: Automobile, Ratings: [4.5, 4.0, 5.0]\n",
      "Category: Automobile, Rating at max votes value: 4.5\n",
      "Most satisfying product index: 0. Its votes count: 2.0. Rating: 4.5\n",
      "\n",
      "{'Automobile': 0}\n",
      "Baby Products: [2.0, 1.0]\n",
      "Max value: 2.0\n",
      "max_votes_val_indices in get_max_votes_value_idx: [0]\n",
      "idx_arr length: 1\n",
      "Category: Baby Products, Ratings: [5.0, 4.0]\n",
      "Category: Baby Products, Rating at max votes value: 5.0\n",
      "Most satisfying product index: 0. Its votes count: 2.0. Rating: 5.0\n",
      "\n",
      "{'Baby Products': 0}\n",
      "Electronics: [35.0, 2.0, 35.0, 1.0, 72.0, 1.0, 1.0]\n",
      "Max value: 72.0\n",
      "max_votes_val_indices in get_max_votes_value_idx: [4]\n",
      "idx_arr length: 1\n",
      "Category: Electronics, Ratings: [4.0, 4.0, 4.0, 5.0, 4.1, 5.0, 5.0]\n",
      "Category: Electronics, Rating at max votes value: 4.1\n",
      "Most satisfying product index: 4. Its votes count: 72.0. Rating: 4.1\n",
      "\n",
      "{'Electronics': 4}\n",
      "Fashion: [1.0, 2.0, 20.0, 9.0, 1.0, 1.0, 5.0, 1.0, 10.0]\n",
      "Max value: 20.0\n",
      "max_votes_val_indices in get_max_votes_value_idx: [2]\n",
      "idx_arr length: 1\n",
      "Category: Fashion, Ratings: [5.0, 5.0, 4.3, 3.9, 5.0, 5.0, 4.2, 5.0, 4.2]\n",
      "Category: Fashion, Rating at max votes value: 4.3\n",
      "Most satisfying product index: 2. Its votes count: 20.0. Rating: 4.3\n",
      "\n",
      "{'Fashion': 2}\n",
      "Garden & Outdoors: [2.0, 1.0, 1.0, 18.0]\n",
      "Max value: 18.0\n",
      "max_votes_val_indices in get_max_votes_value_idx: [3]\n",
      "idx_arr length: 1\n",
      "Category: Garden & Outdoors, Ratings: [3.5, 1.0, 1.0, 3.7]\n",
      "Category: Garden & Outdoors, Rating at max votes value: 3.7\n",
      "Most satisfying product index: 3. Its votes count: 18.0. Rating: 3.7\n",
      "\n",
      "{'Garden & Outdoors': 3}\n",
      "Health & Beauty: [721.0, 1546.0, 2293.0, 680.0, 1078.0, 3845.0, 853.0, 1162.0, 786.0, 4808.0, 250.0, 2073.0, 663.0, 51.0, 703.0, 426.0, 2762.0, 365.0, 489.0, 498.0, 1564.0, 13.0, 311.0, 2.0, 410.0, 35.0, 1135.0, 4.0, 240.0, 109.0, 17.0, 14.0, 7.0, 31.0, 1.0, 2.0, 2.0, 3.0, 4.0, 16.0, 27.0, 1.0, 2.0, 1.0]\n",
      "Max value: 4808.0\n",
      "max_votes_val_indices in get_max_votes_value_idx: [9]\n",
      "idx_arr length: 1\n",
      "Category: Health & Beauty, Ratings: [4.7, 4.3, 4.5, 4.6, 4.3, 4.4, 4.6, 4.7, 4.2, 4.4, 4.6, 4.4, 4.6, 4.7, 4.3, 4.6, 4.0, 4.5, 4.4, 4.6, 4.5, 4.9, 4.8, 4.0, 4.6, 4.8, 4.0, 4.5, 4.5, 4.6, 4.6, 4.9, 4.9, 4.7, 5.0, 5.0, 5.0, 4.7, 4.8, 4.8, 4.7, 4.0, 5.0, 3.0]\n",
      "Category: Health & Beauty, Rating at max votes value: 4.4\n",
      "Most satisfying product index: 9. Its votes count: 4808.0. Rating: 4.4\n",
      "\n",
      "{'Health & Beauty': 9}\n",
      "Home & Office: [43.0, 101.0, 4.0, 2.0, 129.0, 13.0, 5.0, 5.0, 2.0, 2.0, 3.0, 4.0, 3.0, 8.0, 1.0, 3.0, 1.0, 1.0, 1.0, 9.0, 6.0, 3.0, 1.0, 1.0, 1.0, 1.0, 3.0, 27.0, 1.0, 1.0, 1.0, 1.0, 1.0, 1.0]\n",
      "Max value: 129.0\n",
      "max_votes_val_indices in get_max_votes_value_idx: [4]\n",
      "idx_arr length: 1\n",
      "Category: Home & Office, Ratings: [4.3, 4.2, 4.8, 3.0, 4.6, 4.5, 3.4, 3.8, 5.0, 4.5, 4.7, 4.8, 2.7, 3.8, 5.0, 4.7, 5.0, 5.0, 5.0, 4.7, 4.8, 3.7, 4.0, 5.0, 5.0, 5.0, 4.7, 4.1, 3.0, 5.0, 3.0, 5.0, 5.0, 5.0]\n",
      "Category: Home & Office, Rating at max votes value: 4.6\n",
      "Most satisfying product index: 4. Its votes count: 129.0. Rating: 4.6\n",
      "\n",
      "{'Home & Office': 4}\n",
      "Industrial & Scientific: [1.0, 1.0]\n",
      "Max value: 1.0\n",
      "max_votes_val_indices in get_max_votes_value_idx: [0, 1]\n",
      "idx_arr length: 2\n",
      "Category: Industrial & Scientific, Ratings: [5.0, 4.0]\n",
      "Category: Industrial & Scientific, Rating at max votes value: 5.0\n",
      "Category: Industrial & Scientific. Most satisfying product index: 0. Its votes count: 1.0. Rating: 5.0\n",
      "\n",
      "{'Industrial & Scientific': 0}\n",
      "Category: Industrial & Scientific, Ratings: [5.0, 4.0]\n",
      "Category: Industrial & Scientific, Rating at max votes value: 4.0\n",
      "Category: Industrial & Scientific. Most satisfying product index: 1. Its votes count: 1.0. Rating: 4.0\n",
      "\n",
      "{'Industrial & Scientific': 1}\n",
      "Phones & Tablets: [1.0, 2.0, 33.0, 33.0, 1.0, 1.0, 1.0, 1.0, 1.0, 1.0, 1.0, 1.0, 1.0, 1.0, 2.0, 1.0, 1.0, 2.0, 1.0]\n",
      "Max value: 33.0\n",
      "max_votes_val_indices in get_max_votes_value_idx: [2, 3]\n",
      "idx_arr length: 2\n",
      "Category: Phones & Tablets, Ratings: [3.0, 3.5, 3.9, 3.9, 1.0, 1.0, 5.0, 5.0, 5.0, 5.0, 5.0, 5.0, 3.0, 5.0, 4.5, 5.0, 5.0, 4.5, 5.0]\n",
      "Category: Phones & Tablets, Rating at max votes value: 3.9\n",
      "Category: Phones & Tablets. Most satisfying product index: 2. Its votes count: 33.0. Rating: 3.9\n",
      "\n",
      "{'Phones & Tablets': 0}\n",
      "Category: Phones & Tablets, Ratings: [3.0, 3.5, 3.9, 3.9, 1.0, 1.0, 5.0, 5.0, 5.0, 5.0, 5.0, 5.0, 3.0, 5.0, 4.5, 5.0, 5.0, 4.5, 5.0]\n",
      "Category: Phones & Tablets, Rating at max votes value: 3.9\n",
      "Category: Phones & Tablets. Most satisfying product index: 3. Its votes count: 33.0. Rating: 3.9\n",
      "\n",
      "{'Phones & Tablets': 1}\n",
      "Sporting Goods: [1.0, 1.0, 1.0, 1.0, 2.0, 2.0, 2.0, 2.0]\n",
      "Max value: 2.0\n",
      "max_votes_val_indices in get_max_votes_value_idx: [4, 5, 6, 7]\n",
      "idx_arr length: 4\n",
      "Category: Sporting Goods, Ratings: [5.0, 4.0, 1.0, 5.0, 4.5, 4.5, 4.5, 4.5]\n",
      "Category: Sporting Goods, Rating at max votes value: 4.5\n",
      "Category: Sporting Goods. Most satisfying product index: 4. Its votes count: 2.0. Rating: 4.5\n",
      "\n",
      "{'Sporting Goods': 0}\n",
      "Category: Sporting Goods, Ratings: [5.0, 4.0, 1.0, 5.0, 4.5, 4.5, 4.5, 4.5]\n",
      "Category: Sporting Goods, Rating at max votes value: 4.5\n",
      "Category: Sporting Goods. Most satisfying product index: 5. Its votes count: 2.0. Rating: 4.5\n",
      "\n",
      "{'Sporting Goods': 1}\n",
      "Category: Sporting Goods, Ratings: [5.0, 4.0, 1.0, 5.0, 4.5, 4.5, 4.5, 4.5]\n",
      "Category: Sporting Goods, Rating at max votes value: 4.5\n",
      "Category: Sporting Goods. Most satisfying product index: 6. Its votes count: 2.0. Rating: 4.5\n",
      "\n",
      "{'Sporting Goods': 2}\n",
      "Category: Sporting Goods, Ratings: [5.0, 4.0, 1.0, 5.0, 4.5, 4.5, 4.5, 4.5]\n",
      "Category: Sporting Goods, Rating at max votes value: 4.5\n",
      "Category: Sporting Goods. Most satisfying product index: 7. Its votes count: 2.0. Rating: 4.5\n",
      "\n",
      "{'Sporting Goods': 3}\n",
      "Toys & Games: [1.0, 1.0]\n",
      "Max value: 1.0\n",
      "max_votes_val_indices in get_max_votes_value_idx: [0, 1]\n",
      "idx_arr length: 2\n",
      "Category: Toys & Games, Ratings: [5.0, 4.0]\n",
      "Category: Toys & Games, Rating at max votes value: 5.0\n",
      "Category: Toys & Games. Most satisfying product index: 0. Its votes count: 1.0. Rating: 5.0\n",
      "\n",
      "{'Toys & Games': 0}\n",
      "Category: Toys & Games, Ratings: [5.0, 4.0]\n",
      "Category: Toys & Games, Rating at max votes value: 4.0\n",
      "Category: Toys & Games. Most satisfying product index: 1. Its votes count: 1.0. Rating: 4.0\n",
      "\n",
      "{'Toys & Games': 1}\n"
     ]
    }
   ],
   "source": [
    "def save_most_satisfying_products(cat, product_idx):\n",
    "    most_satisfying_dict = {cat: product_idx}\n",
    "    print(most_satisfying_dict)\n",
    "\n",
    "\n",
    "def get_70_percent_of_max_rating(sorted_ratings, rating_at_max_vote):\n",
    "    rating_70_percent = 0.7 * max(sorted_ratings)   \n",
    "    return rating_at_max_vote >= rating_70_percent\n",
    "        \n",
    "\n",
    "# votes_per_category_dict, ratings_of_products_at_votes_indexes, indexes_of_rows_with_votes_dict\n",
    "def get_rating_at_max_votes_idx(votes_category, pos, idx_arr):\n",
    "    # print(f\"idx_arr: {idx_arr}\")\n",
    "    print(f\"idx_arr length: {len(idx_arr)}\")\n",
    "    \n",
    "    category_length = len(ratings_of_products_at_votes_indexes[votes_category])\n",
    "    \n",
    "    if len(idx_arr) == 1: \n",
    "        rating_idx = idx_arr[0]\n",
    "        print(f\"Category: {votes_category}, Ratings: {ratings_of_products_at_votes_indexes[votes_category]}\")\n",
    "        rating_at_votes_max_value = ratings_of_products_at_votes_indexes[votes_category][rating_idx]\n",
    "        print(f\"Category: {votes_category}, Rating at max votes value: {rating_at_votes_max_value}\")  \n",
    "        rating_more_than_70_percent = get_70_percent_of_max_rating(ratings_of_products_at_votes_indexes_sorted[votes_category], rating_at_votes_max_value)\n",
    "        \n",
    "        if not rating_more_than_70_percent:\n",
    "            new_pos = pos + 1    \n",
    "            if new_pos > category_length:\n",
    "                # return rating_idx\n",
    "                save_most_satisfying_products(votes_category, rating_idx)\n",
    "            print(f\"Index in percentile: {new_pos}\")\n",
    "            get_max_votes_value_idx(pos=new_pos)\n",
    "        print(f\"Most satisfying product index: {rating_idx}. Its votes count: {votes_per_category_dict[votes_category][rating_idx]}. Rating: {ratings_of_products_at_votes_indexes[votes_category][rating_idx]}\\n\") \n",
    "        # return rating_idx\n",
    "        save_most_satisfying_products(votes_category, rating_idx)\n",
    "        # INSTEAD OF RETURNING rating_idx in both cases, USE IT IN PLACE TO PRINT THE MOST SATISFYING PRODUCT\n",
    "    else:\n",
    "        for idx_r, val in enumerate(idx_arr):\n",
    "            print(f\"Category: {votes_category}, Ratings: {ratings_of_products_at_votes_indexes[votes_category]}\")\n",
    "            rating_at_votes_max_value = ratings_of_products_at_votes_indexes[votes_category][val]\n",
    "            print(f\"Category: {votes_category}, Rating at max votes value: {rating_at_votes_max_value}\")  \n",
    "            rating_more_than_70_percent = get_70_percent_of_max_rating(ratings_of_products_at_votes_indexes_sorted[votes_category], rating_at_votes_max_value)\n",
    "            \n",
    "            if not rating_more_than_70_percent:\n",
    "                if idx_r == len(idx_arr) - 1:\n",
    "                    new_pos = pos + len(idx_arr)\n",
    "                    if new_pos > category_length:\n",
    "                        # return idx_r\n",
    "                        save_most_satisfying_products(votes_category, idx_r)\n",
    "                    print(f\"Index in percentile: {new_pos}\")\n",
    "                    get_max_votes_value_idx(pos=new_pos)\n",
    "                continue\n",
    "            print(f\"Category: {votes_category}. Most satisfying product index: {val}. Its votes count: {votes_per_category_dict[votes_category][val]}. Rating: {ratings_of_products_at_votes_indexes[votes_category][val]}\\n\") \n",
    "            # return idx_r\n",
    "            save_most_satisfying_products(votes_category, idx_r)\n",
    "def get_max_votes_value_idx(votes_category, pos = 1):\n",
    "        print(f\"{votes_category}: {votes_per_category_dict[votes_category]}\")\n",
    "        \n",
    "        votes_category_values = votes_per_category_dict[votes_category]\n",
    "        votes_category_values_sorted = sorted(copy.deepcopy(votes_category_values))\n",
    "        if pos <= len(votes_category_values_sorted):\n",
    "            max_votes_val = votes_category_values_sorted[-pos]  # Get the max value\n",
    "            print(f\"Max value: {max_votes_val}\")\n",
    "            # Use list comprehension to catch any multiple max values that may exist\n",
    "            max_votes_val_indices = [i for i, x in enumerate(votes_category_values) if x == max_votes_val]\n",
    "            print(f\"max_votes_val_indices in get_max_votes_value_idx: {max_votes_val_indices}\")\n",
    "            get_rating_at_max_votes_idx(votes_category, pos, idx_arr = max_votes_val_indices)\n",
    "        else:\n",
    "            print(\"Search cannot continue. Index out of range!\")\n",
    "            \n",
    "\n",
    "for votes_cat in votes_per_category_dict:\n",
    "    # if votes_cat == 'Electronics':\n",
    "    #     break\n",
    "    get_max_votes_value_idx(votes_category=votes_cat)"
   ],
   "metadata": {
    "collapsed": false,
    "ExecuteTime": {
     "end_time": "2024-03-21T08:54:36.832483Z",
     "start_time": "2024-03-21T08:54:36.822521Z"
    }
   },
   "id": "b77fb59b99235ed",
   "execution_count": 70
  },
  {
   "cell_type": "markdown",
   "source": [
    "### Summary stats of the data"
   ],
   "metadata": {
    "collapsed": false
   },
   "id": "78e2146e03531dad"
  },
  {
   "cell_type": "code",
   "outputs": [],
   "source": [
    "summary_stats = products_clean_df.describe()\n",
    "summary_stats"
   ],
   "metadata": {
    "collapsed": false,
    "ExecuteTime": {
     "end_time": "2024-03-21T08:53:57.692053Z",
     "start_time": "2024-03-21T08:53:57.691956Z"
    }
   },
   "id": "fc910e89daa67d0c",
   "execution_count": null
  },
  {
   "cell_type": "markdown",
   "source": [
    "### Deriving the correlation matrix"
   ],
   "metadata": {
    "collapsed": false
   },
   "id": "6d453bd7162baab4"
  },
  {
   "cell_type": "code",
   "outputs": [],
   "source": [
    "# Returning correlation matrix for only the numerical columns\n",
    "correlation_matrix = products_clean_df.corr(method='pearson', numeric_only=True)\n",
    "# correlation_matrix.to_csv(\"results/datafiles/pearson_correlation.csv\")\n",
    "correlation_matrix"
   ],
   "metadata": {
    "collapsed": false
   },
   "id": "7f17889fbf3e9669",
   "execution_count": null
  },
  {
   "cell_type": "code",
   "outputs": [],
   "source": [
    "plt.xticks(np.arange(len(products_clean_df.columns)), products_clean_df.columns, rotation=45)\n",
    "plt.yticks(np.arange(len(products_clean_df.columns)), products_clean_df.columns, rotation=45)\n",
    "\n",
    "sns.heatmap(correlation_matrix, annot=True, cmap='coolwarm')\n",
    "plt.title('Correlation Matrix of the Numeric Columns (Jumia data)', y=1.02)\n",
    "\n",
    "plt.savefig(\"../results/plots/1_correlation_matrix_of_Jumia_products_numeric_data.png\", bbox_inches=\"tight\",pad_inches=2)"
   ],
   "metadata": {
    "collapsed": false
   },
   "id": "73da0553a6a9cdc1",
   "execution_count": null
  },
  {
   "cell_type": "markdown",
   "source": [
    "### Visualize top-rated products with at least 200 votes"
   ],
   "metadata": {
    "collapsed": false
   },
   "id": "a20eae547fc92871"
  },
  {
   "cell_type": "code",
   "outputs": [],
   "source": [
    "# First filter for products with at least 200 votes (More votes makes a product rating more reliable)\n",
    "products_with_atleast_200_votes_df = products_clean_df[products_clean_df['votes'] >= 200]\n",
    "products_with_atleast_200_votes_df"
   ],
   "metadata": {
    "collapsed": false
   },
   "id": "495a7437e25a2ec9",
   "execution_count": null
  },
  {
   "cell_type": "code",
   "outputs": [],
   "source": [
    "# Check counts of products with rating at least 4.5\n",
    "top_rated_products_df = products_with_atleast_200_votes_df[products_with_atleast_200_votes_df['rating'] >= 4.5]\n",
    "top_rated_products_df"
   ],
   "metadata": {
    "collapsed": false
   },
   "id": "ce705bc978d2686a",
   "execution_count": null
  },
  {
   "cell_type": "code",
   "outputs": [],
   "source": [
    "# Selecting only votes & rating column before plotting\n",
    "new_top_rated_products_df = top_rated_products_df[['name','rating', 'votes']].reset_index(drop=True)\n",
    "new_top_rated_products_df"
   ],
   "metadata": {
    "collapsed": false
   },
   "id": "1cb5e0f114f4db47",
   "execution_count": null
  },
  {
   "cell_type": "code",
   "outputs": [],
   "source": [
    "# Creating a horizontal bar plot\n",
    "plt.figure(figsize=(18,10))\n",
    "\n",
    "plt.barh(new_top_rated_products_df['name'], new_top_rated_products_df['rating'])\n",
    "\n",
    "plt.title(\"Top-rated products with at least 4.5 stars and 200 Votes\")\n",
    "plt.ylabel(\"Product\", fontsize=7)\n",
    "plt.xlabel(\"Rating\")\n",
    "\n",
    "# Save the plot to file\n",
    "plt.savefig(\"../results/plots/2_products_4.5_stars_and_more_than_200_votes.png\",bbox_inches='tight',pad_inches=2)"
   ],
   "metadata": {
    "collapsed": false
   },
   "id": "ff51475d32badb4c",
   "execution_count": null
  },
  {
   "cell_type": "markdown",
   "source": [
    "### Showing product price distribution: Histogram with Kernel density estimate (kde) curve"
   ],
   "metadata": {
    "collapsed": false
   },
   "id": "f48775ee5a56cbf9"
  },
  {
   "cell_type": "code",
   "outputs": [],
   "source": [
    "plt.figure(figsize=(20, 5))\n",
    "sns.histplot(products_clean_df['new_price'], kde=True)\n",
    "plt.xlabel('Product Price')\n",
    "plt.xticks(np.arange(0, max(products_clean_df['new_price'])+1, 4000),rotation=90)\n",
    "plt.ylabel('Frequency')\n",
    "plt.title('Distribution of Product Prices')\n",
    "\n",
    "# Save the plot to file\n",
    "plt.savefig(\"../results/plots/3_product_prices_histogram_with_kernel_estimate_curve.png\",bbox_inches='tight',pad_inches=1)"
   ],
   "metadata": {
    "collapsed": false
   },
   "id": "1a8ed8fea776449c",
   "execution_count": null
  },
  {
   "cell_type": "markdown",
   "source": [
    "### Visualizing discount distribution"
   ],
   "metadata": {
    "collapsed": false
   },
   "id": "e47baac3e17ef294"
  },
  {
   "cell_type": "code",
   "outputs": [],
   "source": [
    "sns.histplot(products_clean_df['discount'])\n",
    "plt.xlabel('Discount')\n",
    "# plt.xticks(np.arange(0,max(products_clean_df['discount'])+1,0.5),rotation=90)\n",
    "plt.xticks(rotation=90)\n",
    "plt.ylabel('Frequency')\n",
    "plt.title('Distribution of Discounts')\n",
    "\n",
    "# Save the plot to file\n",
    "plt.savefig(\"../results/plots/4_product_discount_histogram.png\",bbox_inches='tight',pad_inches=1)"
   ],
   "metadata": {
    "collapsed": false
   },
   "id": "84229f6f3aff5d42",
   "execution_count": null
  },
  {
   "cell_type": "markdown",
   "source": [
    "### Visualizing rating distribution"
   ],
   "metadata": {
    "collapsed": false
   },
   "id": "d5369e7fc06e2b39"
  },
  {
   "cell_type": "code",
   "outputs": [],
   "source": [
    "sns.histplot(data=products_clean_df, x='rating')\n",
    "plt.title('Distribution of Ratings')\n",
    "plt.xticks(np.arange(1.0, max(products_clean_df['rating'])+1, 0.1),rotation=90,fontsize=8)\n",
    "plt.ylabel(\"Frequency\")\n",
    "\n",
    "# Save plot to file\n",
    "plt.savefig(\"../results/plots/5_ratings_distribution_histogram.png\", bbox_inches=\"tight\", pad_inches=1)"
   ],
   "metadata": {
    "collapsed": false
   },
   "id": "e61cbba61b0befce",
   "execution_count": null
  },
  {
   "cell_type": "markdown",
   "source": [
    "### Product Name Analysis"
   ],
   "metadata": {
    "collapsed": false
   },
   "id": "9375212852407a76"
  },
  {
   "cell_type": "code",
   "outputs": [],
   "source": [
    "words = ' '.join(products_clean_df['name']).split()\n",
    "all_words = Counter(words)\n",
    "# len(all_words)  # 4580\n",
    "\n",
    "# Returning an array of tuples with all_words & their counts, then return first 10\n",
    "all_words_counts = all_words.most_common()\n",
    "all_words_counts[:10]"
   ],
   "metadata": {
    "collapsed": false
   },
   "id": "b85078639df6b0aa",
   "execution_count": null
  },
  {
   "cell_type": "code",
   "outputs": [],
   "source": [
    "# Return only the alphabetical elements & their counts, & return the first 10\n",
    "only_alpha_words_list = [(word, count) for word, count in all_words_counts if word.isalpha()]\n",
    "only_alpha_words_list[:10]"
   ],
   "metadata": {
    "collapsed": false
   },
   "id": "e25f16d6713263ce",
   "execution_count": null
  },
  {
   "cell_type": "code",
   "outputs": [],
   "source": [
    "# Select the top 30 words\n",
    "first_30_words = only_alpha_words_list[:31]\n",
    "first_30_words\n",
    "\n",
    "# Future: Use library to remove conjuctions such as 'and' from this list"
   ],
   "metadata": {
    "collapsed": false
   },
   "id": "436ffa3e366aa11a",
   "execution_count": null
  },
  {
   "cell_type": "code",
   "outputs": [],
   "source": [
    "# Plot a chart with the first 30 words\n",
    "plt.bar([d[0] for d in first_30_words], [d[1] for d in first_30_words])\n",
    "plt.xlabel(\"Product names\")\n",
    "plt.xticks(rotation=90)\n",
    "plt.ylabel(\"Counts\")\n",
    "plt.title(\"Bar chart of Product Names & Values\")\n",
    "\n",
    "# Save plot to file\n",
    "plt.savefig(\"../results/plots/6_barchart_top_30_product_names_counts.png\", bbox_inches=\"tight\", pad_inches=1)"
   ],
   "metadata": {
    "collapsed": false
   },
   "id": "35886ec280671d34",
   "execution_count": null
  },
  {
   "cell_type": "markdown",
   "source": [
    "### Creating pairplot showing relationship between various numerical columns"
   ],
   "metadata": {
    "collapsed": false
   },
   "id": "1761542f42f8746b"
  },
  {
   "cell_type": "code",
   "outputs": [],
   "source": [
    "sns.pairplot(products_clean_df)\n",
    "plt.suptitle('Pair Plot of Numerical Features', y=1.02)\n",
    "\n",
    "# Save to file\n",
    "plt.savefig(\"../results/plots/7_pairplot_rltnships_between_all_numerical_columns.png\", bbox_inches=\"tight\", pad_inches=1)"
   ],
   "metadata": {
    "collapsed": false
   },
   "id": "ee549441690fda85",
   "execution_count": null
  },
  {
   "cell_type": "code",
   "outputs": [],
   "source": [],
   "metadata": {
    "collapsed": false
   },
   "id": "793ba1e2db383cd6",
   "execution_count": null
  }
 ],
 "metadata": {
  "kernelspec": {
   "display_name": "Python 3",
   "language": "python",
   "name": "python3"
  },
  "language_info": {
   "codemirror_mode": {
    "name": "ipython",
    "version": 2
   },
   "file_extension": ".py",
   "mimetype": "text/x-python",
   "name": "python",
   "nbconvert_exporter": "python",
   "pygments_lexer": "ipython2",
   "version": "2.7.6"
  }
 },
 "nbformat": 4,
 "nbformat_minor": 5
}
