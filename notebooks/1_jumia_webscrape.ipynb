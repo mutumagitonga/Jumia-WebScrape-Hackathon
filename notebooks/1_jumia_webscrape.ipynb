{
 "cells": [
  {
   "cell_type": "markdown",
   "source": [
    "# Scraping Jumia Ecommerce Site: DSE HACKATHON"
   ],
   "metadata": {
    "collapsed": false
   },
   "id": "535c85fadfa6dbbb"
  },
  {
   "cell_type": "markdown",
   "source": [
    "## Import libraries"
   ],
   "metadata": {
    "collapsed": false
   },
   "id": "3e3f34666872e52c"
  },
  {
   "cell_type": "code",
   "outputs": [],
   "source": [
    "import requests as req\n",
    "from bs4 import BeautifulSoup\n",
    "import pandas as pd\n",
    "import numpy as np\n",
    "import matplotlib.pyplot as plt\n",
    "import seaborn as sns\n",
    "\n",
    "from collections import Counter\n",
    "import os\n",
    "import time\n",
    "import re\n",
    "\n",
    "import scripts.gemini_api_call as gemini_call\n",
    "import importlib"
   ],
   "metadata": {
    "collapsed": false,
    "ExecuteTime": {
     "end_time": "2024-03-08T12:00:09.222757Z",
     "start_time": "2024-03-08T12:00:09.218790Z"
    }
   },
   "id": "2322241c28235713",
   "execution_count": 76
  },
  {
   "cell_type": "code",
   "outputs": [],
   "source": [
    "# # start_time = time.time()\n",
    "# importlib.reload(gemini_call)\n",
    "# product_cat = gemini_call.predict_product_category(\"Infinix Note 30 4G, 6.66\"\", 256GB + 8GB RAM (Dual SIM), 5000mAh, Obsidian Black\")\n",
    "# # end_time = time.time()\n",
    "# # elapsed_time = end_time - start_time\n",
    "# # elapsed_time"
   ],
   "metadata": {
    "collapsed": false,
    "ExecuteTime": {
     "end_time": "2024-03-08T12:00:30.736193Z",
     "start_time": "2024-03-08T12:00:27.698404Z"
    }
   },
   "id": "5f45f53e03d47bbc",
   "execution_count": 77
  },
  {
   "cell_type": "code",
   "outputs": [],
   "source": [
    "# product_cat"
   ],
   "metadata": {
    "collapsed": false,
    "ExecuteTime": {
     "end_time": "2024-03-08T12:13:13.566166Z",
     "start_time": "2024-03-08T12:13:13.563666Z"
    }
   },
   "id": "107a91bf66e5614",
   "execution_count": 79
  },
  {
   "cell_type": "markdown",
   "source": [
    "## Define function to fetch website html data"
   ],
   "metadata": {
    "collapsed": false
   },
   "id": "8574b51e2782a8f0"
  },
  {
   "cell_type": "code",
   "outputs": [],
   "source": [
    "def fetch_html_data(web_address):\n",
    "    try:\n",
    "        # print(f\"\\nFetching data from {web_address}...\")\n",
    "        res = req.get(web_address)\n",
    "        return res\n",
    "    except req.exceptions.RequestException as e:\n",
    "        print('Stopped:', e)\n",
    "    except TypeError as e:\n",
    "        print('Stopped:', e)"
   ],
   "metadata": {
    "collapsed": false,
    "ExecuteTime": {
     "end_time": "2024-03-08T09:21:55.905699Z",
     "start_time": "2024-03-08T09:21:55.902530Z"
    }
   },
   "id": "9236e42f049c01e4",
   "execution_count": 4
  },
  {
   "cell_type": "markdown",
   "source": [
    "# Define function to convert html data to BeautifulSoup object "
   ],
   "metadata": {
    "collapsed": false
   },
   "id": "6d30a35557ea82c9"
  },
  {
   "cell_type": "code",
   "outputs": [],
   "source": [
    "def convert_web_data_to_beautiful_soup_obj(web_data):\n",
    "    try:\n",
    "        # print(\"Creating BeautifulSoup object...\")\n",
    "        soup_obj = BeautifulSoup(web_data.text, \"html.parser\")\n",
    "        # print(\"Success! Object created!\")\n",
    "        return soup_obj\n",
    "    except Exception as e:\n",
    "        print(\"Stopped:\", e)"
   ],
   "metadata": {
    "collapsed": false,
    "ExecuteTime": {
     "end_time": "2024-03-08T09:21:58.085542Z",
     "start_time": "2024-03-08T09:21:58.082639Z"
    }
   },
   "id": "5b8744ac0a8d1b34",
   "execution_count": 5
  },
  {
   "cell_type": "markdown",
   "source": [
    "### Create array of products on each page, add each to product dictionary & append to array iteratively"
   ],
   "metadata": {
    "collapsed": false
   },
   "id": "955d2f38bd1f9ba5"
  },
  {
   "cell_type": "code",
   "outputs": [],
   "source": [
    "all_products_list = []\n",
    "\n",
    "def append_one_product_details_dictionary_to_list(pg):\n",
    "    # print(f\"Appending page {pg} products' details to array\")\n",
    "    \n",
    "    page_products_details_soup = soup.find_all(\"article\", class_=\"prd _fb col c-prd\")\n",
    "    \n",
    "    for detail in page_products_details_soup:\n",
    "        details_dict = {\"name\": detail.find(\"h3\", class_=\"name\").text.strip(),\n",
    "                        \"new_price\": detail.find(\"div\", class_=\"prc\").text.strip(),\n",
    "                        \"old_price\": detail.find(\"div\", class_=\"old\").text.strip() if detail.find(\"div\", class_=\"old\") else None,\n",
    "                        \"discount\": detail.find(\"div\", class_=\"bdg _dsct _sm\").text.strip() if detail.find(\"div\", class_=\"bdg _dsct _sm\") else None,\n",
    "                        \"rating\": detail.find(\"div\", class_=\"stars _s\").text.strip() if detail.find(\"div\", class_=\"stars _s\") else None,\n",
    "                        \"votes\": detail.find(\"div\", class_=\"rev\").text.strip() if detail.find(\"div\", class_=\"rev\") else None}\n",
    "        all_products_list.append(details_dict)\n",
    "\n",
    "\n",
    "# len(product_details_clean)"
   ],
   "metadata": {
    "collapsed": false,
    "ExecuteTime": {
     "end_time": "2024-03-08T09:21:59.364696Z",
     "start_time": "2024-03-08T09:21:59.360210Z"
    }
   },
   "id": "fd4498e7166a1627",
   "execution_count": 6
  },
  {
   "cell_type": "markdown",
   "source": [
    "### Fetch webdata, convert to BeautifulSoup Object, add product details dictionary to list"
   ],
   "metadata": {
    "collapsed": false
   },
   "id": "63e09bb6ed3fba7d"
  },
  {
   "cell_type": "code",
   "outputs": [],
   "source": [
    "# Declare the products’ url & the total webpage count\n",
    "other_pages_url = \"https://www.jumia.co.ke/all-products/?page=\"\n",
    "webpage_num_total = 50\n",
    "\n",
    "# If scraped products csv doesn't exist, run the scraper function below & save products to csv ELSE continue & read csv\n",
    "if not os.path.exists('../data/raw/all_products_list_raw.csv'):\n",
    "    for page in range(1, webpage_num_total+1, 1):\n",
    "        other_pages_url = \"https://www.jumia.co.ke/all-products/?page=\"\n",
    "        page = str(page)\n",
    "        other_pages_url = other_pages_url + page\n",
    "        response = fetch_html_data(other_pages_url)\n",
    "        # time.sleep(2.5)\n",
    "        soup = convert_web_data_to_beautiful_soup_obj(response)\n",
    "        append_one_product_details_dictionary_to_list(page)\n",
    "    \n",
    "    # Convert scraped list to dataframe\n",
    "    df = pd.DataFrame(all_products_list)\n",
    "    # Save scraped dataframe to csv to prevent scraping each time I run the notebook\n",
    "    df.to_csv('../data/raw/all_products_list_raw.csv')"
   ],
   "metadata": {
    "collapsed": false,
    "ExecuteTime": {
     "end_time": "2024-03-08T09:22:05.716909Z",
     "start_time": "2024-03-08T09:22:05.713104Z"
    }
   },
   "id": "e0f2cd3991c5d999",
   "execution_count": 7
  },
  {
   "cell_type": "markdown",
   "source": [
    "### Check product count"
   ],
   "metadata": {
    "collapsed": false
   },
   "id": "eb6acd584fb57e86"
  },
  {
   "cell_type": "code",
   "outputs": [],
   "source": [
    "# Read csv and specify index column to prevent creation of another redundant index\n",
    "products_df = pd.read_csv('../data/raw/all_products_list_raw.csv', index_col=0)  # Read products list from csv"
   ],
   "metadata": {
    "collapsed": false,
    "ExecuteTime": {
     "end_time": "2024-03-08T09:22:12.712710Z",
     "start_time": "2024-03-08T09:22:12.510079Z"
    }
   },
   "id": "828e8f982bcae649",
   "execution_count": 8
  },
  {
   "cell_type": "markdown",
   "source": [
    "### Inspect products list dataframe"
   ],
   "metadata": {
    "collapsed": false
   },
   "id": "ab74acb2c9f1127a"
  },
  {
   "cell_type": "code",
   "outputs": [
    {
     "data": {
      "text/plain": "                                                name   new_price   old_price  \\\n0  NIVEA Radiant & Beauty Advanced Care Lotion Fo...     KSh 854   KSh 1,460   \n1  Vitron HTC4388FS - 43\" Smart  Android Frameles...  KSh 21,506  KSh 28,599   \n2  NIVEA Perfect & Radiant Even Tone Day And Nigh...     KSh 899   KSh 1,560   \n3  AILYONS FK-0301 Stainless Steel 1.8L Electric ...     KSh 693   KSh 1,399   \n4  Nunix R5 Hot & Normal Free Standing Water Disp...   KSh 4,180         NaN   \n\n  discount        rating               votes  \n0      42%  4.7 out of 5   4.7 out of 5(636)  \n1      25%  4.2 out of 5   4.2 out of 5(335)  \n2      42%  4.5 out of 5  4.5 out of 5(2238)  \n3      50%  4.1 out of 5  4.1 out of 5(1661)  \n4      NaN  4.1 out of 5    4.1 out of 5(84)  ",
      "text/html": "<div>\n<style scoped>\n    .dataframe tbody tr th:only-of-type {\n        vertical-align: middle;\n    }\n\n    .dataframe tbody tr th {\n        vertical-align: top;\n    }\n\n    .dataframe thead th {\n        text-align: right;\n    }\n</style>\n<table border=\"1\" class=\"dataframe\">\n  <thead>\n    <tr style=\"text-align: right;\">\n      <th></th>\n      <th>name</th>\n      <th>new_price</th>\n      <th>old_price</th>\n      <th>discount</th>\n      <th>rating</th>\n      <th>votes</th>\n    </tr>\n  </thead>\n  <tbody>\n    <tr>\n      <th>0</th>\n      <td>NIVEA Radiant &amp; Beauty Advanced Care Lotion Fo...</td>\n      <td>KSh 854</td>\n      <td>KSh 1,460</td>\n      <td>42%</td>\n      <td>4.7 out of 5</td>\n      <td>4.7 out of 5(636)</td>\n    </tr>\n    <tr>\n      <th>1</th>\n      <td>Vitron HTC4388FS - 43\" Smart  Android Frameles...</td>\n      <td>KSh 21,506</td>\n      <td>KSh 28,599</td>\n      <td>25%</td>\n      <td>4.2 out of 5</td>\n      <td>4.2 out of 5(335)</td>\n    </tr>\n    <tr>\n      <th>2</th>\n      <td>NIVEA Perfect &amp; Radiant Even Tone Day And Nigh...</td>\n      <td>KSh 899</td>\n      <td>KSh 1,560</td>\n      <td>42%</td>\n      <td>4.5 out of 5</td>\n      <td>4.5 out of 5(2238)</td>\n    </tr>\n    <tr>\n      <th>3</th>\n      <td>AILYONS FK-0301 Stainless Steel 1.8L Electric ...</td>\n      <td>KSh 693</td>\n      <td>KSh 1,399</td>\n      <td>50%</td>\n      <td>4.1 out of 5</td>\n      <td>4.1 out of 5(1661)</td>\n    </tr>\n    <tr>\n      <th>4</th>\n      <td>Nunix R5 Hot &amp; Normal Free Standing Water Disp...</td>\n      <td>KSh 4,180</td>\n      <td>NaN</td>\n      <td>NaN</td>\n      <td>4.1 out of 5</td>\n      <td>4.1 out of 5(84)</td>\n    </tr>\n  </tbody>\n</table>\n</div>"
     },
     "execution_count": 9,
     "metadata": {},
     "output_type": "execute_result"
    }
   ],
   "source": [
    "products_df.head()"
   ],
   "metadata": {
    "collapsed": false,
    "ExecuteTime": {
     "end_time": "2024-03-08T09:22:15.468658Z",
     "start_time": "2024-03-08T09:22:15.457236Z"
    }
   },
   "id": "9bc1541c84ba9cf4",
   "execution_count": 9
  },
  {
   "cell_type": "code",
   "outputs": [
    {
     "name": "stdout",
     "output_type": "stream",
     "text": [
      "<class 'pandas.core.frame.DataFrame'>\n",
      "Index: 2000 entries, 0 to 1999\n",
      "Data columns (total 6 columns):\n",
      " #   Column     Non-Null Count  Dtype \n",
      "---  ------     --------------  ----- \n",
      " 0   name       2000 non-null   object\n",
      " 1   new_price  2000 non-null   object\n",
      " 2   old_price  1907 non-null   object\n",
      " 3   discount   1907 non-null   object\n",
      " 4   rating     109 non-null    object\n",
      " 5   votes      109 non-null    object\n",
      "dtypes: object(6)\n",
      "memory usage: 109.4+ KB\n"
     ]
    }
   ],
   "source": [
    "products_df.info()"
   ],
   "metadata": {
    "collapsed": false,
    "ExecuteTime": {
     "end_time": "2024-03-08T09:22:17.675759Z",
     "start_time": "2024-03-08T09:22:17.654128Z"
    }
   },
   "id": "976ec4e23bad702d",
   "execution_count": 10
  },
  {
   "cell_type": "code",
   "outputs": [
    {
     "data": {
      "text/plain": "(2000, 6)"
     },
     "execution_count": 11,
     "metadata": {},
     "output_type": "execute_result"
    }
   ],
   "source": [
    "products_df.shape"
   ],
   "metadata": {
    "collapsed": false,
    "ExecuteTime": {
     "end_time": "2024-03-08T09:22:18.821372Z",
     "start_time": "2024-03-08T09:22:18.817856Z"
    }
   },
   "id": "3933ee31fae6c09",
   "execution_count": 11
  },
  {
   "cell_type": "markdown",
   "source": [
    "# Data Cleaning Section"
   ],
   "metadata": {
    "collapsed": false
   },
   "id": "b652b6b589590347"
  },
  {
   "cell_type": "markdown",
   "source": [
    "### Clean new_price column"
   ],
   "metadata": {
    "collapsed": false
   },
   "id": "61e39b08c31c7a9a"
  },
  {
   "cell_type": "code",
   "outputs": [
    {
     "data": {
      "text/plain": "'KSh 21,506'"
     },
     "execution_count": 12,
     "metadata": {},
     "output_type": "execute_result"
    }
   ],
   "source": [
    "products_df['new_price'][1]"
   ],
   "metadata": {
    "collapsed": false,
    "ExecuteTime": {
     "end_time": "2024-03-08T09:22:30.350446Z",
     "start_time": "2024-03-08T09:22:30.346357Z"
    }
   },
   "id": "60cb73b6d6ff6d66",
   "execution_count": 12
  },
  {
   "cell_type": "code",
   "outputs": [],
   "source": [
    "# Remove currency name 'Ksh' \n",
    "products_df['new_price'] = products_df['new_price'].apply(lambda x: x.split(' ')[1] if x is not None and isinstance(x,str) else x) "
   ],
   "metadata": {
    "collapsed": false,
    "ExecuteTime": {
     "end_time": "2024-03-08T09:22:31.138961Z",
     "start_time": "2024-03-08T09:22:31.135087Z"
    }
   },
   "id": "43feba7ebc504822",
   "execution_count": 13
  },
  {
   "cell_type": "code",
   "outputs": [
    {
     "name": "stdout",
     "output_type": "stream",
     "text": [
      "<class 'str'>\n",
      "0       854\n",
      "1    21,506\n",
      "2       899\n",
      "3       693\n",
      "4     4,180\n",
      "Name: new_price, dtype: object\n"
     ]
    }
   ],
   "source": [
    "print(type(products_df['new_price'][1]))\n",
    "print(products_df['new_price'].head())"
   ],
   "metadata": {
    "collapsed": false,
    "ExecuteTime": {
     "end_time": "2024-03-08T09:22:32.846489Z",
     "start_time": "2024-03-08T09:22:32.843111Z"
    }
   },
   "id": "3dc1f9774481f6d5",
   "execution_count": 14
  },
  {
   "cell_type": "code",
   "outputs": [
    {
     "data": {
      "text/plain": "0      854\n1    21506\n2      899\n3      693\n4     4180\nName: new_price, dtype: object"
     },
     "execution_count": 15,
     "metadata": {},
     "output_type": "execute_result"
    }
   ],
   "source": [
    "# Remove comma from thousands price values\n",
    "products_df['new_price'] = products_df['new_price'].apply(lambda x: x.replace(',','') if ',' in x and isinstance(x,str) else x)\n",
    "products_df['new_price'].head()"
   ],
   "metadata": {
    "collapsed": false,
    "ExecuteTime": {
     "end_time": "2024-03-08T09:22:34.100412Z",
     "start_time": "2024-03-08T09:22:34.094185Z"
    }
   },
   "id": "207f62ef8b56ec5",
   "execution_count": 15
  },
  {
   "cell_type": "code",
   "outputs": [
    {
     "name": "stdout",
     "output_type": "stream",
     "text": [
      "<class 'str'>\n"
     ]
    }
   ],
   "source": [
    "print(type(products_df['new_price'][1]))"
   ],
   "metadata": {
    "collapsed": false,
    "ExecuteTime": {
     "end_time": "2024-03-08T09:22:36.281181Z",
     "start_time": "2024-03-08T09:22:36.277953Z"
    }
   },
   "id": "f52e790439b1338e",
   "execution_count": 16
  },
  {
   "cell_type": "code",
   "outputs": [],
   "source": [
    "# Convert new_price column to float\n",
    "products_df['new_price'] = products_df['new_price'].apply(lambda x: float(x) if x is not None else x)"
   ],
   "metadata": {
    "collapsed": false,
    "ExecuteTime": {
     "end_time": "2024-03-08T09:22:37.425323Z",
     "start_time": "2024-03-08T09:22:37.421678Z"
    }
   },
   "id": "d3db69ac88e2d60e",
   "execution_count": 17
  },
  {
   "cell_type": "code",
   "outputs": [
    {
     "name": "stdout",
     "output_type": "stream",
     "text": [
      "<class 'numpy.float64'>\n",
      "float64\n"
     ]
    }
   ],
   "source": [
    "print(type(products_df['new_price'][1]))\n",
    "print(products_df['new_price'].dtype)"
   ],
   "metadata": {
    "collapsed": false,
    "ExecuteTime": {
     "end_time": "2024-03-08T09:22:38.409722Z",
     "start_time": "2024-03-08T09:22:38.406145Z"
    }
   },
   "id": "ed24a3912631e4aa",
   "execution_count": 18
  },
  {
   "cell_type": "code",
   "outputs": [
    {
     "data": {
      "text/plain": "                                                name  new_price   old_price  \\\n0  NIVEA Radiant & Beauty Advanced Care Lotion Fo...      854.0   KSh 1,460   \n1  Vitron HTC4388FS - 43\" Smart  Android Frameles...    21506.0  KSh 28,599   \n2  NIVEA Perfect & Radiant Even Tone Day And Nigh...      899.0   KSh 1,560   \n3  AILYONS FK-0301 Stainless Steel 1.8L Electric ...      693.0   KSh 1,399   \n4  Nunix R5 Hot & Normal Free Standing Water Disp...     4180.0         NaN   \n\n  discount        rating               votes  \n0      42%  4.7 out of 5   4.7 out of 5(636)  \n1      25%  4.2 out of 5   4.2 out of 5(335)  \n2      42%  4.5 out of 5  4.5 out of 5(2238)  \n3      50%  4.1 out of 5  4.1 out of 5(1661)  \n4      NaN  4.1 out of 5    4.1 out of 5(84)  ",
      "text/html": "<div>\n<style scoped>\n    .dataframe tbody tr th:only-of-type {\n        vertical-align: middle;\n    }\n\n    .dataframe tbody tr th {\n        vertical-align: top;\n    }\n\n    .dataframe thead th {\n        text-align: right;\n    }\n</style>\n<table border=\"1\" class=\"dataframe\">\n  <thead>\n    <tr style=\"text-align: right;\">\n      <th></th>\n      <th>name</th>\n      <th>new_price</th>\n      <th>old_price</th>\n      <th>discount</th>\n      <th>rating</th>\n      <th>votes</th>\n    </tr>\n  </thead>\n  <tbody>\n    <tr>\n      <th>0</th>\n      <td>NIVEA Radiant &amp; Beauty Advanced Care Lotion Fo...</td>\n      <td>854.0</td>\n      <td>KSh 1,460</td>\n      <td>42%</td>\n      <td>4.7 out of 5</td>\n      <td>4.7 out of 5(636)</td>\n    </tr>\n    <tr>\n      <th>1</th>\n      <td>Vitron HTC4388FS - 43\" Smart  Android Frameles...</td>\n      <td>21506.0</td>\n      <td>KSh 28,599</td>\n      <td>25%</td>\n      <td>4.2 out of 5</td>\n      <td>4.2 out of 5(335)</td>\n    </tr>\n    <tr>\n      <th>2</th>\n      <td>NIVEA Perfect &amp; Radiant Even Tone Day And Nigh...</td>\n      <td>899.0</td>\n      <td>KSh 1,560</td>\n      <td>42%</td>\n      <td>4.5 out of 5</td>\n      <td>4.5 out of 5(2238)</td>\n    </tr>\n    <tr>\n      <th>3</th>\n      <td>AILYONS FK-0301 Stainless Steel 1.8L Electric ...</td>\n      <td>693.0</td>\n      <td>KSh 1,399</td>\n      <td>50%</td>\n      <td>4.1 out of 5</td>\n      <td>4.1 out of 5(1661)</td>\n    </tr>\n    <tr>\n      <th>4</th>\n      <td>Nunix R5 Hot &amp; Normal Free Standing Water Disp...</td>\n      <td>4180.0</td>\n      <td>NaN</td>\n      <td>NaN</td>\n      <td>4.1 out of 5</td>\n      <td>4.1 out of 5(84)</td>\n    </tr>\n  </tbody>\n</table>\n</div>"
     },
     "execution_count": 19,
     "metadata": {},
     "output_type": "execute_result"
    }
   ],
   "source": [
    "products_df.head()"
   ],
   "metadata": {
    "collapsed": false,
    "ExecuteTime": {
     "end_time": "2024-03-08T09:22:39.507041Z",
     "start_time": "2024-03-08T09:22:39.498717Z"
    }
   },
   "id": "2267be4bad50e9ad",
   "execution_count": 19
  },
  {
   "cell_type": "code",
   "outputs": [],
   "source": [
    "# Saving stage one (new_price) data cleaning file to csv\n",
    "products_df.to_csv(\"../data/processed/1_all_products_new_price_cleaned.csv\")"
   ],
   "metadata": {
    "collapsed": false,
    "ExecuteTime": {
     "end_time": "2024-03-08T09:22:40.594501Z",
     "start_time": "2024-03-08T09:22:40.578065Z"
    }
   },
   "id": "57e983c5bd96c79",
   "execution_count": 20
  },
  {
   "cell_type": "markdown",
   "source": [
    "### Clean old_price column"
   ],
   "metadata": {
    "collapsed": false
   },
   "id": "ba17d9026f584101"
  },
  {
   "cell_type": "code",
   "outputs": [
    {
     "data": {
      "text/plain": "array(['KSh 1,460', 'KSh 28,599', 'KSh 1,560', 'KSh 1,399', nan,\n       'KSh 1,750', 'KSh 24,999', 'KSh 4,099', 'KSh 19,999', 'KSh 1,299'],\n      dtype=object)"
     },
     "execution_count": 21,
     "metadata": {},
     "output_type": "execute_result"
    }
   ],
   "source": [
    "# Read csv file cleaned in the previous stage (new_price column) & convert to dataframe\n",
    "products_df = pd.read_csv(\"../data/processed/1_all_products_new_price_cleaned.csv\", index_col=0)\n",
    "\n",
    "# Use [:10] notation to print the first 10 values\n",
    "products_df['old_price'].unique()[:10]"
   ],
   "metadata": {
    "collapsed": false,
    "ExecuteTime": {
     "end_time": "2024-03-08T09:22:44.036014Z",
     "start_time": "2024-03-08T09:22:44.026279Z"
    }
   },
   "id": "a53355520c2f30ae",
   "execution_count": 21
  },
  {
   "cell_type": "code",
   "outputs": [
    {
     "data": {
      "text/plain": "0     1,460\n1    28,599\n2     1,560\n3     1,399\n4       NaN\nName: old_price, dtype: object"
     },
     "execution_count": 22,
     "metadata": {},
     "output_type": "execute_result"
    }
   ],
   "source": [
    "# Remove currency name 'Ksh'\n",
    "# type(products_df['old_price'][1])\n",
    "products_df['old_price'] = products_df['old_price'].apply(lambda x: x.split(' ')[1] if x is not None and isinstance(x,str) else x)\n",
    "products_df['old_price'].head()"
   ],
   "metadata": {
    "collapsed": false,
    "ExecuteTime": {
     "end_time": "2024-03-08T09:22:44.599Z",
     "start_time": "2024-03-08T09:22:44.591331Z"
    }
   },
   "id": "5a0109a5d43e344e",
   "execution_count": 22
  },
  {
   "cell_type": "code",
   "outputs": [
    {
     "data": {
      "text/plain": "0     1460\n1    28599\n2     1560\n3     1399\n4      NaN\n5     1750\n6    24999\n7      NaN\n8     4099\n9    19999\nName: old_price, dtype: object"
     },
     "execution_count": 23,
     "metadata": {},
     "output_type": "execute_result"
    }
   ],
   "source": [
    "# Remove commas from values\n",
    "products_df['old_price'] = products_df['old_price'].apply(lambda x: x.replace(',','') if x is not None and isinstance(x,str) else x)\n",
    "products_df['old_price'].head(10)"
   ],
   "metadata": {
    "collapsed": false,
    "ExecuteTime": {
     "end_time": "2024-03-08T09:22:45.184445Z",
     "start_time": "2024-03-08T09:22:45.178732Z"
    }
   },
   "id": "1ff042daaa234273",
   "execution_count": 23
  },
  {
   "cell_type": "code",
   "outputs": [
    {
     "data": {
      "text/plain": "0     1460.0\n1    28599.0\n2     1560.0\n3     1399.0\n4        NaN\n5     1750.0\n6    24999.0\n7        NaN\n8     4099.0\n9    19999.0\nName: old_price, dtype: float64"
     },
     "execution_count": 24,
     "metadata": {},
     "output_type": "execute_result"
    }
   ],
   "source": [
    "# Convert the string values into floats\n",
    "products_df['old_price'] = products_df['old_price'].apply(lambda x: float(x) if x is not None else x)\n",
    "products_df['old_price'].head(10)"
   ],
   "metadata": {
    "collapsed": false,
    "ExecuteTime": {
     "end_time": "2024-03-08T09:22:45.735684Z",
     "start_time": "2024-03-08T09:22:45.729829Z"
    }
   },
   "id": "c8d06329519bd37",
   "execution_count": 24
  },
  {
   "cell_type": "code",
   "outputs": [
    {
     "data": {
      "text/plain": "0        1460.0\n1       28599.0\n2        1560.0\n3        1399.0\n4           NaN\n         ...   \n1995     6638.0\n1996     1284.0\n1997     5602.0\n1998     1427.0\n1999     2867.0\nName: old_price, Length: 2000, dtype: float64"
     },
     "execution_count": 25,
     "metadata": {},
     "output_type": "execute_result"
    }
   ],
   "source": [
    "products_df['old_price']"
   ],
   "metadata": {
    "collapsed": false,
    "ExecuteTime": {
     "end_time": "2024-03-08T09:22:46.305434Z",
     "start_time": "2024-03-08T09:22:46.299594Z"
    }
   },
   "id": "5a42602924adc716",
   "execution_count": 25
  },
  {
   "cell_type": "code",
   "outputs": [
    {
     "name": "stdout",
     "output_type": "stream",
     "text": [
      "<class 'numpy.float64'>\n",
      "float64\n"
     ]
    }
   ],
   "source": [
    "# Index 18 from above was null. So checking its type: \n",
    "print(type(products_df['old_price'][18]))\n",
    "print(products_df['old_price'].dtype)"
   ],
   "metadata": {
    "collapsed": false,
    "ExecuteTime": {
     "end_time": "2024-03-08T09:22:46.876864Z",
     "start_time": "2024-03-08T09:22:46.872723Z"
    }
   },
   "id": "c087a27309772dfc",
   "execution_count": 26
  },
  {
   "cell_type": "code",
   "outputs": [
    {
     "data": {
      "text/plain": "                                                name  new_price  old_price  \\\n0  NIVEA Radiant & Beauty Advanced Care Lotion Fo...      854.0     1460.0   \n1  Vitron HTC4388FS - 43\" Smart  Android Frameles...    21506.0    28599.0   \n2  NIVEA Perfect & Radiant Even Tone Day And Nigh...      899.0     1560.0   \n3  AILYONS FK-0301 Stainless Steel 1.8L Electric ...      693.0     1399.0   \n4  Nunix R5 Hot & Normal Free Standing Water Disp...     4180.0        NaN   \n\n  discount        rating               votes  \n0      42%  4.7 out of 5   4.7 out of 5(636)  \n1      25%  4.2 out of 5   4.2 out of 5(335)  \n2      42%  4.5 out of 5  4.5 out of 5(2238)  \n3      50%  4.1 out of 5  4.1 out of 5(1661)  \n4      NaN  4.1 out of 5    4.1 out of 5(84)  ",
      "text/html": "<div>\n<style scoped>\n    .dataframe tbody tr th:only-of-type {\n        vertical-align: middle;\n    }\n\n    .dataframe tbody tr th {\n        vertical-align: top;\n    }\n\n    .dataframe thead th {\n        text-align: right;\n    }\n</style>\n<table border=\"1\" class=\"dataframe\">\n  <thead>\n    <tr style=\"text-align: right;\">\n      <th></th>\n      <th>name</th>\n      <th>new_price</th>\n      <th>old_price</th>\n      <th>discount</th>\n      <th>rating</th>\n      <th>votes</th>\n    </tr>\n  </thead>\n  <tbody>\n    <tr>\n      <th>0</th>\n      <td>NIVEA Radiant &amp; Beauty Advanced Care Lotion Fo...</td>\n      <td>854.0</td>\n      <td>1460.0</td>\n      <td>42%</td>\n      <td>4.7 out of 5</td>\n      <td>4.7 out of 5(636)</td>\n    </tr>\n    <tr>\n      <th>1</th>\n      <td>Vitron HTC4388FS - 43\" Smart  Android Frameles...</td>\n      <td>21506.0</td>\n      <td>28599.0</td>\n      <td>25%</td>\n      <td>4.2 out of 5</td>\n      <td>4.2 out of 5(335)</td>\n    </tr>\n    <tr>\n      <th>2</th>\n      <td>NIVEA Perfect &amp; Radiant Even Tone Day And Nigh...</td>\n      <td>899.0</td>\n      <td>1560.0</td>\n      <td>42%</td>\n      <td>4.5 out of 5</td>\n      <td>4.5 out of 5(2238)</td>\n    </tr>\n    <tr>\n      <th>3</th>\n      <td>AILYONS FK-0301 Stainless Steel 1.8L Electric ...</td>\n      <td>693.0</td>\n      <td>1399.0</td>\n      <td>50%</td>\n      <td>4.1 out of 5</td>\n      <td>4.1 out of 5(1661)</td>\n    </tr>\n    <tr>\n      <th>4</th>\n      <td>Nunix R5 Hot &amp; Normal Free Standing Water Disp...</td>\n      <td>4180.0</td>\n      <td>NaN</td>\n      <td>NaN</td>\n      <td>4.1 out of 5</td>\n      <td>4.1 out of 5(84)</td>\n    </tr>\n  </tbody>\n</table>\n</div>"
     },
     "execution_count": 27,
     "metadata": {},
     "output_type": "execute_result"
    }
   ],
   "source": [
    "products_df.head()"
   ],
   "metadata": {
    "collapsed": false,
    "ExecuteTime": {
     "end_time": "2024-03-08T09:22:47.421693Z",
     "start_time": "2024-03-08T09:22:47.414006Z"
    }
   },
   "id": "716461a82bff9ecc",
   "execution_count": 27
  },
  {
   "cell_type": "code",
   "outputs": [],
   "source": [
    "# Saving stage two data (old_price column) cleaning dataframe to csv\n",
    "products_df.to_csv(\"../data/processed/2_all_products_old_price_cleaned.csv\")"
   ],
   "metadata": {
    "collapsed": false,
    "ExecuteTime": {
     "end_time": "2024-03-08T09:22:47.939593Z",
     "start_time": "2024-03-08T09:22:47.929723Z"
    }
   },
   "id": "a3db5d486f4261e0",
   "execution_count": 28
  },
  {
   "cell_type": "markdown",
   "source": [
    "### Cleaning 'discount' column"
   ],
   "metadata": {
    "collapsed": false
   },
   "id": "c63cd53e0523a410"
  },
  {
   "cell_type": "code",
   "outputs": [
    {
     "data": {
      "text/plain": "array(['42%', '25%', '50%', nan, '20%', '24%', '29%', '12%', '35%', '33%'],\n      dtype=object)"
     },
     "execution_count": 29,
     "metadata": {},
     "output_type": "execute_result"
    }
   ],
   "source": [
    "# Read csv file from stage 2 (old_price column cleanup) to get dataframe\n",
    "products_df = pd.read_csv(\"../data/processed/2_all_products_old_price_cleaned.csv\", index_col=0)\n",
    "\n",
    "# Use [:10] notation to print the first 10 values\n",
    "products_df['discount'].unique()[:10]"
   ],
   "metadata": {
    "collapsed": false,
    "ExecuteTime": {
     "end_time": "2024-03-08T09:22:50.930351Z",
     "start_time": "2024-03-08T09:22:50.917933Z"
    }
   },
   "id": "ec13b5b9215cdc2",
   "execution_count": 29
  },
  {
   "cell_type": "code",
   "outputs": [
    {
     "data": {
      "text/plain": "array(['42', '25', '50', nan, '20', '24', '29', '12', '35', '33', '28',\n       '40', '37', '27', '31', '47', '41', '44', '13', '30', '36', '8',\n       '43', '49', '21', '46', '18', '19', '26', '45', '32', '22', '4',\n       '48', '15', '38', '11', '34', '16', '23', '17', '1', '39', '5',\n       '14', '10', '2', '3'], dtype=object)"
     },
     "execution_count": 30,
     "metadata": {},
     "output_type": "execute_result"
    }
   ],
   "source": [
    "# Remove the percent sign\n",
    "products_df['discount'] = products_df['discount'].apply(lambda x: x.replace('%','') if x is not None and isinstance(x,str) else x)\n",
    "products_df['discount'].unique()"
   ],
   "metadata": {
    "collapsed": false,
    "ExecuteTime": {
     "end_time": "2024-03-08T09:22:51.439219Z",
     "start_time": "2024-03-08T09:22:51.433480Z"
    }
   },
   "id": "50d15c0d3acb2d34",
   "execution_count": 30
  },
  {
   "cell_type": "code",
   "outputs": [
    {
     "data": {
      "text/plain": "array([0.42, 0.25, 0.5 ,  nan, 0.2 , 0.24, 0.29, 0.12, 0.35, 0.33, 0.28,\n       0.4 , 0.37, 0.27, 0.31, 0.47, 0.41, 0.44, 0.13, 0.3 , 0.36, 0.08,\n       0.43, 0.49, 0.21, 0.46, 0.18, 0.19, 0.26, 0.45, 0.32, 0.22, 0.04,\n       0.48, 0.15, 0.38, 0.11, 0.34, 0.16, 0.23, 0.17, 0.01, 0.39, 0.05,\n       0.14, 0.1 , 0.02, 0.03])"
     },
     "execution_count": 31,
     "metadata": {},
     "output_type": "execute_result"
    }
   ],
   "source": [
    "# Convert values into float & divide by 100 to represent the percentages as decimal values\n",
    "products_df['discount'] = products_df['discount'].apply(lambda x: float(x)/100 if x is not None else x)\n",
    "products_df['discount'].unique()  # A numbers now floats and None replaced with NaN"
   ],
   "metadata": {
    "collapsed": false,
    "ExecuteTime": {
     "end_time": "2024-03-08T09:22:52.059922Z",
     "start_time": "2024-03-08T09:22:52.053009Z"
    }
   },
   "id": "2acf30f22baf5ded",
   "execution_count": 31
  },
  {
   "cell_type": "code",
   "outputs": [
    {
     "data": {
      "text/plain": "                                                name  new_price  old_price  \\\n0  NIVEA Radiant & Beauty Advanced Care Lotion Fo...      854.0     1460.0   \n1  Vitron HTC4388FS - 43\" Smart  Android Frameles...    21506.0    28599.0   \n2  NIVEA Perfect & Radiant Even Tone Day And Nigh...      899.0     1560.0   \n3  AILYONS FK-0301 Stainless Steel 1.8L Electric ...      693.0     1399.0   \n4  Nunix R5 Hot & Normal Free Standing Water Disp...     4180.0        NaN   \n\n   discount        rating               votes  \n0      0.42  4.7 out of 5   4.7 out of 5(636)  \n1      0.25  4.2 out of 5   4.2 out of 5(335)  \n2      0.42  4.5 out of 5  4.5 out of 5(2238)  \n3      0.50  4.1 out of 5  4.1 out of 5(1661)  \n4       NaN  4.1 out of 5    4.1 out of 5(84)  ",
      "text/html": "<div>\n<style scoped>\n    .dataframe tbody tr th:only-of-type {\n        vertical-align: middle;\n    }\n\n    .dataframe tbody tr th {\n        vertical-align: top;\n    }\n\n    .dataframe thead th {\n        text-align: right;\n    }\n</style>\n<table border=\"1\" class=\"dataframe\">\n  <thead>\n    <tr style=\"text-align: right;\">\n      <th></th>\n      <th>name</th>\n      <th>new_price</th>\n      <th>old_price</th>\n      <th>discount</th>\n      <th>rating</th>\n      <th>votes</th>\n    </tr>\n  </thead>\n  <tbody>\n    <tr>\n      <th>0</th>\n      <td>NIVEA Radiant &amp; Beauty Advanced Care Lotion Fo...</td>\n      <td>854.0</td>\n      <td>1460.0</td>\n      <td>0.42</td>\n      <td>4.7 out of 5</td>\n      <td>4.7 out of 5(636)</td>\n    </tr>\n    <tr>\n      <th>1</th>\n      <td>Vitron HTC4388FS - 43\" Smart  Android Frameles...</td>\n      <td>21506.0</td>\n      <td>28599.0</td>\n      <td>0.25</td>\n      <td>4.2 out of 5</td>\n      <td>4.2 out of 5(335)</td>\n    </tr>\n    <tr>\n      <th>2</th>\n      <td>NIVEA Perfect &amp; Radiant Even Tone Day And Nigh...</td>\n      <td>899.0</td>\n      <td>1560.0</td>\n      <td>0.42</td>\n      <td>4.5 out of 5</td>\n      <td>4.5 out of 5(2238)</td>\n    </tr>\n    <tr>\n      <th>3</th>\n      <td>AILYONS FK-0301 Stainless Steel 1.8L Electric ...</td>\n      <td>693.0</td>\n      <td>1399.0</td>\n      <td>0.50</td>\n      <td>4.1 out of 5</td>\n      <td>4.1 out of 5(1661)</td>\n    </tr>\n    <tr>\n      <th>4</th>\n      <td>Nunix R5 Hot &amp; Normal Free Standing Water Disp...</td>\n      <td>4180.0</td>\n      <td>NaN</td>\n      <td>NaN</td>\n      <td>4.1 out of 5</td>\n      <td>4.1 out of 5(84)</td>\n    </tr>\n  </tbody>\n</table>\n</div>"
     },
     "execution_count": 32,
     "metadata": {},
     "output_type": "execute_result"
    }
   ],
   "source": [
    "# Check head once more\n",
    "products_df.head()"
   ],
   "metadata": {
    "collapsed": false,
    "ExecuteTime": {
     "end_time": "2024-03-08T09:22:54.019045Z",
     "start_time": "2024-03-08T09:22:54.006065Z"
    }
   },
   "id": "4e83eb5e61f09d0d",
   "execution_count": 32
  },
  {
   "cell_type": "code",
   "outputs": [],
   "source": [
    "# Saving stage three data cleaning file to csv\n",
    "products_df.to_csv(\"../data/processed/3_all_products_discount_cleaned.csv\")"
   ],
   "metadata": {
    "collapsed": false,
    "ExecuteTime": {
     "end_time": "2024-03-08T09:22:54.630800Z",
     "start_time": "2024-03-08T09:22:54.621311Z"
    }
   },
   "id": "c40aa159ab2a96e2",
   "execution_count": 33
  },
  {
   "cell_type": "markdown",
   "source": [
    "### Cleaning the rating column"
   ],
   "metadata": {
    "collapsed": false
   },
   "id": "6535be48b259ac7f"
  },
  {
   "cell_type": "code",
   "outputs": [
    {
     "data": {
      "text/plain": "array(['4.7 out of 5', '4.2 out of 5', '4.5 out of 5', '4.1 out of 5',\n       '4.3 out of 5', '3.8 out of 5', '3.9 out of 5', '4 out of 5',\n       '4.4 out of 5', '4.6 out of 5'], dtype=object)"
     },
     "execution_count": 34,
     "metadata": {},
     "output_type": "execute_result"
    }
   ],
   "source": [
    "# Read file cleaned in prior stage (discount column) to get dataframe\n",
    "products_df = pd.read_csv(\"../data/processed/3_all_products_discount_cleaned.csv\", index_col=0)\n",
    "\n",
    "# Check for unique values first\n",
    "products_df['rating'].unique()[:10]"
   ],
   "metadata": {
    "collapsed": false,
    "ExecuteTime": {
     "end_time": "2024-03-08T09:22:58.605353Z",
     "start_time": "2024-03-08T09:22:58.596029Z"
    }
   },
   "id": "d64b3fc3696c1017",
   "execution_count": 34
  },
  {
   "cell_type": "code",
   "outputs": [
    {
     "data": {
      "text/plain": "array(['4.7', '4.2', '4.5', '4.1', '4.3', '3.8', '3.9', '4', '4.4', '4.6',\n       '3.6', '3.7', nan, '4.8', '3.4', '5', '1', '1.7', '2'],\n      dtype=object)"
     },
     "execution_count": 35,
     "metadata": {},
     "output_type": "execute_result"
    }
   ],
   "source": [
    "# Split rating string values into 4 elements and select the first element unless its None(left as is)\n",
    "products_df['rating'] = products_df['rating'].apply(lambda x: x.split(' ')[0] if x is not None and isinstance(x,str) else x)\n",
    "products_df['rating'].unique()"
   ],
   "metadata": {
    "collapsed": false,
    "ExecuteTime": {
     "end_time": "2024-03-08T09:22:59.942679Z",
     "start_time": "2024-03-08T09:22:59.937834Z"
    }
   },
   "id": "eca5fc6ac9c05c5b",
   "execution_count": 35
  },
  {
   "cell_type": "code",
   "outputs": [
    {
     "name": "stdout",
     "output_type": "stream",
     "text": [
      "float64\n"
     ]
    }
   ],
   "source": [
    "# Convert the values into float\n",
    "products_df['rating'] = products_df['rating'].apply(lambda x: float(x) if x is not None else x)\n",
    "print(products_df['rating'].dtype)"
   ],
   "metadata": {
    "collapsed": false,
    "ExecuteTime": {
     "end_time": "2024-03-08T09:23:02.663497Z",
     "start_time": "2024-03-08T09:23:02.658719Z"
    }
   },
   "id": "d1f3fd6eefd62dcf",
   "execution_count": 36
  },
  {
   "cell_type": "code",
   "outputs": [
    {
     "data": {
      "text/plain": "                                                 name  new_price  old_price  \\\n0   NIVEA Radiant & Beauty Advanced Care Lotion Fo...      854.0     1460.0   \n1   Vitron HTC4388FS - 43\" Smart  Android Frameles...    21506.0    28599.0   \n2   NIVEA Perfect & Radiant Even Tone Day And Nigh...      899.0     1560.0   \n3   AILYONS FK-0301 Stainless Steel 1.8L Electric ...      693.0     1399.0   \n4   Nunix R5 Hot & Normal Free Standing Water Disp...     4180.0        NaN   \n5   Garnier Anti-Blemish Charcoal Serum With AHA +...     1400.0     1750.0   \n6   Tecno Spark 10 , 6.6\" FHD,128GB ROM+8GB RAM, 5...    18999.0    24999.0   \n7   AILYONS FK-0301 Stainless Steel 1.8L Electric ...      628.0        NaN   \n8   AILYONS ELP2404K 2.1CH SubWoofer Home Theatrer...     2906.0     4099.0   \n9   Nokia C32, 64GB + 4GB (Upto 7GB RAM) 5000MAh, ...    17599.0    19999.0   \n10  Garnier Even & Matte  Vitamin C Booster Serum ...      850.0        NaN   \n11  AILYONS HD-198A Electric Dry Iron Box White & ...      839.0     1299.0   \n12      Hikers 32'' Digital Frameless HD LED TV-Black    11590.0    17357.0   \n13  Rashnik RN-999 2 In 1 Blender & Grinder –1.5L ...     1624.0        NaN   \n14  Vision Plus VP8832DF 32\" HD Frameless Digital ...    11550.0    15995.0   \n15  Garnier Even & Matte Vitamin C Protection Crea...      960.0     1200.0   \n16        Stereo F9 Bluetooth Earphone  Power Headset      612.0     1014.0   \n17  NIVEA MEN Deep Antibacterial Anti-Perspirant R...      655.0     1040.0   \n18  AILYONS TYB-205 Blender 2In1 With GrinderMachi...     1899.0     2599.0   \n19  AILYONS HD-199A Electric Dry Iron Box Silver &...      969.0     1399.0   \n\n    discount  rating               votes  \n0       0.42     4.7   4.7 out of 5(636)  \n1       0.25     4.2   4.2 out of 5(335)  \n2       0.42     4.5  4.5 out of 5(2238)  \n3       0.50     4.1  4.1 out of 5(1661)  \n4        NaN     4.1    4.1 out of 5(84)  \n5       0.20     4.3  4.3 out of 5(1455)  \n6       0.24     3.8    3.8 out of 5(17)  \n7        NaN     4.7     4.7 out of 5(6)  \n8       0.29     3.9    3.9 out of 5(98)  \n9       0.12     4.3    4.3 out of 5(95)  \n10       NaN     4.2   4.2 out of 5(747)  \n11      0.35     4.0     4 out of 5(926)  \n12      0.33     4.2   4.2 out of 5(215)  \n13       NaN     4.3    4.3 out of 5(77)  \n14      0.28     4.0     4 out of 5(367)  \n15      0.20     4.4   4.4 out of 5(985)  \n16      0.40     3.9  3.9 out of 5(1113)  \n17      0.37     4.6   4.6 out of 5(631)  \n18      0.27     4.3   4.3 out of 5(239)  \n19      0.31     4.0     4 out of 5(622)  ",
      "text/html": "<div>\n<style scoped>\n    .dataframe tbody tr th:only-of-type {\n        vertical-align: middle;\n    }\n\n    .dataframe tbody tr th {\n        vertical-align: top;\n    }\n\n    .dataframe thead th {\n        text-align: right;\n    }\n</style>\n<table border=\"1\" class=\"dataframe\">\n  <thead>\n    <tr style=\"text-align: right;\">\n      <th></th>\n      <th>name</th>\n      <th>new_price</th>\n      <th>old_price</th>\n      <th>discount</th>\n      <th>rating</th>\n      <th>votes</th>\n    </tr>\n  </thead>\n  <tbody>\n    <tr>\n      <th>0</th>\n      <td>NIVEA Radiant &amp; Beauty Advanced Care Lotion Fo...</td>\n      <td>854.0</td>\n      <td>1460.0</td>\n      <td>0.42</td>\n      <td>4.7</td>\n      <td>4.7 out of 5(636)</td>\n    </tr>\n    <tr>\n      <th>1</th>\n      <td>Vitron HTC4388FS - 43\" Smart  Android Frameles...</td>\n      <td>21506.0</td>\n      <td>28599.0</td>\n      <td>0.25</td>\n      <td>4.2</td>\n      <td>4.2 out of 5(335)</td>\n    </tr>\n    <tr>\n      <th>2</th>\n      <td>NIVEA Perfect &amp; Radiant Even Tone Day And Nigh...</td>\n      <td>899.0</td>\n      <td>1560.0</td>\n      <td>0.42</td>\n      <td>4.5</td>\n      <td>4.5 out of 5(2238)</td>\n    </tr>\n    <tr>\n      <th>3</th>\n      <td>AILYONS FK-0301 Stainless Steel 1.8L Electric ...</td>\n      <td>693.0</td>\n      <td>1399.0</td>\n      <td>0.50</td>\n      <td>4.1</td>\n      <td>4.1 out of 5(1661)</td>\n    </tr>\n    <tr>\n      <th>4</th>\n      <td>Nunix R5 Hot &amp; Normal Free Standing Water Disp...</td>\n      <td>4180.0</td>\n      <td>NaN</td>\n      <td>NaN</td>\n      <td>4.1</td>\n      <td>4.1 out of 5(84)</td>\n    </tr>\n    <tr>\n      <th>5</th>\n      <td>Garnier Anti-Blemish Charcoal Serum With AHA +...</td>\n      <td>1400.0</td>\n      <td>1750.0</td>\n      <td>0.20</td>\n      <td>4.3</td>\n      <td>4.3 out of 5(1455)</td>\n    </tr>\n    <tr>\n      <th>6</th>\n      <td>Tecno Spark 10 , 6.6\" FHD,128GB ROM+8GB RAM, 5...</td>\n      <td>18999.0</td>\n      <td>24999.0</td>\n      <td>0.24</td>\n      <td>3.8</td>\n      <td>3.8 out of 5(17)</td>\n    </tr>\n    <tr>\n      <th>7</th>\n      <td>AILYONS FK-0301 Stainless Steel 1.8L Electric ...</td>\n      <td>628.0</td>\n      <td>NaN</td>\n      <td>NaN</td>\n      <td>4.7</td>\n      <td>4.7 out of 5(6)</td>\n    </tr>\n    <tr>\n      <th>8</th>\n      <td>AILYONS ELP2404K 2.1CH SubWoofer Home Theatrer...</td>\n      <td>2906.0</td>\n      <td>4099.0</td>\n      <td>0.29</td>\n      <td>3.9</td>\n      <td>3.9 out of 5(98)</td>\n    </tr>\n    <tr>\n      <th>9</th>\n      <td>Nokia C32, 64GB + 4GB (Upto 7GB RAM) 5000MAh, ...</td>\n      <td>17599.0</td>\n      <td>19999.0</td>\n      <td>0.12</td>\n      <td>4.3</td>\n      <td>4.3 out of 5(95)</td>\n    </tr>\n    <tr>\n      <th>10</th>\n      <td>Garnier Even &amp; Matte  Vitamin C Booster Serum ...</td>\n      <td>850.0</td>\n      <td>NaN</td>\n      <td>NaN</td>\n      <td>4.2</td>\n      <td>4.2 out of 5(747)</td>\n    </tr>\n    <tr>\n      <th>11</th>\n      <td>AILYONS HD-198A Electric Dry Iron Box White &amp; ...</td>\n      <td>839.0</td>\n      <td>1299.0</td>\n      <td>0.35</td>\n      <td>4.0</td>\n      <td>4 out of 5(926)</td>\n    </tr>\n    <tr>\n      <th>12</th>\n      <td>Hikers 32'' Digital Frameless HD LED TV-Black</td>\n      <td>11590.0</td>\n      <td>17357.0</td>\n      <td>0.33</td>\n      <td>4.2</td>\n      <td>4.2 out of 5(215)</td>\n    </tr>\n    <tr>\n      <th>13</th>\n      <td>Rashnik RN-999 2 In 1 Blender &amp; Grinder –1.5L ...</td>\n      <td>1624.0</td>\n      <td>NaN</td>\n      <td>NaN</td>\n      <td>4.3</td>\n      <td>4.3 out of 5(77)</td>\n    </tr>\n    <tr>\n      <th>14</th>\n      <td>Vision Plus VP8832DF 32\" HD Frameless Digital ...</td>\n      <td>11550.0</td>\n      <td>15995.0</td>\n      <td>0.28</td>\n      <td>4.0</td>\n      <td>4 out of 5(367)</td>\n    </tr>\n    <tr>\n      <th>15</th>\n      <td>Garnier Even &amp; Matte Vitamin C Protection Crea...</td>\n      <td>960.0</td>\n      <td>1200.0</td>\n      <td>0.20</td>\n      <td>4.4</td>\n      <td>4.4 out of 5(985)</td>\n    </tr>\n    <tr>\n      <th>16</th>\n      <td>Stereo F9 Bluetooth Earphone  Power Headset</td>\n      <td>612.0</td>\n      <td>1014.0</td>\n      <td>0.40</td>\n      <td>3.9</td>\n      <td>3.9 out of 5(1113)</td>\n    </tr>\n    <tr>\n      <th>17</th>\n      <td>NIVEA MEN Deep Antibacterial Anti-Perspirant R...</td>\n      <td>655.0</td>\n      <td>1040.0</td>\n      <td>0.37</td>\n      <td>4.6</td>\n      <td>4.6 out of 5(631)</td>\n    </tr>\n    <tr>\n      <th>18</th>\n      <td>AILYONS TYB-205 Blender 2In1 With GrinderMachi...</td>\n      <td>1899.0</td>\n      <td>2599.0</td>\n      <td>0.27</td>\n      <td>4.3</td>\n      <td>4.3 out of 5(239)</td>\n    </tr>\n    <tr>\n      <th>19</th>\n      <td>AILYONS HD-199A Electric Dry Iron Box Silver &amp;...</td>\n      <td>969.0</td>\n      <td>1399.0</td>\n      <td>0.31</td>\n      <td>4.0</td>\n      <td>4 out of 5(622)</td>\n    </tr>\n  </tbody>\n</table>\n</div>"
     },
     "execution_count": 37,
     "metadata": {},
     "output_type": "execute_result"
    }
   ],
   "source": [
    "products_df.head(20)"
   ],
   "metadata": {
    "collapsed": false,
    "ExecuteTime": {
     "end_time": "2024-03-08T09:23:03.403726Z",
     "start_time": "2024-03-08T09:23:03.391150Z"
    }
   },
   "id": "6f35b7c6bec53f92",
   "execution_count": 37
  },
  {
   "cell_type": "code",
   "outputs": [],
   "source": [
    "# Saving stage four data cleaning file to csv\n",
    "products_df.to_csv(\"../data/processed/4_all_products_rating_cleaned.csv\")"
   ],
   "metadata": {
    "collapsed": false,
    "ExecuteTime": {
     "end_time": "2024-03-08T09:23:04.213608Z",
     "start_time": "2024-03-08T09:23:04.203808Z"
    }
   },
   "id": "277a8145e3ba6fba",
   "execution_count": 38
  },
  {
   "cell_type": "markdown",
   "source": [
    "### Cleaning the 'votes' column"
   ],
   "metadata": {
    "collapsed": false
   },
   "id": "a4d6415ea873b0d1"
  },
  {
   "cell_type": "code",
   "outputs": [
    {
     "data": {
      "text/plain": "array(['4.7 out of 5(636)', '4.2 out of 5(335)', '4.5 out of 5(2238)',\n       '4.1 out of 5(1661)', '4.1 out of 5(84)', '4.3 out of 5(1455)',\n       '3.8 out of 5(17)', '4.7 out of 5(6)', '3.9 out of 5(98)',\n       '4.3 out of 5(95)'], dtype=object)"
     },
     "execution_count": 39,
     "metadata": {},
     "output_type": "execute_result"
    }
   ],
   "source": [
    "# Read csv file saved in prior cleaning stage (rating column) to obtain dataframe\n",
    "products_df = pd.read_csv(\"../data/processed/4_all_products_rating_cleaned.csv\", index_col=0)\n",
    "\n",
    "# Explore unique values\n",
    "products_df['votes'].unique()[:10]"
   ],
   "metadata": {
    "collapsed": false,
    "ExecuteTime": {
     "end_time": "2024-03-08T09:24:31.373550Z",
     "start_time": "2024-03-08T09:24:31.364071Z"
    }
   },
   "id": "a961defaeec97dd7",
   "execution_count": 39
  },
  {
   "cell_type": "code",
   "outputs": [
    {
     "data": {
      "text/plain": "array([ 636.,  335., 2238., 1661.,   84., 1455.,   17.,    6.,   98.,\n         95.,  747.,  926.,  215.,   77.,  367.])"
     },
     "execution_count": 40,
     "metadata": {},
     "output_type": "execute_result"
    }
   ],
   "source": [
    "# Extract the votes count with string manipulation methods & convert values to floats\n",
    "products_df['votes'] = products_df['votes'].apply(lambda x: float(x.split('(')[1].split(')')[0]) if x is not None and isinstance(x,str) else x)\n",
    "products_df['votes'].unique()[:15]"
   ],
   "metadata": {
    "collapsed": false,
    "ExecuteTime": {
     "end_time": "2024-03-08T09:24:34.788644Z",
     "start_time": "2024-03-08T09:24:34.782495Z"
    }
   },
   "id": "a5ffc888a7d31fec",
   "execution_count": 40
  },
  {
   "cell_type": "code",
   "outputs": [
    {
     "data": {
      "text/plain": "                                                 name  new_price  old_price  \\\n0   NIVEA Radiant & Beauty Advanced Care Lotion Fo...      854.0     1460.0   \n1   Vitron HTC4388FS - 43\" Smart  Android Frameles...    21506.0    28599.0   \n2   NIVEA Perfect & Radiant Even Tone Day And Nigh...      899.0     1560.0   \n3   AILYONS FK-0301 Stainless Steel 1.8L Electric ...      693.0     1399.0   \n4   Nunix R5 Hot & Normal Free Standing Water Disp...     4180.0        NaN   \n5   Garnier Anti-Blemish Charcoal Serum With AHA +...     1400.0     1750.0   \n6   Tecno Spark 10 , 6.6\" FHD,128GB ROM+8GB RAM, 5...    18999.0    24999.0   \n7   AILYONS FK-0301 Stainless Steel 1.8L Electric ...      628.0        NaN   \n8   AILYONS ELP2404K 2.1CH SubWoofer Home Theatrer...     2906.0     4099.0   \n9   Nokia C32, 64GB + 4GB (Upto 7GB RAM) 5000MAh, ...    17599.0    19999.0   \n10  Garnier Even & Matte  Vitamin C Booster Serum ...      850.0        NaN   \n11  AILYONS HD-198A Electric Dry Iron Box White & ...      839.0     1299.0   \n12      Hikers 32'' Digital Frameless HD LED TV-Black    11590.0    17357.0   \n13  Rashnik RN-999 2 In 1 Blender & Grinder –1.5L ...     1624.0        NaN   \n14  Vision Plus VP8832DF 32\" HD Frameless Digital ...    11550.0    15995.0   \n15  Garnier Even & Matte Vitamin C Protection Crea...      960.0     1200.0   \n16        Stereo F9 Bluetooth Earphone  Power Headset      612.0     1014.0   \n17  NIVEA MEN Deep Antibacterial Anti-Perspirant R...      655.0     1040.0   \n18  AILYONS TYB-205 Blender 2In1 With GrinderMachi...     1899.0     2599.0   \n19  AILYONS HD-199A Electric Dry Iron Box Silver &...      969.0     1399.0   \n\n    discount  rating   votes  \n0       0.42     4.7   636.0  \n1       0.25     4.2   335.0  \n2       0.42     4.5  2238.0  \n3       0.50     4.1  1661.0  \n4        NaN     4.1    84.0  \n5       0.20     4.3  1455.0  \n6       0.24     3.8    17.0  \n7        NaN     4.7     6.0  \n8       0.29     3.9    98.0  \n9       0.12     4.3    95.0  \n10       NaN     4.2   747.0  \n11      0.35     4.0   926.0  \n12      0.33     4.2   215.0  \n13       NaN     4.3    77.0  \n14      0.28     4.0   367.0  \n15      0.20     4.4   985.0  \n16      0.40     3.9  1113.0  \n17      0.37     4.6   631.0  \n18      0.27     4.3   239.0  \n19      0.31     4.0   622.0  ",
      "text/html": "<div>\n<style scoped>\n    .dataframe tbody tr th:only-of-type {\n        vertical-align: middle;\n    }\n\n    .dataframe tbody tr th {\n        vertical-align: top;\n    }\n\n    .dataframe thead th {\n        text-align: right;\n    }\n</style>\n<table border=\"1\" class=\"dataframe\">\n  <thead>\n    <tr style=\"text-align: right;\">\n      <th></th>\n      <th>name</th>\n      <th>new_price</th>\n      <th>old_price</th>\n      <th>discount</th>\n      <th>rating</th>\n      <th>votes</th>\n    </tr>\n  </thead>\n  <tbody>\n    <tr>\n      <th>0</th>\n      <td>NIVEA Radiant &amp; Beauty Advanced Care Lotion Fo...</td>\n      <td>854.0</td>\n      <td>1460.0</td>\n      <td>0.42</td>\n      <td>4.7</td>\n      <td>636.0</td>\n    </tr>\n    <tr>\n      <th>1</th>\n      <td>Vitron HTC4388FS - 43\" Smart  Android Frameles...</td>\n      <td>21506.0</td>\n      <td>28599.0</td>\n      <td>0.25</td>\n      <td>4.2</td>\n      <td>335.0</td>\n    </tr>\n    <tr>\n      <th>2</th>\n      <td>NIVEA Perfect &amp; Radiant Even Tone Day And Nigh...</td>\n      <td>899.0</td>\n      <td>1560.0</td>\n      <td>0.42</td>\n      <td>4.5</td>\n      <td>2238.0</td>\n    </tr>\n    <tr>\n      <th>3</th>\n      <td>AILYONS FK-0301 Stainless Steel 1.8L Electric ...</td>\n      <td>693.0</td>\n      <td>1399.0</td>\n      <td>0.50</td>\n      <td>4.1</td>\n      <td>1661.0</td>\n    </tr>\n    <tr>\n      <th>4</th>\n      <td>Nunix R5 Hot &amp; Normal Free Standing Water Disp...</td>\n      <td>4180.0</td>\n      <td>NaN</td>\n      <td>NaN</td>\n      <td>4.1</td>\n      <td>84.0</td>\n    </tr>\n    <tr>\n      <th>5</th>\n      <td>Garnier Anti-Blemish Charcoal Serum With AHA +...</td>\n      <td>1400.0</td>\n      <td>1750.0</td>\n      <td>0.20</td>\n      <td>4.3</td>\n      <td>1455.0</td>\n    </tr>\n    <tr>\n      <th>6</th>\n      <td>Tecno Spark 10 , 6.6\" FHD,128GB ROM+8GB RAM, 5...</td>\n      <td>18999.0</td>\n      <td>24999.0</td>\n      <td>0.24</td>\n      <td>3.8</td>\n      <td>17.0</td>\n    </tr>\n    <tr>\n      <th>7</th>\n      <td>AILYONS FK-0301 Stainless Steel 1.8L Electric ...</td>\n      <td>628.0</td>\n      <td>NaN</td>\n      <td>NaN</td>\n      <td>4.7</td>\n      <td>6.0</td>\n    </tr>\n    <tr>\n      <th>8</th>\n      <td>AILYONS ELP2404K 2.1CH SubWoofer Home Theatrer...</td>\n      <td>2906.0</td>\n      <td>4099.0</td>\n      <td>0.29</td>\n      <td>3.9</td>\n      <td>98.0</td>\n    </tr>\n    <tr>\n      <th>9</th>\n      <td>Nokia C32, 64GB + 4GB (Upto 7GB RAM) 5000MAh, ...</td>\n      <td>17599.0</td>\n      <td>19999.0</td>\n      <td>0.12</td>\n      <td>4.3</td>\n      <td>95.0</td>\n    </tr>\n    <tr>\n      <th>10</th>\n      <td>Garnier Even &amp; Matte  Vitamin C Booster Serum ...</td>\n      <td>850.0</td>\n      <td>NaN</td>\n      <td>NaN</td>\n      <td>4.2</td>\n      <td>747.0</td>\n    </tr>\n    <tr>\n      <th>11</th>\n      <td>AILYONS HD-198A Electric Dry Iron Box White &amp; ...</td>\n      <td>839.0</td>\n      <td>1299.0</td>\n      <td>0.35</td>\n      <td>4.0</td>\n      <td>926.0</td>\n    </tr>\n    <tr>\n      <th>12</th>\n      <td>Hikers 32'' Digital Frameless HD LED TV-Black</td>\n      <td>11590.0</td>\n      <td>17357.0</td>\n      <td>0.33</td>\n      <td>4.2</td>\n      <td>215.0</td>\n    </tr>\n    <tr>\n      <th>13</th>\n      <td>Rashnik RN-999 2 In 1 Blender &amp; Grinder –1.5L ...</td>\n      <td>1624.0</td>\n      <td>NaN</td>\n      <td>NaN</td>\n      <td>4.3</td>\n      <td>77.0</td>\n    </tr>\n    <tr>\n      <th>14</th>\n      <td>Vision Plus VP8832DF 32\" HD Frameless Digital ...</td>\n      <td>11550.0</td>\n      <td>15995.0</td>\n      <td>0.28</td>\n      <td>4.0</td>\n      <td>367.0</td>\n    </tr>\n    <tr>\n      <th>15</th>\n      <td>Garnier Even &amp; Matte Vitamin C Protection Crea...</td>\n      <td>960.0</td>\n      <td>1200.0</td>\n      <td>0.20</td>\n      <td>4.4</td>\n      <td>985.0</td>\n    </tr>\n    <tr>\n      <th>16</th>\n      <td>Stereo F9 Bluetooth Earphone  Power Headset</td>\n      <td>612.0</td>\n      <td>1014.0</td>\n      <td>0.40</td>\n      <td>3.9</td>\n      <td>1113.0</td>\n    </tr>\n    <tr>\n      <th>17</th>\n      <td>NIVEA MEN Deep Antibacterial Anti-Perspirant R...</td>\n      <td>655.0</td>\n      <td>1040.0</td>\n      <td>0.37</td>\n      <td>4.6</td>\n      <td>631.0</td>\n    </tr>\n    <tr>\n      <th>18</th>\n      <td>AILYONS TYB-205 Blender 2In1 With GrinderMachi...</td>\n      <td>1899.0</td>\n      <td>2599.0</td>\n      <td>0.27</td>\n      <td>4.3</td>\n      <td>239.0</td>\n    </tr>\n    <tr>\n      <th>19</th>\n      <td>AILYONS HD-199A Electric Dry Iron Box Silver &amp;...</td>\n      <td>969.0</td>\n      <td>1399.0</td>\n      <td>0.31</td>\n      <td>4.0</td>\n      <td>622.0</td>\n    </tr>\n  </tbody>\n</table>\n</div>"
     },
     "execution_count": 41,
     "metadata": {},
     "output_type": "execute_result"
    }
   ],
   "source": [
    "products_df.head(20)"
   ],
   "metadata": {
    "collapsed": false,
    "ExecuteTime": {
     "end_time": "2024-03-08T09:24:35.536911Z",
     "start_time": "2024-03-08T09:24:35.520994Z"
    }
   },
   "id": "66caa8a96b465dda",
   "execution_count": 41
  },
  {
   "cell_type": "code",
   "outputs": [],
   "source": [
    "# Saving stage five data cleaning file to csv\n",
    "products_df.to_csv(\"../data/processed/5_all_products_votes_cleaned.csv\")"
   ],
   "metadata": {
    "collapsed": false,
    "ExecuteTime": {
     "end_time": "2024-03-08T09:24:36.275929Z",
     "start_time": "2024-03-08T09:24:36.265465Z"
    }
   },
   "id": "290751887549d0ac",
   "execution_count": 42
  },
  {
   "cell_type": "markdown",
   "source": [
    "## Dealing with null values"
   ],
   "metadata": {
    "collapsed": false
   },
   "id": "8360f1fa230100d6"
  },
  {
   "cell_type": "code",
   "outputs": [],
   "source": [
    "# Read csv file from prior cleaning (votes column) to get dataframe\n",
    "products_df = pd.read_csv(\"../data/processed/5_all_products_votes_cleaned.csv\", index_col=0)"
   ],
   "metadata": {
    "collapsed": false,
    "ExecuteTime": {
     "end_time": "2024-03-08T09:24:38.675534Z",
     "start_time": "2024-03-08T09:24:38.667908Z"
    }
   },
   "id": "452c48f38f354b5c",
   "execution_count": 43
  },
  {
   "cell_type": "code",
   "outputs": [
    {
     "data": {
      "text/plain": "'rating'"
     },
     "execution_count": 44,
     "metadata": {},
     "output_type": "execute_result"
    }
   ],
   "source": [
    "products_df.isnull().sum().idxmax()"
   ],
   "metadata": {
    "collapsed": false,
    "ExecuteTime": {
     "end_time": "2024-03-08T09:24:39.464553Z",
     "start_time": "2024-03-08T09:24:39.460349Z"
    }
   },
   "id": "d1c27fb48422c189",
   "execution_count": 44
  },
  {
   "cell_type": "code",
   "outputs": [
    {
     "name": "stdout",
     "output_type": "stream",
     "text": [
      "new_price nulls: 0\n",
      "old_price nulls: 93\n",
      "discount nulls: 93\n",
      "rating nulls: 1891\n",
      "votes nulls: 1891\n"
     ]
    }
   ],
   "source": [
    "print(f\"new_price nulls: {products_df.new_price.isnull().sum()}\")\n",
    "print(f\"old_price nulls: {products_df.old_price.isnull().sum()}\")\n",
    "print(f\"discount nulls: {products_df.discount.isnull().sum()}\")\n",
    "print(f\"rating nulls: {products_df.rating.isnull().sum()}\")\n",
    "print(f\"votes nulls: {products_df.votes.isnull().sum()}\")"
   ],
   "metadata": {
    "collapsed": false,
    "ExecuteTime": {
     "end_time": "2024-03-08T09:24:41.047339Z",
     "start_time": "2024-03-08T09:24:41.043035Z"
    }
   },
   "id": "2d9bc0842829d800",
   "execution_count": 45
  },
  {
   "cell_type": "markdown",
   "source": [
    "### Fill null values in discount column "
   ],
   "metadata": {
    "collapsed": false
   },
   "id": "efa6eb2106b26f19"
  },
  {
   "cell_type": "code",
   "outputs": [
    {
     "data": {
      "text/plain": "0"
     },
     "execution_count": 46,
     "metadata": {},
     "output_type": "execute_result"
    }
   ],
   "source": [
    "# Use discount column average to fill nulls\n",
    "products_df['discount'] = products_df['discount'].fillna(round(products_df['discount'].mean(), 2))\n",
    "products_df.discount.isnull().sum()"
   ],
   "metadata": {
    "collapsed": false,
    "ExecuteTime": {
     "end_time": "2024-03-08T09:24:43.680054Z",
     "start_time": "2024-03-08T09:24:43.675144Z"
    }
   },
   "id": "ee9f7bc26a3bc3fa",
   "execution_count": 46
  },
  {
   "cell_type": "markdown",
   "source": [
    "### Fill null values in old_price based on the discount column average"
   ],
   "metadata": {
    "collapsed": false
   },
   "id": "b58cfdfd7e23339d"
  },
  {
   "cell_type": "code",
   "outputs": [
    {
     "data": {
      "text/plain": "0"
     },
     "execution_count": 47,
     "metadata": {},
     "output_type": "execute_result"
    }
   ],
   "source": [
    "def multiply_fill_old_price_column_nulls(row):\n",
    "    new_price = row['new_price']\n",
    "    discount_column_mean = round(products_df['discount'].mean(), 2)\n",
    "    \n",
    "    if not pd.isna(row['old_price']):\n",
    "        return row['old_price']\n",
    "    return new_price * discount_column_mean\n",
    "        \n",
    "products_df['old_price'] = products_df.apply(multiply_fill_old_price_column_nulls, axis=1)\n",
    "products_df.old_price.isnull().sum()"
   ],
   "metadata": {
    "collapsed": false,
    "ExecuteTime": {
     "end_time": "2024-03-08T09:24:45.228253Z",
     "start_time": "2024-03-08T09:24:45.126251Z"
    }
   },
   "id": "3fc0bcf69968daa6",
   "execution_count": 47
  },
  {
   "cell_type": "markdown",
   "source": [
    "### Fill rating nulls with column mean"
   ],
   "metadata": {
    "collapsed": false
   },
   "id": "cf70e7e1f9911927"
  },
  {
   "cell_type": "code",
   "outputs": [
    {
     "data": {
      "text/plain": "0"
     },
     "execution_count": 48,
     "metadata": {},
     "output_type": "execute_result"
    }
   ],
   "source": [
    "products_df['rating'] = products_df['rating'].fillna(round(products_df['rating'].mean(), 2))\n",
    "products_df.rating.isnull().sum()\n",
    "# type(products_df['rating'][1])"
   ],
   "metadata": {
    "collapsed": false,
    "ExecuteTime": {
     "end_time": "2024-03-08T09:24:48.774459Z",
     "start_time": "2024-03-08T09:24:48.769639Z"
    }
   },
   "id": "dc565092d5410a93",
   "execution_count": 48
  },
  {
   "cell_type": "markdown",
   "source": [
    "### Fill votes nulls with column mean"
   ],
   "metadata": {
    "collapsed": false
   },
   "id": "f1d51583019ecf17"
  },
  {
   "cell_type": "code",
   "outputs": [
    {
     "data": {
      "text/plain": "0"
     },
     "execution_count": 49,
     "metadata": {},
     "output_type": "execute_result"
    }
   ],
   "source": [
    "products_df['votes'] = products_df['votes'].fillna(round(products_df['votes'].mean(), 2))\n",
    "products_df.votes.isnull().sum()"
   ],
   "metadata": {
    "collapsed": false,
    "ExecuteTime": {
     "end_time": "2024-03-08T09:24:49.998467Z",
     "start_time": "2024-03-08T09:24:49.993477Z"
    }
   },
   "id": "26d9317308bb6eff",
   "execution_count": 49
  },
  {
   "cell_type": "markdown",
   "source": [
    "## Rechecking nulls for all columns again"
   ],
   "metadata": {
    "collapsed": false
   },
   "id": "29425339dd1d081c"
  },
  {
   "cell_type": "code",
   "outputs": [
    {
     "name": "stdout",
     "output_type": "stream",
     "text": [
      "new_price nulls: 0\n",
      "old_price nulls: 0\n",
      "discount nulls: 0\n",
      "rating nulls: 0\n",
      "votes nulls: 0\n"
     ]
    }
   ],
   "source": [
    "print(f\"new_price nulls: {products_df.new_price.isnull().sum()}\")\n",
    "print(f\"old_price nulls: {products_df.old_price.isnull().sum()}\")\n",
    "print(f\"discount nulls: {products_df.discount.isnull().sum()}\")\n",
    "print(f\"rating nulls: {products_df.rating.isnull().sum()}\")\n",
    "print(f\"votes nulls: {products_df.votes.isnull().sum()}\")"
   ],
   "metadata": {
    "collapsed": false,
    "ExecuteTime": {
     "end_time": "2024-03-08T09:24:52.903663Z",
     "start_time": "2024-03-08T09:24:52.895448Z"
    }
   },
   "id": "55b62f1efa8d3649",
   "execution_count": 50
  },
  {
   "cell_type": "code",
   "outputs": [
    {
     "data": {
      "text/plain": "                                                name  new_price  old_price  \\\n0  NIVEA Radiant & Beauty Advanced Care Lotion Fo...      854.0    1460.00   \n1  Vitron HTC4388FS - 43\" Smart  Android Frameles...    21506.0   28599.00   \n2  NIVEA Perfect & Radiant Even Tone Day And Nigh...      899.0    1560.00   \n3  AILYONS FK-0301 Stainless Steel 1.8L Electric ...      693.0    1399.00   \n4  Nunix R5 Hot & Normal Free Standing Water Disp...     4180.0    1713.80   \n5  Garnier Anti-Blemish Charcoal Serum With AHA +...     1400.0    1750.00   \n6  Tecno Spark 10 , 6.6\" FHD,128GB ROM+8GB RAM, 5...    18999.0   24999.00   \n7  AILYONS FK-0301 Stainless Steel 1.8L Electric ...      628.0     257.48   \n8  AILYONS ELP2404K 2.1CH SubWoofer Home Theatrer...     2906.0    4099.00   \n9  Nokia C32, 64GB + 4GB (Upto 7GB RAM) 5000MAh, ...    17599.0   19999.00   \n\n   discount  rating   votes  \n0      0.42     4.7   636.0  \n1      0.25     4.2   335.0  \n2      0.42     4.5  2238.0  \n3      0.50     4.1  1661.0  \n4      0.41     4.1    84.0  \n5      0.20     4.3  1455.0  \n6      0.24     3.8    17.0  \n7      0.41     4.7     6.0  \n8      0.29     3.9    98.0  \n9      0.12     4.3    95.0  ",
      "text/html": "<div>\n<style scoped>\n    .dataframe tbody tr th:only-of-type {\n        vertical-align: middle;\n    }\n\n    .dataframe tbody tr th {\n        vertical-align: top;\n    }\n\n    .dataframe thead th {\n        text-align: right;\n    }\n</style>\n<table border=\"1\" class=\"dataframe\">\n  <thead>\n    <tr style=\"text-align: right;\">\n      <th></th>\n      <th>name</th>\n      <th>new_price</th>\n      <th>old_price</th>\n      <th>discount</th>\n      <th>rating</th>\n      <th>votes</th>\n    </tr>\n  </thead>\n  <tbody>\n    <tr>\n      <th>0</th>\n      <td>NIVEA Radiant &amp; Beauty Advanced Care Lotion Fo...</td>\n      <td>854.0</td>\n      <td>1460.00</td>\n      <td>0.42</td>\n      <td>4.7</td>\n      <td>636.0</td>\n    </tr>\n    <tr>\n      <th>1</th>\n      <td>Vitron HTC4388FS - 43\" Smart  Android Frameles...</td>\n      <td>21506.0</td>\n      <td>28599.00</td>\n      <td>0.25</td>\n      <td>4.2</td>\n      <td>335.0</td>\n    </tr>\n    <tr>\n      <th>2</th>\n      <td>NIVEA Perfect &amp; Radiant Even Tone Day And Nigh...</td>\n      <td>899.0</td>\n      <td>1560.00</td>\n      <td>0.42</td>\n      <td>4.5</td>\n      <td>2238.0</td>\n    </tr>\n    <tr>\n      <th>3</th>\n      <td>AILYONS FK-0301 Stainless Steel 1.8L Electric ...</td>\n      <td>693.0</td>\n      <td>1399.00</td>\n      <td>0.50</td>\n      <td>4.1</td>\n      <td>1661.0</td>\n    </tr>\n    <tr>\n      <th>4</th>\n      <td>Nunix R5 Hot &amp; Normal Free Standing Water Disp...</td>\n      <td>4180.0</td>\n      <td>1713.80</td>\n      <td>0.41</td>\n      <td>4.1</td>\n      <td>84.0</td>\n    </tr>\n    <tr>\n      <th>5</th>\n      <td>Garnier Anti-Blemish Charcoal Serum With AHA +...</td>\n      <td>1400.0</td>\n      <td>1750.00</td>\n      <td>0.20</td>\n      <td>4.3</td>\n      <td>1455.0</td>\n    </tr>\n    <tr>\n      <th>6</th>\n      <td>Tecno Spark 10 , 6.6\" FHD,128GB ROM+8GB RAM, 5...</td>\n      <td>18999.0</td>\n      <td>24999.00</td>\n      <td>0.24</td>\n      <td>3.8</td>\n      <td>17.0</td>\n    </tr>\n    <tr>\n      <th>7</th>\n      <td>AILYONS FK-0301 Stainless Steel 1.8L Electric ...</td>\n      <td>628.0</td>\n      <td>257.48</td>\n      <td>0.41</td>\n      <td>4.7</td>\n      <td>6.0</td>\n    </tr>\n    <tr>\n      <th>8</th>\n      <td>AILYONS ELP2404K 2.1CH SubWoofer Home Theatrer...</td>\n      <td>2906.0</td>\n      <td>4099.00</td>\n      <td>0.29</td>\n      <td>3.9</td>\n      <td>98.0</td>\n    </tr>\n    <tr>\n      <th>9</th>\n      <td>Nokia C32, 64GB + 4GB (Upto 7GB RAM) 5000MAh, ...</td>\n      <td>17599.0</td>\n      <td>19999.00</td>\n      <td>0.12</td>\n      <td>4.3</td>\n      <td>95.0</td>\n    </tr>\n  </tbody>\n</table>\n</div>"
     },
     "execution_count": 51,
     "metadata": {},
     "output_type": "execute_result"
    }
   ],
   "source": [
    "products_df.head(10)"
   ],
   "metadata": {
    "collapsed": false,
    "ExecuteTime": {
     "end_time": "2024-03-08T09:24:53.717421Z",
     "start_time": "2024-03-08T09:24:53.706951Z"
    }
   },
   "id": "588d350a15fc6da7",
   "execution_count": 51
  },
  {
   "cell_type": "code",
   "outputs": [
    {
     "name": "stdout",
     "output_type": "stream",
     "text": [
      "<class 'pandas.core.frame.DataFrame'>\n",
      "Index: 2000 entries, 0 to 1999\n",
      "Data columns (total 6 columns):\n",
      " #   Column     Non-Null Count  Dtype  \n",
      "---  ------     --------------  -----  \n",
      " 0   name       2000 non-null   object \n",
      " 1   new_price  2000 non-null   float64\n",
      " 2   old_price  2000 non-null   float64\n",
      " 3   discount   2000 non-null   float64\n",
      " 4   rating     2000 non-null   float64\n",
      " 5   votes      2000 non-null   float64\n",
      "dtypes: float64(5), object(1)\n",
      "memory usage: 109.4+ KB\n"
     ]
    }
   ],
   "source": [
    "products_df.info()"
   ],
   "metadata": {
    "collapsed": false,
    "ExecuteTime": {
     "end_time": "2024-03-08T09:24:57.543045Z",
     "start_time": "2024-03-08T09:24:57.536683Z"
    }
   },
   "id": "19ec052175ee6565",
   "execution_count": 52
  },
  {
   "cell_type": "code",
   "outputs": [],
   "source": [
    "# Saving stage 6 data cleaning file to csv\n",
    "products_df.to_csv(\"../data/final/6_all_products_all_columns_cleaned.csv\")"
   ],
   "metadata": {
    "collapsed": false,
    "ExecuteTime": {
     "end_time": "2024-03-08T09:24:59.423200Z",
     "start_time": "2024-03-08T09:24:59.411233Z"
    }
   },
   "id": "46bd4a1d5e8a650e",
   "execution_count": 53
  },
  {
   "cell_type": "code",
   "outputs": [
    {
     "data": {
      "text/plain": "                                                name  new_price  old_price  \\\n0  NIVEA Radiant & Beauty Advanced Care Lotion Fo...      854.0    1460.00   \n1  Vitron HTC4388FS - 43\" Smart  Android Frameles...    21506.0   28599.00   \n2  NIVEA Perfect & Radiant Even Tone Day And Nigh...      899.0    1560.00   \n3  AILYONS FK-0301 Stainless Steel 1.8L Electric ...      693.0    1399.00   \n4  Nunix R5 Hot & Normal Free Standing Water Disp...     4180.0    1713.80   \n5  Garnier Anti-Blemish Charcoal Serum With AHA +...     1400.0    1750.00   \n6  Tecno Spark 10 , 6.6\" FHD,128GB ROM+8GB RAM, 5...    18999.0   24999.00   \n7  AILYONS FK-0301 Stainless Steel 1.8L Electric ...      628.0     257.48   \n8  AILYONS ELP2404K 2.1CH SubWoofer Home Theatrer...     2906.0    4099.00   \n9  Nokia C32, 64GB + 4GB (Upto 7GB RAM) 5000MAh, ...    17599.0   19999.00   \n\n   discount  rating   votes  \n0      0.42     4.7   636.0  \n1      0.25     4.2   335.0  \n2      0.42     4.5  2238.0  \n3      0.50     4.1  1661.0  \n4      0.41     4.1    84.0  \n5      0.20     4.3  1455.0  \n6      0.24     3.8    17.0  \n7      0.41     4.7     6.0  \n8      0.29     3.9    98.0  \n9      0.12     4.3    95.0  ",
      "text/html": "<div>\n<style scoped>\n    .dataframe tbody tr th:only-of-type {\n        vertical-align: middle;\n    }\n\n    .dataframe tbody tr th {\n        vertical-align: top;\n    }\n\n    .dataframe thead th {\n        text-align: right;\n    }\n</style>\n<table border=\"1\" class=\"dataframe\">\n  <thead>\n    <tr style=\"text-align: right;\">\n      <th></th>\n      <th>name</th>\n      <th>new_price</th>\n      <th>old_price</th>\n      <th>discount</th>\n      <th>rating</th>\n      <th>votes</th>\n    </tr>\n  </thead>\n  <tbody>\n    <tr>\n      <th>0</th>\n      <td>NIVEA Radiant &amp; Beauty Advanced Care Lotion Fo...</td>\n      <td>854.0</td>\n      <td>1460.00</td>\n      <td>0.42</td>\n      <td>4.7</td>\n      <td>636.0</td>\n    </tr>\n    <tr>\n      <th>1</th>\n      <td>Vitron HTC4388FS - 43\" Smart  Android Frameles...</td>\n      <td>21506.0</td>\n      <td>28599.00</td>\n      <td>0.25</td>\n      <td>4.2</td>\n      <td>335.0</td>\n    </tr>\n    <tr>\n      <th>2</th>\n      <td>NIVEA Perfect &amp; Radiant Even Tone Day And Nigh...</td>\n      <td>899.0</td>\n      <td>1560.00</td>\n      <td>0.42</td>\n      <td>4.5</td>\n      <td>2238.0</td>\n    </tr>\n    <tr>\n      <th>3</th>\n      <td>AILYONS FK-0301 Stainless Steel 1.8L Electric ...</td>\n      <td>693.0</td>\n      <td>1399.00</td>\n      <td>0.50</td>\n      <td>4.1</td>\n      <td>1661.0</td>\n    </tr>\n    <tr>\n      <th>4</th>\n      <td>Nunix R5 Hot &amp; Normal Free Standing Water Disp...</td>\n      <td>4180.0</td>\n      <td>1713.80</td>\n      <td>0.41</td>\n      <td>4.1</td>\n      <td>84.0</td>\n    </tr>\n    <tr>\n      <th>5</th>\n      <td>Garnier Anti-Blemish Charcoal Serum With AHA +...</td>\n      <td>1400.0</td>\n      <td>1750.00</td>\n      <td>0.20</td>\n      <td>4.3</td>\n      <td>1455.0</td>\n    </tr>\n    <tr>\n      <th>6</th>\n      <td>Tecno Spark 10 , 6.6\" FHD,128GB ROM+8GB RAM, 5...</td>\n      <td>18999.0</td>\n      <td>24999.00</td>\n      <td>0.24</td>\n      <td>3.8</td>\n      <td>17.0</td>\n    </tr>\n    <tr>\n      <th>7</th>\n      <td>AILYONS FK-0301 Stainless Steel 1.8L Electric ...</td>\n      <td>628.0</td>\n      <td>257.48</td>\n      <td>0.41</td>\n      <td>4.7</td>\n      <td>6.0</td>\n    </tr>\n    <tr>\n      <th>8</th>\n      <td>AILYONS ELP2404K 2.1CH SubWoofer Home Theatrer...</td>\n      <td>2906.0</td>\n      <td>4099.00</td>\n      <td>0.29</td>\n      <td>3.9</td>\n      <td>98.0</td>\n    </tr>\n    <tr>\n      <th>9</th>\n      <td>Nokia C32, 64GB + 4GB (Upto 7GB RAM) 5000MAh, ...</td>\n      <td>17599.0</td>\n      <td>19999.00</td>\n      <td>0.12</td>\n      <td>4.3</td>\n      <td>95.0</td>\n    </tr>\n  </tbody>\n</table>\n</div>"
     },
     "execution_count": 90,
     "metadata": {},
     "output_type": "execute_result"
    }
   ],
   "source": [
    "experiment_df = pd.read_csv(\"../data/final/6_all_products_all_columns_cleaned.csv\", index_col=0)\n",
    "new_experiment_df = experiment_df.iloc[0:10]\n",
    "new_experiment_df"
   ],
   "metadata": {
    "collapsed": false,
    "ExecuteTime": {
     "end_time": "2024-03-08T12:44:49.263335Z",
     "start_time": "2024-03-08T12:44:49.249536Z"
    }
   },
   "id": "21b1a4b1d8dd7b71",
   "execution_count": 90
  },
  {
   "cell_type": "code",
   "outputs": [
    {
     "name": "stdout",
     "output_type": "stream",
     "text": [
      "NIVEA Radiant & Beauty Advanced Care Lotion For Women - 400ml (Pack Of 2) = Health & Beauty\n",
      "Vitron HTC4388FS - 43\" Smart  Android Frameless TV - Black = Electronics\n",
      "NIVEA Perfect & Radiant Even Tone Day And Night Cream For Women - 50ml = Health & Beauty\n",
      "AILYONS FK-0301 Stainless Steel 1.8L Electric Kettle-Black = Home & Office\n",
      "Nunix R5 Hot & Normal Free Standing Water Dispenser - White = Home & Office\n",
      "Garnier Anti-Blemish Charcoal Serum With AHA + BHA & Niacinamide For Acne Prone Skin = Health & Beauty\n",
      "Tecno Spark 10 , 6.6\" FHD,128GB ROM+8GB RAM, 5000mAh,Blue = Phones & Tablets\n",
      "AILYONS FK-0301 Stainless Steel 1.8L Electric Kettle-Silver. = Home & Office\n",
      "AILYONS ELP2404K 2.1CH SubWoofer Home Theatrer Multi Media Speaker System = Electronics\n",
      "Nokia C32, 64GB + 4GB (Upto 7GB RAM) 5000MAh, Android 13, Black-Charcoal = Phones & Tablets\n"
     ]
    },
    {
     "data": {
      "text/plain": "                                                name  new_price  old_price  \\\n0  NIVEA Radiant & Beauty Advanced Care Lotion Fo...      854.0    1460.00   \n1  Vitron HTC4388FS - 43\" Smart  Android Frameles...    21506.0   28599.00   \n2  NIVEA Perfect & Radiant Even Tone Day And Nigh...      899.0    1560.00   \n3  AILYONS FK-0301 Stainless Steel 1.8L Electric ...      693.0    1399.00   \n4  Nunix R5 Hot & Normal Free Standing Water Disp...     4180.0    1713.80   \n5  Garnier Anti-Blemish Charcoal Serum With AHA +...     1400.0    1750.00   \n6  Tecno Spark 10 , 6.6\" FHD,128GB ROM+8GB RAM, 5...    18999.0   24999.00   \n7  AILYONS FK-0301 Stainless Steel 1.8L Electric ...      628.0     257.48   \n8  AILYONS ELP2404K 2.1CH SubWoofer Home Theatrer...     2906.0    4099.00   \n9  Nokia C32, 64GB + 4GB (Upto 7GB RAM) 5000MAh, ...    17599.0   19999.00   \n\n   discount  rating   votes  product_category  \n0      0.42     4.7   636.0   Health & Beauty  \n1      0.25     4.2   335.0       Electronics  \n2      0.42     4.5  2238.0   Health & Beauty  \n3      0.50     4.1  1661.0     Home & Office  \n4      0.41     4.1    84.0     Home & Office  \n5      0.20     4.3  1455.0   Health & Beauty  \n6      0.24     3.8    17.0  Phones & Tablets  \n7      0.41     4.7     6.0     Home & Office  \n8      0.29     3.9    98.0       Electronics  \n9      0.12     4.3    95.0  Phones & Tablets  ",
      "text/html": "<div>\n<style scoped>\n    .dataframe tbody tr th:only-of-type {\n        vertical-align: middle;\n    }\n\n    .dataframe tbody tr th {\n        vertical-align: top;\n    }\n\n    .dataframe thead th {\n        text-align: right;\n    }\n</style>\n<table border=\"1\" class=\"dataframe\">\n  <thead>\n    <tr style=\"text-align: right;\">\n      <th></th>\n      <th>name</th>\n      <th>new_price</th>\n      <th>old_price</th>\n      <th>discount</th>\n      <th>rating</th>\n      <th>votes</th>\n      <th>product_category</th>\n    </tr>\n  </thead>\n  <tbody>\n    <tr>\n      <th>0</th>\n      <td>NIVEA Radiant &amp; Beauty Advanced Care Lotion Fo...</td>\n      <td>854.0</td>\n      <td>1460.00</td>\n      <td>0.42</td>\n      <td>4.7</td>\n      <td>636.0</td>\n      <td>Health &amp; Beauty</td>\n    </tr>\n    <tr>\n      <th>1</th>\n      <td>Vitron HTC4388FS - 43\" Smart  Android Frameles...</td>\n      <td>21506.0</td>\n      <td>28599.00</td>\n      <td>0.25</td>\n      <td>4.2</td>\n      <td>335.0</td>\n      <td>Electronics</td>\n    </tr>\n    <tr>\n      <th>2</th>\n      <td>NIVEA Perfect &amp; Radiant Even Tone Day And Nigh...</td>\n      <td>899.0</td>\n      <td>1560.00</td>\n      <td>0.42</td>\n      <td>4.5</td>\n      <td>2238.0</td>\n      <td>Health &amp; Beauty</td>\n    </tr>\n    <tr>\n      <th>3</th>\n      <td>AILYONS FK-0301 Stainless Steel 1.8L Electric ...</td>\n      <td>693.0</td>\n      <td>1399.00</td>\n      <td>0.50</td>\n      <td>4.1</td>\n      <td>1661.0</td>\n      <td>Home &amp; Office</td>\n    </tr>\n    <tr>\n      <th>4</th>\n      <td>Nunix R5 Hot &amp; Normal Free Standing Water Disp...</td>\n      <td>4180.0</td>\n      <td>1713.80</td>\n      <td>0.41</td>\n      <td>4.1</td>\n      <td>84.0</td>\n      <td>Home &amp; Office</td>\n    </tr>\n    <tr>\n      <th>5</th>\n      <td>Garnier Anti-Blemish Charcoal Serum With AHA +...</td>\n      <td>1400.0</td>\n      <td>1750.00</td>\n      <td>0.20</td>\n      <td>4.3</td>\n      <td>1455.0</td>\n      <td>Health &amp; Beauty</td>\n    </tr>\n    <tr>\n      <th>6</th>\n      <td>Tecno Spark 10 , 6.6\" FHD,128GB ROM+8GB RAM, 5...</td>\n      <td>18999.0</td>\n      <td>24999.00</td>\n      <td>0.24</td>\n      <td>3.8</td>\n      <td>17.0</td>\n      <td>Phones &amp; Tablets</td>\n    </tr>\n    <tr>\n      <th>7</th>\n      <td>AILYONS FK-0301 Stainless Steel 1.8L Electric ...</td>\n      <td>628.0</td>\n      <td>257.48</td>\n      <td>0.41</td>\n      <td>4.7</td>\n      <td>6.0</td>\n      <td>Home &amp; Office</td>\n    </tr>\n    <tr>\n      <th>8</th>\n      <td>AILYONS ELP2404K 2.1CH SubWoofer Home Theatrer...</td>\n      <td>2906.0</td>\n      <td>4099.00</td>\n      <td>0.29</td>\n      <td>3.9</td>\n      <td>98.0</td>\n      <td>Electronics</td>\n    </tr>\n    <tr>\n      <th>9</th>\n      <td>Nokia C32, 64GB + 4GB (Upto 7GB RAM) 5000MAh, ...</td>\n      <td>17599.0</td>\n      <td>19999.00</td>\n      <td>0.12</td>\n      <td>4.3</td>\n      <td>95.0</td>\n      <td>Phones &amp; Tablets</td>\n    </tr>\n  </tbody>\n</table>\n</div>"
     },
     "execution_count": 100,
     "metadata": {},
     "output_type": "execute_result"
    }
   ],
   "source": [
    "# Reload the gemini api call module, 'gemini_call', to refresh/reload it before use to prevent any unusual errors\n",
    "importlib.reload(gemini_call)\n",
    "\n",
    "# def fetch_category_name(product_name):\n",
    "#     product_cat = gemini_call.predict_product_category(product_name)\n",
    "#     return product_cat \n",
    "\n",
    "durations_list = []\n",
    "for idx, row in new_experiment_df.iterrows():\n",
    "    name_of_product = row[\"name\"]\n",
    "    \n",
    "    # Timed the API roundtrip during testing to find the average time...\n",
    "    # ... to check if it's possible to surpass the set rate limit of 60 requests per min (RPM)...\n",
    "    # ... besides, while doing the average time testing, I put a 1.2 sec sleep timer...\n",
    "    # ... as the last line function as total guard to ensure a max of 50 RPM\n",
    "    \n",
    "    start_time = time.time()\n",
    "    predicted_category = gemini_call.predict_product_category(name_of_product)\n",
    "    end_time = time.time()\n",
    "    durations_list.append(end_time - start_time)\n",
    "    \n",
    "    print(f\"{name_of_product} = {predicted_category}\")\n",
    "    new_experiment_df.at[idx, \"product_category\"] = predicted_category\n",
    "    \n",
    "    # Commented the sleep timer after find the average roundtrip api call time is: 2.2 seconds \n",
    "    # time.sleep(1.2)\n",
    "    \n",
    "\n",
    "new_experiment_df"
   ],
   "metadata": {
    "collapsed": false,
    "ExecuteTime": {
     "end_time": "2024-03-08T14:23:02.933417Z",
     "start_time": "2024-03-08T14:22:49.185867Z"
    }
   },
   "id": "a34cd8d07d5b2f5a",
   "execution_count": 100
  },
  {
   "cell_type": "code",
   "outputs": [
    {
     "data": {
      "text/plain": "2.235899829864502"
     },
     "execution_count": 99,
     "metadata": {},
     "output_type": "execute_result"
    }
   ],
   "source": [
    "average_duration = sum(durations_list) / len(durations_list)\n",
    "average_duration"
   ],
   "metadata": {
    "collapsed": false,
    "ExecuteTime": {
     "end_time": "2024-03-08T14:21:24.691290Z",
     "start_time": "2024-03-08T14:21:24.687821Z"
    }
   },
   "id": "7ac5b3a7c9f0d1ef",
   "execution_count": 99
  },
  {
   "cell_type": "markdown",
   "source": [
    "### Generate product categories in a new column using GEMINI API generative AI (based on product names as prompt)>"
   ],
   "metadata": {
    "collapsed": false
   },
   "id": "7551f19782a71511"
  },
  {
   "cell_type": "code",
   "outputs": [],
   "source": [
    "# # Reload the module to refresh it since it has been modified since being imported\n",
    "# importlib.reload(gemini_call)\n",
    "# \n",
    "# # def remove_non_alphanumeric(text):\n",
    "# #     return re.sub(r'[^a-zA-Z0-9,.!\\s]', '', text)\n",
    "# \n",
    "# def fetch_category_name(product_name):\n",
    "#     # name_has_non_al_num = not all(char.isalnum() for char in product_name)\n",
    "#     # \n",
    "#     # if name_has_non_al_num:\n",
    "#     #     cleaned_product_name = remove_non_alphanumeric(product_name)\n",
    "#     #     product_cat = gemini_call.predict_product_category(cleaned_product_name)\n",
    "#     #     return product_cat\n",
    "#     # else:   \n",
    "#         product_cat = gemini_call.predict_product_category(product_name)\n",
    "#         return product_cat \n",
    "# \n",
    "# \n",
    "# # requests_counter = 0\n",
    "# for idx, row in products_df.iterrows():\n",
    "#     name_of_product = row[\"name\"]\n",
    "#     start_time = time.time()\n",
    "#     products_df[\"product_category\"] = fetch_category_name(name_of_product)\n",
    "#     end_time = time.time()\n",
    "#     print(f\"{idx}: {end_time - start_time}\")\n",
    "#     \n",
    "#     \n"
   ],
   "metadata": {
    "collapsed": false
   },
   "id": "9f70434c229c497",
   "execution_count": null
  },
  {
   "cell_type": "markdown",
   "source": [
    "### Assign cleaned dataframe to a new name"
   ],
   "metadata": {
    "collapsed": false
   },
   "id": "eef6f6ab8c27f9e6"
  },
  {
   "cell_type": "code",
   "outputs": [],
   "source": [
    "# Read csv of the final data into dataframe\n",
    "# products_clean_df = pd.read_csv(\"../data/final/6_all_products_all_columns_cleaned.csv\", index_col=0)\n",
    "# products_clean_df.head()\n",
    "products_df.to_csv(\"../data/final/7_product_category_column_added.csv\")\n",
    "products_clean_df = pd.read_csv(\"../data/final/7_product_category_column_added.csv\", index_col=0)\n",
    "products_clean_df.iloc[1783]"
   ],
   "metadata": {
    "collapsed": false
   },
   "id": "b885c742d61fe619",
   "execution_count": null
  },
  {
   "cell_type": "code",
   "outputs": [],
   "source": [
    "prod_name = products_clean_df[\"new_price\"][0]\n",
    "prod_name"
   ],
   "metadata": {
    "collapsed": false
   },
   "id": "2fed158fb30d80cb",
   "execution_count": null
  },
  {
   "cell_type": "markdown",
   "source": [
    "# DATA VISUALIZATION SECTION"
   ],
   "metadata": {
    "collapsed": false
   },
   "id": "fd11059b4f1ca555"
  },
  {
   "cell_type": "markdown",
   "source": [
    "### Summary stats of the data"
   ],
   "metadata": {
    "collapsed": false
   },
   "id": "78e2146e03531dad"
  },
  {
   "cell_type": "code",
   "outputs": [],
   "source": [
    "summary_stats = products_clean_df.describe()\n",
    "summary_stats"
   ],
   "metadata": {
    "collapsed": false
   },
   "id": "fc910e89daa67d0c",
   "execution_count": null
  },
  {
   "cell_type": "markdown",
   "source": [
    "### Deriving the correlation matrix"
   ],
   "metadata": {
    "collapsed": false
   },
   "id": "6d453bd7162baab4"
  },
  {
   "cell_type": "code",
   "outputs": [],
   "source": [
    "# Returning correlation matrix for only the numerical columns\n",
    "correlation_matrix = products_clean_df.corr(method='pearson', numeric_only=True)\n",
    "# correlation_matrix.to_csv(\"results/datafiles/pearson_correlation.csv\")\n",
    "correlation_matrix"
   ],
   "metadata": {
    "collapsed": false
   },
   "id": "7f17889fbf3e9669",
   "execution_count": null
  },
  {
   "cell_type": "code",
   "outputs": [],
   "source": [
    "plt.xticks(np.arange(len(products_clean_df.columns)), products_clean_df.columns, rotation=45)\n",
    "plt.yticks(np.arange(len(products_clean_df.columns)), products_clean_df.columns, rotation=45)\n",
    "\n",
    "sns.heatmap(correlation_matrix, annot=True, cmap='coolwarm')\n",
    "plt.title('Correlation Matrix of the Numeric Columns (Jumia data)', y=1.02)\n",
    "\n",
    "plt.savefig(\"../results/plots/1_correlation_matrix_of_Jumia_products_numeric_data.png\", bbox_inches=\"tight\",pad_inches=2)"
   ],
   "metadata": {
    "collapsed": false
   },
   "id": "73da0553a6a9cdc1",
   "execution_count": null
  },
  {
   "cell_type": "markdown",
   "source": [
    "### Visualize top-rated products with at least 200 votes"
   ],
   "metadata": {
    "collapsed": false
   },
   "id": "a20eae547fc92871"
  },
  {
   "cell_type": "code",
   "outputs": [],
   "source": [
    "# First filter for products with at least 200 votes (More votes makes a product rating more reliable)\n",
    "products_with_atleast_200_votes_df = products_clean_df[products_clean_df['votes'] >= 200]\n",
    "products_with_atleast_200_votes_df"
   ],
   "metadata": {
    "collapsed": false
   },
   "id": "495a7437e25a2ec9",
   "execution_count": null
  },
  {
   "cell_type": "code",
   "outputs": [],
   "source": [
    "# Check counts of products with rating at least 4.5\n",
    "top_rated_products_df = products_with_atleast_200_votes_df[products_with_atleast_200_votes_df['rating'] >= 4.5]\n",
    "top_rated_products_df"
   ],
   "metadata": {
    "collapsed": false
   },
   "id": "ce705bc978d2686a",
   "execution_count": null
  },
  {
   "cell_type": "code",
   "outputs": [],
   "source": [
    "# Selecting only votes & rating column before plotting\n",
    "new_top_rated_products_df = top_rated_products_df[['name','rating', 'votes']].reset_index(drop=True)\n",
    "new_top_rated_products_df"
   ],
   "metadata": {
    "collapsed": false
   },
   "id": "1cb5e0f114f4db47",
   "execution_count": null
  },
  {
   "cell_type": "code",
   "outputs": [],
   "source": [
    "# Creating a horizontal bar plot\n",
    "plt.figure(figsize=(18,10))\n",
    "\n",
    "plt.barh(new_top_rated_products_df['name'], new_top_rated_products_df['rating'])\n",
    "\n",
    "plt.title(\"Top-rated products with at least 4.5 stars and 200 Votes\")\n",
    "plt.ylabel(\"Product\", fontsize=7)\n",
    "plt.xlabel(\"Rating\")\n",
    "\n",
    "# Save the plot to file\n",
    "plt.savefig(\"../results/plots/2_products_4.5_stars_and_more_than_200_votes.png\",bbox_inches='tight',pad_inches=2)"
   ],
   "metadata": {
    "collapsed": false
   },
   "id": "ff51475d32badb4c",
   "execution_count": null
  },
  {
   "cell_type": "markdown",
   "source": [
    "### Showing product price distribution: Histogram with Kernel density estimate (kde) curve"
   ],
   "metadata": {
    "collapsed": false
   },
   "id": "f48775ee5a56cbf9"
  },
  {
   "cell_type": "code",
   "outputs": [],
   "source": [
    "plt.figure(figsize=(20, 5))\n",
    "sns.histplot(products_clean_df['new_price'], kde=True)\n",
    "plt.xlabel('Product Price')\n",
    "plt.xticks(np.arange(0, max(products_clean_df['new_price'])+1, 4000),rotation=90)\n",
    "plt.ylabel('Frequency')\n",
    "plt.title('Distribution of Product Prices')\n",
    "\n",
    "# Save the plot to file\n",
    "plt.savefig(\"../results/plots/3_product_prices_histogram_with_kernel_estimate_curve.png\",bbox_inches='tight',pad_inches=1)"
   ],
   "metadata": {
    "collapsed": false
   },
   "id": "1a8ed8fea776449c",
   "execution_count": null
  },
  {
   "cell_type": "markdown",
   "source": [
    "### Visualizing discount distribution"
   ],
   "metadata": {
    "collapsed": false
   },
   "id": "e47baac3e17ef294"
  },
  {
   "cell_type": "code",
   "outputs": [],
   "source": [
    "sns.histplot(products_clean_df['discount'])\n",
    "plt.xlabel('Discount')\n",
    "# plt.xticks(np.arange(0,max(products_clean_df['discount'])+1,0.5),rotation=90)\n",
    "plt.xticks(rotation=90)\n",
    "plt.ylabel('Frequency')\n",
    "plt.title('Distribution of Discounts')\n",
    "\n",
    "# Save the plot to file\n",
    "plt.savefig(\"../results/plots/4_product_discount_histogram.png\",bbox_inches='tight',pad_inches=1)"
   ],
   "metadata": {
    "collapsed": false
   },
   "id": "84229f6f3aff5d42",
   "execution_count": null
  },
  {
   "cell_type": "markdown",
   "source": [
    "### Visualizing rating distribution"
   ],
   "metadata": {
    "collapsed": false
   },
   "id": "d5369e7fc06e2b39"
  },
  {
   "cell_type": "code",
   "outputs": [],
   "source": [
    "sns.histplot(data=products_clean_df, x='rating')\n",
    "plt.title('Distribution of Ratings')\n",
    "plt.xticks(np.arange(1.0, max(products_clean_df['rating'])+1, 0.1),rotation=90,fontsize=8)\n",
    "plt.ylabel(\"Frequency\")\n",
    "\n",
    "# Save plot to file\n",
    "plt.savefig(\"../results/plots/5_ratings_distribution_histogram.png\", bbox_inches=\"tight\", pad_inches=1)"
   ],
   "metadata": {
    "collapsed": false
   },
   "id": "e61cbba61b0befce",
   "execution_count": null
  },
  {
   "cell_type": "markdown",
   "source": [
    "### Product Name Analysis"
   ],
   "metadata": {
    "collapsed": false
   },
   "id": "9375212852407a76"
  },
  {
   "cell_type": "code",
   "outputs": [],
   "source": [
    "words = ' '.join(products_clean_df['name']).split()\n",
    "all_words = Counter(words)\n",
    "# len(all_words)  # 4580\n",
    "\n",
    "# Returning an array of tuples with all_words & their counts, then return first 10\n",
    "all_words_counts = all_words.most_common()\n",
    "all_words_counts[:10]"
   ],
   "metadata": {
    "collapsed": false
   },
   "id": "b85078639df6b0aa",
   "execution_count": null
  },
  {
   "cell_type": "code",
   "outputs": [],
   "source": [
    "# Return only the alphabetical elements & their counts, & return the first 10\n",
    "only_alpha_words_list = [(word, count) for word, count in all_words_counts if word.isalpha()]\n",
    "only_alpha_words_list[:10]"
   ],
   "metadata": {
    "collapsed": false
   },
   "id": "e25f16d6713263ce",
   "execution_count": null
  },
  {
   "cell_type": "code",
   "outputs": [],
   "source": [
    "# Select the top 30 words\n",
    "first_30_words = only_alpha_words_list[:31]\n",
    "first_30_words\n",
    "\n",
    "# Future: Use library to remove conjuctions such as 'and' from this list"
   ],
   "metadata": {
    "collapsed": false
   },
   "id": "436ffa3e366aa11a",
   "execution_count": null
  },
  {
   "cell_type": "code",
   "outputs": [],
   "source": [
    "# Plot a chart with the first 30 words\n",
    "plt.bar([d[0] for d in first_30_words], [d[1] for d in first_30_words])\n",
    "plt.xlabel(\"Product names\")\n",
    "plt.xticks(rotation=90)\n",
    "plt.ylabel(\"Counts\")\n",
    "plt.title(\"Bar chart of Product Names & Values\")\n",
    "\n",
    "# Save plot to file\n",
    "plt.savefig(\"../results/plots/6_barchart_top_30_product_names_counts.png\", bbox_inches=\"tight\", pad_inches=1)"
   ],
   "metadata": {
    "collapsed": false
   },
   "id": "35886ec280671d34",
   "execution_count": null
  },
  {
   "cell_type": "markdown",
   "source": [
    "### Creating pairplot showing relationship between various numerical columns"
   ],
   "metadata": {
    "collapsed": false
   },
   "id": "1761542f42f8746b"
  },
  {
   "cell_type": "code",
   "outputs": [],
   "source": [
    "sns.pairplot(products_clean_df)\n",
    "plt.suptitle('Pair Plot of Numerical Features', y=1.02)\n",
    "\n",
    "# Save to file\n",
    "plt.savefig(\"../results/plots/7_pairplot_rltnships_between_all_numerical_columns.png\", bbox_inches=\"tight\", pad_inches=1)"
   ],
   "metadata": {
    "collapsed": false
   },
   "id": "ee549441690fda85",
   "execution_count": null
  },
  {
   "cell_type": "code",
   "outputs": [],
   "source": [],
   "metadata": {
    "collapsed": false
   },
   "id": "793ba1e2db383cd6",
   "execution_count": null
  }
 ],
 "metadata": {
  "kernelspec": {
   "display_name": "Python 3",
   "language": "python",
   "name": "python3"
  },
  "language_info": {
   "codemirror_mode": {
    "name": "ipython",
    "version": 2
   },
   "file_extension": ".py",
   "mimetype": "text/x-python",
   "name": "python",
   "nbconvert_exporter": "python",
   "pygments_lexer": "ipython2",
   "version": "2.7.6"
  }
 },
 "nbformat": 4,
 "nbformat_minor": 5
}
