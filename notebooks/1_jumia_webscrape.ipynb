{
 "cells": [
  {
   "cell_type": "markdown",
   "source": [
    "# Scraping Jumia Ecommerce Site: DSE HACKATHON"
   ],
   "metadata": {
    "collapsed": false
   },
   "id": "535c85fadfa6dbbb"
  },
  {
   "cell_type": "markdown",
   "source": [
    "## Import libraries"
   ],
   "metadata": {
    "collapsed": false
   },
   "id": "3e3f34666872e52c"
  },
  {
   "cell_type": "code",
   "outputs": [],
   "source": [
    "import requests as req\n",
    "from bs4 import BeautifulSoup\n",
    "import pandas as pd\n",
    "import numpy as np\n",
    "import matplotlib.pyplot as plt\n",
    "import seaborn as sns\n",
    "\n",
    "from collections import Counter\n",
    "import os\n",
    "import time\n",
    "import re\n",
    "\n",
    "import scripts.gemini_api_call as gemini_call\n",
    "import importlib"
   ],
   "metadata": {
    "collapsed": false,
    "ExecuteTime": {
     "end_time": "2024-03-07T21:21:05.955340Z",
     "start_time": "2024-03-07T21:21:05.952226Z"
    }
   },
   "id": "2322241c28235713",
   "execution_count": 176
  },
  {
   "cell_type": "code",
   "outputs": [],
   "source": [
    "# start_time = time.time()\n",
    "# product_cat = gemini_call.predict_product_category(\"Infinix Note 30 4G, 6.66\"\", 256GB + 8GB RAM (Dual SIM), 5000mAh, Obsidian Black\")\n",
    "# end_time = time.time()\n",
    "# elapsed_time = end_time - start_time\n",
    "# elapsed_time"
   ],
   "metadata": {
    "collapsed": false,
    "ExecuteTime": {
     "end_time": "2024-03-07T21:21:06.878407Z",
     "start_time": "2024-03-07T21:21:06.875818Z"
    }
   },
   "id": "5f45f53e03d47bbc",
   "execution_count": 177
  },
  {
   "cell_type": "code",
   "outputs": [],
   "source": [
    "# product_cat"
   ],
   "metadata": {
    "collapsed": false,
    "ExecuteTime": {
     "end_time": "2024-03-07T21:21:06.995660Z",
     "start_time": "2024-03-07T21:21:06.926541Z"
    }
   },
   "id": "107a91bf66e5614",
   "execution_count": 178
  },
  {
   "cell_type": "markdown",
   "source": [
    "## Define function to fetch website html data"
   ],
   "metadata": {
    "collapsed": false
   },
   "id": "8574b51e2782a8f0"
  },
  {
   "cell_type": "code",
   "outputs": [],
   "source": [
    "def fetch_html_data(web_address):\n",
    "    try:\n",
    "        # print(f\"\\nFetching data from {web_address}...\")\n",
    "        res = req.get(web_address)\n",
    "        return res\n",
    "    except req.exceptions.RequestException as e:\n",
    "        print('Stopped:', e)\n",
    "    except TypeError as e:\n",
    "        print('Stopped:', e)"
   ],
   "metadata": {
    "collapsed": false,
    "ExecuteTime": {
     "end_time": "2024-03-07T21:21:07.045300Z",
     "start_time": "2024-03-07T21:21:07.032988Z"
    }
   },
   "id": "9236e42f049c01e4",
   "execution_count": 179
  },
  {
   "cell_type": "markdown",
   "source": [
    "# Define function to convert html data to BeautifulSoup object "
   ],
   "metadata": {
    "collapsed": false
   },
   "id": "6d30a35557ea82c9"
  },
  {
   "cell_type": "code",
   "outputs": [],
   "source": [
    "def convert_web_data_to_beautiful_soup_obj(web_data):\n",
    "    try:\n",
    "        # print(\"Creating BeautifulSoup object...\")\n",
    "        soup_obj = BeautifulSoup(web_data.text, \"html.parser\")\n",
    "        # print(\"Success! Object created!\")\n",
    "        return soup_obj\n",
    "    except Exception as e:\n",
    "        print(\"Stopped:\", e)"
   ],
   "metadata": {
    "collapsed": false,
    "ExecuteTime": {
     "end_time": "2024-03-07T21:21:07.112025Z",
     "start_time": "2024-03-07T21:21:07.082096Z"
    }
   },
   "id": "5b8744ac0a8d1b34",
   "execution_count": 180
  },
  {
   "cell_type": "markdown",
   "source": [
    "### Create array of products on each page, add each to product dictionary & append to array iteratively"
   ],
   "metadata": {
    "collapsed": false
   },
   "id": "955d2f38bd1f9ba5"
  },
  {
   "cell_type": "code",
   "outputs": [],
   "source": [
    "all_products_list = []\n",
    "\n",
    "def append_one_product_details_dictionary_to_list(pg):\n",
    "    # print(f\"Appending page {pg} products' details to array\")\n",
    "    \n",
    "    page_products_details_soup = soup.find_all(\"article\", class_=\"prd _fb col c-prd\")\n",
    "    \n",
    "    for detail in page_products_details_soup:\n",
    "        details_dict = {\"name\": detail.find(\"h3\", class_=\"name\").text.strip(),\n",
    "                        \"new_price\": detail.find(\"div\", class_=\"prc\").text.strip(),\n",
    "                        \"old_price\": detail.find(\"div\", class_=\"old\").text.strip() if detail.find(\"div\", class_=\"old\") else None,\n",
    "                        \"discount\": detail.find(\"div\", class_=\"bdg _dsct _sm\").text.strip() if detail.find(\"div\", class_=\"bdg _dsct _sm\") else None,\n",
    "                        \"rating\": detail.find(\"div\", class_=\"stars _s\").text.strip() if detail.find(\"div\", class_=\"stars _s\") else None,\n",
    "                        \"votes\": detail.find(\"div\", class_=\"rev\").text.strip() if detail.find(\"div\", class_=\"rev\") else None}\n",
    "        all_products_list.append(details_dict)\n",
    "\n",
    "\n",
    "# len(product_details_clean)"
   ],
   "metadata": {
    "collapsed": false,
    "ExecuteTime": {
     "end_time": "2024-03-07T21:21:07.216709Z",
     "start_time": "2024-03-07T21:21:07.212400Z"
    }
   },
   "id": "fd4498e7166a1627",
   "execution_count": 181
  },
  {
   "cell_type": "markdown",
   "source": [
    "### Fetch webdata, convert to BeautifulSoup Object, add product details dictionary to list"
   ],
   "metadata": {
    "collapsed": false
   },
   "id": "63e09bb6ed3fba7d"
  },
  {
   "cell_type": "code",
   "outputs": [],
   "source": [
    "# Declare the products’ url & the total webpage count\n",
    "other_pages_url = \"https://www.jumia.co.ke/all-products/?page=\"\n",
    "webpage_num_total = 50\n",
    "\n",
    "# If scraped products csv doesn't exist, run the scraper function below & save products to csv ELSE continue & read csv\n",
    "if not os.path.exists('../data/raw/all_products_list_raw.csv'):\n",
    "    for page in range(1, webpage_num_total+1, 1):\n",
    "        other_pages_url = \"https://www.jumia.co.ke/all-products/?page=\"\n",
    "        page = str(page)\n",
    "        other_pages_url = other_pages_url + page\n",
    "        response = fetch_html_data(other_pages_url)\n",
    "        # time.sleep(2.5)\n",
    "        soup = convert_web_data_to_beautiful_soup_obj(response)\n",
    "        append_one_product_details_dictionary_to_list(page)\n",
    "    \n",
    "    # Convert scraped list to dataframe\n",
    "    df = pd.DataFrame(all_products_list)\n",
    "    # Save scraped dataframe to csv to prevent scraping each time I run the notebook\n",
    "    df.to_csv('../data/raw/all_products_list_raw.csv')"
   ],
   "metadata": {
    "collapsed": false,
    "ExecuteTime": {
     "end_time": "2024-03-07T21:21:07.288634Z",
     "start_time": "2024-03-07T21:21:07.272044Z"
    }
   },
   "id": "e0f2cd3991c5d999",
   "execution_count": 182
  },
  {
   "cell_type": "markdown",
   "source": [],
   "metadata": {
    "collapsed": false
   },
   "id": "323af532c7f5e70e"
  },
  {
   "cell_type": "markdown",
   "source": [
    "### Check product count"
   ],
   "metadata": {
    "collapsed": false
   },
   "id": "eb6acd584fb57e86"
  },
  {
   "cell_type": "code",
   "outputs": [
    {
     "data": {
      "text/plain": "0"
     },
     "execution_count": 183,
     "metadata": {},
     "output_type": "execute_result"
    }
   ],
   "source": [
    "# Read csv and specify index column to prevent creation of another redundant index\n",
    "products_df = pd.read_csv('../data/raw/all_products_list_raw.csv', index_col=0)  # Read products list from csv\n",
    "len(all_products_list)"
   ],
   "metadata": {
    "collapsed": false,
    "ExecuteTime": {
     "end_time": "2024-03-07T21:21:07.560867Z",
     "start_time": "2024-03-07T21:21:07.361519Z"
    }
   },
   "id": "828e8f982bcae649",
   "execution_count": 183
  },
  {
   "cell_type": "markdown",
   "source": [
    "### Inspect products list dataframe"
   ],
   "metadata": {
    "collapsed": false
   },
   "id": "ab74acb2c9f1127a"
  },
  {
   "cell_type": "code",
   "outputs": [
    {
     "data": {
      "text/plain": "                                                name   new_price   old_price  \\\n0  NIVEA Radiant & Beauty Advanced Care Lotion Fo...     KSh 854   KSh 1,460   \n1  Vitron HTC4388FS - 43\" Smart  Android Frameles...  KSh 21,506  KSh 28,599   \n2  NIVEA Perfect & Radiant Even Tone Day And Nigh...     KSh 899   KSh 1,560   \n3  AILYONS FK-0301 Stainless Steel 1.8L Electric ...     KSh 693   KSh 1,399   \n4  Nunix R5 Hot & Normal Free Standing Water Disp...   KSh 4,180         NaN   \n\n  discount        rating               votes  \n0      42%  4.7 out of 5   4.7 out of 5(636)  \n1      25%  4.2 out of 5   4.2 out of 5(335)  \n2      42%  4.5 out of 5  4.5 out of 5(2238)  \n3      50%  4.1 out of 5  4.1 out of 5(1661)  \n4      NaN  4.1 out of 5    4.1 out of 5(84)  ",
      "text/html": "<div>\n<style scoped>\n    .dataframe tbody tr th:only-of-type {\n        vertical-align: middle;\n    }\n\n    .dataframe tbody tr th {\n        vertical-align: top;\n    }\n\n    .dataframe thead th {\n        text-align: right;\n    }\n</style>\n<table border=\"1\" class=\"dataframe\">\n  <thead>\n    <tr style=\"text-align: right;\">\n      <th></th>\n      <th>name</th>\n      <th>new_price</th>\n      <th>old_price</th>\n      <th>discount</th>\n      <th>rating</th>\n      <th>votes</th>\n    </tr>\n  </thead>\n  <tbody>\n    <tr>\n      <th>0</th>\n      <td>NIVEA Radiant &amp; Beauty Advanced Care Lotion Fo...</td>\n      <td>KSh 854</td>\n      <td>KSh 1,460</td>\n      <td>42%</td>\n      <td>4.7 out of 5</td>\n      <td>4.7 out of 5(636)</td>\n    </tr>\n    <tr>\n      <th>1</th>\n      <td>Vitron HTC4388FS - 43\" Smart  Android Frameles...</td>\n      <td>KSh 21,506</td>\n      <td>KSh 28,599</td>\n      <td>25%</td>\n      <td>4.2 out of 5</td>\n      <td>4.2 out of 5(335)</td>\n    </tr>\n    <tr>\n      <th>2</th>\n      <td>NIVEA Perfect &amp; Radiant Even Tone Day And Nigh...</td>\n      <td>KSh 899</td>\n      <td>KSh 1,560</td>\n      <td>42%</td>\n      <td>4.5 out of 5</td>\n      <td>4.5 out of 5(2238)</td>\n    </tr>\n    <tr>\n      <th>3</th>\n      <td>AILYONS FK-0301 Stainless Steel 1.8L Electric ...</td>\n      <td>KSh 693</td>\n      <td>KSh 1,399</td>\n      <td>50%</td>\n      <td>4.1 out of 5</td>\n      <td>4.1 out of 5(1661)</td>\n    </tr>\n    <tr>\n      <th>4</th>\n      <td>Nunix R5 Hot &amp; Normal Free Standing Water Disp...</td>\n      <td>KSh 4,180</td>\n      <td>NaN</td>\n      <td>NaN</td>\n      <td>4.1 out of 5</td>\n      <td>4.1 out of 5(84)</td>\n    </tr>\n  </tbody>\n</table>\n</div>"
     },
     "execution_count": 184,
     "metadata": {},
     "output_type": "execute_result"
    }
   ],
   "source": [
    "products_df.head()"
   ],
   "metadata": {
    "collapsed": false,
    "ExecuteTime": {
     "end_time": "2024-03-07T21:21:07.568596Z",
     "start_time": "2024-03-07T21:21:07.562200Z"
    }
   },
   "id": "9bc1541c84ba9cf4",
   "execution_count": 184
  },
  {
   "cell_type": "code",
   "outputs": [
    {
     "name": "stdout",
     "output_type": "stream",
     "text": [
      "<class 'pandas.core.frame.DataFrame'>\n",
      "Index: 2000 entries, 0 to 1999\n",
      "Data columns (total 6 columns):\n",
      " #   Column     Non-Null Count  Dtype \n",
      "---  ------     --------------  ----- \n",
      " 0   name       2000 non-null   object\n",
      " 1   new_price  2000 non-null   object\n",
      " 2   old_price  1907 non-null   object\n",
      " 3   discount   1907 non-null   object\n",
      " 4   rating     109 non-null    object\n",
      " 5   votes      109 non-null    object\n",
      "dtypes: object(6)\n",
      "memory usage: 109.4+ KB\n"
     ]
    }
   ],
   "source": [
    "products_df.info()"
   ],
   "metadata": {
    "collapsed": false,
    "ExecuteTime": {
     "end_time": "2024-03-07T21:21:07.660321Z",
     "start_time": "2024-03-07T21:21:07.569567Z"
    }
   },
   "id": "976ec4e23bad702d",
   "execution_count": 185
  },
  {
   "cell_type": "code",
   "outputs": [
    {
     "data": {
      "text/plain": "(2000, 6)"
     },
     "execution_count": 186,
     "metadata": {},
     "output_type": "execute_result"
    }
   ],
   "source": [
    "products_df.shape"
   ],
   "metadata": {
    "collapsed": false,
    "ExecuteTime": {
     "end_time": "2024-03-07T21:21:07.730224Z",
     "start_time": "2024-03-07T21:21:07.662098Z"
    }
   },
   "id": "3933ee31fae6c09",
   "execution_count": 186
  },
  {
   "cell_type": "markdown",
   "source": [
    "# Data Cleaning Section"
   ],
   "metadata": {
    "collapsed": false
   },
   "id": "b652b6b589590347"
  },
  {
   "cell_type": "markdown",
   "source": [
    "### Clean new_price column"
   ],
   "metadata": {
    "collapsed": false
   },
   "id": "61e39b08c31c7a9a"
  },
  {
   "cell_type": "code",
   "outputs": [
    {
     "data": {
      "text/plain": "'KSh 21,506'"
     },
     "execution_count": 187,
     "metadata": {},
     "output_type": "execute_result"
    }
   ],
   "source": [
    "products_df['new_price'][1]"
   ],
   "metadata": {
    "collapsed": false,
    "ExecuteTime": {
     "end_time": "2024-03-07T21:21:07.805215Z",
     "start_time": "2024-03-07T21:21:07.731436Z"
    }
   },
   "id": "60cb73b6d6ff6d66",
   "execution_count": 187
  },
  {
   "cell_type": "code",
   "outputs": [],
   "source": [
    "# Remove currency name 'Ksh' \n",
    "products_df['new_price'] = products_df['new_price'].apply(lambda x: x.split(' ')[1] if x is not None and isinstance(x,str) else x) "
   ],
   "metadata": {
    "collapsed": false,
    "ExecuteTime": {
     "end_time": "2024-03-07T21:21:07.899428Z",
     "start_time": "2024-03-07T21:21:07.806191Z"
    }
   },
   "id": "43feba7ebc504822",
   "execution_count": 188
  },
  {
   "cell_type": "code",
   "outputs": [
    {
     "name": "stdout",
     "output_type": "stream",
     "text": [
      "<class 'str'>\n",
      "0       854\n",
      "1    21,506\n",
      "2       899\n",
      "3       693\n",
      "4     4,180\n",
      "Name: new_price, dtype: object\n"
     ]
    }
   ],
   "source": [
    "print(type(products_df['new_price'][1]))\n",
    "print(products_df['new_price'].head())"
   ],
   "metadata": {
    "collapsed": false,
    "ExecuteTime": {
     "end_time": "2024-03-07T21:21:07.996205Z",
     "start_time": "2024-03-07T21:21:07.900342Z"
    }
   },
   "id": "3dc1f9774481f6d5",
   "execution_count": 189
  },
  {
   "cell_type": "code",
   "outputs": [
    {
     "data": {
      "text/plain": "0      854\n1    21506\n2      899\n3      693\n4     4180\nName: new_price, dtype: object"
     },
     "execution_count": 190,
     "metadata": {},
     "output_type": "execute_result"
    }
   ],
   "source": [
    "# Remove comma from thousands price values\n",
    "products_df['new_price'] = products_df['new_price'].apply(lambda x: x.replace(',','') if ',' in x and isinstance(x,str) else x)\n",
    "products_df['new_price'].head()"
   ],
   "metadata": {
    "collapsed": false,
    "ExecuteTime": {
     "end_time": "2024-03-07T21:21:08.073868Z",
     "start_time": "2024-03-07T21:21:07.997139Z"
    }
   },
   "id": "207f62ef8b56ec5",
   "execution_count": 190
  },
  {
   "cell_type": "code",
   "outputs": [
    {
     "name": "stdout",
     "output_type": "stream",
     "text": [
      "<class 'str'>\n"
     ]
    }
   ],
   "source": [
    "print(type(products_df['new_price'][1]))"
   ],
   "metadata": {
    "collapsed": false,
    "ExecuteTime": {
     "end_time": "2024-03-07T21:21:08.145706Z",
     "start_time": "2024-03-07T21:21:08.075573Z"
    }
   },
   "id": "f52e790439b1338e",
   "execution_count": 191
  },
  {
   "cell_type": "code",
   "outputs": [],
   "source": [
    "# Convert new_price column to float\n",
    "products_df['new_price'] = products_df['new_price'].apply(lambda x: float(x) if x is not None else x)"
   ],
   "metadata": {
    "collapsed": false,
    "ExecuteTime": {
     "end_time": "2024-03-07T21:21:08.197245Z",
     "start_time": "2024-03-07T21:21:08.146771Z"
    }
   },
   "id": "d3db69ac88e2d60e",
   "execution_count": 192
  },
  {
   "cell_type": "code",
   "outputs": [
    {
     "name": "stdout",
     "output_type": "stream",
     "text": [
      "<class 'numpy.float64'>\n",
      "float64\n"
     ]
    }
   ],
   "source": [
    "print(type(products_df['new_price'][1]))\n",
    "print(products_df['new_price'].dtype)"
   ],
   "metadata": {
    "collapsed": false,
    "ExecuteTime": {
     "end_time": "2024-03-07T21:21:08.254859Z",
     "start_time": "2024-03-07T21:21:08.198535Z"
    }
   },
   "id": "ed24a3912631e4aa",
   "execution_count": 193
  },
  {
   "cell_type": "code",
   "outputs": [
    {
     "data": {
      "text/plain": "                                                name  new_price   old_price  \\\n0  NIVEA Radiant & Beauty Advanced Care Lotion Fo...      854.0   KSh 1,460   \n1  Vitron HTC4388FS - 43\" Smart  Android Frameles...    21506.0  KSh 28,599   \n2  NIVEA Perfect & Radiant Even Tone Day And Nigh...      899.0   KSh 1,560   \n3  AILYONS FK-0301 Stainless Steel 1.8L Electric ...      693.0   KSh 1,399   \n4  Nunix R5 Hot & Normal Free Standing Water Disp...     4180.0         NaN   \n\n  discount        rating               votes  \n0      42%  4.7 out of 5   4.7 out of 5(636)  \n1      25%  4.2 out of 5   4.2 out of 5(335)  \n2      42%  4.5 out of 5  4.5 out of 5(2238)  \n3      50%  4.1 out of 5  4.1 out of 5(1661)  \n4      NaN  4.1 out of 5    4.1 out of 5(84)  ",
      "text/html": "<div>\n<style scoped>\n    .dataframe tbody tr th:only-of-type {\n        vertical-align: middle;\n    }\n\n    .dataframe tbody tr th {\n        vertical-align: top;\n    }\n\n    .dataframe thead th {\n        text-align: right;\n    }\n</style>\n<table border=\"1\" class=\"dataframe\">\n  <thead>\n    <tr style=\"text-align: right;\">\n      <th></th>\n      <th>name</th>\n      <th>new_price</th>\n      <th>old_price</th>\n      <th>discount</th>\n      <th>rating</th>\n      <th>votes</th>\n    </tr>\n  </thead>\n  <tbody>\n    <tr>\n      <th>0</th>\n      <td>NIVEA Radiant &amp; Beauty Advanced Care Lotion Fo...</td>\n      <td>854.0</td>\n      <td>KSh 1,460</td>\n      <td>42%</td>\n      <td>4.7 out of 5</td>\n      <td>4.7 out of 5(636)</td>\n    </tr>\n    <tr>\n      <th>1</th>\n      <td>Vitron HTC4388FS - 43\" Smart  Android Frameles...</td>\n      <td>21506.0</td>\n      <td>KSh 28,599</td>\n      <td>25%</td>\n      <td>4.2 out of 5</td>\n      <td>4.2 out of 5(335)</td>\n    </tr>\n    <tr>\n      <th>2</th>\n      <td>NIVEA Perfect &amp; Radiant Even Tone Day And Nigh...</td>\n      <td>899.0</td>\n      <td>KSh 1,560</td>\n      <td>42%</td>\n      <td>4.5 out of 5</td>\n      <td>4.5 out of 5(2238)</td>\n    </tr>\n    <tr>\n      <th>3</th>\n      <td>AILYONS FK-0301 Stainless Steel 1.8L Electric ...</td>\n      <td>693.0</td>\n      <td>KSh 1,399</td>\n      <td>50%</td>\n      <td>4.1 out of 5</td>\n      <td>4.1 out of 5(1661)</td>\n    </tr>\n    <tr>\n      <th>4</th>\n      <td>Nunix R5 Hot &amp; Normal Free Standing Water Disp...</td>\n      <td>4180.0</td>\n      <td>NaN</td>\n      <td>NaN</td>\n      <td>4.1 out of 5</td>\n      <td>4.1 out of 5(84)</td>\n    </tr>\n  </tbody>\n</table>\n</div>"
     },
     "execution_count": 194,
     "metadata": {},
     "output_type": "execute_result"
    }
   ],
   "source": [
    "products_df.head()"
   ],
   "metadata": {
    "collapsed": false,
    "ExecuteTime": {
     "end_time": "2024-03-07T21:21:08.317475Z",
     "start_time": "2024-03-07T21:21:08.255888Z"
    }
   },
   "id": "2267be4bad50e9ad",
   "execution_count": 194
  },
  {
   "cell_type": "code",
   "outputs": [],
   "source": [
    "# Saving stage one (new_price) data cleaning file to csv\n",
    "products_df.to_csv(\"../data/processed/1_all_products_new_price_cleaned.csv\")"
   ],
   "metadata": {
    "collapsed": false,
    "ExecuteTime": {
     "end_time": "2024-03-07T21:21:08.443032Z",
     "start_time": "2024-03-07T21:21:08.340269Z"
    }
   },
   "id": "57e983c5bd96c79",
   "execution_count": 195
  },
  {
   "cell_type": "markdown",
   "source": [
    "### Clean old_price column"
   ],
   "metadata": {
    "collapsed": false
   },
   "id": "ba17d9026f584101"
  },
  {
   "cell_type": "code",
   "outputs": [
    {
     "data": {
      "text/plain": "array(['KSh 1,460', 'KSh 28,599', 'KSh 1,560', 'KSh 1,399', nan,\n       'KSh 1,750', 'KSh 24,999', 'KSh 4,099', 'KSh 19,999', 'KSh 1,299'],\n      dtype=object)"
     },
     "execution_count": 196,
     "metadata": {},
     "output_type": "execute_result"
    }
   ],
   "source": [
    "# Read csv file cleaned in the previous stage (new_price column) & convert to dataframe\n",
    "products_df = pd.read_csv(\"../data/processed/1_all_products_new_price_cleaned.csv\", index_col=0)\n",
    "\n",
    "# Use [:10] notation to print the first 10 values\n",
    "products_df['old_price'].unique()[:10]"
   ],
   "metadata": {
    "collapsed": false,
    "ExecuteTime": {
     "end_time": "2024-03-07T21:21:08.509423Z",
     "start_time": "2024-03-07T21:21:08.444391Z"
    }
   },
   "id": "a53355520c2f30ae",
   "execution_count": 196
  },
  {
   "cell_type": "code",
   "outputs": [
    {
     "data": {
      "text/plain": "0     1,460\n1    28,599\n2     1,560\n3     1,399\n4       NaN\nName: old_price, dtype: object"
     },
     "execution_count": 197,
     "metadata": {},
     "output_type": "execute_result"
    }
   ],
   "source": [
    "# Remove currency name 'Ksh'\n",
    "# type(products_df['old_price'][1])\n",
    "products_df['old_price'] = products_df['old_price'].apply(lambda x: x.split(' ')[1] if x is not None and isinstance(x,str) else x)\n",
    "products_df['old_price'].head()"
   ],
   "metadata": {
    "collapsed": false,
    "ExecuteTime": {
     "end_time": "2024-03-07T21:21:08.581039Z",
     "start_time": "2024-03-07T21:21:08.512773Z"
    }
   },
   "id": "5a0109a5d43e344e",
   "execution_count": 197
  },
  {
   "cell_type": "code",
   "outputs": [
    {
     "data": {
      "text/plain": "0     1460\n1    28599\n2     1560\n3     1399\n4      NaN\n5     1750\n6    24999\n7      NaN\n8     4099\n9    19999\nName: old_price, dtype: object"
     },
     "execution_count": 198,
     "metadata": {},
     "output_type": "execute_result"
    }
   ],
   "source": [
    "# Remove commas from values\n",
    "products_df['old_price'] = products_df['old_price'].apply(lambda x: x.replace(',','') if x is not None and isinstance(x,str) else x)\n",
    "products_df['old_price'].head(10)"
   ],
   "metadata": {
    "collapsed": false,
    "ExecuteTime": {
     "end_time": "2024-03-07T21:21:08.689306Z",
     "start_time": "2024-03-07T21:21:08.582171Z"
    }
   },
   "id": "1ff042daaa234273",
   "execution_count": 198
  },
  {
   "cell_type": "code",
   "outputs": [
    {
     "data": {
      "text/plain": "0     1460.0\n1    28599.0\n2     1560.0\n3     1399.0\n4        NaN\n5     1750.0\n6    24999.0\n7        NaN\n8     4099.0\n9    19999.0\nName: old_price, dtype: float64"
     },
     "execution_count": 199,
     "metadata": {},
     "output_type": "execute_result"
    }
   ],
   "source": [
    "# Convert the string values into floats\n",
    "products_df['old_price'] = products_df['old_price'].apply(lambda x: float(x) if x is not None else x)\n",
    "products_df['old_price'].head(10)"
   ],
   "metadata": {
    "collapsed": false,
    "ExecuteTime": {
     "end_time": "2024-03-07T21:21:08.765476Z",
     "start_time": "2024-03-07T21:21:08.759722Z"
    }
   },
   "id": "c8d06329519bd37",
   "execution_count": 199
  },
  {
   "cell_type": "code",
   "outputs": [
    {
     "data": {
      "text/plain": "0        1460.0\n1       28599.0\n2        1560.0\n3        1399.0\n4           NaN\n         ...   \n1995     6638.0\n1996     1284.0\n1997     5602.0\n1998     1427.0\n1999     2867.0\nName: old_price, Length: 2000, dtype: float64"
     },
     "execution_count": 200,
     "metadata": {},
     "output_type": "execute_result"
    }
   ],
   "source": [
    "products_df['old_price']"
   ],
   "metadata": {
    "collapsed": false,
    "ExecuteTime": {
     "end_time": "2024-03-07T21:21:08.881801Z",
     "start_time": "2024-03-07T21:21:08.877008Z"
    }
   },
   "id": "5a42602924adc716",
   "execution_count": 200
  },
  {
   "cell_type": "code",
   "outputs": [
    {
     "name": "stdout",
     "output_type": "stream",
     "text": [
      "<class 'numpy.float64'>\n",
      "float64\n"
     ]
    }
   ],
   "source": [
    "# Index 18 from above was null. So checking its type: \n",
    "print(type(products_df['old_price'][18]))\n",
    "print(products_df['old_price'].dtype)"
   ],
   "metadata": {
    "collapsed": false,
    "ExecuteTime": {
     "end_time": "2024-03-07T21:21:09.056910Z",
     "start_time": "2024-03-07T21:21:09.054048Z"
    }
   },
   "id": "c087a27309772dfc",
   "execution_count": 201
  },
  {
   "cell_type": "code",
   "outputs": [
    {
     "data": {
      "text/plain": "                                                name  new_price  old_price  \\\n0  NIVEA Radiant & Beauty Advanced Care Lotion Fo...      854.0     1460.0   \n1  Vitron HTC4388FS - 43\" Smart  Android Frameles...    21506.0    28599.0   \n2  NIVEA Perfect & Radiant Even Tone Day And Nigh...      899.0     1560.0   \n3  AILYONS FK-0301 Stainless Steel 1.8L Electric ...      693.0     1399.0   \n4  Nunix R5 Hot & Normal Free Standing Water Disp...     4180.0        NaN   \n\n  discount        rating               votes  \n0      42%  4.7 out of 5   4.7 out of 5(636)  \n1      25%  4.2 out of 5   4.2 out of 5(335)  \n2      42%  4.5 out of 5  4.5 out of 5(2238)  \n3      50%  4.1 out of 5  4.1 out of 5(1661)  \n4      NaN  4.1 out of 5    4.1 out of 5(84)  ",
      "text/html": "<div>\n<style scoped>\n    .dataframe tbody tr th:only-of-type {\n        vertical-align: middle;\n    }\n\n    .dataframe tbody tr th {\n        vertical-align: top;\n    }\n\n    .dataframe thead th {\n        text-align: right;\n    }\n</style>\n<table border=\"1\" class=\"dataframe\">\n  <thead>\n    <tr style=\"text-align: right;\">\n      <th></th>\n      <th>name</th>\n      <th>new_price</th>\n      <th>old_price</th>\n      <th>discount</th>\n      <th>rating</th>\n      <th>votes</th>\n    </tr>\n  </thead>\n  <tbody>\n    <tr>\n      <th>0</th>\n      <td>NIVEA Radiant &amp; Beauty Advanced Care Lotion Fo...</td>\n      <td>854.0</td>\n      <td>1460.0</td>\n      <td>42%</td>\n      <td>4.7 out of 5</td>\n      <td>4.7 out of 5(636)</td>\n    </tr>\n    <tr>\n      <th>1</th>\n      <td>Vitron HTC4388FS - 43\" Smart  Android Frameles...</td>\n      <td>21506.0</td>\n      <td>28599.0</td>\n      <td>25%</td>\n      <td>4.2 out of 5</td>\n      <td>4.2 out of 5(335)</td>\n    </tr>\n    <tr>\n      <th>2</th>\n      <td>NIVEA Perfect &amp; Radiant Even Tone Day And Nigh...</td>\n      <td>899.0</td>\n      <td>1560.0</td>\n      <td>42%</td>\n      <td>4.5 out of 5</td>\n      <td>4.5 out of 5(2238)</td>\n    </tr>\n    <tr>\n      <th>3</th>\n      <td>AILYONS FK-0301 Stainless Steel 1.8L Electric ...</td>\n      <td>693.0</td>\n      <td>1399.0</td>\n      <td>50%</td>\n      <td>4.1 out of 5</td>\n      <td>4.1 out of 5(1661)</td>\n    </tr>\n    <tr>\n      <th>4</th>\n      <td>Nunix R5 Hot &amp; Normal Free Standing Water Disp...</td>\n      <td>4180.0</td>\n      <td>NaN</td>\n      <td>NaN</td>\n      <td>4.1 out of 5</td>\n      <td>4.1 out of 5(84)</td>\n    </tr>\n  </tbody>\n</table>\n</div>"
     },
     "execution_count": 202,
     "metadata": {},
     "output_type": "execute_result"
    }
   ],
   "source": [
    "products_df.head()"
   ],
   "metadata": {
    "collapsed": false,
    "ExecuteTime": {
     "end_time": "2024-03-07T21:21:09.165569Z",
     "start_time": "2024-03-07T21:21:09.158392Z"
    }
   },
   "id": "716461a82bff9ecc",
   "execution_count": 202
  },
  {
   "cell_type": "code",
   "outputs": [],
   "source": [
    "# Saving stage two data (old_price column) cleaning dataframe to csv\n",
    "products_df.to_csv(\"../data/processed/2_all_products_old_price_cleaned.csv\")"
   ],
   "metadata": {
    "collapsed": false,
    "ExecuteTime": {
     "end_time": "2024-03-07T21:21:09.283085Z",
     "start_time": "2024-03-07T21:21:09.274318Z"
    }
   },
   "id": "a3db5d486f4261e0",
   "execution_count": 203
  },
  {
   "cell_type": "markdown",
   "source": [
    "### Cleaning 'discount' column"
   ],
   "metadata": {
    "collapsed": false
   },
   "id": "c63cd53e0523a410"
  },
  {
   "cell_type": "code",
   "outputs": [
    {
     "data": {
      "text/plain": "array(['42%', '25%', '50%', nan, '20%', '24%', '29%', '12%', '35%', '33%'],\n      dtype=object)"
     },
     "execution_count": 204,
     "metadata": {},
     "output_type": "execute_result"
    }
   ],
   "source": [
    "# Read csv file from stage 2 (old_price column cleanup) to get dataframe\n",
    "products_df = pd.read_csv(\"../data/processed/2_all_products_old_price_cleaned.csv\", index_col=0)\n",
    "\n",
    "# Use [:10] notation to print the first 10 values\n",
    "products_df['discount'].unique()[:10]"
   ],
   "metadata": {
    "collapsed": false,
    "ExecuteTime": {
     "end_time": "2024-03-07T21:21:09.353319Z",
     "start_time": "2024-03-07T21:21:09.344205Z"
    }
   },
   "id": "ec13b5b9215cdc2",
   "execution_count": 204
  },
  {
   "cell_type": "code",
   "outputs": [
    {
     "data": {
      "text/plain": "array(['42', '25', '50', nan, '20', '24', '29', '12', '35', '33', '28',\n       '40', '37', '27', '31', '47', '41', '44', '13', '30', '36', '8',\n       '43', '49', '21', '46', '18', '19', '26', '45', '32', '22', '4',\n       '48', '15', '38', '11', '34', '16', '23', '17', '1', '39', '5',\n       '14', '10', '2', '3'], dtype=object)"
     },
     "execution_count": 205,
     "metadata": {},
     "output_type": "execute_result"
    }
   ],
   "source": [
    "# Remove the percent sign\n",
    "products_df['discount'] = products_df['discount'].apply(lambda x: x.replace('%','') if x is not None and isinstance(x,str) else x)\n",
    "products_df['discount'].unique()"
   ],
   "metadata": {
    "collapsed": false,
    "ExecuteTime": {
     "end_time": "2024-03-07T21:21:09.465156Z",
     "start_time": "2024-03-07T21:21:09.459877Z"
    }
   },
   "id": "50d15c0d3acb2d34",
   "execution_count": 205
  },
  {
   "cell_type": "code",
   "outputs": [
    {
     "data": {
      "text/plain": "array([0.42, 0.25, 0.5 ,  nan, 0.2 , 0.24, 0.29, 0.12, 0.35, 0.33, 0.28,\n       0.4 , 0.37, 0.27, 0.31, 0.47, 0.41, 0.44, 0.13, 0.3 , 0.36, 0.08,\n       0.43, 0.49, 0.21, 0.46, 0.18, 0.19, 0.26, 0.45, 0.32, 0.22, 0.04,\n       0.48, 0.15, 0.38, 0.11, 0.34, 0.16, 0.23, 0.17, 0.01, 0.39, 0.05,\n       0.14, 0.1 , 0.02, 0.03])"
     },
     "execution_count": 206,
     "metadata": {},
     "output_type": "execute_result"
    }
   ],
   "source": [
    "# Convert values into float & divide by 100 to represent the percentages as decimal values\n",
    "products_df['discount'] = products_df['discount'].apply(lambda x: float(x)/100 if x is not None else x)\n",
    "products_df['discount'].unique()  # A numbers now floats and None replaced with NaN"
   ],
   "metadata": {
    "collapsed": false,
    "ExecuteTime": {
     "end_time": "2024-03-07T21:21:09.601007Z",
     "start_time": "2024-03-07T21:21:09.595394Z"
    }
   },
   "id": "2acf30f22baf5ded",
   "execution_count": 206
  },
  {
   "cell_type": "code",
   "outputs": [
    {
     "data": {
      "text/plain": "                                                name  new_price  old_price  \\\n0  NIVEA Radiant & Beauty Advanced Care Lotion Fo...      854.0     1460.0   \n1  Vitron HTC4388FS - 43\" Smart  Android Frameles...    21506.0    28599.0   \n2  NIVEA Perfect & Radiant Even Tone Day And Nigh...      899.0     1560.0   \n3  AILYONS FK-0301 Stainless Steel 1.8L Electric ...      693.0     1399.0   \n4  Nunix R5 Hot & Normal Free Standing Water Disp...     4180.0        NaN   \n\n   discount        rating               votes  \n0      0.42  4.7 out of 5   4.7 out of 5(636)  \n1      0.25  4.2 out of 5   4.2 out of 5(335)  \n2      0.42  4.5 out of 5  4.5 out of 5(2238)  \n3      0.50  4.1 out of 5  4.1 out of 5(1661)  \n4       NaN  4.1 out of 5    4.1 out of 5(84)  ",
      "text/html": "<div>\n<style scoped>\n    .dataframe tbody tr th:only-of-type {\n        vertical-align: middle;\n    }\n\n    .dataframe tbody tr th {\n        vertical-align: top;\n    }\n\n    .dataframe thead th {\n        text-align: right;\n    }\n</style>\n<table border=\"1\" class=\"dataframe\">\n  <thead>\n    <tr style=\"text-align: right;\">\n      <th></th>\n      <th>name</th>\n      <th>new_price</th>\n      <th>old_price</th>\n      <th>discount</th>\n      <th>rating</th>\n      <th>votes</th>\n    </tr>\n  </thead>\n  <tbody>\n    <tr>\n      <th>0</th>\n      <td>NIVEA Radiant &amp; Beauty Advanced Care Lotion Fo...</td>\n      <td>854.0</td>\n      <td>1460.0</td>\n      <td>0.42</td>\n      <td>4.7 out of 5</td>\n      <td>4.7 out of 5(636)</td>\n    </tr>\n    <tr>\n      <th>1</th>\n      <td>Vitron HTC4388FS - 43\" Smart  Android Frameles...</td>\n      <td>21506.0</td>\n      <td>28599.0</td>\n      <td>0.25</td>\n      <td>4.2 out of 5</td>\n      <td>4.2 out of 5(335)</td>\n    </tr>\n    <tr>\n      <th>2</th>\n      <td>NIVEA Perfect &amp; Radiant Even Tone Day And Nigh...</td>\n      <td>899.0</td>\n      <td>1560.0</td>\n      <td>0.42</td>\n      <td>4.5 out of 5</td>\n      <td>4.5 out of 5(2238)</td>\n    </tr>\n    <tr>\n      <th>3</th>\n      <td>AILYONS FK-0301 Stainless Steel 1.8L Electric ...</td>\n      <td>693.0</td>\n      <td>1399.0</td>\n      <td>0.50</td>\n      <td>4.1 out of 5</td>\n      <td>4.1 out of 5(1661)</td>\n    </tr>\n    <tr>\n      <th>4</th>\n      <td>Nunix R5 Hot &amp; Normal Free Standing Water Disp...</td>\n      <td>4180.0</td>\n      <td>NaN</td>\n      <td>NaN</td>\n      <td>4.1 out of 5</td>\n      <td>4.1 out of 5(84)</td>\n    </tr>\n  </tbody>\n</table>\n</div>"
     },
     "execution_count": 207,
     "metadata": {},
     "output_type": "execute_result"
    }
   ],
   "source": [
    "# Check head once more\n",
    "products_df.head()"
   ],
   "metadata": {
    "collapsed": false,
    "ExecuteTime": {
     "end_time": "2024-03-07T21:21:09.785267Z",
     "start_time": "2024-03-07T21:21:09.777185Z"
    }
   },
   "id": "4e83eb5e61f09d0d",
   "execution_count": 207
  },
  {
   "cell_type": "code",
   "outputs": [],
   "source": [
    "# Saving stage three data cleaning file to csv\n",
    "products_df.to_csv(\"../data/processed/3_all_products_discount_cleaned.csv\")"
   ],
   "metadata": {
    "collapsed": false,
    "ExecuteTime": {
     "end_time": "2024-03-07T21:21:09.916953Z",
     "start_time": "2024-03-07T21:21:09.907546Z"
    }
   },
   "id": "c40aa159ab2a96e2",
   "execution_count": 208
  },
  {
   "cell_type": "markdown",
   "source": [
    "### Cleaning the rating column"
   ],
   "metadata": {
    "collapsed": false
   },
   "id": "6535be48b259ac7f"
  },
  {
   "cell_type": "code",
   "outputs": [
    {
     "data": {
      "text/plain": "array(['4.7 out of 5', '4.2 out of 5', '4.5 out of 5', '4.1 out of 5',\n       '4.3 out of 5', '3.8 out of 5', '3.9 out of 5', '4 out of 5',\n       '4.4 out of 5', '4.6 out of 5'], dtype=object)"
     },
     "execution_count": 209,
     "metadata": {},
     "output_type": "execute_result"
    }
   ],
   "source": [
    "# Read file cleaned in prior stage (discount column) to get dataframe\n",
    "products_df = pd.read_csv(\"../data/processed/3_all_products_discount_cleaned.csv\", index_col=0)\n",
    "\n",
    "# Check for unique values first\n",
    "products_df['rating'].unique()[:10]"
   ],
   "metadata": {
    "collapsed": false,
    "ExecuteTime": {
     "end_time": "2024-03-07T21:21:10.017962Z",
     "start_time": "2024-03-07T21:21:09.943754Z"
    }
   },
   "id": "d64b3fc3696c1017",
   "execution_count": 209
  },
  {
   "cell_type": "code",
   "outputs": [
    {
     "data": {
      "text/plain": "array(['4.7', '4.2', '4.5', '4.1', '4.3', '3.8', '3.9', '4', '4.4', '4.6',\n       '3.6', '3.7', nan, '4.8', '3.4', '5', '1', '1.7', '2'],\n      dtype=object)"
     },
     "execution_count": 210,
     "metadata": {},
     "output_type": "execute_result"
    }
   ],
   "source": [
    "# Split rating string values into 4 elements and select the first element unless its None(left as is)\n",
    "products_df['rating'] = products_df['rating'].apply(lambda x: x.split(' ')[0] if x is not None and isinstance(x,str) else x)\n",
    "products_df['rating'].unique()"
   ],
   "metadata": {
    "collapsed": false,
    "ExecuteTime": {
     "end_time": "2024-03-07T21:21:10.214592Z",
     "start_time": "2024-03-07T21:21:10.208564Z"
    }
   },
   "id": "eca5fc6ac9c05c5b",
   "execution_count": 210
  },
  {
   "cell_type": "code",
   "outputs": [
    {
     "name": "stdout",
     "output_type": "stream",
     "text": [
      "float64\n"
     ]
    }
   ],
   "source": [
    "# Convert the values into float\n",
    "products_df['rating'] = products_df['rating'].apply(lambda x: float(x) if x is not None else x)\n",
    "print(products_df['rating'].dtype)"
   ],
   "metadata": {
    "collapsed": false,
    "ExecuteTime": {
     "end_time": "2024-03-07T21:21:10.289335Z",
     "start_time": "2024-03-07T21:21:10.285273Z"
    }
   },
   "id": "d1f3fd6eefd62dcf",
   "execution_count": 211
  },
  {
   "cell_type": "code",
   "outputs": [
    {
     "data": {
      "text/plain": "                                                 name  new_price  old_price  \\\n0   NIVEA Radiant & Beauty Advanced Care Lotion Fo...      854.0     1460.0   \n1   Vitron HTC4388FS - 43\" Smart  Android Frameles...    21506.0    28599.0   \n2   NIVEA Perfect & Radiant Even Tone Day And Nigh...      899.0     1560.0   \n3   AILYONS FK-0301 Stainless Steel 1.8L Electric ...      693.0     1399.0   \n4   Nunix R5 Hot & Normal Free Standing Water Disp...     4180.0        NaN   \n5   Garnier Anti-Blemish Charcoal Serum With AHA +...     1400.0     1750.0   \n6   Tecno Spark 10 , 6.6\" FHD,128GB ROM+8GB RAM, 5...    18999.0    24999.0   \n7   AILYONS FK-0301 Stainless Steel 1.8L Electric ...      628.0        NaN   \n8   AILYONS ELP2404K 2.1CH SubWoofer Home Theatrer...     2906.0     4099.0   \n9   Nokia C32, 64GB + 4GB (Upto 7GB RAM) 5000MAh, ...    17599.0    19999.0   \n10  Garnier Even & Matte  Vitamin C Booster Serum ...      850.0        NaN   \n11  AILYONS HD-198A Electric Dry Iron Box White & ...      839.0     1299.0   \n12      Hikers 32'' Digital Frameless HD LED TV-Black    11590.0    17357.0   \n13  Rashnik RN-999 2 In 1 Blender & Grinder –1.5L ...     1624.0        NaN   \n14  Vision Plus VP8832DF 32\" HD Frameless Digital ...    11550.0    15995.0   \n15  Garnier Even & Matte Vitamin C Protection Crea...      960.0     1200.0   \n16        Stereo F9 Bluetooth Earphone  Power Headset      612.0     1014.0   \n17  NIVEA MEN Deep Antibacterial Anti-Perspirant R...      655.0     1040.0   \n18  AILYONS TYB-205 Blender 2In1 With GrinderMachi...     1899.0     2599.0   \n19  AILYONS HD-199A Electric Dry Iron Box Silver &...      969.0     1399.0   \n\n    discount  rating               votes  \n0       0.42     4.7   4.7 out of 5(636)  \n1       0.25     4.2   4.2 out of 5(335)  \n2       0.42     4.5  4.5 out of 5(2238)  \n3       0.50     4.1  4.1 out of 5(1661)  \n4        NaN     4.1    4.1 out of 5(84)  \n5       0.20     4.3  4.3 out of 5(1455)  \n6       0.24     3.8    3.8 out of 5(17)  \n7        NaN     4.7     4.7 out of 5(6)  \n8       0.29     3.9    3.9 out of 5(98)  \n9       0.12     4.3    4.3 out of 5(95)  \n10       NaN     4.2   4.2 out of 5(747)  \n11      0.35     4.0     4 out of 5(926)  \n12      0.33     4.2   4.2 out of 5(215)  \n13       NaN     4.3    4.3 out of 5(77)  \n14      0.28     4.0     4 out of 5(367)  \n15      0.20     4.4   4.4 out of 5(985)  \n16      0.40     3.9  3.9 out of 5(1113)  \n17      0.37     4.6   4.6 out of 5(631)  \n18      0.27     4.3   4.3 out of 5(239)  \n19      0.31     4.0     4 out of 5(622)  ",
      "text/html": "<div>\n<style scoped>\n    .dataframe tbody tr th:only-of-type {\n        vertical-align: middle;\n    }\n\n    .dataframe tbody tr th {\n        vertical-align: top;\n    }\n\n    .dataframe thead th {\n        text-align: right;\n    }\n</style>\n<table border=\"1\" class=\"dataframe\">\n  <thead>\n    <tr style=\"text-align: right;\">\n      <th></th>\n      <th>name</th>\n      <th>new_price</th>\n      <th>old_price</th>\n      <th>discount</th>\n      <th>rating</th>\n      <th>votes</th>\n    </tr>\n  </thead>\n  <tbody>\n    <tr>\n      <th>0</th>\n      <td>NIVEA Radiant &amp; Beauty Advanced Care Lotion Fo...</td>\n      <td>854.0</td>\n      <td>1460.0</td>\n      <td>0.42</td>\n      <td>4.7</td>\n      <td>4.7 out of 5(636)</td>\n    </tr>\n    <tr>\n      <th>1</th>\n      <td>Vitron HTC4388FS - 43\" Smart  Android Frameles...</td>\n      <td>21506.0</td>\n      <td>28599.0</td>\n      <td>0.25</td>\n      <td>4.2</td>\n      <td>4.2 out of 5(335)</td>\n    </tr>\n    <tr>\n      <th>2</th>\n      <td>NIVEA Perfect &amp; Radiant Even Tone Day And Nigh...</td>\n      <td>899.0</td>\n      <td>1560.0</td>\n      <td>0.42</td>\n      <td>4.5</td>\n      <td>4.5 out of 5(2238)</td>\n    </tr>\n    <tr>\n      <th>3</th>\n      <td>AILYONS FK-0301 Stainless Steel 1.8L Electric ...</td>\n      <td>693.0</td>\n      <td>1399.0</td>\n      <td>0.50</td>\n      <td>4.1</td>\n      <td>4.1 out of 5(1661)</td>\n    </tr>\n    <tr>\n      <th>4</th>\n      <td>Nunix R5 Hot &amp; Normal Free Standing Water Disp...</td>\n      <td>4180.0</td>\n      <td>NaN</td>\n      <td>NaN</td>\n      <td>4.1</td>\n      <td>4.1 out of 5(84)</td>\n    </tr>\n    <tr>\n      <th>5</th>\n      <td>Garnier Anti-Blemish Charcoal Serum With AHA +...</td>\n      <td>1400.0</td>\n      <td>1750.0</td>\n      <td>0.20</td>\n      <td>4.3</td>\n      <td>4.3 out of 5(1455)</td>\n    </tr>\n    <tr>\n      <th>6</th>\n      <td>Tecno Spark 10 , 6.6\" FHD,128GB ROM+8GB RAM, 5...</td>\n      <td>18999.0</td>\n      <td>24999.0</td>\n      <td>0.24</td>\n      <td>3.8</td>\n      <td>3.8 out of 5(17)</td>\n    </tr>\n    <tr>\n      <th>7</th>\n      <td>AILYONS FK-0301 Stainless Steel 1.8L Electric ...</td>\n      <td>628.0</td>\n      <td>NaN</td>\n      <td>NaN</td>\n      <td>4.7</td>\n      <td>4.7 out of 5(6)</td>\n    </tr>\n    <tr>\n      <th>8</th>\n      <td>AILYONS ELP2404K 2.1CH SubWoofer Home Theatrer...</td>\n      <td>2906.0</td>\n      <td>4099.0</td>\n      <td>0.29</td>\n      <td>3.9</td>\n      <td>3.9 out of 5(98)</td>\n    </tr>\n    <tr>\n      <th>9</th>\n      <td>Nokia C32, 64GB + 4GB (Upto 7GB RAM) 5000MAh, ...</td>\n      <td>17599.0</td>\n      <td>19999.0</td>\n      <td>0.12</td>\n      <td>4.3</td>\n      <td>4.3 out of 5(95)</td>\n    </tr>\n    <tr>\n      <th>10</th>\n      <td>Garnier Even &amp; Matte  Vitamin C Booster Serum ...</td>\n      <td>850.0</td>\n      <td>NaN</td>\n      <td>NaN</td>\n      <td>4.2</td>\n      <td>4.2 out of 5(747)</td>\n    </tr>\n    <tr>\n      <th>11</th>\n      <td>AILYONS HD-198A Electric Dry Iron Box White &amp; ...</td>\n      <td>839.0</td>\n      <td>1299.0</td>\n      <td>0.35</td>\n      <td>4.0</td>\n      <td>4 out of 5(926)</td>\n    </tr>\n    <tr>\n      <th>12</th>\n      <td>Hikers 32'' Digital Frameless HD LED TV-Black</td>\n      <td>11590.0</td>\n      <td>17357.0</td>\n      <td>0.33</td>\n      <td>4.2</td>\n      <td>4.2 out of 5(215)</td>\n    </tr>\n    <tr>\n      <th>13</th>\n      <td>Rashnik RN-999 2 In 1 Blender &amp; Grinder –1.5L ...</td>\n      <td>1624.0</td>\n      <td>NaN</td>\n      <td>NaN</td>\n      <td>4.3</td>\n      <td>4.3 out of 5(77)</td>\n    </tr>\n    <tr>\n      <th>14</th>\n      <td>Vision Plus VP8832DF 32\" HD Frameless Digital ...</td>\n      <td>11550.0</td>\n      <td>15995.0</td>\n      <td>0.28</td>\n      <td>4.0</td>\n      <td>4 out of 5(367)</td>\n    </tr>\n    <tr>\n      <th>15</th>\n      <td>Garnier Even &amp; Matte Vitamin C Protection Crea...</td>\n      <td>960.0</td>\n      <td>1200.0</td>\n      <td>0.20</td>\n      <td>4.4</td>\n      <td>4.4 out of 5(985)</td>\n    </tr>\n    <tr>\n      <th>16</th>\n      <td>Stereo F9 Bluetooth Earphone  Power Headset</td>\n      <td>612.0</td>\n      <td>1014.0</td>\n      <td>0.40</td>\n      <td>3.9</td>\n      <td>3.9 out of 5(1113)</td>\n    </tr>\n    <tr>\n      <th>17</th>\n      <td>NIVEA MEN Deep Antibacterial Anti-Perspirant R...</td>\n      <td>655.0</td>\n      <td>1040.0</td>\n      <td>0.37</td>\n      <td>4.6</td>\n      <td>4.6 out of 5(631)</td>\n    </tr>\n    <tr>\n      <th>18</th>\n      <td>AILYONS TYB-205 Blender 2In1 With GrinderMachi...</td>\n      <td>1899.0</td>\n      <td>2599.0</td>\n      <td>0.27</td>\n      <td>4.3</td>\n      <td>4.3 out of 5(239)</td>\n    </tr>\n    <tr>\n      <th>19</th>\n      <td>AILYONS HD-199A Electric Dry Iron Box Silver &amp;...</td>\n      <td>969.0</td>\n      <td>1399.0</td>\n      <td>0.31</td>\n      <td>4.0</td>\n      <td>4 out of 5(622)</td>\n    </tr>\n  </tbody>\n</table>\n</div>"
     },
     "execution_count": 212,
     "metadata": {},
     "output_type": "execute_result"
    }
   ],
   "source": [
    "products_df.head(20)"
   ],
   "metadata": {
    "collapsed": false,
    "ExecuteTime": {
     "end_time": "2024-03-07T21:21:10.480007Z",
     "start_time": "2024-03-07T21:21:10.468964Z"
    }
   },
   "id": "6f35b7c6bec53f92",
   "execution_count": 212
  },
  {
   "cell_type": "code",
   "outputs": [],
   "source": [
    "# Saving stage four data cleaning file to csv\n",
    "products_df.to_csv(\"../data/processed/4_all_products_rating_cleaned.csv\")"
   ],
   "metadata": {
    "collapsed": false,
    "ExecuteTime": {
     "end_time": "2024-03-07T21:21:10.591066Z",
     "start_time": "2024-03-07T21:21:10.581502Z"
    }
   },
   "id": "277a8145e3ba6fba",
   "execution_count": 213
  },
  {
   "cell_type": "markdown",
   "source": [
    "### Cleaning the 'votes' column"
   ],
   "metadata": {
    "collapsed": false
   },
   "id": "a4d6415ea873b0d1"
  },
  {
   "cell_type": "code",
   "outputs": [
    {
     "data": {
      "text/plain": "array(['4.7 out of 5(636)', '4.2 out of 5(335)', '4.5 out of 5(2238)',\n       '4.1 out of 5(1661)', '4.1 out of 5(84)', '4.3 out of 5(1455)',\n       '3.8 out of 5(17)', '4.7 out of 5(6)', '3.9 out of 5(98)',\n       '4.3 out of 5(95)'], dtype=object)"
     },
     "execution_count": 214,
     "metadata": {},
     "output_type": "execute_result"
    }
   ],
   "source": [
    "# Read csv file saved in prior cleaning stage (rating column) to obtain dataframe\n",
    "products_df = pd.read_csv(\"../data/processed/4_all_products_rating_cleaned.csv\", index_col=0)\n",
    "\n",
    "# Explore unique values\n",
    "products_df['votes'].unique()[:10]"
   ],
   "metadata": {
    "collapsed": false,
    "ExecuteTime": {
     "end_time": "2024-03-07T21:21:10.692335Z",
     "start_time": "2024-03-07T21:21:10.673166Z"
    }
   },
   "id": "a961defaeec97dd7",
   "execution_count": 214
  },
  {
   "cell_type": "code",
   "outputs": [
    {
     "data": {
      "text/plain": "array([ 636.,  335., 2238., 1661.,   84., 1455.,   17.,    6.,   98.,\n         95.,  747.,  926.,  215.,   77.,  367.])"
     },
     "execution_count": 215,
     "metadata": {},
     "output_type": "execute_result"
    }
   ],
   "source": [
    "# Extract the votes count with string manipulation methods & convert values to floats\n",
    "products_df['votes'] = products_df['votes'].apply(lambda x: float(x.split('(')[1].split(')')[0]) if x is not None and isinstance(x,str) else x)\n",
    "products_df['votes'].unique()[:15]"
   ],
   "metadata": {
    "collapsed": false,
    "ExecuteTime": {
     "end_time": "2024-03-07T21:21:10.773294Z",
     "start_time": "2024-03-07T21:21:10.741924Z"
    }
   },
   "id": "a5ffc888a7d31fec",
   "execution_count": 215
  },
  {
   "cell_type": "code",
   "outputs": [
    {
     "data": {
      "text/plain": "                                                 name  new_price  old_price  \\\n0   NIVEA Radiant & Beauty Advanced Care Lotion Fo...      854.0     1460.0   \n1   Vitron HTC4388FS - 43\" Smart  Android Frameles...    21506.0    28599.0   \n2   NIVEA Perfect & Radiant Even Tone Day And Nigh...      899.0     1560.0   \n3   AILYONS FK-0301 Stainless Steel 1.8L Electric ...      693.0     1399.0   \n4   Nunix R5 Hot & Normal Free Standing Water Disp...     4180.0        NaN   \n5   Garnier Anti-Blemish Charcoal Serum With AHA +...     1400.0     1750.0   \n6   Tecno Spark 10 , 6.6\" FHD,128GB ROM+8GB RAM, 5...    18999.0    24999.0   \n7   AILYONS FK-0301 Stainless Steel 1.8L Electric ...      628.0        NaN   \n8   AILYONS ELP2404K 2.1CH SubWoofer Home Theatrer...     2906.0     4099.0   \n9   Nokia C32, 64GB + 4GB (Upto 7GB RAM) 5000MAh, ...    17599.0    19999.0   \n10  Garnier Even & Matte  Vitamin C Booster Serum ...      850.0        NaN   \n11  AILYONS HD-198A Electric Dry Iron Box White & ...      839.0     1299.0   \n12      Hikers 32'' Digital Frameless HD LED TV-Black    11590.0    17357.0   \n13  Rashnik RN-999 2 In 1 Blender & Grinder –1.5L ...     1624.0        NaN   \n14  Vision Plus VP8832DF 32\" HD Frameless Digital ...    11550.0    15995.0   \n15  Garnier Even & Matte Vitamin C Protection Crea...      960.0     1200.0   \n16        Stereo F9 Bluetooth Earphone  Power Headset      612.0     1014.0   \n17  NIVEA MEN Deep Antibacterial Anti-Perspirant R...      655.0     1040.0   \n18  AILYONS TYB-205 Blender 2In1 With GrinderMachi...     1899.0     2599.0   \n19  AILYONS HD-199A Electric Dry Iron Box Silver &...      969.0     1399.0   \n\n    discount  rating   votes  \n0       0.42     4.7   636.0  \n1       0.25     4.2   335.0  \n2       0.42     4.5  2238.0  \n3       0.50     4.1  1661.0  \n4        NaN     4.1    84.0  \n5       0.20     4.3  1455.0  \n6       0.24     3.8    17.0  \n7        NaN     4.7     6.0  \n8       0.29     3.9    98.0  \n9       0.12     4.3    95.0  \n10       NaN     4.2   747.0  \n11      0.35     4.0   926.0  \n12      0.33     4.2   215.0  \n13       NaN     4.3    77.0  \n14      0.28     4.0   367.0  \n15      0.20     4.4   985.0  \n16      0.40     3.9  1113.0  \n17      0.37     4.6   631.0  \n18      0.27     4.3   239.0  \n19      0.31     4.0   622.0  ",
      "text/html": "<div>\n<style scoped>\n    .dataframe tbody tr th:only-of-type {\n        vertical-align: middle;\n    }\n\n    .dataframe tbody tr th {\n        vertical-align: top;\n    }\n\n    .dataframe thead th {\n        text-align: right;\n    }\n</style>\n<table border=\"1\" class=\"dataframe\">\n  <thead>\n    <tr style=\"text-align: right;\">\n      <th></th>\n      <th>name</th>\n      <th>new_price</th>\n      <th>old_price</th>\n      <th>discount</th>\n      <th>rating</th>\n      <th>votes</th>\n    </tr>\n  </thead>\n  <tbody>\n    <tr>\n      <th>0</th>\n      <td>NIVEA Radiant &amp; Beauty Advanced Care Lotion Fo...</td>\n      <td>854.0</td>\n      <td>1460.0</td>\n      <td>0.42</td>\n      <td>4.7</td>\n      <td>636.0</td>\n    </tr>\n    <tr>\n      <th>1</th>\n      <td>Vitron HTC4388FS - 43\" Smart  Android Frameles...</td>\n      <td>21506.0</td>\n      <td>28599.0</td>\n      <td>0.25</td>\n      <td>4.2</td>\n      <td>335.0</td>\n    </tr>\n    <tr>\n      <th>2</th>\n      <td>NIVEA Perfect &amp; Radiant Even Tone Day And Nigh...</td>\n      <td>899.0</td>\n      <td>1560.0</td>\n      <td>0.42</td>\n      <td>4.5</td>\n      <td>2238.0</td>\n    </tr>\n    <tr>\n      <th>3</th>\n      <td>AILYONS FK-0301 Stainless Steel 1.8L Electric ...</td>\n      <td>693.0</td>\n      <td>1399.0</td>\n      <td>0.50</td>\n      <td>4.1</td>\n      <td>1661.0</td>\n    </tr>\n    <tr>\n      <th>4</th>\n      <td>Nunix R5 Hot &amp; Normal Free Standing Water Disp...</td>\n      <td>4180.0</td>\n      <td>NaN</td>\n      <td>NaN</td>\n      <td>4.1</td>\n      <td>84.0</td>\n    </tr>\n    <tr>\n      <th>5</th>\n      <td>Garnier Anti-Blemish Charcoal Serum With AHA +...</td>\n      <td>1400.0</td>\n      <td>1750.0</td>\n      <td>0.20</td>\n      <td>4.3</td>\n      <td>1455.0</td>\n    </tr>\n    <tr>\n      <th>6</th>\n      <td>Tecno Spark 10 , 6.6\" FHD,128GB ROM+8GB RAM, 5...</td>\n      <td>18999.0</td>\n      <td>24999.0</td>\n      <td>0.24</td>\n      <td>3.8</td>\n      <td>17.0</td>\n    </tr>\n    <tr>\n      <th>7</th>\n      <td>AILYONS FK-0301 Stainless Steel 1.8L Electric ...</td>\n      <td>628.0</td>\n      <td>NaN</td>\n      <td>NaN</td>\n      <td>4.7</td>\n      <td>6.0</td>\n    </tr>\n    <tr>\n      <th>8</th>\n      <td>AILYONS ELP2404K 2.1CH SubWoofer Home Theatrer...</td>\n      <td>2906.0</td>\n      <td>4099.0</td>\n      <td>0.29</td>\n      <td>3.9</td>\n      <td>98.0</td>\n    </tr>\n    <tr>\n      <th>9</th>\n      <td>Nokia C32, 64GB + 4GB (Upto 7GB RAM) 5000MAh, ...</td>\n      <td>17599.0</td>\n      <td>19999.0</td>\n      <td>0.12</td>\n      <td>4.3</td>\n      <td>95.0</td>\n    </tr>\n    <tr>\n      <th>10</th>\n      <td>Garnier Even &amp; Matte  Vitamin C Booster Serum ...</td>\n      <td>850.0</td>\n      <td>NaN</td>\n      <td>NaN</td>\n      <td>4.2</td>\n      <td>747.0</td>\n    </tr>\n    <tr>\n      <th>11</th>\n      <td>AILYONS HD-198A Electric Dry Iron Box White &amp; ...</td>\n      <td>839.0</td>\n      <td>1299.0</td>\n      <td>0.35</td>\n      <td>4.0</td>\n      <td>926.0</td>\n    </tr>\n    <tr>\n      <th>12</th>\n      <td>Hikers 32'' Digital Frameless HD LED TV-Black</td>\n      <td>11590.0</td>\n      <td>17357.0</td>\n      <td>0.33</td>\n      <td>4.2</td>\n      <td>215.0</td>\n    </tr>\n    <tr>\n      <th>13</th>\n      <td>Rashnik RN-999 2 In 1 Blender &amp; Grinder –1.5L ...</td>\n      <td>1624.0</td>\n      <td>NaN</td>\n      <td>NaN</td>\n      <td>4.3</td>\n      <td>77.0</td>\n    </tr>\n    <tr>\n      <th>14</th>\n      <td>Vision Plus VP8832DF 32\" HD Frameless Digital ...</td>\n      <td>11550.0</td>\n      <td>15995.0</td>\n      <td>0.28</td>\n      <td>4.0</td>\n      <td>367.0</td>\n    </tr>\n    <tr>\n      <th>15</th>\n      <td>Garnier Even &amp; Matte Vitamin C Protection Crea...</td>\n      <td>960.0</td>\n      <td>1200.0</td>\n      <td>0.20</td>\n      <td>4.4</td>\n      <td>985.0</td>\n    </tr>\n    <tr>\n      <th>16</th>\n      <td>Stereo F9 Bluetooth Earphone  Power Headset</td>\n      <td>612.0</td>\n      <td>1014.0</td>\n      <td>0.40</td>\n      <td>3.9</td>\n      <td>1113.0</td>\n    </tr>\n    <tr>\n      <th>17</th>\n      <td>NIVEA MEN Deep Antibacterial Anti-Perspirant R...</td>\n      <td>655.0</td>\n      <td>1040.0</td>\n      <td>0.37</td>\n      <td>4.6</td>\n      <td>631.0</td>\n    </tr>\n    <tr>\n      <th>18</th>\n      <td>AILYONS TYB-205 Blender 2In1 With GrinderMachi...</td>\n      <td>1899.0</td>\n      <td>2599.0</td>\n      <td>0.27</td>\n      <td>4.3</td>\n      <td>239.0</td>\n    </tr>\n    <tr>\n      <th>19</th>\n      <td>AILYONS HD-199A Electric Dry Iron Box Silver &amp;...</td>\n      <td>969.0</td>\n      <td>1399.0</td>\n      <td>0.31</td>\n      <td>4.0</td>\n      <td>622.0</td>\n    </tr>\n  </tbody>\n</table>\n</div>"
     },
     "execution_count": 216,
     "metadata": {},
     "output_type": "execute_result"
    }
   ],
   "source": [
    "products_df.head(20)"
   ],
   "metadata": {
    "collapsed": false,
    "ExecuteTime": {
     "end_time": "2024-03-07T21:21:10.875393Z",
     "start_time": "2024-03-07T21:21:10.864466Z"
    }
   },
   "id": "66caa8a96b465dda",
   "execution_count": 216
  },
  {
   "cell_type": "code",
   "outputs": [],
   "source": [
    "# Saving stage five data cleaning file to csv\n",
    "products_df.to_csv(\"../data/processed/5_all_products_votes_cleaned.csv\")"
   ],
   "metadata": {
    "collapsed": false,
    "ExecuteTime": {
     "end_time": "2024-03-07T21:21:11.037177Z",
     "start_time": "2024-03-07T21:21:11.026151Z"
    }
   },
   "id": "290751887549d0ac",
   "execution_count": 217
  },
  {
   "cell_type": "markdown",
   "source": [
    "## Dealing with null values"
   ],
   "metadata": {
    "collapsed": false
   },
   "id": "8360f1fa230100d6"
  },
  {
   "cell_type": "code",
   "outputs": [],
   "source": [
    "# Read csv file from prior cleaning (votes column) to get dataframe\n",
    "products_df = pd.read_csv(\"../data/processed/5_all_products_votes_cleaned.csv\", index_col=0)"
   ],
   "metadata": {
    "collapsed": false,
    "ExecuteTime": {
     "end_time": "2024-03-07T21:21:11.115817Z",
     "start_time": "2024-03-07T21:21:11.096534Z"
    }
   },
   "id": "452c48f38f354b5c",
   "execution_count": 218
  },
  {
   "cell_type": "code",
   "outputs": [
    {
     "data": {
      "text/plain": "'rating'"
     },
     "execution_count": 219,
     "metadata": {},
     "output_type": "execute_result"
    }
   ],
   "source": [
    "products_df.isnull().sum().idxmax()"
   ],
   "metadata": {
    "collapsed": false,
    "ExecuteTime": {
     "end_time": "2024-03-07T21:21:11.188284Z",
     "start_time": "2024-03-07T21:21:11.153473Z"
    }
   },
   "id": "d1c27fb48422c189",
   "execution_count": 219
  },
  {
   "cell_type": "code",
   "outputs": [
    {
     "name": "stdout",
     "output_type": "stream",
     "text": [
      "new_price nulls: 0\n",
      "old_price nulls: 93\n",
      "discount nulls: 93\n",
      "rating nulls: 1891\n",
      "votes nulls: 1891\n"
     ]
    }
   ],
   "source": [
    "print(f\"new_price nulls: {products_df.new_price.isnull().sum()}\")\n",
    "print(f\"old_price nulls: {products_df.old_price.isnull().sum()}\")\n",
    "print(f\"discount nulls: {products_df.discount.isnull().sum()}\")\n",
    "print(f\"rating nulls: {products_df.rating.isnull().sum()}\")\n",
    "print(f\"votes nulls: {products_df.votes.isnull().sum()}\")"
   ],
   "metadata": {
    "collapsed": false,
    "ExecuteTime": {
     "end_time": "2024-03-07T21:21:11.332434Z",
     "start_time": "2024-03-07T21:21:11.328047Z"
    }
   },
   "id": "2d9bc0842829d800",
   "execution_count": 220
  },
  {
   "cell_type": "markdown",
   "source": [
    "### Fill null values in discount column "
   ],
   "metadata": {
    "collapsed": false
   },
   "id": "efa6eb2106b26f19"
  },
  {
   "cell_type": "code",
   "outputs": [
    {
     "data": {
      "text/plain": "0"
     },
     "execution_count": 221,
     "metadata": {},
     "output_type": "execute_result"
    }
   ],
   "source": [
    "# Use discount column average to fill nulls\n",
    "products_df['discount'] = products_df['discount'].fillna(round(products_df['discount'].mean(), 2))\n",
    "products_df.discount.isnull().sum()"
   ],
   "metadata": {
    "collapsed": false,
    "ExecuteTime": {
     "end_time": "2024-03-07T21:21:11.631684Z",
     "start_time": "2024-03-07T21:21:11.627386Z"
    }
   },
   "id": "ee9f7bc26a3bc3fa",
   "execution_count": 221
  },
  {
   "cell_type": "markdown",
   "source": [
    "### Fill null values in old_price based on the discount column average"
   ],
   "metadata": {
    "collapsed": false
   },
   "id": "b58cfdfd7e23339d"
  },
  {
   "cell_type": "code",
   "outputs": [
    {
     "data": {
      "text/plain": "0"
     },
     "execution_count": 222,
     "metadata": {},
     "output_type": "execute_result"
    }
   ],
   "source": [
    "def multiply_fill_old_price_column_nulls(row):\n",
    "    new_price = row['new_price']\n",
    "    discount_column_mean = round(products_df['discount'].mean(), 2)\n",
    "    \n",
    "    if not pd.isna(row['old_price']):\n",
    "        return row['old_price']\n",
    "    return new_price * discount_column_mean\n",
    "        \n",
    "products_df['old_price'] = products_df.apply(multiply_fill_old_price_column_nulls, axis=1)\n",
    "products_df.old_price.isnull().sum()"
   ],
   "metadata": {
    "collapsed": false,
    "ExecuteTime": {
     "end_time": "2024-03-07T21:21:11.797556Z",
     "start_time": "2024-03-07T21:21:11.700584Z"
    }
   },
   "id": "3fc0bcf69968daa6",
   "execution_count": 222
  },
  {
   "cell_type": "markdown",
   "source": [
    "### Fill rating nulls with column mean"
   ],
   "metadata": {
    "collapsed": false
   },
   "id": "cf70e7e1f9911927"
  },
  {
   "cell_type": "code",
   "outputs": [
    {
     "data": {
      "text/plain": "0"
     },
     "execution_count": 223,
     "metadata": {},
     "output_type": "execute_result"
    }
   ],
   "source": [
    "products_df['rating'] = products_df['rating'].fillna(round(products_df['rating'].mean(), 2))\n",
    "products_df.rating.isnull().sum()\n",
    "# type(products_df['rating'][1])"
   ],
   "metadata": {
    "collapsed": false,
    "ExecuteTime": {
     "end_time": "2024-03-07T21:21:11.826535Z",
     "start_time": "2024-03-07T21:21:11.821978Z"
    }
   },
   "id": "dc565092d5410a93",
   "execution_count": 223
  },
  {
   "cell_type": "markdown",
   "source": [
    "### Fill votes nulls with column mean"
   ],
   "metadata": {
    "collapsed": false
   },
   "id": "f1d51583019ecf17"
  },
  {
   "cell_type": "code",
   "outputs": [
    {
     "data": {
      "text/plain": "0"
     },
     "execution_count": 224,
     "metadata": {},
     "output_type": "execute_result"
    }
   ],
   "source": [
    "products_df['votes'] = products_df['votes'].fillna(round(products_df['votes'].mean(), 2))\n",
    "products_df.votes.isnull().sum()"
   ],
   "metadata": {
    "collapsed": false,
    "ExecuteTime": {
     "end_time": "2024-03-07T21:21:11.889429Z",
     "start_time": "2024-03-07T21:21:11.869237Z"
    }
   },
   "id": "26d9317308bb6eff",
   "execution_count": 224
  },
  {
   "cell_type": "markdown",
   "source": [
    "## Rechecking nulls for all columns again"
   ],
   "metadata": {
    "collapsed": false
   },
   "id": "29425339dd1d081c"
  },
  {
   "cell_type": "code",
   "outputs": [
    {
     "name": "stdout",
     "output_type": "stream",
     "text": [
      "new_price nulls: 0\n",
      "old_price nulls: 0\n",
      "discount nulls: 0\n",
      "rating nulls: 0\n",
      "votes nulls: 0\n"
     ]
    }
   ],
   "source": [
    "print(f\"new_price nulls: {products_df.new_price.isnull().sum()}\")\n",
    "print(f\"old_price nulls: {products_df.old_price.isnull().sum()}\")\n",
    "print(f\"discount nulls: {products_df.discount.isnull().sum()}\")\n",
    "print(f\"rating nulls: {products_df.rating.isnull().sum()}\")\n",
    "print(f\"votes nulls: {products_df.votes.isnull().sum()}\")"
   ],
   "metadata": {
    "collapsed": false,
    "ExecuteTime": {
     "end_time": "2024-03-07T21:21:11.970816Z",
     "start_time": "2024-03-07T21:21:11.966653Z"
    }
   },
   "id": "55b62f1efa8d3649",
   "execution_count": 225
  },
  {
   "cell_type": "code",
   "outputs": [
    {
     "data": {
      "text/plain": "                                                name  new_price  old_price  \\\n0  NIVEA Radiant & Beauty Advanced Care Lotion Fo...      854.0    1460.00   \n1  Vitron HTC4388FS - 43\" Smart  Android Frameles...    21506.0   28599.00   \n2  NIVEA Perfect & Radiant Even Tone Day And Nigh...      899.0    1560.00   \n3  AILYONS FK-0301 Stainless Steel 1.8L Electric ...      693.0    1399.00   \n4  Nunix R5 Hot & Normal Free Standing Water Disp...     4180.0    1713.80   \n5  Garnier Anti-Blemish Charcoal Serum With AHA +...     1400.0    1750.00   \n6  Tecno Spark 10 , 6.6\" FHD,128GB ROM+8GB RAM, 5...    18999.0   24999.00   \n7  AILYONS FK-0301 Stainless Steel 1.8L Electric ...      628.0     257.48   \n8  AILYONS ELP2404K 2.1CH SubWoofer Home Theatrer...     2906.0    4099.00   \n9  Nokia C32, 64GB + 4GB (Upto 7GB RAM) 5000MAh, ...    17599.0   19999.00   \n\n   discount  rating   votes  \n0      0.42     4.7   636.0  \n1      0.25     4.2   335.0  \n2      0.42     4.5  2238.0  \n3      0.50     4.1  1661.0  \n4      0.41     4.1    84.0  \n5      0.20     4.3  1455.0  \n6      0.24     3.8    17.0  \n7      0.41     4.7     6.0  \n8      0.29     3.9    98.0  \n9      0.12     4.3    95.0  ",
      "text/html": "<div>\n<style scoped>\n    .dataframe tbody tr th:only-of-type {\n        vertical-align: middle;\n    }\n\n    .dataframe tbody tr th {\n        vertical-align: top;\n    }\n\n    .dataframe thead th {\n        text-align: right;\n    }\n</style>\n<table border=\"1\" class=\"dataframe\">\n  <thead>\n    <tr style=\"text-align: right;\">\n      <th></th>\n      <th>name</th>\n      <th>new_price</th>\n      <th>old_price</th>\n      <th>discount</th>\n      <th>rating</th>\n      <th>votes</th>\n    </tr>\n  </thead>\n  <tbody>\n    <tr>\n      <th>0</th>\n      <td>NIVEA Radiant &amp; Beauty Advanced Care Lotion Fo...</td>\n      <td>854.0</td>\n      <td>1460.00</td>\n      <td>0.42</td>\n      <td>4.7</td>\n      <td>636.0</td>\n    </tr>\n    <tr>\n      <th>1</th>\n      <td>Vitron HTC4388FS - 43\" Smart  Android Frameles...</td>\n      <td>21506.0</td>\n      <td>28599.00</td>\n      <td>0.25</td>\n      <td>4.2</td>\n      <td>335.0</td>\n    </tr>\n    <tr>\n      <th>2</th>\n      <td>NIVEA Perfect &amp; Radiant Even Tone Day And Nigh...</td>\n      <td>899.0</td>\n      <td>1560.00</td>\n      <td>0.42</td>\n      <td>4.5</td>\n      <td>2238.0</td>\n    </tr>\n    <tr>\n      <th>3</th>\n      <td>AILYONS FK-0301 Stainless Steel 1.8L Electric ...</td>\n      <td>693.0</td>\n      <td>1399.00</td>\n      <td>0.50</td>\n      <td>4.1</td>\n      <td>1661.0</td>\n    </tr>\n    <tr>\n      <th>4</th>\n      <td>Nunix R5 Hot &amp; Normal Free Standing Water Disp...</td>\n      <td>4180.0</td>\n      <td>1713.80</td>\n      <td>0.41</td>\n      <td>4.1</td>\n      <td>84.0</td>\n    </tr>\n    <tr>\n      <th>5</th>\n      <td>Garnier Anti-Blemish Charcoal Serum With AHA +...</td>\n      <td>1400.0</td>\n      <td>1750.00</td>\n      <td>0.20</td>\n      <td>4.3</td>\n      <td>1455.0</td>\n    </tr>\n    <tr>\n      <th>6</th>\n      <td>Tecno Spark 10 , 6.6\" FHD,128GB ROM+8GB RAM, 5...</td>\n      <td>18999.0</td>\n      <td>24999.00</td>\n      <td>0.24</td>\n      <td>3.8</td>\n      <td>17.0</td>\n    </tr>\n    <tr>\n      <th>7</th>\n      <td>AILYONS FK-0301 Stainless Steel 1.8L Electric ...</td>\n      <td>628.0</td>\n      <td>257.48</td>\n      <td>0.41</td>\n      <td>4.7</td>\n      <td>6.0</td>\n    </tr>\n    <tr>\n      <th>8</th>\n      <td>AILYONS ELP2404K 2.1CH SubWoofer Home Theatrer...</td>\n      <td>2906.0</td>\n      <td>4099.00</td>\n      <td>0.29</td>\n      <td>3.9</td>\n      <td>98.0</td>\n    </tr>\n    <tr>\n      <th>9</th>\n      <td>Nokia C32, 64GB + 4GB (Upto 7GB RAM) 5000MAh, ...</td>\n      <td>17599.0</td>\n      <td>19999.00</td>\n      <td>0.12</td>\n      <td>4.3</td>\n      <td>95.0</td>\n    </tr>\n  </tbody>\n</table>\n</div>"
     },
     "execution_count": 226,
     "metadata": {},
     "output_type": "execute_result"
    }
   ],
   "source": [
    "products_df.head(10)"
   ],
   "metadata": {
    "collapsed": false,
    "ExecuteTime": {
     "end_time": "2024-03-07T21:21:12.154437Z",
     "start_time": "2024-03-07T21:21:12.145541Z"
    }
   },
   "id": "588d350a15fc6da7",
   "execution_count": 226
  },
  {
   "cell_type": "code",
   "outputs": [
    {
     "name": "stdout",
     "output_type": "stream",
     "text": [
      "<class 'pandas.core.frame.DataFrame'>\n",
      "Index: 2000 entries, 0 to 1999\n",
      "Data columns (total 6 columns):\n",
      " #   Column     Non-Null Count  Dtype  \n",
      "---  ------     --------------  -----  \n",
      " 0   name       2000 non-null   object \n",
      " 1   new_price  2000 non-null   float64\n",
      " 2   old_price  2000 non-null   float64\n",
      " 3   discount   2000 non-null   float64\n",
      " 4   rating     2000 non-null   float64\n",
      " 5   votes      2000 non-null   float64\n",
      "dtypes: float64(5), object(1)\n",
      "memory usage: 109.4+ KB\n"
     ]
    }
   ],
   "source": [
    "products_df.info()"
   ],
   "metadata": {
    "collapsed": false,
    "ExecuteTime": {
     "end_time": "2024-03-07T21:21:12.207697Z",
     "start_time": "2024-03-07T21:21:12.188301Z"
    }
   },
   "id": "19ec052175ee6565",
   "execution_count": 227
  },
  {
   "cell_type": "code",
   "outputs": [],
   "source": [
    "# Saving stage 6 data cleaning file to csv\n",
    "products_df.to_csv(\"../data/final/6_all_products_all_columns_cleaned.csv\")"
   ],
   "metadata": {
    "collapsed": false,
    "ExecuteTime": {
     "end_time": "2024-03-07T21:21:12.285788Z",
     "start_time": "2024-03-07T21:21:12.275282Z"
    }
   },
   "id": "46bd4a1d5e8a650e",
   "execution_count": 228
  },
  {
   "cell_type": "markdown",
   "source": [
    "### Generate product categories in a new column using GEMINI API generative AI (based on product names as prompt)>"
   ],
   "metadata": {
    "collapsed": false
   },
   "id": "7551f19782a71511"
  },
  {
   "cell_type": "code",
   "outputs": [
    {
     "name": "stdout",
     "output_type": "stream",
     "text": [
      "0: 4.415119171142578\n",
      "1: 0.9720652103424072\n",
      "2: 1.8266639709472656\n",
      "3: 0.9230210781097412\n",
      "4: 1.11472487449646\n",
      "5: 1.2182362079620361\n",
      "6: 0.9361598491668701\n",
      "7: 1.1025378704071045\n",
      "8: 1.1368043422698975\n",
      "9: 0.9764914512634277\n",
      "10: 1.80694580078125\n",
      "11: 1.1243925094604492\n",
      "12: 0.9103589057922363\n",
      "13: 1.434683084487915\n",
      "14: 1.0265867710113525\n",
      "15: 1.420227289199829\n",
      "16: 1.0092792510986328\n",
      "17: 1.1186411380767822\n",
      "18: 1.1984169483184814\n",
      "19: 0.9637138843536377\n",
      "20: 1.211083173751831\n",
      "21: 1.1495280265808105\n",
      "22: 4.078986167907715\n",
      "23: 1.1742942333221436\n",
      "24: 1.1187467575073242\n",
      "25: 0.9558913707733154\n",
      "26: 1.2687044143676758\n",
      "27: 0.9541358947753906\n",
      "28: 1.1451442241668701\n",
      "29: 1.0302715301513672\n",
      "30: 1.462479591369629\n",
      "31: 0.8960638046264648\n",
      "32: 1.1342658996582031\n",
      "33: 1.3210792541503906\n",
      "34: 1.1006824970245361\n",
      "35: 1.2153310775756836\n",
      "36: 1.4302737712860107\n",
      "37: 0.8853967189788818\n",
      "38: 0.9131584167480469\n",
      "39: 1.3934025764465332\n",
      "40: 0.9404721260070801\n",
      "41: 1.6028659343719482\n",
      "42: 1.0713376998901367\n",
      "43: 2.6978201866149902\n",
      "44: 2.9960339069366455\n",
      "45: 0.984602689743042\n",
      "46: 1.071230173110962\n",
      "47: 2.4104554653167725\n",
      "48: 1.3261375427246094\n",
      "49: 1.814781665802002\n",
      "50: 0.8883504867553711\n",
      "51: 2.3429901599884033\n",
      "52: 1.1114044189453125\n",
      "53: 0.9220211505889893\n",
      "54: 1.0000855922698975\n",
      "55: 0.8992445468902588\n",
      "56: 1.4129178524017334\n",
      "57: 0.9181497097015381\n",
      "58: 1.0394291877746582\n",
      "59: 0.9237143993377686\n",
      "60: 1.340864896774292\n",
      "61: 1.328573226928711\n",
      "62: 0.8909957408905029\n",
      "63: 1.2233755588531494\n",
      "64: 1.0327718257904053\n",
      "65: 0.887376070022583\n",
      "66: 0.9024889469146729\n",
      "67: 1.5818040370941162\n",
      "68: 1.7120680809020996\n",
      "69: 1.0653719902038574\n",
      "70: 2.0134894847869873\n",
      "71: 1.539933681488037\n",
      "72: 0.997403621673584\n",
      "73: 0.875272274017334\n",
      "74: 2.6280713081359863\n",
      "75: 0.8646941184997559\n",
      "76: 1.0211210250854492\n",
      "77: 0.9633607864379883\n",
      "78: 0.9757370948791504\n",
      "79: 1.1513628959655762\n",
      "80: 0.9388465881347656\n",
      "81: 1.1207966804504395\n",
      "82: 0.9473116397857666\n",
      "83: 0.947831392288208\n",
      "84: 1.0392146110534668\n",
      "85: 1.1815645694732666\n",
      "86: 1.5580370426177979\n",
      "87: 1.415437936782837\n",
      "88: 1.3564629554748535\n",
      "89: 1.0146064758300781\n",
      "90: 0.8640787601470947\n",
      "91: 0.8838512897491455\n",
      "92: 1.5887935161590576\n",
      "93: 0.9355454444885254\n",
      "94: 1.1509590148925781\n",
      "95: 1.0594615936279297\n",
      "96: 0.9413721561431885\n",
      "97: 1.5055747032165527\n",
      "98: 0.8471980094909668\n",
      "99: 1.7115373611450195\n",
      "100: 0.9560849666595459\n",
      "101: 0.8687453269958496\n",
      "102: 1.2265238761901855\n",
      "103: 1.6708128452301025\n",
      "104: 1.2950568199157715\n",
      "105: 1.0542922019958496\n",
      "106: 0.8239712715148926\n",
      "107: 0.9590234756469727\n",
      "108: 0.9598991870880127\n",
      "109: 1.03513503074646\n",
      "110: 0.9199860095977783\n",
      "111: 1.0232901573181152\n",
      "112: 0.9356927871704102\n",
      "113: 2.07358980178833\n",
      "114: 1.162564754486084\n",
      "115: 0.9946174621582031\n",
      "116: 1.4410021305084229\n",
      "117: 1.015594244003296\n",
      "118: 0.8824188709259033\n",
      "119: 1.4544425010681152\n",
      "120: 1.5052258968353271\n",
      "121: 1.2950694561004639\n",
      "122: 0.9240570068359375\n",
      "123: 0.9318492412567139\n",
      "124: 1.651378870010376\n",
      "125: 1.4564495086669922\n",
      "126: 0.9270944595336914\n",
      "127: 1.0020673274993896\n",
      "128: 0.8986804485321045\n",
      "129: 0.9740450382232666\n",
      "130: 1.0480811595916748\n",
      "131: 1.0599315166473389\n",
      "132: 0.9278295040130615\n",
      "133: 1.2589199542999268\n",
      "134: 1.106292963027954\n",
      "135: 1.0195300579071045\n",
      "136: 1.0208888053894043\n",
      "137: 0.8646979331970215\n",
      "138: 1.3172388076782227\n",
      "139: 2.118375778198242\n",
      "140: 1.0143373012542725\n",
      "141: 1.9027864933013916\n",
      "142: 0.9047346115112305\n",
      "143: 1.7395615577697754\n",
      "144: 1.2298827171325684\n",
      "145: 1.1645405292510986\n",
      "146: 0.9091708660125732\n",
      "147: 0.9336824417114258\n",
      "148: 0.9055559635162354\n",
      "149: 1.1951065063476562\n",
      "150: 0.9081161022186279\n",
      "151: 1.4870152473449707\n",
      "152: 1.0493290424346924\n",
      "153: 1.0420746803283691\n",
      "154: 1.3167190551757812\n",
      "155: 2.4237048625946045\n",
      "156: 0.9141099452972412\n",
      "157: 0.9110136032104492\n",
      "158: 1.727076768875122\n",
      "159: 3.612095832824707\n",
      "160: 1.0426828861236572\n",
      "161: 1.0605716705322266\n",
      "162: 1.8203110694885254\n",
      "163: 1.537696123123169\n",
      "164: 0.9665794372558594\n",
      "165: 0.9547297954559326\n",
      "166: 0.9186146259307861\n",
      "167: 1.0033423900604248\n",
      "168: 1.0631091594696045\n",
      "169: 0.9497404098510742\n",
      "170: 0.927509069442749\n",
      "171: 0.8960146903991699\n",
      "172: 1.4237630367279053\n",
      "173: 1.029242753982544\n",
      "174: 0.9511077404022217\n",
      "175: 0.9116590023040771\n",
      "176: 1.0172195434570312\n",
      "177: 1.2854127883911133\n",
      "178: 1.242347002029419\n",
      "179: 0.9690802097320557\n",
      "180: 1.685102939605713\n",
      "181: 0.8808629512786865\n",
      "182: 0.8402245044708252\n",
      "183: 1.6091408729553223\n",
      "184: 2.04526948928833\n",
      "185: 1.003488540649414\n",
      "186: 0.9364638328552246\n",
      "187: 1.5431177616119385\n",
      "188: 1.1160821914672852\n",
      "189: 0.9191899299621582\n",
      "190: 3.8698036670684814\n",
      "191: 5.080034255981445\n",
      "192: 0.9856233596801758\n",
      "193: 1.1636521816253662\n",
      "194: 1.9106738567352295\n",
      "195: 0.9079375267028809\n",
      "196: 0.9340856075286865\n",
      "197: 2.158353328704834\n",
      "198: 0.9181399345397949\n",
      "199: 1.356715440750122\n",
      "200: 0.8784728050231934\n",
      "201: 1.0003812313079834\n",
      "202: 1.0485186576843262\n",
      "203: 1.0425782203674316\n",
      "204: 1.1935806274414062\n",
      "205: 1.2583410739898682\n",
      "206: 1.7744593620300293\n",
      "207: 0.9421448707580566\n",
      "208: 1.2129113674163818\n",
      "209: 0.9057388305664062\n",
      "210: 1.476653814315796\n",
      "211: 1.0293455123901367\n",
      "212: 1.1172597408294678\n",
      "213: 1.1629292964935303\n",
      "214: 0.9161639213562012\n",
      "215: 1.2004787921905518\n",
      "216: 1.039125680923462\n",
      "217: 0.9209334850311279\n",
      "218: 1.2813806533813477\n",
      "219: 0.9969692230224609\n",
      "220: 0.967322587966919\n",
      "221: 0.9967033863067627\n",
      "222: 0.8992335796356201\n",
      "223: 1.2324120998382568\n",
      "224: 1.0431671142578125\n",
      "225: 1.0478036403656006\n",
      "226: 0.8734619617462158\n",
      "227: 1.9064674377441406\n",
      "228: 1.088852882385254\n",
      "229: 0.8970930576324463\n",
      "230: 1.5001614093780518\n",
      "231: 1.0681922435760498\n",
      "232: 1.0426950454711914\n",
      "233: 1.1381173133850098\n",
      "234: 1.0448930263519287\n",
      "235: 1.0233871936798096\n",
      "236: 1.4627890586853027\n",
      "237: 0.8964579105377197\n",
      "238: 0.9439306259155273\n",
      "239: 1.0014212131500244\n",
      "240: 1.0041470527648926\n",
      "241: 1.380608320236206\n",
      "242: 1.124094009399414\n",
      "243: 0.8543293476104736\n",
      "244: 1.3266079425811768\n",
      "245: 0.9717836380004883\n",
      "246: 0.976898193359375\n",
      "247: 0.9318029880523682\n",
      "248: 0.9318933486938477\n",
      "249: 0.9314777851104736\n",
      "250: 1.088883399963379\n",
      "251: 0.8462016582489014\n",
      "252: 1.0554993152618408\n",
      "253: 1.0370962619781494\n",
      "254: 0.9268515110015869\n",
      "255: 0.9454159736633301\n",
      "256: 1.3642230033874512\n",
      "257: 1.0850775241851807\n",
      "258: 0.9194447994232178\n",
      "259: 0.9075868129730225\n",
      "260: 1.139791488647461\n",
      "261: 0.8940761089324951\n",
      "262: 1.0932245254516602\n",
      "263: 0.9827849864959717\n",
      "264: 1.0845379829406738\n",
      "265: 0.8797643184661865\n",
      "266: 0.8949604034423828\n",
      "267: 0.9215364456176758\n",
      "268: 1.7076220512390137\n",
      "269: 3.5461809635162354\n",
      "270: 0.8935582637786865\n",
      "271: 0.929084300994873\n",
      "272: 0.9960529804229736\n",
      "273: 0.9469759464263916\n",
      "274: 0.9930558204650879\n",
      "275: 0.9520459175109863\n",
      "276: 0.9339065551757812\n",
      "277: 1.0942754745483398\n",
      "278: 0.9684882164001465\n",
      "279: 1.0249865055084229\n",
      "280: 0.8883941173553467\n",
      "281: 0.9267644882202148\n",
      "282: 0.9112734794616699\n",
      "283: 1.2089135646820068\n",
      "284: 0.9008195400238037\n",
      "285: 0.8851675987243652\n",
      "286: 1.348203182220459\n",
      "287: 0.9502618312835693\n",
      "288: 1.2016117572784424\n",
      "289: 0.921454906463623\n",
      "290: 0.9861934185028076\n",
      "291: 0.9916143417358398\n",
      "292: 1.0562083721160889\n",
      "293: 1.0342512130737305\n",
      "294: 1.463866949081421\n",
      "295: 1.3050289154052734\n",
      "296: 0.9769759178161621\n",
      "297: 0.8781173229217529\n",
      "298: 1.0727574825286865\n",
      "299: 0.9594385623931885\n",
      "300: 1.2843785285949707\n",
      "301: 3.1402692794799805\n",
      "302: 1.3624966144561768\n",
      "303: 1.4702301025390625\n",
      "304: 0.9453842639923096\n",
      "305: 0.922914981842041\n",
      "306: 1.0778491497039795\n",
      "307: 1.3645126819610596\n",
      "308: 0.921196699142456\n",
      "309: 1.3694863319396973\n",
      "310: 0.9620728492736816\n",
      "311: 1.0005323886871338\n",
      "312: 1.0799143314361572\n",
      "313: 1.1515450477600098\n",
      "314: 1.431380271911621\n",
      "315: 1.304680347442627\n",
      "316: 0.8655745983123779\n",
      "317: 0.8940563201904297\n",
      "318: 0.9571456909179688\n",
      "319: 0.9241986274719238\n",
      "320: 0.9091014862060547\n",
      "321: 0.9464325904846191\n",
      "322: 1.2101705074310303\n",
      "323: 1.1258010864257812\n",
      "324: 1.4840281009674072\n",
      "325: 0.9454693794250488\n",
      "326: 0.8654639720916748\n",
      "327: 0.8688297271728516\n",
      "328: 1.1122562885284424\n",
      "329: 0.9237866401672363\n",
      "330: 0.9361214637756348\n",
      "331: 0.9152941703796387\n",
      "332: 0.8856635093688965\n",
      "333: 0.9580156803131104\n",
      "334: 1.1081087589263916\n",
      "335: 2.7777693271636963\n",
      "336: 1.008056879043579\n",
      "337: 1.0394597053527832\n",
      "338: 3.1092710494995117\n",
      "339: 1.1346378326416016\n",
      "340: 1.542027473449707\n",
      "341: 1.2335200309753418\n",
      "342: 1.0528786182403564\n",
      "343: 1.350513219833374\n",
      "344: 1.0070388317108154\n",
      "345: 1.000164270401001\n",
      "346: 0.9948093891143799\n",
      "347: 1.0320565700531006\n",
      "348: 0.9835646152496338\n",
      "349: 1.007720708847046\n",
      "350: 3.276298761367798\n",
      "351: 1.4500927925109863\n",
      "352: 0.9613361358642578\n",
      "353: 1.0595636367797852\n",
      "354: 0.9171288013458252\n",
      "355: 0.9306361675262451\n",
      "356: 1.169429063796997\n",
      "357: 1.0861201286315918\n",
      "358: 0.8775055408477783\n",
      "359: 1.0834004878997803\n",
      "360: 0.9702403545379639\n",
      "361: 1.4543452262878418\n",
      "362: 2.354883909225464\n",
      "363: 0.8652615547180176\n",
      "364: 1.412083387374878\n",
      "365: 0.9074504375457764\n",
      "366: 1.6590526103973389\n",
      "367: 1.1862187385559082\n",
      "368: 0.8881113529205322\n",
      "369: 1.2745537757873535\n",
      "370: 1.3068029880523682\n",
      "371: 1.8172693252563477\n",
      "372: 0.9422891139984131\n",
      "373: 1.1552071571350098\n",
      "374: 1.0593953132629395\n",
      "375: 1.0016098022460938\n",
      "376: 0.9530987739562988\n",
      "377: 0.9148874282836914\n",
      "378: 1.0736827850341797\n",
      "379: 3.327665328979492\n",
      "380: 0.9031522274017334\n",
      "381: 0.9801645278930664\n",
      "382: 0.8891229629516602\n",
      "383: 1.0068199634552002\n",
      "384: 0.8713793754577637\n",
      "385: 0.862436056137085\n",
      "386: 1.2145764827728271\n",
      "387: 1.0065255165100098\n",
      "388: 0.888519287109375\n",
      "389: 1.0512118339538574\n",
      "390: 0.9365420341491699\n",
      "391: 0.9387953281402588\n",
      "392: 1.1205041408538818\n",
      "393: 1.3426809310913086\n",
      "394: 0.9976673126220703\n",
      "395: 0.9323301315307617\n",
      "396: 1.3322877883911133\n",
      "397: 0.9227707386016846\n",
      "398: 1.4089863300323486\n",
      "399: 0.9831688404083252\n",
      "400: 0.8322737216949463\n",
      "401: 1.0296683311462402\n",
      "402: 0.9207849502563477\n",
      "403: 0.9379982948303223\n",
      "404: 1.9109346866607666\n",
      "405: 0.8715457916259766\n",
      "406: 0.8728055953979492\n",
      "407: 1.0523591041564941\n",
      "408: 0.9240717887878418\n",
      "409: 0.9173367023468018\n",
      "410: 1.1955738067626953\n",
      "411: 1.12442946434021\n",
      "412: 1.0898182392120361\n",
      "413: 1.0800654888153076\n",
      "414: 0.9906473159790039\n",
      "415: 1.15144681930542\n",
      "416: 1.8428444862365723\n",
      "417: 0.9167039394378662\n",
      "418: 0.8869314193725586\n",
      "419: 4.394410610198975\n",
      "420: 1.10392165184021\n",
      "421: 1.342952013015747\n",
      "422: 1.0155718326568604\n",
      "423: 0.8664247989654541\n",
      "424: 0.9138867855072021\n",
      "425: 1.3528859615325928\n",
      "426: 0.9328014850616455\n",
      "427: 0.9831769466400146\n",
      "428: 0.955125093460083\n",
      "429: 1.3857088088989258\n",
      "430: 1.0130729675292969\n",
      "431: 1.6756870746612549\n",
      "432: 1.28354811668396\n",
      "433: 1.0174882411956787\n",
      "434: 1.1369764804840088\n",
      "435: 1.2909955978393555\n",
      "436: 1.195683240890503\n",
      "437: 1.1468708515167236\n",
      "438: 2.5345709323883057\n",
      "439: 1.3671472072601318\n",
      "440: 1.2317559719085693\n",
      "441: 2.0877041816711426\n",
      "442: 0.8232097625732422\n",
      "443: 0.8944029808044434\n",
      "444: 1.6716513633728027\n",
      "445: 4.536747932434082\n",
      "446: 1.1116666793823242\n",
      "447: 1.1169474124908447\n",
      "448: 1.0666749477386475\n",
      "449: 1.4982223510742188\n",
      "450: 1.0217373371124268\n",
      "451: 0.987123966217041\n",
      "452: 0.9612762928009033\n",
      "453: 0.912541389465332\n",
      "454: 0.9915139675140381\n",
      "455: 1.1416001319885254\n",
      "456: 0.9108676910400391\n",
      "457: 1.2879817485809326\n",
      "458: 1.4042901992797852\n",
      "459: 0.992175817489624\n",
      "460: 0.9696619510650635\n",
      "461: 1.4933369159698486\n",
      "462: 1.2352631092071533\n",
      "463: 0.9906084537506104\n",
      "464: 0.8889663219451904\n",
      "465: 0.8718945980072021\n",
      "466: 1.2324910163879395\n",
      "467: 1.217792272567749\n",
      "468: 1.0713615417480469\n",
      "469: 0.8903365135192871\n",
      "470: 1.1983630657196045\n",
      "471: 1.0026443004608154\n",
      "472: 3.069074869155884\n",
      "473: 1.448103666305542\n",
      "474: 0.9343481063842773\n",
      "475: 1.0614984035491943\n",
      "476: 0.9277126789093018\n",
      "477: 1.9637641906738281\n",
      "478: 0.8977043628692627\n",
      "479: 1.346287727355957\n",
      "480: 1.3053874969482422\n",
      "481: 0.9505617618560791\n",
      "482: 0.9345481395721436\n",
      "483: 1.9485900402069092\n",
      "484: 0.833282470703125\n",
      "485: 0.9133641719818115\n",
      "486: 1.1225907802581787\n",
      "487: 1.1640803813934326\n",
      "488: 1.0413284301757812\n",
      "489: 1.1145548820495605\n",
      "490: 0.9288830757141113\n",
      "491: 0.9084162712097168\n",
      "492: 1.107635736465454\n",
      "493: 1.0845973491668701\n",
      "494: 1.0030534267425537\n",
      "495: 0.9774746894836426\n",
      "496: 0.9518318176269531\n",
      "497: 1.972792387008667\n",
      "498: 0.986602783203125\n",
      "499: 0.9401998519897461\n",
      "500: 0.9650452136993408\n",
      "501: 1.3080525398254395\n",
      "502: 0.9143781661987305\n",
      "503: 0.9188783168792725\n",
      "504: 0.9237892627716064\n",
      "505: 0.9188730716705322\n",
      "506: 0.8727502822875977\n",
      "507: 0.8714478015899658\n",
      "508: 2.8926618099212646\n",
      "509: 1.051048994064331\n",
      "510: 0.9091343879699707\n",
      "511: 1.18450927734375\n",
      "512: 0.9262161254882812\n",
      "513: 2.2338078022003174\n",
      "514: 1.386373519897461\n",
      "515: 0.8777143955230713\n",
      "516: 1.1486561298370361\n",
      "517: 0.9041924476623535\n",
      "518: 1.2118077278137207\n",
      "519: 1.0558040142059326\n",
      "520: 0.8830864429473877\n",
      "521: 0.9731349945068359\n",
      "522: 1.3119902610778809\n",
      "523: 0.924997091293335\n",
      "524: 0.9466469287872314\n",
      "525: 0.9129338264465332\n",
      "526: 0.9038138389587402\n",
      "527: 1.3124454021453857\n",
      "528: 1.1187050342559814\n",
      "529: 1.071016550064087\n",
      "530: 0.8944623470306396\n",
      "531: 0.8857882022857666\n",
      "532: 0.961003303527832\n",
      "533: 1.181938886642456\n",
      "534: 0.9150912761688232\n",
      "535: 0.9979605674743652\n",
      "536: 0.9102144241333008\n",
      "537: 1.0808818340301514\n",
      "538: 1.1533610820770264\n",
      "539: 1.0784327983856201\n",
      "540: 0.9791862964630127\n",
      "541: 0.9747600555419922\n",
      "542: 1.0900378227233887\n",
      "543: 1.0499603748321533\n",
      "544: 0.9687261581420898\n",
      "545: 3.7029852867126465\n",
      "546: 1.2866175174713135\n",
      "547: 1.0818822383880615\n",
      "548: 1.6964492797851562\n",
      "549: 0.9187743663787842\n",
      "550: 1.288041114807129\n",
      "551: 0.9763014316558838\n",
      "552: 0.8782477378845215\n",
      "553: 1.1251575946807861\n",
      "554: 1.1387662887573242\n",
      "555: 1.1689105033874512\n",
      "556: 1.1386969089508057\n",
      "557: 0.922069787979126\n",
      "558: 1.1542022228240967\n",
      "559: 1.194899320602417\n",
      "560: 0.9275224208831787\n",
      "561: 1.0389752388000488\n",
      "562: 1.0172932147979736\n",
      "563: 1.6758754253387451\n",
      "564: 1.5704965591430664\n",
      "565: 2.0215606689453125\n",
      "566: 0.9169108867645264\n",
      "567: 0.9240257740020752\n",
      "568: 1.863788366317749\n",
      "569: 0.9173593521118164\n",
      "570: 0.9458210468292236\n",
      "571: 0.9729568958282471\n",
      "572: 0.8734133243560791\n",
      "573: 1.052032709121704\n",
      "574: 1.143993854522705\n",
      "575: 0.8769707679748535\n",
      "576: 2.8114609718322754\n",
      "577: 0.8647534847259521\n",
      "578: 1.0742735862731934\n",
      "579: 0.872481107711792\n",
      "580: 1.0295464992523193\n",
      "581: 1.4093351364135742\n",
      "582: 1.0018689632415771\n",
      "583: 0.9085869789123535\n",
      "584: 0.8655495643615723\n",
      "585: 0.9432635307312012\n",
      "586: 0.9372200965881348\n",
      "587: 1.219449758529663\n",
      "588: 1.0289616584777832\n",
      "589: 1.0483283996582031\n",
      "590: 0.9124407768249512\n",
      "591: 0.9708473682403564\n",
      "592: 1.356745719909668\n",
      "593: 1.0351195335388184\n",
      "594: 0.9869711399078369\n",
      "595: 1.5731289386749268\n",
      "596: 1.3333046436309814\n",
      "597: 2.1594619750976562\n",
      "598: 1.0593769550323486\n",
      "599: 1.331263780593872\n",
      "600: 0.8674249649047852\n",
      "601: 1.236396074295044\n",
      "602: 0.894716739654541\n",
      "603: 1.2962374687194824\n",
      "604: 2.116199016571045\n",
      "605: 1.0450212955474854\n",
      "606: 1.3847873210906982\n",
      "607: 1.5081791877746582\n",
      "608: 2.1433141231536865\n",
      "609: 1.0645065307617188\n",
      "610: 0.9654204845428467\n",
      "611: 1.4513750076293945\n",
      "612: 1.019803762435913\n",
      "613: 1.102553367614746\n",
      "614: 1.2146878242492676\n",
      "615: 0.884502649307251\n",
      "616: 1.0137643814086914\n",
      "617: 1.1553668975830078\n",
      "618: 1.006371021270752\n",
      "619: 0.922569990158081\n",
      "620: 0.8921329975128174\n",
      "621: 0.8135907649993896\n",
      "622: 0.953214168548584\n",
      "623: 1.1630380153656006\n",
      "624: 1.0372509956359863\n",
      "625: 0.9872581958770752\n",
      "626: 1.0239288806915283\n",
      "627: 1.071413516998291\n",
      "628: 3.176820755004883\n",
      "629: 1.3289086818695068\n",
      "630: 1.0113811492919922\n",
      "631: 1.0052919387817383\n",
      "632: 0.9621260166168213\n",
      "633: 1.017615795135498\n",
      "634: 0.9896547794342041\n",
      "635: 1.3921482563018799\n",
      "636: 0.8868575096130371\n",
      "637: 1.4919242858886719\n",
      "638: 1.5535683631896973\n",
      "639: 1.476306438446045\n",
      "640: 0.9128232002258301\n",
      "641: 1.3235645294189453\n",
      "642: 1.220930576324463\n",
      "643: 1.7097904682159424\n",
      "644: 0.9596090316772461\n",
      "645: 0.8947179317474365\n",
      "646: 0.9029810428619385\n",
      "647: 1.109492301940918\n",
      "648: 0.9017195701599121\n",
      "649: 1.694995641708374\n",
      "650: 1.3201067447662354\n",
      "651: 0.9115726947784424\n",
      "652: 1.1678824424743652\n",
      "653: 1.0944507122039795\n",
      "654: 1.2398438453674316\n",
      "655: 1.178516149520874\n",
      "656: 1.4157118797302246\n",
      "657: 1.4906589984893799\n",
      "658: 0.9878077507019043\n",
      "659: 0.9239647388458252\n",
      "660: 0.8992955684661865\n",
      "661: 1.062826156616211\n",
      "662: 0.9103999137878418\n",
      "663: 1.005669355392456\n",
      "664: 1.0250179767608643\n",
      "665: 0.9781661033630371\n",
      "666: 0.9430088996887207\n",
      "667: 1.098158597946167\n",
      "668: 0.8484518527984619\n",
      "669: 0.9706251621246338\n",
      "670: 0.9516222476959229\n",
      "671: 0.9475288391113281\n",
      "672: 1.0349125862121582\n",
      "673: 1.4474987983703613\n",
      "674: 0.8982057571411133\n",
      "675: 1.3520028591156006\n",
      "676: 0.8641791343688965\n",
      "677: 1.4726638793945312\n",
      "678: 0.9014377593994141\n",
      "679: 1.0307815074920654\n",
      "680: 0.8939826488494873\n",
      "681: 0.9785113334655762\n",
      "682: 1.029212236404419\n",
      "683: 0.9529225826263428\n",
      "684: 1.298102617263794\n",
      "685: 0.9073226451873779\n",
      "686: 1.039449691772461\n",
      "687: 1.0800271034240723\n",
      "688: 1.020979642868042\n",
      "689: 0.8682219982147217\n",
      "690: 3.5898027420043945\n",
      "691: 0.9205172061920166\n",
      "692: 0.8867068290710449\n",
      "693: 1.393709421157837\n",
      "694: 0.9078588485717773\n",
      "695: 0.9585192203521729\n",
      "696: 2.930009603500366\n",
      "697: 0.917374849319458\n",
      "698: 1.069586992263794\n",
      "699: 1.0839662551879883\n",
      "700: 1.1445496082305908\n",
      "701: 1.2470707893371582\n",
      "702: 0.9137115478515625\n",
      "703: 0.9141521453857422\n",
      "704: 1.0485167503356934\n",
      "705: 0.9200835227966309\n",
      "706: 0.9278564453125\n",
      "707: 2.255885362625122\n",
      "708: 0.9659261703491211\n",
      "709: 1.4367949962615967\n",
      "710: 6.331573724746704\n",
      "711: 0.9671034812927246\n",
      "712: 1.2248666286468506\n",
      "713: 1.0214836597442627\n",
      "714: 1.2424507141113281\n",
      "715: 1.118112564086914\n",
      "716: 0.9277057647705078\n",
      "717: 0.9138033390045166\n",
      "718: 0.8548696041107178\n",
      "719: 0.9388985633850098\n",
      "720: 1.0006225109100342\n",
      "721: 0.9029262065887451\n",
      "722: 1.4417424201965332\n",
      "723: 1.2963941097259521\n",
      "724: 6.02599573135376\n",
      "725: 1.1742186546325684\n",
      "726: 1.240818738937378\n",
      "727: 1.6566636562347412\n",
      "728: 0.9190893173217773\n",
      "729: 0.8876504898071289\n",
      "730: 1.4851970672607422\n",
      "731: 1.333482265472412\n",
      "732: 0.9734621047973633\n",
      "733: 1.0883255004882812\n",
      "734: 0.9412415027618408\n",
      "735: 0.9343400001525879\n",
      "736: 1.1497313976287842\n",
      "737: 0.9087491035461426\n",
      "738: 1.3008294105529785\n",
      "739: 0.9334516525268555\n",
      "740: 1.0592684745788574\n",
      "741: 0.9208095073699951\n",
      "742: 1.08467435836792\n",
      "743: 0.8786966800689697\n",
      "744: 0.8946223258972168\n",
      "745: 1.89982271194458\n",
      "746: 3.74660062789917\n",
      "747: 1.0977451801300049\n",
      "748: 0.9174518585205078\n",
      "749: 0.9610893726348877\n",
      "750: 1.180396318435669\n",
      "751: 1.629962682723999\n",
      "752: 1.1457390785217285\n",
      "753: 2.2907838821411133\n",
      "754: 0.947190523147583\n",
      "755: 1.4243919849395752\n",
      "756: 0.9362518787384033\n",
      "757: 0.9703054428100586\n",
      "758: 1.5334672927856445\n",
      "759: 2.142876148223877\n",
      "760: 1.0221397876739502\n",
      "761: 1.067596435546875\n",
      "762: 0.9622628688812256\n",
      "763: 1.329754114151001\n",
      "764: 1.51344633102417\n",
      "765: 2.0163474082946777\n",
      "766: 1.1010076999664307\n",
      "767: 0.8804135322570801\n",
      "768: 1.7794840335845947\n",
      "769: 1.0096020698547363\n",
      "770: 1.5883820056915283\n",
      "771: 2.015385389328003\n",
      "772: 1.0472564697265625\n",
      "773: 0.9233138561248779\n",
      "774: 0.9384939670562744\n",
      "775: 1.020207405090332\n",
      "776: 0.9162588119506836\n",
      "777: 0.9228529930114746\n",
      "778: 1.285325527191162\n",
      "779: 0.8995873928070068\n",
      "780: 0.935060977935791\n",
      "781: 1.0435786247253418\n",
      "782: 1.45682954788208\n",
      "783: 2.3624722957611084\n",
      "784: 1.1615281105041504\n",
      "785: 0.9187109470367432\n",
      "786: 0.9559230804443359\n",
      "787: 0.8777201175689697\n",
      "788: 1.027967929840088\n",
      "789: 0.8227949142456055\n",
      "790: 1.1816277503967285\n",
      "791: 1.1698298454284668\n",
      "792: 2.1734554767608643\n",
      "793: 0.9691379070281982\n",
      "794: 0.9490416049957275\n",
      "795: 0.9692883491516113\n",
      "796: 0.947166919708252\n",
      "797: 1.169325351715088\n",
      "798: 2.0584757328033447\n",
      "799: 1.1569037437438965\n",
      "800: 0.8955545425415039\n",
      "801: 1.095092535018921\n",
      "802: 1.0611028671264648\n",
      "803: 2.7526357173919678\n",
      "804: 1.2907180786132812\n",
      "805: 1.649162769317627\n",
      "806: 1.1173896789550781\n",
      "807: 1.0810997486114502\n",
      "808: 1.8325903415679932\n",
      "809: 1.4427204132080078\n",
      "810: 1.4132773876190186\n",
      "811: 0.9329657554626465\n",
      "812: 0.9543256759643555\n",
      "813: 0.8840172290802002\n",
      "814: 2.5596446990966797\n",
      "815: 1.3077375888824463\n",
      "816: 1.0924413204193115\n",
      "817: 0.9863855838775635\n",
      "818: 0.8984308242797852\n",
      "819: 0.9226903915405273\n",
      "820: 0.9419810771942139\n",
      "821: 0.8782346248626709\n",
      "822: 0.9508752822875977\n",
      "823: 1.2267711162567139\n",
      "824: 1.9101996421813965\n",
      "825: 0.9332571029663086\n",
      "826: 1.0254123210906982\n",
      "827: 0.891913890838623\n",
      "828: 1.568708896636963\n",
      "829: 1.0925161838531494\n",
      "830: 0.861318826675415\n",
      "831: 0.8803126811981201\n",
      "832: 1.0939202308654785\n",
      "833: 1.5063886642456055\n",
      "834: 1.1067402362823486\n",
      "835: 1.2461912631988525\n",
      "836: 0.9192187786102295\n",
      "837: 0.9388420581817627\n",
      "838: 0.9636738300323486\n",
      "839: 0.9902384281158447\n",
      "840: 0.9429247379302979\n",
      "841: 0.9686436653137207\n",
      "842: 0.9081394672393799\n",
      "843: 0.8650846481323242\n",
      "844: 0.948650598526001\n",
      "845: 0.9973902702331543\n",
      "846: 1.2761144638061523\n",
      "847: 1.5989844799041748\n",
      "848: 0.9117608070373535\n",
      "849: 1.2740933895111084\n",
      "850: 0.9811863899230957\n",
      "851: 1.0621483325958252\n",
      "852: 0.934135913848877\n",
      "853: 0.9217634201049805\n",
      "854: 1.0383923053741455\n",
      "855: 1.2420520782470703\n",
      "856: 1.1574487686157227\n",
      "857: 1.4670679569244385\n",
      "858: 1.4289357662200928\n",
      "859: 0.8838896751403809\n",
      "860: 0.9077205657958984\n",
      "861: 2.5751187801361084\n",
      "862: 2.9845235347747803\n",
      "863: 0.879709005355835\n",
      "864: 0.8801674842834473\n",
      "865: 1.2927417755126953\n",
      "866: 0.9825470447540283\n",
      "867: 1.2036263942718506\n",
      "868: 0.8910012245178223\n",
      "869: 1.3404185771942139\n",
      "870: 5.507094383239746\n",
      "871: 0.9628262519836426\n",
      "872: 1.1501779556274414\n",
      "873: 0.9474160671234131\n",
      "874: 1.2316479682922363\n",
      "875: 1.329420566558838\n",
      "876: 1.6877105236053467\n",
      "877: 1.1561150550842285\n",
      "878: 0.9456882476806641\n",
      "879: 0.9809162616729736\n",
      "880: 1.223792552947998\n",
      "881: 0.9449961185455322\n",
      "882: 1.0604994297027588\n",
      "883: 0.9852340221405029\n",
      "884: 0.8714847564697266\n",
      "885: 1.0053112506866455\n",
      "886: 0.8968522548675537\n",
      "887: 1.0328810214996338\n",
      "888: 1.0748941898345947\n",
      "889: 1.0766832828521729\n",
      "890: 1.220066785812378\n",
      "891: 1.5191102027893066\n",
      "892: 1.455498218536377\n",
      "893: 0.9208660125732422\n",
      "894: 1.7773551940917969\n",
      "895: 1.2221629619598389\n",
      "896: 1.2330708503723145\n",
      "897: 1.1086974143981934\n",
      "898: 1.0726542472839355\n",
      "899: 0.856987476348877\n",
      "900: 0.927753210067749\n",
      "901: 0.8950061798095703\n",
      "902: 0.8579046726226807\n",
      "903: 1.5267360210418701\n",
      "904: 0.8864924907684326\n",
      "905: 0.89957594871521\n",
      "906: 1.29996657371521\n",
      "907: 1.017911672592163\n",
      "908: 1.1685621738433838\n",
      "909: 0.9493350982666016\n",
      "910: 1.0168287754058838\n",
      "911: 1.1818675994873047\n",
      "912: 1.114619493484497\n",
      "913: 1.186375379562378\n",
      "914: 0.9984009265899658\n",
      "915: 0.9266877174377441\n",
      "916: 0.8781440258026123\n",
      "917: 5.8490190505981445\n",
      "918: 0.9916191101074219\n",
      "919: 1.0778956413269043\n",
      "920: 1.9823477268218994\n",
      "921: 1.7012598514556885\n",
      "922: 0.9039580821990967\n",
      "923: 0.8558700084686279\n",
      "924: 0.9010655879974365\n",
      "925: 0.9933080673217773\n",
      "926: 2.293931484222412\n",
      "927: 1.2830402851104736\n",
      "928: 1.0886406898498535\n",
      "929: 0.9591894149780273\n",
      "930: 0.978891134262085\n",
      "931: 0.9966864585876465\n",
      "932: 4.148881196975708\n",
      "933: 1.0268092155456543\n",
      "934: 0.9564619064331055\n",
      "935: 0.8942084312438965\n",
      "936: 2.0699150562286377\n",
      "937: 0.9389300346374512\n",
      "938: 0.9676516056060791\n",
      "939: 0.9146468639373779\n",
      "940: 1.037839412689209\n",
      "941: 1.5638446807861328\n",
      "942: 1.3710062503814697\n",
      "943: 1.4437475204467773\n",
      "944: 0.9186153411865234\n",
      "945: 3.5129201412200928\n",
      "946: 0.9324283599853516\n",
      "947: 1.1627511978149414\n",
      "948: 0.9072592258453369\n",
      "949: 1.281376838684082\n",
      "950: 1.2239360809326172\n",
      "951: 0.926694393157959\n",
      "952: 1.091784954071045\n",
      "953: 2.06034517288208\n",
      "954: 1.2355031967163086\n",
      "955: 1.953906536102295\n",
      "956: 1.1069998741149902\n",
      "957: 0.8256473541259766\n",
      "958: 0.8987650871276855\n",
      "959: 11.032545804977417\n",
      "960: 1.0191004276275635\n",
      "961: 3.3986220359802246\n",
      "962: 1.1486084461212158\n",
      "963: 1.4938533306121826\n",
      "964: 1.004338026046753\n",
      "965: 0.9338178634643555\n",
      "966: 0.9390499591827393\n",
      "967: 1.0142323970794678\n",
      "968: 1.5984954833984375\n",
      "969: 1.0483736991882324\n",
      "970: 0.9141230583190918\n",
      "971: 1.6390235424041748\n",
      "972: 3.99361515045166\n",
      "973: 0.8719730377197266\n",
      "974: 1.2952613830566406\n",
      "975: 0.9350435733795166\n",
      "976: 1.1379759311676025\n",
      "977: 1.053591251373291\n",
      "978: 1.7204744815826416\n",
      "979: 1.1634342670440674\n",
      "980: 0.9422836303710938\n",
      "981: 0.9690172672271729\n",
      "982: 0.9313127994537354\n",
      "983: 1.0233964920043945\n",
      "984: 0.9423849582672119\n",
      "985: 1.3254401683807373\n",
      "986: 0.920600175857544\n",
      "987: 0.8971686363220215\n",
      "988: 1.1586015224456787\n",
      "989: 0.917316198348999\n",
      "990: 0.9195370674133301\n",
      "991: 0.8424630165100098\n",
      "992: 1.1799843311309814\n",
      "993: 0.9767458438873291\n",
      "994: 0.8909525871276855\n",
      "995: 1.0410706996917725\n",
      "996: 1.4538142681121826\n",
      "997: 2.421196699142456\n",
      "998: 0.8563485145568848\n",
      "999: 1.0519826412200928\n",
      "1000: 6.226354360580444\n",
      "1001: 0.911074161529541\n",
      "1002: 1.7432050704956055\n",
      "1003: 0.9940197467803955\n",
      "1004: 0.8824422359466553\n",
      "1005: 1.1374077796936035\n",
      "1006: 2.120088815689087\n",
      "1007: 0.8942625522613525\n",
      "1008: 1.2181196212768555\n",
      "1009: 1.0671541690826416\n",
      "1010: 1.0751373767852783\n",
      "1011: 1.5683443546295166\n",
      "1012: 1.047389030456543\n",
      "1013: 0.9877769947052002\n",
      "1014: 1.2173857688903809\n",
      "1015: 1.1458392143249512\n",
      "1016: 0.9256405830383301\n",
      "1017: 1.0538876056671143\n",
      "1018: 0.9772777557373047\n",
      "1019: 0.9157595634460449\n",
      "1020: 1.0590863227844238\n",
      "1021: 1.48661208152771\n",
      "1022: 1.5714411735534668\n",
      "1023: 1.054647445678711\n",
      "1024: 0.8664970397949219\n",
      "1025: 0.878673791885376\n",
      "1026: 1.1072888374328613\n",
      "1027: 0.9264411926269531\n",
      "1028: 2.5026633739471436\n",
      "1029: 1.204103708267212\n",
      "1030: 0.886289119720459\n",
      "1031: 1.0654215812683105\n",
      "1032: 0.8846690654754639\n",
      "1033: 0.9467530250549316\n",
      "1034: 1.2672479152679443\n",
      "1035: 1.084960699081421\n",
      "1036: 1.4428915977478027\n",
      "1037: 1.08184814453125\n",
      "1038: 1.9069249629974365\n",
      "1039: 1.0072104930877686\n",
      "1040: 1.9515089988708496\n",
      "1041: 0.8940002918243408\n",
      "1042: 0.8983151912689209\n",
      "1043: 1.8083622455596924\n",
      "1044: 1.3507881164550781\n",
      "1045: 1.1564054489135742\n",
      "1046: 0.8852620124816895\n",
      "1047: 1.1983225345611572\n",
      "1048: 1.1124708652496338\n",
      "1049: 1.3684070110321045\n",
      "1050: 1.2637808322906494\n",
      "1051: 1.091095209121704\n",
      "1052: 1.2404179573059082\n",
      "1053: 0.8928804397583008\n",
      "1054: 1.427664041519165\n",
      "1055: 0.9364504814147949\n",
      "1056: 1.35978102684021\n",
      "1057: 3.3373219966888428\n",
      "1058: 1.3369345664978027\n",
      "1059: 2.3053994178771973\n",
      "1060: 1.0117275714874268\n",
      "1061: 0.9913372993469238\n",
      "1062: 1.0395214557647705\n",
      "1063: 0.970808744430542\n",
      "1064: 0.910442590713501\n",
      "1065: 0.905402421951294\n",
      "1066: 1.3212840557098389\n",
      "1067: 1.5985009670257568\n",
      "1068: 1.344404697418213\n",
      "1069: 0.878868818283081\n",
      "1070: 1.7021350860595703\n",
      "1071: 0.9417979717254639\n",
      "1072: 1.0019636154174805\n",
      "1073: 1.1506171226501465\n",
      "1074: 1.4307539463043213\n",
      "1075: 6.506097078323364\n",
      "1076: 0.959568977355957\n",
      "1077: 3.0458714962005615\n",
      "1078: 1.5555543899536133\n",
      "1079: 0.8934886455535889\n",
      "1080: 1.9412586688995361\n",
      "1081: 0.975414514541626\n",
      "1082: 1.1135461330413818\n",
      "1083: 0.9412705898284912\n",
      "1084: 1.1369519233703613\n",
      "1085: 1.8479223251342773\n",
      "1086: 1.0168023109436035\n",
      "1087: 0.9222033023834229\n",
      "1088: 0.9971861839294434\n",
      "1089: 6.749402046203613\n",
      "1090: 0.9035208225250244\n",
      "1091: 1.08847975730896\n",
      "1092: 0.945519208908081\n",
      "1093: 1.1537775993347168\n",
      "1094: 0.9058961868286133\n",
      "1095: 1.0428166389465332\n",
      "1096: 0.8771877288818359\n",
      "1097: 0.8842477798461914\n",
      "1098: 1.001713752746582\n",
      "1099: 1.103175401687622\n",
      "1100: 0.9134697914123535\n",
      "1101: 1.0206477642059326\n",
      "1102: 0.9542171955108643\n",
      "1103: 1.0861420631408691\n",
      "1104: 1.0348808765411377\n",
      "1105: 0.955456018447876\n",
      "1106: 0.9412314891815186\n",
      "1107: 1.2281925678253174\n",
      "1108: 1.8436076641082764\n",
      "1109: 0.9076380729675293\n",
      "1110: 1.3715295791625977\n",
      "1111: 0.9286525249481201\n",
      "1112: 1.0923714637756348\n",
      "1113: 0.8651061058044434\n",
      "1114: 0.8654701709747314\n",
      "1115: 1.2132697105407715\n",
      "1116: 1.598036527633667\n",
      "1117: 1.2836124897003174\n",
      "1118: 1.3477716445922852\n",
      "1119: 0.8975951671600342\n",
      "1120: 0.9489803314208984\n",
      "1121: 0.883716344833374\n",
      "1122: 1.0682995319366455\n",
      "1123: 1.0768003463745117\n",
      "1124: 0.8934800624847412\n",
      "1125: 0.9793393611907959\n",
      "1126: 1.5120317935943604\n",
      "1127: 0.907581090927124\n",
      "1128: 1.2468104362487793\n",
      "1129: 1.0236585140228271\n",
      "1130: 0.8944952487945557\n",
      "1131: 0.9966652393341064\n",
      "1132: 0.9412744045257568\n",
      "1133: 0.8662536144256592\n",
      "1134: 1.394362211227417\n",
      "1135: 1.0502195358276367\n",
      "1136: 1.9122259616851807\n",
      "1137: 0.8910694122314453\n",
      "1138: 0.9778623580932617\n",
      "1139: 0.9262268543243408\n",
      "1140: 0.9956817626953125\n",
      "1141: 0.9594407081604004\n",
      "1142: 1.8677856922149658\n",
      "1143: 0.9657435417175293\n",
      "1144: 1.8220689296722412\n",
      "1145: 1.0832493305206299\n",
      "1146: 1.4420819282531738\n",
      "1147: 0.9145383834838867\n",
      "1148: 1.2507808208465576\n",
      "1149: 0.9237680435180664\n",
      "1150: 0.9481945037841797\n",
      "1151: 1.659092903137207\n",
      "1152: 0.9609379768371582\n",
      "1153: 1.3237874507904053\n",
      "1154: 1.0971953868865967\n",
      "1155: 0.9262661933898926\n",
      "1156: 0.9525880813598633\n",
      "1157: 0.9160089492797852\n",
      "1158: 0.994936466217041\n",
      "1159: 0.9196507930755615\n",
      "1160: 0.9934289455413818\n",
      "1161: 1.2044517993927002\n",
      "1162: 2.272318124771118\n",
      "1163: 0.9906866550445557\n",
      "1164: 0.9508781433105469\n",
      "1165: 1.6331186294555664\n",
      "1166: 1.0265872478485107\n",
      "1167: 1.0352611541748047\n",
      "1168: 1.1431610584259033\n",
      "1169: 1.1780617237091064\n",
      "1170: 1.163198471069336\n",
      "1171: 1.1060106754302979\n",
      "1172: 0.9129178524017334\n",
      "1173: 1.067568063735962\n",
      "1174: 1.2238271236419678\n",
      "1175: 0.8756194114685059\n",
      "1176: 0.9054086208343506\n",
      "1177: 1.1471631526947021\n",
      "1178: 1.1385517120361328\n",
      "1179: 1.2122585773468018\n",
      "1180: 0.9852511882781982\n",
      "1181: 1.389312982559204\n",
      "1182: 1.7308826446533203\n",
      "1183: 1.2311105728149414\n",
      "1184: 0.951204776763916\n",
      "1185: 0.9742259979248047\n",
      "1186: 1.5764219760894775\n",
      "1187: 1.2841172218322754\n",
      "1188: 1.342392921447754\n",
      "1189: 0.9660305976867676\n",
      "1190: 0.9051675796508789\n",
      "1191: 1.078253984451294\n",
      "1192: 1.1843466758728027\n",
      "1193: 1.1206939220428467\n",
      "1194: 1.008984088897705\n",
      "1195: 1.232600450515747\n",
      "1196: 1.1741011142730713\n",
      "1197: 1.5988376140594482\n",
      "1198: 1.6052772998809814\n",
      "1199: 1.2677347660064697\n",
      "1200: 1.3355047702789307\n",
      "1201: 0.8978180885314941\n",
      "1202: 1.0349135398864746\n",
      "1203: 0.8845772743225098\n",
      "1204: 0.9603407382965088\n",
      "1205: 1.2043263912200928\n",
      "1206: 0.894390344619751\n",
      "1207: 1.1516408920288086\n",
      "1208: 1.4873511791229248\n",
      "1209: 1.0519311428070068\n",
      "1210: 0.9303674697875977\n",
      "1211: 1.1375443935394287\n",
      "1212: 1.0206825733184814\n",
      "1213: 0.9237310886383057\n",
      "1214: 2.5063283443450928\n",
      "1215: 0.9473705291748047\n",
      "1216: 0.8774476051330566\n",
      "1217: 0.9487066268920898\n",
      "1218: 3.886826753616333\n",
      "1219: 5.0342018604278564\n",
      "1220: 1.3987782001495361\n",
      "1221: 0.8973581790924072\n",
      "1222: 0.9029695987701416\n",
      "1223: 0.9637250900268555\n",
      "1224: 1.3593275547027588\n",
      "1225: 0.882805347442627\n",
      "1226: 1.4267890453338623\n",
      "1227: 0.9053168296813965\n",
      "1228: 0.9997503757476807\n",
      "1229: 1.4069774150848389\n",
      "1230: 2.147066593170166\n",
      "1231: 3.471170663833618\n",
      "1232: 1.7067980766296387\n",
      "1233: 1.2231450080871582\n",
      "1234: 0.94488525390625\n",
      "1235: 1.2173137664794922\n",
      "1236: 2.085564374923706\n",
      "1237: 1.5353338718414307\n",
      "1238: 0.8729403018951416\n",
      "1239: 0.9416184425354004\n",
      "1240: 0.9575440883636475\n",
      "1241: 2.313007116317749\n",
      "1242: 0.9123196601867676\n",
      "1243: 0.9081699848175049\n",
      "1244: 0.9610958099365234\n",
      "1245: 1.976287841796875\n",
      "1246: 3.416491746902466\n",
      "1247: 1.1655075550079346\n",
      "1248: 1.3434011936187744\n",
      "1249: 2.0053317546844482\n",
      "1250: 0.8632192611694336\n",
      "1251: 0.8788468837738037\n",
      "1252: 1.475038766860962\n",
      "1253: 1.9930529594421387\n",
      "1254: 2.7601022720336914\n",
      "1255: 1.0581507682800293\n",
      "1256: 0.9993681907653809\n",
      "1257: 0.973156213760376\n",
      "1258: 0.8920192718505859\n",
      "1259: 1.2396576404571533\n",
      "1260: 1.3071844577789307\n",
      "1261: 2.345261573791504\n",
      "1262: 1.0762202739715576\n",
      "1263: 1.0825564861297607\n",
      "1264: 1.2555885314941406\n",
      "1265: 0.9413943290710449\n",
      "1266: 0.879615068435669\n",
      "1267: 0.9134731292724609\n",
      "1268: 1.0318503379821777\n",
      "1269: 0.941190242767334\n",
      "1270: 0.9260821342468262\n",
      "1271: 0.8886301517486572\n",
      "1272: 1.1628303527832031\n",
      "1273: 1.1027379035949707\n",
      "1274: 0.9654936790466309\n",
      "1275: 1.2524030208587646\n",
      "1276: 1.2170214653015137\n",
      "1277: 0.9519302845001221\n",
      "1278: 0.9246110916137695\n",
      "1279: 1.0723397731781006\n",
      "1280: 1.1903839111328125\n",
      "1281: 0.904198408126831\n",
      "1282: 0.9230890274047852\n",
      "1283: 1.1650149822235107\n",
      "1284: 0.9048597812652588\n",
      "1285: 1.0441126823425293\n",
      "1286: 1.0110924243927002\n",
      "1287: 0.916956901550293\n",
      "1288: 1.9178247451782227\n",
      "1289: 1.0441272258758545\n",
      "1290: 0.8648715019226074\n",
      "1291: 1.2480452060699463\n",
      "1292: 1.9981517791748047\n",
      "1293: 0.8707220554351807\n",
      "1294: 1.2629311084747314\n",
      "1295: 0.9378526210784912\n",
      "1296: 1.0848326683044434\n",
      "1297: 1.188413381576538\n",
      "1298: 0.8925189971923828\n",
      "1299: 1.1045584678649902\n",
      "1300: 1.3320462703704834\n",
      "1301: 2.1264281272888184\n",
      "1302: 1.0007872581481934\n",
      "1303: 1.1596057415008545\n",
      "1304: 0.9439356327056885\n",
      "1305: 1.4104118347167969\n",
      "1306: 1.1626596450805664\n",
      "1307: 1.1574304103851318\n",
      "1308: 2.05441951751709\n",
      "1309: 0.9040846824645996\n",
      "1310: 0.914799690246582\n",
      "1311: 0.9392726421356201\n",
      "1312: 1.3004364967346191\n",
      "1313: 1.5005996227264404\n",
      "1314: 1.0005526542663574\n",
      "1315: 1.2264623641967773\n",
      "1316: 1.6841301918029785\n",
      "1317: 1.0854780673980713\n",
      "1318: 1.3753278255462646\n",
      "1319: 1.1854312419891357\n",
      "1320: 1.0479743480682373\n",
      "1321: 1.0186793804168701\n",
      "1322: 3.9026336669921875\n",
      "1323: 0.8482756614685059\n",
      "1324: 1.277405023574829\n",
      "1325: 1.457627296447754\n",
      "1326: 1.0560274124145508\n",
      "1327: 0.9707493782043457\n",
      "1328: 0.9210050106048584\n",
      "1329: 3.2785370349884033\n",
      "1330: 0.9470295906066895\n",
      "1331: 0.9281246662139893\n",
      "1332: 0.9309070110321045\n",
      "1333: 0.8761048316955566\n",
      "1334: 0.8577361106872559\n",
      "1335: 0.8431107997894287\n",
      "1336: 1.0344514846801758\n",
      "1337: 0.8975560665130615\n",
      "1338: 0.8727376461029053\n",
      "1339: 1.607365608215332\n",
      "1340: 0.9423105716705322\n",
      "1341: 0.9115276336669922\n",
      "1342: 1.0839557647705078\n",
      "1343: 5.073927402496338\n",
      "1344: 1.1571650505065918\n",
      "1345: 2.184262990951538\n",
      "1346: 0.8958814144134521\n",
      "1347: 1.1166737079620361\n",
      "1348: 1.1203033924102783\n",
      "1349: 0.9708795547485352\n",
      "1350: 0.8926773071289062\n",
      "1351: 1.3390660285949707\n",
      "1352: 1.2556633949279785\n",
      "1353: 1.0071523189544678\n",
      "1354: 0.9489736557006836\n",
      "1355: 1.0986673831939697\n",
      "1356: 0.9098317623138428\n",
      "1357: 0.9634888172149658\n",
      "1358: 0.9063513278961182\n",
      "1359: 1.0434441566467285\n",
      "1360: 1.6089682579040527\n",
      "1361: 0.9352929592132568\n",
      "1362: 1.3091330528259277\n",
      "1363: 1.402038812637329\n",
      "1364: 2.4155640602111816\n",
      "1365: 1.3718712329864502\n",
      "1366: 0.9696056842803955\n",
      "1367: 0.8934166431427002\n",
      "1368: 1.1022069454193115\n",
      "1369: 0.8651378154754639\n",
      "1370: 0.8946499824523926\n",
      "1371: 0.8919174671173096\n",
      "1372: 1.3094627857208252\n",
      "1373: 0.885422945022583\n",
      "1374: 0.9365444183349609\n",
      "1375: 1.5032625198364258\n",
      "1376: 0.8811278343200684\n",
      "1377: 0.8379077911376953\n",
      "1378: 0.899510383605957\n",
      "1379: 1.078282117843628\n",
      "1380: 0.9762101173400879\n",
      "1381: 1.076108455657959\n",
      "1382: 1.1300086975097656\n",
      "1383: 1.082805871963501\n",
      "1384: 1.1421208381652832\n",
      "1385: 0.989755392074585\n",
      "1386: 1.2020246982574463\n",
      "1387: 0.9847731590270996\n",
      "1388: 0.9393751621246338\n",
      "1389: 1.3821032047271729\n",
      "1390: 2.302042007446289\n",
      "1391: 0.9821798801422119\n",
      "1392: 1.456479787826538\n",
      "1393: 1.31528639793396\n",
      "1394: 2.0285797119140625\n",
      "1395: 0.9994463920593262\n",
      "1396: 0.9864723682403564\n",
      "1397: 1.6439554691314697\n",
      "1398: 0.9054126739501953\n",
      "1399: 0.9890527725219727\n",
      "1400: 2.076824903488159\n",
      "1401: 1.0426619052886963\n",
      "1402: 0.9703872203826904\n",
      "1403: 0.9168403148651123\n",
      "1404: 0.9910712242126465\n",
      "1405: 0.9271445274353027\n",
      "1406: 2.2849249839782715\n",
      "1407: 0.9604487419128418\n",
      "1408: 0.8569860458374023\n",
      "1409: 1.191798448562622\n",
      "1410: 0.880704402923584\n",
      "1411: 1.1921064853668213\n",
      "1412: 0.8739714622497559\n",
      "1413: 1.0701792240142822\n",
      "1414: 1.020521879196167\n",
      "1415: 0.8500521183013916\n",
      "1416: 2.737199068069458\n",
      "1417: 0.9349231719970703\n",
      "1418: 0.8551628589630127\n",
      "1419: 0.995769739151001\n",
      "1420: 1.163804531097412\n",
      "1421: 0.9403665065765381\n",
      "1422: 2.5462186336517334\n",
      "1423: 1.2406883239746094\n",
      "1424: 0.9374876022338867\n",
      "1425: 1.032470464706421\n",
      "1426: 0.9002490043640137\n",
      "1427: 1.7002043724060059\n",
      "1428: 1.2834601402282715\n",
      "1429: 1.1322815418243408\n",
      "1430: 1.2163946628570557\n",
      "1431: 1.277341365814209\n",
      "1432: 1.0205698013305664\n",
      "1433: 1.023024320602417\n",
      "1434: 0.854578971862793\n",
      "1435: 2.015275001525879\n",
      "1436: 5.7228474617004395\n",
      "1437: 0.9305167198181152\n",
      "1438: 0.9486043453216553\n",
      "1439: 1.0558586120605469\n",
      "1440: 0.8629238605499268\n",
      "1441: 1.0627052783966064\n",
      "1442: 0.9342470169067383\n",
      "1443: 1.3123822212219238\n",
      "1444: 1.6619341373443604\n",
      "1445: 1.2388739585876465\n",
      "1446: 1.0002434253692627\n",
      "1447: 1.5388038158416748\n",
      "1448: 2.1658079624176025\n",
      "1449: 1.3668487071990967\n",
      "1450: 1.7843916416168213\n",
      "1451: 1.3845136165618896\n",
      "1452: 0.8690423965454102\n",
      "1453: 1.0286214351654053\n",
      "1454: 1.0507285594940186\n",
      "1455: 1.5884661674499512\n",
      "1456: 1.3795263767242432\n",
      "1457: 1.846583604812622\n",
      "1458: 2.287127733230591\n",
      "1459: 1.4297544956207275\n",
      "1460: 0.8568031787872314\n",
      "1461: 1.1388442516326904\n",
      "1462: 0.8985030651092529\n",
      "1463: 0.8929705619812012\n",
      "1464: 3.45963454246521\n",
      "1465: 3.0412449836730957\n",
      "1466: 0.8596456050872803\n",
      "1467: 1.3445708751678467\n",
      "1468: 0.8542850017547607\n",
      "1469: 2.1309244632720947\n",
      "1470: 1.7290666103363037\n",
      "1471: 0.9673864841461182\n",
      "1472: 0.9087684154510498\n",
      "1473: 0.884965181350708\n",
      "1474: 1.102872610092163\n",
      "1475: 1.0231826305389404\n",
      "1476: 2.5069150924682617\n",
      "1477: 0.9322354793548584\n",
      "1478: 1.0301432609558105\n",
      "1479: 1.0323612689971924\n",
      "1480: 1.4723126888275146\n",
      "1481: 0.8972160816192627\n",
      "1482: 1.5955336093902588\n",
      "1483: 1.0893127918243408\n",
      "1484: 1.2497951984405518\n",
      "1485: 1.7002320289611816\n",
      "1486: 1.0046260356903076\n",
      "1487: 1.103663682937622\n",
      "1488: 0.9746747016906738\n",
      "1489: 0.9425444602966309\n",
      "1490: 2.151252508163452\n",
      "1491: 0.9049742221832275\n",
      "1492: 0.8776168823242188\n",
      "1493: 0.8905906677246094\n",
      "1494: 0.8929576873779297\n",
      "1495: 0.8554813861846924\n",
      "1496: 0.8842983245849609\n",
      "1497: 0.8585624694824219\n",
      "1498: 1.066270351409912\n",
      "1499: 0.9195308685302734\n",
      "1500: 1.0183336734771729\n",
      "1501: 1.0852267742156982\n",
      "1502: 1.2214405536651611\n",
      "1503: 1.3015944957733154\n",
      "1504: 1.9855961799621582\n",
      "1505: 0.9088959693908691\n",
      "1506: 1.0021157264709473\n",
      "1507: 0.9277093410491943\n",
      "1508: 0.8916594982147217\n",
      "1509: 2.2707340717315674\n",
      "1510: 0.8459744453430176\n",
      "1511: 0.8854873180389404\n",
      "1512: 1.0918352603912354\n",
      "1513: 1.3024461269378662\n",
      "1514: 2.4371275901794434\n",
      "1515: 1.0053601264953613\n",
      "1516: 3.880136728286743\n",
      "1517: 0.9434947967529297\n",
      "1518: 1.0361425876617432\n",
      "1519: 0.9675958156585693\n",
      "1520: 0.9385378360748291\n",
      "1521: 1.8073375225067139\n",
      "1522: 0.9573657512664795\n",
      "1523: 0.9205756187438965\n",
      "1524: 0.9961786270141602\n",
      "1525: 1.3654718399047852\n",
      "1526: 1.707970380783081\n",
      "1527: 1.6925036907196045\n",
      "1528: 0.9183394908905029\n",
      "1529: 0.9151179790496826\n",
      "1530: 1.172837257385254\n",
      "1531: 0.9257636070251465\n",
      "1532: 0.9869399070739746\n",
      "1533: 0.8806068897247314\n",
      "1534: 1.0832562446594238\n",
      "1535: 1.3689641952514648\n",
      "1536: 0.9108176231384277\n",
      "1537: 0.897836446762085\n",
      "1538: 2.1014115810394287\n",
      "1539: 1.7339427471160889\n",
      "1540: 1.0340838432312012\n",
      "1541: 0.9437501430511475\n",
      "1542: 1.1152737140655518\n",
      "1543: 1.465937852859497\n",
      "1544: 1.2977607250213623\n",
      "1545: 0.8397266864776611\n",
      "1546: 0.870232105255127\n",
      "1547: 1.2204973697662354\n",
      "1548: 1.8224780559539795\n",
      "1549: 1.0559251308441162\n",
      "1550: 1.027137041091919\n",
      "1551: 0.871671199798584\n",
      "1552: 0.9200904369354248\n",
      "1553: 0.8802371025085449\n",
      "1554: 0.945814847946167\n",
      "1555: 1.2467224597930908\n",
      "1556: 1.8103373050689697\n",
      "1557: 1.7126524448394775\n",
      "1558: 0.9209840297698975\n",
      "1559: 1.1350579261779785\n",
      "1560: 0.8534786701202393\n",
      "1561: 1.029390811920166\n",
      "1562: 0.939885139465332\n",
      "1563: 0.9976258277893066\n",
      "1564: 0.8948888778686523\n",
      "1565: 1.170750617980957\n",
      "1566: 0.9193658828735352\n",
      "1567: 0.9170999526977539\n",
      "1568: 1.486530065536499\n",
      "1569: 0.9081597328186035\n",
      "1570: 0.8543636798858643\n",
      "1571: 1.0479576587677002\n",
      "1572: 1.6937041282653809\n",
      "1573: 1.3674869537353516\n",
      "1574: 0.9963593482971191\n",
      "1575: 3.3363418579101562\n",
      "1576: 1.085204839706421\n",
      "1577: 0.8660964965820312\n",
      "1578: 1.039414882659912\n",
      "1579: 0.9422273635864258\n",
      "1580: 0.9904241561889648\n",
      "1581: 0.8794450759887695\n",
      "1582: 0.9401178359985352\n",
      "1583: 0.9246571063995361\n",
      "1584: 1.5677213668823242\n",
      "1585: 1.0864346027374268\n",
      "1586: 1.1887052059173584\n",
      "1587: 0.8979814052581787\n",
      "1588: 0.8774707317352295\n",
      "1589: 0.9077675342559814\n",
      "1590: 0.9055674076080322\n",
      "1591: 0.9936926364898682\n",
      "1592: 0.8554184436798096\n",
      "1593: 0.9702913761138916\n",
      "1594: 1.0125739574432373\n",
      "1595: 0.8494236469268799\n",
      "1596: 1.2884972095489502\n",
      "1597: 1.1856698989868164\n",
      "1598: 0.9453847408294678\n",
      "1599: 2.1129536628723145\n",
      "1600: 0.8741967678070068\n",
      "1601: 1.5788750648498535\n",
      "1602: 1.022200345993042\n",
      "1603: 1.5671966075897217\n",
      "1604: 0.9725103378295898\n",
      "1605: 0.9192090034484863\n",
      "1606: 1.1657142639160156\n",
      "1607: 0.9360458850860596\n",
      "1608: 0.933516263961792\n",
      "1609: 1.3435373306274414\n",
      "1610: 1.0611109733581543\n",
      "1611: 0.9145951271057129\n",
      "1612: 2.304324150085449\n",
      "1613: 0.966489315032959\n",
      "1614: 0.9723191261291504\n",
      "1615: 0.8686866760253906\n",
      "1616: 2.3484251499176025\n",
      "1617: 1.0300822257995605\n",
      "1618: 2.3834176063537598\n",
      "1619: 1.2003192901611328\n",
      "1620: 1.159480094909668\n",
      "1621: 1.2983157634735107\n",
      "1622: 1.0564963817596436\n",
      "1623: 0.8858902454376221\n",
      "1624: 0.930117130279541\n",
      "1625: 0.921058177947998\n",
      "1626: 0.9292776584625244\n",
      "1627: 0.9129440784454346\n",
      "1628: 0.8703837394714355\n",
      "1629: 1.0261616706848145\n",
      "1630: 1.1941914558410645\n",
      "1631: 0.9132242202758789\n",
      "1632: 0.8688516616821289\n",
      "1633: 0.9464333057403564\n",
      "1634: 1.9667479991912842\n",
      "1635: 0.9235403537750244\n",
      "1636: 0.8894624710083008\n",
      "1637: 2.055790424346924\n",
      "1638: 1.1182613372802734\n",
      "1639: 7.056234836578369\n",
      "1640: 1.5374691486358643\n",
      "1641: 1.146812915802002\n",
      "1642: 0.912987470626831\n",
      "1643: 1.118988037109375\n",
      "1644: 3.373056650161743\n",
      "1645: 2.0196268558502197\n",
      "1646: 1.358656644821167\n",
      "1647: 1.6153128147125244\n",
      "1648: 0.9092528820037842\n",
      "1649: 1.3467309474945068\n",
      "1650: 1.1862940788269043\n",
      "1651: 0.9353666305541992\n",
      "1652: 1.1350572109222412\n",
      "1653: 1.0675806999206543\n",
      "1654: 0.9200336933135986\n",
      "1655: 1.6552231311798096\n",
      "1656: 1.2330071926116943\n",
      "1657: 1.2246689796447754\n",
      "1658: 1.8273723125457764\n",
      "1659: 3.1131820678710938\n",
      "1660: 1.8849167823791504\n",
      "1661: 1.1094849109649658\n",
      "1662: 5.235003232955933\n",
      "1663: 1.0310840606689453\n",
      "1664: 1.4307472705841064\n",
      "1665: 1.6244351863861084\n",
      "1666: 1.003575086593628\n",
      "1667: 0.9431486129760742\n",
      "1668: 0.9351260662078857\n",
      "1669: 1.2175846099853516\n",
      "1670: 1.9632539749145508\n",
      "1671: 2.008373737335205\n",
      "1672: 1.1889100074768066\n",
      "1673: 1.242426872253418\n",
      "1674: 0.9248995780944824\n",
      "1675: 0.9447939395904541\n",
      "1676: 0.8834228515625\n",
      "1677: 0.9060022830963135\n",
      "1678: 0.8953979015350342\n",
      "1679: 1.166719913482666\n",
      "1680: 0.9147176742553711\n",
      "1681: 0.9549086093902588\n",
      "1682: 0.8864798545837402\n",
      "1683: 0.8743185997009277\n",
      "1684: 1.0048058032989502\n",
      "1685: 0.8972067832946777\n",
      "1686: 1.2677042484283447\n",
      "1687: 0.906944990158081\n",
      "1688: 0.9999496936798096\n",
      "1689: 1.0077142715454102\n",
      "1690: 0.9337899684906006\n",
      "1691: 0.8839559555053711\n",
      "1692: 1.0066413879394531\n",
      "1693: 1.08463454246521\n",
      "1694: 0.8966834545135498\n",
      "1695: 0.9187808036804199\n",
      "1696: 2.857924461364746\n",
      "1697: 1.0273480415344238\n",
      "1698: 2.3013763427734375\n",
      "1699: 0.9505562782287598\n",
      "1700: 0.8787529468536377\n",
      "1701: 3.461122751235962\n",
      "1702: 1.6139414310455322\n",
      "1703: 1.368659257888794\n",
      "1704: 1.8345811367034912\n",
      "1705: 0.9864645004272461\n",
      "1706: 0.9747207164764404\n",
      "1707: 0.9050443172454834\n",
      "1708: 2.307671546936035\n",
      "1709: 0.8899059295654297\n",
      "1710: 0.997596263885498\n",
      "1711: 1.07303786277771\n",
      "1712: 1.2273046970367432\n",
      "1713: 0.8315989971160889\n",
      "1714: 1.053957462310791\n",
      "1715: 2.0308964252471924\n",
      "1716: 0.9613487720489502\n",
      "1717: 0.8774466514587402\n",
      "1718: 0.886972188949585\n",
      "1719: 1.7508916854858398\n",
      "1720: 1.2765214443206787\n",
      "1721: 1.0926482677459717\n",
      "1722: 1.392322063446045\n",
      "1723: 1.2294678688049316\n",
      "1724: 1.1011383533477783\n",
      "1725: 0.8935911655426025\n",
      "1726: 1.4040882587432861\n",
      "1727: 0.8730592727661133\n",
      "1728: 1.5366954803466797\n",
      "1729: 0.9162540435791016\n",
      "1730: 0.9812197685241699\n",
      "1731: 1.496685266494751\n",
      "1732: 0.9401698112487793\n",
      "1733: 2.5301666259765625\n",
      "1734: 1.2766432762145996\n",
      "1735: 1.3403804302215576\n",
      "1736: 0.9499263763427734\n",
      "1737: 0.8818392753601074\n",
      "1738: 1.0369350910186768\n",
      "1739: 0.8931231498718262\n",
      "1740: 1.614617109298706\n",
      "1741: 0.9226570129394531\n",
      "1742: 1.2643473148345947\n",
      "1743: 0.901209831237793\n",
      "1744: 0.9679083824157715\n",
      "1745: 0.943312406539917\n",
      "1746: 2.150329828262329\n",
      "1747: 0.9219083786010742\n",
      "1748: 0.9393072128295898\n",
      "1749: 1.3702642917633057\n",
      "1750: 0.9374701976776123\n",
      "1751: 1.1651995182037354\n",
      "1752: 1.4711484909057617\n",
      "1753: 1.016347885131836\n",
      "1754: 0.9712414741516113\n",
      "1755: 0.8128294944763184\n",
      "1756: 1.1217150688171387\n",
      "1757: 0.9180397987365723\n",
      "1758: 1.0691821575164795\n",
      "1759: 1.2986102104187012\n",
      "1760: 2.0570032596588135\n",
      "1761: 0.8776266574859619\n",
      "1762: 1.0917682647705078\n",
      "1763: 1.1432900428771973\n",
      "1764: 0.9797661304473877\n",
      "1765: 3.4045016765594482\n",
      "1766: 0.907642126083374\n",
      "1767: 1.8510894775390625\n",
      "1768: 1.030031681060791\n",
      "1769: 1.1819982528686523\n",
      "1770: 1.3075995445251465\n",
      "1771: 0.9646334648132324\n",
      "1772: 1.6429684162139893\n",
      "1773: 1.5735461711883545\n",
      "1774: 2.8829238414764404\n",
      "1775: 1.0397648811340332\n",
      "1776: 1.0206012725830078\n",
      "1777: 1.1093940734863281\n",
      "1778: 2.874875545501709\n",
      "1779: 1.163888692855835\n",
      "1780: 1.0765810012817383\n",
      "1781: 1.1050317287445068\n",
      "1782: 0.9482908248901367\n"
     ]
    },
    {
     "ename": "ValueError",
     "evalue": "The `response.parts` quick accessor only works for a single candidate, but none were returned. Check the `response.prompt_feedback` to see if the prompt was blocked.",
     "output_type": "error",
     "traceback": [
      "\u001B[0;31m---------------------------------------------------------------------------\u001B[0m",
      "\u001B[0;31mValueError\u001B[0m                                Traceback (most recent call last)",
      "Cell \u001B[0;32mIn[229], line 23\u001B[0m\n\u001B[1;32m     21\u001B[0m name_of_product \u001B[38;5;241m=\u001B[39m row[\u001B[38;5;124m\"\u001B[39m\u001B[38;5;124mname\u001B[39m\u001B[38;5;124m\"\u001B[39m]\n\u001B[1;32m     22\u001B[0m start_time \u001B[38;5;241m=\u001B[39m time\u001B[38;5;241m.\u001B[39mtime()\n\u001B[0;32m---> 23\u001B[0m products_df[\u001B[38;5;124m\"\u001B[39m\u001B[38;5;124mproduct_category\u001B[39m\u001B[38;5;124m\"\u001B[39m] \u001B[38;5;241m=\u001B[39m \u001B[43mfetch_category_name\u001B[49m\u001B[43m(\u001B[49m\u001B[43mname_of_product\u001B[49m\u001B[43m)\u001B[49m\n\u001B[1;32m     24\u001B[0m end_time \u001B[38;5;241m=\u001B[39m time\u001B[38;5;241m.\u001B[39mtime()\n\u001B[1;32m     25\u001B[0m \u001B[38;5;28mprint\u001B[39m(\u001B[38;5;124mf\u001B[39m\u001B[38;5;124m\"\u001B[39m\u001B[38;5;132;01m{\u001B[39;00midx\u001B[38;5;132;01m}\u001B[39;00m\u001B[38;5;124m: \u001B[39m\u001B[38;5;132;01m{\u001B[39;00mend_time\u001B[38;5;250m \u001B[39m\u001B[38;5;241m-\u001B[39m\u001B[38;5;250m \u001B[39mstart_time\u001B[38;5;132;01m}\u001B[39;00m\u001B[38;5;124m\"\u001B[39m)\n",
      "Cell \u001B[0;32mIn[229], line 15\u001B[0m, in \u001B[0;36mfetch_category_name\u001B[0;34m(product_name)\u001B[0m\n\u001B[1;32m      7\u001B[0m \u001B[38;5;28;01mdef\u001B[39;00m \u001B[38;5;21mfetch_category_name\u001B[39m(product_name):\n\u001B[1;32m      8\u001B[0m     \u001B[38;5;66;03m# name_has_non_al_num = not all(char.isalnum() for char in product_name)\u001B[39;00m\n\u001B[1;32m      9\u001B[0m     \u001B[38;5;66;03m# \u001B[39;00m\n\u001B[0;32m   (...)\u001B[0m\n\u001B[1;32m     13\u001B[0m     \u001B[38;5;66;03m#     return product_cat\u001B[39;00m\n\u001B[1;32m     14\u001B[0m     \u001B[38;5;66;03m# else:   \u001B[39;00m\n\u001B[0;32m---> 15\u001B[0m         product_cat \u001B[38;5;241m=\u001B[39m \u001B[43mgemini_call\u001B[49m\u001B[38;5;241;43m.\u001B[39;49m\u001B[43mpredict_product_category\u001B[49m\u001B[43m(\u001B[49m\u001B[43mproduct_name\u001B[49m\u001B[43m)\u001B[49m\n\u001B[1;32m     16\u001B[0m         \u001B[38;5;28;01mreturn\u001B[39;00m product_cat\n",
      "File \u001B[0;32m~/code/Jumia-WebScrape-Hackathon/scripts/gemini_api_call.py:26\u001B[0m, in \u001B[0;36mpredict_product_category\u001B[0;34m(name_of_product)\u001B[0m\n\u001B[1;32m     24\u001B[0m model \u001B[38;5;241m=\u001B[39m genai\u001B[38;5;241m.\u001B[39mGenerativeModel(\u001B[38;5;124m'\u001B[39m\u001B[38;5;124mgemini-pro\u001B[39m\u001B[38;5;124m'\u001B[39m)\n\u001B[1;32m     25\u001B[0m response \u001B[38;5;241m=\u001B[39m model\u001B[38;5;241m.\u001B[39mgenerate_content(prompt)\n\u001B[0;32m---> 26\u001B[0m \u001B[38;5;28;01mreturn\u001B[39;00m \u001B[43mresponse\u001B[49m\u001B[38;5;241;43m.\u001B[39;49m\u001B[43mtext\u001B[49m\n",
      "File \u001B[0;32m~/code/Jumia-WebScrape-Hackathon/venv/lib/python3.10/site-packages/google/generativeai/types/generation_types.py:331\u001B[0m, in \u001B[0;36mBaseGenerateContentResponse.text\u001B[0;34m(self)\u001B[0m\n\u001B[1;32m    324\u001B[0m \u001B[38;5;129m@property\u001B[39m\n\u001B[1;32m    325\u001B[0m \u001B[38;5;28;01mdef\u001B[39;00m \u001B[38;5;21mtext\u001B[39m(\u001B[38;5;28mself\u001B[39m):\n\u001B[1;32m    326\u001B[0m \u001B[38;5;250m    \u001B[39m\u001B[38;5;124;03m\"\"\"A quick accessor equivalent to `self.candidates[0].parts[0].text`\u001B[39;00m\n\u001B[1;32m    327\u001B[0m \n\u001B[1;32m    328\u001B[0m \u001B[38;5;124;03m    Raises:\u001B[39;00m\n\u001B[1;32m    329\u001B[0m \u001B[38;5;124;03m        ValueError: If the candidate list or parts list does not contain exactly one entry.\u001B[39;00m\n\u001B[1;32m    330\u001B[0m \u001B[38;5;124;03m    \"\"\"\u001B[39;00m\n\u001B[0;32m--> 331\u001B[0m     parts \u001B[38;5;241m=\u001B[39m \u001B[38;5;28;43mself\u001B[39;49m\u001B[38;5;241;43m.\u001B[39;49m\u001B[43mparts\u001B[49m\n\u001B[1;32m    332\u001B[0m     \u001B[38;5;28;01mif\u001B[39;00m \u001B[38;5;129;01mnot\u001B[39;00m parts:\n\u001B[1;32m    333\u001B[0m         \u001B[38;5;28;01mraise\u001B[39;00m \u001B[38;5;167;01mValueError\u001B[39;00m(\n\u001B[1;32m    334\u001B[0m             \u001B[38;5;124m\"\u001B[39m\u001B[38;5;124mThe `response.text` quick accessor only works when the response contains a valid \u001B[39m\u001B[38;5;124m\"\u001B[39m\n\u001B[1;32m    335\u001B[0m             \u001B[38;5;124m\"\u001B[39m\u001B[38;5;124m`Part`, but none was returned. Check the `candidate.safety_ratings` to see if the \u001B[39m\u001B[38;5;124m\"\u001B[39m\n\u001B[1;32m    336\u001B[0m             \u001B[38;5;124m\"\u001B[39m\u001B[38;5;124mresponse was blocked.\u001B[39m\u001B[38;5;124m\"\u001B[39m\n\u001B[1;32m    337\u001B[0m         )\n",
      "File \u001B[0;32m~/code/Jumia-WebScrape-Hackathon/venv/lib/python3.10/site-packages/google/generativeai/types/generation_types.py:311\u001B[0m, in \u001B[0;36mBaseGenerateContentResponse.parts\u001B[0;34m(self)\u001B[0m\n\u001B[1;32m    309\u001B[0m candidates \u001B[38;5;241m=\u001B[39m \u001B[38;5;28mself\u001B[39m\u001B[38;5;241m.\u001B[39mcandidates\n\u001B[1;32m    310\u001B[0m \u001B[38;5;28;01mif\u001B[39;00m \u001B[38;5;129;01mnot\u001B[39;00m candidates:\n\u001B[0;32m--> 311\u001B[0m     \u001B[38;5;28;01mraise\u001B[39;00m \u001B[38;5;167;01mValueError\u001B[39;00m(\n\u001B[1;32m    312\u001B[0m         \u001B[38;5;124m\"\u001B[39m\u001B[38;5;124mThe `response.parts` quick accessor only works for a single candidate, \u001B[39m\u001B[38;5;124m\"\u001B[39m\n\u001B[1;32m    313\u001B[0m         \u001B[38;5;124m\"\u001B[39m\u001B[38;5;124mbut none were returned. Check the `response.prompt_feedback` to see if the prompt was blocked.\u001B[39m\u001B[38;5;124m\"\u001B[39m\n\u001B[1;32m    314\u001B[0m     )\n\u001B[1;32m    315\u001B[0m \u001B[38;5;28;01mif\u001B[39;00m \u001B[38;5;28mlen\u001B[39m(candidates) \u001B[38;5;241m>\u001B[39m \u001B[38;5;241m1\u001B[39m:\n\u001B[1;32m    316\u001B[0m     \u001B[38;5;28;01mraise\u001B[39;00m \u001B[38;5;167;01mValueError\u001B[39;00m(\n\u001B[1;32m    317\u001B[0m         \u001B[38;5;124m\"\u001B[39m\u001B[38;5;124mThe `response.parts` quick accessor only works with a \u001B[39m\u001B[38;5;124m\"\u001B[39m\n\u001B[1;32m    318\u001B[0m         \u001B[38;5;124m\"\u001B[39m\u001B[38;5;124msingle candidate. With multiple candidates use \u001B[39m\u001B[38;5;124m\"\u001B[39m\n\u001B[1;32m    319\u001B[0m         \u001B[38;5;124m\"\u001B[39m\u001B[38;5;124mresult.candidates[index].text\u001B[39m\u001B[38;5;124m\"\u001B[39m\n\u001B[1;32m    320\u001B[0m     )\n",
      "\u001B[0;31mValueError\u001B[0m: The `response.parts` quick accessor only works for a single candidate, but none were returned. Check the `response.prompt_feedback` to see if the prompt was blocked."
     ]
    }
   ],
   "source": [
    "# Reload the module to refresh it since it has been modified since being imported\n",
    "importlib.reload(gemini_call)\n",
    "\n",
    "# def remove_non_alphanumeric(text):\n",
    "#     return re.sub(r'[^a-zA-Z0-9,.!\\s]', '', text)\n",
    "\n",
    "def fetch_category_name(product_name):\n",
    "    # name_has_non_al_num = not all(char.isalnum() for char in product_name)\n",
    "    # \n",
    "    # if name_has_non_al_num:\n",
    "    #     cleaned_product_name = remove_non_alphanumeric(product_name)\n",
    "    #     product_cat = gemini_call.predict_product_category(cleaned_product_name)\n",
    "    #     return product_cat\n",
    "    # else:   \n",
    "        product_cat = gemini_call.predict_product_category(product_name)\n",
    "        return product_cat \n",
    "\n",
    "\n",
    "# requests_counter = 0\n",
    "for idx, row in products_df.iterrows():\n",
    "    name_of_product = row[\"name\"]\n",
    "    start_time = time.time()\n",
    "    products_df[\"product_category\"] = fetch_category_name(name_of_product)\n",
    "    end_time = time.time()\n",
    "    print(f\"{idx}: {end_time - start_time}\")\n",
    "    \n",
    "    \n"
   ],
   "metadata": {
    "collapsed": false,
    "ExecuteTime": {
     "end_time": "2024-03-07T21:58:25.220393Z",
     "start_time": "2024-03-07T21:21:12.336230Z"
    }
   },
   "id": "9f70434c229c497",
   "execution_count": 229
  },
  {
   "cell_type": "markdown",
   "source": [
    "### Assign cleaned dataframe to a new name"
   ],
   "metadata": {
    "collapsed": false
   },
   "id": "eef6f6ab8c27f9e6"
  },
  {
   "cell_type": "code",
   "outputs": [
    {
     "data": {
      "text/plain": "name                2 In 1 Dual For Women Vaginal Ball Massager An...\nnew_price                                                      5190.0\nold_price                                                      8948.0\ndiscount                                                         0.42\nrating                                                           4.27\nvotes                                                          361.05\nproduct_category                                              Fashion\nName: 1783, dtype: object"
     },
     "execution_count": 234,
     "metadata": {},
     "output_type": "execute_result"
    }
   ],
   "source": [
    "# Read csv of the final data into dataframe\n",
    "# products_clean_df = pd.read_csv(\"../data/final/6_all_products_all_columns_cleaned.csv\", index_col=0)\n",
    "# products_clean_df.head()\n",
    "products_df.to_csv(\"../data/final/7_product_category_column_added.csv\")\n",
    "products_clean_df = pd.read_csv(\"../data/final/7_product_category_column_added.csv\", index_col=0)\n",
    "products_clean_df.iloc[1783]"
   ],
   "metadata": {
    "collapsed": false,
    "ExecuteTime": {
     "end_time": "2024-03-07T22:11:05.809108Z",
     "start_time": "2024-03-07T22:11:05.789546Z"
    }
   },
   "id": "b885c742d61fe619",
   "execution_count": 234
  },
  {
   "cell_type": "code",
   "outputs": [],
   "source": [
    "prod_name = products_clean_df[\"new_price\"][0]\n",
    "prod_name"
   ],
   "metadata": {
    "collapsed": false
   },
   "id": "2fed158fb30d80cb",
   "execution_count": null
  },
  {
   "cell_type": "markdown",
   "source": [
    "# DATA VISUALIZATION SECTION"
   ],
   "metadata": {
    "collapsed": false
   },
   "id": "fd11059b4f1ca555"
  },
  {
   "cell_type": "markdown",
   "source": [
    "### Summary stats of the data"
   ],
   "metadata": {
    "collapsed": false
   },
   "id": "78e2146e03531dad"
  },
  {
   "cell_type": "code",
   "outputs": [],
   "source": [
    "summary_stats = products_clean_df.describe()\n",
    "summary_stats"
   ],
   "metadata": {
    "collapsed": false
   },
   "id": "fc910e89daa67d0c",
   "execution_count": null
  },
  {
   "cell_type": "markdown",
   "source": [
    "### Deriving the correlation matrix"
   ],
   "metadata": {
    "collapsed": false
   },
   "id": "6d453bd7162baab4"
  },
  {
   "cell_type": "code",
   "outputs": [],
   "source": [
    "# Returning correlation matrix for only the numerical columns\n",
    "correlation_matrix = products_clean_df.corr(method='pearson', numeric_only=True)\n",
    "# correlation_matrix.to_csv(\"results/datafiles/pearson_correlation.csv\")\n",
    "correlation_matrix"
   ],
   "metadata": {
    "collapsed": false
   },
   "id": "7f17889fbf3e9669",
   "execution_count": null
  },
  {
   "cell_type": "code",
   "outputs": [],
   "source": [
    "plt.xticks(np.arange(len(products_clean_df.columns)), products_clean_df.columns, rotation=45)\n",
    "plt.yticks(np.arange(len(products_clean_df.columns)), products_clean_df.columns, rotation=45)\n",
    "\n",
    "sns.heatmap(correlation_matrix, annot=True, cmap='coolwarm')\n",
    "plt.title('Correlation Matrix of the Numeric Columns (Jumia data)', y=1.02)\n",
    "\n",
    "plt.savefig(\"../results/plots/1_correlation_matrix_of_Jumia_products_numeric_data.png\", bbox_inches=\"tight\",pad_inches=2)"
   ],
   "metadata": {
    "collapsed": false
   },
   "id": "73da0553a6a9cdc1",
   "execution_count": null
  },
  {
   "cell_type": "markdown",
   "source": [
    "### Visualize top-rated products with at least 200 votes"
   ],
   "metadata": {
    "collapsed": false
   },
   "id": "a20eae547fc92871"
  },
  {
   "cell_type": "code",
   "outputs": [],
   "source": [
    "# First filter for products with at least 200 votes (More votes makes a product rating more reliable)\n",
    "products_with_atleast_200_votes_df = products_clean_df[products_clean_df['votes'] >= 200]\n",
    "products_with_atleast_200_votes_df"
   ],
   "metadata": {
    "collapsed": false
   },
   "id": "495a7437e25a2ec9",
   "execution_count": null
  },
  {
   "cell_type": "code",
   "outputs": [],
   "source": [
    "# Check counts of products with rating at least 4.5\n",
    "top_rated_products_df = products_with_atleast_200_votes_df[products_with_atleast_200_votes_df['rating'] >= 4.5]\n",
    "top_rated_products_df"
   ],
   "metadata": {
    "collapsed": false
   },
   "id": "ce705bc978d2686a",
   "execution_count": null
  },
  {
   "cell_type": "code",
   "outputs": [],
   "source": [
    "# Selecting only votes & rating column before plotting\n",
    "new_top_rated_products_df = top_rated_products_df[['name','rating', 'votes']].reset_index(drop=True)\n",
    "new_top_rated_products_df"
   ],
   "metadata": {
    "collapsed": false
   },
   "id": "1cb5e0f114f4db47",
   "execution_count": null
  },
  {
   "cell_type": "code",
   "outputs": [],
   "source": [
    "# Creating a horizontal bar plot\n",
    "plt.figure(figsize=(18,10))\n",
    "\n",
    "plt.barh(new_top_rated_products_df['name'], new_top_rated_products_df['rating'])\n",
    "\n",
    "plt.title(\"Top-rated products with at least 4.5 stars and 200 Votes\")\n",
    "plt.ylabel(\"Product\", fontsize=7)\n",
    "plt.xlabel(\"Rating\")\n",
    "\n",
    "# Save the plot to file\n",
    "plt.savefig(\"../results/plots/2_products_4.5_stars_and_more_than_200_votes.png\",bbox_inches='tight',pad_inches=2)"
   ],
   "metadata": {
    "collapsed": false
   },
   "id": "ff51475d32badb4c",
   "execution_count": null
  },
  {
   "cell_type": "markdown",
   "source": [
    "### Showing product price distribution: Histogram with Kernel density estimate (kde) curve"
   ],
   "metadata": {
    "collapsed": false
   },
   "id": "f48775ee5a56cbf9"
  },
  {
   "cell_type": "code",
   "outputs": [],
   "source": [
    "plt.figure(figsize=(20, 5))\n",
    "sns.histplot(products_clean_df['new_price'], kde=True)\n",
    "plt.xlabel('Product Price')\n",
    "plt.xticks(np.arange(0, max(products_clean_df['new_price'])+1, 4000),rotation=90)\n",
    "plt.ylabel('Frequency')\n",
    "plt.title('Distribution of Product Prices')\n",
    "\n",
    "# Save the plot to file\n",
    "plt.savefig(\"../results/plots/3_product_prices_histogram_with_kernel_estimate_curve.png\",bbox_inches='tight',pad_inches=1)"
   ],
   "metadata": {
    "collapsed": false
   },
   "id": "1a8ed8fea776449c",
   "execution_count": null
  },
  {
   "cell_type": "markdown",
   "source": [
    "### Visualizing discount distribution"
   ],
   "metadata": {
    "collapsed": false
   },
   "id": "e47baac3e17ef294"
  },
  {
   "cell_type": "code",
   "outputs": [],
   "source": [
    "sns.histplot(products_clean_df['discount'])\n",
    "plt.xlabel('Discount')\n",
    "# plt.xticks(np.arange(0,max(products_clean_df['discount'])+1,0.5),rotation=90)\n",
    "plt.xticks(rotation=90)\n",
    "plt.ylabel('Frequency')\n",
    "plt.title('Distribution of Discounts')\n",
    "\n",
    "# Save the plot to file\n",
    "plt.savefig(\"../results/plots/4_product_discount_histogram.png\",bbox_inches='tight',pad_inches=1)"
   ],
   "metadata": {
    "collapsed": false
   },
   "id": "84229f6f3aff5d42",
   "execution_count": null
  },
  {
   "cell_type": "markdown",
   "source": [
    "### Visualizing rating distribution"
   ],
   "metadata": {
    "collapsed": false
   },
   "id": "d5369e7fc06e2b39"
  },
  {
   "cell_type": "code",
   "outputs": [],
   "source": [
    "sns.histplot(data=products_clean_df, x='rating')\n",
    "plt.title('Distribution of Ratings')\n",
    "plt.xticks(np.arange(1.0, max(products_clean_df['rating'])+1, 0.1),rotation=90,fontsize=8)\n",
    "plt.ylabel(\"Frequency\")\n",
    "\n",
    "# Save plot to file\n",
    "plt.savefig(\"../results/plots/5_ratings_distribution_histogram.png\", bbox_inches=\"tight\", pad_inches=1)"
   ],
   "metadata": {
    "collapsed": false
   },
   "id": "e61cbba61b0befce",
   "execution_count": null
  },
  {
   "cell_type": "markdown",
   "source": [
    "### Product Name Analysis"
   ],
   "metadata": {
    "collapsed": false
   },
   "id": "9375212852407a76"
  },
  {
   "cell_type": "code",
   "outputs": [],
   "source": [
    "words = ' '.join(products_clean_df['name']).split()\n",
    "all_words = Counter(words)\n",
    "# len(all_words)  # 4580\n",
    "\n",
    "# Returning an array of tuples with all_words & their counts, then return first 10\n",
    "all_words_counts = all_words.most_common()\n",
    "all_words_counts[:10]"
   ],
   "metadata": {
    "collapsed": false
   },
   "id": "b85078639df6b0aa",
   "execution_count": null
  },
  {
   "cell_type": "code",
   "outputs": [],
   "source": [
    "# Return only the alphabetical elements & their counts, & return the first 10\n",
    "only_alpha_words_list = [(word, count) for word, count in all_words_counts if word.isalpha()]\n",
    "only_alpha_words_list[:10]"
   ],
   "metadata": {
    "collapsed": false
   },
   "id": "e25f16d6713263ce",
   "execution_count": null
  },
  {
   "cell_type": "code",
   "outputs": [],
   "source": [
    "# Select the top 30 words\n",
    "first_30_words = only_alpha_words_list[:31]\n",
    "first_30_words\n",
    "\n",
    "# Future: Use library to remove conjuctions such as 'and' from this list"
   ],
   "metadata": {
    "collapsed": false
   },
   "id": "436ffa3e366aa11a",
   "execution_count": null
  },
  {
   "cell_type": "code",
   "outputs": [],
   "source": [
    "# Plot a chart with the first 30 words\n",
    "plt.bar([d[0] for d in first_30_words], [d[1] for d in first_30_words])\n",
    "plt.xlabel(\"Product names\")\n",
    "plt.xticks(rotation=90)\n",
    "plt.ylabel(\"Counts\")\n",
    "plt.title(\"Bar chart of Product Names & Values\")\n",
    "\n",
    "# Save plot to file\n",
    "plt.savefig(\"../results/plots/6_barchart_top_30_product_names_counts.png\", bbox_inches=\"tight\", pad_inches=1)"
   ],
   "metadata": {
    "collapsed": false
   },
   "id": "35886ec280671d34",
   "execution_count": null
  },
  {
   "cell_type": "markdown",
   "source": [
    "### Creating pairplot showing relationship between various numerical columns"
   ],
   "metadata": {
    "collapsed": false
   },
   "id": "1761542f42f8746b"
  },
  {
   "cell_type": "code",
   "outputs": [],
   "source": [
    "sns.pairplot(products_clean_df)\n",
    "plt.suptitle('Pair Plot of Numerical Features', y=1.02)\n",
    "\n",
    "# Save to file\n",
    "plt.savefig(\"../results/plots/7_pairplot_rltnships_between_all_numerical_columns.png\", bbox_inches=\"tight\", pad_inches=1)"
   ],
   "metadata": {
    "collapsed": false
   },
   "id": "ee549441690fda85",
   "execution_count": null
  },
  {
   "cell_type": "code",
   "outputs": [],
   "source": [],
   "metadata": {
    "collapsed": false
   },
   "id": "793ba1e2db383cd6",
   "execution_count": null
  }
 ],
 "metadata": {
  "kernelspec": {
   "display_name": "Python 3",
   "language": "python",
   "name": "python3"
  },
  "language_info": {
   "codemirror_mode": {
    "name": "ipython",
    "version": 2
   },
   "file_extension": ".py",
   "mimetype": "text/x-python",
   "name": "python",
   "nbconvert_exporter": "python",
   "pygments_lexer": "ipython2",
   "version": "2.7.6"
  }
 },
 "nbformat": 4,
 "nbformat_minor": 5
}
