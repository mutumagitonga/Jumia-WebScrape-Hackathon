{
 "cells": [
  {
   "cell_type": "markdown",
   "source": [
    "# Scraping Jumia Ecommerce Site: DSE HACKATHON"
   ],
   "metadata": {
    "collapsed": false
   },
   "id": "535c85fadfa6dbbb"
  },
  {
   "cell_type": "markdown",
   "source": [
    "## Import libraries"
   ],
   "metadata": {
    "collapsed": false
   },
   "id": "3e3f34666872e52c"
  },
  {
   "cell_type": "code",
   "outputs": [],
   "source": [
    "import requests as req\n",
    "from bs4 import BeautifulSoup\n",
    "import pandas as pd\n",
    "import numpy as np\n",
    "import matplotlib.pyplot as plt\n",
    "import seaborn as sns\n",
    "\n",
    "from collections import Counter\n",
    "import os\n",
    "import time\n",
    "import re\n",
    "\n",
    "import scripts.gemini_api_call as gemini_call\n",
    "from scripts import scraper\n",
    "import importlib"
   ],
   "metadata": {
    "collapsed": false,
    "ExecuteTime": {
     "end_time": "2024-03-13T15:20:53.328063Z",
     "start_time": "2024-03-13T15:20:53.324897Z"
    }
   },
   "id": "2322241c28235713",
   "execution_count": 252
  },
  {
   "cell_type": "code",
   "outputs": [],
   "source": [
    "# # start_time = time.time()\n",
    "# importlib.reload(gemini_call)\n",
    "# product_cat = gemini_call.predict_product_category(\"Infinix Note 30 4G, 6.66\"\", 256GB + 8GB RAM (Dual SIM), 5000mAh, Obsidian Black\")\n",
    "# # end_time = time.time()\n",
    "# # elapsed_time = end_time - start_time\n",
    "# # elapsed_time"
   ],
   "metadata": {
    "collapsed": false,
    "ExecuteTime": {
     "end_time": "2024-03-13T15:20:54.223428Z",
     "start_time": "2024-03-13T15:20:54.219726Z"
    }
   },
   "id": "5f45f53e03d47bbc",
   "execution_count": 253
  },
  {
   "cell_type": "code",
   "outputs": [],
   "source": [
    "# product_cat"
   ],
   "metadata": {
    "collapsed": false,
    "ExecuteTime": {
     "end_time": "2024-03-13T15:20:54.308504Z",
     "start_time": "2024-03-13T15:20:54.264233Z"
    }
   },
   "id": "107a91bf66e5614",
   "execution_count": 254
  },
  {
   "cell_type": "markdown",
   "source": [
    "## Define function to fetch website html data"
   ],
   "metadata": {
    "collapsed": false
   },
   "id": "8574b51e2782a8f0"
  },
  {
   "cell_type": "code",
   "outputs": [],
   "source": [
    "# def fetch_html_data(web_address):\n",
    "#     try:\n",
    "#         # print(f\"\\nFetching data from {web_address}...\")\n",
    "#         res = req.get(web_address)\n",
    "#         return res\n",
    "#     except req.exceptions.RequestException as e:\n",
    "#         print('Stopped:', e)\n",
    "#     except TypeError as e:\n",
    "#         print('Stopped:', e)"
   ],
   "metadata": {
    "collapsed": false,
    "ExecuteTime": {
     "end_time": "2024-03-13T15:20:54.358422Z",
     "start_time": "2024-03-13T15:20:54.341034Z"
    }
   },
   "id": "9236e42f049c01e4",
   "execution_count": 255
  },
  {
   "cell_type": "markdown",
   "source": [
    "# Define function to convert html data to BeautifulSoup object "
   ],
   "metadata": {
    "collapsed": false
   },
   "id": "6d30a35557ea82c9"
  },
  {
   "cell_type": "code",
   "outputs": [],
   "source": [
    "# def convert_web_data_to_beautiful_soup_obj(web_data):\n",
    "#     try:\n",
    "#         # print(\"Creating BeautifulSoup object...\")\n",
    "#         soup_obj = BeautifulSoup(web_data.text, \"html.parser\")\n",
    "#         # print(\"Success! Object created!\")\n",
    "#         return soup_obj\n",
    "#     except Exception as e:\n",
    "#         print(\"Stopped:\", e)"
   ],
   "metadata": {
    "collapsed": false,
    "ExecuteTime": {
     "end_time": "2024-03-13T15:20:54.408690Z",
     "start_time": "2024-03-13T15:20:54.360288Z"
    }
   },
   "id": "5b8744ac0a8d1b34",
   "execution_count": 256
  },
  {
   "cell_type": "markdown",
   "source": [
    "### Create array of products on each page, add each to product dictionary & append to array iteratively"
   ],
   "metadata": {
    "collapsed": false
   },
   "id": "955d2f38bd1f9ba5"
  },
  {
   "cell_type": "code",
   "outputs": [],
   "source": [
    "all_products_list = []\n",
    "\n",
    "def append_one_product_details_dictionary_to_list(pg):\n",
    "    # print(f\"Appending page {pg} products' details to array\")\n",
    "    \n",
    "    page_products_details_soup = soup.find_all(\"article\", class_=\"prd _fb col c-prd\")\n",
    "    \n",
    "    for detail in page_products_details_soup:\n",
    "        details_dict = {\"name\": detail.find(\"h3\", class_=\"name\").text.strip(),\n",
    "                        \"new_price\": detail.find(\"div\", class_=\"prc\").text.strip(),\n",
    "                        \"old_price\": detail.find(\"div\", class_=\"old\").text.strip() if detail.find(\"div\", class_=\"old\") else None,\n",
    "                        \"discount\": detail.find(\"div\", class_=\"bdg _dsct _sm\").text.strip() if detail.find(\"div\", class_=\"bdg _dsct _sm\") else None,\n",
    "                        \"rating\": detail.find(\"div\", class_=\"stars _s\").text.strip() if detail.find(\"div\", class_=\"stars _s\") else None,\n",
    "                        \"votes\": detail.find(\"div\", class_=\"rev\").text.strip() if detail.find(\"div\", class_=\"rev\") else None}\n",
    "        all_products_list.append(details_dict)\n",
    "\n",
    "\n",
    "# len(product_details_clean)"
   ],
   "metadata": {
    "collapsed": false,
    "ExecuteTime": {
     "end_time": "2024-03-13T15:20:54.459690Z",
     "start_time": "2024-03-13T15:20:54.409994Z"
    }
   },
   "id": "fd4498e7166a1627",
   "execution_count": 257
  },
  {
   "cell_type": "markdown",
   "source": [
    "### Fetch webdata, convert to BeautifulSoup Object, add product details dictionary to list"
   ],
   "metadata": {
    "collapsed": false
   },
   "id": "63e09bb6ed3fba7d"
  },
  {
   "cell_type": "code",
   "outputs": [],
   "source": [
    "# Declare the products’ url & the total webpage count\n",
    "other_pages_url = \"https://www.jumia.co.ke/all-products/?page=\"\n",
    "webpage_num_total = 50\n",
    "\n",
    "# If scraped products csv doesn't exist, run the scraper function below & save products to csv ELSE continue & read csv\n",
    "if not os.path.exists('../data/raw/all_products_list_raw.csv'):\n",
    "    for page in range(1, webpage_num_total+1, 1):\n",
    "        other_pages_url = \"https://www.jumia.co.ke/all-products/?page=\"\n",
    "        page = str(page)\n",
    "        other_pages_url = other_pages_url + page\n",
    "        response = scraper.fetch_html_data(other_pages_url)\n",
    "        # time.sleep(2.5)\n",
    "        soup = scraper.convert_web_data_to_beautiful_soup_obj(response)\n",
    "        append_one_product_details_dictionary_to_list(page)\n",
    "    \n",
    "    # Convert scraped list to dataframe\n",
    "    df = pd.DataFrame(all_products_list)\n",
    "    # Save scraped dataframe to csv to prevent scraping each time I run the notebook\n",
    "    df.to_csv('../data/raw/all_products_list_raw.csv')"
   ],
   "metadata": {
    "collapsed": false,
    "ExecuteTime": {
     "end_time": "2024-03-13T15:20:54.541308Z",
     "start_time": "2024-03-13T15:20:54.481876Z"
    }
   },
   "id": "e0f2cd3991c5d999",
   "execution_count": 258
  },
  {
   "cell_type": "markdown",
   "source": [
    "### Check product count"
   ],
   "metadata": {
    "collapsed": false
   },
   "id": "eb6acd584fb57e86"
  },
  {
   "cell_type": "code",
   "outputs": [],
   "source": [
    "# Read csv and specify index column to prevent creation of another redundant index\n",
    "products_df = pd.read_csv('../data/raw/all_products_list_raw.csv', index_col=0)  # Read products list from csv"
   ],
   "metadata": {
    "collapsed": false,
    "ExecuteTime": {
     "end_time": "2024-03-13T15:20:54.620106Z",
     "start_time": "2024-03-13T15:20:54.546272Z"
    }
   },
   "id": "828e8f982bcae649",
   "execution_count": 259
  },
  {
   "cell_type": "markdown",
   "source": [
    "### Inspect products list dataframe"
   ],
   "metadata": {
    "collapsed": false
   },
   "id": "ab74acb2c9f1127a"
  },
  {
   "cell_type": "code",
   "outputs": [
    {
     "data": {
      "text/plain": "                                                name  new_price  old_price  \\\n0  Garnier Anti-Blemish Charcoal Serum With AHA +...  KSh 1,400  KSh 1,750   \n1  Garnier Even & Matte  Vitamin C Booster Serum ...    KSh 850        NaN   \n2  Garnier Pure Active 3 In1 Charcoal Anti Blackh...  KSh 1,036  KSh 1,295   \n3  Garnier Even & Matte  Vitamin C Booster Serum ...  KSh 1,400  KSh 1,750   \n4                 Garnier Bye Acne & Dark Spots Kit.  KSh 3,608  KSh 4,245   \n\n  discount        rating               votes  \n0      20%  4.3 out of 5  4.3 out of 5(1513)  \n1      NaN  4.2 out of 5   4.2 out of 5(778)  \n2      20%  4.4 out of 5  4.4 out of 5(4792)  \n3      20%  4.4 out of 5  4.4 out of 5(3826)  \n4      15%  4.3 out of 5   4.3 out of 5(698)  ",
      "text/html": "<div>\n<style scoped>\n    .dataframe tbody tr th:only-of-type {\n        vertical-align: middle;\n    }\n\n    .dataframe tbody tr th {\n        vertical-align: top;\n    }\n\n    .dataframe thead th {\n        text-align: right;\n    }\n</style>\n<table border=\"1\" class=\"dataframe\">\n  <thead>\n    <tr style=\"text-align: right;\">\n      <th></th>\n      <th>name</th>\n      <th>new_price</th>\n      <th>old_price</th>\n      <th>discount</th>\n      <th>rating</th>\n      <th>votes</th>\n    </tr>\n  </thead>\n  <tbody>\n    <tr>\n      <th>0</th>\n      <td>Garnier Anti-Blemish Charcoal Serum With AHA +...</td>\n      <td>KSh 1,400</td>\n      <td>KSh 1,750</td>\n      <td>20%</td>\n      <td>4.3 out of 5</td>\n      <td>4.3 out of 5(1513)</td>\n    </tr>\n    <tr>\n      <th>1</th>\n      <td>Garnier Even &amp; Matte  Vitamin C Booster Serum ...</td>\n      <td>KSh 850</td>\n      <td>NaN</td>\n      <td>NaN</td>\n      <td>4.2 out of 5</td>\n      <td>4.2 out of 5(778)</td>\n    </tr>\n    <tr>\n      <th>2</th>\n      <td>Garnier Pure Active 3 In1 Charcoal Anti Blackh...</td>\n      <td>KSh 1,036</td>\n      <td>KSh 1,295</td>\n      <td>20%</td>\n      <td>4.4 out of 5</td>\n      <td>4.4 out of 5(4792)</td>\n    </tr>\n    <tr>\n      <th>3</th>\n      <td>Garnier Even &amp; Matte  Vitamin C Booster Serum ...</td>\n      <td>KSh 1,400</td>\n      <td>KSh 1,750</td>\n      <td>20%</td>\n      <td>4.4 out of 5</td>\n      <td>4.4 out of 5(3826)</td>\n    </tr>\n    <tr>\n      <th>4</th>\n      <td>Garnier Bye Acne &amp; Dark Spots Kit.</td>\n      <td>KSh 3,608</td>\n      <td>KSh 4,245</td>\n      <td>15%</td>\n      <td>4.3 out of 5</td>\n      <td>4.3 out of 5(698)</td>\n    </tr>\n  </tbody>\n</table>\n</div>"
     },
     "execution_count": 260,
     "metadata": {},
     "output_type": "execute_result"
    }
   ],
   "source": [
    "products_df.head()"
   ],
   "metadata": {
    "collapsed": false,
    "ExecuteTime": {
     "end_time": "2024-03-13T15:20:54.671054Z",
     "start_time": "2024-03-13T15:20:54.642499Z"
    }
   },
   "id": "9bc1541c84ba9cf4",
   "execution_count": 260
  },
  {
   "cell_type": "code",
   "outputs": [
    {
     "name": "stdout",
     "output_type": "stream",
     "text": [
      "<class 'pandas.core.frame.DataFrame'>\n",
      "Index: 2000 entries, 0 to 1999\n",
      "Data columns (total 6 columns):\n",
      " #   Column     Non-Null Count  Dtype \n",
      "---  ------     --------------  ----- \n",
      " 0   name       2000 non-null   object\n",
      " 1   new_price  2000 non-null   object\n",
      " 2   old_price  1725 non-null   object\n",
      " 3   discount   1725 non-null   object\n",
      " 4   rating     820 non-null    object\n",
      " 5   votes      820 non-null    object\n",
      "dtypes: object(6)\n",
      "memory usage: 109.4+ KB\n"
     ]
    }
   ],
   "source": [
    "products_df.info()"
   ],
   "metadata": {
    "collapsed": false,
    "ExecuteTime": {
     "end_time": "2024-03-13T15:20:54.736265Z",
     "start_time": "2024-03-13T15:20:54.729897Z"
    }
   },
   "id": "976ec4e23bad702d",
   "execution_count": 261
  },
  {
   "cell_type": "code",
   "outputs": [
    {
     "data": {
      "text/plain": "(2000, 6)"
     },
     "execution_count": 262,
     "metadata": {},
     "output_type": "execute_result"
    }
   ],
   "source": [
    "products_df.shape"
   ],
   "metadata": {
    "collapsed": false,
    "ExecuteTime": {
     "end_time": "2024-03-13T15:20:54.790483Z",
     "start_time": "2024-03-13T15:20:54.755062Z"
    }
   },
   "id": "3933ee31fae6c09",
   "execution_count": 262
  },
  {
   "cell_type": "markdown",
   "source": [
    "# Data Cleaning Section"
   ],
   "metadata": {
    "collapsed": false
   },
   "id": "b652b6b589590347"
  },
  {
   "cell_type": "markdown",
   "source": [
    "### Clean new_price column"
   ],
   "metadata": {
    "collapsed": false
   },
   "id": "61e39b08c31c7a9a"
  },
  {
   "cell_type": "code",
   "outputs": [
    {
     "data": {
      "text/plain": "'KSh 850'"
     },
     "execution_count": 263,
     "metadata": {},
     "output_type": "execute_result"
    }
   ],
   "source": [
    "products_df['new_price'][1]"
   ],
   "metadata": {
    "collapsed": false,
    "ExecuteTime": {
     "end_time": "2024-03-13T15:20:54.843759Z",
     "start_time": "2024-03-13T15:20:54.817078Z"
    }
   },
   "id": "60cb73b6d6ff6d66",
   "execution_count": 263
  },
  {
   "cell_type": "code",
   "outputs": [],
   "source": [
    "# Remove currency name 'Ksh' \n",
    "products_df['new_price'] = products_df['new_price'].apply(lambda x: x.split(' ')[1] if x is not None and isinstance(x,str) else x) "
   ],
   "metadata": {
    "collapsed": false,
    "ExecuteTime": {
     "end_time": "2024-03-13T15:20:54.912971Z",
     "start_time": "2024-03-13T15:20:54.879207Z"
    }
   },
   "id": "43feba7ebc504822",
   "execution_count": 264
  },
  {
   "cell_type": "code",
   "outputs": [
    {
     "name": "stdout",
     "output_type": "stream",
     "text": [
      "<class 'str'>\n",
      "0    1,400\n",
      "1      850\n",
      "2    1,036\n",
      "3    1,400\n",
      "4    3,608\n",
      "Name: new_price, dtype: object\n"
     ]
    }
   ],
   "source": [
    "print(type(products_df['new_price'][1]))\n",
    "print(products_df['new_price'].head())"
   ],
   "metadata": {
    "collapsed": false,
    "ExecuteTime": {
     "end_time": "2024-03-13T15:20:55.104985Z",
     "start_time": "2024-03-13T15:20:55.101588Z"
    }
   },
   "id": "3dc1f9774481f6d5",
   "execution_count": 265
  },
  {
   "cell_type": "code",
   "outputs": [
    {
     "data": {
      "text/plain": "0    1400\n1     850\n2    1036\n3    1400\n4    3608\nName: new_price, dtype: object"
     },
     "execution_count": 266,
     "metadata": {},
     "output_type": "execute_result"
    }
   ],
   "source": [
    "# Remove comma from thousands price values\n",
    "products_df['new_price'] = products_df['new_price'].apply(lambda x: x.replace(',','') if ',' in x and isinstance(x,str) else x)\n",
    "products_df['new_price'].head()"
   ],
   "metadata": {
    "collapsed": false,
    "ExecuteTime": {
     "end_time": "2024-03-13T15:20:55.202345Z",
     "start_time": "2024-03-13T15:20:55.197265Z"
    }
   },
   "id": "207f62ef8b56ec5",
   "execution_count": 266
  },
  {
   "cell_type": "code",
   "outputs": [
    {
     "name": "stdout",
     "output_type": "stream",
     "text": [
      "<class 'str'>\n"
     ]
    }
   ],
   "source": [
    "print(type(products_df['new_price'][1]))"
   ],
   "metadata": {
    "collapsed": false,
    "ExecuteTime": {
     "end_time": "2024-03-13T15:20:55.262994Z",
     "start_time": "2024-03-13T15:20:55.259718Z"
    }
   },
   "id": "f52e790439b1338e",
   "execution_count": 267
  },
  {
   "cell_type": "code",
   "outputs": [],
   "source": [
    "# Convert new_price column to float\n",
    "products_df['new_price'] = products_df['new_price'].apply(lambda x: float(x) if x is not None else x)"
   ],
   "metadata": {
    "collapsed": false,
    "ExecuteTime": {
     "end_time": "2024-03-13T15:20:55.326077Z",
     "start_time": "2024-03-13T15:20:55.310688Z"
    }
   },
   "id": "d3db69ac88e2d60e",
   "execution_count": 268
  },
  {
   "cell_type": "code",
   "outputs": [
    {
     "name": "stdout",
     "output_type": "stream",
     "text": [
      "<class 'numpy.float64'>\n",
      "float64\n"
     ]
    }
   ],
   "source": [
    "print(type(products_df['new_price'][1]))\n",
    "print(products_df['new_price'].dtype)"
   ],
   "metadata": {
    "collapsed": false,
    "ExecuteTime": {
     "end_time": "2024-03-13T15:20:55.392854Z",
     "start_time": "2024-03-13T15:20:55.350824Z"
    }
   },
   "id": "ed24a3912631e4aa",
   "execution_count": 269
  },
  {
   "cell_type": "code",
   "outputs": [
    {
     "data": {
      "text/plain": "                                                name  new_price  old_price  \\\n0  Garnier Anti-Blemish Charcoal Serum With AHA +...     1400.0  KSh 1,750   \n1  Garnier Even & Matte  Vitamin C Booster Serum ...      850.0        NaN   \n2  Garnier Pure Active 3 In1 Charcoal Anti Blackh...     1036.0  KSh 1,295   \n3  Garnier Even & Matte  Vitamin C Booster Serum ...     1400.0  KSh 1,750   \n4                 Garnier Bye Acne & Dark Spots Kit.     3608.0  KSh 4,245   \n\n  discount        rating               votes  \n0      20%  4.3 out of 5  4.3 out of 5(1513)  \n1      NaN  4.2 out of 5   4.2 out of 5(778)  \n2      20%  4.4 out of 5  4.4 out of 5(4792)  \n3      20%  4.4 out of 5  4.4 out of 5(3826)  \n4      15%  4.3 out of 5   4.3 out of 5(698)  ",
      "text/html": "<div>\n<style scoped>\n    .dataframe tbody tr th:only-of-type {\n        vertical-align: middle;\n    }\n\n    .dataframe tbody tr th {\n        vertical-align: top;\n    }\n\n    .dataframe thead th {\n        text-align: right;\n    }\n</style>\n<table border=\"1\" class=\"dataframe\">\n  <thead>\n    <tr style=\"text-align: right;\">\n      <th></th>\n      <th>name</th>\n      <th>new_price</th>\n      <th>old_price</th>\n      <th>discount</th>\n      <th>rating</th>\n      <th>votes</th>\n    </tr>\n  </thead>\n  <tbody>\n    <tr>\n      <th>0</th>\n      <td>Garnier Anti-Blemish Charcoal Serum With AHA +...</td>\n      <td>1400.0</td>\n      <td>KSh 1,750</td>\n      <td>20%</td>\n      <td>4.3 out of 5</td>\n      <td>4.3 out of 5(1513)</td>\n    </tr>\n    <tr>\n      <th>1</th>\n      <td>Garnier Even &amp; Matte  Vitamin C Booster Serum ...</td>\n      <td>850.0</td>\n      <td>NaN</td>\n      <td>NaN</td>\n      <td>4.2 out of 5</td>\n      <td>4.2 out of 5(778)</td>\n    </tr>\n    <tr>\n      <th>2</th>\n      <td>Garnier Pure Active 3 In1 Charcoal Anti Blackh...</td>\n      <td>1036.0</td>\n      <td>KSh 1,295</td>\n      <td>20%</td>\n      <td>4.4 out of 5</td>\n      <td>4.4 out of 5(4792)</td>\n    </tr>\n    <tr>\n      <th>3</th>\n      <td>Garnier Even &amp; Matte  Vitamin C Booster Serum ...</td>\n      <td>1400.0</td>\n      <td>KSh 1,750</td>\n      <td>20%</td>\n      <td>4.4 out of 5</td>\n      <td>4.4 out of 5(3826)</td>\n    </tr>\n    <tr>\n      <th>4</th>\n      <td>Garnier Bye Acne &amp; Dark Spots Kit.</td>\n      <td>3608.0</td>\n      <td>KSh 4,245</td>\n      <td>15%</td>\n      <td>4.3 out of 5</td>\n      <td>4.3 out of 5(698)</td>\n    </tr>\n  </tbody>\n</table>\n</div>"
     },
     "execution_count": 270,
     "metadata": {},
     "output_type": "execute_result"
    }
   ],
   "source": [
    "products_df.head()"
   ],
   "metadata": {
    "collapsed": false,
    "ExecuteTime": {
     "end_time": "2024-03-13T15:20:55.460372Z",
     "start_time": "2024-03-13T15:20:55.427710Z"
    }
   },
   "id": "2267be4bad50e9ad",
   "execution_count": 270
  },
  {
   "cell_type": "code",
   "outputs": [],
   "source": [
    "# Saving stage one (new_price) data cleaning file to csv\n",
    "products_df.to_csv(\"../data/processed/1_all_products_new_price_cleaned.csv\")"
   ],
   "metadata": {
    "collapsed": false,
    "ExecuteTime": {
     "end_time": "2024-03-13T15:20:55.561445Z",
     "start_time": "2024-03-13T15:20:55.461606Z"
    }
   },
   "id": "57e983c5bd96c79",
   "execution_count": 271
  },
  {
   "cell_type": "markdown",
   "source": [
    "### Clean old_price column"
   ],
   "metadata": {
    "collapsed": false
   },
   "id": "ba17d9026f584101"
  },
  {
   "cell_type": "code",
   "outputs": [
    {
     "data": {
      "text/plain": "array(['KSh 1,750', nan, 'KSh 1,295', 'KSh 4,245', 'KSh 850', 'KSh 3,500',\n       'KSh 3,045', 'KSh 2,100', 'KSh 2,066', 'KSh 2,300'], dtype=object)"
     },
     "execution_count": 272,
     "metadata": {},
     "output_type": "execute_result"
    }
   ],
   "source": [
    "# Read csv file cleaned in the previous stage (new_price column) & convert to dataframe\n",
    "products_df = pd.read_csv(\"../data/processed/1_all_products_new_price_cleaned.csv\", index_col=0)\n",
    "\n",
    "# Use [:10] notation to print the first 10 values\n",
    "products_df['old_price'].unique()[:10]"
   ],
   "metadata": {
    "collapsed": false,
    "ExecuteTime": {
     "end_time": "2024-03-13T15:20:55.656008Z",
     "start_time": "2024-03-13T15:20:55.562599Z"
    }
   },
   "id": "a53355520c2f30ae",
   "execution_count": 272
  },
  {
   "cell_type": "code",
   "outputs": [
    {
     "data": {
      "text/plain": "0    1,750\n1      NaN\n2    1,295\n3    1,750\n4    4,245\nName: old_price, dtype: object"
     },
     "execution_count": 273,
     "metadata": {},
     "output_type": "execute_result"
    }
   ],
   "source": [
    "# Remove currency name 'Ksh'\n",
    "# type(products_df['old_price'][1])\n",
    "products_df['old_price'] = products_df['old_price'].apply(lambda x: x.split(' ')[1] if x is not None and isinstance(x,str) else x)\n",
    "products_df['old_price'].head()"
   ],
   "metadata": {
    "collapsed": false,
    "ExecuteTime": {
     "end_time": "2024-03-13T15:20:55.700532Z",
     "start_time": "2024-03-13T15:20:55.657299Z"
    }
   },
   "id": "5a0109a5d43e344e",
   "execution_count": 273
  },
  {
   "cell_type": "code",
   "outputs": [
    {
     "data": {
      "text/plain": "0    1750\n1     NaN\n2    1295\n3    1750\n4    4245\n5     NaN\n6     NaN\n7     850\n8    3500\n9    3045\nName: old_price, dtype: object"
     },
     "execution_count": 274,
     "metadata": {},
     "output_type": "execute_result"
    }
   ],
   "source": [
    "# Remove commas from values\n",
    "products_df['old_price'] = products_df['old_price'].apply(lambda x: x.replace(',','') if x is not None and isinstance(x,str) else x)\n",
    "products_df['old_price'].head(10)"
   ],
   "metadata": {
    "collapsed": false,
    "ExecuteTime": {
     "end_time": "2024-03-13T15:20:55.811952Z",
     "start_time": "2024-03-13T15:20:55.701565Z"
    }
   },
   "id": "1ff042daaa234273",
   "execution_count": 274
  },
  {
   "cell_type": "code",
   "outputs": [
    {
     "data": {
      "text/plain": "0    1750.0\n1       NaN\n2    1295.0\n3    1750.0\n4    4245.0\n5       NaN\n6       NaN\n7     850.0\n8    3500.0\n9    3045.0\nName: old_price, dtype: float64"
     },
     "execution_count": 275,
     "metadata": {},
     "output_type": "execute_result"
    }
   ],
   "source": [
    "# Convert the string values into floats\n",
    "products_df['old_price'] = products_df['old_price'].apply(lambda x: float(x) if x is not None else x)\n",
    "products_df['old_price'].head(10)"
   ],
   "metadata": {
    "collapsed": false,
    "ExecuteTime": {
     "end_time": "2024-03-13T15:20:55.861286Z",
     "start_time": "2024-03-13T15:20:55.815373Z"
    }
   },
   "id": "c8d06329519bd37",
   "execution_count": 275
  },
  {
   "cell_type": "code",
   "outputs": [
    {
     "data": {
      "text/plain": "0       1750.0\n1          NaN\n2       1295.0\n3       1750.0\n4       4245.0\n         ...  \n1995    1685.0\n1996    6675.0\n1997    2002.0\n1998    1878.0\n1999    1750.0\nName: old_price, Length: 2000, dtype: float64"
     },
     "execution_count": 276,
     "metadata": {},
     "output_type": "execute_result"
    }
   ],
   "source": [
    "products_df['old_price']"
   ],
   "metadata": {
    "collapsed": false,
    "ExecuteTime": {
     "end_time": "2024-03-13T15:20:55.912477Z",
     "start_time": "2024-03-13T15:20:55.908099Z"
    }
   },
   "id": "5a42602924adc716",
   "execution_count": 276
  },
  {
   "cell_type": "code",
   "outputs": [
    {
     "name": "stdout",
     "output_type": "stream",
     "text": [
      "<class 'numpy.float64'>\n",
      "float64\n"
     ]
    }
   ],
   "source": [
    "# Index 18 from above was null. So checking its type: \n",
    "print(type(products_df['old_price'][18]))\n",
    "print(products_df['old_price'].dtype)"
   ],
   "metadata": {
    "collapsed": false,
    "ExecuteTime": {
     "end_time": "2024-03-13T15:20:55.995540Z",
     "start_time": "2024-03-13T15:20:55.992381Z"
    }
   },
   "id": "c087a27309772dfc",
   "execution_count": 277
  },
  {
   "cell_type": "code",
   "outputs": [
    {
     "data": {
      "text/plain": "                                                name  new_price  old_price  \\\n0  Garnier Anti-Blemish Charcoal Serum With AHA +...     1400.0     1750.0   \n1  Garnier Even & Matte  Vitamin C Booster Serum ...      850.0        NaN   \n2  Garnier Pure Active 3 In1 Charcoal Anti Blackh...     1036.0     1295.0   \n3  Garnier Even & Matte  Vitamin C Booster Serum ...     1400.0     1750.0   \n4                 Garnier Bye Acne & Dark Spots Kit.     3608.0     4245.0   \n\n  discount        rating               votes  \n0      20%  4.3 out of 5  4.3 out of 5(1513)  \n1      NaN  4.2 out of 5   4.2 out of 5(778)  \n2      20%  4.4 out of 5  4.4 out of 5(4792)  \n3      20%  4.4 out of 5  4.4 out of 5(3826)  \n4      15%  4.3 out of 5   4.3 out of 5(698)  ",
      "text/html": "<div>\n<style scoped>\n    .dataframe tbody tr th:only-of-type {\n        vertical-align: middle;\n    }\n\n    .dataframe tbody tr th {\n        vertical-align: top;\n    }\n\n    .dataframe thead th {\n        text-align: right;\n    }\n</style>\n<table border=\"1\" class=\"dataframe\">\n  <thead>\n    <tr style=\"text-align: right;\">\n      <th></th>\n      <th>name</th>\n      <th>new_price</th>\n      <th>old_price</th>\n      <th>discount</th>\n      <th>rating</th>\n      <th>votes</th>\n    </tr>\n  </thead>\n  <tbody>\n    <tr>\n      <th>0</th>\n      <td>Garnier Anti-Blemish Charcoal Serum With AHA +...</td>\n      <td>1400.0</td>\n      <td>1750.0</td>\n      <td>20%</td>\n      <td>4.3 out of 5</td>\n      <td>4.3 out of 5(1513)</td>\n    </tr>\n    <tr>\n      <th>1</th>\n      <td>Garnier Even &amp; Matte  Vitamin C Booster Serum ...</td>\n      <td>850.0</td>\n      <td>NaN</td>\n      <td>NaN</td>\n      <td>4.2 out of 5</td>\n      <td>4.2 out of 5(778)</td>\n    </tr>\n    <tr>\n      <th>2</th>\n      <td>Garnier Pure Active 3 In1 Charcoal Anti Blackh...</td>\n      <td>1036.0</td>\n      <td>1295.0</td>\n      <td>20%</td>\n      <td>4.4 out of 5</td>\n      <td>4.4 out of 5(4792)</td>\n    </tr>\n    <tr>\n      <th>3</th>\n      <td>Garnier Even &amp; Matte  Vitamin C Booster Serum ...</td>\n      <td>1400.0</td>\n      <td>1750.0</td>\n      <td>20%</td>\n      <td>4.4 out of 5</td>\n      <td>4.4 out of 5(3826)</td>\n    </tr>\n    <tr>\n      <th>4</th>\n      <td>Garnier Bye Acne &amp; Dark Spots Kit.</td>\n      <td>3608.0</td>\n      <td>4245.0</td>\n      <td>15%</td>\n      <td>4.3 out of 5</td>\n      <td>4.3 out of 5(698)</td>\n    </tr>\n  </tbody>\n</table>\n</div>"
     },
     "execution_count": 278,
     "metadata": {},
     "output_type": "execute_result"
    }
   ],
   "source": [
    "products_df.head()"
   ],
   "metadata": {
    "collapsed": false,
    "ExecuteTime": {
     "end_time": "2024-03-13T15:20:56.071921Z",
     "start_time": "2024-03-13T15:20:56.062967Z"
    }
   },
   "id": "716461a82bff9ecc",
   "execution_count": 278
  },
  {
   "cell_type": "code",
   "outputs": [],
   "source": [
    "# Saving stage two data (old_price column) cleaning dataframe to csv\n",
    "products_df.to_csv(\"../data/processed/2_all_products_old_price_cleaned.csv\")"
   ],
   "metadata": {
    "collapsed": false,
    "ExecuteTime": {
     "end_time": "2024-03-13T15:20:56.163654Z",
     "start_time": "2024-03-13T15:20:56.154329Z"
    }
   },
   "id": "a3db5d486f4261e0",
   "execution_count": 279
  },
  {
   "cell_type": "markdown",
   "source": [
    "### Cleaning 'discount' column"
   ],
   "metadata": {
    "collapsed": false
   },
   "id": "c63cd53e0523a410"
  },
  {
   "cell_type": "code",
   "outputs": [
    {
     "data": {
      "text/plain": "array(['20%', nan, '15%', '24%', '23%', '7%', '56%', '36%', '4%', '10%'],\n      dtype=object)"
     },
     "execution_count": 280,
     "metadata": {},
     "output_type": "execute_result"
    }
   ],
   "source": [
    "# Read csv file from stage 2 (old_price column cleanup) to get dataframe\n",
    "products_df = pd.read_csv(\"../data/processed/2_all_products_old_price_cleaned.csv\", index_col=0)\n",
    "\n",
    "# Use [:10] notation to print the first 10 values\n",
    "products_df['discount'].unique()[:10]"
   ],
   "metadata": {
    "collapsed": false,
    "ExecuteTime": {
     "end_time": "2024-03-13T15:20:56.280792Z",
     "start_time": "2024-03-13T15:20:56.273029Z"
    }
   },
   "id": "ec13b5b9215cdc2",
   "execution_count": 280
  },
  {
   "cell_type": "code",
   "outputs": [
    {
     "data": {
      "text/plain": "array(['20', nan, '15', '24', '23', '7', '56', '36', '4', '10', '1', '30',\n       '8', '38', '43', '25', '50', '29', '28', '34', '37', '48', '33',\n       '39', '46', '47', '22', '14', '44', '40', '5', '13', '18', '19',\n       '42', '35', '3', '26', '21', '17', '31', '45', '49', '54', '6',\n       '16', '27', '72', '11', '32', '41', '53', '51', '2', '52', '61',\n       '9', '57', '60', '12', '64', '69'], dtype=object)"
     },
     "execution_count": 281,
     "metadata": {},
     "output_type": "execute_result"
    }
   ],
   "source": [
    "# Remove the percent sign\n",
    "products_df['discount'] = products_df['discount'].apply(lambda x: x.replace('%','') if x is not None and isinstance(x,str) else x)\n",
    "products_df['discount'].unique()"
   ],
   "metadata": {
    "collapsed": false,
    "ExecuteTime": {
     "end_time": "2024-03-13T15:20:56.359702Z",
     "start_time": "2024-03-13T15:20:56.354374Z"
    }
   },
   "id": "50d15c0d3acb2d34",
   "execution_count": 281
  },
  {
   "cell_type": "code",
   "outputs": [
    {
     "data": {
      "text/plain": "array([0.2 ,  nan, 0.15, 0.24, 0.23, 0.07, 0.56, 0.36, 0.04, 0.1 , 0.01,\n       0.3 , 0.08, 0.38, 0.43, 0.25, 0.5 , 0.29, 0.28, 0.34, 0.37, 0.48,\n       0.33, 0.39, 0.46, 0.47, 0.22, 0.14, 0.44, 0.4 , 0.05, 0.13, 0.18,\n       0.19, 0.42, 0.35, 0.03, 0.26, 0.21, 0.17, 0.31, 0.45, 0.49, 0.54,\n       0.06, 0.16, 0.27, 0.72, 0.11, 0.32, 0.41, 0.53, 0.51, 0.02, 0.52,\n       0.61, 0.09, 0.57, 0.6 , 0.12, 0.64, 0.69])"
     },
     "execution_count": 282,
     "metadata": {},
     "output_type": "execute_result"
    }
   ],
   "source": [
    "# Convert values into float & divide by 100 to represent the percentages as decimal values\n",
    "products_df['discount'] = products_df['discount'].apply(lambda x: float(x)/100 if x is not None else x)\n",
    "products_df['discount'].unique()  # A numbers now floats and None replaced with NaN"
   ],
   "metadata": {
    "collapsed": false,
    "ExecuteTime": {
     "end_time": "2024-03-13T15:20:56.419868Z",
     "start_time": "2024-03-13T15:20:56.394091Z"
    }
   },
   "id": "2acf30f22baf5ded",
   "execution_count": 282
  },
  {
   "cell_type": "code",
   "outputs": [
    {
     "data": {
      "text/plain": "                                                name  new_price  old_price  \\\n0  Garnier Anti-Blemish Charcoal Serum With AHA +...     1400.0     1750.0   \n1  Garnier Even & Matte  Vitamin C Booster Serum ...      850.0        NaN   \n2  Garnier Pure Active 3 In1 Charcoal Anti Blackh...     1036.0     1295.0   \n3  Garnier Even & Matte  Vitamin C Booster Serum ...     1400.0     1750.0   \n4                 Garnier Bye Acne & Dark Spots Kit.     3608.0     4245.0   \n\n   discount        rating               votes  \n0      0.20  4.3 out of 5  4.3 out of 5(1513)  \n1       NaN  4.2 out of 5   4.2 out of 5(778)  \n2      0.20  4.4 out of 5  4.4 out of 5(4792)  \n3      0.20  4.4 out of 5  4.4 out of 5(3826)  \n4      0.15  4.3 out of 5   4.3 out of 5(698)  ",
      "text/html": "<div>\n<style scoped>\n    .dataframe tbody tr th:only-of-type {\n        vertical-align: middle;\n    }\n\n    .dataframe tbody tr th {\n        vertical-align: top;\n    }\n\n    .dataframe thead th {\n        text-align: right;\n    }\n</style>\n<table border=\"1\" class=\"dataframe\">\n  <thead>\n    <tr style=\"text-align: right;\">\n      <th></th>\n      <th>name</th>\n      <th>new_price</th>\n      <th>old_price</th>\n      <th>discount</th>\n      <th>rating</th>\n      <th>votes</th>\n    </tr>\n  </thead>\n  <tbody>\n    <tr>\n      <th>0</th>\n      <td>Garnier Anti-Blemish Charcoal Serum With AHA +...</td>\n      <td>1400.0</td>\n      <td>1750.0</td>\n      <td>0.20</td>\n      <td>4.3 out of 5</td>\n      <td>4.3 out of 5(1513)</td>\n    </tr>\n    <tr>\n      <th>1</th>\n      <td>Garnier Even &amp; Matte  Vitamin C Booster Serum ...</td>\n      <td>850.0</td>\n      <td>NaN</td>\n      <td>NaN</td>\n      <td>4.2 out of 5</td>\n      <td>4.2 out of 5(778)</td>\n    </tr>\n    <tr>\n      <th>2</th>\n      <td>Garnier Pure Active 3 In1 Charcoal Anti Blackh...</td>\n      <td>1036.0</td>\n      <td>1295.0</td>\n      <td>0.20</td>\n      <td>4.4 out of 5</td>\n      <td>4.4 out of 5(4792)</td>\n    </tr>\n    <tr>\n      <th>3</th>\n      <td>Garnier Even &amp; Matte  Vitamin C Booster Serum ...</td>\n      <td>1400.0</td>\n      <td>1750.0</td>\n      <td>0.20</td>\n      <td>4.4 out of 5</td>\n      <td>4.4 out of 5(3826)</td>\n    </tr>\n    <tr>\n      <th>4</th>\n      <td>Garnier Bye Acne &amp; Dark Spots Kit.</td>\n      <td>3608.0</td>\n      <td>4245.0</td>\n      <td>0.15</td>\n      <td>4.3 out of 5</td>\n      <td>4.3 out of 5(698)</td>\n    </tr>\n  </tbody>\n</table>\n</div>"
     },
     "execution_count": 283,
     "metadata": {},
     "output_type": "execute_result"
    }
   ],
   "source": [
    "# Check head once more\n",
    "products_df.head()"
   ],
   "metadata": {
    "collapsed": false,
    "ExecuteTime": {
     "end_time": "2024-03-13T15:20:56.607966Z",
     "start_time": "2024-03-13T15:20:56.600721Z"
    }
   },
   "id": "4e83eb5e61f09d0d",
   "execution_count": 283
  },
  {
   "cell_type": "code",
   "outputs": [],
   "source": [
    "# Saving stage three data cleaning file to csv\n",
    "products_df.to_csv(\"../data/processed/3_all_products_discount_cleaned.csv\")"
   ],
   "metadata": {
    "collapsed": false,
    "ExecuteTime": {
     "end_time": "2024-03-13T15:20:56.674719Z",
     "start_time": "2024-03-13T15:20:56.664842Z"
    }
   },
   "id": "c40aa159ab2a96e2",
   "execution_count": 284
  },
  {
   "cell_type": "markdown",
   "source": [
    "### Cleaning the rating column"
   ],
   "metadata": {
    "collapsed": false
   },
   "id": "6535be48b259ac7f"
  },
  {
   "cell_type": "code",
   "outputs": [
    {
     "data": {
      "text/plain": "array(['4.3 out of 5', '4.2 out of 5', '4.4 out of 5', '5 out of 5',\n       '4 out of 5', '4.8 out of 5', '4.6 out of 5', nan, '4.5 out of 5',\n       '4.7 out of 5'], dtype=object)"
     },
     "execution_count": 285,
     "metadata": {},
     "output_type": "execute_result"
    }
   ],
   "source": [
    "# Read file cleaned in prior stage (discount column) to get dataframe\n",
    "products_df = pd.read_csv(\"../data/processed/3_all_products_discount_cleaned.csv\", index_col=0)\n",
    "\n",
    "# Check for unique values first\n",
    "products_df['rating'].unique()[:10]"
   ],
   "metadata": {
    "collapsed": false,
    "ExecuteTime": {
     "end_time": "2024-03-13T15:20:56.767175Z",
     "start_time": "2024-03-13T15:20:56.758813Z"
    }
   },
   "id": "d64b3fc3696c1017",
   "execution_count": 285
  },
  {
   "cell_type": "code",
   "outputs": [
    {
     "data": {
      "text/plain": "array(['4.3', '4.2', '4.4', '5', '4', '4.8', '4.6', nan, '4.5', '4.7',\n       '4.9', '3', '4.1', '3.7', '3.8', '3.4', '3.5', '2.5', '1', '3.9',\n       '2', '3.6', '3.3', '3.1', '2.7', '3.2', '2.3'], dtype=object)"
     },
     "execution_count": 286,
     "metadata": {},
     "output_type": "execute_result"
    }
   ],
   "source": [
    "# Split rating string values into 4 elements and select the first element unless its None(left as is)\n",
    "products_df['rating'] = products_df['rating'].apply(lambda x: x.split(' ')[0] if x is not None and isinstance(x,str) else x)\n",
    "products_df['rating'].unique()"
   ],
   "metadata": {
    "collapsed": false,
    "ExecuteTime": {
     "end_time": "2024-03-13T15:20:56.970251Z",
     "start_time": "2024-03-13T15:20:56.851578Z"
    }
   },
   "id": "eca5fc6ac9c05c5b",
   "execution_count": 286
  },
  {
   "cell_type": "code",
   "outputs": [
    {
     "name": "stdout",
     "output_type": "stream",
     "text": [
      "float64\n"
     ]
    }
   ],
   "source": [
    "# Convert the values into float\n",
    "products_df['rating'] = products_df['rating'].apply(lambda x: float(x) if x is not None else x)\n",
    "print(products_df['rating'].dtype)"
   ],
   "metadata": {
    "collapsed": false,
    "ExecuteTime": {
     "end_time": "2024-03-13T15:20:57.127580Z",
     "start_time": "2024-03-13T15:20:57.068994Z"
    }
   },
   "id": "d1f3fd6eefd62dcf",
   "execution_count": 287
  },
  {
   "cell_type": "code",
   "outputs": [
    {
     "data": {
      "text/plain": "                                                 name  new_price  old_price  \\\n0   Garnier Anti-Blemish Charcoal Serum With AHA +...     1400.0     1750.0   \n1   Garnier Even & Matte  Vitamin C Booster Serum ...      850.0        NaN   \n2   Garnier Pure Active 3 In1 Charcoal Anti Blackh...     1036.0     1295.0   \n3   Garnier Even & Matte  Vitamin C Booster Serum ...     1400.0     1750.0   \n4                  Garnier Bye Acne & Dark Spots Kit.     3608.0     4245.0   \n5   Garnier Brightening Night Serum With 10% Pure ...     2495.0        NaN   \n6            Garnier Even & Matte Dark Spot Corrector     1050.0        NaN   \n7    L'Oreal GLYCOLIC BRIGHT FACE CLEANSER FOAM 100ML      649.0      850.0   \n8      Garnier Vitamin C Booster Serum 30ml Twin Pack     2975.0     3500.0   \n9   Garnier AHA+BHA Charcoal Serum + Pure Active 3...     2588.0     3045.0   \n10  Red Berry RSF810 Insulated Double Wall Vacuum ...      792.0        NaN   \n11               Maybelline Lasting Fix Setting Spray     1785.0     2100.0   \n12                       Boma SANDWICH TOASTER BM-722     1584.0        NaN   \n13  Maybelline Fit Me Mattifying Primer Matte And ...     1400.0        NaN   \n14  Campo Viejo Campo Viejo Reserva Red Wine - 750 ML     1599.0     2066.0   \n15  L'Oreal GLYCOLIC BRIGHT INSTANT GLOWING SERUM ...     1840.0     2300.0   \n16        Chivas Chivas Regal Whisky 18 Years - 750ml     8264.0     8934.0   \n17          Huggies Unisex Pants Gold Size 3 Count 36      859.0     1935.0   \n18    Garnier Even & Matte Oily Skin Face Moisturizer     1050.0        NaN   \n19  Red Berry RSF1001- Insulated Double Wall Vacuu...     1020.0        NaN   \n\n    discount  rating               votes  \n0       0.20     4.3  4.3 out of 5(1513)  \n1        NaN     4.2   4.2 out of 5(778)  \n2       0.20     4.4  4.4 out of 5(4792)  \n3       0.20     4.4  4.4 out of 5(3826)  \n4       0.15     4.3   4.3 out of 5(698)  \n5        NaN     5.0      5 out of 5(10)  \n6        NaN     4.0    4 out of 5(2751)  \n7       0.24     4.8    4.8 out of 5(47)  \n8       0.15     4.6   4.6 out of 5(489)  \n9       0.15     4.4   4.4 out of 5(480)  \n10       NaN     NaN                 NaN  \n11      0.15     4.5  4.5 out of 5(1558)  \n12       NaN     5.0       5 out of 5(1)  \n13       NaN     4.6   4.6 out of 5(407)  \n14      0.23     4.7     4.7 out of 5(9)  \n15      0.20     4.9    4.9 out of 5(32)  \n16      0.07     NaN                 NaN  \n17      0.56     5.0       5 out of 5(1)  \n18       NaN     4.0    4 out of 5(1133)  \n19       NaN     NaN                 NaN  ",
      "text/html": "<div>\n<style scoped>\n    .dataframe tbody tr th:only-of-type {\n        vertical-align: middle;\n    }\n\n    .dataframe tbody tr th {\n        vertical-align: top;\n    }\n\n    .dataframe thead th {\n        text-align: right;\n    }\n</style>\n<table border=\"1\" class=\"dataframe\">\n  <thead>\n    <tr style=\"text-align: right;\">\n      <th></th>\n      <th>name</th>\n      <th>new_price</th>\n      <th>old_price</th>\n      <th>discount</th>\n      <th>rating</th>\n      <th>votes</th>\n    </tr>\n  </thead>\n  <tbody>\n    <tr>\n      <th>0</th>\n      <td>Garnier Anti-Blemish Charcoal Serum With AHA +...</td>\n      <td>1400.0</td>\n      <td>1750.0</td>\n      <td>0.20</td>\n      <td>4.3</td>\n      <td>4.3 out of 5(1513)</td>\n    </tr>\n    <tr>\n      <th>1</th>\n      <td>Garnier Even &amp; Matte  Vitamin C Booster Serum ...</td>\n      <td>850.0</td>\n      <td>NaN</td>\n      <td>NaN</td>\n      <td>4.2</td>\n      <td>4.2 out of 5(778)</td>\n    </tr>\n    <tr>\n      <th>2</th>\n      <td>Garnier Pure Active 3 In1 Charcoal Anti Blackh...</td>\n      <td>1036.0</td>\n      <td>1295.0</td>\n      <td>0.20</td>\n      <td>4.4</td>\n      <td>4.4 out of 5(4792)</td>\n    </tr>\n    <tr>\n      <th>3</th>\n      <td>Garnier Even &amp; Matte  Vitamin C Booster Serum ...</td>\n      <td>1400.0</td>\n      <td>1750.0</td>\n      <td>0.20</td>\n      <td>4.4</td>\n      <td>4.4 out of 5(3826)</td>\n    </tr>\n    <tr>\n      <th>4</th>\n      <td>Garnier Bye Acne &amp; Dark Spots Kit.</td>\n      <td>3608.0</td>\n      <td>4245.0</td>\n      <td>0.15</td>\n      <td>4.3</td>\n      <td>4.3 out of 5(698)</td>\n    </tr>\n    <tr>\n      <th>5</th>\n      <td>Garnier Brightening Night Serum With 10% Pure ...</td>\n      <td>2495.0</td>\n      <td>NaN</td>\n      <td>NaN</td>\n      <td>5.0</td>\n      <td>5 out of 5(10)</td>\n    </tr>\n    <tr>\n      <th>6</th>\n      <td>Garnier Even &amp; Matte Dark Spot Corrector</td>\n      <td>1050.0</td>\n      <td>NaN</td>\n      <td>NaN</td>\n      <td>4.0</td>\n      <td>4 out of 5(2751)</td>\n    </tr>\n    <tr>\n      <th>7</th>\n      <td>L'Oreal GLYCOLIC BRIGHT FACE CLEANSER FOAM 100ML</td>\n      <td>649.0</td>\n      <td>850.0</td>\n      <td>0.24</td>\n      <td>4.8</td>\n      <td>4.8 out of 5(47)</td>\n    </tr>\n    <tr>\n      <th>8</th>\n      <td>Garnier Vitamin C Booster Serum 30ml Twin Pack</td>\n      <td>2975.0</td>\n      <td>3500.0</td>\n      <td>0.15</td>\n      <td>4.6</td>\n      <td>4.6 out of 5(489)</td>\n    </tr>\n    <tr>\n      <th>9</th>\n      <td>Garnier AHA+BHA Charcoal Serum + Pure Active 3...</td>\n      <td>2588.0</td>\n      <td>3045.0</td>\n      <td>0.15</td>\n      <td>4.4</td>\n      <td>4.4 out of 5(480)</td>\n    </tr>\n    <tr>\n      <th>10</th>\n      <td>Red Berry RSF810 Insulated Double Wall Vacuum ...</td>\n      <td>792.0</td>\n      <td>NaN</td>\n      <td>NaN</td>\n      <td>NaN</td>\n      <td>NaN</td>\n    </tr>\n    <tr>\n      <th>11</th>\n      <td>Maybelline Lasting Fix Setting Spray</td>\n      <td>1785.0</td>\n      <td>2100.0</td>\n      <td>0.15</td>\n      <td>4.5</td>\n      <td>4.5 out of 5(1558)</td>\n    </tr>\n    <tr>\n      <th>12</th>\n      <td>Boma SANDWICH TOASTER BM-722</td>\n      <td>1584.0</td>\n      <td>NaN</td>\n      <td>NaN</td>\n      <td>5.0</td>\n      <td>5 out of 5(1)</td>\n    </tr>\n    <tr>\n      <th>13</th>\n      <td>Maybelline Fit Me Mattifying Primer Matte And ...</td>\n      <td>1400.0</td>\n      <td>NaN</td>\n      <td>NaN</td>\n      <td>4.6</td>\n      <td>4.6 out of 5(407)</td>\n    </tr>\n    <tr>\n      <th>14</th>\n      <td>Campo Viejo Campo Viejo Reserva Red Wine - 750 ML</td>\n      <td>1599.0</td>\n      <td>2066.0</td>\n      <td>0.23</td>\n      <td>4.7</td>\n      <td>4.7 out of 5(9)</td>\n    </tr>\n    <tr>\n      <th>15</th>\n      <td>L'Oreal GLYCOLIC BRIGHT INSTANT GLOWING SERUM ...</td>\n      <td>1840.0</td>\n      <td>2300.0</td>\n      <td>0.20</td>\n      <td>4.9</td>\n      <td>4.9 out of 5(32)</td>\n    </tr>\n    <tr>\n      <th>16</th>\n      <td>Chivas Chivas Regal Whisky 18 Years - 750ml</td>\n      <td>8264.0</td>\n      <td>8934.0</td>\n      <td>0.07</td>\n      <td>NaN</td>\n      <td>NaN</td>\n    </tr>\n    <tr>\n      <th>17</th>\n      <td>Huggies Unisex Pants Gold Size 3 Count 36</td>\n      <td>859.0</td>\n      <td>1935.0</td>\n      <td>0.56</td>\n      <td>5.0</td>\n      <td>5 out of 5(1)</td>\n    </tr>\n    <tr>\n      <th>18</th>\n      <td>Garnier Even &amp; Matte Oily Skin Face Moisturizer</td>\n      <td>1050.0</td>\n      <td>NaN</td>\n      <td>NaN</td>\n      <td>4.0</td>\n      <td>4 out of 5(1133)</td>\n    </tr>\n    <tr>\n      <th>19</th>\n      <td>Red Berry RSF1001- Insulated Double Wall Vacuu...</td>\n      <td>1020.0</td>\n      <td>NaN</td>\n      <td>NaN</td>\n      <td>NaN</td>\n      <td>NaN</td>\n    </tr>\n  </tbody>\n</table>\n</div>"
     },
     "execution_count": 288,
     "metadata": {},
     "output_type": "execute_result"
    }
   ],
   "source": [
    "products_df.head(20)"
   ],
   "metadata": {
    "collapsed": false,
    "ExecuteTime": {
     "end_time": "2024-03-13T15:20:57.276343Z",
     "start_time": "2024-03-13T15:20:57.133082Z"
    }
   },
   "id": "6f35b7c6bec53f92",
   "execution_count": 288
  },
  {
   "cell_type": "code",
   "outputs": [],
   "source": [
    "# Saving stage four data cleaning file to csv\n",
    "products_df.to_csv(\"../data/processed/4_all_products_rating_cleaned.csv\")"
   ],
   "metadata": {
    "collapsed": false,
    "ExecuteTime": {
     "end_time": "2024-03-13T15:20:57.406533Z",
     "start_time": "2024-03-13T15:20:57.277754Z"
    }
   },
   "id": "277a8145e3ba6fba",
   "execution_count": 289
  },
  {
   "cell_type": "markdown",
   "source": [
    "### Cleaning the 'votes' column"
   ],
   "metadata": {
    "collapsed": false
   },
   "id": "a4d6415ea873b0d1"
  },
  {
   "cell_type": "code",
   "outputs": [
    {
     "data": {
      "text/plain": "array(['4.3 out of 5(1513)', '4.2 out of 5(778)', '4.4 out of 5(4792)',\n       '4.4 out of 5(3826)', '4.3 out of 5(698)', '5 out of 5(10)',\n       '4 out of 5(2751)', '4.8 out of 5(47)', '4.6 out of 5(489)',\n       '4.4 out of 5(480)'], dtype=object)"
     },
     "execution_count": 290,
     "metadata": {},
     "output_type": "execute_result"
    }
   ],
   "source": [
    "# Read csv file saved in prior cleaning stage (rating column) to obtain dataframe\n",
    "products_df = pd.read_csv(\"../data/processed/4_all_products_rating_cleaned.csv\", index_col=0)\n",
    "\n",
    "# Explore unique values\n",
    "products_df['votes'].unique()[:10]"
   ],
   "metadata": {
    "collapsed": false,
    "ExecuteTime": {
     "end_time": "2024-03-13T15:20:57.612972Z",
     "start_time": "2024-03-13T15:20:57.407767Z"
    }
   },
   "id": "a961defaeec97dd7",
   "execution_count": 290
  },
  {
   "cell_type": "code",
   "outputs": [
    {
     "data": {
      "text/plain": "array([1.513e+03, 7.780e+02, 4.792e+03, 3.826e+03, 6.980e+02, 1.000e+01,\n       2.751e+03, 4.700e+01, 4.890e+02, 4.800e+02,       nan, 1.558e+03,\n       1.000e+00, 4.070e+02, 9.000e+00])"
     },
     "execution_count": 291,
     "metadata": {},
     "output_type": "execute_result"
    }
   ],
   "source": [
    "# Extract the votes count with string manipulation methods & convert values to floats\n",
    "products_df['votes'] = products_df['votes'].apply(lambda x: float(x.split('(')[1].split(')')[0]) if x is not None and isinstance(x,str) else x)\n",
    "products_df['votes'].unique()[:15]"
   ],
   "metadata": {
    "collapsed": false,
    "ExecuteTime": {
     "end_time": "2024-03-13T15:20:57.841241Z",
     "start_time": "2024-03-13T15:20:57.613895Z"
    }
   },
   "id": "a5ffc888a7d31fec",
   "execution_count": 291
  },
  {
   "cell_type": "code",
   "outputs": [
    {
     "data": {
      "text/plain": "                                                 name  new_price  old_price  \\\n0   Garnier Anti-Blemish Charcoal Serum With AHA +...     1400.0     1750.0   \n1   Garnier Even & Matte  Vitamin C Booster Serum ...      850.0        NaN   \n2   Garnier Pure Active 3 In1 Charcoal Anti Blackh...     1036.0     1295.0   \n3   Garnier Even & Matte  Vitamin C Booster Serum ...     1400.0     1750.0   \n4                  Garnier Bye Acne & Dark Spots Kit.     3608.0     4245.0   \n5   Garnier Brightening Night Serum With 10% Pure ...     2495.0        NaN   \n6            Garnier Even & Matte Dark Spot Corrector     1050.0        NaN   \n7    L'Oreal GLYCOLIC BRIGHT FACE CLEANSER FOAM 100ML      649.0      850.0   \n8      Garnier Vitamin C Booster Serum 30ml Twin Pack     2975.0     3500.0   \n9   Garnier AHA+BHA Charcoal Serum + Pure Active 3...     2588.0     3045.0   \n10  Red Berry RSF810 Insulated Double Wall Vacuum ...      792.0        NaN   \n11               Maybelline Lasting Fix Setting Spray     1785.0     2100.0   \n12                       Boma SANDWICH TOASTER BM-722     1584.0        NaN   \n13  Maybelline Fit Me Mattifying Primer Matte And ...     1400.0        NaN   \n14  Campo Viejo Campo Viejo Reserva Red Wine - 750 ML     1599.0     2066.0   \n15  L'Oreal GLYCOLIC BRIGHT INSTANT GLOWING SERUM ...     1840.0     2300.0   \n16        Chivas Chivas Regal Whisky 18 Years - 750ml     8264.0     8934.0   \n17          Huggies Unisex Pants Gold Size 3 Count 36      859.0     1935.0   \n18    Garnier Even & Matte Oily Skin Face Moisturizer     1050.0        NaN   \n19  Red Berry RSF1001- Insulated Double Wall Vacuu...     1020.0        NaN   \n\n    discount  rating   votes  \n0       0.20     4.3  1513.0  \n1        NaN     4.2   778.0  \n2       0.20     4.4  4792.0  \n3       0.20     4.4  3826.0  \n4       0.15     4.3   698.0  \n5        NaN     5.0    10.0  \n6        NaN     4.0  2751.0  \n7       0.24     4.8    47.0  \n8       0.15     4.6   489.0  \n9       0.15     4.4   480.0  \n10       NaN     NaN     NaN  \n11      0.15     4.5  1558.0  \n12       NaN     5.0     1.0  \n13       NaN     4.6   407.0  \n14      0.23     4.7     9.0  \n15      0.20     4.9    32.0  \n16      0.07     NaN     NaN  \n17      0.56     5.0     1.0  \n18       NaN     4.0  1133.0  \n19       NaN     NaN     NaN  ",
      "text/html": "<div>\n<style scoped>\n    .dataframe tbody tr th:only-of-type {\n        vertical-align: middle;\n    }\n\n    .dataframe tbody tr th {\n        vertical-align: top;\n    }\n\n    .dataframe thead th {\n        text-align: right;\n    }\n</style>\n<table border=\"1\" class=\"dataframe\">\n  <thead>\n    <tr style=\"text-align: right;\">\n      <th></th>\n      <th>name</th>\n      <th>new_price</th>\n      <th>old_price</th>\n      <th>discount</th>\n      <th>rating</th>\n      <th>votes</th>\n    </tr>\n  </thead>\n  <tbody>\n    <tr>\n      <th>0</th>\n      <td>Garnier Anti-Blemish Charcoal Serum With AHA +...</td>\n      <td>1400.0</td>\n      <td>1750.0</td>\n      <td>0.20</td>\n      <td>4.3</td>\n      <td>1513.0</td>\n    </tr>\n    <tr>\n      <th>1</th>\n      <td>Garnier Even &amp; Matte  Vitamin C Booster Serum ...</td>\n      <td>850.0</td>\n      <td>NaN</td>\n      <td>NaN</td>\n      <td>4.2</td>\n      <td>778.0</td>\n    </tr>\n    <tr>\n      <th>2</th>\n      <td>Garnier Pure Active 3 In1 Charcoal Anti Blackh...</td>\n      <td>1036.0</td>\n      <td>1295.0</td>\n      <td>0.20</td>\n      <td>4.4</td>\n      <td>4792.0</td>\n    </tr>\n    <tr>\n      <th>3</th>\n      <td>Garnier Even &amp; Matte  Vitamin C Booster Serum ...</td>\n      <td>1400.0</td>\n      <td>1750.0</td>\n      <td>0.20</td>\n      <td>4.4</td>\n      <td>3826.0</td>\n    </tr>\n    <tr>\n      <th>4</th>\n      <td>Garnier Bye Acne &amp; Dark Spots Kit.</td>\n      <td>3608.0</td>\n      <td>4245.0</td>\n      <td>0.15</td>\n      <td>4.3</td>\n      <td>698.0</td>\n    </tr>\n    <tr>\n      <th>5</th>\n      <td>Garnier Brightening Night Serum With 10% Pure ...</td>\n      <td>2495.0</td>\n      <td>NaN</td>\n      <td>NaN</td>\n      <td>5.0</td>\n      <td>10.0</td>\n    </tr>\n    <tr>\n      <th>6</th>\n      <td>Garnier Even &amp; Matte Dark Spot Corrector</td>\n      <td>1050.0</td>\n      <td>NaN</td>\n      <td>NaN</td>\n      <td>4.0</td>\n      <td>2751.0</td>\n    </tr>\n    <tr>\n      <th>7</th>\n      <td>L'Oreal GLYCOLIC BRIGHT FACE CLEANSER FOAM 100ML</td>\n      <td>649.0</td>\n      <td>850.0</td>\n      <td>0.24</td>\n      <td>4.8</td>\n      <td>47.0</td>\n    </tr>\n    <tr>\n      <th>8</th>\n      <td>Garnier Vitamin C Booster Serum 30ml Twin Pack</td>\n      <td>2975.0</td>\n      <td>3500.0</td>\n      <td>0.15</td>\n      <td>4.6</td>\n      <td>489.0</td>\n    </tr>\n    <tr>\n      <th>9</th>\n      <td>Garnier AHA+BHA Charcoal Serum + Pure Active 3...</td>\n      <td>2588.0</td>\n      <td>3045.0</td>\n      <td>0.15</td>\n      <td>4.4</td>\n      <td>480.0</td>\n    </tr>\n    <tr>\n      <th>10</th>\n      <td>Red Berry RSF810 Insulated Double Wall Vacuum ...</td>\n      <td>792.0</td>\n      <td>NaN</td>\n      <td>NaN</td>\n      <td>NaN</td>\n      <td>NaN</td>\n    </tr>\n    <tr>\n      <th>11</th>\n      <td>Maybelline Lasting Fix Setting Spray</td>\n      <td>1785.0</td>\n      <td>2100.0</td>\n      <td>0.15</td>\n      <td>4.5</td>\n      <td>1558.0</td>\n    </tr>\n    <tr>\n      <th>12</th>\n      <td>Boma SANDWICH TOASTER BM-722</td>\n      <td>1584.0</td>\n      <td>NaN</td>\n      <td>NaN</td>\n      <td>5.0</td>\n      <td>1.0</td>\n    </tr>\n    <tr>\n      <th>13</th>\n      <td>Maybelline Fit Me Mattifying Primer Matte And ...</td>\n      <td>1400.0</td>\n      <td>NaN</td>\n      <td>NaN</td>\n      <td>4.6</td>\n      <td>407.0</td>\n    </tr>\n    <tr>\n      <th>14</th>\n      <td>Campo Viejo Campo Viejo Reserva Red Wine - 750 ML</td>\n      <td>1599.0</td>\n      <td>2066.0</td>\n      <td>0.23</td>\n      <td>4.7</td>\n      <td>9.0</td>\n    </tr>\n    <tr>\n      <th>15</th>\n      <td>L'Oreal GLYCOLIC BRIGHT INSTANT GLOWING SERUM ...</td>\n      <td>1840.0</td>\n      <td>2300.0</td>\n      <td>0.20</td>\n      <td>4.9</td>\n      <td>32.0</td>\n    </tr>\n    <tr>\n      <th>16</th>\n      <td>Chivas Chivas Regal Whisky 18 Years - 750ml</td>\n      <td>8264.0</td>\n      <td>8934.0</td>\n      <td>0.07</td>\n      <td>NaN</td>\n      <td>NaN</td>\n    </tr>\n    <tr>\n      <th>17</th>\n      <td>Huggies Unisex Pants Gold Size 3 Count 36</td>\n      <td>859.0</td>\n      <td>1935.0</td>\n      <td>0.56</td>\n      <td>5.0</td>\n      <td>1.0</td>\n    </tr>\n    <tr>\n      <th>18</th>\n      <td>Garnier Even &amp; Matte Oily Skin Face Moisturizer</td>\n      <td>1050.0</td>\n      <td>NaN</td>\n      <td>NaN</td>\n      <td>4.0</td>\n      <td>1133.0</td>\n    </tr>\n    <tr>\n      <th>19</th>\n      <td>Red Berry RSF1001- Insulated Double Wall Vacuu...</td>\n      <td>1020.0</td>\n      <td>NaN</td>\n      <td>NaN</td>\n      <td>NaN</td>\n      <td>NaN</td>\n    </tr>\n  </tbody>\n</table>\n</div>"
     },
     "execution_count": 292,
     "metadata": {},
     "output_type": "execute_result"
    }
   ],
   "source": [
    "products_df.head(20)"
   ],
   "metadata": {
    "collapsed": false,
    "ExecuteTime": {
     "end_time": "2024-03-13T15:20:57.998992Z",
     "start_time": "2024-03-13T15:20:57.842779Z"
    }
   },
   "id": "66caa8a96b465dda",
   "execution_count": 292
  },
  {
   "cell_type": "code",
   "outputs": [],
   "source": [
    "# Saving stage five data cleaning file to csv\n",
    "products_df.to_csv(\"../data/processed/5_all_products_votes_cleaned.csv\")"
   ],
   "metadata": {
    "collapsed": false,
    "ExecuteTime": {
     "end_time": "2024-03-13T15:20:58.149669Z",
     "start_time": "2024-03-13T15:20:57.999994Z"
    }
   },
   "id": "290751887549d0ac",
   "execution_count": 293
  },
  {
   "cell_type": "markdown",
   "source": [
    "## Dealing with null values"
   ],
   "metadata": {
    "collapsed": false
   },
   "id": "8360f1fa230100d6"
  },
  {
   "cell_type": "code",
   "outputs": [],
   "source": [
    "# Read csv file from prior cleaning (votes column) to get dataframe\n",
    "products_df = pd.read_csv(\"../data/processed/5_all_products_votes_cleaned.csv\", index_col=0)"
   ],
   "metadata": {
    "collapsed": false,
    "ExecuteTime": {
     "end_time": "2024-03-13T15:20:58.323771Z",
     "start_time": "2024-03-13T15:20:58.150834Z"
    }
   },
   "id": "452c48f38f354b5c",
   "execution_count": 294
  },
  {
   "cell_type": "code",
   "outputs": [
    {
     "data": {
      "text/plain": "'rating'"
     },
     "execution_count": 295,
     "metadata": {},
     "output_type": "execute_result"
    }
   ],
   "source": [
    "products_df.isnull().sum().idxmax()"
   ],
   "metadata": {
    "collapsed": false,
    "ExecuteTime": {
     "end_time": "2024-03-13T15:20:58.485884Z",
     "start_time": "2024-03-13T15:20:58.325351Z"
    }
   },
   "id": "d1c27fb48422c189",
   "execution_count": 295
  },
  {
   "cell_type": "code",
   "outputs": [
    {
     "name": "stdout",
     "output_type": "stream",
     "text": [
      "new_price nulls: 0\n",
      "old_price nulls: 275\n",
      "discount nulls: 275\n",
      "rating nulls: 1180\n",
      "votes nulls: 1180\n"
     ]
    }
   ],
   "source": [
    "print(f\"new_price nulls: {products_df.new_price.isnull().sum()}\")\n",
    "print(f\"old_price nulls: {products_df.old_price.isnull().sum()}\")\n",
    "print(f\"discount nulls: {products_df.discount.isnull().sum()}\")\n",
    "print(f\"rating nulls: {products_df.rating.isnull().sum()}\")\n",
    "print(f\"votes nulls: {products_df.votes.isnull().sum()}\")"
   ],
   "metadata": {
    "collapsed": false,
    "ExecuteTime": {
     "end_time": "2024-03-13T15:20:58.543518Z",
     "start_time": "2024-03-13T15:20:58.486938Z"
    }
   },
   "id": "2d9bc0842829d800",
   "execution_count": 296
  },
  {
   "cell_type": "markdown",
   "source": [
    "### Fill null values in discount column "
   ],
   "metadata": {
    "collapsed": false
   },
   "id": "efa6eb2106b26f19"
  },
  {
   "cell_type": "code",
   "outputs": [
    {
     "data": {
      "text/plain": "0"
     },
     "execution_count": 297,
     "metadata": {},
     "output_type": "execute_result"
    }
   ],
   "source": [
    "# Use discount column average to fill nulls\n",
    "products_df['discount'] = products_df['discount'].fillna(round(products_df['discount'].mean(), 2))\n",
    "products_df.discount.isnull().sum()"
   ],
   "metadata": {
    "collapsed": false,
    "ExecuteTime": {
     "end_time": "2024-03-13T15:20:58.590867Z",
     "start_time": "2024-03-13T15:20:58.545610Z"
    }
   },
   "id": "ee9f7bc26a3bc3fa",
   "execution_count": 297
  },
  {
   "cell_type": "markdown",
   "source": [
    "### Fill null values in old_price based on the discount column average"
   ],
   "metadata": {
    "collapsed": false
   },
   "id": "b58cfdfd7e23339d"
  },
  {
   "cell_type": "code",
   "outputs": [
    {
     "data": {
      "text/plain": "0"
     },
     "execution_count": 298,
     "metadata": {},
     "output_type": "execute_result"
    }
   ],
   "source": [
    "def multiply_fill_old_price_column_nulls(row):\n",
    "    new_price = row['new_price']\n",
    "    discount_column_mean = round(products_df['discount'].mean(), 2)\n",
    "    \n",
    "    if not pd.isna(row['old_price']):\n",
    "        return row['old_price']\n",
    "    return new_price * discount_column_mean\n",
    "        \n",
    "products_df['old_price'] = products_df.apply(multiply_fill_old_price_column_nulls, axis=1)\n",
    "products_df.old_price.isnull().sum()"
   ],
   "metadata": {
    "collapsed": false,
    "ExecuteTime": {
     "end_time": "2024-03-13T15:20:58.737928Z",
     "start_time": "2024-03-13T15:20:58.591864Z"
    }
   },
   "id": "3fc0bcf69968daa6",
   "execution_count": 298
  },
  {
   "cell_type": "markdown",
   "source": [
    "### Fill rating nulls with column mean"
   ],
   "metadata": {
    "collapsed": false
   },
   "id": "cf70e7e1f9911927"
  },
  {
   "cell_type": "code",
   "outputs": [
    {
     "data": {
      "text/plain": "0"
     },
     "execution_count": 299,
     "metadata": {},
     "output_type": "execute_result"
    }
   ],
   "source": [
    "products_df['rating'] = products_df['rating'].fillna(round(products_df['rating'].mean(), 2))\n",
    "products_df.rating.isnull().sum()\n",
    "# type(products_df['rating'][1])"
   ],
   "metadata": {
    "collapsed": false,
    "ExecuteTime": {
     "end_time": "2024-03-13T15:20:58.744596Z",
     "start_time": "2024-03-13T15:20:58.739336Z"
    }
   },
   "id": "dc565092d5410a93",
   "execution_count": 299
  },
  {
   "cell_type": "markdown",
   "source": [
    "### Fill votes nulls with column mean"
   ],
   "metadata": {
    "collapsed": false
   },
   "id": "f1d51583019ecf17"
  },
  {
   "cell_type": "code",
   "outputs": [
    {
     "data": {
      "text/plain": "0"
     },
     "execution_count": 300,
     "metadata": {},
     "output_type": "execute_result"
    }
   ],
   "source": [
    "products_df['votes'] = products_df['votes'].fillna(round(products_df['votes'].mean(), 2))\n",
    "products_df.votes.isnull().sum()"
   ],
   "metadata": {
    "collapsed": false,
    "ExecuteTime": {
     "end_time": "2024-03-13T15:20:58.801943Z",
     "start_time": "2024-03-13T15:20:58.746088Z"
    }
   },
   "id": "26d9317308bb6eff",
   "execution_count": 300
  },
  {
   "cell_type": "markdown",
   "source": [
    "## Rechecking nulls for all columns again"
   ],
   "metadata": {
    "collapsed": false
   },
   "id": "29425339dd1d081c"
  },
  {
   "cell_type": "code",
   "outputs": [
    {
     "name": "stdout",
     "output_type": "stream",
     "text": [
      "new_price nulls: 0\n",
      "old_price nulls: 0\n",
      "discount nulls: 0\n",
      "rating nulls: 0\n",
      "votes nulls: 0\n"
     ]
    }
   ],
   "source": [
    "print(f\"new_price nulls: {products_df.new_price.isnull().sum()}\")\n",
    "print(f\"old_price nulls: {products_df.old_price.isnull().sum()}\")\n",
    "print(f\"discount nulls: {products_df.discount.isnull().sum()}\")\n",
    "print(f\"rating nulls: {products_df.rating.isnull().sum()}\")\n",
    "print(f\"votes nulls: {products_df.votes.isnull().sum()}\")"
   ],
   "metadata": {
    "collapsed": false,
    "ExecuteTime": {
     "end_time": "2024-03-13T15:20:58.998807Z",
     "start_time": "2024-03-13T15:20:58.802828Z"
    }
   },
   "id": "55b62f1efa8d3649",
   "execution_count": 301
  },
  {
   "cell_type": "code",
   "outputs": [
    {
     "data": {
      "text/plain": "                                                name  new_price  old_price  \\\n0  Garnier Anti-Blemish Charcoal Serum With AHA +...     1400.0     1750.0   \n1  Garnier Even & Matte  Vitamin C Booster Serum ...      850.0      289.0   \n2  Garnier Pure Active 3 In1 Charcoal Anti Blackh...     1036.0     1295.0   \n3  Garnier Even & Matte  Vitamin C Booster Serum ...     1400.0     1750.0   \n4                 Garnier Bye Acne & Dark Spots Kit.     3608.0     4245.0   \n5  Garnier Brightening Night Serum With 10% Pure ...     2495.0      848.3   \n6           Garnier Even & Matte Dark Spot Corrector     1050.0      357.0   \n7   L'Oreal GLYCOLIC BRIGHT FACE CLEANSER FOAM 100ML      649.0      850.0   \n8     Garnier Vitamin C Booster Serum 30ml Twin Pack     2975.0     3500.0   \n9  Garnier AHA+BHA Charcoal Serum + Pure Active 3...     2588.0     3045.0   \n\n   discount  rating   votes  \n0      0.20     4.3  1513.0  \n1      0.34     4.2   778.0  \n2      0.20     4.4  4792.0  \n3      0.20     4.4  3826.0  \n4      0.15     4.3   698.0  \n5      0.34     5.0    10.0  \n6      0.34     4.0  2751.0  \n7      0.24     4.8    47.0  \n8      0.15     4.6   489.0  \n9      0.15     4.4   480.0  ",
      "text/html": "<div>\n<style scoped>\n    .dataframe tbody tr th:only-of-type {\n        vertical-align: middle;\n    }\n\n    .dataframe tbody tr th {\n        vertical-align: top;\n    }\n\n    .dataframe thead th {\n        text-align: right;\n    }\n</style>\n<table border=\"1\" class=\"dataframe\">\n  <thead>\n    <tr style=\"text-align: right;\">\n      <th></th>\n      <th>name</th>\n      <th>new_price</th>\n      <th>old_price</th>\n      <th>discount</th>\n      <th>rating</th>\n      <th>votes</th>\n    </tr>\n  </thead>\n  <tbody>\n    <tr>\n      <th>0</th>\n      <td>Garnier Anti-Blemish Charcoal Serum With AHA +...</td>\n      <td>1400.0</td>\n      <td>1750.0</td>\n      <td>0.20</td>\n      <td>4.3</td>\n      <td>1513.0</td>\n    </tr>\n    <tr>\n      <th>1</th>\n      <td>Garnier Even &amp; Matte  Vitamin C Booster Serum ...</td>\n      <td>850.0</td>\n      <td>289.0</td>\n      <td>0.34</td>\n      <td>4.2</td>\n      <td>778.0</td>\n    </tr>\n    <tr>\n      <th>2</th>\n      <td>Garnier Pure Active 3 In1 Charcoal Anti Blackh...</td>\n      <td>1036.0</td>\n      <td>1295.0</td>\n      <td>0.20</td>\n      <td>4.4</td>\n      <td>4792.0</td>\n    </tr>\n    <tr>\n      <th>3</th>\n      <td>Garnier Even &amp; Matte  Vitamin C Booster Serum ...</td>\n      <td>1400.0</td>\n      <td>1750.0</td>\n      <td>0.20</td>\n      <td>4.4</td>\n      <td>3826.0</td>\n    </tr>\n    <tr>\n      <th>4</th>\n      <td>Garnier Bye Acne &amp; Dark Spots Kit.</td>\n      <td>3608.0</td>\n      <td>4245.0</td>\n      <td>0.15</td>\n      <td>4.3</td>\n      <td>698.0</td>\n    </tr>\n    <tr>\n      <th>5</th>\n      <td>Garnier Brightening Night Serum With 10% Pure ...</td>\n      <td>2495.0</td>\n      <td>848.3</td>\n      <td>0.34</td>\n      <td>5.0</td>\n      <td>10.0</td>\n    </tr>\n    <tr>\n      <th>6</th>\n      <td>Garnier Even &amp; Matte Dark Spot Corrector</td>\n      <td>1050.0</td>\n      <td>357.0</td>\n      <td>0.34</td>\n      <td>4.0</td>\n      <td>2751.0</td>\n    </tr>\n    <tr>\n      <th>7</th>\n      <td>L'Oreal GLYCOLIC BRIGHT FACE CLEANSER FOAM 100ML</td>\n      <td>649.0</td>\n      <td>850.0</td>\n      <td>0.24</td>\n      <td>4.8</td>\n      <td>47.0</td>\n    </tr>\n    <tr>\n      <th>8</th>\n      <td>Garnier Vitamin C Booster Serum 30ml Twin Pack</td>\n      <td>2975.0</td>\n      <td>3500.0</td>\n      <td>0.15</td>\n      <td>4.6</td>\n      <td>489.0</td>\n    </tr>\n    <tr>\n      <th>9</th>\n      <td>Garnier AHA+BHA Charcoal Serum + Pure Active 3...</td>\n      <td>2588.0</td>\n      <td>3045.0</td>\n      <td>0.15</td>\n      <td>4.4</td>\n      <td>480.0</td>\n    </tr>\n  </tbody>\n</table>\n</div>"
     },
     "execution_count": 302,
     "metadata": {},
     "output_type": "execute_result"
    }
   ],
   "source": [
    "products_df.head(10)"
   ],
   "metadata": {
    "collapsed": false,
    "ExecuteTime": {
     "end_time": "2024-03-13T15:20:59.064323Z",
     "start_time": "2024-03-13T15:20:58.999755Z"
    }
   },
   "id": "588d350a15fc6da7",
   "execution_count": 302
  },
  {
   "cell_type": "code",
   "outputs": [
    {
     "name": "stdout",
     "output_type": "stream",
     "text": [
      "<class 'pandas.core.frame.DataFrame'>\n",
      "Index: 2000 entries, 0 to 1999\n",
      "Data columns (total 6 columns):\n",
      " #   Column     Non-Null Count  Dtype  \n",
      "---  ------     --------------  -----  \n",
      " 0   name       2000 non-null   object \n",
      " 1   new_price  2000 non-null   float64\n",
      " 2   old_price  2000 non-null   float64\n",
      " 3   discount   2000 non-null   float64\n",
      " 4   rating     2000 non-null   float64\n",
      " 5   votes      2000 non-null   float64\n",
      "dtypes: float64(5), object(1)\n",
      "memory usage: 109.4+ KB\n"
     ]
    }
   ],
   "source": [
    "products_df.info()"
   ],
   "metadata": {
    "collapsed": false,
    "ExecuteTime": {
     "end_time": "2024-03-13T15:20:59.125818Z",
     "start_time": "2024-03-13T15:20:59.065300Z"
    }
   },
   "id": "19ec052175ee6565",
   "execution_count": 303
  },
  {
   "cell_type": "code",
   "outputs": [],
   "source": [
    "# Saving stage 6 data cleaning file to csv\n",
    "products_df.to_csv(\"../data/processed/6_all_products_all_columns_cleaned.csv\")"
   ],
   "metadata": {
    "collapsed": false,
    "ExecuteTime": {
     "end_time": "2024-03-13T15:20:59.191144Z",
     "start_time": "2024-03-13T15:20:59.126837Z"
    }
   },
   "id": "46bd4a1d5e8a650e",
   "execution_count": 304
  },
  {
   "cell_type": "markdown",
   "source": [
    "### Slice original dataframe to create an experimental dataframe \n",
    "#### (to test insertion of predicted product categories before predicting & inserting into larger product dataframe)"
   ],
   "metadata": {
    "collapsed": false
   },
   "id": "31a3ecdbbad81b13"
  },
  {
   "cell_type": "code",
   "outputs": [
    {
     "data": {
      "text/plain": "                                                 name  new_price  old_price  \\\n0   Garnier Anti-Blemish Charcoal Serum With AHA +...     1400.0    1750.00   \n1   Garnier Even & Matte  Vitamin C Booster Serum ...      850.0     289.00   \n2   Garnier Pure Active 3 In1 Charcoal Anti Blackh...     1036.0    1295.00   \n3   Garnier Even & Matte  Vitamin C Booster Serum ...     1400.0    1750.00   \n4                  Garnier Bye Acne & Dark Spots Kit.     3608.0    4245.00   \n5   Garnier Brightening Night Serum With 10% Pure ...     2495.0     848.30   \n6            Garnier Even & Matte Dark Spot Corrector     1050.0     357.00   \n7    L'Oreal GLYCOLIC BRIGHT FACE CLEANSER FOAM 100ML      649.0     850.00   \n8      Garnier Vitamin C Booster Serum 30ml Twin Pack     2975.0    3500.00   \n9   Garnier AHA+BHA Charcoal Serum + Pure Active 3...     2588.0    3045.00   \n10  Red Berry RSF810 Insulated Double Wall Vacuum ...      792.0     269.28   \n11               Maybelline Lasting Fix Setting Spray     1785.0    2100.00   \n12                       Boma SANDWICH TOASTER BM-722     1584.0     538.56   \n13  Maybelline Fit Me Mattifying Primer Matte And ...     1400.0     476.00   \n14  Campo Viejo Campo Viejo Reserva Red Wine - 750 ML     1599.0    2066.00   \n15  L'Oreal GLYCOLIC BRIGHT INSTANT GLOWING SERUM ...     1840.0    2300.00   \n16        Chivas Chivas Regal Whisky 18 Years - 750ml     8264.0    8934.00   \n17          Huggies Unisex Pants Gold Size 3 Count 36      859.0    1935.00   \n18    Garnier Even & Matte Oily Skin Face Moisturizer     1050.0     357.00   \n19  Red Berry RSF1001- Insulated Double Wall Vacuu...     1020.0     346.80   \n\n    discount  rating   votes  \n0       0.20    4.30  1513.0  \n1       0.34    4.20   778.0  \n2       0.20    4.40  4792.0  \n3       0.20    4.40  3826.0  \n4       0.15    4.30   698.0  \n5       0.34    5.00    10.0  \n6       0.34    4.00  2751.0  \n7       0.24    4.80    47.0  \n8       0.15    4.60   489.0  \n9       0.15    4.40   480.0  \n10      0.34    4.15    40.7  \n11      0.15    4.50  1558.0  \n12      0.34    5.00     1.0  \n13      0.34    4.60   407.0  \n14      0.23    4.70     9.0  \n15      0.20    4.90    32.0  \n16      0.07    4.15    40.7  \n17      0.56    5.00     1.0  \n18      0.34    4.00  1133.0  \n19      0.34    4.15    40.7  ",
      "text/html": "<div>\n<style scoped>\n    .dataframe tbody tr th:only-of-type {\n        vertical-align: middle;\n    }\n\n    .dataframe tbody tr th {\n        vertical-align: top;\n    }\n\n    .dataframe thead th {\n        text-align: right;\n    }\n</style>\n<table border=\"1\" class=\"dataframe\">\n  <thead>\n    <tr style=\"text-align: right;\">\n      <th></th>\n      <th>name</th>\n      <th>new_price</th>\n      <th>old_price</th>\n      <th>discount</th>\n      <th>rating</th>\n      <th>votes</th>\n    </tr>\n  </thead>\n  <tbody>\n    <tr>\n      <th>0</th>\n      <td>Garnier Anti-Blemish Charcoal Serum With AHA +...</td>\n      <td>1400.0</td>\n      <td>1750.00</td>\n      <td>0.20</td>\n      <td>4.30</td>\n      <td>1513.0</td>\n    </tr>\n    <tr>\n      <th>1</th>\n      <td>Garnier Even &amp; Matte  Vitamin C Booster Serum ...</td>\n      <td>850.0</td>\n      <td>289.00</td>\n      <td>0.34</td>\n      <td>4.20</td>\n      <td>778.0</td>\n    </tr>\n    <tr>\n      <th>2</th>\n      <td>Garnier Pure Active 3 In1 Charcoal Anti Blackh...</td>\n      <td>1036.0</td>\n      <td>1295.00</td>\n      <td>0.20</td>\n      <td>4.40</td>\n      <td>4792.0</td>\n    </tr>\n    <tr>\n      <th>3</th>\n      <td>Garnier Even &amp; Matte  Vitamin C Booster Serum ...</td>\n      <td>1400.0</td>\n      <td>1750.00</td>\n      <td>0.20</td>\n      <td>4.40</td>\n      <td>3826.0</td>\n    </tr>\n    <tr>\n      <th>4</th>\n      <td>Garnier Bye Acne &amp; Dark Spots Kit.</td>\n      <td>3608.0</td>\n      <td>4245.00</td>\n      <td>0.15</td>\n      <td>4.30</td>\n      <td>698.0</td>\n    </tr>\n    <tr>\n      <th>5</th>\n      <td>Garnier Brightening Night Serum With 10% Pure ...</td>\n      <td>2495.0</td>\n      <td>848.30</td>\n      <td>0.34</td>\n      <td>5.00</td>\n      <td>10.0</td>\n    </tr>\n    <tr>\n      <th>6</th>\n      <td>Garnier Even &amp; Matte Dark Spot Corrector</td>\n      <td>1050.0</td>\n      <td>357.00</td>\n      <td>0.34</td>\n      <td>4.00</td>\n      <td>2751.0</td>\n    </tr>\n    <tr>\n      <th>7</th>\n      <td>L'Oreal GLYCOLIC BRIGHT FACE CLEANSER FOAM 100ML</td>\n      <td>649.0</td>\n      <td>850.00</td>\n      <td>0.24</td>\n      <td>4.80</td>\n      <td>47.0</td>\n    </tr>\n    <tr>\n      <th>8</th>\n      <td>Garnier Vitamin C Booster Serum 30ml Twin Pack</td>\n      <td>2975.0</td>\n      <td>3500.00</td>\n      <td>0.15</td>\n      <td>4.60</td>\n      <td>489.0</td>\n    </tr>\n    <tr>\n      <th>9</th>\n      <td>Garnier AHA+BHA Charcoal Serum + Pure Active 3...</td>\n      <td>2588.0</td>\n      <td>3045.00</td>\n      <td>0.15</td>\n      <td>4.40</td>\n      <td>480.0</td>\n    </tr>\n    <tr>\n      <th>10</th>\n      <td>Red Berry RSF810 Insulated Double Wall Vacuum ...</td>\n      <td>792.0</td>\n      <td>269.28</td>\n      <td>0.34</td>\n      <td>4.15</td>\n      <td>40.7</td>\n    </tr>\n    <tr>\n      <th>11</th>\n      <td>Maybelline Lasting Fix Setting Spray</td>\n      <td>1785.0</td>\n      <td>2100.00</td>\n      <td>0.15</td>\n      <td>4.50</td>\n      <td>1558.0</td>\n    </tr>\n    <tr>\n      <th>12</th>\n      <td>Boma SANDWICH TOASTER BM-722</td>\n      <td>1584.0</td>\n      <td>538.56</td>\n      <td>0.34</td>\n      <td>5.00</td>\n      <td>1.0</td>\n    </tr>\n    <tr>\n      <th>13</th>\n      <td>Maybelline Fit Me Mattifying Primer Matte And ...</td>\n      <td>1400.0</td>\n      <td>476.00</td>\n      <td>0.34</td>\n      <td>4.60</td>\n      <td>407.0</td>\n    </tr>\n    <tr>\n      <th>14</th>\n      <td>Campo Viejo Campo Viejo Reserva Red Wine - 750 ML</td>\n      <td>1599.0</td>\n      <td>2066.00</td>\n      <td>0.23</td>\n      <td>4.70</td>\n      <td>9.0</td>\n    </tr>\n    <tr>\n      <th>15</th>\n      <td>L'Oreal GLYCOLIC BRIGHT INSTANT GLOWING SERUM ...</td>\n      <td>1840.0</td>\n      <td>2300.00</td>\n      <td>0.20</td>\n      <td>4.90</td>\n      <td>32.0</td>\n    </tr>\n    <tr>\n      <th>16</th>\n      <td>Chivas Chivas Regal Whisky 18 Years - 750ml</td>\n      <td>8264.0</td>\n      <td>8934.00</td>\n      <td>0.07</td>\n      <td>4.15</td>\n      <td>40.7</td>\n    </tr>\n    <tr>\n      <th>17</th>\n      <td>Huggies Unisex Pants Gold Size 3 Count 36</td>\n      <td>859.0</td>\n      <td>1935.00</td>\n      <td>0.56</td>\n      <td>5.00</td>\n      <td>1.0</td>\n    </tr>\n    <tr>\n      <th>18</th>\n      <td>Garnier Even &amp; Matte Oily Skin Face Moisturizer</td>\n      <td>1050.0</td>\n      <td>357.00</td>\n      <td>0.34</td>\n      <td>4.00</td>\n      <td>1133.0</td>\n    </tr>\n    <tr>\n      <th>19</th>\n      <td>Red Berry RSF1001- Insulated Double Wall Vacuu...</td>\n      <td>1020.0</td>\n      <td>346.80</td>\n      <td>0.34</td>\n      <td>4.15</td>\n      <td>40.7</td>\n    </tr>\n  </tbody>\n</table>\n</div>"
     },
     "execution_count": 305,
     "metadata": {},
     "output_type": "execute_result"
    }
   ],
   "source": [
    "experiment_df = pd.read_csv(\"../data/processed/6_all_products_all_columns_cleaned.csv\", index_col=0)\n",
    "new_experiment_df = experiment_df.iloc[0:20]\n",
    "new_experiment_df"
   ],
   "metadata": {
    "collapsed": false,
    "ExecuteTime": {
     "end_time": "2024-03-13T15:20:59.279143Z",
     "start_time": "2024-03-13T15:20:59.193572Z"
    }
   },
   "id": "21b1a4b1d8dd7b71",
   "execution_count": 305
  },
  {
   "cell_type": "code",
   "outputs": [
    {
     "name": "stdout",
     "output_type": "stream",
     "text": [
      "                                                 name   product_category  \\\n",
      "0   Garnier Anti-Blemish Charcoal Serum With AHA +...    Health & Beauty   \n",
      "1   Garnier Even & Matte  Vitamin C Booster Serum ...    Health & Beauty   \n",
      "2   Garnier Pure Active 3 In1 Charcoal Anti Blackh...    Health & Beauty   \n",
      "3   Garnier Even & Matte  Vitamin C Booster Serum ...    Health & Beauty   \n",
      "4                  Garnier Bye Acne & Dark Spots Kit.    Health & Beauty   \n",
      "5   Garnier Brightening Night Serum With 10% Pure ...    Health & Beauty   \n",
      "6            Garnier Even & Matte Dark Spot Corrector    Health & Beauty   \n",
      "7    L'Oreal GLYCOLIC BRIGHT FACE CLEANSER FOAM 100ML    Health & Beauty   \n",
      "8      Garnier Vitamin C Booster Serum 30ml Twin Pack    Health & Beauty   \n",
      "9   Garnier AHA+BHA Charcoal Serum + Pure Active 3...    Health & Beauty   \n",
      "10  Red Berry RSF810 Insulated Double Wall Vacuum ...  Garden & Outdoors   \n",
      "11               Maybelline Lasting Fix Setting Spray    Health & Beauty   \n",
      "12                       Boma SANDWICH TOASTER BM-722      Home & Office   \n",
      "13  Maybelline Fit Me Mattifying Primer Matte And ...    Health & Beauty   \n",
      "14  Campo Viejo Campo Viejo Reserva Red Wine - 750 ML      Food & Drinks   \n",
      "15  L'Oreal GLYCOLIC BRIGHT INSTANT GLOWING SERUM ...    Health & Beauty   \n",
      "16        Chivas Chivas Regal Whisky 18 Years - 750ml    Health & Beauty   \n",
      "17          Huggies Unisex Pants Gold Size 3 Count 36      Baby Products   \n",
      "18    Garnier Even & Matte Oily Skin Face Moisturizer    Health & Beauty   \n",
      "19  Red Berry RSF1001- Insulated Double Wall Vacuu...      Home & Office   \n",
      "\n",
      "    new_price  old_price  discount  rating   votes  \n",
      "0      1400.0    1750.00      0.20    4.30  1513.0  \n",
      "1       850.0     289.00      0.34    4.20   778.0  \n",
      "2      1036.0    1295.00      0.20    4.40  4792.0  \n",
      "3      1400.0    1750.00      0.20    4.40  3826.0  \n",
      "4      3608.0    4245.00      0.15    4.30   698.0  \n",
      "5      2495.0     848.30      0.34    5.00    10.0  \n",
      "6      1050.0     357.00      0.34    4.00  2751.0  \n",
      "7       649.0     850.00      0.24    4.80    47.0  \n",
      "8      2975.0    3500.00      0.15    4.60   489.0  \n",
      "9      2588.0    3045.00      0.15    4.40   480.0  \n",
      "10      792.0     269.28      0.34    4.15    40.7  \n",
      "11     1785.0    2100.00      0.15    4.50  1558.0  \n",
      "12     1584.0     538.56      0.34    5.00     1.0  \n",
      "13     1400.0     476.00      0.34    4.60   407.0  \n",
      "14     1599.0    2066.00      0.23    4.70     9.0  \n",
      "15     1840.0    2300.00      0.20    4.90    32.0  \n",
      "16     8264.0    8934.00      0.07    4.15    40.7  \n",
      "17      859.0    1935.00      0.56    5.00     1.0  \n",
      "18     1050.0     357.00      0.34    4.00  1133.0  \n",
      "19     1020.0     346.80      0.34    4.15    40.7  \n"
     ]
    }
   ],
   "source": [
    "# Reload the gemini api call module, 'gemini_call', to refresh/reload it before use to prevent any unusual errors\n",
    "importlib.reload(gemini_call)\n",
    "\n",
    "# Function to get the product category\n",
    "def fetch_product_category(product_name):\n",
    "    # Timed the API roundtrip during testing to find the average time...\n",
    "    # ... to check if it's possible to surpass the set rate limit of 60 requests per min (RPM)...\n",
    "    # ... besides, while doing the average time testing, I put a 1.2 sec sleep timer...\n",
    "    # ... as the last line function as initial guard to ensure 50RPM aren't exceeded (60 secs/1.2 secs)\n",
    "    start_time = time.time()  # Roundtrip timer start\n",
    "    predicted_product_category = gemini_call.predict_product_category(product_name)\n",
    "    end_time = time.time()  # Roundtrip timer stop\n",
    "    durations_list.append(end_time - start_time)  # Append roundtrip time value to list\n",
    "\n",
    "    # Commented out the sleep timer below after calculating the average roundtrip api call time is: 1.5-3.0 seconds, hence 60 RPM shall not be exceeded \n",
    "    # time.sleep(1.2)\n",
    "    return predicted_product_category\n",
    "\n",
    "# Only run the API call to create product_category col & fill it if it's not yet created\n",
    "if not os.path.exists('../data/processed/7_new_experiment_df_with_product_category.csv'):\n",
    "    durations_list = []  # Store api roundtrip times to be used in calculating average time during test\n",
    "    # product_category_column_inserted = False  # Boolean flag to define existence status of product_category column\n",
    "    for idx, row in new_experiment_df.iterrows():\n",
    "        name_of_product = row[\"name\"]  # Get current row's product name\n",
    "        \n",
    "        predicted_category = fetch_product_category(name_of_product)\n",
    "        \n",
    "        # If the 'product_category' column hasn't been inserted, insert it at index_col 1 after 'name' column\n",
    "        if 'product_category' not in new_experiment_df.columns:\n",
    "            print(f\"{name_of_product} = {predicted_category}\")\n",
    "            new_experiment_df.insert(1, \"product_category\", predicted_category)  # Insert new column 'product_category' at index_col 1 & insert 1st value\n",
    "        else:\n",
    "            print(f\"{name_of_product} = {predicted_category}\")\n",
    "            new_experiment_df.at[idx, \"product_category\"] = predicted_category  # Assign subsequent predicted categories to their corresponding idx positions\n",
    "    \n",
    "    # Print average duration of API call\n",
    "    average_api_call_roundtrip_time = sum(durations_list)/len(durations_list)\n",
    "    print(f\"The AVERAGE API call roundtrip TIME is: {average_api_call_roundtrip_time}\")\n",
    "    \n",
    "    # Save the dataframe with product categories into csv to avoid making expensive api call\n",
    "    new_experiment_df.to_csv(\"../data/processed/7_new_experiment_df_with_product_category.csv\")\n",
    "    print(new_experiment_df)\n",
    "else:\n",
    "    new_experiment_df = pd.read_csv(\"../data/processed/7_new_experiment_df_with_product_category.csv\", index_col=0)\n",
    "    print(new_experiment_df)"
   ],
   "metadata": {
    "collapsed": false,
    "ExecuteTime": {
     "end_time": "2024-03-13T15:20:59.387922Z",
     "start_time": "2024-03-13T15:20:59.280102Z"
    }
   },
   "id": "26b9b739bdfaef53",
   "execution_count": 306
  },
  {
   "cell_type": "markdown",
   "source": [
    "#### Read csv with all cleaned columns (2000 row dataframe)"
   ],
   "metadata": {
    "collapsed": false
   },
   "id": "12cd1d418265d31c"
  },
  {
   "cell_type": "code",
   "outputs": [],
   "source": [
    "# Read csv where all columns are cleaned before fetching product categories for all 2000 product names\n",
    "products_df = pd.read_csv(\"../data/processed/6_all_products_all_columns_cleaned.csv\", index_col=0)"
   ],
   "metadata": {
    "collapsed": false,
    "ExecuteTime": {
     "end_time": "2024-03-13T15:20:59.686456Z",
     "start_time": "2024-03-13T15:20:59.388813Z"
    }
   },
   "id": "9f70434c229c497",
   "execution_count": 307
  },
  {
   "cell_type": "markdown",
   "source": [
    "### Generate product categories for all 2000 product names using GEMINI API generative AI "
   ],
   "metadata": {
    "collapsed": false
   },
   "id": "1502e11bc3cd95a1"
  },
  {
   "cell_type": "code",
   "outputs": [
    {
     "name": "stdout",
     "output_type": "stream",
     "text": [
      "Garnier Anti-Blemish Charcoal Serum With AHA + BHA & Niacinamide For Acne Prone Skin = Health & Beauty\n",
      "Garnier Even & Matte  Vitamin C Booster Serum 15ml = Health & Beauty\n",
      "Garnier Pure Active 3 In1 Charcoal Anti Blackhead Mask Wash Scrub -150ml = Health & Beauty\n",
      "Garnier Even & Matte  Vitamin C Booster Serum 30ml. = Health & Beauty\n",
      "Garnier Bye Acne & Dark Spots Kit. = Health & Beauty\n",
      "Garnier Brightening Night Serum With 10% Pure Vitamin C = Health & Beauty\n",
      "Garnier Even & Matte Dark Spot Corrector = Health & Beauty\n",
      "L'Oreal GLYCOLIC BRIGHT FACE CLEANSER FOAM 100ML = Health & Beauty\n",
      "Garnier Vitamin C Booster Serum 30ml Twin Pack = Health & Beauty\n",
      "Garnier AHA+BHA Charcoal Serum + Pure Active 3-in-1 Charcoal Mask = Health & Beauty\n",
      "Red Berry RSF810 Insulated Double Wall Vacuum Bottle – 700ml - Black = Home & Office\n",
      "Maybelline Lasting Fix Setting Spray = Health & Beauty\n",
      "Boma SANDWICH TOASTER BM-722 = Home & Office\n",
      "Maybelline Fit Me Mattifying Primer Matte And Poreless = Health & Beauty\n",
      "Campo Viejo Campo Viejo Reserva Red Wine - 750 ML = Home & Office\n",
      "L'Oreal GLYCOLIC BRIGHT INSTANT GLOWING SERUM 30ML = Health & Beauty\n",
      "Chivas Chivas Regal Whisky 18 Years - 750ml = Health & Beauty\n",
      "Huggies Unisex Pants Gold Size 3 Count 36 = Baby Products\n",
      "Garnier Even & Matte Oily Skin Face Moisturizer = Health & Beauty\n",
      "Red Berry RSF1001- Insulated Double Wall Vacuum Flask - 1L - Red. = Home & Office\n",
      "Garnier Day & Night Serum Routine Kit = Health & Beauty\n",
      "Garnier Charcoal Serum With AHA+BHA 30ml Twin Pack = Health & Beauty\n",
      "Red Berry RSF811 Insulated Double Wall Vacuum Bottle – 800ml - Black = Home & Office\n",
      "Absolut Absolut Vanilla Flavoured Vodka - 750ml = Health & Beauty\n",
      "Rashnik RN-8011 200w Solar Light = Garden & Outdoors\n",
      "Red Berry RSF 1003 Insulated Double Wall Vacuum Bottle – 1L - Green = Home & Office\n",
      "Red Berry RSF505 Insulated Double Wall Vacuum Bottle – 500ml - Black = Garden & Outdoors\n",
      "Chivas Chivas XV 15 years scotch whiskey - 750ml = Health & Beauty\n",
      "Glenmorangie Glenmorangie Nectar D'or - 700ml = Health & Beauty\n",
      "Red Berry RSF1001 - Insulated Double Wall Vacuum Flask - 1L - Grey. = Home & Office\n",
      "Inverroche Inverroche Verdant Gin - 750ml = Home & Office\n",
      "Boma FOOD CHOPPER BM-7013 = Home & Office\n",
      "Red Berry RSF810 Insulated Double Wall Vacuum Bottle – 700ml - Gold = Home & Office\n",
      "Red Berry RSF502 - Insulated Double Wall Vacuum Flask - 350ml -Blue. = Home & Office\n",
      "Boma FOOD CHOPPER BM-7016 = Home & Office\n",
      "Boma FOOD CHOPPER BM-7017 = Home & Office\n",
      "Red Berry RSF1001 - Insulated Double Wall Vacuum Flask - 1L - Blue. = Home & Office\n",
      "Mortein MORTEIN DOOM AEROSOL AIKO - ODOURLESS 300ml = Home & Office\n",
      "Rashnik Stainless Steel Food Chopper 7L RN800 - High-Powered Electric Culinary Companion with 700W Motor = Home & Office\n",
      "Led Down Light 100W Solar Flood Light Dusk To Dawn + Solar Panel. = Garden & Outdoors\n",
      "Red Berry RSF810 Insulated Double Wall Vacuum Bottle – 700ml - Silver = Home & Office\n",
      "Tommasi Tommasi Tommasi Pinot Grigio DOC Le Rosse White 750ml = Home & Office\n",
      "Boma FOOD CHOPPER BM-7011 = Home & Office\n",
      "Red Berry RSF504 - Insulated Double Wall Vacuum Flask - 500ml - Pink. = Home & Office\n",
      "XPro XPro Disposable Clear Cups 500ml (25pcs) = Home & Office\n",
      "Rashnik RN-1506 3 Burner Stainless Steel Top Gas Cooker Gas Stove = Home & Office\n",
      "Moet & Chandon Moet & Chandon Rose Imperial - 750ml = Health & Beauty\n",
      "XPro XPro Disposable Clear Cups 300ml (25pcs) = Home & Office\n",
      "Victorias Stag Victorias Stag Pink Gin - 750ml = Health & Beauty\n",
      "Kanonkop Kanonkop Kadette Pinotage Red 750ML = Home & Office\n",
      "Boma AIR FRYER BM-209 = Home & Office\n",
      "J & B J & B Scotch Whisky - 750ml = Home & Office\n",
      "Boma AIR FRYER BM-880 = Home & Office\n",
      "Red Berry RSF 1002 Insulated Double Wall Vacuum Bottle – 1L - Black = Home & Office\n",
      "Famous Grouse Famous Grouse Smoky Black - 700ml = Health & Beauty\n",
      "Boma DONUT MAKER 4 IN 1 BM-804B = Home & Office\n",
      "Boma FOOD CHOPPER BM-7018 = Home & Office\n",
      "Sundabest 6 Pieces White Decorated Print Tea Cups = Home & Office\n",
      "Boma FOOD CHOPPER BM-7014 = Home & Office\n",
      "VONDELING Vondelling Chardonnay - 750ml = Home & Office\n",
      "Red Berry RSF501 Insulated Double Wall Vacuum Flask – 500ml - Black = Home & Office\n",
      "Tommasi Tommasi Tommasi Valpolicella Classico DOC Red 750ml = Home & Office\n",
      "Carnivor Carnivor Red 750ml = Health & Beauty\n",
      "Red Berry RSF 1001 Insulated Double Wall Vacuum Bottle – 1L - Black = Home & Office\n",
      "Led Down Light Generic 150W Solar Flood Light = Garden & Outdoors\n",
      "AILYONS FK-0301 Stainless Steel 1.8L Electric Kettle-Silver. = Home & Office\n",
      "NIVEA Radiant & Beauty Advanced Care Lotion For Women - 400ml (Pack Of 2) = Health & Beauty\n",
      "NIVEA Perfect & Radiant Even Tone Day And Night Cream For Women - 50ml = Health & Beauty\n",
      "Menengai Menengai Cream Bar Soap – 500g = Health & Beauty\n",
      "Rashnik RN-999 2 In 1 Blender & Grinder –1.5L – 400W - Black = Home & Office\n",
      "Nunix R5 Hot & Normal Free Standing Water Dispenser - White = Home & Office\n",
      "Vitron HTC4388FS - 43\" Smart  Android Frameless TV - Black = Electronics\n",
      "AILYONS FK-0301 Stainless Steel 1.8L Electric Kettle-Black = Home & Office\n",
      "Roch RFR-150DT-I Top-Mounted Defrost Fridge - 118L - Inox = Home & Office\n",
      "AILYONS ELP2404K 2.1CH SubWoofer Home Theatrer Multi Media Speaker System = Electronics\n",
      "Vitron V527 - 2.1 CH Multimedia Speaker, BT/USB/SD/FM - 9000W = Electronics\n",
      "Vision Plus VP8832DF 32\" HD Frameless Digital LED TV - Black + FREE WALL MOUNT. = Electronics\n",
      "Fashion 6Pcs Soft Cotton Checked Men's Boxers – Multicolor = Fashion\n",
      "Hikers 32'' Digital Frameless HD LED TV-Black = Electronics\n",
      "NIVEA MEN Deep Antibacterial Anti-Perspirant Rollon,48h - 50ml (Pack Of 2) = Health & Beauty\n",
      "Baby Carrier, High Quality Adjustable Red Carrier, Suitable For Newborns, Infants, Toddlers. = Baby Products\n",
      "Diecast Die Cast Non Stick Cooking Pots 10 Pieces With Pan. = Home & Office\n",
      "Classy 5 fruit rack = Home & Office\n",
      "IPS HD Touch Smart Watch Call Sports Monitoring = Electronics\n",
      "EDENBERG 15 PCS COOKWARE SET NON-STICK-Green = Home & Office\n",
      "3 Pack Hard Khakis; Black Maroon And Chocolate = Fashion\n",
      "56 fashion Little Girls Princess Birthday Party Crowns = Toys & Games\n",
      "P9 Air Max Wireless Bluetooth Headphones With Microphone Noise Canceling Earbuds Gaming Headset Stereo HiFi Earphones = Electronics\n",
      "Bebe KIDS STUDY TABLETS 64GB/4GB = Phones & Tablets\n",
      "Fashion Outdoor Square Sunglasses Color Lens Small Face Fashion Men Glasses Accessories = Fashion\n",
      "Ethernet LAN Network Internet Cable - 1.5M 3M, 5M, 10M = Computing\n",
      "Vaseline Cocoa Radiant Body Oil With Pure Cocoa Butter Body Oil = Health & Beauty\n",
      "Fashion Hip Hop Cargo Pants Men Streetwear Fashion Sweatpants Male Casual Trousers Pants = Fashion\n",
      "G8 Bluetooth Headset Wireless Earbuds Earphone Generic = Electronics\n",
      "Fashion Men's High Top Martin Heel Boots Casual Comfortable Outdoor Black = Fashion\n",
      "Afrilighting LED Rechargeable Bulb With USB - 20 W = Home & Office\n",
      "Fashion 2pcs Men's Short-sleeved T-shirt + Shorts Set, Casual Sports Loose Suit - Black = Fashion\n",
      "Video Making Kit Vlogging Kit For Live Recording = Electronics\n",
      "Fashion Luxury Starry Sky Women Watches Magnetic Mesh Belt = Fashion\n",
      "Fashion Chain Necklace Korean Style Adjustable Necklace Golden = Fashion\n",
      "Fashion Lady's Shoes Lady's Sneakers Women Shoes Sports Shoes = Fashion\n",
      "Fashion Striped Large Capacity Tote Bag Women Shoulder Bags = Fashion\n",
      "Dove Dove Purely Pampering Coconut Milk Body Wash 500ml = Health & Beauty\n",
      "Dessini 8ltrs air fryer = Home & Office\n",
      "Fashion 2pcs Men's T-Shirts Short Sleeve + Shorts Set, Loose Sports T-shirt Suit - Black = Fashion\n",
      "Fashion Mens Casual Leather Half Loafers & Slip-ons Slippers Open Shoes Sandals Black = Fashion\n",
      "Efero Teeth Whitening And Teeth Stain Cleaner = Health & Beauty\n",
      "Fashion Movable Limbs Full Of Robot Necklaces, Pendants, Versatile Hoodie Chains Couples = Fashion\n",
      "4 Liner Electric Lunchbox Cooker. = Home & Office\n",
      "14INCH 30 watt RIGHTLIGHT NEW TOUCH TECHNOLOGY with FREE MICROPHONE rapel, 2MTripod, BL BAG, and a MINI TRIPOD 2 = Electronics\n",
      "Fashion Women Shoulder Bag With Chain Handle Ladies Crossbody Bags Tote Bucket Handbag = Fashion\n",
      "Disaar Mouth Spray Breath Freshener/Portable Mouthwash-Remove Bad Breaths- Mint = Health & Beauty\n",
      "Kids Car Watch Fashion Electronic Wristwatch Innovative Car Shape Blue = Toys & Games\n",
      "Garnier Skin Active Hydrabomb Green Tea Tissue Face Mask = Health & Beauty\n",
      "DR MEINAIER Turmeric Dark Spots Eraser 100% Natural Plant Extract Toner = Health & Beauty\n",
      "Fashion Cotton Designer Head Cap 2pcs/set = Fashion\n",
      "Fashion Retro Copper 3.0 Waterproof Flash Drive Flash Disk 128G  Rose Gold = Computing\n",
      "Gym/Cycling Gloves Fitness Weight Lifting Gloves For Men &Women = Sporting Goods\n",
      "Dove Dove Body Lotion Intensive 400ml = Health & Beauty\n",
      "Fashion Adjustable Bra Straps Colourless Slim Silicon- 1pair. = Fashion\n",
      "Fashion Adjustable Bra Straps Colourless Slim Silicon- 1pair. = Fashion\n",
      "C Idea 8 Inch Tablet,Android 12 Dual Camera Sim Pink 256GB Adult Men Tablet With Case = Phones & Tablets\n",
      "Fashion Rhinestone Crystal Tennis Chain Butterfly Anklet Bracelet For Women = Fashion\n",
      "Fashion 2 Pcs Shirts Men's Fashion Cool Short Sleeve T-shirts = Fashion\n",
      "V9-  Headset Wireless & Business Bluetooth Headset = Phones & Tablets\n",
      "Fashion 3PCs Hottest Lace Silk Seamless Sexy Thong Ladies Panty = Fashion\n",
      "4 In 1 Type-c+HDMI+VGA+PD Charging+USB 3.0 Adapter Docking Station Hub = Electronics\n",
      "Laptop Stand Adjustable Laptop Stand Phone Holder = Home & Office\n",
      "Bragg Organic Raw Unfiltered Apple Cider Vinegar = Health & Beauty\n",
      "Fashion Long Sleeved Floral Men's Slim Fit Shirt = Fashion\n",
      "3-Tier Stainless Steel Dish Drainer Drying Rack. = Home & Office\n",
      "Desktop Foldable Telescopic Phone Holder Phone Stands = Phones & Tablets\n",
      "Fashion Casual Women's Shoes-black&pink = Fashion\n",
      "Fashion Blue Light Blocking Computer Glasses Metal Eyewear Frames = Fashion\n",
      "Fashion Feng Shui Black Obsidian Wealth Bracelet = Fashion\n",
      "AILYONS GS014-4, 2 Burner Glass Top Gas Cooker & Infrared Double Burner = Home & Office\n",
      "True 10\" Ring Light LED Fill Light + TWO Tripod = Electronics\n",
      "13 Pieces Of SM PU Leather Fetish Bondage Kit - Purple = Fashion\n",
      "I12 Bluetooth 5.0 Touch Control Wireless Headphones = Electronics\n",
      "Portable Rechargeable Mini Fan Air Cooler Mini Desk Fan Blac = Home & Office\n",
      "Fashion Men Faux Leather Feather Adjustable Rope Braided-Black = Fashion\n",
      "Fashion Men's Basketball Shoes Breathable High Top Stretch Sneakers. = Fashion\n",
      "Fashion Small Shoulder Bag Cross Body Clutch Purse Handbag For Women = Fashion\n",
      "Rechargeable Vibrator Dildo Women Sex Toy G-Spot Dildo Vibrator = Health & Beauty\n",
      "Fashion Ladies Clutch Bag Women Mini Handbags Card Holder PU Mobile Phone Bag Pink = Fashion\n",
      "Bata NAVY BLUE KEVIN SLIDES = Fashion\n",
      "Bebe KIDS/PUPILS STUDY TABLETS 256GB/6GB With Simcard Slot 10inch BLUE = Phones & Tablets\n",
      "Waist Trainer Body Shaper Tummy Trimmer High Waist Postpartum Slimming Belt = Fashion\n",
      "2 Din 7\" Touch Screen Car MP5 Player Car Audio Car Stereo FM Radio = Automobile\n",
      "Dress Women Sequin Prom Party Ball Gown Sexy Gold Evening Bridesmaid V Neck = Fashion\n",
      "Dove Dove Restoring Care Body Lotion With Coconut Oil & Almond - 250ml = Health & Beauty\n",
      "Curren 8023 Watch Men Military Sports Waterproof-Black = Fashion\n",
      "Dormans Dormans Instant Fine coffee - 250g = Home & Office\n",
      "Fashion Mens Backpack Bag Business Laptop Bag Travelling Bag Shool Bag = Fashion\n",
      "Bebe KIDS STUDY TABLET 64GB/4GB FROG EDITION = Phones & Tablets\n",
      "Video Making Kit Vlogging Kit For Live Recording = Electronics\n",
      "V380 Mini Wifi Camera 1080p IP Camera Wireless CCTV Infrared Night Vision Motion Detection 2-Way Audio Home Security Camcorders = Electronics\n",
      "Fashion 3pcs Men Short Sleeve Polo Shirt = Fashion\n",
      "Fashion Kids School Bags Wateproof High Quality Large Capacity Backpack = Fashion\n",
      "Davis 3pcs Eye And Lip Liner Pencil No.1, No.3,No.18. = Health & Beauty\n",
      "Filters For GoPro Hero 9 Black ND8 Square Lens Filter = Electronics\n",
      "Digital Caliper Measure Vernier Calipers Plastic Electronic Gauge Instrument Micrometer Depth Ruler Measuring Tools A = Industrial & Scientific\n",
      "For Apple Airpods Pro Case TPU PC Anti-Fall Cover = Phones & Tablets\n",
      "USB Microphone Studio Podcasting Streaming Condenser = Electronics\n",
      "Crimping Tool + Free 10 RJ45 Connectors = Industrial & Scientific\n",
      "Popsicle Maker Ice Popsicle Kulfi Maker Tray = Home & Office\n",
      "Girl's Denim Short = Fashion\n",
      "Ceramic Filter/Tap Water Faucet Filter System With Carbon Fiber Filter = Home & Office\n",
      "Barbed Wire Extension Arms Fence Height Extension For 34cm = Garden & Outdoors\n",
      "Cute Custom Branded (Chelsea) Red Frost Mug-16oz = Home & Office\n",
      "1PCS 009S Plus Riser Card VER009S PCIE PCI-E PCI Express X16 GPU 6in Adapter Card 1X 16X Extender USB 3.0 Cable = Computing\n",
      "Packet Mini Sealing Machine Handy Easy Resealer Food Snack = Home & Office\n",
      "2pcs Mens Soft Silky Durag Turban Beanie Pirate Hats Black+Royal Blue = Fashion\n",
      "Hiphop Hollow Retro Titanium Steel Necklace Tide Men's Scorpion Pendant Gold = Fashion\n",
      "2 PIECES METALLIC BLACK WALL AND CEILING ANGLE BULB HOLDER = Home & Office\n",
      "Double Cylinder Air Pump Compressor Car Tire Inflator Portable = Automobile\n",
      "3PCS 1\"/25mm -clamp G-clamp Heavy Duty Metal Woodworks Handyman Carpenter Vise Grip Tools Red = Industrial & Scientific\n",
      "Fashion Butterfly Necklace Adjustable Dainty Pendant Jewelry = Fashion\n",
      "Truth Or Dare For Couples Tarot Deck Lover Fun Game Adult = Toys & Games\n",
      "Cartoon Small Air Humidifier Mini Low Noise White2 = Home & Office\n",
      "High Quality Practice Trumpet Straight Mute Aluminum For Trumpets Jazz Music = Musical Instruments\n",
      "Replacement HEPA Filte Link Tower Air Purifier Accessories = Home & Office\n",
      "Standard Durable Heavy Duty Metal Steel Chain Basketball Goal Hoop Rim = Sporting Goods\n",
      "Recorder 8 Holes Soprano Recorder Flute With Cleaning Stick = Musical Instruments\n",
      "6 PCS Square Dinner Plate = Home & Office\n",
      "Face Mask Scarf Balaclava Motorcycle Cycling Neck Gaiter Sun UV  1 = Sporting Goods\n",
      "10-pack Pieces Strength 2.5 Bamboo Reeds For Eb Alto = Musical Instruments\n",
      "Revlon Natural Honey Hand & Body Aloe Vera Lotion- 600ml. = Health & Beauty\n",
      "Stylish Sparkly Sheer Longsleeve Bodycon Dress+free belt = Fashion\n",
      "Bridal Shower Sash And Veil Set = Fashion\n",
      "Adult Vintage Costume Leather Back Scabbard For  Role Medieval Playing Accessory Wall Holder Knight Katana-1PCS = Fashion\n",
      "Drinking Cup Cute Creative Cat Ear Shape Glitter Star Straw = Home & Office\n",
      "1x Fake Septum Nose Hoop Rings Stainless Steel Nose = Fashion\n",
      "Electric Automatic Water Pump Dispenser- Auto = Home & Office\n",
      "K7 Pro Panda Kids Tablet PC, 7.0 Inch, 2GB+32GB, Android 11 Allwinner A100 Quad Core CPU, US Plug (Blue) = Phones & Tablets\n",
      "New Portable Double-Barrel I Foot Air Pump PSI Inflator = Sporting Goods\n",
      "4 In 1 Digital Display Angle Ruler With Spirit LevelSquare = Home & Office\n",
      "BEST Lavalier Lapel Microphone For Smartphones & Camera = Electronics\n",
      "1.6L Gym Dumbbell Shaped Fitness Workout Sports Water Bottle = Sporting Goods\n",
      "50L High Capacity Motorcycle Canvas Saddle Bag Motorbike Bicycle Back Pack Travel Carrier Bag 4 Colors Multicolor = Garden & Outdoors\n",
      "Fashion Women Earring Set - 9 Pair = Fashion\n",
      "Butterfly Channa Dal(Gram Split - 1Kg = Home & Office\n",
      "Amtec  3.1CH POWERFUL DEEP BASS SOUND SYSTEM BT/FM/AUX/USB = Electronics\n",
      "Fashion A Pack Of 3 Cotton Vest With A Free Pen-3 Colours = Fashion\n",
      "KNM12 Mini Hidden Camera IP WIFI Remote Security = Electronics\n",
      "Fashion Women Normal Waist Camouflaged Jeans = Fashion\n",
      "Fashion 1 Pair Ear Studs Heart-shaped Easy To Match Alloy-Golden = Fashion\n",
      "Bebe KIDS STUDY TABLETS 64GB/4GB = Phones & Tablets\n",
      "Fashan 6-inch Wavy Wig, Synthetic Fiber Wig, Women's Shortwave Wig, Everyday Wig = Fashion\n",
      "Fashion Unisex Bucket Hat = Fashion\n",
      "Fashion Charm Evil Eye Bead Protection Lucky Bracelet Jewelry Hamsa Hand Bracelet Gift = Fashion\n",
      "Fashion 2Pcs Set Of Adjustable Suspenders Elastic Y-Shape Braces+Matching Bowtie. = Fashion\n",
      "Dr. Rashel AHA-BHA Miracle Renewal  Serum = Health & Beauty\n",
      "Fashion Mens Sneakers Shoes Outdoor Hiking Shoes Non-slip Sports Shoes Breathable Blue = Fashion\n",
      "Bluetooth Earphone Earpóds Touch Control Display Earbuds = Phones & Tablets\n",
      "Charging Cable For All Android  Phones And Tablets = Phones & Tablets\n",
      "Game Stereo Headphone Earphone Gaming Headset with Mic LED- = Electronics\n",
      "Accufast HIV Test Kit = Health & Beauty\n",
      "Fashion Baby Girls Princess Dress Long Sleeve Floral Partywear Ball Prom = Fashion\n",
      "Deliya 2200W Hair Blow Dryer+6 Gifts = Health & Beauty\n",
      "Magnetic Therapy Back Massager Stretcher Neck Stretch Tools = Health & Beauty\n",
      "Fashion Unisex Kids Track Set = Fashion\n",
      "Fashion Retro Women's PU Carrying Shoulder Bag - Brown = Fashion\n",
      "Fashion Wide Band Satin Hair Bonnet Sleeping Cap Hair Bonnet Satin Bonnet Silk Hair Cap = Fashion\n",
      "Wireless Game Controller Joystick Bluetooth BT3.0 = Electronics\n",
      "Bear Club  Diaper Bag Large Capacity Waterproof Nappy Bag = Baby Products\n",
      "Fashion Female Casual Shoulder Bag Large Capacity Handbag Single Shoulder = Fashion\n",
      "Cantu For Natural Hair Coconut Curling Cream = Health & Beauty\n",
      "Fashion 7Pcs/Set Women Boho Bohemian Mix Style Multilayer-Green = Fashion\n",
      "Adidas Grand Court Td Lifestyle Court Casual Shoes Men = Fashion\n",
      "Silicone Cake Spatula Heat Resistant Cream Butter-Orange = Home & Office\n",
      "Mika MST5060P13EBL, All Gas, 50cm*60cm Free Standing Cooker with Gas Oven = Home & Office\n",
      "AB Double Wheel Fitness Roller Abdominal & Core Workout FREE Thick Knee Mat = Sporting Goods\n",
      "Fashion Men's Vintage Military Long Sleeve Shirt-blue = Fashion\n",
      "EDENBERG 8 Pcs Stainless Steel Cookware Sets = Home & Office\n",
      "Hi-tech  Bluetooth Headsets Touch Control Headphone  Earbuds = Electronics\n",
      "6litres Plastic Pedal Dustbin = Home & Office\n",
      "Silicon Shampoo Hair Shower Brush Scrub/Scalp Massager = Health & Beauty\n",
      "Garbage Bin Liners - Large Size = Home & Office\n",
      "Fake Bangs Extensions False Fringe For Girls Clip On Air Dark Brown = Fashion\n",
      "Dinner Set Dive sovran 32pcs-Anassa Red = Home & Office\n",
      "Multifunctional 12V Cordless Electric Drill Set With 24pcs Tool Set = Industrial & Scientific\n",
      "Fashion Men's Oxfords Formal Chelsea Business Leather Shoes Loafers Official Brown = Fashion\n",
      "UPGRADED NANNY CAMERA/WIFI BULB = Home & Office\n",
      "Dr. Rashel Vitamin C Face Serum + Cream + Toner = Health & Beauty\n",
      "Binatone SI-1850 Smoother Gliding Steam Iron - 1800W - White/Purple = Home & Office\n",
      "Bebe BLUE 6000mAH RAM 6GB/ROM 256GB 10inch Android 12 SIM CARD SLOT KIDS Studying TABLET = Phones & Tablets\n",
      "RichRipple T500+PRO Bluetooth Smart Watch Band Health Monitor = Electronics\n",
      "Fashion 3M Waist Trainer Body Shaper Tummy Slimming Shaper Belt Belly Shapewear 10CM = Fashion\n",
      "New Model  Computer Backpack 3-Piece Set - Black = Home & Office\n",
      "Fashion Necklace Fashion Special Faux Sapphire Rhinestone Jewelry- = Fashion\n",
      "Fashion Nose Ring Reusable Non Piercing Alloy Fake Magnetic Horseshoe For Party-Silver = Fashion\n",
      "Continental HYBRID CAPSICUM SUPER BELL F1 (hoho) = Garden & Outdoors\n",
      "Quality Remote Thrusting Dildo = Health & Beauty\n",
      "Bathroom Uv Toothbrush Holder & ToothPaste Dispenser = Home & Office\n",
      "Four Hole Non-Stick Frying Pan = Home & Office\n",
      "Axe Body Spray For Men Black 150ml = Health & Beauty\n",
      "Mountain Wolf Unframed Canvas Painting Living Room Wall- = Home & Office\n",
      "Fashion Men Sports Pants Drawstring Loose Casual Leggings Corduroy- Coffee = Fashion\n",
      "Fashion 6PCs Kids Long Lasting Brief Cotton Boys Boxers = Fashion\n",
      "Portable Mini G2 6D Bass Bluetooth 4.2 Wireless Speaker With USB TF Card Jack Subwoofer Loudspeaker For Indoor Outdoor-Red = Electronics\n",
      "Double Electric Breast Pump + Free Feeding Bottles Gift Pack & 6Pcs Avents Breast Pads = Baby Products\n",
      "Fashion Titanium Steel Simple Smiling Face Pendant Necklace Collar Chain = Fashion\n",
      "Fashion Women High Waist Wide Leg Baggy Jeans Side Pocket Denim Pants Vintage Cargo = Fashion\n",
      "Binnys Black Plus Size Underwire Comfortable Lace Design Bra For Women = Fashion\n",
      "Fashion Top Leather Quartz Lady Watch Women Luxury Antique = Fashion\n",
      "Fashion Women Earring Set - 9 Pair = Fashion\n",
      "Dexe 10 PCS Dexe Black Hair Shampoo Instant Hair Dye For Men & Women-Black Color = Health & Beauty\n",
      "Butterfly Channa Dal(Gram Split - 1Kg = Home & Office\n",
      "Fashion Front Hair Afro Kinky Curly Wigs Short Bob Cuticle Aligned Hairline Wig for Black Women - 13x4 Front Wigs = Fashion\n",
      "Amtec  3.1CH POWERFUL DEEP BASS SOUND SYSTEM BT/FM/AUX/USB = Electronics\n",
      "Fashion A Pack Of 3 Cotton Vest With A Free Pen-3 Colours = Fashion\n",
      "KNM12 Mini Hidden Camera IP WIFI Remote Security = Electronics\n",
      "Fashion Women Normal Waist Camouflaged Jeans = Fashion\n",
      "Fashion 1 Pair Ear Studs Heart-shaped Easy To Match Alloy-Golden = Fashion\n",
      "Bebe KIDS STUDY TABLETS 64GB/4GB = Phones & Tablets\n",
      "Fashan 6-inch Wavy Wig, Synthetic Fiber Wig, Women's Shortwave Wig, Everyday Wig = Fashion\n",
      "Fashion 18K Yellow Gold Plated Lion Shield Badge Men Crown Ring Signet Rings for Men = Fashion\n",
      "Fashion Unisex Bucket Hat = Fashion\n",
      "Fashion Charm Evil Eye Bead Protection Lucky Bracelet Jewelry Hamsa Hand Bracelet Gift = Fashion\n",
      "Fashion Bracelet Retro Double Layer Owl Pendant Alloy Women Bracelet For Party-Blue = Fashion\n",
      "Fashion Round Neck Plain T-Shirts Bundle-White = Fashion\n",
      "Fashion Quilted Water Proof Mattress Protector = Home & Office\n",
      "Fashion Gorgeous Stretchy Women Headbands Women Tarban = Fashion\n",
      "3G Smartphone 5.0 Inch Full Screen  Android Hd Screen Fingerprint Unlock = Phones & Tablets\n",
      "Fashion Kid's Boys Non-slip Breathable Sneakers-White = Fashion\n",
      "Ayurvedic Mufasil Plus+ for Joint Pain Relief = Health & Beauty\n",
      "Cotton 2 Piece Official Pants Set For Boys With Bow Tie - Grey = Fashion\n",
      "Fashion Slimming Belt Waist Trainer Corset Tummy Control Shapewear Flat Tummy = Fashion\n",
      "Car Bt5.0 Audio Amplifier 4 Channel Home Theater Stereo = Automobile\n",
      "Bio Biohazard Specimen Bag = Industrial & Scientific\n",
      "Fruit Of The Wokali Enzyme Moisturizing Whitening & Anti Wrinkle Serum = Health & Beauty\n",
      "Fashion Blue Light Blocking Computer Glasses Women Men Anti Blue Light Glasses = Fashion\n",
      "Fashion Raw Cocoa Butter-450gms = Fashion\n",
      "General Electric DCQ Q1 2.4\" 5D Louder Speaker 2000mAh Phone - Orange = Phones & Tablets\n",
      "Fashion 3PCS Men's Classic Stretchy Cotton Boxer -ASSORTED = Fashion\n",
      "Defacto Woman Young Fit And Flare Wrap Short Sleeve Knitted Dress - Black = Fashion\n",
      "A4 Fashion 2PCS Stylish Stretchy Printed Freesize Palazzo Pants (size 10-22) = Fashion\n",
      "Budgeting Cash Envelope, 21 Pcs Budget Binders Set, with Cash Envelope, A6 Binder, for Saving Money Envelope Storage Bag = Home & Office\n",
      "Fashion > Lovers Watch //  Gifts For Ladies// Quartz Watches  + FREE Gift Box = Fashion\n",
      "Non-Stick Cooking Frying Pan = Home & Office\n",
      "Fashion Men's Leather Shoes Comfortable Soft = Fashion\n",
      "Fashion Square Sunglasses Male UV400 Polarized Lens Sun Glasses(Black) = Fashion\n",
      "Fashion 2 In 1 Men's Short Sleeve Shorts Casual Set = Fashion\n",
      "Anti Blue Light Glasses  Computer Glasses Anti Blue Ray Fashionable Eye Ware = Fashion\n",
      "10pcs Nail Gel Polish Remover Clip Soak Off Caps Cleaner Wrap = Health & Beauty\n",
      "Defacto Woman Standart Fit Knitted Short - Orange = Fashion\n",
      "4K HD Night Vision 48MP Home WiFi Live Camcorder DV Digital Camera, Style:Hood +  Microphone = Electronics\n",
      "Dstv Full Kit (Dish, 25 Meters Cable, LNB, Decoder) With 1 Month Free Subscription = Electronics\n",
      "Aichun Quick Hips And Butt Enlargement Oil Buttock Enhancement Hip Lifting Oil = Health & Beauty\n",
      "24/18/12/6 Black Pony Tail Hair Bands / Hair Ties = Fashion\n",
      "Universal Travel Power Adaptor Plug With Surge = Home & Office\n",
      "Fashion Ladies Fashion Handbags, Women's Shoulder Bags, Messenger Bags - Blue&Pink = Fashion\n",
      "Fashion LED Light Up Shoes For Kids Girls Sneaker = Fashion\n",
      "Wireless Sports Earphone  Mini  In Ear Headphone Touch Control Sport Headset Stereo Earbuds For Phone Android = Electronics\n",
      "Disaar Probiotic Spray Fresh Breath Grape Flavor Oral Freshner 20ml = Health & Beauty\n",
      "Fashion Multi-layer Golden Necklaces Jewely Choker Chain Vintage  Necklace For Women = Fashion\n",
      "Full Screen Bluetooth Call  Wireless Charging Smartwatch = Electronics\n",
      "cloudoon Underwear For Men Boxer Thin & Cool For Summer 4pcs/set = Fashion\n",
      "Fashion Secret Curves Padded Hips Booster Mid Thigh Shorts = Fashion\n",
      "60 By 200cm Self Adhesive Marble Contact Paper = Home & Office\n",
      "Fashion 3PCs Men's Vest Stretchy Undershirts For Men = Fashion\n",
      "Biowang Biaowang Great Quality Laptop Shoulder Bag = Computing\n",
      "Bata Ladies Slip-on Sandal New Hazel Shoes = Fashion\n",
      "Fashion Detachable Cross Titanium Steel Male Ring = Fashion\n",
      "Naviforce Top Luxury Sports Cool Men Quartz Waterproof Watch = Fashion\n",
      "Vacuum Sealer Roll/Food Saver Fridge Storage Bag = Home & Office\n",
      "300 MBps Wireless Wifi Repeater Wifi Range Extender = Electronics\n",
      "Fashion Men's Watch Tungsten Steel Color Men's Quartz Calendar Watch = Fashion\n",
      "Charger Stand 1m Safe Fast Charge Smartwatch USB Charging- = Electronics\n",
      "Fashion Perfect Curves Stretchy Ribbed Pencil Skirt(Hips 40-46inches) = Fashion\n",
      "Defacto Woman Coool Fitted Knitted Short Sleeve T-Shirt - Blue = Fashion\n",
      "DATA FROG PS3 Gaming Steering Wheel Racing Pad 180 Degree Computer USB Car Computer Vibration Joystick for PS2 PS3 Xbox 360 Switch = Toys & Games\n",
      "ZYWZ Large Capacity School Bags- Navy Blue = Fashion\n",
      "Fashion Shoes For Women Sneakers Ladies Shoes Sneakers = Fashion\n",
      "Fancy Laptop Sleeve/Pouch = Computing\n",
      "24Pcs MB15AK Welding Torch Consumables 1.2mm Torch Gas Ceramic Nozzle Tip for 15AK MIG MAG Welding Torch = Industrial & Scientific\n",
      "Fashion Sleeping Cap Wide Band Satin Hair Bonnet Silk Hair Bonnet Cap Large Satin Bonnet = Fashion\n",
      "Bosch 10 Pcs  Cookware With Silicon Lid Covers = Home & Office\n",
      "Fashion Jungle Green Plain T-shirt = Fashion\n",
      "Adidas Tensaur Sport Training Hook And Loop Shoes Kids = Sporting Goods\n",
      "Bicycle Portable USB Rechargeable LED Safety Tail-Light = Sporting Goods\n",
      "2 Kg Puss_y Sex Doll Sex Toy For Men = Toys & Games\n",
      "Prote Tive Skin De Al For 6.5in Balan Ing Board S Ooter Hoverboard Sti Ker-2 = Sporting Goods\n",
      "Adidas Tensaur Sport Training Hook And Loop Shoes Boys = Sporting Goods\n",
      "Clove Bud Essential Oil 100% Natural & Undiluted 100ml.. = Health & Beauty\n",
      "Walkie Talkie Heaphones Acoustic Air Tube Earpiece Headset = Electronics\n",
      "Defacto Woman Young Fitted Crew Neck Knitted Short Sleeve T-Shirt - Black = Fashion\n",
      "2 Piece Bedsheets 4*6 = Home & Office\n",
      "Dettol Dettol Soap Skincare 125g = Health & Beauty\n",
      "Defacto Woman Coool Fitted Knitted Short Sleeve T-Shirt - Black = Fashion\n",
      "Fashion Couple Perfume Solid Balm Set Fragrance = Health & Beauty\n",
      "Defacto Woman Traditional Regular Fit Round Collar Woven Short Sleeve Blouse - White = Fashion\n",
      "Nescafe Nescafe Classic Jar 100g = Home & Office\n",
      "Fashion 【 Synthetic K42 】 Ladies Wigs Hair Women Long Straight = Fashion\n",
      "3.5mm Wired Gaming And Microphone Headphone For Xbox-ONE PS4 = Electronics\n",
      "cloudoon Milk Coffee Foam Maker Portable Mixer = Home & Office\n",
      "P9 Air Max Wireless Bluetooth Headphones With Microphone Noise Canceling Earbuds Gaming Headset Stereo HiFi Earphones = Electronics\n",
      "Dr. Rashel Vitamin C Whitening Exfoliating Silky Shower Gel 500ml = Health & Beauty\n",
      "Ampex 3.1CH SUBWOOFER SYSTEM-BT/FM/USB-AC/DC-40000W = Electronics\n",
      "Fashion Hip-hop Titanium Lightning Flash Symbol Pendant Necklace = Fashion\n",
      "Push Up Board for Men & Women, Portable Multi-Function Foldable Pushup Fitness Stand = Sporting Goods\n",
      "Fashion Leaf Crystal Simulated Pearl Wedding Jewelry Necklaces Earrings Sets = Fashion\n",
      "PS5 Stand Dual Controller Charger Charging Station Dock &Fan = Electronics\n",
      "Fashion Hip Hop Men Cuban Link Chain Bracelet Shiny-Silver = Fashion\n",
      "Adix Laundry Basket  With Lid = Home & Office\n",
      "Grills 12 Teeth Grill Set Halloween Vampire Prop Hip Hop Rapper Silver = Fashion\n",
      "Defacto Woman Casual Brazillian Slip - Black = Fashion\n",
      "T500 Smart Watch Black For Android And IOS = Electronics\n",
      "For Lenovo Ideapad Flex 5 14 14iil05 14are05 = Computing\n",
      "Quality Wooden Bamboo Double Sided Chopping Board. = Home & Office\n",
      "HDMI Cable 1.5M = Electronics\n",
      "Audio Mixer Live Sound Card ,Support 2 Microphones = Musical Instruments\n",
      "Fashion 10 Pieces Flexi Rods/curling Ro = Fashion\n",
      "Fashion 2Pcs Stainless Steel Nose Ring Open Hoop Earrings-Silver = Fashion\n",
      "PCB Circuit Board Ribbon Film Pad For  PS4   4 5.0 Controller = Electronics\n",
      "Fashion Double Layer Acrylic Butterfly Necklace Letter Angel- = Fashion\n",
      "Fashion Hair Bonnet/sleeping Cap/bonet Cap = Fashion\n",
      "Aichun Beauty 7Days Gluta Magic Ginger Germinal Hair Oil Growth Essence-30ml = Health & Beauty\n",
      "Wireless USB WiFi Adapter For Laptop/PC/Desktop = Computing\n",
      "Fashion Wood Buddha Buddhist Prayer Beads Bracelet Copper Coin- = Fashion\n",
      "Fashion Lightweight Round Frame Sunlight Anti-Blue Light Darkening Glasses Photochromic = Fashion\n",
      "Fashion Full Body Shaper Bodysuit Tummy Slimming Corset = Fashion\n",
      "Black Opal E.D.A 3 IN 1 MAKE UP + LOOSE POWDER (MEDIUM) = Health & Beauty\n",
      "Oraimo HALO 4 In-Ear Earphone With Mic OEP-E26 Black = Electronics\n",
      "Dolphin Vlbrator For Female Sex-toys = Health & Beauty\n",
      "Fashion Fluffy Door Mats = Home & Office\n",
      "Defacto Boy Casual Regular Fit Crew Neck Knitted Short Sleeve T-Shirt - Turquoise = Fashion\n",
      "P9 Wireless Bluetooth HiFi Stereo Over Ear Headphones with Microphone Sports Noise Cancelling for Travel/Home/Office = Electronics\n",
      "7 In 1 Wireless USB Type C Hub Port Expansion  Computer Multiple = Computing\n",
      "Fashion Kids Nasal Aspirator Nose Suction Cleaner Baby Mouth Suction Catheter Nose Cleaning Sucker Safe Cleaning Tool = Baby Products\n",
      "Body Sculpture A Pair Of 3kg Vinyl Dumbbell = Sporting Goods\n",
      "Ireless Xbox Controller Xbox PC Game Pad Bluetooth BT3.0 For TV Box = Electronics\n",
      "Defacto Man Casual Belt - Black = Fashion\n",
      "Fashion Music Note Couple Necklace = Fashion\n",
      "Fruit Of The Wokali Waist & Belly Cream Active Natural Weight-loss Flat Tummy = Health & Beauty\n",
      "Fashion Unique Unisex Metal Anime Naruto Logo Pendant Necklace Cosplay Hokage Accessory-Silver = Fashion\n",
      "Capri 2PCS Super Comfy Wireless Non Padded Cotton Bras = Fashion\n",
      "Brick Game Tetris HandHeld LCD Brick Game - Blue = Toys & Games\n",
      "Nursing Pillow - Multicolor = Baby Products\n",
      "10pcs Nail Gel Polish Remover Clip Soak Off Caps Cleaner Wrap = Health & Beauty\n",
      "Defacto Woman Standart Fit Knitted Short - Orange = Fashion\n",
      "4K HD Night Vision 48MP Home WiFi Live Camcorder DV Digital Camera, Style:Hood +  Microphone = Electronics\n",
      "Dstv Full Kit (Dish, 25 Meters Cable, LNB, Decoder) With 1 Month Free Subscription = Electronics\n",
      "Aichun Quick Hips And Butt Enlargement Oil Buttock Enhancement Hip Lifting Oil = Health & Beauty\n",
      "24/18/12/6 Black Pony Tail Hair Bands / Hair Ties = Fashion\n",
      "915 Generation 1pc Mini -Submersible Water Pump Dc 25-6v Low Noise Brushless Motor Pump120lH = Garden & Outdoors\n",
      "Universal Travel Power Adaptor Plug With Surge = Electronics\n",
      "Fashion Ladies Fashion Handbags, Women's Shoulder Bags, Messenger Bags - Blue&Pink = Fashion\n",
      "Fashion LED Light Up Shoes For Kids Girls Sneaker = Fashion\n",
      "Wireless Sports Earphone  Mini  In Ear Headphone Touch Control Sport Headset Stereo Earbuds For Phone Android = Electronics\n",
      "Disaar Probiotic Spray Fresh Breath Grape Flavor Oral Freshner 20ml = Health & Beauty\n",
      "Fashion Necklace Exquisite Adjustable Single Faux Pearl Pendant Chain Women Jewelry For Daily Life-Golden = Fashion\n",
      "2 Din 7\" HD Car Stereo Radio Player Bluetooth Touch Screen + Rear Camera Kit = Automobile\n",
      "Fashion Multi-layer Golden Necklaces Jewely Choker Chain Vintage  Necklace For Women = Fashion\n",
      "Fashion Cheap Water Wave HD 360 Frontal Wig with Afro Kinky Curly Wigs for Black Women = Fashion\n",
      "Full Screen Bluetooth Call  Wireless Charging Smartwatch = Phones & Tablets\n",
      "Binliners 50pcs Garbage Bags = Home & Office\n",
      "cloudoon Underwear For Men Boxer Thin & Cool For Summer 4pcs/set = Fashion\n",
      "Apple Airpods Max Headphones = Electronics\n",
      "T500 smart watch sports fitness Bluetooth BT call heart rate waterproof smart watch = Electronics\n",
      "Fashion Secret Curves Padded Hips Booster Mid Thigh Shorts = Fashion\n",
      "Fashion Sandals Beach Shoes Cave Men's Shoes = Fashion\n",
      "Bracelet Feng Shui Obsidian Luck And Wealth = Fashion\n",
      "Fashionable Duvet Cover Set With Matching Curtains = Home & Office\n",
      "Fashion 40PCs Long False Nails Arts Fake Hands Nails Press On Nails+2Nails Glue = Fashion\n",
      "2.4 G Controller Gamepads Android Wireless Joystick For PS3 /PC/TV Box/Smart = Electronics\n",
      "Bata NAVY BLUE SPORTY = Fashion\n",
      "Car Cooling Air Fan 12V Electric Dual Head Cooling Air Circulator 360 Degree Rotatable = Automobile\n",
      "cloudoon Men's Underwear Boxer Elastic For Summer 4pcs/set NEW = Fashion\n",
      "Fashion \"No Matter Where\" Fashion Couple Pendant Necklace = Fashion\n",
      "Dr. Rashel Aloe Vera 2 In 1 Facial Peeling & Scrub Face = Health & Beauty\n",
      "Fashion NavyBlue Elegant Travelling Suitcase = Fashion\n",
      "Outdoor Portable Hammock Lightweight Camping Travel Swing Hammock (Blue, 190X80cm) = Garden & Outdoors\n",
      "Fashion Men's Classic Vintage Belt With Needle Buckle = Fashion\n",
      "Fashion Men's Ankle Socks - 6-Pair Set = Fashion\n",
      "Fashion Cartoon Children Kids Round Dial Silicone Strap-Rose Red = Fashion\n",
      "AB Wheel Double Wheel Abs Roller + Tummy Trimmer + FREE Knee Mat = Sporting Goods\n",
      "Aichun Beauty Butt & Hip Lift Up Boosters Boosting Enlargement Cream-150ml = Health & Beauty\n",
      "Fashion Men Blue Cotton Soft Flat Beret Cap = Fashion\n",
      "Fashion 3ml Pheromones Perfume for Men To Attract Women Best Way To Get Immediate Male Attention New = Health & Beauty\n",
      "Fashion Multicolor Basketball Pattern Cute Boys Sports-Cymbidium = Fashion\n",
      "Fashion 4Pcs/Set Bohemian Women Cowrie Shell Leaf Charm Candy-Black = Fashion\n",
      "1 Set Ceiling Chandelier Model Light Vintage Miniature = Home & Office\n",
      "Fashion Men's Waterproof Backpack,Laptop Bag,Outdoor Travel,USB Charging Backpack-Grey = Fashion\n",
      "Dr. Rashel Vitamin C Brightening & Anti-Aging Face Serum - Dr Rashel = Health & Beauty\n",
      "Sonaplast 100's = Health & Beauty\n",
      "Fashion Sports Shoes Womens Ladies Sneakers Breathable Casual Running = Fashion\n",
      "Newborn Baby Ideal Package 17 Essential Items = Baby Products\n",
      "Fashion Women Shoulder Handbag Pu Leather Trendy  Lady Tote Bag = Fashion\n",
      "Cream-Removes Acne,Pimples,Dark Spots & Wrinkles = Health & Beauty\n",
      "Package De Rangement 8 En 1 De Travel Totes-Grey = Home & Office\n",
      "Fashion New Flash Diamond Engagement Ring/Gift For Girlfriend Wife Lover Fiancee-Gold = Fashion\n",
      "Fashion Baby Girl Lovely Outfit Set Hearts Design Short Sleeve Bodysuit Tutu Skirt = Baby Products\n",
      "Fashion Half coats/waist coats = Fashion\n",
      "Fashion 5 Turkey Men's Formal Official Trousers = Fashion\n",
      "Double Bestcare Stc Supplement 30 = Health & Beauty\n",
      "Soundbar BS28B 4-Driver Stereo Bass For TV Home Theater = Electronics\n",
      "Fashion Quality Men Buckle Leather Belt- Black+Wallet + Watch = Fashion\n",
      "Disaar Probiotic Mouth Spray For Fresh Breath- Lemon Flavor = Health & Beauty\n",
      "Aichun Beauty Hip Up Firming Cream Buttock Butt Lift Enhancement = Health & Beauty\n",
      "Mini scented candles = Home & Office\n",
      "Fashion LADIES Shinny Loafers = Fashion\n",
      "AILYONS 2.2 LITRES BEST ELECTRIC KETTLE HEATER JUG = Home & Office\n",
      "Self Adhesive Electrode Pads For Tens Acupuncture = Health & Beauty\n",
      "Fashion Gold Filled 10Mm Men'S Necklace 18-30Inch Cuban  Chain = Fashion\n",
      "Wifi Adapter Wifi Dongle Wireless Wifi Receiver = Electronics\n",
      "Fashion 5Pcs/Set Ethnic Lady Shell Heart Rhinestone Charm-Silver = Fashion\n",
      "Super Soft Solid Color Thickened Warm Flannel Blanket Sofa Bedroom Throw Rug-Blue = Home & Office\n",
      "Burner With Grill Gas-Stove. = Garden & Outdoors\n",
      "Dr. Rashel Vitamin E Dark Spots Corrector Cream+Serum+Cleanser = Health & Beauty\n",
      "2pcs Wall Metal Shelf Bracket Standards Decorative Iron White Wall Mounted Hanging Support  Corner Angle = Home & Office\n",
      "Table Top Stainless Steel 2 Burner Gas Cooker Plus 6kg Regulator And Pipe = Home & Office\n",
      "COLMI Smart Watch Strap = Electronics\n",
      "Lightweight Wireless BT Keyboard 10 \"7-color Rechargeable = Computing\n",
      "Acnesol Tretinoin Cream = Health & Beauty\n",
      "Fashion 2 Stand Mosquito Net With Rails = Garden & Outdoors\n",
      "JP FLASK+6PCS CUPS = Home & Office\n",
      "Drs 4in1 Derma Micro Needles Titanium Roller Skin Anti Aging - Hair Loss Regrowth = Health & Beauty\n",
      "Fashion Simple And Stylish Men's Canvas Shoes = Fashion\n",
      "Kitchen Faucet Wall Mounted SinK Tap Rotatable Cold Water = Home & Office\n",
      "LED Disco Laser Light RGB Projector Party Lights 60 Patterns DJ Magic Ball Laser Party Holiday Christmas Stage Lighting Effect = Electronics\n",
      "50 Watts Electric (AC) Floodlight/Security Light = Garden & Outdoors\n",
      "2-in-1 Soil PH Meter Fertility Tester PH Tester Soil Tester = Garden & Outdoors\n",
      "P47 Bluetooth Headphone Music Headset With FM Radio = Electronics\n",
      "Water Dispenser Valve for 55mm Crown Top Drinking Bottle, Reusable Water Jug Cap Plastic Spigot Faucet = Home & Office\n",
      "Pot Filler Tap Wall Mounted Foldable Kitchen Faucet  And Cold Single Hole Sink Tap Rotate Folding Spout Brushed Gold Brass = Home & Office\n",
      "Multifunctional Camping Folding Seat Cushion with Backrest Outdoor Stadium Grass Beach Chair Camp Rest Cushion,Red = Garden & Outdoors\n",
      "Kawaii Bear Water Bottle For Girls Cute Plastic Summer School Drink Bottle With = Home & Office\n",
      "High-Frequency Energy Tuning Fork 4096HZ Tuning Fork Aluminum Alloy Healing Sound Vibration Tuning Fork = Health & Beauty\n",
      "Home Digital Wrist Blood Pressure Monitor BP Device Machine = Health & Beauty\n",
      "GIGASET ME 5\" 32GB Octa-Core Dual SIM Android 5.1 Smartphone 3GB RAM Black Black (black) = Phones & Tablets\n",
      "1/10 Scale Dollhouse Modern Living Room Plastic Chair Models White = Toys & Games\n",
      "Silicone Rolling Pin Wooden Handle = Home & Office\n",
      "7 By 8 Soft Fluffy Carpets - patched black = Home & Office\n",
      "Samsung 64 GB Memory Card EVO Plus Micro SD = Electronics\n",
      "Kid Infant Foot Measure Gauge Shoes Size Measuring Ruler Tool Toddler Infant Shoes Baby Child Shoe Fittings Gauge foot measure red = Baby Products\n",
      "Fashion Donut Hair Bun Maker Extension (Medium Size) = Fashion\n",
      "Smart Band Watch Bracelet Wristband W/ Digital Display Black = Electronics\n",
      "Infinix Smart 8 Case Fashion Solid Color Soft Phone Cover = Phones & Tablets\n",
      "1/12 DollHouse Furniture Miniature Wooden Console Table Cabinet Kitchen Room Sideboard Bathroom Shelf Wood Color = Home & Office\n",
      "2Pcs Silicone Pot for Reusable Silicone Liner Foldable = Home & Office\n",
      "7000 Grits Wool Buffing Angle Grinder Wheel Felt Polishing Disc Pad Rod Set = Industrial & Scientific\n",
      "High Pressure Washer Swivel Joint 3/8 Inch Pressure Washer = Garden & Outdoors\n",
      "reading glasses 2.0 = Health & Beauty\n",
      "Men's Explosion-proof Sunglasses Outdoor Riding Glasses Bicycle Sunglasses-black Frame Night Vision = Sporting Goods\n",
      "Forever Multi Maca = Health & Beauty\n",
      "Waist Trainer Corset Slimming Fitness Tummy Body Shaper Strap Cincher = Health & Beauty\n",
      "High Quality Microfiber Towel = Home & Office\n",
      "Outdoor Sports Cycling Polarized Sunglasses Smart Bluetooth = Sporting Goods\n",
      "Electric Scooter Charger UKplug Lithium Connector Power = Automobile\n",
      "Five Star Store 220ML Stainless Steel Eiffel Tower Vacuum Flask Cup Bottle Tea Water Travel Mug Purple New Purple = Home & Office\n",
      "1Set Baking Paper Circle Parchment Paper Multifunction Liner BBQ Oven Patty Hamburger Paper Cake Non-Stick Baking Too = Home & Office\n",
      "Summer Hawaiian Shirts For Men Colorful Music 3d Printed Rock Shirt Beach Short Sleeve Men's Shirt Casual Oversized Clothing = Fashion\n",
      "4PCs Spandex Stretch Dining Room Wedding Banquet Chair Seat Cover Decor Slipcover Butterfly = Home & Office\n",
      "2 PCS LED Car Door Welcome Logo 3D Light For Volkswagen = Automobile\n",
      "Motorcycle Clutch Cable For YAMAHA YBR125 YBR = Automobile\n",
      "Creative Wooden Barrel Stainless Steel Resin  Mug Wall Drinking = Home & Office\n",
      "Adjustable Electric /Acoustic Guitar Bass Shoulder Strap = Musical Instruments\n",
      "Hand Press Water Dispenser Manual Pump = Home & Office\n",
      "Samsung Galaxy A13 Case Heart Square Silicone Phone Cover = Phones & Tablets\n",
      "VGA Cable - 1.5M, 3M, 5M,10M = Electronics\n",
      "Fashion Anklet Moon Charm Exquisite Alloy Fashionable Ankle Bracelet For Dating-Silver = Fashion\n",
      "Defacto Woman Coool Loose Fit Knitted Short Sleeve T-Shirt - Brown = Fashion\n",
      "Always Stainless Steel Thermos Flask Jug - 2 Litres - Silver = Home & Office\n",
      "Amtec 32R1S,32 Inch Bluetooth TV SMART Android TV Television USBHDMI,Inbuilt Decoder = Electronics\n",
      "Fashion 5PCS Watch Ring Necklace Earrings Water Diamond Bracelet Set = Fashion\n",
      "Fashion Feng Shui Pixiu Obsidian Stone Wealth Bracelet Ring Set = Fashion\n",
      "Sealed Kitchen Grain Rice Container Bucket + Measuring Cup = Home & Office\n",
      "Chronos Women Rhinestone Watch Silver Bracelet Quartzwatch = Fashion\n",
      "Ceriotti Super GEK 3000 Blow Dry Hair Dryer = Health & Beauty\n",
      "Aichun Beauty Garlic Hips & Booty Enlargement Cream Buttock Lifter = Health & Beauty\n",
      "Fashion  Outdoor Shades Sunglasses Square Sunglasses For Women Men = Fashion\n",
      "Fashion EsoGoal Women Convenient Front Zipper Sports Closure Bra = Fashion\n",
      "Dr. Rashel Hair Removal Cream With Aloe Vera,Vit E And Essence Oil = Health & Beauty\n",
      "250mm Cable Zip Ties - Self Locking ( 100pcs Pack) = Industrial & Scientific\n",
      "Rdl Vitamin E Papaya Whitening Hand And Body Lotion = Health & Beauty\n",
      "F2 Desktop Mini Fan, Colour: Black Without Battery = Home & Office\n",
      "Full Touch Screen Smart Watch - For Android & IOS = Phones & Tablets\n",
      "Bruhm BWT-120H Super Quite Twin Tub Washing Machine - 12kg = Home & Office\n",
      "Computer Laptop Speaker, USB Speakers = Computing\n",
      "Fashion 3 Pieces Of Adjustable Unisex Men Women Baseball Cap = Fashion\n",
      "Adidas Men's Essentials Single Jersey Big Logo Tee = Fashion\n",
      "Fashion Women 2 Pieces Sport Outfit T Shirt Top Bodycan Shorts Set Workout Tracksuit = Fashion\n",
      "Fashion Beach Comfortable And Leisurely Cotton And Linen Floral Ethnic Shorts 4 In 1 = Fashion\n",
      "Darkhorsir USB 3.0 Metallic High Speed 64GB Flash Drive/Disk = Electronics\n",
      "Fashion 12 Pairs  Zircons Flower Pearl Ear Studs Set = Fashion\n",
      "Football Leather Soccer Ball - Official Big Size 5 = Sporting Goods\n",
      "Asantee Papaya And Honey Whitening Soap = Health & Beauty\n",
      "Samsung Galaxy A12 Case Soft 6D Plating Phone Back Cover = Phones & Tablets\n",
      "Fashion Women's WatchWatch + BraceletLeather Strap Casual Ladies Watch + Bracelet = Fashion\n",
      "MP3 Player With Display And FM = Electronics\n",
      "32GB USB 2.0 Metal Mini USB Flash Drives U Disk Black = Computing\n",
      "Fashion Ladies 3 Piece Trouser Kimono Suit Set = Fashion\n",
      "Fashion Carbon Fiber Credit Card Holder With Money Clip = Fashion\n",
      "Curren 8324 Man Quartz Sport Watch = Fashion\n",
      "Fashion 4 Pack of Soft Khakis- Blue, Black, Beige & Off white = Fashion\n",
      "BIOAQUA BIOAQUA_RICE RAW PULP Anti Wrinkle & Smoothing Face Cream Long Lasting Moisturizing And Nourishing = Health & Beauty\n",
      "Fashion VRGPRO X7 3D VR Glasses Virtual Reality Full Screen Visual Wide-Angle VR Glasses For 5 To 7 Inch Smartphone Eyeglasses Devices = Electronics\n",
      "Baellerry Fashion PU Leather Wallet Coin Purse-Coffee = Fashion\n",
      "Fashion Ladies Clutch Bag Mini Handbags Card Holder Mobile Phone Bag Pink PU Wallet = Fashion\n",
      "Fashion 6*6 Pattern  2 Bedsheets,2 Pillowcases = Fashion\n",
      "Flat Tummy Tea Slimming Tea Detox - 28 Days Moringa & Oolonga Tea- Cleanse The Digestive System = Health & Beauty\n",
      "Fashion Quality Men Boxer Shorts = Fashion\n",
      "Fashion 2 In 1 Men Short Sleeve Polo Shirt = Fashion\n",
      "Fashion Women's Earrings High Earring Set of 6 - Gold = Fashion\n",
      "Fashion X Design Cotton Baseball Cap - Men Casual Cap = Fashion\n",
      "Fashion Women Men Duckbill Newsboy Cap Thin Cabbie Ivy Flat Hat = Fashion\n",
      "150W DC 12V To AC 220V Inverter Auto Voltage Converter Car = Automobile\n",
      "Mekis Women Sunscreen Balm- SPF30+,No White Cast,Broad Spectrum, = Health & Beauty\n",
      "7ft / 210CM Multi Photography Light Tripod Stand = Electronics\n",
      "4 Piece Polyester Fabric Car Seat Cover Set = Automobile\n",
      "Suitable For Fitbit Charge3 Protective Case Transparent Protective Cover = Phones & Tablets\n",
      "Barksdale computer PC furniture gaming desk with led lights big blue black z shaped = Home & Office\n",
      "Bacardi Bacardi Spiced 700ml = Health & Beauty\n",
      "Binnys Plus Size Floral Printed Full Cup Garther Bra For Women = Fashion\n",
      "Alpa Alpa Cooking Fat Carton - 5kg = Home & Office\n",
      "Fashion Booty Boosters Slim Tummy Highwaist Padded Panties = Fashion\n",
      "Fashion Bullet Style Bracelet - Black = Fashion\n",
      "IRig Guitar Interface Converter Replacement = Musical Instruments\n",
      "Fashion Navy Blue Turkey Men's Official Long Sleeve Formal Shirt = Fashion\n",
      "Fashion 4-Pack Body Shapers = Fashion\n",
      "Defacto Woman Traditional Short Sleeve Woven Dress - Black = Fashion\n",
      "SD Card Micro Class10 512GB TF Card Memory Card = Electronics\n",
      "1 Pair 18cm Wooden Chopsticks Dishwasher Safe Comfortable-A = Home & Office\n",
      "2GB 4GB 8GB 16GB 32GB 64GB 128GB Memory Card - 2  GB 4 GB 8 GB 16 GB 32 GB 64 GB 128GB Micro SD = Electronics\n",
      "14-43\" Wall Mount Bracket + Free 4 Way Extension = Home & Office\n",
      "Fashion 3ml Pheromones Perfume for Men To Attract Women Best Way To Get Immediate Male Attention New = Health & Beauty\n",
      "Tv Ariel With A Free Cable,Free Connector = Electronics\n",
      "Fashion Multicolor Basketball Pattern Cute Boys Sports-Cymbidium = Fashion\n",
      "Fashion 4Pcs/Set Bohemian Women Cowrie Shell Leaf Charm Candy-Black = Fashion\n",
      "Adjustable Home Or Car Window Cleaning Brush Windshield Squeegee Scraper Wiper With Detachable Long Handle Rubber Squeegee And Cleaner = Home & Office\n",
      "1 Set Ceiling Chandelier Model Light Vintage Miniature = Home & Office\n",
      "Fashion Men's Waterproof Backpack,Laptop Bag,Outdoor Travel,USB Charging Backpack-Grey = Fashion\n",
      "Turkey Stretchable Seat/Sofa Covers = Home & Office\n",
      "Dr. Rashel Vitamin C Brightening & Anti-Aging Face Serum - Dr Rashel = Health & Beauty\n",
      "Defacto Man Smart Casual Slim Fit Short Sleeve Knitted Polo T-Shirt - Beige = Fashion\n",
      "Fashion Sports Shoes Womens Ladies Sneakers Breathable Casual Running = Fashion\n",
      "Newborn Baby Ideal Package 17 Essential Items = Baby Products\n",
      "Fashion Women Shoulder Handbag Pu Leather Trendy  Lady Tote Bag = Fashion\n",
      "Armco GC-F6640FX(TDF) - 4 Gas; 60X60 Gas Cooker. = Home & Office\n",
      "Fashion Short Black Wig for Black Women - Cheap 3 Inch Afro Kinky Loose Curly Wave Synthetic Hair Wigs = Fashion\n",
      "Fat 29 Universal Woofer Remote Control for AMTEC,CLUBOX,JTC,GLD,AUCMA,PERSTAR = Electronics\n",
      "FreshLook Contact Lenses Colorblends, Gray - Box Of 2 - Coloured Contact Lens = Health & Beauty\n",
      "Fashion Choker with Butterfly Pendant for Woman Gold and Silver Chain Collar Declaration Bohemian Jewelry for Beach Cheap Necklace = Fashion\n",
      "Fashion Ladies Shinny Brogues Women Shoes = Fashion\n",
      "Fashion Business Luxury SOPHISTICATED MENS WRISTWATCH = Fashion\n",
      "Foot Mask Goat Milk & Nicotinamide Foot Peeling, Foot Exfoliating Mask = Health & Beauty\n",
      "Clean & Clear Daily Dual Action Moisturizer With Salicylic Acid = Health & Beauty\n",
      "6.5\" For Tecno Spark 7 KF6j LCD Display Touch = Phones & Tablets\n",
      "OPPO A31 2020 Case Soft Peach Phone Back Cover = Phones & Tablets\n",
      "Shee Round Coffee Table = Home & Office\n",
      "I14 Pro Max / H208A 6GB+64GB, 6.5 Inch Smart Phone = Phones & Tablets\n",
      "Dark & Lovely NEW LOOk COLOR INTENSITY PERMANENT COLOR - AMBER BLONDE = Health & Beauty\n",
      "Fashion 100% Leather Belt  With Metal Buckle-Brown = Fashion\n",
      "915 Generation Bike Fork Mount Car Roof Rack Carrier Quick Release Thru = Automobile\n",
      "Fashion V Neck Sweater/official Sweater Men-Red Wine = Fashion\n",
      "Wireless Game Controller Gampad For PC & Android = Electronics\n",
      "Fashion Business Luxury SOPHISTICATED MENS WRISTWATCH = Fashion\n",
      "Fashion Funnai Stretchy Silk Fashion Durag/wavedurag- Blue = Fashion\n",
      "915 Generation Usb Mini Fridge Cold Drop Shpping Freezer Usb Mini Fridge Small Portable Soda Mini Refrigerator For Car Black = Home & Office\n",
      "Fashion Feng Shui Black Obsidian Wealth Bracelet Set = Fashion\n",
      "Ziplock Fridge Bags Ziplock Fridge Bags 2Kgs = Home & Office\n",
      "Fashion Grateful White Tshirt = Fashion\n",
      "60 * 90cm/ 24 * 35inch Photography Light Reflector = Home & Office\n",
      "EA Sports  PS5 Game FIFA 23 = Toys & Games\n",
      "Fashion African Men Native Wear = Fashion\n",
      "Aichun Beauty Bamboo Charcoal Tooth Powder Whitening Teeth Toothpaste = Health & Beauty\n",
      "Defacto Girl Casual Regular Fit V Neck Woven Short Sleeve Shirt - Orange = Fashion\n",
      "Fashion Ladies' Open Classy High Heels = Fashion\n",
      "Carmela Sparkling White Brut Dry Wine - 750ml = Home & Office\n",
      "Cantu Avocado Hydrating Curling Cream = Health & Beauty\n",
      "Curren Men Watch Business Multifuntional Waterproof Watches = Fashion\n",
      "Yoga Brand New lenovo 9 Core i7(1255U) 16GB, 1TB SSD 14inch Win 11 = Computing\n",
      "Laptop Stand Multifunctional Design, Foldable, Portable Stand = Home & Office\n",
      "Casio  fx-82MS 2nd edition With three key advantages, for KCSE CBE Syllabus = Industrial & Scientific\n",
      "Fashion Men's Leather Outdoor Hiking Sandals = Fashion\n",
      "Universal Motorcycle Blinkers Turn Signals Light Compatible = Automobile\n",
      "Fashion Butterfly Print Tshirt = Fashion\n",
      "12 Pcs Metric Tap Wrench And Die Pro Set M6-M12 Nut Bolt Alloy Metal Hand Tools = Industrial & Scientific\n",
      "Fashion Feng Shui Black Obsidian Wealth Bracelet Set = Fashion\n",
      "Ziplock Fridge Bags Ziplock Fridge Bags 2Kgs = Home & Office\n",
      "Fashion Grateful White Tshirt = Fashion\n",
      "60 * 90cm/ 24 * 35inch Photography Light Reflector = Home & Office\n",
      "EA Sports  PS5 Game FIFA 23 = Toys & Games\n",
      "Fashion African Men Native Wear = Fashion\n",
      "Aichun Beauty Bamboo Charcoal Tooth Powder Whitening Teeth Toothpaste = Health & Beauty\n",
      "Defacto Girl Casual Regular Fit V Neck Woven Short Sleeve Shirt - Orange = Fashion\n",
      "Fashion Ladies' Open Classy High Heels = Fashion\n",
      "Carmela Sparkling White Brut Dry Wine - 750ml = Home & Office\n",
      "Cantu Avocado Hydrating Curling Cream = Health & Beauty\n",
      "Curren Men Watch Business Multifuntional Waterproof Watches = Fashion\n",
      "Yoga Brand New lenovo 9 Core i7(1255U) 16GB, 1TB SSD 14inch Win 11 = Computing\n",
      "Casio  fx-82MS 2nd edition With three key advantages, for KCSE CBE Syllabus = Home & Office\n",
      "Fashion Men's Leather Outdoor Hiking Sandals = Fashion\n",
      "Universal Motorcycle Blinkers Turn Signals Light Compatible = Automobile\n",
      "Fashion Butterfly Print Tshirt = Fashion\n",
      "12 Pcs Metric Tap Wrench And Die Pro Set M6-M12 Nut Bolt Alloy Metal Hand Tools = Industrial & Scientific\n",
      "Mama Earth Beetroot Powder- Liver Detoxification, Reduces Blood Pressure, Improves Stamina. = Health & Beauty\n",
      "Fashion Mens Soft Leather Loafers Slip Ons Casual Shoes = Fashion\n",
      "Fashion Bluetooth Smartwatch Touch SBracelet Fitness = Fashion\n",
      "Canon GI-490 Black Ink Bottle +FREE EXECUTIVE PEN = Home & Office\n",
      "Fashion Stainless Steel Navel Ring Rhinestone Belly Button-Clear = Fashion\n",
      "COPPER PAN Non Stick,Deep Square,Fry Basket,Steamer,OvenSafe = Home & Office\n",
      "Defacto Woman Casual Regular Fit Woven Long Sleeve Shirt - Turquoise = Fashion\n",
      "Fashion Mens Dual Layer Braided Faux Leather Magnetic Clasp Wrist Bracelet Gift-Black = Fashion\n",
      "Fibre Pillow - Two Set - White = Home & Office\n",
      "Ballet BUTTER BLEND Baby Soap + SHEA BUTTER Baby Jelly = Baby Products\n",
      "5 Inch Car Polishing Machine DA Eccentric Machine Electric = Automobile\n",
      "Fashion Lucky Star 5 Pieces Unisex New Born Baby Receiving Set- White With Prints = Baby Products\n",
      "Fashion Mannequin Dummy Head Holder Or Clamp = Fashion\n",
      "Mexico Modern Wooden TV Stand For Up To 55\" TV = Home & Office\n",
      "Heavy Duty Elegant Synthetic Leather 5 Seater Car Seat Covers = Automobile\n",
      "Fashion Charming Circle Sparkle Maxi Dera Dress(Size14/16/18 = Fashion\n",
      "V8 Smart Mobile Sport Watch With SIM And Card Slot = Phones & Tablets\n",
      "Motorcycle Full Face Helmet = Sporting Goods\n",
      "1080P Bulb Light Home CCTV Security IP WiFi VR 360 Camera = Home & Office\n",
      "Fashion 1Pc Womens Fashion Simple Link Chain Ankle Bracelet-Gold = Fashion\n",
      "Rear Wiper  Replacement For VW Tiguan GTI Jetta Golf = Automobile\n",
      "Flex Tape Rubberized Waterproof Repair Tape -Black = Home & Office\n",
      "500gx 0.1g Digital Electronic Kitchen Food Diet Postal Scale Weight = Home & Office\n",
      "Curling Eyelashes-Nature Curl Style Cute Curl Eyelash Curlers Pink = Health & Beauty\n",
      "Piezo Pickup Universal No Drilling Self-adhesive Pick-up = Musical Instruments\n",
      "Fashion Nursing Set 2 Pocket Nurse Uniform Suit V Neck Black M = Fashion\n",
      "Stainless Steel 3-in-1 Straw Spoon with Filter for Cocktails Silver = Home & Office\n",
      "Video Microphone Kit 3.5mm Plug Home Stereo MIC Desktop Tripod For PC YouTube Video Skype Chatting Gaming Podcast Recording = Electronics\n",
      "Multifunctional RJ45 Network Cable Crimper 8P6P4P Three-Purpose Tester Ratchet Tool Squeeze Crimping Wire Network Pliers = Home & Office\n",
      "Durable Tent Tarp 230x140cm Fly Tent Tarpaulin Canopy Ground Green = Garden & Outdoors\n",
      "Furry Ear Muffs Warmer Earlap Earmuffs Soft Winter Children Cold Camel = Fashion\n",
      "ELEGANT LAYERED QUALITY LUSH PRINCESS DRESS = Fashion\n",
      "Gift Mug For A Husband - 1 Piece - White = Home & Office\n",
      "Aquarium Mini Ceramic Tank House Bungalow Ornaments Aquarium Fish Tank Decoornations Bonsai Landscaping Decor I = Pet Supplies\n",
      "Naturehike Folding Bucket Storage Camping Foldable Water = Garden & Outdoors\n",
      "750ml Creative Crystal Square Bottle Whiskey Vodka Wine Decanter Bottle Whisky = Home & Office\n",
      "Elastic String for Bracelet Making - Stretchy Bead String - Stretch Cord for Jewelry Making Crystal String Clear,0.7Mm = Fashion\n",
      "915 Generation Hand Drill Water Pump Micro-Self-Priming Pump = Garden & Outdoors\n",
      "Heat Resistant Silicone Cooking Scraper Spatula = Home & Office\n",
      "3.5Litres Borosilicate Glass Saucepan Soup Pot Casserole High Borosilicate Glass Pans Heat-Resistant Glass Cooking Pot with Lid = Home & Office\n",
      "Luxury Women Watch Waterproof Stainless Steel Diamond Ladies Quartz Wristwatch = Fashion\n",
      "Women's Plaid Color Block Shawl Wrap Open Front Poncho Cape Purple = Fashion\n",
      "Tuya Smart Light Switch Wifi Relay Module 1/2/3/4 Gang = Home & Office\n",
      "DC7.2-24V Electric Drill Switch Cordless Drill Button for = Industrial & Scientific\n",
      "16 Colors 3D Moon Lamp USB LED Night Light Moonlight Gift Remote Changing+Stand 12cm 12cm = Home & Office\n",
      "Cycling Leg Warmer Outdoor SportKnee Running Warmers UV Protection Quick Dry Fluorescent Green = Sporting Goods\n",
      "Canbus T10 W5W Car LED Width Parking Map Light Trunk-Yellow = Automobile\n",
      "Maternity Bag Breastmilk Frozen Baby Mommy Backpack-Pink = Baby Products\n",
      "28 LEDs Right Book Light DC5V USB Reading Night Lights Flexible Table Lamp  For Power Bank Laptop = Home & Office\n",
      "24V to 12V 30A Car Power Supply Buck Transformer Converter Truck Bus DVD Audio Modification Efficient Vehicle Power Buck = Automobile\n",
      "RS232 Bluetooth adapter transparent serial Bluetooth adapter wireless distance 10m = Electronics\n",
      "Cleaning Brush Cleaner Pad Saver for Alto Sax Saxophone = Musical Instruments\n",
      "Ac/Dc 12V2A24W Power Supply Adapter Transformer For 5050 3528 Us Plug = Electronics\n",
      "Over The Sink Dish Silicone Storage Rack Foldable Dish = Home & Office\n",
      "V Brake Adapter Folding Bike Bicycle Converter To Caliper Silver = Sporting Goods\n",
      "250ml Porcelain Ramekins Oven Safe Souffle Dish Ramekins For Yellow = Home & Office\n",
      "Wooden Lymphatic Drainage Wood Therapy Massage Tools = Health & Beauty\n",
      "Husband Birthday Gift Coffee Mug = Home & Office\n",
      "Wireless Lavalier Microphone for TikTok Vlog YouTube, Facebook Live = Electronics\n",
      "3x High Speed Step Dril Bit 3-20mm HSS 4241  Titanium Step Cone = Industrial & Scientific\n",
      "1 Pair Elk   Couple Ornament Resin Crafts Option 1-Gold = Home & Office\n",
      "128 Eggs Capacity Fully Auto,uses Electricity &Battery-ACDC = Home & Office\n",
      "Fashion Baby Girls Long Sleeves Rose Floral Hoodie With Pants -Purple = Baby Products\n",
      "Dat Ac Dat AT-9006 Solar Lighting System Solar Home System = Garden & Outdoors\n",
      "AKKO STAR 4w+1w LED Rechargeable Torch & Emergency Light = Home & Office\n",
      "Fashion Retro Women Rectangle Sunglasses Narrow Square Frame Driving Glasses UV400 Protection = Fashion\n",
      "Aichun Beauty Foot Care Collagen & Milk Whitening Scrub Cream 100G = Health & Beauty\n",
      "BM800 PROFESSIONAL STUDIO RECORDING CONDERSER MICROPHONE KIT + TRIPOD = Musical Instruments\n",
      "Fashion Maximum Comfort  5pairs Reusable  Breast Pads = Fashion\n",
      "Shea Moisture Jamaican Black Castor Oil Strengthen & Restore Conditioner = Health & Beauty\n",
      "Follicle Booster Minoxidil 5% for Men and Women - Hair Regrowth Topical Treatment Infused with Biotin, Caffeine and Niacinamide - Anti Hair Loss Treatment For Stronger and Longer Hair. = Health & Beauty\n",
      "Fashion Ladies Bodycon Dress Pregnancy Friendly = Fashion\n",
      "Fashion LADIES Official Flats Dotted = Fashion\n",
      "Fashion DS Stone Iced Men\"s Wristwatch Witch Hand Chain = Fashion\n",
      "Fashion Wedding, Birthday Baptism Princess Baby Dress = Fashion\n",
      "Cyber/Office/ School/Home A3 Laminating Machine = Home & Office\n",
      "Clarion Water Proof Glossy Photo Paper - 4R ( 4* 6 In ) = Home & Office\n",
      "Fashion I Do My Best White Tshirt = Fashion\n",
      "Orange Black Basketball Shape Sport Stress Ball Link Chain = Sporting Goods\n",
      "Wireless Bluetooth Music Receiver For IPhone 4 & 4S / (iPad 3) / IPad 2 / IPod  / Any Bluetooth Device(Black) = Phones & Tablets\n",
      "Wireless Bluetooth In-Ear Earphone Stereo Headset = Electronics\n",
      "915 Generation Portable Desktop Air Conditioner USB Small Fan with Ice Wate = Home & Office\n",
      "Fashion Warm Heavy Super Soft Baby Blanket = Baby Products\n",
      "Anti-fog Safety Goggles Protective Eyewear Lab Glasses Wind = Industrial & Scientific\n",
      "Set Of 2 Bed Pillows (Pair- Pure Fibre Filled) = Home & Office\n",
      "Barber chair = Home & Office\n",
      "Fashion Men Open Sandles Light 26 = Fashion\n",
      "Fashion Water Dispenser Manual Water Pump = Home & Office\n",
      "Baidyanath 100% PURE NEEM OIL = Health & Beauty\n",
      "Aichun Beauty Sexy Pink & Tender Lip Cream Essence- 30g. = Health & Beauty\n",
      "Silicone Anal Butt Plug Anal Butt Beginner Training Dildo Adult Sex Toy Male/Female = Health & Beauty\n",
      "Fashion Men's Smart Style Buckle Leather Belt -Black + Free 3 Items Bonus = Fashion\n",
      "Case For Oppo A52/A72/A92 Leather Wallet Flip Cover Case - Blue = Phones & Tablets\n",
      "Al Rehab Choco Musk Perfume Oil = Health & Beauty\n",
      "Fashion Classic Dark- Brown Leather Official Men's Shoes = Fashion\n",
      "Carson Magic Shaving Powder Unisex Professional Spa Barbershop Home = Health & Beauty\n",
      "White oat = Health & Beauty\n",
      "Canye Flower Mosquito Repellent Incense Sticks -30 Sticks = Home & Office\n",
      "Y68 Smartwatch+ Free Men/Husband's Watch = Electronics\n",
      "Heavy Stainless Aluminum Cook Ware Sets 7PCS SUFURIAS WITH 7 LIDS = Home & Office\n",
      "High-back Office Chair With Mesh Back Fabric And Head Rest = Home & Office\n",
      "Decorative Solid Color Throw Pillow Case/cover = Home & Office\n",
      "Car LED Digital Voltmeter DC 12V/24V LED Dual Voltmeter Ammeter Green = Automobile\n",
      "Wedding Ring Pillow, Vintage Rustic Ring Bearer Lace Bow Flower Bridal Ring Holder Cushion for Wedding Ceremony 5.9 Inch = Fashion\n",
      "Shoe Stretcher Boot Holder Shaper Keeper Shoe Support For Bunions, = Fashion\n",
      "Fashion Bull Nose Ring Gold Horseshoe Hoop Cartilage For Women & Men = Fashion\n",
      "Pendant Lamp Shade Lamp Cover Ceiling Light Cover Bulb = Home & Office\n",
      "Redmi Note 11 Case Cartoon Animal Soft Phone Cover = Phones & Tablets\n",
      "Toilet Rules Bathroom Removable Wall Sticker Vinyl Art = Home & Office\n",
      "Smart Wide over the Door Rack Wrought Iron Hook = Home & Office\n",
      "Referee Set With Red Yellow Card And = Sporting Goods\n",
      "915 Generation Strap Steel Silver color Bracelet Repment for DIY 22mm = Fashion\n",
      "K8 Wireless Lavalier Microphone for TikTok Vlog YouTube, Facebook Live = Electronics\n",
      "27 LED Side Marker Light Indicator Lamp Reflective Warning = Automobile\n",
      "Fashion Punk Gothic Rock Mask Skull Men Titanium Steel Ring, US Size: 7, Diameter: 17.4mm, Perimeter: 55mm = Fashion\n",
      "ANENG Digital Lithium Battery Capacity Tester Universal = Industrial & Scientific\n",
      "1 Pair Error Free Canbus Decoder For LED Car Headlight Bulb Kits For SUV Fog Lamps H1 H3 H7 H8 H11 (H7) H7 = Automobile\n",
      "1 Set Heart Pattern Cake Decoration Template-White = Home & Office\n",
      "Wireless Guitar System Rechargeable Guitar Transmitter = Musical Instruments\n",
      "Music Sheet Score File Paper Documents Storage Folder = Home & Office\n",
      "4X Iridium Spark Plugs 90919 SK20R11 for Toyota Camry RAV4 Avalon = Automobile\n",
      "6 Pcs 50cm*50cm Pink 100% Cotton Fabric Quarter For Sewing DIY Quilting Patchwork Tissue Textile Tilda Doll Cloth = Home & Office\n",
      "Throat Microphone Vibration Headset Earpiece for Two Way Radio Baofeng Uv-5R Uv-82 Uv-B6 Bf-888S Walkie Talkie Earphone = Electronics\n",
      "Silicone Non Stick Cooking Spoon Set = Home & Office\n",
      "Cat Tunnel Toy Shuttling Play Plaything Simulation Tree = Toys & Games\n",
      "Household Hand-held Stainless Steel Whisk Egg Mixer = Home & Office\n",
      "Smart Stainless Steel Vacuum Water Bottle Temperature Display White = Home & Office\n",
      "100G x 0.01G Digital Kitchen Scale Jewelry Gold Balance Weight Gram LCD Pocket Weighting Electronic Scales = Home & Office\n",
      "Electric Guitar Strings Hexagon Alloy Wire Nickel Wound Bright Corrosion Resistant 6 Strings Set (.010-.046) Extra Light Special = Musical Instruments\n",
      "Retractable Waist Measurements Tape For Body = Health & Beauty\n",
      "Large Diaphragm Cardioid Condenser Microphone = Musical Instruments\n",
      "10Pcs Adorable Red Ball Sponge Clown Nose for Party Wedding Decoration Christmas Halloween Costume Magic Dress Accessories = Fashion\n",
      "Shockproof Phone Case For Samsung Galaxy S6 S6 Edge S7 S7 Edge S8 S9 Plus S10 S10E S10 Plus Carbon Fiber TPU Drawing Phone Case(gray) = Phones & Tablets\n",
      "Halloween Party Microphone Headset Mic Costume Accessory = Toys & Games\n",
      "3-in-1 LCD TDS PH Meter Water Purity Hydroponic Aquariums Test Pen = Home & Office\n",
      "XH-M239 Lithium Battery 18650 True Capacity = Electronics\n",
      "Soft Silicone Finger Brush Long Handle Pet Finger Brush for Dogs Pink = Pet Supplies\n",
      "Professional Trumpet Straight Practice Cup Mute Lightweight Silencer = Musical Instruments\n",
      "Hand-Press Strong Garlic And Ginger Crusher = Home & Office\n",
      "4.5V 0.3W RGB LED Puck Light Cabinet Lamp 6 Pack with = Home & Office\n",
      "Bicycle Helmet With Lights Lightweight For MTB Road = Sporting Goods\n",
      "Double-Walled Vacuum Insulated Flask For Food = Home & Office\n",
      "20 Modes  Powerful  Magic Wand Clitoral Massager = Health & Beauty\n",
      "Darkhorsir 64GB Metallic High Speed USB Flash Drive/Disk-S With Free Mouse Pad = Computing\n",
      "Fashion Ladies Thick Soles Casual Lace-up Sneakers = Fashion\n",
      "Fashion Wedding Birthday Baptism Princess Baby Dress = Fashion\n",
      "Tecno Pop 7 Pro Case Butterfly Liquid Silicone Soft Phone Cover = Phones & Tablets\n",
      "Smart Stainless Steel Thermo Flask With LED Temperature Display = Home & Office\n",
      "Fashion 3 Pack High Quality Men Boxers = Fashion\n",
      "Fashion Ripped Jeans Men Slim Fit Stretch Printed Fashion Designer Streetwear Male = Fashion\n",
      "USB 2.0 To SATA Adapter Converter Cable 22Pin Drive Free 2.5 = Computing\n",
      "Fashion DELIGUO Hawaiian Beach Shirt And Shorts Sets For Men BLUE FLOWER Print = Fashion\n",
      "Fashion Money Heist Hoodie Jumpsuit Overall = Fashion\n",
      "Mini 7 Color Changing Eiffel Tower LED Night Light Lamp- = Home & Office\n",
      "Apple IPhone 11 64GB HDD - 4 GB RAM -Yellow = Phones & Tablets\n",
      "Flangesio Trendy Style Sneakers Men Big Size 39-47 High Quality Flying Woven Mesh Leisure Shoes Male Sweat-absorbent Deodorant Sneakers Footwear Blue = Fashion\n",
      "Fashion College Jacket Top And Pants Set = Fashion\n",
      "Single Coil Hotplate Cooker = Home & Office\n",
      "Elasta Qp Olive Oil & Mango Butter = Health & Beauty\n",
      "Fashion Blessed Red Tshirt = Fashion\n",
      "FECY Tea Tree Oil (Cold Pressed) = Health & Beauty\n",
      "Fashion Mens Computer Glasses Half Rimless Metal Frame = Fashion\n",
      "Beefeater Beefeater London Dry Gin - 750ml = Health & Beauty\n",
      "Smart Watch Full Touch Screen Watch-Android&IOS = Electronics\n",
      "Infinix Smart 8 Case Cute Astronaut Soft Phone Cover = Phones & Tablets\n",
      "Dr. Rashel Niacinamide FadeSpots-Nourish,Repare,NIGHT Cream = Health & Beauty\n",
      "3 Piece Cotton Towel = Home & Office\n",
      "Aztec Secret Indian Healing Clay (Bentonite Clay) + FREE SLEEPING BONNET = Health & Beauty\n",
      "Fashion Couple Necklace Letter Shape Unisex Alloy Stainless-Silver = Fashion\n",
      "Color Screen Smart Watch Heart Rate Sport Bracelet = Electronics\n",
      "Fashion Elegant Fashionable Women Jumpsuits = Fashion\n",
      "Asmaco Multipurpose Colour Spray Paint  400ml = Home & Office\n",
      "RGB Led flexible strip snake light kit with remote control = Home & Office\n",
      "Realistic Artificial Plants Colorfast Plastic Elegant Mini = Garden & Outdoors\n",
      "Electric Cooker-hot Plate(double Burner = Home & Office\n",
      "Black Foldable Laptop Mouse Pad For Both Wired Mouse And Wireless Mouse = Computing\n",
      "Fashion Casual Shoulder Sports Sling Bag Chest Bag Crossbody Bag = Fashion\n",
      "Fashion Hottest Lace X Strappy Heavenly Push Up Padded Bras CupC = Fashion\n",
      "Fashion Women Fashion Rhinestones Inlaid Round Dial Analog-Black = Fashion\n",
      "Chetak Acrylic Color Paint = Home & Office\n",
      "Fashion 4PACK Baby Boy Newborn Recieving blankets Cotton shawl Multi-Use Baby swaddlers = Baby Products\n",
      "(Only Case) Silicone Protective Case Cover Storage Box For AirPods Pro 3 Bluetooth Earphone-Yellow = Phones & Tablets\n",
      "Laundry Hair Remover Floating Lint Cleaning Ball Pink = Home & Office\n",
      "For Samsung Tablet Nota 8.0 GT-N5100, GT-N5110 Internal LCD Display = Phones & Tablets\n",
      "Audio Digitizer Digital To Analog Audio Converter 48kHz DAC = Electronics\n",
      "Pet Protector Neck Belt Dog Collar Collar Mud Color L:42-54 = Pet Supplies\n",
      "150cm White Gloss Self Adhesive Car Vinyl Film Sticker Tint DIY Sign Sticky Wrap = Automobile\n",
      "Running Shorts Men Fitness Gym Training Sports Shorts Quick Dry Workout Gym Sport Jogging Double Deck Summer Men Shorts(#LGray Headphone Hole) = Sporting Goods\n",
      "COMFORTABLE BABY CARRIER WITH HIP SEAT = Baby Products\n",
      "Shea Fantasy Pure Shea Oil 100ml = Health & Beauty\n",
      "Electric Juicer Citrus Orange Juice Squeezer P RA = Home & Office\n",
      "0-6 Electronic Digital Vernier Caliper Micrometer With = Industrial & Scientific\n",
      "Mini spray spray water portable cooling hand-held holiday travel bottle battery cooling fan = Garden & Outdoors\n",
      "Type-C to 3.5mm HiFi Digital Headphone Amplifier CS46L41 Chip Decoding DAC Audio Adapter Cable for Android Win10, C-Type = Electronics\n",
      "S Hooks for Hanging, 3.55 inch Heavy Duty S Hooks with Safety Buckle S Shaped Hooks Kitchen Pot Rack Hooks (Black) = Home & Office\n",
      "Welder True Color Welding Helmets Mask Hood Shade Protector Power = Industrial & Scientific\n",
      "Finest Copper Hand Bell With Wooden Handle For School Restaurant = Musical Instruments\n",
      "Multilayer Tutu Dress Baby Pink = Fashion\n",
      "Infinix Hot 10i Case Soft TPU Phone Back Cover = Phones & Tablets\n",
      "Wall Painting Roller Roller Printing Machine B = Home & Office\n",
      "3D Mobile Phone Screen Magnifier Hd Video = Phones & Tablets\n",
      "Jsjm 2022 New Smart Bluetooth 5.0 Sunglasses Polarized Men = Fashion\n",
      "Car LED Digital Voltmeter DC 12V/24V LED Dual Voltmeter Ammeter Green = Automobile\n",
      "Wedding Ring Pillow, Vintage Rustic Ring Bearer Lace Bow Flower Bridal Ring Holder Cushion for Wedding Ceremony 5.9 Inch = Fashion\n",
      "Shoe Stretcher Boot Holder Shaper Keeper Shoe Support For Bunions, = Fashion\n",
      "Fashion Bull Nose Ring Gold Horseshoe Hoop Cartilage For Women & Men = Fashion\n",
      "Pendant Lamp Shade Lamp Cover Ceiling Light Cover Bulb = Home & Office\n",
      "Redmi Note 11 Case Cartoon Animal Soft Phone Cover = Phones & Tablets\n",
      "Item New Battery Door Cover for Canon 550D Camera Repair = Electronics\n",
      "Toilet Rules Bathroom Removable Wall Sticker Vinyl Art = Home & Office\n",
      "Smart Wide over the Door Rack Wrought Iron Hook = Home & Office\n",
      "Referee Set With Red Yellow Card And = Sporting Goods\n",
      "915 Generation Strap Steel Silver color Bracelet Repment for DIY 22mm = Fashion\n",
      "DDR2 4GB Memory Ram+Cooling Vest 800MHz PC2-6400 240 Pin 1.8V DIMM for AMD Desktop PC Ram = Computing\n",
      "K8 Wireless Lavalier Microphone for TikTok Vlog YouTube, Facebook Live = Electronics\n",
      "27 LED Side Marker Light Indicator Lamp Reflective Warning = Automobile\n",
      "Fashion Punk Gothic Rock Mask Skull Men Titanium Steel Ring, US Size: 7, Diameter: 17.4mm, Perimeter: 55mm = Fashion\n",
      "ANENG Digital Lithium Battery Capacity Tester Universal = Electronics\n",
      "1 Pair Error Free Canbus Decoder For LED Car Headlight Bulb Kits For SUV Fog Lamps H1 H3 H7 H8 H11 (H7) H7 = Automobile\n",
      "1 Set Heart Pattern Cake Decoration Template-White = Home & Office\n",
      "Wireless Guitar System Rechargeable Guitar Transmitter = Musical Instruments\n",
      "Music Sheet Score File Paper Documents Storage Folder = Home & Office\n",
      "Fashion Fleece Fuzzy OMG Women Stretchy Tight Fit Headband = Fashion\n",
      "Fashion Long Sleeved Luxury Satin Sleep Pajama Set = Fashion\n",
      "Laptop Stand  Adjustable Metallic Portable Stand = Home & Office\n",
      "1Pc10Pcs Waxing Sponge Auto Wash Detailing Sponge = Automobile\n",
      "Fashion Retro Style Men Automatic Mechanical Watch Skeleton = Fashion\n",
      "Fashion Women's WatchWatch + BraceletLeather Strap Casual Ladies Watch + Bracelet = Fashion\n",
      "Fashion Cotton Infant Toddler Safety Helmet Head Protector = Baby Products\n",
      "Fashion Luminous Pearl Glow In The Night Necklace Pendant = Fashion\n",
      "Defacto Girl Special Collection Regular Fit Woven Swimsuit - Turquoise = Fashion\n",
      "Fashion T-shirt Long Sleeve Breathable Cotton O Neck Blouse-White = Fashion\n",
      "Car Metal Sticker GR Sport Emblem Sticker For Toyota Chr = Automobile\n",
      "Leather Card Wallet Cover For OPPO A58 4G = Phones & Tablets\n",
      "Hand Press Pump For Water Dispenser + Free Classic Wrist Watch = Home & Office\n",
      "WiFi Adapter Dongle With Antenna USB 2.0 Dongle = Electronics\n",
      "Fashion Cute Cat Paw Pet Collar Pattern Adjustable Bell Puppy Dog Neck Strap Adjustable 19-32 Cm = Pet Supplies\n",
      "Aichun Beauty  Breast Enlargement Cream With Papaya Essential Oil 30ML+CREAM 120g = Health & Beauty\n",
      "Fashion 4pcs Sexy Strappy Lace Seamless Panty = Fashion\n",
      "360 Spin Mop Rotating Bucket With Long Adjustable Mop = Home & Office\n",
      "Fashion Super Soft Professional Barbers Neck Hair Brush = Fashion\n",
      "Fashion & Style Bolster Pillows Throw Pillows Sausage Rolls Pillows = Home & Office\n",
      "AA Fashion 8PCS UNISEX NEW BORN BABY RECEIVING SET = Baby Products\n",
      "Fashion Summer Men 3D Tiger Print Quick Drying Short Sleeve-Blue = Fashion\n",
      "Fashion High Waist Jeans - Bell Jeans - Elastic Slim Fit Ladies Pants = Fashion\n",
      "Mabox Retinol Serum Anti-aging & Skin Firming Mabox Retinol Serum = Health & Beauty\n",
      "Redmi Note 12 4G Case Cute Cartoon Soft Phone Back Cover = Phones & Tablets\n",
      "Waterproof Motorcycle Shark Mouth Light Strip LED Night Signal Lights Luminous Bar Durable Flashing Stripe Pink = Automobile\n",
      "Yeelight Light Strip Plus = Home & Office\n",
      "Galaxy A03 Core Case, Slim Smooth Soft Silicone Shockproof Anti-Figerprint Case Cover For Samsung Galaxy A03 Core = Phones & Tablets\n",
      "Fashion Lucky Star 11 Pieces New Born Baby Receiving Set = Baby Products\n",
      "Fashion 2PC  Baby Hat And Matching Scarf Set = Baby Products\n",
      "1 Pc Breast Nipple ClitorisSucker Vacuum Pump Bdsm = Health & Beauty\n",
      "Aloe Unique Age-Defying Facial Serum = Health & Beauty\n",
      "Fashion 200 Silk Rose Petals Artificial Flowers For Wedding Parties Decoration = Fashion\n",
      "Universal Motorcycle Speedometer Digital Odometer Backlight Moto Dashboard for BMW Honda Ducati Kawasaki Yamaha 1,2,4 Cylinders = Automobile\n",
      "Fashion women High Density Cuticle Aligned Hair Lace Closure Frontal Wig = Fashion\n",
      "Disaar Fresh Breath Probiotic Mouth Spray = Health & Beauty\n",
      "Apple iPhone 15 Pro/15 Pro Max Charger, 35W USB C Charger with  USB-C to C Fast Charing/Data Cable = Phones & Tablets\n",
      "Fashion LouisWill Men Fashion Nylon Crossbody Sports Waist Packs = Fashion\n",
      "Fashion Irresistible Padded Hips n Booty Booster Boyshorts Panties Finest Quality bikers = Fashion\n",
      "AnyCast M9 Plus Wireless WiFi Display Dongle Receiver Airplay Miracast DLNA 1080P HDMI TV Stick = Electronics\n",
      "AnyCast M9 Plus Wireless WiFi Display Dongle Receiver Airplay Miracast DLNA 1080P HDMI TV Stick = Electronics\n",
      "1 pair pure fiber pillows = Home & Office\n",
      "Dahua 2MP HDCVI IR Bullet Camera With Night Vision - Dome = Electronics\n",
      "Argan Amazigh Bio Moroccan Argan Oil Correct Nourish Moisturise + Vitamin C&E Brightening Serum = Health & Beauty\n",
      "Fashion Turkey Men's Formal Official Trousers Pants - 3 Pack = Fashion\n",
      "Dr. Rashel Anti-aging Moisturizing Vitamin C Facial Serum Set 3 Pack = Health & Beauty\n",
      "Fashion Men's Casual Stripped Long Sleeve Dress Shirt-SKY BLUE = Fashion\n",
      "5pcs P75NF75 NChannel High Speed Power MOSFET Transistor 80A 75V = Industrial & Scientific\n",
      "MH Qasil Powder = Health & Beauty\n",
      "4X Spark Plug Wire Set 5mm for 1993-1997 Toyota Corolla 1.6L 1.8L = Automobile\n",
      "CAR KEY HOLDER/ KEY CHAIN HOLDER/ KEY RING TOYOTA = Automobile\n",
      "4Pcs Hard Top and Door Removal Torx Set Tool Kit Replace 68361574AB 82214166AB for 2007-2020 Jeep Wrangler JK JL Rubicon Sahara Sports = Automobile\n",
      "Fashion Ladies  Casual Lace-up Sneakers = Fashion\n",
      "4 Units 30ml Tot Dispenser & Pourer = Home & Office\n",
      "OPPO A17 Cartoon PU Leather Silicone Back Case Cover = Phones & Tablets\n",
      "Fashion 6 Pcs Pure Cotton Seamless Ladies Pants = Fashion\n",
      "Fashion Wide Band Satin Hair Bonnet Sleeping Cap Silk Hair Bonnet Cap Large Satin Bonnet = Fashion\n",
      "Body Luxuries Sweet Vanilla Body Butter Cream = Health & Beauty\n",
      "Galaxy S10 Case, Heavy Duty Protective Case With Ring Kickstand And Sliding Camera Cover For Samsung Galaxy S10 = Phones & Tablets\n",
      "Body Sculpture Magnetic Upright Exercise Bike With Hand Pulse = Sporting Goods\n",
      "Men's Leather Wallet Holder Purse Pocket + Free Belt and Watch = Fashion\n",
      "Redmi 10C Case Soft 6D Plating Phone Back Cover = Phones & Tablets\n",
      "A One Printing Photocopying A4 Papers = Home & Office\n",
      "BAJEAL K71 Wired Mechanical Keyboard 71 Keys Gaming Keyboard With RGB Light = Computing\n",
      "Butterfly Butterfly Rosecoco Beans - 1kg = Garden & Outdoors\n",
      "Portable Mini Octopus Tripod Stand With Phone Holder For = Electronics\n",
      "Fashion Women's Gothic Vintage Star Pendant Hollow Lace Charm-Black = Fashion\n",
      "Butterfly Butterfly Red Kidney Beans - 1kg = Garden & Outdoors\n",
      "TPU Protective Case-For Samsung Galaxy S24+ 5G-For Samsung Galaxy S23 FE 5G-For Samsung Galaxy S24 5G-For Samsung Galaxy S24 Ultra 5G = Phones & Tablets\n",
      "Fashion Bape Shark Printed Splicing Streetwear Pants Mens Joggers P = Fashion\n",
      "Fashion Women's Nightclub Fashion Rainbow Fluorescent Colorful Braided Woven Bracelet = Fashion\n",
      "Cantu Cocoa Butter Raw Softening Blend Body&Hair Cream W SheaButter &Coconut Oil For Head To Toe Moisture = Health & Beauty\n",
      "Boschmann  Highly-Efficient EQX-75PRO 7 Band Parametric Equalizer = Musical Instruments\n",
      "Fashion Italy Designer Handmade Shoes Official Business Formal Shoes Men Oxford Slip On Leather Shoes Black = Fashion\n",
      "Fashion Soft Khaki Men's Trouser Stretch Slim Fit Casual- Black = Fashion\n",
      "Fashion Men's Vulcanize Shoes Fashion Outdoor Breathable Casual Trendy Sneakers Male C = Fashion\n",
      "Car Jack 5 Tons/Tonnes Hydraulic Car Jack 5 Tons = Automobile\n",
      "Fashion Leg Bag Nylon Waist Packs Thigh Packs Tool Bags = Fashion\n",
      "Fashion PU Leather Pocket Sunglasses Glasses Case Box = Fashion\n",
      "Fashion Men’s Casual Slim Fit Shirts Pure Color Long Sleeve Polo Fashion T-Shirts = Fashion\n",
      "1 Pair Finger Covers Universal Breathable Ultra-thin-Red = Fashion\n",
      "Diva Flowered Dinner Set Of 39 = Home & Office\n",
      "Black And Gold Art Circles Pattern Bed Pillow Cover/Case = Home & Office\n",
      "Fashion Latest Quality African Suit = Fashion\n",
      "Fashion Male New Winter Brand Mens Sweaters = Fashion\n",
      "Cantu Smoothing Oil With Flaxseed, Olive, Almond, Castor& Avocado = Health & Beauty\n",
      "Fashion High Waist Ladies Leather Pants = Fashion\n",
      "EA Sports Fc 24 ps 5 = Sporting Goods\n",
      "Garnier Even &Matte 12hr Oil Control Very Oily Skin Face Cream -40ml = Health & Beauty\n",
      "Fashion Smart Couples Leather Wrist Watch Black = Fashion\n",
      "UV Mini Sterilizer Shaving Machines And Beauty Tools = Health & Beauty\n",
      "Butterfly Butterfly Atta Mark 1 2kg plus Green Gram 250g Free = Home & Office\n",
      "Heat Bag Sealer Handheld Bag Sealer Machine Plastic Bag = Home & Office\n",
      "Dr. Rashel Vitamin C Brightening And Anti Aging FACE TONER = Health & Beauty\n",
      "Fashion Women's WatchWatch + BraceletLeather Strap Casual Ladies Watch + Bracelet = Fashion\n",
      "Aichun Beauty Butt And Hip Lift Up Boosters Boosting Enlargement Cream = Health & Beauty\n",
      "Fashion Lady Purse Solid Color Hair Ball Wallet Women's Card Wallets = Fashion\n",
      "Curren 8225 Quartz Fashion Watch Man Watch Top Brand = Fashion\n",
      "Aichun Beauty Tummy Slimming Cream Gel Slimming Cream Six Pack Cream Flat Tummy Cream. = Health & Beauty\n",
      "Black Bird Black Bird Natural Sweet Rose - 750ml = Health & Beauty\n",
      "Universal HD 360° Night Vision Security Surveillance Camera Wall Mounted Camera = Home & Office\n",
      "Edifier W240TN Bluetooth Headset Dual Dynamic Driver Up To Bluetooth V5.3 = Electronics\n",
      "Realme C33 Fashion Shock-Proof Leather Cover Case/ = Phones & Tablets\n",
      "Defacto Woman Casual Regular Fit Woven Long Sleeve Shirt - Brown = Fashion\n",
      "Fashion Classic Single Eyelashes - 1 Packet = Health & Beauty\n",
      "Fashion 3 // Three Pieces Stay Comfortable High-Quality Cotton Boxers + Gifts ; Assorted = Fashion\n",
      "OPPO A91 Case Gold Lotus Flower Plating Soft Phone Cover = Phones & Tablets\n",
      "Mini Camera Wireless Wifi 1080P Surveillance Home Security Night Vision = Home & Office\n",
      "Fashion Plain White Unisex Hoodie/Jumper = Fashion\n",
      "Wireless Bluetooth 4.1 Stereo Headset Headphone Earphone For IPhone Samsung-White = Phones & Tablets\n",
      "100 Yards Speaker Cable CAR HiFi Audio Copper Wire = Automobile\n",
      "3.5mm Universal In-Ear Wired Earphone Headphone For Mobile Phone Tablet MP3 MP4-White = Electronics\n",
      "Aichun Beauty Garlic Hips Lift & Booty Enlargement Cream Butt Lifter-120ml. = Health & Beauty\n",
      "USB Key Bluetooth Audio Receiver = Electronics\n",
      "Fashion Official /casual Men's Leather Boots Shoes - Brown = Fashion\n",
      "Beard Oil Beard Growth Oil With Natural Essential Oil = Health & Beauty\n",
      "Dessini Durable Italian- 23 Piece Non-Stick DieCast Cooking Pots = Home & Office\n",
      "Fashion Generic Shoulder Bag Ladies Crossbody Flap Sling Bag Luxury De Bag = Fashion\n",
      "9h Mr Fix Car Ceramic Coating Anti-scratch Car Polish Liquid Ceramic Coat Paint Care Glass Coating = Automobile\n",
      "Fashion Men's Sports Shorts For Training/Fitness/Running = Fashion\n",
      "Fashion New Fashion Fabric Suitcase = Fashion\n",
      "Chicco Quality Diaper Bag = Baby Products\n",
      "AB Wheel Abs Roller Workout Arm And Waist Fitness Exerciser Wheel (Free Knee Mat = Sporting Goods\n",
      "Fashion Men's Comfortable Sneakers = Fashion\n",
      "DVB-T2 TV Antenna Mini Indoor HD Digital Antenna for Europea = Electronics\n",
      "Fashion 0-3Years Toddler Baby Boyl 2PCS Set/Letter Print Top +Basketball Comic Shorts = Fashion\n",
      "Dark And Lovely New Look Color Intensity Super Black - 100ml = Health & Beauty\n",
      "Buckler Fortified Hardened Padlock - Antic Gold. = Home & Office\n",
      "IPhone 6S/6/6G Cover Case = Phones & Tablets\n",
      "1.5M 3- IN-1 HDMI WITH MICRO AND MINI HDMI = Electronics\n",
      "Digital Food Thermometer = Home & Office\n",
      "Galaxy Z Fold4 2022 Case With Pen, Magnetic Hinge Protection Built In Screen & Lens Protector Cover For Samsung Galaxy Z Fold 4 5G = Phones & Tablets\n",
      "Aq General Dsk-20 Automatic Bell Ring Instrument Electronic Bell Devic = Home & Office\n",
      "2.5 Inch SATA External Hard Disk Casing USB 3.0 = Computing\n",
      "Self-Adhesive Wrist Ankle Joints Wrap Bandage Tape Yellow = Sporting Goods\n",
      "Fashion Ankle Happy Socks 6 Pairs Cotton Assorted . = Fashion\n",
      "Xiaomi Redmi Note 10 Pro / Redmi Note 10 Pro Max Case,LaimTop Ultra Thin Soft Silicone Anti Fingerprint Protective Case For Xiaomi Redmi Note 10 Pro / Redmi Note 10 Pro Max = Phones & Tablets\n",
      "Kitchen/Car Grease Foam Cleaner = Home & Office\n",
      "Fashion Barber Gown Shaving Gown Salon Draper = Fashion\n",
      "Metal Pendant Lamp Shade Chandelier Lamp Cover Replacement = Home & Office\n",
      "3X 1x ACTIVE PIEZO BUZZERS 22mm Mini Electronic  Sounder Alarm = Industrial & Scientific\n",
      "Carotone Collagen Formula Brightening Cream & Oil. = Health & Beauty\n",
      "Algwaher Professional Balding, Hair Cut, Kinyozi Machine + T9  styling budha Clipper + Gown = Health & Beauty\n",
      "CCTV 13 CCD 1000TVL 1.8mm Wider Angle HD Security = Electronics\n",
      "Back Camera Lens For Tecno Camon 15 CD7 = Phones & Tablets\n",
      "Cantu Shea Butter Leave-In Conditioning Repair Cream.... = Health & Beauty\n",
      "Fashion Polka Dot Happy Socks 5 Pairs Set 100% Cotton Assorted = Fashion\n",
      "Bontel L600 , Dual SIM,Button Phone + Free Cap & 2GB Flash Disk = Phones & Tablets\n",
      "Curren 8322 Man Watch Sport Watch Man Waterproof Outdoor Wristwatch = Fashion\n",
      "Garnier Pure Active 3 In1 Charcoal Anti Blackhead Mask Wash Scrub -150ml = Health & Beauty\n",
      "Fashion 2022 PU Leather Bags For Men Cross Body Casual Shoulder Bag + Handbag (gift) = Fashion\n",
      "Dr. Rashel Chinese Ginseng Tummy Slimming Slim Line Hot Cream With Green Tea = Health & Beauty\n",
      "Semiconductor Radio Gift For The Elderly Three Band Radio Retro Portable Card Bluetooth Speaker FM Pointer = Electronics\n",
      "Fashion Chic Criss-Cross Padded Crop Tops - Beige = Fashion\n",
      "Webcam Full HD 1080P USB Video Gamer Camera  Computer Web Cam Built-in Microphone = Electronics\n",
      "Fashion HALF FINGER NON-SLIP GLOVES - BLACK = Fashion\n",
      "Ard Alzaafran Dirham Perfume - 100 Ml EDP = Health & Beauty\n",
      "Samsung Galaxy A31 Case Astronaut Square Silicone Phone Cover = Phones & Tablets\n",
      "Fashion Mens Sneaker Causal Breathable Shoes Light Weight Walking Shoes - Black = Fashion\n",
      "Apple MacBook Pro M2, RAM 16GB, ROM 512 GB SPACE GRAY Z16S000PZ = Computing\n",
      "4pcs / Set Luminous Tire Valve Cap  Split Effect 10 Sets Split Effect = Automobile\n",
      "Fashion Quality Men Breathable Lace-up Running Sport Shoes = Fashion\n",
      "Creme Of Nature Pure Honey Moisturizing Dry Defense Conditioner 355ml = Health & Beauty\n",
      "Aichun Beauty Hip Lift Up Cream Butt Enlargement Cream with coffee and chilli =  Health & Beauty\n",
      "Daynee Biotin Gummies With Collagen, Keratin & Vitamin C = Health & Beauty\n",
      "Air Pro 3 Wireless Bluetooth Pods,Wireless - White+Baseball Cap+Oraimo Charger = Electronics\n",
      "3 column wooden wardrobe = Home & Office\n",
      "2 Pieces Samosa Shaper Mold Maker = Home & Office\n",
      "Powerful Grass Slasher = Garden & Outdoors\n",
      "Fashion 4 In 1 Men's Milk Silk Briefs = Fashion\n",
      "Fahion White Princess Baby Dress = Baby Products\n",
      "Apple Refurbished MacBook Pro 13\" Core I5 2.5GHz 4GB RAM, 500GB HDD ( 2012) - Silver = Computing\n",
      "Alta Moda Sweet Heart Perfume = Health & Beauty\n",
      "Dayliff DDV 60 Deep Well Submersible Pump High Pressure = Garden & Outdoors\n",
      "6*6 Pattern Cotton Two Bedsheets,Two Pillowcases = Home & Office\n",
      "Samsung A14 Case Love Heart Soft Plating Phone Back Cover = Phones & Tablets\n",
      "Fashion Soft Slim-fit Stretchable Khaki Trouser For Men- Beige = Fashion\n",
      "Portable Mini Desktop Mobile Phone Stand Universal Adjustable Tablet Holder = Phones & Tablets\n",
      "Fashion 18K White Gold Plated + AAA Zircon Men Diamond Ring, Size: 7, Diameter: 17.3mm, Perimeter: 54.5mm = Fashion\n",
      "For VIVO Y20 Y21s Y20i Y20s Y20s G Phone Back Cover  Casing = Phones & Tablets\n",
      "APP Remote Control Flamingo Vibrator Adult Sex Toys For Women Masturbator Dildo G SPOT = Health & Beauty\n",
      "Fashion 3PACK Sexy Booty Transforming Boyshorts Silk Bykers(Hips 38-46inches) = Fashion\n",
      "Invisible Lift Bra Tape Reusable Push Up SKIN = Fashion\n",
      "Quick Change Trigger Capo Key Clamp Fr Acoustic Electric Classic Ukulele, 02 White = Musical Instruments\n",
      "Astonish Astonish Multi Purpose With Bleach Trigger 750ml = Home & Office\n",
      "Fragrance World Suspenso Perfume = Health & Beauty\n",
      "Christian Art Print Quote Pray Word Picture Framed A3 Size = Home & Office\n",
      "Cute Baby Diaper Bag 5 In 1 Diaper Bag With Changing Mat. = Baby Products\n",
      "Conta Multipurpose Adhesive Glue = Home & Office\n",
      "Chris Adams Active Woman = Fashion\n",
      "BOMGE BMG11S 3rd Gen USB Audio Interface, Studio Quality Recording = Musical Instruments\n",
      "Video Projector 1080P Full HD Projector For Home Theater Cinema = Electronics\n",
      "Stickers TOM AND JERY Laptop Skin-Wraps - Stickers Universal = Home & Office\n",
      "Casual Slim Fit Mens Dress Pants Streetwear Suit Pants Men 34 High Quality Gentlemen Office Trousers Men All Match Ankle Length = Fashion\n",
      "Fashion Elegant Body Shaper Jeans For Ladies - Purple = Fashion\n",
      "Bio Balance Facial Whitening Cream For Men 60ml = Health & Beauty\n",
      "Aojezor Small Toilet Paper Holder Stand,Bathroom Storage Cabinet For Small Space - AJ49 = Home & Office\n",
      "Driclor Antiperspirant Roll On Applicator 20 Ml = Health & Beauty\n",
      "Fashion Classy Stand Collar Cadet Blue Bomber Jacket Withou T-Shirt. = Fashion\n",
      "TD-V26 Mini Portable Sound Speaker TF Card FM Radio AUX Stereo Music Player-Silver = Electronics\n",
      "SOLAR DAY AND NIGHT VISION OUTDOOR SMART WIFI CCTV CAMERA = Garden & Outdoors\n",
      "slim green coffee = Health & Beauty\n",
      "Cartoon Themed Kids Umbrellas-GIRLS = Toys & Games\n",
      "Fashion Country Flags + Stands: KE, RW, BI, JM, GB, IL, ET, UG, US, CD, ZA, TZ, SO, CG = Fashion\n",
      "5  By  6  Maasai Shuka Throw Fleece Blanket / Red. = Home & Office\n",
      "2.5in USB3.0 SATA SSD HDD Hard Drive Box 5Gbps 3TB USB3.0 = Computing\n",
      "Soft Silicone Back Cover Case For Samsung Galaxy A14 5G/4G = Phones & Tablets\n",
      "Fashion Men Wind Breaker Coat Zipper Hoodie Quick Drying Jacket = Fashion\n",
      "Fashion Turkey Fitting Men Official Suit (wedding-official) = Fashion\n",
      "OPPO F11 Pro Case Soft 6D Plating Phone Back Cover = Phones & Tablets\n",
      "Fashion Short Bob Kinky Curly Human Hair Wig - Natural Color Double Drawn Curls Wig for Women = Fashion\n",
      "100Pcs Cow Cattle TPU Ear Tag Signs Animal Identification = Pet Supplies\n",
      "Back 2 Nature Oats Flour Pure & Healthy Organic 500G = Health & Beauty\n",
      "Fashion 5Pcs/Set Boho Women Shell Pineapple Charm Beaded Bangle-Blue = Fashion\n",
      "Eako Disposable Face Mask 3ply - 50pcs Pack = Health & Beauty\n",
      "Fashion Women Lady Faux Leather Butterfly Rhinestone-Purple = Fashion\n",
      "4G LTE WiFi Router 300Mbps High-speed Wireless Router With SIM Card Slot = Electronics\n",
      "Always Stainless Steel Always Vacuum Flask 3.5L = Home & Office\n",
      "Fashion Women Casual Platform Sneakers, Women Trainers Running Shoes = Fashion\n",
      "Fitch & Leeds Fitch & Leedes Pink Tonic Can - 200ML = Health & Beauty\n",
      "Fashion Women A-line Business Suit Blazer Dress Trendy Lady Skirt Long Sleeve = Fashion\n",
      "Fashion Smart Ladies Quartz Watch + FREE Gift Box = Fashion\n",
      "Dove Skin Cleansing Original Bar Soap cream - 135g = Health & Beauty\n",
      "Fashion Women's Multi-layer Pearl Short   Collar Choker = Fashion\n",
      "DR MEINAIER Turmeric Corrector & Repair Oil SPF 15 24hour Moisturizing = Health & Beauty\n",
      "Fashion Sexy Lady Love Heart Thongs Strappy G-String Lace-Purple = Fashion\n",
      "Fashion 6PCs Pure Cotton Baby Cloth Diaper Nappies Liners = Baby Products\n",
      "Blue light blocking men and women anti-fatigue headache computer glasses = Health & Beauty\n",
      "Itel Awesome A70 ,Display 6.66 //upto 8GB RAM+128GB ROM //8MP Camera //5000mAh /Ksly +FREE BT SPEAKER+W+R = Phones & Tablets\n",
      "New Smart Watches Bussiness ECG+PPG Bluetooth Call 2023 Sports Bracelet = Electronics\n",
      "Fashion Combat Universal Military Baseball Cap Hat = Fashion\n",
      "Automatic Retractable Tape Measure With Lock Pin = Home & Office\n",
      "Back 2 Nature Organic Red Maca Powder 60 Capsules = Health & Beauty\n",
      "Dr. Rashel Black Mask Collagen & Charcoal Peel Off Facial Mask = Health & Beauty\n",
      "Binatone CEJ-1779DW Deluxe Thermo Kettle - 1.7L - White/Blue = Home & Office\n",
      "GF-22 Mini GPS Locator Tracking = Electronics\n",
      "Fashion Men Women Basketball Jersey = Fashion\n",
      "Universal SIM Modem For Safaricom, Airtel & Telkom = Phones & Tablets\n",
      "Fashion Cutest Waterproof Bigsize Baby Makintosh Urine Mat = Baby Products\n",
      "AMALICO Chebe Powder Hair Oil for Hair Growth  -100% all-Natural African Chebe Powder for Hair Growth, Organic Olive Hair Oil, Ostrich Oil, Organic Essential Oil - Hair Oil for Dry Damaged Hair and Growth = Health & Beauty\n",
      "10/14/20Pcs Tool Set Canvas Roll Up Tools Storage Bag 10/14/20 Pocket Bag Spanner Wrench Organizer Pouch 20 Pocket Size = Home & Office\n",
      "Eco Fire 12 Cubes Fire Lighters (5 Pack) for Fireplace and Jikos = Garden & Outdoors\n",
      "Inflator Boxing Speed Ball Double End Boxing Ball With = Sporting Goods\n",
      "Flangesio High Quality Handmade Oxfords Dress Shoes Men EUR Size 38-48 Cow Leather Suit Shoes Flat Leather Buckle Slip On Loafers Wedding Party Italian Shoes Black = Fashion\n",
      "K8-Red 1.0\"Dual Sim Bluetooth MP3 Mini CellPhone = Phones & Tablets\n",
      "360 Degree Rotating Lawn Sprinkler Garden Sprinkler Yard Lawn Garden = Garden & Outdoors\n",
      "Flexible USB LED Light Mini Lamp For Computer Laptop Notebook PC Power Bank-Blue = Home & Office\n",
      "Brookside Incense Burner Incense Bakhoor Charcoal Incense Burner Metal Arab Censer Desktop Decor for Incense Sticks Cones = Home & Office\n",
      "Fashion Women's Watch【Watch + Bracelet】Leather Strap Casual Ladies Watch + Bracelet = Fashion\n",
      "Defacto Woman Casual Bag - Black = Fashion\n",
      "Case For Samsung Galaxy A25 5G/Galaxy A24, Cute Cartoon Animal Leather Wallet Card Slot Book Cover = Phones & Tablets\n",
      "Natural Chamois Leather Car Cleaning Cloth Washing Suede- = Automobile\n",
      "11T MTB Bike Cassette Cover Mountain Road Bicycle Flywheel Black = Sporting Goods\n",
      "Delta Men's Boots = Fashion\n",
      "Fashion Pure Cotton Yellow Polo T-shirt = Fashion\n",
      "Wirelees Blutooth Earphone Head Set Bass Sterio I7 S Android Pods = Electronics\n",
      "Asmaco All Purpose Spray Paint - Chrome Silver = Home & Office\n",
      "Fashion Ladies Free Size Dera (Pregnant Friendly) = Fashion\n",
      "Bluetooth Wireless Earpods = Electronics\n",
      "Fashion Soft Leather Obi Belt - Black = Fashion\n",
      "Fashion Men Vintage Shoulder Crossbody Bag Canvas Large Capacity = Fashion\n",
      "Fashion 5 Pcs Men Shirts 100% Cotton Long Sleeve = Fashion\n",
      "OPPO A83 Case Soft Butterfly Phone Back Cover = Phones & Tablets\n",
      "Dr. Rashel Vagina Tightening Whitening Soap- 100g. = Health & Beauty\n",
      "Mini Portable USB 2.0 Wired Music Speaker Loudspeaker For Desktop Computer PC-Red = Electronics\n",
      "Aichun Beauty Booster For Hip, Butt Enlargement With Garlic Essential Oil = Health & Beauty\n",
      "Stylin' Dredz Moisture Splash Hair Spray Maximum Hold Mouldin Gel Hair Wax = Health & Beauty\n",
      "Vellmax 20Watt AC Ultra Slim IP65 LED Flood Outdoor Light = Garden & Outdoors\n",
      "Galaxy A53 5G Case, Clear PC Back TPU Bumper Case Cover For Samsung Galaxy A53 5G = Phones & Tablets\n",
      "Fashion Leather Waist Bag For Men Women Fanny Pack Running = Fashion\n",
      "Kenpoly 68Ltr Swing Dustbin = Home & Office\n",
      "Fashion Women's Computer Glasses Patchwork Color Metal Eyewear Frame = Fashion\n",
      "Kasuku Exercise Books A4 - Lines - 200 Pages = Home & Office\n",
      "Lazy Neck Phone Holder 360 Degree Flexible Rotate = Phones & Tablets\n",
      "Fashion Kids Pure Leather Belts - Boys = Fashion\n",
      "Apple MacBook Pro 13\" Core I5 2.4GHz 4GB RAM, 500GB HDD (2012) Laptop Silver Refurbished = Computing\n",
      "All-Purpose Wine Glasses, 200 Ml, Set Of 6 = Home & Office\n",
      "Fashion Women Fashion Love Heart Star Elephant Pendant Choker Charm Jewelry Necklace = Fashion\n",
      "Fashion African Men Senator Two Piece For Men African Attire = Fashion\n",
      "Fashion Ladies Thick Soles Casual Lace-up Sneakers = Fashion\n",
      "OPPO F11 Pro Case Soft 6D Plating Phone Back Cover = Phones & Tablets\n",
      "Fashion Short Bob Kinky Curly Human Hair Wig - Natural Color Double Drawn Curls Wig for Women = Fashion\n",
      "Disaar Hair Growth In Baldness Essential Oil -Anti Hair Loss -30ml = Health & Beauty\n",
      "100Pcs Cow Cattle TPU Ear Tag Signs Animal Identification = Pet Supplies\n",
      "Butterfly 100% African Multi Colored Maasai Shuka - Warm And Heavy With Fleece Lining = Fashion\n",
      "30W Car LED COB Halo Ring Angel Eyes Light Headlight DRL Driving Fog Lamp Bulb-White Ring = Automobile\n",
      "Fashion 5Pcs/Set Boho Women Shell Pineapple Charm Beaded Bangle-Blue = Fashion\n",
      "Fashion American Flag Patch Baseball Cap - Army, Military Trucker Mesh Adjustable Cap = Fashion\n",
      "Fleece Blanket 6*6 Dark Blue = Home & Office\n",
      "Fashion Women Lady Faux Leather Butterfly Rhinestone-Purple = Fashion\n",
      "4G LTE WiFi Router 300Mbps High-speed Wireless Router With SIM Card Slot = Electronics\n",
      "12 Pieces / Set 3D Simulation Butterfly Wall Sticker = Home & Office\n",
      "Fitch & Leeds Fitch & Leedes Pink Tonic Can - 200ML = Health & Beauty\n",
      "Fashion Women A-line Business Suit Blazer Dress Trendy Lady Skirt Long Sleeve = Fashion\n",
      "Fashion Smart Ladies Quartz Watch + FREE Gift Box = Fashion\n",
      "Fashion Women's Multi-layer Pearl Short   Collar Choker = Fashion\n",
      "Fashion 3in1  Backpacks with USB headphone port - Maroon = Fashion\n",
      "Fashion 6PCs Pure Cotton Baby Cloth Diaper Nappies Liners = Baby Products\n",
      "Blue light blocking men and women anti-fatigue headache computer glasses = Health & Beauty\n",
      "SPY Car/Home Invisible DVR DV Video Recorder Camcorder = Automobile\n",
      "Itel Awesome A70 ,Display 6.66 //upto 8GB RAM+128GB ROM //8MP Camera //5000mAh /Ksly +FREE BT SPEAKER+W+R = Phones & Tablets\n",
      "New Smart Watches Bussiness ECG+PPG Bluetooth Call 2023 Sports Bracelet = Electronics\n",
      "Dessini ELECTRIC PRESSURE COOKER WITH PRE PROGRAMMED MENU = Home & Office\n",
      "Automatic Retractable Tape Measure With Lock Pin = Home & Office\n",
      "Fashion High Quality Unisex Adults &Kids Swimming Goggles = Sporting Goods\n",
      "Dr. Rashel Black Mask Collagen & Charcoal Peel Off Facial Mask = Health & Beauty\n",
      "Binatone CEJ-1779DW Deluxe Thermo Kettle - 1.7L - White/Blue = Home & Office\n",
      "Aichun Beauty Garlic Essential Oil Hip Up Curves Enlargement Lifting -30ml = Health & Beauty\n",
      "Fashion Men's Faux Leather Sport Watch Arabic Numerals-Blue = Fashion\n",
      "Fashion College Jacket = Fashion\n",
      "Fashion Men Women Basketball Jersey = Fashion\n",
      "Universal SIM Modem For Safaricom, Airtel & Telkom = Phones & Tablets\n",
      "Fashion Cutest Waterproof Bigsize Baby Makintosh Urine Mat = Baby Products\n",
      "2Pc Silicon Scrubber Cleaning Gloves Washing Gloves = Home & Office\n",
      "Fashion Premium Short Pixie Synthetic Wig Black = Fashion\n",
      "Fashion Lunch Bag Insulated Cool Thermal Food Storage Tote Carry = Fashion\n",
      "Dove Pampering Shea Butter & Warm Vanilla Body Wash - 500ml = Health & Beauty\n",
      "Music Metal Car Computer Mini USB Flash Drive Lossless Sound Quality 64G U Disk = Electronics\n",
      "Fashion 5Pcs Official Shirt Long Sleeve Slim Fit = Fashion\n",
      "Clarion Inkjet Printers Sublimation Ink = Home & Office\n",
      "Veggetable Rack = Garden & Outdoors\n",
      "915 Generation Iron Spray Non-Stick French Fries Frying Basket ,D = Home & Office\n",
      "Rose Gold Glitter Happy Birthday Acrylic AhP_as Picture = Home & Office\n",
      "21 Lessons for the 21st Century - YUVAL NOAH HARARI = Home & Office\n",
      "Hand Drill Bits Set 31Pcs Hand Drill Set Precision Pin Vise Micro-Mini Twist Drill Bits For Metal Wood, Delicate Manual Work, Electronic Assembling And Model Making, Diy Drilling = Industrial & Scientific\n",
      "PVC Table Mats-Checked - 6 Pcs = Home & Office\n",
      "PC USB Simulator Shifter Windows H Gear Shifter For Logitech G29  7+R = Computing\n",
      "Manual Cut French Fries Machine Potato Cutter Chips Blades = Home & Office\n",
      "Dr. Rashel Fade Spots Day + Night Cream-- = Health & Beauty\n",
      "Mechanical Defrosting Timer for Refrigerator Parts = Home & Office\n",
      "Solder 0.3mm Dia,1.2% Flux,63Sn/37Pb, Wire = Industrial & Scientific\n",
      "Airbrush Compressor AIR PRESSURE REGULATOR Gauge Water Trap Moisture Filter Hose = Industrial & Scientific\n",
      "IP68 LED Underwater Submersible Fish Tank Light Color Changing Aquarium Air Bubble Lamp Making Oxygen For Fish Tank = Pet Supplies\n",
      "Dr. Rashel Vitamin C Brightening & Anti-aging Day Cream Fade Spots = Health & Beauty\n",
      "TPU Phone Case For OPPO A17k = Phones & Tablets\n",
      "Mini Size Travel Hair Straighteners For Short And Thin Hair Small Ceramic Straighteners Portable = Health & Beauty\n",
      "Spoke Lights Wheel LED Flash For  Red = Automobile\n",
      "Bicycle Riser Adjustable Handlebar Fork Stem Raiser = Sporting Goods\n",
      "For-Subaru Legacy Outback 2004-2006 Refit Car Android Radio Navigation DVD Mounting Dashboard Trim Fascia Frame = Automobile\n",
      "1 Pair Sleeve Wrap   Thumb Hole Sun Protection Grey = Fashion\n",
      "Cheapest Sport Water Bottles Portable Gym 2layers cup = Sporting Goods\n",
      "Phono Preamp  Amplifier US Standard Plug Portable = Electronics\n",
      "Icclek Autumn Pants Men's Casual Pants Men's Loose-Fitting Overalls Joggers Men Men Mens Pants Trousers Harajuku = Fashion\n",
      "Non-Stick Raclette Grill Set Cheese Melter Pan With Spatula = Home & Office\n",
      "U Type Microphone Filter Shield Filter Screen Metal Mesh = Musical Instruments\n",
      "50Pcs Sticky Bug Trap Dual-sided Sticky Flying Insect Traps Indoor Outdoor House Plants Fly Paper for Fruit Fly Fungus Gnat Thrip = Garden & Outdoors\n",
      "Portable Finger Oximeter Fingertip PulseOximeter Medical Equipment With OLED Display Heart Rate Spo2 PR Pulse Oximeter-Blue = Health & Beauty\n",
      "9 Inch 2DIN Car Dashboard Frame DVD Navigation Panel Frame Radio Audio Panel with Harness for Mazda 2 Demio 2007-2014 = Automobile\n",
      "4PCS Cat Interactive Electric Fish Toy Water Cat Toy for Indoor Play Swimming Fish Toy for Cat and Dog with LED Light  Pet Toys = Toys & Games\n",
      "20 LED Wireless Solar Lights Waterproof Security Lights = Garden & Outdoors\n",
      "Welding Gauge Set Wet Film Comb Wire Metal Sheet Thickness = Industrial & Scientific\n",
      "Flexible USB Portable Mini LED Lamp 5V 1.2W For Table Light = Home & Office\n",
      "Warm White Fairy String Lights 10mtrs = Garden & Outdoors\n",
      "12mm Grommet Tool Kit, 100 Sets Grommets Eyelets Punch Kit, = Home & Office\n",
      "Candle Making Kit,Candle Wicks,Thermometer and Stirring Sticks = Home & Office\n",
      "Smart Let Sports Watch TFT Screen ECG/Heart Rate/Blood Pressure Monitor IP68 Waterproof Fitness Tracker Sports Let-B = Sporting Goods\n",
      "Adjustable Guitar Strap Band Acoustic Electric 132 x 6cm Black = Musical Instruments\n",
      "Stainless Steel Outdoor Thermos Cup Large-Capacity Space Pot 600/800/1000ML = Garden & Outdoors\n",
      "MAF Mass Air Flow Meter Sensor MD336481 E5T08271 for Mitsubishi Lancer Outlander Galant = Automobile\n",
      "(4pcs RGB)Car LED USB Foot Light Interior Ambient Lamp RGB Strip Light Wireless Remote Colorful Atmosphere Lamp 12V Auto Decorative Lights SHA = Automobile\n",
      "Apple IPhone 12 Pro Max - Pacific Blue - 128GB HDD- 6 GB RAM = Phones & Tablets\n",
      "Fashion Woman Fashion Faux Pearl Rhinestone Inlaid Flower Brooch Pin Cardigan Shawl Clip-Golden = Fashion\n",
      "Fashion 3 Piece Girls Cotton Pantie = Fashion\n",
      "Dr. Rashel Vitamin C Face Serum -50ml Dr Rashel. = Health & Beauty\n",
      "Fashion Unique Tassel Pendant Long Dangle Statement Women Stud Earrings Gift Rhinestone-Silver = Fashion\n",
      "Rolisclothing Adults Kids Protective Gear 6 Pcs, Knee Pads, Elbow Pads And Wrist Guard For Rollerblading Skateboard Cycling Skating Bike Scooter = Sporting Goods\n",
      "Portable Blender Juicer Cup With 6 Blades = Home & Office\n",
      "915 Generation 2Pcs Ankle Strap for Cable Machines,Work Out Cuff Home & Gym = Sporting Goods\n",
      "10KM Electric Fence Solar Energizer Charger Controller High Voltage Horse Cattle Poultry Farm Animal Fence Tools US Plug = Garden & Outdoors\n",
      "Fashion Boho Afghan Ethnic Drop Earrings For Women Pendient Gold Color GySilver Color Bell Ladies Indian = Fashion\n",
      "Car MP3 Player BT Wireless FM Transmitter Audio Music = Automobile\n",
      "Shockproof Soft Silicone Protector Case Cover Shield For Apple AirPods Earphones-Black = Phones & Tablets\n",
      "Fashion 3PCS NET SEAMLESS COTTON UNDERWEAR, LADIES PANTS = Fashion\n",
      "Fashion Computer Glasses Rectangle Eyewear Metal Frame For Women Men = Fashion\n",
      "Fashion Checked Umbrella Ladies Umbrella = Fashion\n",
      "Fashion Blue Design Turkey Suit Midi Length = Fashion\n",
      "DTA-180 HD Digital Indoor TV Dual Antenna -T/T2Antena HDTV = Electronics\n",
      "Fashion Ladies Watch Bracelet Set 5pcs Watch Jewelry Gift Box Gold = Fashion\n",
      "Fashion 4-in-1 T-Shirt Short Sleeve Shirt Bundle = Fashion\n",
      "HDMI Cable 20 Meters Wire High Speed With FULL HD = Electronics\n",
      "Fashion Adjustable Baseball Open Cap Sun Hats = Fashion\n",
      "For OPPO A74 F19 F19s A95 4G TPU Phone Back Cover With Chain = Phones & Tablets\n",
      "Fashion Ladies Cute Biker Short = Fashion\n",
      "120T Silk Screen Printing Mesh - White 145cm Width = Industrial & Scientific\n",
      "20 22mm Nylon Strap For Coros Pace 3 2 Sport Band Watchband For Coros Apex Pro/2 Pro/42mm/46mm Replacement Bracelet Watchbelt = Fashion\n",
      "Carbon Fiber Texture PP Case For IPhone 13 Pro Max = Phones & Tablets\n",
      "Watch Charger Compatible With Huawei   Huawei Band 6 Magnetic 3 Black = Electronics\n",
      "Asantee Tamarind And Goat Milk Antic Acne &blemishes Soap = Health & Beauty\n",
      "Defacto Woman Casual Woven Short - Green = Fashion\n",
      "Curren CURREN 8314 Men Watch Quartz Brand Watch Wristwatch = Fashion\n",
      "Fashion Smart Watch S3 Waterproof Blood Pressure Sport Heart Rate = Fashion\n",
      "4 Pcs Bamboo Wooden Cooking Spoons Spatula Stick/Mwiko Set + Holder = Home & Office\n",
      "Stylin' Dredz Dredz Wax Gel = Health & Beauty\n",
      "Teeny Baby My First Books For Kids = Baby Products\n",
      "Al Rehab Choco Musk 50ml Perfum Spray = Health & Beauty\n",
      "915 Generation DTMB Ground Wave Indoor Digital TV Antenna Active Amplifier = Electronics\n",
      "Fashion 1Pc Heart Hollow Non-Pierced Ear Clip Double Layer Cubic- = Fashion\n",
      "Fashion Men's Duck Down Jacket Warm Hooded Thick Puffer Jacket Coat Male Casual Fashion Overcoat Thermal Winter Windproof Parka Black A = Fashion\n",
      "Fashion 6PCs Charming Disney Pure Cotton Girls Panties+Free Panty Bag = Fashion\n",
      "360 Degree Rotation Tablet Case For Samsung Galaxy Tab A8-Dark Blue = Phones & Tablets\n",
      "YIHUA 938D Portable Tweezers Soldering Station 110V 220V Soldering  Station  Desoldering Kit Set SMD Welding Equipment = Industrial & Scientific\n",
      "40ml Valve Oil Smooth Switch Saxophone Trumpet Clarinet Flute Lubricating Liquid = Musical Instruments\n",
      "915 Generation Strawberry Bear Frosted Phone Case for 12/Pro All Inclusive = Phones & Tablets\n",
      "LK-240 Ratchet Cable Cutter Cut Up To 240mm Wire Cutter Plier Hand Tools = Industrial & Scientific\n",
      "Kids Children Cartoon Animal School Drinking Water Straw = Baby Products\n",
      "Type 11 Beautiful Alley Brick Road Round Decorative Ceramic Plate Decorative = Home & Office\n",
      "Super Bright Halogen Bulbs H1 H3 H4 H7 55W 100W 12V 5000K Car Headlight Fog Lights Driving Lamp White [H1100W] H1100W = Automobile\n",
      "60L/min 300W 150PSI Car Air Compressor Tyre 12V Stainless Steel Double Cylinder Inflator High Power Car Tyre Inflation Pump = Automobile\n",
      "15 Pcs Plastic Soda Water Bottle Bird Drinker Feeder Chicke = Pet Supplies\n",
      "Geisha Moringa Beauty Bar Soap - 125g = Health & Beauty\n",
      "Water Bottle - 750ML = Garden & Outdoors\n",
      "20m 200 LED Lights Solar Waterproof String Lights Christmas Star Decorative Copper Wire String Lights Solar Outdoor Copper Wire Lights Multicolor+2 Modes = Garden & Outdoors\n",
      "Electronic Calculator With Erasable Writing Board, For = Home & Office\n",
      "100Pcs Hair Clip Base Mental DIY Handmade Silver Buttons For Findings = Fashion\n",
      "15 Yards/Roll Lace Trim Ribbon Delicate Crown Ribbon for Crafts Sewing and Bridal Wedding Dress Applique Decor Black = Fashion\n",
      "Stainless Steel Wire Brush Set for Dremel Rotary Tool Die Grinder Flat Wheel Cup = Industrial & Scientific\n",
      "Macrame Welcome Sign for Front Door - Woven Wall Hanging Farmhouse Wreath Bohemian Art Wedding Backdrop Home Decoration = Home & Office\n",
      "Artificial Palm flower with decor stones = Garden & Outdoors\n",
      "Tea Pot, 6-Piece Tea Cup Mugs With Bamboo Tray = Home & Office\n",
      "Powerful LED P50 USB Rechargeable Mini Outdoor Tactical Hunting Flashlight Police Intelligent Waterproof Torch Lantern Zoom-black = Sporting Goods\n",
      "XPQ-6C2 Washing Machine Tractor Washing Machine Drain Valve = Home & Office\n",
      "915 Generation Spring Inside Outside Divider Caliper Set 8-Inch Machinist = Industrial & Scientific\n",
      "Creative Spinning Pen Fidget Spinner Rotating Toys Adults Antistress Anti-Slip Hand Spinner Toys Black = Toys & Games\n",
      "S-0056 Summer Fashion Men Male Cool Leather Open Toe Casual Beach Shoes Slippers Sandals - Black Black 44 = Fashion\n",
      "8 Model Led Holiday Fariy Christmas Decoration 96/120/216/256 LED Icicle String Light Curtain Garland Party Lighting--Colorful--4M 96LED = Home & Office\n",
      "Brand Printed Autumn And Winter Jacket Men's Suit Sportswear 2-Piece Hooded Pants Jogging Fitness Sports Hedging Sportswear Suit = Fashion\n",
      "20Pcs 2L 4L 8L Steady Flow Dripper Automatic Pressure = Garden & Outdoors\n",
      "5L Water Bottle Holder Beverage Bracket Water Dispenser = Home & Office\n",
      "4Pcs Coffee Machine Cleaning Cloth Weave Dish Cloths Absorbent Cotton Kitchen Drying Dish Bar Counter Towels = Home & Office\n",
      "Food Waste Stopper Spin Lock Sink Drain Strainer 3.1\" Dia White Black Plastic = Home & Office\n",
      "915 Generation RF Single-Pole Four-Position Switch Module 1-3000MHz 50 Ohm = Industrial & Scientific\n",
      "Candles Holders Silicone Mold Bowl Candleholders Molds Candlestick Epoxy Casting Mold for DIY Jewelry Box Table Decor = Home & Office\n",
      "9432601409 Shift Control Shift Lever for Mercedes Z Actros = Automobile\n",
      "Scratch Resistant Garden Animal Fence Net Durable Galvanized Hexagonal Wire Mesh Fence Chicken Rabbit Metal Wire Fence-0.1x3M = Garden & Outdoors\n",
      "Motorcycle Stainless Steel Radiator Grille Grill Cover Protector Guard for Benelli Jinpeng 502 TRK502 2017-2020 = Automobile\n",
      "Electric Head Legs Hand Foot Massager Soreness Relief  Blue = Health & Beauty\n",
      "Party Banner Garland String Wall Hanging Ornaments Baby Bed Kids Room Decoration Nursery Decor Photo Props A = Baby Products\n",
      "RF Filter VNWA Testboard Kit Test Board Debug Board Testboard Printed Circuit BoardFinished = Industrial & Scientific\n",
      "For Noah Voxy 90 Series 2022 2023 Glossy Black Center = Automobile\n",
      "100pcs Professional Tile Flat Leveling System Wall Floor Spacers Strap Device Tool Base F01A2 = Home & Office\n",
      "20m 200 LED Lights Solar Waterproof String Lights Christmas Star Decorative Copper Wire String Lights Solar Outdoor Copper Wire Lights Multicolor+2 Modes = Garden & Outdoors\n",
      "Electronic Calculator With Erasable Writing Board, For = Home & Office\n",
      "100Pcs Hair Clip Base Mental DIY Handmade Silver Buttons For Findings = Fashion\n",
      "15 Yards/Roll Lace Trim Ribbon Delicate Crown Ribbon for Crafts Sewing and Bridal Wedding Dress Applique Decor Black = Fashion\n",
      "4pcs New Soft Silicone Guitar Thumb Finger Picks Protector Fingertips  Transparent S = Musical Instruments\n",
      "Stainless Steel Wire Brush Set for Dremel Rotary Tool Die Grinder Flat Wheel Cup = Industrial & Scientific\n",
      "Macrame Welcome Sign for Front Door - Woven Wall Hanging Farmhouse Wreath Bohemian Art Wedding Backdrop Home Decoration = Home & Office\n",
      "Universal 26-65 Inch Led Lcd Tv Backlight Driver Board Tv Constant Current Board 80-480 Ma Output 2 Pin Plug = Electronics\n",
      "Artificial Palm flower with decor stones = Garden & Outdoors\n",
      "Tea Pot, 6-Piece Tea Cup Mugs With Bamboo Tray = Home & Office\n",
      "Powerful LED P50 USB Rechargeable Mini Outdoor Tactical Hunting Flashlight Police Intelligent Waterproof Torch Lantern Zoom-black = Sporting Goods\n",
      "XPQ-6C2 Washing Machine Tractor Washing Machine Drain Valve = Home & Office\n",
      "915 Generation Spring Inside Outside Divider Caliper Set 8-Inch Machinist = Industrial & Scientific\n",
      "Creative Spinning Pen Fidget Spinner Rotating Toys Adults Antistress Anti-Slip Hand Spinner Toys Black = Toys & Games\n",
      "S-0056 Summer Fashion Men Male Cool Leather Open Toe Casual Beach Shoes Slippers Sandals - Black Black 44 = Fashion\n",
      "8 Model Led Holiday Fariy Christmas Decoration 96/120/216/256 LED Icicle String Light Curtain Garland Party Lighting--Colorful--4M 96LED = Home & Office\n",
      "Brand Printed Autumn And Winter Jacket Men's Suit Sportswear 2-Piece Hooded Pants Jogging Fitness Sports Hedging Sportswear Suit = Fashion\n",
      "20Pcs 2L 4L 8L Steady Flow Dripper Automatic Pressure = Garden & Outdoors\n",
      "5L Water Bottle Holder Beverage Bracket Water Dispenser = Home & Office\n",
      "4Pcs Coffee Machine Cleaning Cloth Weave Dish Cloths Absorbent Cotton Kitchen Drying Dish Bar Counter Towels = Home & Office\n",
      "Food Waste Stopper Spin Lock Sink Drain Strainer 3.1\" Dia White Black Plastic = Home & Office\n",
      "915 Generation RF Single-Pole Four-Position Switch Module 1-3000MHz 50 Ohm = Industrial & Scientific\n",
      "Candles Holders Silicone Mold Bowl Candleholders Molds Candlestick Epoxy Casting Mold for DIY Jewelry Box Table Decor = Home & Office\n",
      "9432601409 Shift Control Shift Lever for Mercedes Z Actros = Automobile\n",
      "Scratch Resistant Garden Animal Fence Net Durable Galvanized Hexagonal Wire Mesh Fence Chicken Rabbit Metal Wire Fence-0.1x3M = Garden & Outdoors\n",
      "Motorcycle Stainless Steel Radiator Grille Grill Cover Protector Guard for Benelli Jinpeng 502 TRK502 2017-2020 = Automobile\n",
      "Electric Head Legs Hand Foot Massager Soreness Relief  Blue = Health & Beauty\n",
      "Party Banner Garland String Wall Hanging Ornaments Baby Bed Kids Room Decoration Nursery Decor Photo Props A = Home & Office\n",
      "RF Filter VNWA Testboard Kit Test Board Debug Board Testboard Printed Circuit BoardFinished = Industrial & Scientific\n",
      "For Noah Voxy 90 Series 2022 2023 Glossy Black Center = Automobile\n",
      "100pcs Professional Tile Flat Leveling System Wall Floor Spacers Strap Device Tool Base F01A2 = Home & Office\n",
      "12V-24V Car Charger Dual USB Port 3.1A LED Quick Charge-Red = Automobile\n",
      "Round Watercolor Paint Brushes High Quality Nylon = Home & Office\n",
      "915 Generation 10Pcs 5V Boost Converter Step-Up Power Module = Industrial & Scientific\n",
      "Spot Welder Weld Machine Accessory Battery Spot Welder Pen For Black = Industrial & Scientific\n",
      "Pink-100pcs-100Pcs Nitrile Rubber Gloves Pvc Nitrile Mix Food Grade Thickened = Health & Beauty\n",
      "Budget Binder with Cash Envelopes for Budgeting,A6 Saving = Home & Office\n",
      "Plus Size Neoprene Sweat Sauna Vest Body Shapers Vest = Fashion\n",
      "Fashion New Women Toiletry Bag Travel Organizer = Fashion\n",
      "2Pcs Car Outer Door Handle Front Rear Door Handles for Mitsubishi Pajero Montero V31 V32 V33 V43 V46 V47 = Automobile\n",
      "Dstv B7 Remote Control For New  HD Decoder 6S = Electronics\n",
      "Defacto Woman Casual Regular Fit Woven Long Sleeve Shirt - Black = Fashion\n",
      "Fashion Slim Fit Jeans For Men = Fashion\n",
      "Forever Bright® Toothgel. = Health & Beauty\n",
      "Fashion 3PCs Hottest Brazilian Adjustable HipHugger Lace Panties(36-42Inches) = Fashion\n",
      "Butterfly 100% African Multi Colored Maasai Shuka - Warm And Heavy With Fleece Lining = Fashion\n",
      "45x45cm Flax Throw Pillow Cover Cushion Seat Sofa Case Home Bedroom Decoration 4 = Home & Office\n",
      "915 Generation Storage Shelves,Plastic Small Storage Shelves - 2 Tier = Home & Office\n",
      "Fashion Lace-up Super High Heel Ladies Sandals Bow = Fashion\n",
      "Football Shin Guards/Protector = Sporting Goods\n",
      "Fashion Raw Virgin Brazilian Human Hair Hd lace Frontal Wigs,Glueless Wigs Human Hair Water Wave Front Wigs = Fashion\n",
      "For Xiaomi Redmi Note 10 Pro 5G / Poco X3 GT Leather Case = Phones & Tablets\n",
      "Fashion Unique Men Titanium Steel Hand Chain Handmade-Silver = Fashion\n",
      "UTP Internet Network Cable CAT 6 Patch Cord 3M, 5M, 10M, 20M = Home & Office\n",
      "Fashion Set Of 5PCS Disposable Absorbent Maternity Panties = Baby Products\n",
      "Quit/Duvet/Multipurpose Storage Bag Closet Organizer = Home & Office\n",
      "Fashion Men Leather Moccasin Formal Male Shoes = Fashion\n",
      "Fashion Simple Baby Open Of The Foot Of The Sandals = Baby Products\n",
      "Fashion Party Necklace Luxury Queen Crown Chain Necklace Rose Gold = Fashion\n",
      "Fashion Men's Quartz Luxury Sports Waterproof Glow-in-the-dark Business Leather Watch = Fashion\n",
      "4 Piece Multicolor Duvet Set = Home & Office\n",
      "Fashion COTTON Mens Round Neck Quality Solid T-Shirt = Fashion\n",
      "10 inch Android Car Radio 2 Din GPS Multimedia Player 2GB+32GB = Automobile\n",
      "826 natural gun Men Watches Luxury Fashion Watch Gift = Fashion\n",
      "O.P.I Nail Polish NL-L87 - Wine Red = Health & Beauty\n",
      "Fashion Ladies Classy Casual/official Dress = Fashion\n",
      "Barksdale 100 Black Nitrile PVC Gloves Silicon Latex Rubber Chef Kitchen Cooking Tattoo Small = Home & Office\n",
      "3D Fashion Foot care rasp dead skin scrapper = Health & Beauty\n",
      "Fashion 14G Sexy Bowknot Belly Button Ring Dangle Navel Bar-White = Fashion\n",
      "1 Pair Finger Covers Universal Breathable Ultra-thin-Red = Sporting Goods\n",
      "MELBUR Cassava Flour (Muhogo) = Home & Office\n",
      "Diva Flowered Dinner Set Of 39 = Home & Office\n",
      "Disaar Fresh Breath Probiotic Mouth Spray = Health & Beauty\n",
      "Fashion 3 Pieces  Stretchy High Waist   Tummy Control Plus Size Panties - Assorted Colors = Fashion\n",
      "Black And Gold Art Circles Pattern Bed Pillow Cover/Case = Home & Office\n",
      "Fashion 5PC Pretty Girl Cotton Long-sleeve Baby Onesies/bodysuit/sleepsuit/romper = Baby Products\n",
      "Fashion Portable Hair Dryer Bonnet Attachment - Adjustable Soft Hood Attachment - Used for Curl, Hair Styling, Deep Conditioning and Hair Drying = Health & Beauty\n",
      "Samsung A14 5G Case Butterfly Plating Soft Phone Back Cover = Phones & Tablets\n",
      "Fashion Latest Quality African Suit = Fashion\n",
      "Carter Carter's 5 Pack Boys Long Sleeved Cotton T-shirts - Different Colors = Baby Products\n",
      "Fashion Hand Grip Cover For Oculus Quest 2 VR Touch Controller Case Handle Sleeve Protective Cover Strap For Oculus Quest 2 Accessories = Electronics\n",
      "Apple IPhone 12 Pro - Silver - 128GB HDD- 6GB RAM = Phones & Tablets\n",
      "Baellerry Women Leather Wallet Ladies Leather Wallet Purse Card Holder Document Organizer Women Wallet = Fashion\n",
      "Primson Organic Flax Seeds = Health & Beauty\n",
      "Class10 Micro SD Card 32GB Memory Card SDHC TFCard = Electronics\n",
      "Wired Microphone  Home Stereo Desktop 3.5mm MIC For PC = Electronics\n",
      "915 Generation DDR3 4G RAM Memory 1333Mhz 240 Pins Desktop Memory = Computing\n",
      "Fashion Vest 3 Piece White Comfortable Vest For Men = Fashion\n",
      "Dabur Fluoride Free HERBAL Tooth paste = Health & Beauty\n",
      "Disaar Smokers Tooth Whitening Toothpaste = Health & Beauty\n",
      "Ceriotti Super GEK 3000 Blow Dry Hair Dryer = Health & Beauty\n",
      "Wireless Charger Pad 30W Fast Charging For Samsung S23 S22 S21 Note 20 IPhone 14 13 12 11 XR XS 8 A = Phones & Tablets\n",
      "Sound Box HiFi FM Radio Portable Bluetooth 5.0 Speaker-Red = Electronics\n",
      "Fashion Men Hoodies Mens Hip Hop Hooded Sweatshirt = Fashion\n",
      "Fashion Kenya Flag Large (101.6X152.4)CM = Fashion\n",
      "Dear Body Noir For Men 3in1 = Health & Beauty\n",
      "Casio MTP-V001L-1BUDF = Electronics\n",
      "Waterproof Wireless Earbuds BT5.0 Stereo Bluetooth Headsets = Electronics\n",
      "Fashion Men Women Rhinestone Cartilage Tragus Bar Helix Upper Ear Earring Stud Jewelry-Black White Diamond = Fashion\n",
      "Fashion 1 Pair Of Pull Hook Heart-shaped Magnetic Couple Necklace = Fashion\n",
      "TL10 Bluetooth-compatible Headphone Ear Hook LED-Black = Electronics\n",
      "Samsung Galaxy A52S 5G Case Soft Racing Logo Phone Back Cover = Phones & Tablets\n",
      "Baby Head Shaping Pillow Cozy Cartoon Baby Head Pillow Soft for Home Blue = Baby Products\n",
      "Fashion Chocolate Men's Soft Slim Fit Khaki Trouser = Fashion\n",
      "Bajaj Nomarks Antimarks Cream Ayurvedic Turmeric Sooth Protect Restore = Health & Beauty\n",
      "Fashion Soft Afro Wig + Free Gift = Fashion\n",
      "Aichun Beauty 2Pack Effective Tummy Slimming Cream+Oil Capsicum Slim Body = Health & Beauty\n",
      "2.4 Inch 16MP 720P Mini LSR Cam Digital Camera For Kids Baby Cute Cartoon Multifunction Toy Camera Children Birthday(Black) = Toys & Games\n",
      "Fashion Stripped Ladies Biker Shorts/Gym Short/ Yoga Shorts. = Fashion\n",
      "Apple IPhone 11 - Black - 64GB HDD - 4 GB RAM = Phones & Tablets\n",
      "Samsung Galaxy A71 Case Soft Racing Logo Phone Back Cover = Phones & Tablets\n",
      "Infinix Note 10 Case Soft Heart Phone Back Cover = Phones & Tablets\n",
      "Hammer Crimper Tool For 8 To 4/0 AWG With 60Pcs = Industrial & Scientific\n",
      "Manual Meat Vegetable Fruit Chopper Cutter Processor Garlic Cutter Grinder Twist Shredder Kitchen Accessories B = Home & Office\n",
      "Multi-pockets Overalls Men's Pants Sportwear - Black = Fashion\n",
      "Faber Castell 12pcs Fabric Decoration Colours Classic Set - 10ml Each = Home & Office\n",
      "Fashion Women's Spring And Summer Breathable Mesh Face Soft Sole Non-slip Shoes-(pink) = Fashion\n",
      "Gld Ufa Remote = Electronics\n",
      "Fashion 100% Heavy Duty Cotton Men Polo Tshirt-  Cyan Blue = Fashion\n",
      "Dual USB 3.1A QC 3.0 Fast Quick Charge Car Charger-White = Automobile\n",
      "Throw Pillow 18*18cm (fibre Filling= = Home & Office\n",
      "Fashion Lace Closure Braided Wig = Fashion\n",
      "Edmark Shake Off Phyto Fiber Drink - 12 Sachets - 240g = Health & Beauty\n",
      "Fashion Double Sided Mat Non-Slip Sport Yoga Mat = Sporting Goods\n",
      "Butterfly 100% African Multi Colored Maasai Shuka - Warm And Heavy With Fleece Lining = Fashion\n",
      "Fashion Women Strap Mini Dress Backless Bodycon Party = Fashion\n",
      "Fashion Boys 2-piece Suit. Waist Coat And A Matching Trouser = Fashion\n",
      "Airwick Lavender & Chamomile Odor Neutralization Autospray = Home & Office\n",
      "20 LED Wireless Solar Lights Waterproof Security Lights = Garden & Outdoors\n",
      "New men and women universal square fashion cool dazzling color LED electronic watch = Fashion\n",
      "Disaar Vitamin C Sunscreen SPF 50+ With Hyaluronic Acid Sun Cream = Health & Beauty\n",
      "Fashion Ladies delicate casual temperament watch strap = Fashion\n",
      "24 million PX Video Camera Digital 8X Zoom With WiFi Microphone 1080P HD 3\" Screen DIS Antishake For SONY CMOS Home Camcorder  LOOKFAR = Electronics\n",
      "Fashion Navy Midi Length Skater Polka Dot Turkey Dress = Fashion\n",
      "Fashion Ladies Handbags Women Bags Pu Leather = Fashion\n",
      "8 Other Reasons BLACK DUCT TAPES = Home & Office\n",
      "Fashion 2 Pack Black Blue Cotton Leggings For Women = Fashion\n",
      "Wireless QWERTY TV Keyboard Portable Hand-Held With Touchpad & Backlight For PC / Smart TV /Android TV Box = Electronics\n",
      "300Mbps Wifi Repeater Amplificador Extender Signal Amplifier Booster UK Plug = Electronics\n",
      "Fashion Men's Fashion T-shirt Sweat-absorbent And Breathable Cool Material-Yellow = Fashion\n",
      "Dhahabu Eucalyptus Oil 100% = Health & Beauty\n",
      "Fashion Men High Top Football Shoes Soccer Boots Sneakers = Fashion\n",
      "Laptop Skin Sticker,13.3\" 14\" 15\" 15.4\" 15.6 Universal Vinyl Skin Sticker Cover = Computing\n",
      "SSD Portable Hard Disk, HD, External,  USB3.0 = Computing\n",
      "SOLAR DAY AND NIGHT VISION OUTDOOR SMART WIFI CCTV CAMERA = Garden & Outdoors\n",
      "6 Layers Full Car Cover Indoor Outdoor Sunscreen Heat Protection Dustproof Waterproof - Size YXL = Automobile\n",
      "slim green coffee = Health & Beauty\n",
      "Cartoon Themed Kids Umbrellas-GIRLS = Toys & Games\n",
      "Fashion Country Flags + Stands: KE, RW, BI, JM, GB, IL, ET, UG, US, CD, ZA, TZ, SO, CG = Fashion\n",
      "5  By  6  Maasai Shuka Throw Fleece Blanket / Red. = Home & Office\n",
      "2.5in USB3.0 SATA SSD HDD Hard Drive Box 5Gbps 3TB USB3.0 = Computing\n",
      "Divas cosmetics Flawless Fix Foundation SPF 15 - Honey = Health & Beauty\n",
      "Soft Silicone Back Cover Case For Samsung Galaxy A14 5G/4G = Phones & Tablets\n",
      "Fashion Men Wind Breaker Coat Zipper Hoodie Quick Drying Jacket = Fashion\n",
      "Fashion Turkey Fitting Men Official Suit (wedding-official) = Fashion\n",
      "OPPO F11 Pro Case Soft 6D Plating Phone Back Cover = Phones & Tablets\n",
      "Fashion Short Bob Kinky Curly Human Hair Wig - Natural Color Double Drawn Curls Wig for Women = Fashion\n",
      "Disaar Hair Growth In Baldness Essential Oil -Anti Hair Loss -30ml = Health & Beauty\n",
      "100Pcs Cow Cattle TPU Ear Tag Signs Animal Identification = Pet Supplies\n",
      "Butterfly 100% African Multi Colored Maasai Shuka - Warm And Heavy With Fleece Lining = Fashion\n",
      "Fashion Fleece Fuzzy OMG Women Stretchy Tight Fit Headband = Fashion\n",
      "Smart Rings NFC Multifunctional Waterproof = Fashion\n",
      "Fashion Long Sleeved Luxury Satin Sleep Pajama Set = Fashion\n",
      "Laptop Stand  Adjustable Metallic Portable Stand = Home & Office\n",
      "1Pc10Pcs Waxing Sponge Auto Wash Detailing Sponge = Automobile\n",
      "Fashion Retro Style Men Automatic Mechanical Watch Skeleton = Fashion\n",
      "Fashion Business calendar quartz men's watch    Limited 100 pieces = Fashion\n",
      "AICO Japan Commercial Electric Car Pressure Washer Machine Car Wash 4200PSI = Garden & Outdoors\n",
      "Fashion Luxury Silk & Fur Sleep Eye Mask Plush Cute Solid Color Sleeping Eye Mask Soft Fluffy Thick Plush Eyeshade Color Elastic Band Blindfold = Fashion\n",
      "Fashion Women's WatchWatch + BraceletLeather Strap Casual Ladies Watch + Bracelet = Fashion\n",
      "Anker PowerPort III Cube 20W Wall Charger With PowerIQ 3.0 (UK PLUG) – A2149K11 – Black = Electronics\n",
      "Fashion Cotton Infant Toddler Safety Helmet Head Protector = Baby Products\n",
      "Aichun Beauty 3Days Slimming Herbals Green Tea Anti-Cellulite Cream-200ml = Health & Beauty\n",
      "Fashion Luminous Pearl Glow In The Night Necklace Pendant = Fashion\n",
      "Casio Men's Watch V006D 1B2 Bracelet Strap = Fashion\n",
      "Advance 32 GB Flash Drive = Electronics\n",
      "Defacto Girl Special Collection Regular Fit Woven Swimsuit - Turquoise = Fashion\n",
      "Dr. Rashel Vitamin C Brightening & Nourishing Body Lotion = Health & Beauty\n",
      "calabaza Stinging Nettle Roots Powder = Health & Beauty\n",
      "Fahion Blue Princess Baby Dress = Baby Products\n",
      "Fashion T-shirt Long Sleeve Breathable Cotton O Neck Blouse-White = Fashion\n",
      "Car Metal Sticker GR Sport Emblem Sticker For Toyota Chr = Automobile\n",
      "Fashion Women's WatchWatch + BraceletLeather Strap Casual Ladies Watch + Bracelet = Fashion\n",
      "Leather Card Wallet Cover For OPPO A58 4G = Phones & Tablets\n",
      "AG Forty Seven Ag Forty Seven Malbec Shiraz - 750ml = Food & Wine\n",
      "WiFi Adapter Dongle With Antenna USB 2.0 Dongle = Electronics\n",
      "Fashion Women Floral Satin Long Tail Bonnet Night Sleeping Cap Head Cover Hair Care Hat-Beige Feather = Fashion\n",
      "Clara Vida Screwless Titanium progressive Reading glasses Men Women multifocal presbyopic glasses optical frame Eyewear +0.75 to +4 = Health & Beauty\n",
      "Fashion Cute Cat Paw Pet Collar Pattern Adjustable Bell Puppy Dog Neck Strap Adjustable 19-32 Cm = Pet Supplies\n",
      "BB Clear 5in1 Lightening Eclaircissant AntiDark Spot Tone Corrector Cream = Health & Beauty\n",
      "Aichun Beauty  Breast Enlargement Cream With Papaya Essential Oil 30ML+CREAM 120g = Health & Beauty\n",
      "Derma Roller Hair Growth, Beard Growth, Micro Needles 0.5mm + Free Sadoer Hair Growth Essence = Health & Beauty\n",
      "Fashion 4pcs Sexy Strappy Lace Seamless Panty = Fashion\n",
      "360 Spin Mop Rotating Bucket With Long Adjustable Mop = Home & Office\n",
      "Fashion Ankle Polka Dot Happy Socks Dotted 6 Pairs Set 100% Cotton Assorted = Fashion\n",
      "Fashion Super Soft Professional Barbers Neck Hair Brush = Fashion\n",
      "Fashion & Style Bolster Pillows Throw Pillows Sausage Rolls Pillows = Home & Office\n",
      "BNS High Quality Steel Vacuum Flask - 3litres = Home & Office\n",
      "AA Fashion 8PCS UNISEX NEW BORN BABY RECEIVING SET = Baby Products\n",
      "Fashion Turkey Style Official Mens Longsleeve Shirt Slim Fit 100%Cotton = Fashion\n",
      "Laptop Sleeve/Pouch = Home & Office\n",
      "Excellent Phone Battery ,BL-20HI FOR ITEL A16PLUS = Phones & Tablets\n",
      "Fashion Exfoliating Gloves For Scrub, Random Colors = Fashion\n",
      "IGNITION COIL Gy6 50CC 150CC 250cc Spark Plug Scooter Moped ATV Go Kart Taotao = Automobile\n",
      "Bluetooth Digital Amplifier, HiFi Bluetooth 5.0 Audio = Electronics\n",
      "Fashion Unisex Hoodie ,Yellow = Fashion\n",
      "Primson Organic Red Clover Leaf Powder = Health & Beauty\n",
      "Aliver Hair Growth Inhibitor Spray Stop Hair Beard Intimate Part Legs Body Armpit Painless Removal Spray = Health & Beauty\n",
      "Fashion Kids Knit Top And Bell Bottom Pants. = Fashion\n",
      "Linear Rails and Bearings,2Pcs Linear Guide Rail 400mm +4Pcs Linear Bearing 12mm Slide Blocks SBR12UU = Industrial & Scientific\n",
      "M2 B KEY   MSATA SSD To SATA30 25 Adapter Converter Card = Computing\n",
      "4pcs Bass Guitar Bridge Individual Bass Bridge Guitar Bridge Single Individual Tailpiece Single String Bass Bridge Bass Guitar Saddles Compatible with 4 String Electric Bass Guitar Accessories = Musical Instruments\n",
      "Fashion Bluetooth Smartwatch Touch SBracelet Fitness = Fashion\n",
      "Fashion WOMEN PANTIES SEAMLESS 6PCS = Fashion\n",
      "Fashion Women Dress Pleated Women Skirt Solid Color Ladies Dress = Fashion\n",
      "Wireless Car Wash Spray Gun Machine with Portable Lithium Battery = Automobile\n",
      "Series 8 Smart Watch 1.92 Inch T900 Pro Max L = Electronics\n",
      "Fashion Height Increase Insoles For Shoes Women Men Spurs Pain Silicone Gel Half Heel Sole Pad Orthopedic = Health & Beauty\n",
      "Fashion Vintage Mesh Print Dress Pink Floral Puffy Short Sleeve Fit Flare Dress Ball = Fashion\n",
      "Davidoff Cool Water 125ml EDT = Health & Beauty\n",
      "Baellerry Ladies Wallet /purse = Fashion\n",
      "Infinix Smart 7 Case Butterfly Liquid Silicone Soft Phone Cover = Phones & Tablets\n",
      "Wind Chimes 6pcs Aluminum Tubes Chimes Simple European = Garden & Outdoors\n",
      "Battery Back Cover For LG Stylo 6 LMQ730TM LM-Q730TM(Grey) = Phones & Tablets\n",
      "Gold Satin Bed Pillowcase/Cover- 20x28\" = Home & Office\n",
      "Size 5 Soccer Ball  Red & White = Sporting Goods\n",
      "Double Sided Magnetic Window Cleaner = Home & Office\n",
      "Fashion Black Handbags For Women Fashion Ladies Leather = Fashion\n",
      "Fashion Mens Casual Non-slip Breathable Sneakers-Gold = Fashion\n",
      "Car Rearview Mirror Mobile Phone Bracket = Automobile\n",
      "Lightweight Dual 15mm Rod Clamp Railblock with 1/4 Screw Holes for DSLR Camera Rod Shoulder Support for Follow Focus, A = Industrial & Scientific\n",
      "Fashion Sexy Lace Cami Bralettes - Beige = Fashion\n",
      "Fashion 2Pcs Cross Shape Tiny Street Style Hoop Earrings = Fashion\n",
      "Fashion Camel-Men's Casual Lace-up Shoes Cow Suede Leather Mens Comfortable Driving Flats Men Classic = Fashion\n",
      "Fashion Men's Sweat Sauna Vest Waist Trainer Body Shaper Tank Top Compression = Fashion\n",
      "East Africa Cables 1.5mm Single Core Wiring Cable = Industrial & Scientific\n",
      "Cantu Care For Kids Curling Cream- 8 Oz = Health & Beauty\n",
      "Fashion Girls Trendy Dresses = Fashion\n",
      "Fashion 2Pcs Couples Men Women Alloy Crown Natural Stone Beads Bracelets Jewelry Gift = Fashion\n",
      "Fashion Curly Kinky Natural Headband Wigs- Black = Fashion\n",
      "Children Watch Waterproof LED Digital Display Kids-Pink = Toys & Games\n",
      "Cacatua Luxurious Men Boots = Fashion\n",
      "915 Generation Bike Fork Mount Car Roof Rack Carrier Quick Release Thru = Sporting Goods\n",
      "Biaowang Unisex Waterproof Laptop Backpack = Home & Office\n",
      "9D Tempered Glass Film For Samsung Galaxy A14 4G(1pc) = Phones & Tablets\n",
      "Ampia 13Kg Gas Cylinder Regulator + Clips+ Delivery pipe + Free 4 Way Power Extension Cable = Home & Office\n",
      "Fashion Bomber Jacket [crop] = Fashion\n",
      "RAF Electric Vegetable And Meat Chopper/grinder = Home & Office\n",
      "Laptop Skins/Stickers-Wraps - Stickers Universal 11-15.6 Inches. = Phones & Tablets\n",
      "Fashion Summer Women Platform Sandals Fashion Buckle Design White = Fashion\n",
      "Fashion Men's Big Size High-top Field Training Hiking Boots-Beige = Fashion\n",
      "Galaxy A22 5G Case, Slim Smooth Soft Silicone Shockproof Anti-Figerprint Case Cover For Samsung Galaxy A22 5G = Phones & Tablets\n",
      "Diva 39 Pcs Microwave Safe Diva Sets = Home & Office\n",
      "M108 PC Mouse Mute Wireless ABS 2.4GHz Rechargeable-Pink = Computing\n",
      "Fashion Simple Faux Pearl Charm Leather Rope Necklace Women-Black = Fashion\n",
      "Adidas Galaxy 6 W Women Shoes = Fashion\n",
      "Absolute New York Barbeque Charcoal Grill = Garden & Outdoors\n",
      "HDMI Connector Extender HDMI Female To Female Extension Adapter = Electronics\n",
      "Fashion Heavy-duty Plain Cotton Round Neck T-shirt- Black = Fashion\n",
      "Apc Easy UPS  650VA, AVR, Universal Outlet = Home & Office\n",
      "Mika MKT1302 - Electric Kettle, Plastic, 1.7L, Cordless, White. = Home & Office\n",
      "Dessini ELECTRIC PRESSURE COOKER - 1000w With Timer = Home & Office\n",
      "Knit Cap Cozy Knit Unisex Winter Hat Warm Anti-slip Cycling Cap Beanie Black = Fashion\n",
      "Fashion 12Pairs Set Assorted Prints Quality Happy Socks = Fashion\n",
      "Fashion Sport Casual Canvas Men Sneakers = Fashion\n",
      "Shee Nordic Oval Coffee Tables - Yellow = Home & Office\n",
      "Dvee Organics Goat Milk Soap = Health & Beauty\n",
      "Apple Iphone 11 Pro Max - 256GB - 4GB RAM - Gold = Phones & Tablets\n",
      "Fashion Women Sexy Lace Hollow Thongs G-string Briefs Panties-Pink = Fashion\n",
      "Flower Pots Imitation Ceramics Garden Pot Green = Garden & Outdoors\n",
      "Dr. Rashel Vitamin C & Retinol Day Brightening & Anti-aging Face Serum(2 Pack) = Health & Beauty\n",
      "Mecer 2KVA Line Interactive UPS = Home & Office\n",
      "Fashion Cute White Flower Girl Dresses = Fashion\n",
      "Beard Oil Beard Growth Oil = Health & Beauty\n",
      "Fashion Cream Warm Super Fleece Soft Baby Shawl = Baby Products\n",
      "Fashion Soft Khaki Men's Trouser Stretch Slim Fit Official Casual = Fashion\n",
      "207Ml Spice Glass Jars With Black Lids = Home & Office\n",
      "Fashion Bathroom Slippers Hollowed Out Bath Leakage Home Slippers Dark Blue = Fashion\n",
      "Dp 30 LED Rechargeable Emergency Lamp-2Pcs = Home & Office\n",
      "Fashion Key Holder Durable Eco-friednly Dice Shape Dice Shape Key- = Fashion\n",
      "700ml  Motivational Bottle = Sporting Goods\n",
      "Hand Held Electromagnetic Induction Sealer Bottle Sealing Machine Aluminum Foil Plastic Capping Machine Sealer,EU Plug = Industrial & Scientific\n",
      "5M RGB Led Flexible Strip/ Snake Light Kit With Remote Controller & Power Supply = Home & Office\n",
      "Fashion 4 In 1 Womens Exquisite Plaid Bag Crossbody Bag = Fashion\n",
      "Gold line serving dish = Home & Office\n",
      "1Pcs Ux2 Uhf Auto Wireless Dynamic Microphone System With Receiver For Amplifier Mixer Speaker Desktop Bus Audio = Musical Instruments\n",
      "CONTACT'S Leather Men Shoulder Bags For 11 IPad Tote Handbags Lock Design Crossbody Bags = Fashion\n",
      "Green/Red Light Headlamp Zoomable Head Toch 4 Modes Headlight USB Charging Hunting Flashlight Power By 18650 Battery = Sporting Goods\n",
      "4Pcs Pet Claw Cover Pet Kitten Cat Bath Washing Paw Protector Shoes Blue = Pet Supplies\n",
      "Shower Head Hose,  Extra Long  Handheld Shower Head Hose Flexible = Home & Office\n",
      "Multicolor Wheel Car Lights Tire Valve Tyres-Blue = Automobile\n",
      "2Pcs Grey Armrest Lid Latch Clip Catch Centre Console Cover For AUDI A4 B6 02-07 = Automobile\n",
      "Refrigerator Cooling Fan Motor For LG Double-door = Home & Office\n",
      "Vintage Turkish Coffee Pot Set Model 6 Cups Crafts Tea Tray Teapot Wine Pot = Home & Office\n",
      "2Pcs H1 H4 H7 H8/9/11 9005/HB3 9006/HB4 LED Bulb 6000K 6000Lms Cool White Super Bright Mini Headlight For Car = Automobile\n",
      "Indoor/ Outdoor Portable First Aid Storage Bag = Garden & Outdoors\n",
      "2 PCS D2R 35W 3800 LM 4300K HID Bulbs Xenon Lights Lamps = Automobile\n",
      "Boxing Speed Ball Punch Bag Punching Exercise Speedball Pear Shape Bag Fitness Training Ball With = Sporting Goods\n",
      "Round Finished Myopia Glasses UniOversized Short-sighted = Fashion\n",
      "6 PCs Of Melamine Plates = Home & Office\n",
      "High Visibility Safety Vest Belt With Reflective Strips, Premium, 6 Colors-Red = Industrial & Scientific\n",
      "Non Stick Deep Frying Pan/Pancake Pan - 26cm = Home & Office\n",
      "Hole Puncher Round Holes Professional Leather Hole Punch Tool For Belts Watch Shoe Bag Strap = Home & Office\n",
      "Bathroom Kitchen Basin Tool Soft Rubber Bathtub Stopper = Home & Office\n",
      "5MW Multipurpose Adjustable Focus Burning Match Starry Sky Green Laser 303 Pointer Pen Flashlight With Safe Key Lock = Electronics\n",
      "Kinu Grinder For Spices = Home & Office\n",
      "Stainless Steel Corded Traditional Electric Kettle 5Ltrs = Home & Office\n",
      "Portable Guitar Effect  Supply Station Distributor 10 = Musical Instruments\n",
      "Sound Card Studio Mixer Noise Reduction Portable Microphone Voice BM800 Live Broadcast For Phone Computer Record V9X Pro B = Musical Instruments\n",
      "Speaker Cover Compatible with JBL Pulse 4 Protective Case Portable Travel Bag Storage Case with Shoulder Strap Climbing Hook = Electronics\n",
      "Blind Rivet (Pop Rivet) = Industrial & Scientific\n",
      "30cm Non-stick Pancake Pan Tawa Tava Chapati Flat Bread = Home & Office\n",
      "Reusable Waterproof Plant Flower Labels Markers Garden Tags = Garden & Outdoors\n",
      "Double Breasted Chef Jacket Short Half Sleeve With Pen Pockets M = Fashion\n",
      "UM4X4 USB MIDI Interface 4 IN /4 Out 64 MIDI Channels 4i/4o = Musical Instruments\n",
      "Full Protective Gears Bee Suit And Bee Gloves = Garden & Outdoors\n",
      "21 Inch Ukulele Bag Soft Case Cotton Ukelele Bag Waterproof Bag Hawaii Four String Guitar Backpack Adjustable Shoulder Straps = Musical Instruments\n",
      "Men's Under Down Jacket Winter Warm Coat Hooded Warm Dark Blue XXXL = Fashion\n",
      "Single Magnetic Latch 4Pcs Bathroom Black/beige Cabinet Doors Cupboard Doors For Wardrobes Plastic+ Pressure = Home & Office\n",
      "160kg/h Commercial Stainless steel Meat grinder, Electric industrial Chicken bone Beef Spice meat = Industrial & Scientific\n",
      "JP OLD STYLE LARGE STAILESS STEEL ELECTRIC KETTLE 7.5LTS = Home & Office\n",
      "Fashion 3PairsSet Dangle Earrings Tassel Jewelry Gift Alloy Bohemian Geometric Ear Hook For Women = Fashion\n",
      "Celebrat Strong Bass, HD Sound Earphone + Mic = Electronics\n",
      "Fashion Ladies Fancy  Batwing Top. = Fashion\n",
      "Evin 1.5mm Single Core Wiring Cable-Green/Yellow = Industrial & Scientific\n",
      "Apple IPhone 11 Pro 256GB HDD - 4 GB RAM- Space Gray = Phones & Tablets\n",
      "Baby Care - Baby Grooming Nursery Care Healthy Kit = Baby Products\n",
      "Aichun Beauty 30Pair Caviar & Collagen Eye Mask Patch Anti-Wrinkle,Dark Circles = Health & Beauty\n",
      "Power Over Ethernet Splitter 48V Input and 12V Output 48V PoE Splitter = Home & Office\n",
      "Fashion EUR 39-47 Men's High-top Martin Tooling Shoes Boots Suede Leather Ankle Boots = Fashion\n",
      "Fashion Multi-layer Metal Thigh Chain Personalized Nightclub Body = Fashion\n",
      "Fashion Men High-top Sneakers Leather Outdoor Desert Boots-Black = Fashion\n",
      "Business Design S109 Wireless Bluetooth Headset = Electronics\n",
      "Children Electric Toy Remote Control Car Model Two-Pass Toy Car with Light white = Toys & Games\n",
      "BLACK ESSENTIALS Leave-in Treatment Fortified With Olive Oil = Health & Beauty\n",
      "Dear Body Mango Mandarin Tutti Body Splash = Health & Beauty\n",
      "Fashion 8mm Fashion Round Stone Beads Stretchable Bracelet Bangle Jewelry Lady Gift = Fashion\n",
      "Cover  Case  For  Samsung Galaxy A12+Free Watch = Phones & Tablets\n",
      "Fashion Women's WatchWatch + BraceletLeather Strap Casual Ladies Watch + Bracelet = Fashion\n",
      "Xiaomi Poco M3 PRO 5G 3 In 1 Hard PC Case -Black/Silver = Phones & Tablets\n",
      "Strap-on Adult Toys Penis Erotic Toys Vibrating = Health & Beauty\n",
      "SHUNWEI SD-1026 Car Air Vent Drink Phone Holder = Automobile\n",
      "Aq General Kg10 Smart Watch Kids Music Game Smartwatch = Toys & Games\n",
      "Harman Kardon Onyx STUDIO 6 Wireless BLUETOOTH SPEAKER = Electronics\n",
      "Fashion S-5XL Plus Size African Long Dresses For Women  African Clothes Africa Dress  Ladies Clothing Ankara Africa Dress-Blue = Fashion\n",
      "Bel Eclat Kenacol Oil For Veins & Stretchmarks Remover = Health & Beauty\n",
      "HD Screen Protector For Iphone 6 Plus = Phones & Tablets\n",
      "Car headlights restoration and polishing kit = Automobile\n",
      "Ezflow Acrylic Powder/Polymer For Nails- Clear- 56g = Health & Beauty\n",
      "Oraimo Type-C To Type-C Speedline 3A Fast Charging Cable = Electronics\n",
      "Module L298N Stepper Motor Driver Board Stepping Motor DC = Industrial & Scientific\n",
      "Fashion 2pcs Elbow Elastic Sleeve Compression Brace Support Wrap Sport Joint Pain Arthritis Relief MEDIUM / LARGE = Health & Beauty\n",
      "Fashion Women's Elegant Satin Dress Halter Neck Open Back Skirt-pink = Fashion\n",
      "Classic   Microphone Props Fake Mic Toy A Reen = Toys & Games\n",
      "LG Velvet Case, Slim Crystal Clear Hard Acrylic Shock-absorbing TPU Bumper Case Cover For LG Velvet / LG Velvet 5G = Phones & Tablets\n",
      "Belly Slimming Patch Weight Loss Stickers   Navel Sticker = Health & Beauty\n",
      "Fashion 2021 Fashion African Design Slim Fit Men Suits For Wedding Groom Tuxedos = Fashion\n",
      "Canye Commercial Hair Blowdry, Tongs, Flat Iron, Straightener & Nail Set = Health & Beauty\n",
      "Biaowang Great Quality Laptop Shoulder Bag/Side Bag = Home & Office\n",
      "24 7 FASHION White & Gold Latex Balloons & Gold Confetti Balloons Set + FREE Balloon Strip For Graduation Birthday New Year Engagement Wedding Party Supplies = Fashion\n",
      "Fashion 2021 Fashion African Design Slim Fit Men Suits For Wedding Groom Tuxedos = Fashion\n",
      "Canye Commercial Hair Blowdry, Tongs, Flat Iron, Straightener & Nail Set = Health & Beauty\n",
      "Biaowang Great Quality Laptop Shoulder Bag/Side Bag = Home & Office\n",
      "24 7 FASHION White & Gold Latex Balloons & Gold Confetti Balloons Set + FREE Balloon Strip For Graduation Birthday New Year Engagement Wedding Party Supplies = Home & Office\n",
      "Disaar 100% Natural Castor Oil - 100ml = Health & Beauty\n",
      "Body Warmer Hot Water Bottle, Hot Compress, Pain Relief From Headaches, Cramps, Arthritis, Back Pain, Sore Muscles, Injuries = Health & Beauty\n",
      "Fashion (Khaki)BROWON Brand Pants Men Casual Mid Long Trousers Male Bamboo Fiber Straight Work Pant Men's Summer Thin Big Size 29-42 WAR = Fashion\n",
      "Fashion High-end Watch + Bracelet Dating Party Atmospheric watch = Fashion\n",
      "For Huawei Watch Fit Charger Replacement Charging = Electronics\n",
      "Fashion High Quality Unisex Kids &Adults Silicone Swim Cap = Sporting Goods\n",
      "Wireless Bluetooth Earphone Charging Cradle Charger Box For Samsung Galaxy Buds-White = Electronics\n",
      "915 Generation Jewelry Storage Box Transparent Plastic 36 Compartment with = Home & Office\n",
      "For  PRIUS 2004-2009 SMART KEY REMOTE FOB Case Key Shell 2 = Automobile\n",
      "Plug and Play Guitar Link to USB Interface Cable for PC and Video Recording = Musical Instruments\n",
      "Fashion 3pc Maroon Pants Set for Girls - Floral Pants, Maroon Body Suit and Headband = Fashion\n",
      "AB Wheel Workout Arm And Waist Fitness Exerciser Wheel (Free Knee Mat). = Sporting Goods\n",
      "complete mechanic workshop garage car repair heavy duty professional tools set box 85pcs = Automobile\n",
      "（60CM）Round Sequin Tablecloth Sparkly Table Cover High Quality Glitz Mesh Fabric For Dinner Birthday Party Wedding Celebration Banquet Restaurant Holiday Decoration Rose Gold = Home & Office\n",
      "10pcs AG13 A76 LR44 357A S76E G13 Coin Shaped Button Cell Battery 1.55V Alkaline Button Batteries Calculators Thermometers Electronic Toys Computer Motherboards Dog Collars Medical Equipment Laser Pointers Small Radio = Electronics\n",
      "Fashion Turkey  Official/Casual Dress = Fashion\n",
      "Live Streaming Video Shooting Vlogging Kit = Electronics\n",
      "Dear Body Malibu Lemon Blossom 2 in 1 Body mist and lotion pump = Health & Beauty\n",
      "Universal Cute Cartoon Earbuds Bass In-Ear Wired Mic Earphone With Storage Box-P = Electronics\n",
      "Fashion Wood Braid Beads Hair Accessories Dreadlocs = Fashion\n",
      "Fashion Purple Long Sleeve Ladies Top = Fashion\n",
      "ACS 30 Digital Weighing Scale - Up To 30Kgs = Home & Office\n",
      "Dabur Pudin Hara Pearls-Ayurvedic Home Remedies-Gas,indigestion & Acidity = Health & Beauty\n",
      "Dayliff DDV 60 Submersible Well Pump With Long Cable = Garden & Outdoors\n",
      "Dazzling White No Sensitivity Advanced Natural Teeth Whitening And Brightening Gel Pen. = Health & Beauty\n",
      "Flysky FS-i6 AFHDS 2A 2.4GHz 6CH Radio System Transmitter = Electronics\n",
      "Fashion Bride Bridesmaid Wedding Robe Embroidery Bathrobe Gown = Fashion\n",
      "Fashion Shell Shape Fashion Sequined Single Shoulder Body Bag = Fashion\n",
      "Cantu Natural Deep Treatment Masque, Shea Butter = Health & Beauty\n",
      "915 Generation Baby Diaper Caddy Organizer Baby Shower Basket Portable = Baby Products\n",
      "Fashion Plain Marvin Beanie Caps School Uniform Black = Fashion\n",
      "Fashion Men Light Sports Shoes-8833-R = Fashion\n",
      "Stitch The Baby Disney Cover For Apple IPhone 14 13 12 11 Pro Max Mini XS XR X 8 7 6S 6 Plus = Phones & Tablets\n",
      "Nunix Z188c hot normal and cold bottom load water dispenser = Home & Office\n",
      "K7051 Mini Fur Ball Hair Trimmer Pill Lint Removal Electric Hair Ball Remover-Blue = Home & Office\n",
      "Defacto Woman Casual Straight Fit Woven Trousers - Beige = Fashion\n",
      "Professional USB Condenser Microphone Studio Recording Live Streaming = Musical Instruments\n",
      "50kg Digital Luggage Suitcase Scale with Large handle = Garden & Outdoors\n",
      "Cutenew Sexy Mesh Patchwork One-Shoulder Skinny Mini Dress Women Fashion Casual Backless Stretch Slim Lady Midnight Party Outfit = Fashion\n",
      "Big Foldable Reusable Grocery Shopping Bag = Home & Office\n",
      "2 In 1 Wireless Microphone Dual Lavalier Lapel Microphone Wireless Mic For IPhone 12 11 Pro Max Samsung S21 = Electronics\n",
      "ERGONORMIC  4pcs Casserole Hotpot Set = Home & Office\n",
      "Clear Plastic   Bait Box  Beads Snaps Jigs Container = Sporting Goods\n",
      "TDA8954 Digital Power Amplifier Board 210W+210W Fever 2 Finished D Class Dual Channel After Class Super TDA8950 = Electronics\n",
      "DIY Cake Decorating Spray Mold Stencils Fondant = Home & Office\n",
      "Fashion Women's Faux Leather Midi Skirt High Waist On Trim Slim Solid Color Slit Bodycon Pencil Skirt With Belt-Black = Fashion\n",
      "Hair  Neck Duster Barber Cleaning Brush Wood Handle Small D = Health & Beauty\n",
      "MijaGrace- Women's Elegant Long Sleeve Pleat Satin Evening Dress - BEIGE = Fashion\n",
      "Ratchet Wire Cutter Plier Hand Plier For Cutting Copper-aluminum Cables = Industrial & Scientific\n",
      "DUSZAKE Silicon Wrist Strap For Charge 2 Band Smart = Electronics\n",
      "Kids Suspenders & Bowtie Set Metal  Shaped  For Boys Red = Fashion\n",
      "Luxury  Gold  Crystal Chandelier 400MM = Home & Office\n",
      "Portable Dog Pet Cage Crate Cover Waterproof Indoor Outdoor = Pet Supplies\n",
      "K Type Surface Thermocouple Temperature Sensor 1m Wire Thermocouple Probe -20~500C = Industrial & Scientific\n",
      "9 Pin USB Header Male 1 To 4 Female Extension Cable Card = Computing\n",
      "Digital AM FM Radio Portable, Rechargeable Radio Digital Tuner, Supports TF USB Port, Sleep Timer and Hand-Free for Home or Outdoor = Electronics\n",
      "Shorts Men 3D Skull Printed Gym Quick Dry Board Shorts Casual Running Basketball Cargo Short Beachwear Swim Trunks Sports Pants(No.#14) = Sporting Goods\n",
      "Ancel JP700 JOBD OBD2 Scanner For Japanese Car Automotive Diagnostic Tools For Toyota Nissan Honda Mazda Mitsubishi Auto Scanner = Automobile\n",
      "Anti Smell Floor Drain Plug One Way Shower Valve Drain Cover Filter Sewer = Home & Office\n",
      "Stretch Roller For Flat Tummy And ABS AND Work Outs = Sporting Goods\n",
      "1.0MM Gasless Mig Welding Wire  Flux Cored Welding Wire Without Gas = Industrial & Scientific\n",
      "3pcs Buffalo Horn Guitar Pick Plectrums Fit Folk Guitar Accessories = Musical Instruments\n",
      "Rustic Style Set Of Raised Garden Bed Bins Vegetable Garden Balcony Rooftop Vegetable Planting Box Gardening = Garden & Outdoors\n",
      "Toilet Seat Four Seasons Universal Four Seasons Universal Toilet Seat Home Portable Cover Cute Adhesive Toilet Pad = Home & Office\n",
      "4-Channel Car Audio Amplifier 2000W High- Amp. 12 V = Automobile\n",
      "Steel Pasta Lasagna Spaghetti Tagliatelle Ravioli Maker Machine For KitchenAid = Home & Office\n",
      "Wireless Remote Control E27 Light Bulb Holder Socket Lamp Base Cap Cover Switch = Home & Office\n",
      "LED Night Light Voice Control USB Bedside Lamp = Home & Office\n",
      "UNIVERSAL ALLOY LINE TRIMMER HEAD WHIPPER SNIPPER BRUSHCUTTER BRUSH CUTTER = Garden & Outdoors\n",
      "Front Facing Camera For Samsung Galaxy S20 Ultra / SM-G988U = Phones & Tablets\n",
      "Lanyard, 10 Pcs  Strap For Kids,  Black = Fashion\n",
      "2PCS SC Fiber Optic Extension Cable Patch = Industrial & Scientific\n",
      "Compression Socks 20_30 Mmhg Nursing Stockings Best For Flight Travel Maternity Pregnancy Edema Dia = Health & Beauty\n",
      "Drawstring Curly Ponytail Hair Extension = Fashion\n",
      "DDR4 4GB 2133MHz RAM Desktop Memory PC4-17000 1.2V Memory = Computing\n",
      "Girl's Dress Kids Children Newborn Baby Birthday Dinner Party Princess Dress Ball Gown = Fashion\n",
      "Dekalb Maize DK777 seeds = Garden & Outdoors\n",
      "Fashion Royal Blue Ladies Majilong Jeans = Fashion\n",
      "Wolf 3d Printed Hoodie Pants Suit Male Autumn And Winter Casual Sweashirt Pullover Men Tracksuit Set Fashion Men's Clothing Suit(No.#15675) = Fashion\n",
      "White Stripped Bedsheets 4 Pcs. (cotton) = Home & Office\n",
      "Fashion Boho Women Choker Coin Moon Pendant Beaded Multi-Silver = Fashion\n",
      "Dove Purely Pampering Shea Butter & Warm Vanilla Body Wash -500ml = Health & Beauty\n",
      "Fashion 3PCs Quality Unisex Washable Diapers +6pcs Cotton Inserts = Baby Products\n",
      "rose red For ad Air 1 2 Case for ad pro 9.7 Kids cute Tablet Cover shock proof EVA foam Hand~held Stand Cover for ad 9.7 5th 6th = Phones & Tablets\n",
      "1pc Black Salon Towel Size 20\" X 37\" (95cm X 50cm) = Home & Office\n",
      "Samsung A54 5G Case Butterfly Soft Silicone Phone Cover = Phones & Tablets\n",
      "6*6 Pattern Cotton Two Bedsheets,Two Pillowcases+Free Kitchen Towel = Home & Office\n",
      "Casio Digital Watch Telememo DB 360 1A = Electronics\n",
      "Flamingo Foam Cleaner = Home & Office\n",
      "1+4 Combo Men Safety Classic 6 Layers Shaving Hair Blade Razor Stainless Steel = Health & Beauty\n",
      "Aojezor Toilet Storage Basket, Bathroom Vanity Tray,Toilet Storage Box On Toilet Tank = Home & Office\n",
      "Fashion 6Pcs Gorgeous Waterproof Ladies Shower Caps = Fashion\n",
      "D3 Telescopic Bluetooth Game Controller = Electronics\n",
      "OPPO A58 5G Cartoon Astronaut PU Leather Silicone Back Case Cover = Phones & Tablets\n",
      "High Quality Medium White  Cotton Towels = Home & Office\n",
      "Beauty 3PCs Sexy Superstay Matte Chocolate Scent Lipstick+FreeGift = Health & Beauty\n",
      "DR MEINAIER Turmeric super whitening shower gel = Health & Beauty\n",
      "Fashion Pallazo Pant [navy Blue ] = Fashion\n",
      "Fashion 5Pcs Harajuku Youth Women's Canvas School Bag Set - Multicolour = Fashion\n",
      "Infinix 2A Fast Charging Micro USB Cable = Phones & Tablets\n",
      "Ballet Baby Jelly Soap - Calendula 100g = Baby Products\n",
      "Divas cosmetics Flawless Fix Foundation SPF 15 - Caramel = Health & Beauty\n",
      "Bone Conduction Earphone Ear Hook 3D Stereo Bass-Atrovirens = Electronics\n",
      "Adepa Naturals Normatone Pressure Reliver = Health & Beauty\n",
      "Casio Fx-82MS 2nd Edition Calculator = Electronics\n",
      "Stickers Camouflage Laptop Skin/Wrap/sticker  Universal Fit = Computing\n",
      "Efero Teeth Whitener Teeth Whitening Essence Stains Remover = Health & Beauty\n",
      "Car/Office Safety Lumbar Backrest = Home & Office\n",
      "Fashion LADIES Mkunjo Loafers = Fashion\n",
      "Beard Oil Fast Beard Growth Oil For Moustache & Facial Hair- 30ml. = Health & Beauty\n",
      "Charak VİGOMAX Forte Endurance & Energy = Health & Beauty\n",
      "AC Signature High Grade Vacuum Flask - 1 Liter = Home & Office\n",
      "Back 2 Nature ORGANIC CLOVE POWDER = Health & Beauty\n",
      "Egyptian Magic Whitening & Lightening Milk Serum-50ml Magic = Health & Beauty\n",
      "500pcs Disposable Neck Paper Strips Barber Salon Hairdressing = Health & Beauty\n",
      "Fashion Ladies' Closed High Heels = Fashion\n",
      "500pcs Disposable Neck Paper Strips Barber Salon Hairdressing = Health & Beauty\n",
      "Fashion Ladies' Closed High Heels = Fashion\n",
      "Fashion Yellow Jumper/Bomber Jacket = Fashion\n",
      "Fashion MAMA'S MINI Baby Girls Leopard Print Clothing Set = Fashion\n",
      "Fashion Mini Coloured Elastic Kids Hair Rubber Bands- = Fashion\n",
      "Mobile phone tablet Bluetooth earphones Wireless earphones = Phones & Tablets\n",
      "Soft Polyester U Shape Pillow Cover Nursing Pregnancy Pillow A = Baby Products\n",
      "Clara Vida 2018 Titanium 2g BLACK Frame Super Light Rimless Ultra Light Reading Glasses +0.75 (WKXT-Black)WKXT-Black+0.75 = Health & Beauty\n",
      "Fashion Kids' Breathable Net Shoes Boys And Girls Baby Toddler Soft Sole Sneaker-Blue = Fashion\n",
      "Galaxy A73 5G Case, Crystal Transparent Hard PC Bumper Case With Detachable Camera Protection Cover For Samsung Galaxy A73 5G = Phones & Tablets\n",
      "Fashion Mens Fall Winter Casual Flight Bomber Jacket. = Fashion\n",
      "Mouse Pad Customized Inspirational Bible Quotes = Home & Office\n",
      "Round Anti-slip Bathroom Mat Antislip Non Slip Safety Mat = Home & Office\n",
      "Fashion Boobtape Booby Tape Bra Invisible Bra 5x5cm_Coffee Brown = Fashion\n",
      "Fashion Grey Striped Ladies Cotton Stretch Tight = Fashion\n",
      "Disaar Argan Oil Eye Essence Hyaluronic Acid, 25ml = Health & Beauty\n",
      "14-43 WALL BRACKET+TV GUARD = Home & Office\n",
      "Ladies Black Smart Watch 116plus Bluetooth Waterproof Watch = Fashion\n",
      "Absolut Absolut Vodka Citron - 750ML = Health & Beauty\n",
      "Dr. Rashel Vitamin C Brightening & Anti-Aging Soothing Gel - 300g = Health & Beauty\n",
      "Fashion Men's Breathable Sneakers Trend Basketball Shoes-White Blue = Fashion\n",
      "Fashion  Anti-fog Swimming Googles For Men Women Sport Eyeglasses Spectacles Waterproof Male Female Swim Goggle = Sporting Goods\n",
      "STYLISH Genuine Leather Back To School Shoes = Fashion\n",
      "Fashion Pink Women's High Waist Body Shaper Jeans = Fashion\n",
      "Nunix DOUBLE DEEP FRIER 6L+6L = Home & Office\n",
      "Fashion 3PCs Sexy Classy Tie Dye Soft Silk Seamless Thong Panties(Hips 38-46inc) = Fashion\n",
      "Fashion Ladies Wide Waist-band Waist Belt- Black. = Fashion\n",
      "Dove Original Beauty Bar = Health & Beauty\n",
      "High Speed Memory TF Micro SD Card U3 16 32 64 128 GB = Electronics\n",
      "LED Or LCD Wall Bracket For 14 To 43 Inch = Home & Office\n",
      "Bio Balance Vitamin C Collagen 4 = Health & Beauty\n",
      "Fashion Men's Jeans Fashion Embroidery Baggy Denim Trousers Spring Vintage Straight = Fashion\n",
      "Fitch & Leeds Fitch & Leeds Lemonade Tonic Can - 200ML = Home & Office\n",
      "Palmer's Anti Dark Spot Fade Milk Lotion = Health & Beauty\n",
      "Fashion Ladies Watch Bracelet Set 5pcs Watch Jewelry Gift Box Silver = Fashion\n",
      "Mineral Magnesium - Effervescent Supplement Good For Sleep, Relaxation, Bone Health MEGAVİT = Health & Beauty\n",
      "Six-speed Manual Shift Gear Keychain Key Ring Holder(Black) = Automobile\n",
      "Palmer's Cocoa Butter Firming Butter Lotion With Vitamin E Plus Q10. = Health & Beauty\n",
      "Fashion Summer Cotton Mens T-shirt Short-sleeve Man T Shirt Short Sleeve Pure Color S Clothing T Shirts Tops Tee Men's Clothing-12 = Fashion\n",
      "Silent USB Fan Thickened Material Mute Snowflake Small Fan Rechargeable Fan = Home & Office\n",
      "DRMEINAIER 3 Pack Body Serum - Vitamin C, AHA And Alpha Arbutin = Health & Beauty\n",
      "Fashion SCHOOL SHOES LEATHER AND RUBBER = Fashion\n",
      "for VIVO Y17S 4G Wallet Case Anti-lost Leather Case Stand Cover Brown = Phones & Tablets\n",
      "Hand Grip Non-slip Handle Strength Exercise-Orange = Sporting Goods\n",
      "Fashion Wig, Short Hair, Full Bangs, Short Straight Hair = Fashion\n",
      "Dazzling White No Sensitivity Advanced Natural Teeth Whitening And Brightening Gel Pen (4 Pack) = Health & Beauty\n",
      "For Samsung Galaxy S22 Ultra 5G Aluminium Alloy + Tempered Glass Camera Lens Cover(Black) = Phones & Tablets\n",
      "915 Generation Suitable for Arduino Uno R3 DIY Kit = Electronics\n",
      "Dat Solar Kit With FM Radio = Garden & Outdoors\n",
      "Fashion Feng Shui Fortune Bracelet + Ring = Fashion\n",
      "Cantu Coconut Curling Cream - 340g = Health & Beauty\n",
      "UPGRADED WIFI SMART NET CAMERA BULB = Electronics\n",
      "PS4 Wireless Controller Pad Remote Dualshock 4 Video Gamepad = Electronics\n",
      "Clear Therapy Intensive Lightening Serum With Carrot Oil = Health & Beauty\n",
      "Damasa HB Pencils 12 Pcs Damasa Sharpened Graphite = Home & Office\n",
      "Cotton 2 Pc Striped Hoodie Sweat Shirt + Denim Pants - Blue = Fashion\n",
      "Fashion Mizuno Football Boots Wave Lgnitus Kangaroo Leather Double Colorblock Professional Cleats-Blue = Fashion\n",
      "Aoc 24G2SP - 24’’ 1080P 165Hz IPS Gaming Monitor = Electronics\n",
      "Fashion 6*6 Pattern  2 Bedsheets,2 Pillowcases = Fashion\n",
      "Fashion Women Boho Wrap Summer Long Dress Holiday Maxi Loose Sundress Floral Print V-neck Long Sleeve Elegante Dresses Tail Party Gold LMY = Fashion\n",
      "Bontel Q1000//2.4  Selfie Camera - Ultra Slim-Magic Voice -1300mAh-Big Battery //pink = Phones & Tablets\n",
      "Redmi 9A Case Astronaut Square Silicone Phone Cover = Phones & Tablets\n",
      "46x Assorted Christmas Stickers Decals Sealing Sticker Waterproof 38mm = Home & Office\n",
      "Fashion 4 In 1 Cotton Flannels / Receiving Blankets = Baby Products\n",
      "M.2 Mini Solid State SSD High Speed Transmission 1TB 2TB 4TB Portable External Hard Drive = Computing\n",
      "Fashion Ladies Light Weight Casual Lace-up Sneakers = Fashion\n",
      "Heavy Quality Kids School Tracksuit-Unisex = Fashion\n",
      "Laptop Stand With USB Cooling Fan,Aluminum Alloy = Computing\n",
      "Fashion New Reflective Unicorn Girl School Bag-Grade 6-12yrs = Fashion\n",
      "Mickey Mouse Square Plating Soft Case for Samsung Galaxy A13 5G A04S Ultra Thin Side Pattern Silicone Phone Cover-Black = Phones & Tablets\n",
      "MC-G02 Maintenance Cartridge for Canon G2160 G3160 G1220 G2260 G3260 G3360 G1420 G2420 G2460 G3420 G3460 G3620 Tank = Home & Office\n",
      "Fashion Unisex Combat Cap = Fashion\n",
      "915 Generation 16 Pcs 24-Pin Carbon Fiber Finger Sleeves for PUBG(Yellow) = Sporting Goods\n",
      "Vintage Fabric Tassel Long Sweater Chain Bohemian Boho = Fashion\n",
      "Bluetooth Earbud Wireless Headphones With Mic Waterproof Ear Hooks HiFi Stereo Music Earphone For IPhone 12 13 Samsung = Electronics\n",
      "Fashion Womens Computer Glasses Blue Light Blocking Frames = Fashion\n",
      "XIAOMI REDMI NOTE 11,  Translucent With Camera Protection Back Cover = Phones & Tablets\n",
      "Virtual Reality Headset, Game/movie/3D VR Glasses VR Box For Any Phone- Blu-ray Eye Gog Gles = Electronics\n",
      "Portable Mini LED Laser Projector Stage Light = Electronics\n",
      "Bluetooth Keyboard Case For Galaxy Tab A 10.1 (2019) T510 = Phones & Tablets\n",
      "OPPO A54 Case Square Silicone Phone Cover = Phones & Tablets\n",
      "Fashion Casual Cushion Shoes Running Sneakers-Black = Fashion\n",
      "Fashion Body Shaping High Waist Ladies Soft Jeans = Fashion\n",
      "Dr. Rashel Stretch Mark Remover Cream = Health & Beauty\n",
      "Fashion Girls Boots Fashion Children's Leather Boots-Beige = Fashion\n",
      "CTC DIGITAL TV With Inbuilt Decorder 26 INCHES = Electronics\n",
      "Samsung A24 4G Case Liquid Silicone Cute Phone Cover = Phones & Tablets\n",
      "Forever VitoLize For Men = Health & Beauty\n",
      "Finger Ring Phone Stand   Mobile Phone Holder Golden = Phones & Tablets\n",
      "Booster Hair & Scalp Treatment = Health & Beauty\n",
      "Dera 2 STROKE BRUSH CUTTER AND GRASS TRIMMER = Garden & Outdoors\n",
      "Dessini Durable Italian- 23 piece Non-Stick DieCast Cooking Pots - Black = Home & Office\n",
      "TSQ Global Double Lined Cotton Satin Duvet Cover Set (Powder) = Home & Office\n",
      "Behringer UPHORIA STUDIO PRO KH = Musical Instruments\n",
      "Fashion Men Brand Ary Boots Outdoor Non Slip Hiking Boots Tactical Desert Combat = Fashion\n",
      "Fashion 3Pack Warm Newborn Knitted Baby Set Of 1Sweater 1trauser 1Cap = Baby Products\n",
      "Aichun Beauty Women Gel Vaginal Tightening Gel Orgasmic Passion Pleasure = Health & Beauty\n",
      "Fashion 1Pc Women Rhinestone Flower Butterfly Ear Stud Cuff Clip Earring Helix Jewelry-16# = Fashion\n",
      "Fogg  VICTOR = Health & Beauty\n",
      "Dr Copper Seamless Water Bottle- Copper-500 ml = Home & Office\n",
      "Fashion Girl's Sling Bag Plush Cross Body Bag with Leather Strap = Fashion\n",
      "Bosto 12HD-A H-IPS LCD Graphics Drawing Tablet Monitor 11.6 Inch Size 1366x768 8192 = Electronics\n",
      "Fashion African Men Native Wear = Fashion\n",
      "Armco ARC-220TS - 2 In 1 Non Stick 2.2L Rice Cooker And Steamer. = Home & Office\n",
      "Curren 【 Silver 】 Men's Watches Mens Wrist Luxury Leather Quartz Waterproof Resistant = Fashion\n",
      "Strap For Apple Watch Ultra 49mm / Series 8&7 45mm / SE 2&6&SE&5&4 44mm / 3&2&1 42mm = Electronics\n",
      "Fashion Simple Elegant Engagement Ring With Box. = Fashion\n",
      "Fashion 116 PLUS Men's Ladies Anti-Lost Bluetooth Watch = Fashion\n",
      "FreshLook Quality Brown Eye Contact Lens Aesthetic Cosmetic Use = Health & Beauty\n",
      "Fashion Fitness Gloves Gym Weight Lift Riding Full FINGER MEDIUM BLACK = Sporting Goods\n",
      "(Only Case) Silicone Protective Case Cover Storage Box For AirPods Pro 3 Bluetooth Earphone-White = Phones & Tablets\n",
      "Cotton Baby Soft Bath Towel Plain = Baby Products\n",
      "Silicone Women's Cli_t G Spot Vaginal Vibrator Dildo Sex Toy = Health & Beauty\n",
      "Fashion 2Pcs 1314 520 Heart Key Lock Jigsaw Pendant Couple Love Necklace Valentines Gift-Dual Color = Fashion\n",
      "Astonish MORNING DEW PET FRESH READY TO USE DISINFECTANT. With Essential oils. Eliminates Odours. Multi-Use (Pet & Home) = Pet Supplies\n",
      "Leaven K880 Mechanical Gaming Keyboard LED RGB(104 = Computing\n",
      "Shea Moisture Manuka Honey & Mafura Oil Intensive Hydration Masque = Health & Beauty\n",
      "Barksdale Domestic Silicone Rubber Gloves Cleaning = Home & Office\n",
      "915 Generation Graphics Card GTX550Ti 6GB Video Card GPU GDDR5 192Bit Computer Desktop Graphics Card -Compatible Game Video Card = Computing\n",
      "Bisofice Handheld 3G POS Receipt Printer Android 8.1 1D/2D Barcode = Electronics\n",
      "14 PCS Gray&Red Golf Shoes Spikes Fast Twist Tri-lok = Sporting Goods\n",
      "Chaoyang Super Light H5185 Foldable Mountain Bike Bicycle Ultralight Collapsible MTB Tyres 26/27.5*1.95 Cycling Bicycle Tires 26*1.95 26*1.95 = Sporting Goods\n",
      "Rolinson 60mm Padlock = Home & Office\n",
      "100W 1800lm 6000K Car H4 9003 COB LED Conversion Headlight High/Low Beam Bulb = Automobile\n",
      "For Mitsubishi Lancer Sedan EVO X 2008-2016 LED 3RD Brake Light Trunk Back Mount Stop Lamp = Automobile\n",
      "Shade Net For Outdoor Facility And Activities Park Carport = Garden & Outdoors\n",
      "LED Star Cloud Ocean Projector Light Projection Lamp Night = Home & Office\n",
      "Throat Mic Earpiece Headset Finger For Baofeng UV5R 888s Radio Walkie Talkie = Electronics\n",
      "Plastic Anti Splash Toilet Bedpan Cats Litter Box Cat Dog Dog Gray = Pet Supplies\n",
      "Women  Underwire Bras Padded Disposable Cover Underwear = Fashion\n",
      "Foldable Triangle Animal Print Glasses Case Sunglasses Myopia Frame = Fashion\n",
      "915 Generation Alphabet Soft Magnetic Stickers Refrigerator Sticker = Toys & Games\n",
      "Guitar Interface I-Rig Converter Replacement Guitar For = Musical Instruments\n",
      "5 Tier Fruit/Vegetable Rotating Basket/Rack Fruit Storage = Home & Office\n",
      "Piano Sustain Damper Pedal Keyboard Sustain Pedals = Musical Instruments\n",
      "DYKB 3S-20S 6A BMS Active Balancer Board Energy Transfer Balance Li-ion Lifepo4 LTO Lithium Battery 4S 7S 8S 10S 12S 13S 14S 16S-7S 3.2V 3.7V = Industrial & Scientific\n",
      "The Classy Mosquito Nets Bazaar Mosquito Nets....... = Garden & Outdoors\n",
      "Cation Dog Training Bag Adjustable Waist Belt For = Pet Supplies\n",
      "Clog Slipper Shoes Waterproof Closed Toe Heels Pink 39 To = Fashion\n",
      "the Crankshaft of the Engine Motor Cylinder Piston is Suitable for STIHL Ms170 Ms180 018 Chain Saw = Automobile\n",
      "Free Spirit Id Simulation Dinosaur Wild Animal Model Toys Mini Children Plastic Toy = Toys & Games\n",
      "US Standard Layout Laptop Keyboard For Acer 3830 3830G 4755G ES1-431 = Computing\n",
      "Brine Incubator Hatchery For Artemia Eggs Durable Artemia = Pet Supplies\n",
      "Camouflage High Waist Yoga Shorts Women Sports Shorts Fitness Seamless Short Fitness Camouflage Printed Yoga Shorts Sportswear = Fashion\n",
      "Ammoon Portable Pocket Acoustic Guitar Practice Tool Gadget = Musical Instruments\n",
      "Mini Microphone Sponge Cover Windscreen Pack Of 20pcs Black Mic = Musical Instruments\n",
      "Rhinestone Tassel Waist Chain Belly Dance Hip Chain Gold = Fashion\n",
      "2020 Hot Women's Basic Versatile Stretchy Flared Casual Mini Skater Skirt Sequin Skirt Wine Red Short Skirt White = Fashion\n",
      "Smart Bike Tail Light With Turn Signals Brake Light Wireless = Sporting Goods\n",
      "Itch Relief Spray Puppy Skin Anti-Itch Spray = Pet Supplies\n",
      "Mediterranean Style Anchor Compass Pattern Cushion Cover Throw Nautical Pillow Red Compass = Home & Office\n",
      "Mini Vacuum Cleaner Desk Vacuum Cleaner Handheld Portable = Home & Office\n",
      "Tummy Trimmer Abs Exerciser,Waist Trimmer, Fitness = Sporting Goods\n",
      "2x Stainless Steel Candle Snuffer Candle Wick Trimmer Candle = Home & Office\n",
      "ABL1642Nordic Outdoor Skullpunk Lanyard Bracelet Men's Antique Viking Accessories Umbrella Rope Bracelet Men's Handmade SHA = Fashion\n",
      "350MLUSB Air Diffuser  Difuser HomeCar Oil Humidif = Home & Office\n",
      "Mini Straight/Curly Hair Dual Use Hair Curler Little Rate = Health & Beauty\n",
      "10 Artist  Brushes Acrylic Oil Watercolour Painting Red Hand = Home & Office\n",
      "MOOER GE200 Multi Effect Processor Pedal Amp Modelling With 55 Amplifier Models 26 Speaker Cab Model = Musical Instruments\n",
      "DC 12V 24V Car RV Audio Inline Circuit Breaker Fus = Automobile\n",
      "Retro Style Multi-use Water Mug Enamel Practical-White = Home & Office\n",
      "Mosquito Repellent Anti Bite Mosquito Repellent Bracelet = Garden & Outdoors\n",
      "New Bubble Guppies 3d Print Casual Pants Sports Sweatpants Straight Pants Sweatpants Jogging Pants = Fashion\n",
      "915 Generation FREEZE MOD Water Cooled Magnetic Levitation Pump Water Tank = Home & Office\n",
      "Retractable Pocket Knife Sharpening Sharpening Hook Tool Kit = Sporting Goods\n",
      "Blender Jar With Lid Smoothie Machine Accessories For Soup = Home & Office\n",
      "Automatic Water Level Control, 1/2 Inch Top Water Inlet Automatic Float Valve, Water Level Control Box Upgraded Version = Garden & Outdoors\n",
      "Custom Necklace Engraved Name Necklace Personalized Name Stainless Steel Necklace Jewelry For Women Men Gift = Fashion\n",
      "Anti-blue Light   Anti-pollen Gl Es Anti-wind And Sand Dropl = Health & Beauty\n",
      "Mens Scary Clown Mask Full Head Covered Bloody Mouth Monster Mask = Fashion\n",
      "Digital Meter Assembly for Suzuki GN 125 Speedometer Odometer Gauge Gear Indicator Motorcycle Meter Instrument = Automobile\n",
      "6Pcs Fixed Head Metric Ratchet Spanner Flexible Steel Pivoting Wrench Tool Set = Industrial & Scientific\n",
      "Shorts Casual Booty Butt Lifting  Pants Black XXL = Fashion\n",
      "Most Powerful Motion Sensor LED Headlamp USB Rechargeable 8 = Sporting Goods\n",
      "Summer Casual T_shirts Mens Short Sleeve Polo Shirts Button Down Work Shirts Quick Dry Tee Sports Fishing Golf Pullover(#Emerald Green) = Fashion\n",
      "2x Front  Manual Grip Handlebar Thumb Rest Holder MTB Bike Hand Rest = Sporting Goods\n",
      "OPOWAY Flexible Led Strip Light 300 LED 3528 SMD Warm White 3100K LED Ribbon 5 Meter or 16 Feet,12 Volt 24 Watt = Home & Office\n",
      "All-in-1 Silicon Chocolate/Candy Mold Baking Decorator = Home & Office\n",
      "All-in-1 Silicon Chocolate/Candy Mold Baking Decorator = Home & Office\n",
      "Foot Spa Bath Massager Ionic Foot Detoxhine Complete Professional Presotherapy Heating Feet Massage Foot Massager Madajeador = Health & Beauty\n",
      "Men'S Fitness Wear Quick Dry Sports Suit Black TK193 = Sporting Goods\n",
      "Men's Watch Date Party Gift watch = Fashion\n",
      "Handheld USB Fan Cooler Portable = Electronics\n",
      "Golden Pirate Hook Party Decorations Captain Cosplay Props = Toys & Games\n",
      "Electric Submersible Water Pump For Aquarium Fountain Fish Tank Feature [Multicolor] = Pet Supplies\n",
      "Flat O2 Oxygen Diffuser Transparency Minuteness Air Pump Super Silence Fish Tank Airstone For Aquarium Plants Shrimp = Pet Supplies\n",
      "Steel Barbecue Thermometer BBQ Instant Read Smoker Grill Oven Thermometer for Kitchen Home Baking Household Cooking Temp Gauge = Garden & Outdoors\n",
      "Car Bluetooth  Bass Power Subwoofer AMP Car Mini = Automobile\n",
      "Finger Leather  Case Stainless Steel  Black = Fashion\n",
      "24V Electric Car Boiled Immersion Water Heater Traveling Ca = Automobile\n",
      "1PC New type poultry bell drinker thickened automatic water dispenser for chickens, ducks, geese, pigeons, water feeders for livestock and poultry breeding  Marathon = Pet Supplies\n",
      "UHF Wireless Microphone Head-wear Mic System Receiver With Adapter For Voice Amplifier Computer Sing Microphone = Musical Instruments\n",
      "12 Pack Self Adhesive Assorted Fake Moustache / Mustache = Fashion\n",
      "Classic Kitchenware Chopping Board = Home & Office\n",
      "Electric Cooker Hot Pot Electric Rice Cooker Non-stick Pan = Home & Office\n",
      "Motorcycle 68T 68 Tooth Rear Sprocket 6mm 25H For 47cc = Automobile\n",
      "Fitness Loss Weight Sweat Suit Sauna Suit Exercise Gym Size 4XL Black Black 4XL = Sporting Goods\n",
      "Pen Outdoor Hiking Emergency Pocket Ballpoint Sign Pen Black = Garden & Outdoors\n",
      "915 Generation GA818WJSA Repment Remote Control for Sharp Projector XR-50S XR-50X XR-55X XR-55S Notevision XR-55X = Electronics\n",
      "8pcs Alto/Tenor Saxophone Sax Mouthpiece Patches Pads = Musical Instruments\n",
      "Number of API calls made: 2000\n",
      "The AVERAGE API call roundtrip TIME is: 1.3776561346054077\n"
     ]
    },
    {
     "data": {
      "text/plain": "                                                 name product_category  \\\n0   Garnier Anti-Blemish Charcoal Serum With AHA +...  Health & Beauty   \n1   Garnier Even & Matte  Vitamin C Booster Serum ...  Health & Beauty   \n2   Garnier Pure Active 3 In1 Charcoal Anti Blackh...  Health & Beauty   \n3   Garnier Even & Matte  Vitamin C Booster Serum ...  Health & Beauty   \n4                  Garnier Bye Acne & Dark Spots Kit.  Health & Beauty   \n5   Garnier Brightening Night Serum With 10% Pure ...  Health & Beauty   \n6            Garnier Even & Matte Dark Spot Corrector  Health & Beauty   \n7    L'Oreal GLYCOLIC BRIGHT FACE CLEANSER FOAM 100ML  Health & Beauty   \n8      Garnier Vitamin C Booster Serum 30ml Twin Pack  Health & Beauty   \n9   Garnier AHA+BHA Charcoal Serum + Pure Active 3...  Health & Beauty   \n10  Red Berry RSF810 Insulated Double Wall Vacuum ...    Home & Office   \n11               Maybelline Lasting Fix Setting Spray  Health & Beauty   \n12                       Boma SANDWICH TOASTER BM-722    Home & Office   \n13  Maybelline Fit Me Mattifying Primer Matte And ...  Health & Beauty   \n14  Campo Viejo Campo Viejo Reserva Red Wine - 750 ML    Home & Office   \n15  L'Oreal GLYCOLIC BRIGHT INSTANT GLOWING SERUM ...  Health & Beauty   \n16        Chivas Chivas Regal Whisky 18 Years - 750ml  Health & Beauty   \n17          Huggies Unisex Pants Gold Size 3 Count 36    Baby Products   \n18    Garnier Even & Matte Oily Skin Face Moisturizer  Health & Beauty   \n19  Red Berry RSF1001- Insulated Double Wall Vacuu...    Home & Office   \n\n    new_price  old_price  discount  rating   votes  \n0      1400.0    1750.00      0.20    4.30  1513.0  \n1       850.0     289.00      0.34    4.20   778.0  \n2      1036.0    1295.00      0.20    4.40  4792.0  \n3      1400.0    1750.00      0.20    4.40  3826.0  \n4      3608.0    4245.00      0.15    4.30   698.0  \n5      2495.0     848.30      0.34    5.00    10.0  \n6      1050.0     357.00      0.34    4.00  2751.0  \n7       649.0     850.00      0.24    4.80    47.0  \n8      2975.0    3500.00      0.15    4.60   489.0  \n9      2588.0    3045.00      0.15    4.40   480.0  \n10      792.0     269.28      0.34    4.15    40.7  \n11     1785.0    2100.00      0.15    4.50  1558.0  \n12     1584.0     538.56      0.34    5.00     1.0  \n13     1400.0     476.00      0.34    4.60   407.0  \n14     1599.0    2066.00      0.23    4.70     9.0  \n15     1840.0    2300.00      0.20    4.90    32.0  \n16     8264.0    8934.00      0.07    4.15    40.7  \n17      859.0    1935.00      0.56    5.00     1.0  \n18     1050.0     357.00      0.34    4.00  1133.0  \n19     1020.0     346.80      0.34    4.15    40.7  ",
      "text/html": "<div>\n<style scoped>\n    .dataframe tbody tr th:only-of-type {\n        vertical-align: middle;\n    }\n\n    .dataframe tbody tr th {\n        vertical-align: top;\n    }\n\n    .dataframe thead th {\n        text-align: right;\n    }\n</style>\n<table border=\"1\" class=\"dataframe\">\n  <thead>\n    <tr style=\"text-align: right;\">\n      <th></th>\n      <th>name</th>\n      <th>product_category</th>\n      <th>new_price</th>\n      <th>old_price</th>\n      <th>discount</th>\n      <th>rating</th>\n      <th>votes</th>\n    </tr>\n  </thead>\n  <tbody>\n    <tr>\n      <th>0</th>\n      <td>Garnier Anti-Blemish Charcoal Serum With AHA +...</td>\n      <td>Health &amp; Beauty</td>\n      <td>1400.0</td>\n      <td>1750.00</td>\n      <td>0.20</td>\n      <td>4.30</td>\n      <td>1513.0</td>\n    </tr>\n    <tr>\n      <th>1</th>\n      <td>Garnier Even &amp; Matte  Vitamin C Booster Serum ...</td>\n      <td>Health &amp; Beauty</td>\n      <td>850.0</td>\n      <td>289.00</td>\n      <td>0.34</td>\n      <td>4.20</td>\n      <td>778.0</td>\n    </tr>\n    <tr>\n      <th>2</th>\n      <td>Garnier Pure Active 3 In1 Charcoal Anti Blackh...</td>\n      <td>Health &amp; Beauty</td>\n      <td>1036.0</td>\n      <td>1295.00</td>\n      <td>0.20</td>\n      <td>4.40</td>\n      <td>4792.0</td>\n    </tr>\n    <tr>\n      <th>3</th>\n      <td>Garnier Even &amp; Matte  Vitamin C Booster Serum ...</td>\n      <td>Health &amp; Beauty</td>\n      <td>1400.0</td>\n      <td>1750.00</td>\n      <td>0.20</td>\n      <td>4.40</td>\n      <td>3826.0</td>\n    </tr>\n    <tr>\n      <th>4</th>\n      <td>Garnier Bye Acne &amp; Dark Spots Kit.</td>\n      <td>Health &amp; Beauty</td>\n      <td>3608.0</td>\n      <td>4245.00</td>\n      <td>0.15</td>\n      <td>4.30</td>\n      <td>698.0</td>\n    </tr>\n    <tr>\n      <th>5</th>\n      <td>Garnier Brightening Night Serum With 10% Pure ...</td>\n      <td>Health &amp; Beauty</td>\n      <td>2495.0</td>\n      <td>848.30</td>\n      <td>0.34</td>\n      <td>5.00</td>\n      <td>10.0</td>\n    </tr>\n    <tr>\n      <th>6</th>\n      <td>Garnier Even &amp; Matte Dark Spot Corrector</td>\n      <td>Health &amp; Beauty</td>\n      <td>1050.0</td>\n      <td>357.00</td>\n      <td>0.34</td>\n      <td>4.00</td>\n      <td>2751.0</td>\n    </tr>\n    <tr>\n      <th>7</th>\n      <td>L'Oreal GLYCOLIC BRIGHT FACE CLEANSER FOAM 100ML</td>\n      <td>Health &amp; Beauty</td>\n      <td>649.0</td>\n      <td>850.00</td>\n      <td>0.24</td>\n      <td>4.80</td>\n      <td>47.0</td>\n    </tr>\n    <tr>\n      <th>8</th>\n      <td>Garnier Vitamin C Booster Serum 30ml Twin Pack</td>\n      <td>Health &amp; Beauty</td>\n      <td>2975.0</td>\n      <td>3500.00</td>\n      <td>0.15</td>\n      <td>4.60</td>\n      <td>489.0</td>\n    </tr>\n    <tr>\n      <th>9</th>\n      <td>Garnier AHA+BHA Charcoal Serum + Pure Active 3...</td>\n      <td>Health &amp; Beauty</td>\n      <td>2588.0</td>\n      <td>3045.00</td>\n      <td>0.15</td>\n      <td>4.40</td>\n      <td>480.0</td>\n    </tr>\n    <tr>\n      <th>10</th>\n      <td>Red Berry RSF810 Insulated Double Wall Vacuum ...</td>\n      <td>Home &amp; Office</td>\n      <td>792.0</td>\n      <td>269.28</td>\n      <td>0.34</td>\n      <td>4.15</td>\n      <td>40.7</td>\n    </tr>\n    <tr>\n      <th>11</th>\n      <td>Maybelline Lasting Fix Setting Spray</td>\n      <td>Health &amp; Beauty</td>\n      <td>1785.0</td>\n      <td>2100.00</td>\n      <td>0.15</td>\n      <td>4.50</td>\n      <td>1558.0</td>\n    </tr>\n    <tr>\n      <th>12</th>\n      <td>Boma SANDWICH TOASTER BM-722</td>\n      <td>Home &amp; Office</td>\n      <td>1584.0</td>\n      <td>538.56</td>\n      <td>0.34</td>\n      <td>5.00</td>\n      <td>1.0</td>\n    </tr>\n    <tr>\n      <th>13</th>\n      <td>Maybelline Fit Me Mattifying Primer Matte And ...</td>\n      <td>Health &amp; Beauty</td>\n      <td>1400.0</td>\n      <td>476.00</td>\n      <td>0.34</td>\n      <td>4.60</td>\n      <td>407.0</td>\n    </tr>\n    <tr>\n      <th>14</th>\n      <td>Campo Viejo Campo Viejo Reserva Red Wine - 750 ML</td>\n      <td>Home &amp; Office</td>\n      <td>1599.0</td>\n      <td>2066.00</td>\n      <td>0.23</td>\n      <td>4.70</td>\n      <td>9.0</td>\n    </tr>\n    <tr>\n      <th>15</th>\n      <td>L'Oreal GLYCOLIC BRIGHT INSTANT GLOWING SERUM ...</td>\n      <td>Health &amp; Beauty</td>\n      <td>1840.0</td>\n      <td>2300.00</td>\n      <td>0.20</td>\n      <td>4.90</td>\n      <td>32.0</td>\n    </tr>\n    <tr>\n      <th>16</th>\n      <td>Chivas Chivas Regal Whisky 18 Years - 750ml</td>\n      <td>Health &amp; Beauty</td>\n      <td>8264.0</td>\n      <td>8934.00</td>\n      <td>0.07</td>\n      <td>4.15</td>\n      <td>40.7</td>\n    </tr>\n    <tr>\n      <th>17</th>\n      <td>Huggies Unisex Pants Gold Size 3 Count 36</td>\n      <td>Baby Products</td>\n      <td>859.0</td>\n      <td>1935.00</td>\n      <td>0.56</td>\n      <td>5.00</td>\n      <td>1.0</td>\n    </tr>\n    <tr>\n      <th>18</th>\n      <td>Garnier Even &amp; Matte Oily Skin Face Moisturizer</td>\n      <td>Health &amp; Beauty</td>\n      <td>1050.0</td>\n      <td>357.00</td>\n      <td>0.34</td>\n      <td>4.00</td>\n      <td>1133.0</td>\n    </tr>\n    <tr>\n      <th>19</th>\n      <td>Red Berry RSF1001- Insulated Double Wall Vacuu...</td>\n      <td>Home &amp; Office</td>\n      <td>1020.0</td>\n      <td>346.80</td>\n      <td>0.34</td>\n      <td>4.15</td>\n      <td>40.7</td>\n    </tr>\n  </tbody>\n</table>\n</div>"
     },
     "execution_count": 308,
     "metadata": {},
     "output_type": "execute_result"
    }
   ],
   "source": [
    "# Reload the gemini api call module, 'gemini_call', to refresh/reload it before use to prevent any unusual errors\n",
    "importlib.reload(gemini_call)\n",
    "\n",
    "# Function to get the product category\n",
    "def fetch_product_category(product_name):\n",
    "    # Timed the API roundtrip during testing to find the average time...\n",
    "    # ... to check if it's possible to surpass the set rate limit of 60 requests per min (RPM)...\n",
    "    # ... besides, while doing the average time testing, I put a 1.2 sec sleep timer...\n",
    "    # ... as the last line function as initial guard to ensure 50RPM aren't exceeded (60 secs/1.2 secs)\n",
    "    start_time = time.time()  # Roundtrip timer start\n",
    "    predicted_product_category = gemini_call.predict_product_category(product_name)\n",
    "    end_time = time.time()  # Roundtrip timer stop\n",
    "    durations_list.append(end_time - start_time)  # Append roundtrip time value to list\n",
    "\n",
    "    return predicted_product_category\n",
    "\n",
    "# Only run the API call to create product_category col & fill it if it's not yet created\n",
    "if not os.path.exists('../data/processed/8_products_df_with_product_category.csv'):\n",
    "    durations_list = []  # Store api roundtrip times to be used in calculating average time during test\n",
    "    # product_category_column_inserted = False  # Boolean flag to define existence status of product_category column\n",
    "    for idx, row in products_df.iterrows():\n",
    "        name_of_product = row[\"name\"]  # Get current row's product name\n",
    "        \n",
    "        predicted_category = fetch_product_category(name_of_product)\n",
    "        \n",
    "        # If the 'product_category' column hasn't been inserted, insert it at index_col 1 after 'name' column\n",
    "        if 'product_category' not in products_df.columns:\n",
    "            print(f\"{name_of_product} = {predicted_category}\")\n",
    "            products_df.insert(1, \"product_category\", predicted_category)  # Insert new column 'product_category' at index_col 1 & insert 1st value\n",
    "        else:\n",
    "            print(f\"{name_of_product} = {predicted_category}\")\n",
    "            products_df.at[idx, \"product_category\"] = predicted_category  # Assign subsequent predicted categories to their corresponding idx positions\n",
    "    \n",
    "    # Save the dataframe with product categories into csv to avoid making expensive api call\n",
    "    products_df.to_csv(\"../data/processed/8_products_df_with_product_category.csv\")\n",
    "    # print(products_df)\n",
    "    print(f\"Number of API calls made: {len(durations_list)}\")\n",
    "    \n",
    "    # Print average duration of API call\n",
    "    average_api_call_roundtrip_time = sum(durations_list)/len(durations_list)\n",
    "    print(f\"The AVERAGE API call roundtrip TIME is: {average_api_call_roundtrip_time}\")\n",
    "\n",
    "products_df = pd.read_csv(\"../data/processed/8_products_df_with_product_category.csv\", index_col=0)\n",
    "products_df.head(20)"
   ],
   "metadata": {
    "collapsed": false,
    "ExecuteTime": {
     "end_time": "2024-03-13T16:06:56.596236Z",
     "start_time": "2024-03-13T15:20:59.687556Z"
    }
   },
   "id": "557e9d1d185ba286",
   "execution_count": 308
  },
  {
   "cell_type": "markdown",
   "source": [
    "#### Check the info() of the dataframe with product_category column"
   ],
   "metadata": {
    "collapsed": false
   },
   "id": "bf66ed688f5cb65f"
  },
  {
   "cell_type": "code",
   "outputs": [
    {
     "name": "stdout",
     "output_type": "stream",
     "text": [
      "<class 'pandas.core.frame.DataFrame'>\n",
      "Index: 2000 entries, 0 to 1999\n",
      "Data columns (total 7 columns):\n",
      " #   Column            Non-Null Count  Dtype  \n",
      "---  ------            --------------  -----  \n",
      " 0   name              2000 non-null   object \n",
      " 1   product_category  2000 non-null   object \n",
      " 2   new_price         2000 non-null   float64\n",
      " 3   old_price         2000 non-null   float64\n",
      " 4   discount          2000 non-null   float64\n",
      " 5   rating            2000 non-null   float64\n",
      " 6   votes             2000 non-null   float64\n",
      "dtypes: float64(5), object(2)\n",
      "memory usage: 125.0+ KB\n"
     ]
    }
   ],
   "source": [
    "products_df.info()"
   ],
   "metadata": {
    "collapsed": false,
    "ExecuteTime": {
     "end_time": "2024-03-13T16:06:56.603827Z",
     "start_time": "2024-03-13T16:06:56.597286Z"
    }
   },
   "id": "8017c3ef13a0d5c0",
   "execution_count": 309
  },
  {
   "cell_type": "markdown",
   "source": [
    "#### Checking rows with nulls in the product_category column "
   ],
   "metadata": {
    "collapsed": false
   },
   "id": "12a1ebc8440e9b76"
  },
  {
   "cell_type": "code",
   "outputs": [],
   "source": [
    "# # The nulls are found to be sex toys as shown in the sliced dataframe below\n",
    "# product_cat_empty_df = products_df[pd.isna(products_df['product_category'])]\n",
    "# product_cat_empty_df"
   ],
   "metadata": {
    "collapsed": false,
    "ExecuteTime": {
     "end_time": "2024-03-13T16:06:56.674272Z",
     "start_time": "2024-03-13T16:06:56.605060Z"
    }
   },
   "id": "f72bda89bc830235",
   "execution_count": 310
  },
  {
   "cell_type": "markdown",
   "source": [
    "#### Filling product_category nulls with GEMINI api call with safety set to minimum (Ensure response not blocked)"
   ],
   "metadata": {
    "collapsed": false
   },
   "id": "17780fb29168a7e4"
  },
  {
   "cell_type": "code",
   "outputs": [],
   "source": [
    "# # Refresh gemini_call library\n",
    "# importlib.reload(gemini_call)\n",
    "# \n",
    "# # Slice dataframe from the main one having the empty product category\n",
    "# product_category_empty_rows_df = products_df[pd.isna(products_df['product_category'])]\n",
    "# \n",
    "# # Get indexes with the nulls in the sliced dataframe\n",
    "# product_category_empty_rows_indexes = product_category_empty_rows_df.index\n",
    "# \n",
    "# # Add IF-condition to only allow for loop to fill dataframe if nulls exist\n",
    "# if products_df['product_category'].isnull().any():\n",
    "#     for idx, row in product_category_empty_rows_df.iterrows():\n",
    "#         name_of_product = row[\"name\"]  # Get rows with missing product category names\n",
    "#     \n",
    "#         predicted_category = gemini_call.predict_product_category(name_of_product)  # Make API call to fetch the product category\n",
    "#     \n",
    "#         products_df.at[idx, \"product_category\"] = predicted_category  # Assign subsequent predicted categories to their corresponding idx positions\n",
    "# \n"
   ],
   "metadata": {
    "collapsed": false,
    "ExecuteTime": {
     "end_time": "2024-03-13T16:06:56.804280Z",
     "start_time": "2024-03-13T16:06:56.675326Z"
    }
   },
   "id": "938481fb6ad057a5",
   "execution_count": 311
  },
  {
   "cell_type": "markdown",
   "source": [
    "#### Confirm rows with missing product categories have been filled"
   ],
   "metadata": {
    "collapsed": false
   },
   "id": "e49d7e2ff493ad63"
  },
  {
   "cell_type": "code",
   "outputs": [],
   "source": [
    "# # # Slice main dataframe to access the indexes where product categories were empty to view if the product category filling is successful\n",
    "# empty_product_category_rows_filled_df = products_df.iloc[product_category_empty_rows_indexes]\n",
    "# empty_product_category_rows_filled_df"
   ],
   "metadata": {
    "collapsed": false,
    "ExecuteTime": {
     "end_time": "2024-03-13T16:06:56.982861Z",
     "start_time": "2024-03-13T16:06:56.805487Z"
    }
   },
   "id": "a1b1a8c0d7ca79e1",
   "execution_count": 312
  },
  {
   "cell_type": "markdown",
   "source": [
    "#### Check summary info() of the production products dataframe"
   ],
   "metadata": {
    "collapsed": false
   },
   "id": "647e8b73563f0fa9"
  },
  {
   "cell_type": "code",
   "outputs": [],
   "source": [
    "# products_df.info()"
   ],
   "metadata": {
    "collapsed": false,
    "ExecuteTime": {
     "end_time": "2024-03-13T16:06:57.132915Z",
     "start_time": "2024-03-13T16:06:56.983867Z"
    }
   },
   "id": "e529f491b4b03751",
   "execution_count": 313
  },
  {
   "cell_type": "markdown",
   "source": [
    "### Assign cleaned dataframe with product_category into a final csv"
   ],
   "metadata": {
    "collapsed": false
   },
   "id": "eef6f6ab8c27f9e6"
  },
  {
   "cell_type": "code",
   "outputs": [],
   "source": [
    "# Read csv of the final processed data folder into dataframe\n",
    "products_df = pd.read_csv(\"../data/processed/8_products_df_with_product_category.csv\", index_col=0)\n",
    "products_df.head()\n",
    "\n",
    "# Save the cleaned dataframe as a CSV in the final data folder\n",
    "products_df.to_csv(\"../data/final/products_df_all_cleaned.csv\")"
   ],
   "metadata": {
    "collapsed": false,
    "ExecuteTime": {
     "end_time": "2024-03-13T16:06:57.309093Z",
     "start_time": "2024-03-13T16:06:57.133918Z"
    }
   },
   "id": "b885c742d61fe619",
   "execution_count": 314
  },
  {
   "cell_type": "code",
   "outputs": [
    {
     "data": {
      "text/plain": "                                                name product_category  \\\n0  Garnier Anti-Blemish Charcoal Serum With AHA +...  Health & Beauty   \n1  Garnier Even & Matte  Vitamin C Booster Serum ...  Health & Beauty   \n2  Garnier Pure Active 3 In1 Charcoal Anti Blackh...  Health & Beauty   \n3  Garnier Even & Matte  Vitamin C Booster Serum ...  Health & Beauty   \n4                 Garnier Bye Acne & Dark Spots Kit.  Health & Beauty   \n\n   new_price  old_price  discount  rating   votes  \n0     1400.0     1750.0      0.20     4.3  1513.0  \n1      850.0      289.0      0.34     4.2   778.0  \n2     1036.0     1295.0      0.20     4.4  4792.0  \n3     1400.0     1750.0      0.20     4.4  3826.0  \n4     3608.0     4245.0      0.15     4.3   698.0  ",
      "text/html": "<div>\n<style scoped>\n    .dataframe tbody tr th:only-of-type {\n        vertical-align: middle;\n    }\n\n    .dataframe tbody tr th {\n        vertical-align: top;\n    }\n\n    .dataframe thead th {\n        text-align: right;\n    }\n</style>\n<table border=\"1\" class=\"dataframe\">\n  <thead>\n    <tr style=\"text-align: right;\">\n      <th></th>\n      <th>name</th>\n      <th>product_category</th>\n      <th>new_price</th>\n      <th>old_price</th>\n      <th>discount</th>\n      <th>rating</th>\n      <th>votes</th>\n    </tr>\n  </thead>\n  <tbody>\n    <tr>\n      <th>0</th>\n      <td>Garnier Anti-Blemish Charcoal Serum With AHA +...</td>\n      <td>Health &amp; Beauty</td>\n      <td>1400.0</td>\n      <td>1750.0</td>\n      <td>0.20</td>\n      <td>4.3</td>\n      <td>1513.0</td>\n    </tr>\n    <tr>\n      <th>1</th>\n      <td>Garnier Even &amp; Matte  Vitamin C Booster Serum ...</td>\n      <td>Health &amp; Beauty</td>\n      <td>850.0</td>\n      <td>289.0</td>\n      <td>0.34</td>\n      <td>4.2</td>\n      <td>778.0</td>\n    </tr>\n    <tr>\n      <th>2</th>\n      <td>Garnier Pure Active 3 In1 Charcoal Anti Blackh...</td>\n      <td>Health &amp; Beauty</td>\n      <td>1036.0</td>\n      <td>1295.0</td>\n      <td>0.20</td>\n      <td>4.4</td>\n      <td>4792.0</td>\n    </tr>\n    <tr>\n      <th>3</th>\n      <td>Garnier Even &amp; Matte  Vitamin C Booster Serum ...</td>\n      <td>Health &amp; Beauty</td>\n      <td>1400.0</td>\n      <td>1750.0</td>\n      <td>0.20</td>\n      <td>4.4</td>\n      <td>3826.0</td>\n    </tr>\n    <tr>\n      <th>4</th>\n      <td>Garnier Bye Acne &amp; Dark Spots Kit.</td>\n      <td>Health &amp; Beauty</td>\n      <td>3608.0</td>\n      <td>4245.0</td>\n      <td>0.15</td>\n      <td>4.3</td>\n      <td>698.0</td>\n    </tr>\n  </tbody>\n</table>\n</div>"
     },
     "execution_count": 315,
     "metadata": {},
     "output_type": "execute_result"
    }
   ],
   "source": [
    "# Rename the products_df to products_clean_df before the data analysis section\n",
    "products_clean_df = pd.read_csv(\"../data/final/products_df_all_cleaned.csv\", index_col=0)\n",
    "products_clean_df.head()"
   ],
   "metadata": {
    "collapsed": false,
    "ExecuteTime": {
     "end_time": "2024-03-13T16:06:57.476686Z",
     "start_time": "2024-03-13T16:06:57.312297Z"
    }
   },
   "id": "2fed158fb30d80cb",
   "execution_count": 315
  },
  {
   "cell_type": "markdown",
   "source": [
    "# DATA VISUALIZATION SECTION"
   ],
   "metadata": {
    "collapsed": false
   },
   "id": "fd11059b4f1ca555"
  },
  {
   "cell_type": "markdown",
   "source": [
    "### Summary stats of the data"
   ],
   "metadata": {
    "collapsed": false
   },
   "id": "78e2146e03531dad"
  },
  {
   "cell_type": "code",
   "outputs": [
    {
     "data": {
      "text/plain": "          new_price     old_price    discount       rating        votes\ncount  2.000000e+03  2.000000e+03  2000.00000  2000.000000  2000.000000\nmean   4.052489e+03  5.852846e+03     0.34377     4.148700    40.699000\nstd    3.309283e+04  6.016944e+04     0.12612     0.627216   178.916338\nmin    2.000000e+01  6.800000e+00     0.01000     1.000000     1.000000\n25%    6.000000e+02  7.115000e+02     0.28000     4.150000     4.000000\n50%    1.262500e+03  1.600000e+03     0.34000     4.150000    40.700000\n75%    2.778000e+03  3.830500e+03     0.45000     4.150000    40.700000\nmax    1.362420e+06  2.592000e+06     0.72000     5.000000  4792.000000",
      "text/html": "<div>\n<style scoped>\n    .dataframe tbody tr th:only-of-type {\n        vertical-align: middle;\n    }\n\n    .dataframe tbody tr th {\n        vertical-align: top;\n    }\n\n    .dataframe thead th {\n        text-align: right;\n    }\n</style>\n<table border=\"1\" class=\"dataframe\">\n  <thead>\n    <tr style=\"text-align: right;\">\n      <th></th>\n      <th>new_price</th>\n      <th>old_price</th>\n      <th>discount</th>\n      <th>rating</th>\n      <th>votes</th>\n    </tr>\n  </thead>\n  <tbody>\n    <tr>\n      <th>count</th>\n      <td>2.000000e+03</td>\n      <td>2.000000e+03</td>\n      <td>2000.00000</td>\n      <td>2000.000000</td>\n      <td>2000.000000</td>\n    </tr>\n    <tr>\n      <th>mean</th>\n      <td>4.052489e+03</td>\n      <td>5.852846e+03</td>\n      <td>0.34377</td>\n      <td>4.148700</td>\n      <td>40.699000</td>\n    </tr>\n    <tr>\n      <th>std</th>\n      <td>3.309283e+04</td>\n      <td>6.016944e+04</td>\n      <td>0.12612</td>\n      <td>0.627216</td>\n      <td>178.916338</td>\n    </tr>\n    <tr>\n      <th>min</th>\n      <td>2.000000e+01</td>\n      <td>6.800000e+00</td>\n      <td>0.01000</td>\n      <td>1.000000</td>\n      <td>1.000000</td>\n    </tr>\n    <tr>\n      <th>25%</th>\n      <td>6.000000e+02</td>\n      <td>7.115000e+02</td>\n      <td>0.28000</td>\n      <td>4.150000</td>\n      <td>4.000000</td>\n    </tr>\n    <tr>\n      <th>50%</th>\n      <td>1.262500e+03</td>\n      <td>1.600000e+03</td>\n      <td>0.34000</td>\n      <td>4.150000</td>\n      <td>40.700000</td>\n    </tr>\n    <tr>\n      <th>75%</th>\n      <td>2.778000e+03</td>\n      <td>3.830500e+03</td>\n      <td>0.45000</td>\n      <td>4.150000</td>\n      <td>40.700000</td>\n    </tr>\n    <tr>\n      <th>max</th>\n      <td>1.362420e+06</td>\n      <td>2.592000e+06</td>\n      <td>0.72000</td>\n      <td>5.000000</td>\n      <td>4792.000000</td>\n    </tr>\n  </tbody>\n</table>\n</div>"
     },
     "execution_count": 316,
     "metadata": {},
     "output_type": "execute_result"
    }
   ],
   "source": [
    "summary_stats = products_clean_df.describe()\n",
    "summary_stats"
   ],
   "metadata": {
    "collapsed": false,
    "ExecuteTime": {
     "end_time": "2024-03-13T16:06:57.635115Z",
     "start_time": "2024-03-13T16:06:57.482044Z"
    }
   },
   "id": "fc910e89daa67d0c",
   "execution_count": 316
  },
  {
   "cell_type": "markdown",
   "source": [
    "### Deriving the correlation matrix"
   ],
   "metadata": {
    "collapsed": false
   },
   "id": "6d453bd7162baab4"
  },
  {
   "cell_type": "code",
   "outputs": [
    {
     "data": {
      "text/plain": "           new_price  old_price  discount    rating     votes\nnew_price   1.000000   0.989259 -0.018548 -0.002855 -0.000423\nold_price   0.989259   1.000000  0.008184 -0.003160 -0.000408\ndiscount   -0.018548   0.008184  1.000000 -0.037932 -0.037260\nrating     -0.002855  -0.003160 -0.037932  1.000000  0.017221\nvotes      -0.000423  -0.000408 -0.037260  0.017221  1.000000",
      "text/html": "<div>\n<style scoped>\n    .dataframe tbody tr th:only-of-type {\n        vertical-align: middle;\n    }\n\n    .dataframe tbody tr th {\n        vertical-align: top;\n    }\n\n    .dataframe thead th {\n        text-align: right;\n    }\n</style>\n<table border=\"1\" class=\"dataframe\">\n  <thead>\n    <tr style=\"text-align: right;\">\n      <th></th>\n      <th>new_price</th>\n      <th>old_price</th>\n      <th>discount</th>\n      <th>rating</th>\n      <th>votes</th>\n    </tr>\n  </thead>\n  <tbody>\n    <tr>\n      <th>new_price</th>\n      <td>1.000000</td>\n      <td>0.989259</td>\n      <td>-0.018548</td>\n      <td>-0.002855</td>\n      <td>-0.000423</td>\n    </tr>\n    <tr>\n      <th>old_price</th>\n      <td>0.989259</td>\n      <td>1.000000</td>\n      <td>0.008184</td>\n      <td>-0.003160</td>\n      <td>-0.000408</td>\n    </tr>\n    <tr>\n      <th>discount</th>\n      <td>-0.018548</td>\n      <td>0.008184</td>\n      <td>1.000000</td>\n      <td>-0.037932</td>\n      <td>-0.037260</td>\n    </tr>\n    <tr>\n      <th>rating</th>\n      <td>-0.002855</td>\n      <td>-0.003160</td>\n      <td>-0.037932</td>\n      <td>1.000000</td>\n      <td>0.017221</td>\n    </tr>\n    <tr>\n      <th>votes</th>\n      <td>-0.000423</td>\n      <td>-0.000408</td>\n      <td>-0.037260</td>\n      <td>0.017221</td>\n      <td>1.000000</td>\n    </tr>\n  </tbody>\n</table>\n</div>"
     },
     "execution_count": 317,
     "metadata": {},
     "output_type": "execute_result"
    }
   ],
   "source": [
    "# Returning correlation matrix for only the numerical columns\n",
    "correlation_matrix = products_clean_df.corr(method='pearson', numeric_only=True)\n",
    "# correlation_matrix.to_csv(\"results/datafiles/pearson_correlation.csv\")\n",
    "correlation_matrix"
   ],
   "metadata": {
    "collapsed": false,
    "ExecuteTime": {
     "end_time": "2024-03-13T16:06:57.769263Z",
     "start_time": "2024-03-13T16:06:57.637689Z"
    }
   },
   "id": "7f17889fbf3e9669",
   "execution_count": 317
  },
  {
   "cell_type": "code",
   "outputs": [
    {
     "data": {
      "text/plain": "<Figure size 640x480 with 2 Axes>",
      "image/png": "[encoded data removed]"
     },
     "metadata": {},
     "output_type": "display_data"
    }
   ],
   "source": [
    "plt.xticks(np.arange(len(products_clean_df.columns)), products_clean_df.columns, rotation=45)\n",
    "plt.yticks(np.arange(len(products_clean_df.columns)), products_clean_df.columns, rotation=45)\n",
    "\n",
    "sns.heatmap(correlation_matrix, annot=True, cmap='coolwarm')\n",
    "plt.title('Correlation Matrix of the Numeric Columns (Jumia data)', y=1.02)\n",
    "\n",
    "plt.savefig(\"../results/plots/1_correlation_matrix_of_Jumia_products_numeric_data.png\", bbox_inches=\"tight\",pad_inches=2)"
   ],
   "metadata": {
    "collapsed": false,
    "ExecuteTime": {
     "end_time": "2024-03-13T16:06:58.235110Z",
     "start_time": "2024-03-13T16:06:57.770374Z"
    }
   },
   "id": "73da0553a6a9cdc1",
   "execution_count": 318
  },
  {
   "cell_type": "markdown",
   "source": [
    "### Visualize top-rated products with at least 200 votes"
   ],
   "metadata": {
    "collapsed": false
   },
   "id": "a20eae547fc92871"
  },
  {
   "cell_type": "code",
   "outputs": [
    {
     "data": {
      "text/plain": "                                                  name product_category  \\\n0    Garnier Anti-Blemish Charcoal Serum With AHA +...  Health & Beauty   \n1    Garnier Even & Matte  Vitamin C Booster Serum ...  Health & Beauty   \n2    Garnier Pure Active 3 In1 Charcoal Anti Blackh...  Health & Beauty   \n3    Garnier Even & Matte  Vitamin C Booster Serum ...  Health & Beauty   \n4                   Garnier Bye Acne & Dark Spots Kit.  Health & Beauty   \n6             Garnier Even & Matte Dark Spot Corrector  Health & Beauty   \n8       Garnier Vitamin C Booster Serum 30ml Twin Pack  Health & Beauty   \n9    Garnier AHA+BHA Charcoal Serum + Pure Active 3...  Health & Beauty   \n11                Maybelline Lasting Fix Setting Spray  Health & Beauty   \n13   Maybelline Fit Me Mattifying Primer Matte And ...  Health & Beauty   \n18     Garnier Even & Matte Oily Skin Face Moisturizer  Health & Beauty   \n21   Garnier Charcoal Serum With AHA+BHA 30ml Twin ...  Health & Beauty   \n66   NIVEA Radiant & Beauty Advanced Care Lotion Fo...  Health & Beauty   \n67   NIVEA Perfect & Radiant Even Tone Day And Nigh...  Health & Beauty   \n71   Vitron HTC4388FS - 43\" Smart  Android Frameles...      Electronics   \n72   AILYONS FK-0301 Stainless Steel 1.8L Electric ...    Home & Office   \n75   Vitron V527 - 2.1 CH Multimedia Speaker, BT/US...      Electronics   \n76   Vision Plus VP8832DF 32\" HD Frameless Digital ...      Electronics   \n77   Fashion 6Pcs Soft Cotton Checked Men's Boxers ...          Fashion   \n78       Hikers 32'' Digital Frameless HD LED TV-Black      Electronics   \n79   NIVEA MEN Deep Antibacterial Anti-Perspirant R...  Health & Beauty   \n801  Darkhorsir 64GB Metallic High Speed USB Flash ...        Computing   \n\n     new_price  old_price  discount  rating   votes  \n0       1400.0     1750.0      0.20     4.3  1513.0  \n1        850.0      289.0      0.34     4.2   778.0  \n2       1036.0     1295.0      0.20     4.4  4792.0  \n3       1400.0     1750.0      0.20     4.4  3826.0  \n4       3608.0     4245.0      0.15     4.3   698.0  \n6       1050.0      357.0      0.34     4.0  2751.0  \n8       2975.0     3500.0      0.15     4.6   489.0  \n9       2588.0     3045.0      0.15     4.4   480.0  \n11      1785.0     2100.0      0.15     4.5  1558.0  \n13      1400.0      476.0      0.34     4.6   407.0  \n18      1050.0      357.0      0.34     4.0  1133.0  \n21      2975.0     3500.0      0.15     4.5   233.0  \n66       912.0     1460.0      0.38     4.7   699.0  \n67       887.0     1560.0      0.43     4.5  2283.0  \n71     21506.0    28599.0      0.25     4.2   376.0  \n72       693.0     1399.0      0.50     4.1  1728.0  \n75      5460.0     7599.0      0.28     4.2   705.0  \n76     11550.0    15995.0      0.28     4.0   376.0  \n77       618.0      688.0      0.10     3.7  1442.0  \n78     11490.0    17357.0      0.34     4.2   238.0  \n79       651.0     1040.0      0.37     4.6   670.0  \n801      695.0     1106.0      0.37     4.2   312.0  ",
      "text/html": "<div>\n<style scoped>\n    .dataframe tbody tr th:only-of-type {\n        vertical-align: middle;\n    }\n\n    .dataframe tbody tr th {\n        vertical-align: top;\n    }\n\n    .dataframe thead th {\n        text-align: right;\n    }\n</style>\n<table border=\"1\" class=\"dataframe\">\n  <thead>\n    <tr style=\"text-align: right;\">\n      <th></th>\n      <th>name</th>\n      <th>product_category</th>\n      <th>new_price</th>\n      <th>old_price</th>\n      <th>discount</th>\n      <th>rating</th>\n      <th>votes</th>\n    </tr>\n  </thead>\n  <tbody>\n    <tr>\n      <th>0</th>\n      <td>Garnier Anti-Blemish Charcoal Serum With AHA +...</td>\n      <td>Health &amp; Beauty</td>\n      <td>1400.0</td>\n      <td>1750.0</td>\n      <td>0.20</td>\n      <td>4.3</td>\n      <td>1513.0</td>\n    </tr>\n    <tr>\n      <th>1</th>\n      <td>Garnier Even &amp; Matte  Vitamin C Booster Serum ...</td>\n      <td>Health &amp; Beauty</td>\n      <td>850.0</td>\n      <td>289.0</td>\n      <td>0.34</td>\n      <td>4.2</td>\n      <td>778.0</td>\n    </tr>\n    <tr>\n      <th>2</th>\n      <td>Garnier Pure Active 3 In1 Charcoal Anti Blackh...</td>\n      <td>Health &amp; Beauty</td>\n      <td>1036.0</td>\n      <td>1295.0</td>\n      <td>0.20</td>\n      <td>4.4</td>\n      <td>4792.0</td>\n    </tr>\n    <tr>\n      <th>3</th>\n      <td>Garnier Even &amp; Matte  Vitamin C Booster Serum ...</td>\n      <td>Health &amp; Beauty</td>\n      <td>1400.0</td>\n      <td>1750.0</td>\n      <td>0.20</td>\n      <td>4.4</td>\n      <td>3826.0</td>\n    </tr>\n    <tr>\n      <th>4</th>\n      <td>Garnier Bye Acne &amp; Dark Spots Kit.</td>\n      <td>Health &amp; Beauty</td>\n      <td>3608.0</td>\n      <td>4245.0</td>\n      <td>0.15</td>\n      <td>4.3</td>\n      <td>698.0</td>\n    </tr>\n    <tr>\n      <th>6</th>\n      <td>Garnier Even &amp; Matte Dark Spot Corrector</td>\n      <td>Health &amp; Beauty</td>\n      <td>1050.0</td>\n      <td>357.0</td>\n      <td>0.34</td>\n      <td>4.0</td>\n      <td>2751.0</td>\n    </tr>\n    <tr>\n      <th>8</th>\n      <td>Garnier Vitamin C Booster Serum 30ml Twin Pack</td>\n      <td>Health &amp; Beauty</td>\n      <td>2975.0</td>\n      <td>3500.0</td>\n      <td>0.15</td>\n      <td>4.6</td>\n      <td>489.0</td>\n    </tr>\n    <tr>\n      <th>9</th>\n      <td>Garnier AHA+BHA Charcoal Serum + Pure Active 3...</td>\n      <td>Health &amp; Beauty</td>\n      <td>2588.0</td>\n      <td>3045.0</td>\n      <td>0.15</td>\n      <td>4.4</td>\n      <td>480.0</td>\n    </tr>\n    <tr>\n      <th>11</th>\n      <td>Maybelline Lasting Fix Setting Spray</td>\n      <td>Health &amp; Beauty</td>\n      <td>1785.0</td>\n      <td>2100.0</td>\n      <td>0.15</td>\n      <td>4.5</td>\n      <td>1558.0</td>\n    </tr>\n    <tr>\n      <th>13</th>\n      <td>Maybelline Fit Me Mattifying Primer Matte And ...</td>\n      <td>Health &amp; Beauty</td>\n      <td>1400.0</td>\n      <td>476.0</td>\n      <td>0.34</td>\n      <td>4.6</td>\n      <td>407.0</td>\n    </tr>\n    <tr>\n      <th>18</th>\n      <td>Garnier Even &amp; Matte Oily Skin Face Moisturizer</td>\n      <td>Health &amp; Beauty</td>\n      <td>1050.0</td>\n      <td>357.0</td>\n      <td>0.34</td>\n      <td>4.0</td>\n      <td>1133.0</td>\n    </tr>\n    <tr>\n      <th>21</th>\n      <td>Garnier Charcoal Serum With AHA+BHA 30ml Twin ...</td>\n      <td>Health &amp; Beauty</td>\n      <td>2975.0</td>\n      <td>3500.0</td>\n      <td>0.15</td>\n      <td>4.5</td>\n      <td>233.0</td>\n    </tr>\n    <tr>\n      <th>66</th>\n      <td>NIVEA Radiant &amp; Beauty Advanced Care Lotion Fo...</td>\n      <td>Health &amp; Beauty</td>\n      <td>912.0</td>\n      <td>1460.0</td>\n      <td>0.38</td>\n      <td>4.7</td>\n      <td>699.0</td>\n    </tr>\n    <tr>\n      <th>67</th>\n      <td>NIVEA Perfect &amp; Radiant Even Tone Day And Nigh...</td>\n      <td>Health &amp; Beauty</td>\n      <td>887.0</td>\n      <td>1560.0</td>\n      <td>0.43</td>\n      <td>4.5</td>\n      <td>2283.0</td>\n    </tr>\n    <tr>\n      <th>71</th>\n      <td>Vitron HTC4388FS - 43\" Smart  Android Frameles...</td>\n      <td>Electronics</td>\n      <td>21506.0</td>\n      <td>28599.0</td>\n      <td>0.25</td>\n      <td>4.2</td>\n      <td>376.0</td>\n    </tr>\n    <tr>\n      <th>72</th>\n      <td>AILYONS FK-0301 Stainless Steel 1.8L Electric ...</td>\n      <td>Home &amp; Office</td>\n      <td>693.0</td>\n      <td>1399.0</td>\n      <td>0.50</td>\n      <td>4.1</td>\n      <td>1728.0</td>\n    </tr>\n    <tr>\n      <th>75</th>\n      <td>Vitron V527 - 2.1 CH Multimedia Speaker, BT/US...</td>\n      <td>Electronics</td>\n      <td>5460.0</td>\n      <td>7599.0</td>\n      <td>0.28</td>\n      <td>4.2</td>\n      <td>705.0</td>\n    </tr>\n    <tr>\n      <th>76</th>\n      <td>Vision Plus VP8832DF 32\" HD Frameless Digital ...</td>\n      <td>Electronics</td>\n      <td>11550.0</td>\n      <td>15995.0</td>\n      <td>0.28</td>\n      <td>4.0</td>\n      <td>376.0</td>\n    </tr>\n    <tr>\n      <th>77</th>\n      <td>Fashion 6Pcs Soft Cotton Checked Men's Boxers ...</td>\n      <td>Fashion</td>\n      <td>618.0</td>\n      <td>688.0</td>\n      <td>0.10</td>\n      <td>3.7</td>\n      <td>1442.0</td>\n    </tr>\n    <tr>\n      <th>78</th>\n      <td>Hikers 32'' Digital Frameless HD LED TV-Black</td>\n      <td>Electronics</td>\n      <td>11490.0</td>\n      <td>17357.0</td>\n      <td>0.34</td>\n      <td>4.2</td>\n      <td>238.0</td>\n    </tr>\n    <tr>\n      <th>79</th>\n      <td>NIVEA MEN Deep Antibacterial Anti-Perspirant R...</td>\n      <td>Health &amp; Beauty</td>\n      <td>651.0</td>\n      <td>1040.0</td>\n      <td>0.37</td>\n      <td>4.6</td>\n      <td>670.0</td>\n    </tr>\n    <tr>\n      <th>801</th>\n      <td>Darkhorsir 64GB Metallic High Speed USB Flash ...</td>\n      <td>Computing</td>\n      <td>695.0</td>\n      <td>1106.0</td>\n      <td>0.37</td>\n      <td>4.2</td>\n      <td>312.0</td>\n    </tr>\n  </tbody>\n</table>\n</div>"
     },
     "execution_count": 319,
     "metadata": {},
     "output_type": "execute_result"
    }
   ],
   "source": [
    "# First filter for products with at least 200 votes (More votes makes a product rating more reliable)\n",
    "products_with_atleast_200_votes_df = products_clean_df[products_clean_df['votes'] >= 200]\n",
    "products_with_atleast_200_votes_df"
   ],
   "metadata": {
    "collapsed": false,
    "ExecuteTime": {
     "end_time": "2024-03-13T16:06:58.248060Z",
     "start_time": "2024-03-13T16:06:58.236223Z"
    }
   },
   "id": "495a7437e25a2ec9",
   "execution_count": 319
  },
  {
   "cell_type": "code",
   "outputs": [
    {
     "data": {
      "text/plain": "                                                 name product_category  \\\n8      Garnier Vitamin C Booster Serum 30ml Twin Pack  Health & Beauty   \n11               Maybelline Lasting Fix Setting Spray  Health & Beauty   \n13  Maybelline Fit Me Mattifying Primer Matte And ...  Health & Beauty   \n21  Garnier Charcoal Serum With AHA+BHA 30ml Twin ...  Health & Beauty   \n66  NIVEA Radiant & Beauty Advanced Care Lotion Fo...  Health & Beauty   \n67  NIVEA Perfect & Radiant Even Tone Day And Nigh...  Health & Beauty   \n79  NIVEA MEN Deep Antibacterial Anti-Perspirant R...  Health & Beauty   \n\n    new_price  old_price  discount  rating   votes  \n8      2975.0     3500.0      0.15     4.6   489.0  \n11     1785.0     2100.0      0.15     4.5  1558.0  \n13     1400.0      476.0      0.34     4.6   407.0  \n21     2975.0     3500.0      0.15     4.5   233.0  \n66      912.0     1460.0      0.38     4.7   699.0  \n67      887.0     1560.0      0.43     4.5  2283.0  \n79      651.0     1040.0      0.37     4.6   670.0  ",
      "text/html": "<div>\n<style scoped>\n    .dataframe tbody tr th:only-of-type {\n        vertical-align: middle;\n    }\n\n    .dataframe tbody tr th {\n        vertical-align: top;\n    }\n\n    .dataframe thead th {\n        text-align: right;\n    }\n</style>\n<table border=\"1\" class=\"dataframe\">\n  <thead>\n    <tr style=\"text-align: right;\">\n      <th></th>\n      <th>name</th>\n      <th>product_category</th>\n      <th>new_price</th>\n      <th>old_price</th>\n      <th>discount</th>\n      <th>rating</th>\n      <th>votes</th>\n    </tr>\n  </thead>\n  <tbody>\n    <tr>\n      <th>8</th>\n      <td>Garnier Vitamin C Booster Serum 30ml Twin Pack</td>\n      <td>Health &amp; Beauty</td>\n      <td>2975.0</td>\n      <td>3500.0</td>\n      <td>0.15</td>\n      <td>4.6</td>\n      <td>489.0</td>\n    </tr>\n    <tr>\n      <th>11</th>\n      <td>Maybelline Lasting Fix Setting Spray</td>\n      <td>Health &amp; Beauty</td>\n      <td>1785.0</td>\n      <td>2100.0</td>\n      <td>0.15</td>\n      <td>4.5</td>\n      <td>1558.0</td>\n    </tr>\n    <tr>\n      <th>13</th>\n      <td>Maybelline Fit Me Mattifying Primer Matte And ...</td>\n      <td>Health &amp; Beauty</td>\n      <td>1400.0</td>\n      <td>476.0</td>\n      <td>0.34</td>\n      <td>4.6</td>\n      <td>407.0</td>\n    </tr>\n    <tr>\n      <th>21</th>\n      <td>Garnier Charcoal Serum With AHA+BHA 30ml Twin ...</td>\n      <td>Health &amp; Beauty</td>\n      <td>2975.0</td>\n      <td>3500.0</td>\n      <td>0.15</td>\n      <td>4.5</td>\n      <td>233.0</td>\n    </tr>\n    <tr>\n      <th>66</th>\n      <td>NIVEA Radiant &amp; Beauty Advanced Care Lotion Fo...</td>\n      <td>Health &amp; Beauty</td>\n      <td>912.0</td>\n      <td>1460.0</td>\n      <td>0.38</td>\n      <td>4.7</td>\n      <td>699.0</td>\n    </tr>\n    <tr>\n      <th>67</th>\n      <td>NIVEA Perfect &amp; Radiant Even Tone Day And Nigh...</td>\n      <td>Health &amp; Beauty</td>\n      <td>887.0</td>\n      <td>1560.0</td>\n      <td>0.43</td>\n      <td>4.5</td>\n      <td>2283.0</td>\n    </tr>\n    <tr>\n      <th>79</th>\n      <td>NIVEA MEN Deep Antibacterial Anti-Perspirant R...</td>\n      <td>Health &amp; Beauty</td>\n      <td>651.0</td>\n      <td>1040.0</td>\n      <td>0.37</td>\n      <td>4.6</td>\n      <td>670.0</td>\n    </tr>\n  </tbody>\n</table>\n</div>"
     },
     "execution_count": 320,
     "metadata": {},
     "output_type": "execute_result"
    }
   ],
   "source": [
    "# Check counts of products with rating at least 4.5\n",
    "top_rated_products_df = products_with_atleast_200_votes_df[products_with_atleast_200_votes_df['rating'] >= 4.5]\n",
    "top_rated_products_df"
   ],
   "metadata": {
    "collapsed": false,
    "ExecuteTime": {
     "end_time": "2024-03-13T16:06:58.337899Z",
     "start_time": "2024-03-13T16:06:58.249110Z"
    }
   },
   "id": "ce705bc978d2686a",
   "execution_count": 320
  },
  {
   "cell_type": "code",
   "outputs": [
    {
     "data": {
      "text/plain": "                                                name  rating   votes\n0     Garnier Vitamin C Booster Serum 30ml Twin Pack     4.6   489.0\n1               Maybelline Lasting Fix Setting Spray     4.5  1558.0\n2  Maybelline Fit Me Mattifying Primer Matte And ...     4.6   407.0\n3  Garnier Charcoal Serum With AHA+BHA 30ml Twin ...     4.5   233.0\n4  NIVEA Radiant & Beauty Advanced Care Lotion Fo...     4.7   699.0\n5  NIVEA Perfect & Radiant Even Tone Day And Nigh...     4.5  2283.0\n6  NIVEA MEN Deep Antibacterial Anti-Perspirant R...     4.6   670.0",
      "text/html": "<div>\n<style scoped>\n    .dataframe tbody tr th:only-of-type {\n        vertical-align: middle;\n    }\n\n    .dataframe tbody tr th {\n        vertical-align: top;\n    }\n\n    .dataframe thead th {\n        text-align: right;\n    }\n</style>\n<table border=\"1\" class=\"dataframe\">\n  <thead>\n    <tr style=\"text-align: right;\">\n      <th></th>\n      <th>name</th>\n      <th>rating</th>\n      <th>votes</th>\n    </tr>\n  </thead>\n  <tbody>\n    <tr>\n      <th>0</th>\n      <td>Garnier Vitamin C Booster Serum 30ml Twin Pack</td>\n      <td>4.6</td>\n      <td>489.0</td>\n    </tr>\n    <tr>\n      <th>1</th>\n      <td>Maybelline Lasting Fix Setting Spray</td>\n      <td>4.5</td>\n      <td>1558.0</td>\n    </tr>\n    <tr>\n      <th>2</th>\n      <td>Maybelline Fit Me Mattifying Primer Matte And ...</td>\n      <td>4.6</td>\n      <td>407.0</td>\n    </tr>\n    <tr>\n      <th>3</th>\n      <td>Garnier Charcoal Serum With AHA+BHA 30ml Twin ...</td>\n      <td>4.5</td>\n      <td>233.0</td>\n    </tr>\n    <tr>\n      <th>4</th>\n      <td>NIVEA Radiant &amp; Beauty Advanced Care Lotion Fo...</td>\n      <td>4.7</td>\n      <td>699.0</td>\n    </tr>\n    <tr>\n      <th>5</th>\n      <td>NIVEA Perfect &amp; Radiant Even Tone Day And Nigh...</td>\n      <td>4.5</td>\n      <td>2283.0</td>\n    </tr>\n    <tr>\n      <th>6</th>\n      <td>NIVEA MEN Deep Antibacterial Anti-Perspirant R...</td>\n      <td>4.6</td>\n      <td>670.0</td>\n    </tr>\n  </tbody>\n</table>\n</div>"
     },
     "execution_count": 321,
     "metadata": {},
     "output_type": "execute_result"
    }
   ],
   "source": [
    "# Selecting only votes & rating column before plotting\n",
    "new_top_rated_products_df = top_rated_products_df[['name','rating', 'votes']].reset_index(drop=True)\n",
    "new_top_rated_products_df"
   ],
   "metadata": {
    "collapsed": false,
    "ExecuteTime": {
     "end_time": "2024-03-13T16:06:58.445391Z",
     "start_time": "2024-03-13T16:06:58.338837Z"
    }
   },
   "id": "1cb5e0f114f4db47",
   "execution_count": 321
  },
  {
   "cell_type": "code",
   "outputs": [
    {
     "data": {
      "text/plain": "<Figure size 1800x1000 with 1 Axes>",
      "image/png": "[encoded data removed]"
     },
     "metadata": {},
     "output_type": "display_data"
    }
   ],
   "source": [
    "# Creating a horizontal bar plot\n",
    "plt.figure(figsize=(18,10))\n",
    "\n",
    "plt.barh(new_top_rated_products_df['name'], new_top_rated_products_df['rating'])\n",
    "\n",
    "plt.title(\"Top-rated products with at least 4.5 stars and 200 Votes\")\n",
    "plt.ylabel(\"Product\", fontsize=7)\n",
    "plt.xlabel(\"Rating\")\n",
    "\n",
    "# Save the plot to file\n",
    "plt.savefig(\"../results/plots/2_products_4.5_stars_and_more_than_200_votes.png\",bbox_inches='tight',pad_inches=2)"
   ],
   "metadata": {
    "collapsed": false,
    "ExecuteTime": {
     "end_time": "2024-03-13T16:06:59.069922Z",
     "start_time": "2024-03-13T16:06:58.446339Z"
    }
   },
   "id": "ff51475d32badb4c",
   "execution_count": 322
  },
  {
   "cell_type": "markdown",
   "source": [
    "### Showing product price distribution: Histogram with Kernel density estimate (kde) curve"
   ],
   "metadata": {
    "collapsed": false
   },
   "id": "f48775ee5a56cbf9"
  },
  {
   "cell_type": "code",
   "outputs": [
    {
     "data": {
      "text/plain": "<Figure size 2000x500 with 1 Axes>",
      "image/png": "[encoded data removed]"
     },
     "metadata": {},
     "output_type": "display_data"
    }
   ],
   "source": [
    "plt.figure(figsize=(20, 5))\n",
    "sns.histplot(products_clean_df['new_price'], kde=True)\n",
    "plt.xlabel('Product Price')\n",
    "plt.xticks(np.arange(0, max(products_clean_df['new_price'])+1, 4000),rotation=90)\n",
    "plt.ylabel('Frequency')\n",
    "plt.title('Distribution of Product Prices')\n",
    "\n",
    "# Save the plot to file\n",
    "plt.savefig(\"../results/plots/3_product_prices_histogram_with_kernel_estimate_curve.png\",bbox_inches='tight',pad_inches=1)"
   ],
   "metadata": {
    "collapsed": false,
    "ExecuteTime": {
     "end_time": "2024-03-13T16:07:08.463965Z",
     "start_time": "2024-03-13T16:06:59.070976Z"
    }
   },
   "id": "1a8ed8fea776449c",
   "execution_count": 323
  },
  {
   "cell_type": "markdown",
   "source": [
    "### Visualizing discount distribution"
   ],
   "metadata": {
    "collapsed": false
   },
   "id": "e47baac3e17ef294"
  },
  {
   "cell_type": "code",
   "outputs": [
    {
     "data": {
      "text/plain": "<Figure size 640x480 with 1 Axes>",
      "image/png": "[encoded data removed]"
     },
     "metadata": {},
     "output_type": "display_data"
    }
   ],
   "source": [
    "sns.histplot(products_clean_df['discount'])\n",
    "plt.xlabel('Discount')\n",
    "# plt.xticks(np.arange(0,max(products_clean_df['discount'])+1,0.5),rotation=90)\n",
    "plt.xticks(rotation=90)\n",
    "plt.ylabel('Frequency')\n",
    "plt.title('Distribution of Discounts')\n",
    "\n",
    "# Save the plot to file\n",
    "plt.savefig(\"../results/plots/4_product_discount_histogram.png\",bbox_inches='tight',pad_inches=1)"
   ],
   "metadata": {
    "collapsed": false,
    "ExecuteTime": {
     "end_time": "2024-03-13T16:07:08.851277Z",
     "start_time": "2024-03-13T16:07:08.465033Z"
    }
   },
   "id": "84229f6f3aff5d42",
   "execution_count": 324
  },
  {
   "cell_type": "markdown",
   "source": [
    "### Visualizing rating distribution"
   ],
   "metadata": {
    "collapsed": false
   },
   "id": "d5369e7fc06e2b39"
  },
  {
   "cell_type": "code",
   "outputs": [
    {
     "data": {
      "text/plain": "<Figure size 640x480 with 1 Axes>",
      "image/png": "[encoded data removed]"
     },
     "metadata": {},
     "output_type": "display_data"
    }
   ],
   "source": [
    "sns.histplot(data=products_clean_df, x='rating')\n",
    "plt.title('Distribution of Ratings')\n",
    "plt.xticks(np.arange(1.0, max(products_clean_df['rating'])+1, 0.1),rotation=90,fontsize=8)\n",
    "plt.ylabel(\"Frequency\")\n",
    "\n",
    "# Save plot to file\n",
    "plt.savefig(\"../results/plots/5_ratings_distribution_histogram.png\", bbox_inches=\"tight\", pad_inches=1)"
   ],
   "metadata": {
    "collapsed": false,
    "ExecuteTime": {
     "end_time": "2024-03-13T16:07:09.663891Z",
     "start_time": "2024-03-13T16:07:08.852253Z"
    }
   },
   "id": "e61cbba61b0befce",
   "execution_count": 325
  },
  {
   "cell_type": "markdown",
   "source": [
    "### Product Name Analysis"
   ],
   "metadata": {
    "collapsed": false
   },
   "id": "9375212852407a76"
  },
  {
   "cell_type": "code",
   "outputs": [
    {
     "data": {
      "text/plain": "[('Fashion', 553),\n ('For', 240),\n ('-', 234),\n ('With', 122),\n ('Men', 108),\n ('Black', 105),\n ('&', 103),\n ('Women', 102),\n ('for', 95),\n ('Cover', 89)]"
     },
     "execution_count": 326,
     "metadata": {},
     "output_type": "execute_result"
    }
   ],
   "source": [
    "words = ' '.join(products_clean_df['name']).split()\n",
    "all_words = Counter(words)\n",
    "# len(all_words)  # 4580\n",
    "\n",
    "# Returning an array of tuples with all_words & their counts, then return first 10\n",
    "all_words_counts = all_words.most_common()\n",
    "all_words_counts[:10]"
   ],
   "metadata": {
    "collapsed": false,
    "ExecuteTime": {
     "end_time": "2024-03-13T16:07:09.674974Z",
     "start_time": "2024-03-13T16:07:09.664918Z"
    }
   },
   "id": "b85078639df6b0aa",
   "execution_count": 326
  },
  {
   "cell_type": "code",
   "outputs": [
    {
     "data": {
      "text/plain": "[('Fashion', 553),\n ('For', 240),\n ('With', 122),\n ('Men', 108),\n ('Black', 105),\n ('Women', 102),\n ('for', 95),\n ('Cover', 89),\n ('Set', 87),\n ('Hair', 76)]"
     },
     "execution_count": 327,
     "metadata": {},
     "output_type": "execute_result"
    }
   ],
   "source": [
    "# Return only the alphabetical elements & their counts, & return the first 10\n",
    "only_alpha_words_list = [(word, count) for word, count in all_words_counts if word.isalpha()]\n",
    "only_alpha_words_list[:10]"
   ],
   "metadata": {
    "collapsed": false,
    "ExecuteTime": {
     "end_time": "2024-03-13T16:07:09.723939Z",
     "start_time": "2024-03-13T16:07:09.676224Z"
    }
   },
   "id": "e25f16d6713263ce",
   "execution_count": 327
  },
  {
   "cell_type": "code",
   "outputs": [
    {
     "data": {
      "text/plain": "[('Fashion', 553),\n ('For', 240),\n ('With', 122),\n ('Men', 108),\n ('Black', 105),\n ('Women', 102),\n ('for', 95),\n ('Cover', 89),\n ('Set', 87),\n ('Hair', 76),\n ('And', 71),\n ('Case', 71),\n ('Light', 70),\n ('Watch', 68),\n ('Leather', 66),\n ('Bag', 65),\n ('Car', 63),\n ('Soft', 62),\n ('Casual', 62),\n ('Wireless', 58),\n ('Ladies', 58),\n ('LED', 55),\n ('Shoes', 55),\n ('Phone', 55),\n ('Mini', 54),\n ('Bluetooth', 52),\n ('Baby', 48),\n ('High', 48),\n ('USB', 48),\n ('Cotton', 47),\n ('Oil', 46)]"
     },
     "execution_count": 328,
     "metadata": {},
     "output_type": "execute_result"
    }
   ],
   "source": [
    "# Select the top 30 words\n",
    "first_30_words = only_alpha_words_list[:31]\n",
    "first_30_words\n",
    "\n",
    "# Future: Use library to remove conjuctions such as 'and' from this list"
   ],
   "metadata": {
    "collapsed": false,
    "ExecuteTime": {
     "end_time": "2024-03-13T16:07:09.897947Z",
     "start_time": "2024-03-13T16:07:09.724959Z"
    }
   },
   "id": "436ffa3e366aa11a",
   "execution_count": 328
  },
  {
   "cell_type": "code",
   "outputs": [
    {
     "data": {
      "text/plain": "<Figure size 640x480 with 1 Axes>",
      "image/png": "[encoded data removed]"
     },
     "metadata": {},
     "output_type": "display_data"
    }
   ],
   "source": [
    "# Plot a chart with the first 30 words\n",
    "plt.bar([d[0] for d in first_30_words], [d[1] for d in first_30_words])\n",
    "plt.xlabel(\"Product names\")\n",
    "plt.xticks(rotation=90)\n",
    "plt.ylabel(\"Counts\")\n",
    "plt.title(\"Bar chart of Product Names & Values\")\n",
    "\n",
    "# Save plot to file\n",
    "plt.savefig(\"../results/plots/6_barchart_top_30_product_names_counts.png\", bbox_inches=\"tight\", pad_inches=1)"
   ],
   "metadata": {
    "collapsed": false,
    "ExecuteTime": {
     "end_time": "2024-03-13T16:07:10.542160Z",
     "start_time": "2024-03-13T16:07:09.901534Z"
    }
   },
   "id": "35886ec280671d34",
   "execution_count": 329
  },
  {
   "cell_type": "markdown",
   "source": [
    "### Creating pairplot showing relationship between various numerical columns"
   ],
   "metadata": {
    "collapsed": false
   },
   "id": "1761542f42f8746b"
  },
  {
   "cell_type": "code",
   "outputs": [
    {
     "data": {
      "text/plain": "<Figure size 1250x1250 with 30 Axes>",
      "image/png": "[encoded data removed]"
     },
     "metadata": {},
     "output_type": "display_data"
    }
   ],
   "source": [
    "sns.pairplot(products_clean_df)\n",
    "plt.suptitle('Pair Plot of Numerical Features', y=1.02)\n",
    "\n",
    "# Save to file\n",
    "plt.savefig(\"../results/plots/7_pairplot_rltnships_between_all_numerical_columns.png\", bbox_inches=\"tight\", pad_inches=1)"
   ],
   "metadata": {
    "collapsed": false,
    "ExecuteTime": {
     "end_time": "2024-03-13T16:07:28.547366Z",
     "start_time": "2024-03-13T16:07:10.543527Z"
    }
   },
   "id": "ee549441690fda85",
   "execution_count": 330
  },
  {
   "cell_type": "code",
   "outputs": [],
   "source": [],
   "metadata": {
    "collapsed": false,
    "ExecuteTime": {
     "end_time": "2024-03-13T16:07:28.550398Z",
     "start_time": "2024-03-13T16:07:28.548498Z"
    }
   },
   "id": "793ba1e2db383cd6",
   "execution_count": 330
  }
 ],
 "metadata": {
  "kernelspec": {
   "display_name": "Python 3",
   "language": "python",
   "name": "python3"
  },
  "language_info": {
   "codemirror_mode": {
    "name": "ipython",
    "version": 2
   },
   "file_extension": ".py",
   "mimetype": "text/x-python",
   "name": "python",
   "nbconvert_exporter": "python",
   "pygments_lexer": "ipython2",
   "version": "2.7.6"
  }
 },
 "nbformat": 4,
 "nbformat_minor": 5
}
